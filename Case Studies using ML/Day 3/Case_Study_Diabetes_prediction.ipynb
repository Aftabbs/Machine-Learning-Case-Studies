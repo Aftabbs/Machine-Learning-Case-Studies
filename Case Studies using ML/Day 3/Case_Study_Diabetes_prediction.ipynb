{
 "cells": [
  {
   "cell_type": "code",
   "execution_count": 16,
   "metadata": {
    "executionInfo": {
     "elapsed": 889,
     "status": "ok",
     "timestamp": 1649152068226,
     "user": {
      "displayName": "Mahesh Anand",
      "userId": "06788086636039591358"
     },
     "user_tz": -330
    },
    "id": "N0jA_ShkTfIW"
   },
   "outputs": [],
   "source": [
    "%matplotlib inline\n",
    "import numpy as np\n",
    "import pandas as pd\n",
    "from sklearn.utils import resample\n",
    "from sklearn.tree import DecisionTreeClassifier\n",
    "from sklearn.ensemble import RandomForestClassifier,BaggingClassifier,AdaBoostClassifier,GradientBoostingClassifier,VotingClassifier\n",
    "from sklearn.linear_model import LogisticRegression\n",
    "from sklearn.naive_bayes import GaussianNB\n",
    "from sklearn.preprocessing import StandardScaler\n",
    "from sklearn.neighbors import KNeighborsClassifier\n",
    "from sklearn import model_selection\n",
    "from sklearn import metrics\n",
    "from sklearn.decomposition import PCA\n",
    "from scipy.stats import zscore\n",
    "import matplotlib.pyplot as plt "
   ]
  },
  {
   "cell_type": "code",
   "execution_count": 17,
   "metadata": {
    "executionInfo": {
     "elapsed": 2,
     "status": "ok",
     "timestamp": 1649152069962,
     "user": {
      "displayName": "Mahesh Anand",
      "userId": "06788086636039591358"
     },
     "user_tz": -330
    },
    "id": "Bo2reV2OzQGS"
   },
   "outputs": [],
   "source": [
    "import warnings\n",
    "warnings.filterwarnings(\"ignore\")"
   ]
  },
  {
   "cell_type": "code",
   "execution_count": 18,
   "metadata": {
    "colab": {
     "base_uri": "https://localhost:8080/"
    },
    "executionInfo": {
     "elapsed": 3121,
     "status": "ok",
     "timestamp": 1649152076813,
     "user": {
      "displayName": "Mahesh Anand",
      "userId": "06788086636039591358"
     },
     "user_tz": -330
    },
    "id": "bii0oDcOThcg",
    "outputId": "bf863aaa-00d2-4630-cb62-525adcad78b8"
   },
   "outputs": [
    {
     "name": "stdout",
     "output_type": "stream",
     "text": [
      "Drive already mounted at /content/drive; to attempt to forcibly remount, call drive.mount(\"/content/drive\", force_remount=True).\n"
     ]
    }
   ],
   "source": [
    "from google.colab import drive\n",
    "drive.mount('/content/drive')"
   ]
  },
  {
   "cell_type": "code",
   "execution_count": 5,
   "metadata": {
    "executionInfo": {
     "elapsed": 795,
     "status": "ok",
     "timestamp": 1649150002436,
     "user": {
      "displayName": "Mahesh Anand",
      "userId": "06788086636039591358"
     },
     "user_tz": -330
    },
    "id": "reYPLWJXTfIs"
   },
   "outputs": [],
   "source": [
    "colnames = ['preg', 'glu', 'bp', 'sft', 'ins', 'bmi', 'dpf', 'age', 'outcome']\n",
    "dataset = pd.read_csv(\"/content/drive/My Drive/Ensemble Techniques Mahesh Anand/prima-indians-diabetes.data\",names=colnames)"
   ]
  },
  {
   "cell_type": "code",
   "execution_count": null,
   "metadata": {
    "colab": {
     "base_uri": "https://localhost:8080/"
    },
    "executionInfo": {
     "elapsed": 4,
     "status": "ok",
     "timestamp": 1649141692972,
     "user": {
      "displayName": "Mahesh Anand",
      "userId": "06788086636039591358"
     },
     "user_tz": -330
    },
    "id": "veabfPhDMuiR",
    "outputId": "1e3edf95-9cc6-41d8-96d6-a3a4a0c64de8"
   },
   "outputs": [
    {
     "data": {
      "text/plain": [
       "0    500\n",
       "1    268\n",
       "Name: outcome, dtype: int64"
      ]
     },
     "execution_count": 5,
     "metadata": {},
     "output_type": "execute_result"
    }
   ],
   "source": [
    "dataset['outcome'].value_counts()"
   ]
  },
  {
   "cell_type": "code",
   "execution_count": null,
   "metadata": {
    "colab": {
     "base_uri": "https://localhost:8080/"
    },
    "executionInfo": {
     "elapsed": 370,
     "status": "ok",
     "timestamp": 1648363158889,
     "user": {
      "displayName": "Mahesh Anand",
      "photoUrl": "https://lh3.googleusercontent.com/a-/AOh14GgEjHTHmcE5H01IJo7KL2-QssgVKGBUBVq_Ch1n5Q=s64",
      "userId": "06788086636039591358"
     },
     "user_tz": -330
    },
    "id": "uu3TTOAQebGY",
    "outputId": "2557e15c-ebb7-404a-a9b0-fc12ee769e6b"
   },
   "outputs": [
    {
     "data": {
      "text/plain": [
       "0.3489583333333333"
      ]
     },
     "execution_count": 9,
     "metadata": {},
     "output_type": "execute_result"
    }
   ],
   "source": [
    "268/768"
   ]
  },
  {
   "cell_type": "code",
   "execution_count": null,
   "metadata": {
    "colab": {
     "base_uri": "https://localhost:8080/",
     "height": 206
    },
    "executionInfo": {
     "elapsed": 1480,
     "status": "ok",
     "timestamp": 1649141705139,
     "user": {
      "displayName": "Mahesh Anand",
      "userId": "06788086636039591358"
     },
     "user_tz": -330
    },
    "id": "GUoPyDkSR96N",
    "outputId": "d18aebec-08fd-4675-d1e4-5b283487be7c"
   },
   "outputs": [
    {
     "data": {
      "text/html": [
       "\n",
       "  <div id=\"df-4c394efb-0e90-4ae0-905f-9045cb2212bc\">\n",
       "    <div class=\"colab-df-container\">\n",
       "      <div>\n",
       "<style scoped>\n",
       "    .dataframe tbody tr th:only-of-type {\n",
       "        vertical-align: middle;\n",
       "    }\n",
       "\n",
       "    .dataframe tbody tr th {\n",
       "        vertical-align: top;\n",
       "    }\n",
       "\n",
       "    .dataframe thead th {\n",
       "        text-align: right;\n",
       "    }\n",
       "</style>\n",
       "<table border=\"1\" class=\"dataframe\">\n",
       "  <thead>\n",
       "    <tr style=\"text-align: right;\">\n",
       "      <th></th>\n",
       "      <th>preg</th>\n",
       "      <th>glu</th>\n",
       "      <th>bp</th>\n",
       "      <th>sft</th>\n",
       "      <th>ins</th>\n",
       "      <th>bmi</th>\n",
       "      <th>dpf</th>\n",
       "      <th>age</th>\n",
       "      <th>outcome</th>\n",
       "    </tr>\n",
       "  </thead>\n",
       "  <tbody>\n",
       "    <tr>\n",
       "      <th>0</th>\n",
       "      <td>6</td>\n",
       "      <td>148</td>\n",
       "      <td>72</td>\n",
       "      <td>35</td>\n",
       "      <td>0</td>\n",
       "      <td>33.6</td>\n",
       "      <td>0.627</td>\n",
       "      <td>50</td>\n",
       "      <td>1</td>\n",
       "    </tr>\n",
       "    <tr>\n",
       "      <th>1</th>\n",
       "      <td>1</td>\n",
       "      <td>85</td>\n",
       "      <td>66</td>\n",
       "      <td>29</td>\n",
       "      <td>0</td>\n",
       "      <td>26.6</td>\n",
       "      <td>0.351</td>\n",
       "      <td>31</td>\n",
       "      <td>0</td>\n",
       "    </tr>\n",
       "    <tr>\n",
       "      <th>2</th>\n",
       "      <td>8</td>\n",
       "      <td>183</td>\n",
       "      <td>64</td>\n",
       "      <td>0</td>\n",
       "      <td>0</td>\n",
       "      <td>23.3</td>\n",
       "      <td>0.672</td>\n",
       "      <td>32</td>\n",
       "      <td>1</td>\n",
       "    </tr>\n",
       "    <tr>\n",
       "      <th>3</th>\n",
       "      <td>1</td>\n",
       "      <td>89</td>\n",
       "      <td>66</td>\n",
       "      <td>23</td>\n",
       "      <td>94</td>\n",
       "      <td>28.1</td>\n",
       "      <td>0.167</td>\n",
       "      <td>21</td>\n",
       "      <td>0</td>\n",
       "    </tr>\n",
       "    <tr>\n",
       "      <th>4</th>\n",
       "      <td>0</td>\n",
       "      <td>137</td>\n",
       "      <td>40</td>\n",
       "      <td>35</td>\n",
       "      <td>168</td>\n",
       "      <td>43.1</td>\n",
       "      <td>2.288</td>\n",
       "      <td>33</td>\n",
       "      <td>1</td>\n",
       "    </tr>\n",
       "  </tbody>\n",
       "</table>\n",
       "</div>\n",
       "      <button class=\"colab-df-convert\" onclick=\"convertToInteractive('df-4c394efb-0e90-4ae0-905f-9045cb2212bc')\"\n",
       "              title=\"Convert this dataframe to an interactive table.\"\n",
       "              style=\"display:none;\">\n",
       "        \n",
       "  <svg xmlns=\"http://www.w3.org/2000/svg\" height=\"24px\"viewBox=\"0 0 24 24\"\n",
       "       width=\"24px\">\n",
       "    <path d=\"M0 0h24v24H0V0z\" fill=\"none\"/>\n",
       "    <path d=\"M18.56 5.44l.94 2.06.94-2.06 2.06-.94-2.06-.94-.94-2.06-.94 2.06-2.06.94zm-11 1L8.5 8.5l.94-2.06 2.06-.94-2.06-.94L8.5 2.5l-.94 2.06-2.06.94zm10 10l.94 2.06.94-2.06 2.06-.94-2.06-.94-.94-2.06-.94 2.06-2.06.94z\"/><path d=\"M17.41 7.96l-1.37-1.37c-.4-.4-.92-.59-1.43-.59-.52 0-1.04.2-1.43.59L10.3 9.45l-7.72 7.72c-.78.78-.78 2.05 0 2.83L4 21.41c.39.39.9.59 1.41.59.51 0 1.02-.2 1.41-.59l7.78-7.78 2.81-2.81c.8-.78.8-2.07 0-2.86zM5.41 20L4 18.59l7.72-7.72 1.47 1.35L5.41 20z\"/>\n",
       "  </svg>\n",
       "      </button>\n",
       "      \n",
       "  <style>\n",
       "    .colab-df-container {\n",
       "      display:flex;\n",
       "      flex-wrap:wrap;\n",
       "      gap: 12px;\n",
       "    }\n",
       "\n",
       "    .colab-df-convert {\n",
       "      background-color: #E8F0FE;\n",
       "      border: none;\n",
       "      border-radius: 50%;\n",
       "      cursor: pointer;\n",
       "      display: none;\n",
       "      fill: #1967D2;\n",
       "      height: 32px;\n",
       "      padding: 0 0 0 0;\n",
       "      width: 32px;\n",
       "    }\n",
       "\n",
       "    .colab-df-convert:hover {\n",
       "      background-color: #E2EBFA;\n",
       "      box-shadow: 0px 1px 2px rgba(60, 64, 67, 0.3), 0px 1px 3px 1px rgba(60, 64, 67, 0.15);\n",
       "      fill: #174EA6;\n",
       "    }\n",
       "\n",
       "    [theme=dark] .colab-df-convert {\n",
       "      background-color: #3B4455;\n",
       "      fill: #D2E3FC;\n",
       "    }\n",
       "\n",
       "    [theme=dark] .colab-df-convert:hover {\n",
       "      background-color: #434B5C;\n",
       "      box-shadow: 0px 1px 3px 1px rgba(0, 0, 0, 0.15);\n",
       "      filter: drop-shadow(0px 1px 2px rgba(0, 0, 0, 0.3));\n",
       "      fill: #FFFFFF;\n",
       "    }\n",
       "  </style>\n",
       "\n",
       "      <script>\n",
       "        const buttonEl =\n",
       "          document.querySelector('#df-4c394efb-0e90-4ae0-905f-9045cb2212bc button.colab-df-convert');\n",
       "        buttonEl.style.display =\n",
       "          google.colab.kernel.accessAllowed ? 'block' : 'none';\n",
       "\n",
       "        async function convertToInteractive(key) {\n",
       "          const element = document.querySelector('#df-4c394efb-0e90-4ae0-905f-9045cb2212bc');\n",
       "          const dataTable =\n",
       "            await google.colab.kernel.invokeFunction('convertToInteractive',\n",
       "                                                     [key], {});\n",
       "          if (!dataTable) return;\n",
       "\n",
       "          const docLinkHtml = 'Like what you see? Visit the ' +\n",
       "            '<a target=\"_blank\" href=https://colab.research.google.com/notebooks/data_table.ipynb>data table notebook</a>'\n",
       "            + ' to learn more about interactive tables.';\n",
       "          element.innerHTML = '';\n",
       "          dataTable['output_type'] = 'display_data';\n",
       "          await google.colab.output.renderOutput(dataTable, element);\n",
       "          const docLink = document.createElement('div');\n",
       "          docLink.innerHTML = docLinkHtml;\n",
       "          element.appendChild(docLink);\n",
       "        }\n",
       "      </script>\n",
       "    </div>\n",
       "  </div>\n",
       "  "
      ],
      "text/plain": [
       "   preg  glu  bp  sft  ins   bmi    dpf  age  outcome\n",
       "0     6  148  72   35    0  33.6  0.627   50        1\n",
       "1     1   85  66   29    0  26.6  0.351   31        0\n",
       "2     8  183  64    0    0  23.3  0.672   32        1\n",
       "3     1   89  66   23   94  28.1  0.167   21        0\n",
       "4     0  137  40   35  168  43.1  2.288   33        1"
      ]
     },
     "execution_count": 6,
     "metadata": {},
     "output_type": "execute_result"
    }
   ],
   "source": [
    "dataset.head()"
   ]
  },
  {
   "cell_type": "code",
   "execution_count": null,
   "metadata": {
    "colab": {
     "base_uri": "https://localhost:8080/",
     "height": 317
    },
    "executionInfo": {
     "elapsed": 503,
     "status": "ok",
     "timestamp": 1627281131308,
     "user": {
      "displayName": "Mahesh Anand",
      "photoUrl": "https://lh3.googleusercontent.com/a-/AOh14GgKd7FxLgzXO0MxUwypCgML3QfaeTdE0nT8cpHwLQ=s64",
      "userId": "06788086636039591358"
     },
     "user_tz": -330
    },
    "id": "2GIJMiI4g2jA",
    "outputId": "55253261-d40b-4b28-bd4e-54b7f467eee6"
   },
   "outputs": [
    {
     "data": {
      "text/html": [
       "<div>\n",
       "<style scoped>\n",
       "    .dataframe tbody tr th:only-of-type {\n",
       "        vertical-align: middle;\n",
       "    }\n",
       "\n",
       "    .dataframe tbody tr th {\n",
       "        vertical-align: top;\n",
       "    }\n",
       "\n",
       "    .dataframe thead th {\n",
       "        text-align: right;\n",
       "    }\n",
       "</style>\n",
       "<table border=\"1\" class=\"dataframe\">\n",
       "  <thead>\n",
       "    <tr style=\"text-align: right;\">\n",
       "      <th></th>\n",
       "      <th>preg</th>\n",
       "      <th>glu</th>\n",
       "      <th>bp</th>\n",
       "      <th>sft</th>\n",
       "      <th>ins</th>\n",
       "      <th>bmi</th>\n",
       "      <th>dpf</th>\n",
       "      <th>age</th>\n",
       "      <th>outcome</th>\n",
       "    </tr>\n",
       "  </thead>\n",
       "  <tbody>\n",
       "    <tr>\n",
       "      <th>count</th>\n",
       "      <td>768.000000</td>\n",
       "      <td>768.000000</td>\n",
       "      <td>768.000000</td>\n",
       "      <td>768.000000</td>\n",
       "      <td>768.000000</td>\n",
       "      <td>768.000000</td>\n",
       "      <td>768.000000</td>\n",
       "      <td>768.000000</td>\n",
       "      <td>768.000000</td>\n",
       "    </tr>\n",
       "    <tr>\n",
       "      <th>mean</th>\n",
       "      <td>3.845052</td>\n",
       "      <td>120.894531</td>\n",
       "      <td>69.105469</td>\n",
       "      <td>20.536458</td>\n",
       "      <td>79.799479</td>\n",
       "      <td>31.992578</td>\n",
       "      <td>0.471876</td>\n",
       "      <td>33.240885</td>\n",
       "      <td>0.348958</td>\n",
       "    </tr>\n",
       "    <tr>\n",
       "      <th>std</th>\n",
       "      <td>3.369578</td>\n",
       "      <td>31.972618</td>\n",
       "      <td>19.355807</td>\n",
       "      <td>15.952218</td>\n",
       "      <td>115.244002</td>\n",
       "      <td>7.884160</td>\n",
       "      <td>0.331329</td>\n",
       "      <td>11.760232</td>\n",
       "      <td>0.476951</td>\n",
       "    </tr>\n",
       "    <tr>\n",
       "      <th>min</th>\n",
       "      <td>0.000000</td>\n",
       "      <td>0.000000</td>\n",
       "      <td>0.000000</td>\n",
       "      <td>0.000000</td>\n",
       "      <td>0.000000</td>\n",
       "      <td>0.000000</td>\n",
       "      <td>0.078000</td>\n",
       "      <td>21.000000</td>\n",
       "      <td>0.000000</td>\n",
       "    </tr>\n",
       "    <tr>\n",
       "      <th>25%</th>\n",
       "      <td>1.000000</td>\n",
       "      <td>99.000000</td>\n",
       "      <td>62.000000</td>\n",
       "      <td>0.000000</td>\n",
       "      <td>0.000000</td>\n",
       "      <td>27.300000</td>\n",
       "      <td>0.243750</td>\n",
       "      <td>24.000000</td>\n",
       "      <td>0.000000</td>\n",
       "    </tr>\n",
       "    <tr>\n",
       "      <th>50%</th>\n",
       "      <td>3.000000</td>\n",
       "      <td>117.000000</td>\n",
       "      <td>72.000000</td>\n",
       "      <td>23.000000</td>\n",
       "      <td>30.500000</td>\n",
       "      <td>32.000000</td>\n",
       "      <td>0.372500</td>\n",
       "      <td>29.000000</td>\n",
       "      <td>0.000000</td>\n",
       "    </tr>\n",
       "    <tr>\n",
       "      <th>75%</th>\n",
       "      <td>6.000000</td>\n",
       "      <td>140.250000</td>\n",
       "      <td>80.000000</td>\n",
       "      <td>32.000000</td>\n",
       "      <td>127.250000</td>\n",
       "      <td>36.600000</td>\n",
       "      <td>0.626250</td>\n",
       "      <td>41.000000</td>\n",
       "      <td>1.000000</td>\n",
       "    </tr>\n",
       "    <tr>\n",
       "      <th>max</th>\n",
       "      <td>17.000000</td>\n",
       "      <td>199.000000</td>\n",
       "      <td>122.000000</td>\n",
       "      <td>99.000000</td>\n",
       "      <td>846.000000</td>\n",
       "      <td>67.100000</td>\n",
       "      <td>2.420000</td>\n",
       "      <td>81.000000</td>\n",
       "      <td>1.000000</td>\n",
       "    </tr>\n",
       "  </tbody>\n",
       "</table>\n",
       "</div>"
      ],
      "text/plain": [
       "             preg         glu          bp  ...         dpf         age     outcome\n",
       "count  768.000000  768.000000  768.000000  ...  768.000000  768.000000  768.000000\n",
       "mean     3.845052  120.894531   69.105469  ...    0.471876   33.240885    0.348958\n",
       "std      3.369578   31.972618   19.355807  ...    0.331329   11.760232    0.476951\n",
       "min      0.000000    0.000000    0.000000  ...    0.078000   21.000000    0.000000\n",
       "25%      1.000000   99.000000   62.000000  ...    0.243750   24.000000    0.000000\n",
       "50%      3.000000  117.000000   72.000000  ...    0.372500   29.000000    0.000000\n",
       "75%      6.000000  140.250000   80.000000  ...    0.626250   41.000000    1.000000\n",
       "max     17.000000  199.000000  122.000000  ...    2.420000   81.000000    1.000000\n",
       "\n",
       "[8 rows x 9 columns]"
      ]
     },
     "execution_count": 11,
     "metadata": {
      "tags": []
     },
     "output_type": "execute_result"
    }
   ],
   "source": [
    "dataset.describe()"
   ]
  },
  {
   "cell_type": "code",
   "execution_count": null,
   "metadata": {
    "colab": {
     "base_uri": "https://localhost:8080/",
     "height": 326
    },
    "executionInfo": {
     "elapsed": 1226,
     "status": "ok",
     "timestamp": 1599628405352,
     "user": {
      "displayName": "Mahesh Anand",
      "photoUrl": "https://lh3.googleusercontent.com/a-/AOh14GiAxRvO4nLPhI4SJLaIoUVmhr8lm1tddyCLyKOj=s64",
      "userId": "06788086636039591358"
     },
     "user_tz": -330
    },
    "id": "m-p9SFb9rQi7",
    "outputId": "fc799a75-1f00-4f24-d59e-b1ef1b5b8e50"
   },
   "outputs": [
    {
     "data": {
      "text/html": [
       "<div>\n",
       "<style scoped>\n",
       "    .dataframe tbody tr th:only-of-type {\n",
       "        vertical-align: middle;\n",
       "    }\n",
       "\n",
       "    .dataframe tbody tr th {\n",
       "        vertical-align: top;\n",
       "    }\n",
       "\n",
       "    .dataframe thead th {\n",
       "        text-align: right;\n",
       "    }\n",
       "</style>\n",
       "<table border=\"1\" class=\"dataframe\">\n",
       "  <thead>\n",
       "    <tr style=\"text-align: right;\">\n",
       "      <th></th>\n",
       "      <th>preg</th>\n",
       "      <th>glu</th>\n",
       "      <th>bp</th>\n",
       "      <th>sft</th>\n",
       "      <th>ins</th>\n",
       "      <th>bmi</th>\n",
       "      <th>dpf</th>\n",
       "      <th>age</th>\n",
       "      <th>outcome</th>\n",
       "    </tr>\n",
       "  </thead>\n",
       "  <tbody>\n",
       "    <tr>\n",
       "      <th>preg</th>\n",
       "      <td>1.000000</td>\n",
       "      <td>0.129459</td>\n",
       "      <td>0.141282</td>\n",
       "      <td>-0.081672</td>\n",
       "      <td>-0.073535</td>\n",
       "      <td>0.017683</td>\n",
       "      <td>-0.033523</td>\n",
       "      <td>0.544341</td>\n",
       "      <td>0.221898</td>\n",
       "    </tr>\n",
       "    <tr>\n",
       "      <th>glu</th>\n",
       "      <td>0.129459</td>\n",
       "      <td>1.000000</td>\n",
       "      <td>0.152590</td>\n",
       "      <td>0.057328</td>\n",
       "      <td>0.331357</td>\n",
       "      <td>0.221071</td>\n",
       "      <td>0.137337</td>\n",
       "      <td>0.263514</td>\n",
       "      <td>0.466581</td>\n",
       "    </tr>\n",
       "    <tr>\n",
       "      <th>bp</th>\n",
       "      <td>0.141282</td>\n",
       "      <td>0.152590</td>\n",
       "      <td>1.000000</td>\n",
       "      <td>0.207371</td>\n",
       "      <td>0.088933</td>\n",
       "      <td>0.281805</td>\n",
       "      <td>0.041265</td>\n",
       "      <td>0.239528</td>\n",
       "      <td>0.065068</td>\n",
       "    </tr>\n",
       "    <tr>\n",
       "      <th>sft</th>\n",
       "      <td>-0.081672</td>\n",
       "      <td>0.057328</td>\n",
       "      <td>0.207371</td>\n",
       "      <td>1.000000</td>\n",
       "      <td>0.436783</td>\n",
       "      <td>0.392573</td>\n",
       "      <td>0.183928</td>\n",
       "      <td>-0.113970</td>\n",
       "      <td>0.074752</td>\n",
       "    </tr>\n",
       "    <tr>\n",
       "      <th>ins</th>\n",
       "      <td>-0.073535</td>\n",
       "      <td>0.331357</td>\n",
       "      <td>0.088933</td>\n",
       "      <td>0.436783</td>\n",
       "      <td>1.000000</td>\n",
       "      <td>0.197859</td>\n",
       "      <td>0.185071</td>\n",
       "      <td>-0.042163</td>\n",
       "      <td>0.130548</td>\n",
       "    </tr>\n",
       "    <tr>\n",
       "      <th>bmi</th>\n",
       "      <td>0.017683</td>\n",
       "      <td>0.221071</td>\n",
       "      <td>0.281805</td>\n",
       "      <td>0.392573</td>\n",
       "      <td>0.197859</td>\n",
       "      <td>1.000000</td>\n",
       "      <td>0.140647</td>\n",
       "      <td>0.036242</td>\n",
       "      <td>0.292695</td>\n",
       "    </tr>\n",
       "    <tr>\n",
       "      <th>dpf</th>\n",
       "      <td>-0.033523</td>\n",
       "      <td>0.137337</td>\n",
       "      <td>0.041265</td>\n",
       "      <td>0.183928</td>\n",
       "      <td>0.185071</td>\n",
       "      <td>0.140647</td>\n",
       "      <td>1.000000</td>\n",
       "      <td>0.033561</td>\n",
       "      <td>0.173844</td>\n",
       "    </tr>\n",
       "    <tr>\n",
       "      <th>age</th>\n",
       "      <td>0.544341</td>\n",
       "      <td>0.263514</td>\n",
       "      <td>0.239528</td>\n",
       "      <td>-0.113970</td>\n",
       "      <td>-0.042163</td>\n",
       "      <td>0.036242</td>\n",
       "      <td>0.033561</td>\n",
       "      <td>1.000000</td>\n",
       "      <td>0.238356</td>\n",
       "    </tr>\n",
       "    <tr>\n",
       "      <th>outcome</th>\n",
       "      <td>0.221898</td>\n",
       "      <td>0.466581</td>\n",
       "      <td>0.065068</td>\n",
       "      <td>0.074752</td>\n",
       "      <td>0.130548</td>\n",
       "      <td>0.292695</td>\n",
       "      <td>0.173844</td>\n",
       "      <td>0.238356</td>\n",
       "      <td>1.000000</td>\n",
       "    </tr>\n",
       "  </tbody>\n",
       "</table>\n",
       "</div>"
      ],
      "text/plain": [
       "             preg       glu        bp  ...       dpf       age   outcome\n",
       "preg     1.000000  0.129459  0.141282  ... -0.033523  0.544341  0.221898\n",
       "glu      0.129459  1.000000  0.152590  ...  0.137337  0.263514  0.466581\n",
       "bp       0.141282  0.152590  1.000000  ...  0.041265  0.239528  0.065068\n",
       "sft     -0.081672  0.057328  0.207371  ...  0.183928 -0.113970  0.074752\n",
       "ins     -0.073535  0.331357  0.088933  ...  0.185071 -0.042163  0.130548\n",
       "bmi      0.017683  0.221071  0.281805  ...  0.140647  0.036242  0.292695\n",
       "dpf     -0.033523  0.137337  0.041265  ...  1.000000  0.033561  0.173844\n",
       "age      0.544341  0.263514  0.239528  ...  0.033561  1.000000  0.238356\n",
       "outcome  0.221898  0.466581  0.065068  ...  0.173844  0.238356  1.000000\n",
       "\n",
       "[9 rows x 9 columns]"
      ]
     },
     "execution_count": 7,
     "metadata": {
      "tags": []
     },
     "output_type": "execute_result"
    }
   ],
   "source": [
    "dataset.corr()"
   ]
  },
  {
   "cell_type": "code",
   "execution_count": 19,
   "metadata": {
    "executionInfo": {
     "elapsed": 465,
     "status": "ok",
     "timestamp": 1649152147663,
     "user": {
      "displayName": "Mahesh Anand",
      "userId": "06788086636039591358"
     },
     "user_tz": -330
    },
    "id": "6L01d-NX90XE"
   },
   "outputs": [],
   "source": [
    "X=dataset[['preg', 'glu', 'bp', 'sft', 'ins', 'bmi', 'dpf', 'age']]\n",
    "Y=dataset['outcome']"
   ]
  },
  {
   "cell_type": "code",
   "execution_count": 20,
   "metadata": {
    "executionInfo": {
     "elapsed": 513,
     "status": "ok",
     "timestamp": 1649152150198,
     "user": {
      "displayName": "Mahesh Anand",
      "userId": "06788086636039591358"
     },
     "user_tz": -330
    },
    "id": "MoEgBswCoF9b"
   },
   "outputs": [],
   "source": [
    "for i in np.arange(dataset.shape[0]):\n",
    "  if dataset['bp'][i]==0:\n",
    "    dataset['bp'][i]=72.0\n",
    "for i in np.arange(dataset.shape[0]):\n",
    "  if dataset['preg'][i]==0:\n",
    "    dataset['preg'][i]=3.0\n",
    "for i in np.arange(dataset.shape[0]):\n",
    "  if dataset['glu'][i]==0:\n",
    "    dataset['glu'][i]=117.0\n",
    "for i in np.arange(dataset.shape[0]):\n",
    "  if dataset['sft'][i]==0:\n",
    "    dataset['sft'][i]=23.0\n",
    "for i in np.arange(dataset.shape[0]):\n",
    "  if dataset['ins'][i]==0:\n",
    "    dataset['ins'][i]=30.5\n",
    "for i in np.arange(dataset.shape[0]):\n",
    "  if dataset['bmi'][i]==0:\n",
    "    dataset['bmi'][i]=32.0"
   ]
  },
  {
   "cell_type": "code",
   "execution_count": 7,
   "metadata": {
    "colab": {
     "base_uri": "https://localhost:8080/"
    },
    "executionInfo": {
     "elapsed": 4,
     "status": "ok",
     "timestamp": 1649146753946,
     "user": {
      "displayName": "Mahesh Anand",
      "userId": "06788086636039591358"
     },
     "user_tz": -330
    },
    "id": "S15ZCDZjMVso",
    "outputId": "e2560f58-e5fe-4059-9469-6cdec70e2931"
   },
   "outputs": [
    {
     "data": {
      "text/plain": [
       "((268, 9), (500, 9))"
      ]
     },
     "execution_count": 7,
     "metadata": {},
     "output_type": "execute_result"
    }
   ],
   "source": [
    "D=dataset.groupby('outcome')\n",
    "d1=D.get_group(1)\n",
    "d2=D.get_group(0)\n",
    "d1.shape,d2.shape"
   ]
  },
  {
   "cell_type": "code",
   "execution_count": 8,
   "metadata": {
    "executionInfo": {
     "elapsed": 322,
     "status": "ok",
     "timestamp": 1649146757884,
     "user": {
      "displayName": "Mahesh Anand",
      "userId": "06788086636039591358"
     },
     "user_tz": -330
    },
    "id": "Yd_qm03IM-rz"
   },
   "outputs": [],
   "source": [
    "from scipy.stats import ttest_ind"
   ]
  },
  {
   "cell_type": "code",
   "execution_count": 9,
   "metadata": {
    "colab": {
     "base_uri": "https://localhost:8080/"
    },
    "executionInfo": {
     "elapsed": 9,
     "status": "ok",
     "timestamp": 1649146758843,
     "user": {
      "displayName": "Mahesh Anand",
      "userId": "06788086636039591358"
     },
     "user_tz": -330
    },
    "id": "lJLOqcnrM27e",
    "outputId": "28bc2361-ad6b-4581-8778-a900de02d48e"
   },
   "outputs": [
    {
     "name": "stdout",
     "output_type": "stream",
     "text": [
      "5.300704818649035e-12\n",
      "3.1287190418423694e-48\n",
      "3.8908354906479115e-06\n",
      "1.3011814339570038e-07\n",
      "3.7594489993751756e-05\n",
      "7.879147621569232e-19\n",
      "1.254607010148809e-06\n",
      "2.2099754606654358e-11\n"
     ]
    }
   ],
   "source": [
    "for col in X.columns:\n",
    "  t_stat,p_val=ttest_ind(d1[col],d2[col])\n",
    "  print(p_val)"
   ]
  },
  {
   "cell_type": "code",
   "execution_count": null,
   "metadata": {
    "colab": {
     "base_uri": "https://localhost:8080/",
     "height": 203
    },
    "executionInfo": {
     "elapsed": 338,
     "status": "ok",
     "timestamp": 1630714937374,
     "user": {
      "displayName": "Mahesh Anand",
      "photoUrl": "https://lh3.googleusercontent.com/a-/AOh14Ghy47CXBCGfpGm71ElmYPDEY5c3AQB5tdq4ROpemw=s64",
      "userId": "06788086636039591358"
     },
     "user_tz": -330
    },
    "id": "SIzKT2EoK2v9",
    "outputId": "6086a8dd-1684-4348-9a6e-1218e56b2c38"
   },
   "outputs": [
    {
     "data": {
      "text/html": [
       "<div>\n",
       "<style scoped>\n",
       "    .dataframe tbody tr th:only-of-type {\n",
       "        vertical-align: middle;\n",
       "    }\n",
       "\n",
       "    .dataframe tbody tr th {\n",
       "        vertical-align: top;\n",
       "    }\n",
       "\n",
       "    .dataframe thead th {\n",
       "        text-align: right;\n",
       "    }\n",
       "</style>\n",
       "<table border=\"1\" class=\"dataframe\">\n",
       "  <thead>\n",
       "    <tr style=\"text-align: right;\">\n",
       "      <th></th>\n",
       "      <th>preg</th>\n",
       "      <th>glu</th>\n",
       "      <th>bp</th>\n",
       "      <th>sft</th>\n",
       "      <th>ins</th>\n",
       "      <th>bmi</th>\n",
       "      <th>dpf</th>\n",
       "      <th>age</th>\n",
       "    </tr>\n",
       "  </thead>\n",
       "  <tbody>\n",
       "    <tr>\n",
       "      <th>488</th>\n",
       "      <td>4</td>\n",
       "      <td>99</td>\n",
       "      <td>72</td>\n",
       "      <td>17</td>\n",
       "      <td>30</td>\n",
       "      <td>25.6</td>\n",
       "      <td>0.294</td>\n",
       "      <td>28</td>\n",
       "    </tr>\n",
       "    <tr>\n",
       "      <th>72</th>\n",
       "      <td>13</td>\n",
       "      <td>126</td>\n",
       "      <td>90</td>\n",
       "      <td>23</td>\n",
       "      <td>30</td>\n",
       "      <td>43.4</td>\n",
       "      <td>0.583</td>\n",
       "      <td>42</td>\n",
       "    </tr>\n",
       "    <tr>\n",
       "      <th>610</th>\n",
       "      <td>3</td>\n",
       "      <td>106</td>\n",
       "      <td>54</td>\n",
       "      <td>21</td>\n",
       "      <td>158</td>\n",
       "      <td>30.9</td>\n",
       "      <td>0.292</td>\n",
       "      <td>24</td>\n",
       "    </tr>\n",
       "    <tr>\n",
       "      <th>410</th>\n",
       "      <td>6</td>\n",
       "      <td>102</td>\n",
       "      <td>90</td>\n",
       "      <td>39</td>\n",
       "      <td>30</td>\n",
       "      <td>35.7</td>\n",
       "      <td>0.674</td>\n",
       "      <td>28</td>\n",
       "    </tr>\n",
       "    <tr>\n",
       "      <th>716</th>\n",
       "      <td>3</td>\n",
       "      <td>173</td>\n",
       "      <td>78</td>\n",
       "      <td>39</td>\n",
       "      <td>185</td>\n",
       "      <td>33.8</td>\n",
       "      <td>0.970</td>\n",
       "      <td>31</td>\n",
       "    </tr>\n",
       "  </tbody>\n",
       "</table>\n",
       "</div>"
      ],
      "text/plain": [
       "     preg  glu  bp  sft  ins   bmi    dpf  age\n",
       "488     4   99  72   17   30  25.6  0.294   28\n",
       "72     13  126  90   23   30  43.4  0.583   42\n",
       "610     3  106  54   21  158  30.9  0.292   24\n",
       "410     6  102  90   39   30  35.7  0.674   28\n",
       "716     3  173  78   39  185  33.8  0.970   31"
      ]
     },
     "execution_count": 15,
     "metadata": {},
     "output_type": "execute_result"
    }
   ],
   "source": [
    "X.sample(5)"
   ]
  },
  {
   "cell_type": "code",
   "execution_count": null,
   "metadata": {
    "colab": {
     "base_uri": "https://localhost:8080/",
     "height": 318
    },
    "executionInfo": {
     "elapsed": 339,
     "status": "ok",
     "timestamp": 1630714844073,
     "user": {
      "displayName": "Mahesh Anand",
      "photoUrl": "https://lh3.googleusercontent.com/a-/AOh14Ghy47CXBCGfpGm71ElmYPDEY5c3AQB5tdq4ROpemw=s64",
      "userId": "06788086636039591358"
     },
     "user_tz": -330
    },
    "id": "j4YLC3VfLDC2",
    "outputId": "922fc867-2e0b-4f04-dbe6-22691165bfb2"
   },
   "outputs": [
    {
     "data": {
      "text/plain": [
       "<matplotlib.axes._subplots.AxesSubplot at 0x7f27a2051b50>"
      ]
     },
     "execution_count": 11,
     "metadata": {},
     "output_type": "execute_result"
    },
    {
     "data": {
      "image/png": "[encoded data removed]",
      "text/plain": [
       "<Figure size 432x288 with 1 Axes>"
      ]
     },
     "metadata": {
      "needs_background": "light"
     },
     "output_type": "display_data"
    }
   ],
   "source": [
    "dataset.boxplot(column='glu',by='outcome')"
   ]
  },
  {
   "cell_type": "code",
   "execution_count": null,
   "metadata": {
    "colab": {
     "base_uri": "https://localhost:8080/",
     "height": 318
    },
    "executionInfo": {
     "elapsed": 365,
     "status": "ok",
     "timestamp": 1630714980007,
     "user": {
      "displayName": "Mahesh Anand",
      "photoUrl": "https://lh3.googleusercontent.com/a-/AOh14Ghy47CXBCGfpGm71ElmYPDEY5c3AQB5tdq4ROpemw=s64",
      "userId": "06788086636039591358"
     },
     "user_tz": -330
    },
    "id": "yXGycQWELjva",
    "outputId": "c91515c0-83fc-44ed-dc7d-1f91e0d69709"
   },
   "outputs": [
    {
     "data": {
      "text/plain": [
       "<matplotlib.axes._subplots.AxesSubplot at 0x7f27a19e5f50>"
      ]
     },
     "execution_count": 18,
     "metadata": {},
     "output_type": "execute_result"
    },
    {
     "data": {
      "image/png": "[encoded data removed]",
      "text/plain": [
       "<Figure size 432x288 with 1 Axes>"
      ]
     },
     "metadata": {
      "needs_background": "light"
     },
     "output_type": "display_data"
    }
   ],
   "source": [
    "dataset.boxplot(column='bmi',by='outcome')"
   ]
  },
  {
   "cell_type": "code",
   "execution_count": 21,
   "metadata": {
    "executionInfo": {
     "elapsed": 499,
     "status": "ok",
     "timestamp": 1649152159846,
     "user": {
      "displayName": "Mahesh Anand",
      "userId": "06788086636039591358"
     },
     "user_tz": -330
    },
    "id": "kEVvZIsZwiY_"
   },
   "outputs": [],
   "source": [
    "sc=StandardScaler()\n",
    "X_std=sc.fit_transform(X)"
   ]
  },
  {
   "cell_type": "code",
   "execution_count": null,
   "metadata": {
    "colab": {
     "base_uri": "https://localhost:8080/"
    },
    "executionInfo": {
     "elapsed": 324,
     "status": "ok",
     "timestamp": 1648363638260,
     "user": {
      "displayName": "Mahesh Anand",
      "photoUrl": "https://lh3.googleusercontent.com/a-/AOh14GgEjHTHmcE5H01IJo7KL2-QssgVKGBUBVq_Ch1n5Q=s64",
      "userId": "06788086636039591358"
     },
     "user_tz": -330
    },
    "id": "m6bWBA7GxcBu",
    "outputId": "2e59ffee-bb56-4a29-8e38-7846d7b8ab33"
   },
   "outputs": [
    {
     "data": {
      "text/plain": [
       "(768, 8)"
      ]
     },
     "execution_count": 18,
     "metadata": {},
     "output_type": "execute_result"
    }
   ],
   "source": [
    "X_std.shape"
   ]
  },
  {
   "cell_type": "code",
   "execution_count": null,
   "metadata": {
    "colab": {
     "base_uri": "https://localhost:8080/"
    },
    "executionInfo": {
     "elapsed": 343,
     "status": "ok",
     "timestamp": 1644145875299,
     "user": {
      "displayName": "Mahesh Anand",
      "photoUrl": "https://lh3.googleusercontent.com/a-/AOh14GjrgsRhu_m9R1mX1R2osLnbO2LcUFIvlC-8Zz6HBA=s64",
      "userId": "06788086636039591358"
     },
     "user_tz": -330
    },
    "id": "pAbg4B2X4koj",
    "outputId": "4eb55c71-59f4-45a7-88b8-0c8668531435"
   },
   "outputs": [
    {
     "data": {
      "text/plain": [
       "(8, 8)"
      ]
     },
     "execution_count": 48,
     "metadata": {},
     "output_type": "execute_result"
    }
   ],
   "source": [
    "cov_matrix = np.cov(X_std.T)\n",
    "cov_matrix.shape"
   ]
  },
  {
   "cell_type": "code",
   "execution_count": null,
   "metadata": {
    "colab": {
     "base_uri": "https://localhost:8080/"
    },
    "executionInfo": {
     "elapsed": 335,
     "status": "ok",
     "timestamp": 1644145879071,
     "user": {
      "displayName": "Mahesh Anand",
      "photoUrl": "https://lh3.googleusercontent.com/a-/AOh14GjrgsRhu_m9R1mX1R2osLnbO2LcUFIvlC-8Zz6HBA=s64",
      "userId": "06788086636039591358"
     },
     "user_tz": -330
    },
    "id": "WnEyJOLBAmpp",
    "outputId": "1540b839-aa82-4dd7-c4cf-01cee5d51e25"
   },
   "outputs": [
    {
     "data": {
      "text/plain": [
       "array([[-0.1284321 , -0.59378583, -0.58879003,  0.11784098, -0.19359817,\n",
       "         0.47560573, -0.08069115,  0.01308692],\n",
       "       [-0.39308257, -0.17402908, -0.06015291,  0.45035526, -0.09416176,\n",
       "        -0.46632804,  0.40432871, -0.46792282],\n",
       "       [-0.36000261, -0.18389207, -0.19211793, -0.01129554,  0.6341159 ,\n",
       "        -0.32795306, -0.05598649,  0.53549442],\n",
       "       [-0.43982428,  0.33196534,  0.28221253,  0.5662838 , -0.00958944,\n",
       "         0.48786206, -0.03797608,  0.2376738 ],\n",
       "       [-0.43502617,  0.25078106, -0.13200992, -0.54862138,  0.27065061,\n",
       "         0.34693481,  0.34994376, -0.33670893],\n",
       "       [-0.45194134,  0.1009598 , -0.03536644, -0.34151764, -0.68537218,\n",
       "        -0.25320376, -0.05364595,  0.36186463],\n",
       "       [-0.27061144,  0.122069  , -0.08609107, -0.00825873,  0.08578409,\n",
       "        -0.11981049, -0.8336801 , -0.43318905],\n",
       "       [-0.19802707, -0.62058853,  0.71208542, -0.21166198,  0.03335717,\n",
       "         0.10928996, -0.0712006 , -0.07524755]])"
      ]
     },
     "execution_count": 49,
     "metadata": {},
     "output_type": "execute_result"
    }
   ],
   "source": [
    "eig_vals, eig_vecs = np.linalg.eig(cov_matrix)\n",
    "eig_vecs"
   ]
  },
  {
   "cell_type": "code",
   "execution_count": null,
   "metadata": {
    "colab": {
     "base_uri": "https://localhost:8080/"
    },
    "executionInfo": {
     "elapsed": 12,
     "status": "ok",
     "timestamp": 1644145906020,
     "user": {
      "displayName": "Mahesh Anand",
      "photoUrl": "https://lh3.googleusercontent.com/a-/AOh14GjrgsRhu_m9R1mX1R2osLnbO2LcUFIvlC-8Zz6HBA=s64",
      "userId": "06788086636039591358"
     },
     "user_tz": -330
    },
    "id": "XgFHMNJBAruM",
    "outputId": "b161dbc6-6541-40ff-ea92-64eb27dfdb11"
   },
   "outputs": [
    {
     "data": {
      "text/plain": [
       "array([-0.1284321 , -0.39308257, -0.36000261, -0.43982428, -0.43502617,\n",
       "       -0.45194134, -0.27061144, -0.19802707])"
      ]
     },
     "execution_count": 50,
     "metadata": {},
     "output_type": "execute_result"
    }
   ],
   "source": [
    "eig_vecs[:,0]"
   ]
  },
  {
   "cell_type": "code",
   "execution_count": null,
   "metadata": {
    "colab": {
     "base_uri": "https://localhost:8080/"
    },
    "executionInfo": {
     "elapsed": 347,
     "status": "ok",
     "timestamp": 1644145935591,
     "user": {
      "displayName": "Mahesh Anand",
      "photoUrl": "https://lh3.googleusercontent.com/a-/AOh14GjrgsRhu_m9R1mX1R2osLnbO2LcUFIvlC-8Zz6HBA=s64",
      "userId": "06788086636039591358"
     },
     "user_tz": -330
    },
    "id": "6s_Cy_sUBEW6",
    "outputId": "f619b6df-7521-4fd9-b097-def146ce1c7e"
   },
   "outputs": [
    {
     "data": {
      "text/plain": [
       "[(2.097110557994527,\n",
       "  array([-0.1284321 , -0.39308257, -0.36000261, -0.43982428, -0.43502617,\n",
       "         -0.45194134, -0.27061144, -0.19802707])),\n",
       " (1.7334672594471245,\n",
       "  array([-0.59378583, -0.17402908, -0.18389207,  0.33196534,  0.25078106,\n",
       "          0.1009598 ,  0.122069  , -0.62058853])),\n",
       " (0.42036352804956717,\n",
       "  array([-0.58879003, -0.06015291, -0.19211793,  0.28221253, -0.13200992,\n",
       "         -0.03536644, -0.08609107,  0.71208542])),\n",
       " (0.4049893778148991,\n",
       "  array([ 0.11784098,  0.45035526, -0.01129554,  0.5662838 , -0.54862138,\n",
       "         -0.34151764, -0.00825873, -0.21166198])),\n",
       " (0.6835183858447287,\n",
       "  array([-0.19359817, -0.09416176,  0.6341159 , -0.00958944,  0.27065061,\n",
       "         -0.68537218,  0.08578409,  0.03335717])),\n",
       " (0.7633383156496728,\n",
       "  array([ 0.47560573, -0.46632804, -0.32795306,  0.48786206,  0.34693481,\n",
       "         -0.25320376, -0.11981049,  0.10928996])),\n",
       " (0.8766705419094803,\n",
       "  array([-0.08069115,  0.40432871, -0.05598649, -0.03797608,  0.34994376,\n",
       "         -0.05364595, -0.8336801 , -0.0712006 ])),\n",
       " (1.0309722810083823,\n",
       "  array([ 0.01308692, -0.46792282,  0.53549442,  0.2376738 , -0.33670893,\n",
       "          0.36186463, -0.43318905, -0.07524755]))]"
      ]
     },
     "execution_count": 51,
     "metadata": {},
     "output_type": "execute_result"
    }
   ],
   "source": [
    "eigen_pairs = [(np.abs(eig_vals[i]), eig_vecs[ :, i]) for i in range(len(eig_vals))]\n",
    "eigen_pairs"
   ]
  },
  {
   "cell_type": "code",
   "execution_count": null,
   "metadata": {
    "colab": {
     "base_uri": "https://localhost:8080/"
    },
    "executionInfo": {
     "elapsed": 6,
     "status": "ok",
     "timestamp": 1644145970576,
     "user": {
      "displayName": "Mahesh Anand",
      "photoUrl": "https://lh3.googleusercontent.com/a-/AOh14GjrgsRhu_m9R1mX1R2osLnbO2LcUFIvlC-8Zz6HBA=s64",
      "userId": "06788086636039591358"
     },
     "user_tz": -330
    },
    "id": "_HVbaj21BSa6",
    "outputId": "61e56fe3-4a45-4a71-8723-bfa0b7d3d2b6"
   },
   "outputs": [
    {
     "data": {
      "text/plain": [
       "[(2.097110557994527,\n",
       "  array([-0.1284321 , -0.39308257, -0.36000261, -0.43982428, -0.43502617,\n",
       "         -0.45194134, -0.27061144, -0.19802707])),\n",
       " (1.7334672594471245,\n",
       "  array([-0.59378583, -0.17402908, -0.18389207,  0.33196534,  0.25078106,\n",
       "          0.1009598 ,  0.122069  , -0.62058853])),\n",
       " (1.0309722810083823,\n",
       "  array([ 0.01308692, -0.46792282,  0.53549442,  0.2376738 , -0.33670893,\n",
       "          0.36186463, -0.43318905, -0.07524755])),\n",
       " (0.8766705419094803,\n",
       "  array([-0.08069115,  0.40432871, -0.05598649, -0.03797608,  0.34994376,\n",
       "         -0.05364595, -0.8336801 , -0.0712006 ])),\n",
       " (0.7633383156496728,\n",
       "  array([ 0.47560573, -0.46632804, -0.32795306,  0.48786206,  0.34693481,\n",
       "         -0.25320376, -0.11981049,  0.10928996])),\n",
       " (0.6835183858447287,\n",
       "  array([-0.19359817, -0.09416176,  0.6341159 , -0.00958944,  0.27065061,\n",
       "         -0.68537218,  0.08578409,  0.03335717])),\n",
       " (0.42036352804956717,\n",
       "  array([-0.58879003, -0.06015291, -0.19211793,  0.28221253, -0.13200992,\n",
       "         -0.03536644, -0.08609107,  0.71208542])),\n",
       " (0.4049893778148991,\n",
       "  array([ 0.11784098,  0.45035526, -0.01129554,  0.5662838 , -0.54862138,\n",
       "         -0.34151764, -0.00825873, -0.21166198]))]"
      ]
     },
     "execution_count": 52,
     "metadata": {},
     "output_type": "execute_result"
    }
   ],
   "source": [
    "eigen_pairs_sorted=sorted(eigen_pairs,reverse=True)\n",
    "eigen_pairs_sorted"
   ]
  },
  {
   "cell_type": "code",
   "execution_count": null,
   "metadata": {
    "colab": {
     "base_uri": "https://localhost:8080/"
    },
    "executionInfo": {
     "elapsed": 362,
     "status": "ok",
     "timestamp": 1644146009896,
     "user": {
      "displayName": "Mahesh Anand",
      "photoUrl": "https://lh3.googleusercontent.com/a-/AOh14GjrgsRhu_m9R1mX1R2osLnbO2LcUFIvlC-8Zz6HBA=s64",
      "userId": "06788086636039591358"
     },
     "user_tz": -330
    },
    "id": "vP8nWGunvPhn",
    "outputId": "019959ab-2492-4f3a-a067-e3f2f63a202a"
   },
   "outputs": [
    {
     "data": {
      "text/plain": [
       "0.2617974931611006"
      ]
     },
     "execution_count": 53,
     "metadata": {},
     "output_type": "execute_result"
    }
   ],
   "source": [
    "2.097110557994527/np.sum(eig_vals)"
   ]
  },
  {
   "cell_type": "code",
   "execution_count": null,
   "metadata": {
    "colab": {
     "base_uri": "https://localhost:8080/"
    },
    "executionInfo": {
     "elapsed": 348,
     "status": "ok",
     "timestamp": 1644146028655,
     "user": {
      "displayName": "Mahesh Anand",
      "photoUrl": "https://lh3.googleusercontent.com/a-/AOh14GjrgsRhu_m9R1mX1R2osLnbO2LcUFIvlC-8Zz6HBA=s64",
      "userId": "06788086636039591358"
     },
     "user_tz": -330
    },
    "id": "IBxHwPSlvVAN",
    "outputId": "bfed2ec4-033d-4728-a051-b1f90dfd1d30"
   },
   "outputs": [
    {
     "data": {
      "text/plain": [
       "0.21640126757746497"
      ]
     },
     "execution_count": 54,
     "metadata": {},
     "output_type": "execute_result"
    }
   ],
   "source": [
    "1.7334672594471245/np.sum(eig_vals)"
   ]
  },
  {
   "cell_type": "code",
   "execution_count": null,
   "metadata": {
    "colab": {
     "base_uri": "https://localhost:8080/"
    },
    "executionInfo": {
     "elapsed": 524,
     "status": "ok",
     "timestamp": 1641722169690,
     "user": {
      "displayName": "Mahesh Anand",
      "photoUrl": "https://lh3.googleusercontent.com/a-/AOh14GjrgsRhu_m9R1mX1R2osLnbO2LcUFIvlC-8Zz6HBA=s64",
      "userId": "06788086636039591358"
     },
     "user_tz": -330
    },
    "id": "pJAWo7asQQht",
    "outputId": "e9b33244-069d-4805-e910-c6041fc8c244"
   },
   "outputs": [
    {
     "data": {
      "text/plain": [
       "0.047438151041666675"
      ]
     },
     "execution_count": 26,
     "metadata": {},
     "output_type": "execute_result"
    }
   ],
   "source": [
    "0.38/np.sum(eig_vals)"
   ]
  },
  {
   "cell_type": "code",
   "execution_count": null,
   "metadata": {
    "colab": {
     "base_uri": "https://localhost:8080/"
    },
    "executionInfo": {
     "elapsed": 515,
     "status": "ok",
     "timestamp": 1641722086853,
     "user": {
      "displayName": "Mahesh Anand",
      "photoUrl": "https://lh3.googleusercontent.com/a-/AOh14GjrgsRhu_m9R1mX1R2osLnbO2LcUFIvlC-8Zz6HBA=s64",
      "userId": "06788086636039591358"
     },
     "user_tz": -330
    },
    "id": "Zk13oIweQmon",
    "outputId": "7bbc32dc-533b-4a7a-dfd9-53a63cd450d1"
   },
   "outputs": [
    {
     "data": {
      "text/plain": [
       "61.300000000000004"
      ]
     },
     "execution_count": 25,
     "metadata": {},
     "output_type": "execute_result"
    }
   ],
   "source": [
    "27.8+19.9+13.6"
   ]
  },
  {
   "cell_type": "code",
   "execution_count": null,
   "metadata": {
    "colab": {
     "base_uri": "https://localhost:8080/"
    },
    "executionInfo": {
     "elapsed": 360,
     "status": "ok",
     "timestamp": 1627541324067,
     "user": {
      "displayName": "Mahesh Anand",
      "photoUrl": "https://lh3.googleusercontent.com/a-/AOh14GgKd7FxLgzXO0MxUwypCgML3QfaeTdE0nT8cpHwLQ=s64",
      "userId": "06788086636039591358"
     },
     "user_tz": -330
    },
    "id": "3W2mTShLBaQr",
    "outputId": "a01c5b65-7911-41c1-ee8b-1bb0a5a9ec58"
   },
   "outputs": [
    {
     "name": "stdout",
     "output_type": "stream",
     "text": [
      "Cumulative Variance Explained [ 27.871943    48.11267206  61.75779669  72.87328077  82.39919653\n",
      "  89.26456935  95.19571028 100.        ]\n"
     ]
    }
   ],
   "source": [
    "tot = sum(eig_vals)\n",
    "var_exp = [( i /tot ) * 100 for i in sorted(eig_vals, reverse=True)]\n",
    "cum_var_exp = np.cumsum(var_exp)\n",
    "print(\"Cumulative Variance Explained\", cum_var_exp)"
   ]
  },
  {
   "cell_type": "code",
   "execution_count": null,
   "metadata": {
    "id": "w4eb4d9CBacT"
   },
   "outputs": [],
   "source": [
    "# Extract the descending ordered eigenvalues and eigenvectors\n",
    "eigvalues_sort = [eigen_pairs_sorted[index][0] for index in range(len(eig_vals))]\n",
    "eigvectors_sort = [eigen_pairs_sorted[index][1] for index in range(len(eig_vals))]\n",
    "#Project data onto 2d "
   ]
  },
  {
   "cell_type": "code",
   "execution_count": null,
   "metadata": {
    "colab": {
     "base_uri": "https://localhost:8080/"
    },
    "executionInfo": {
     "elapsed": 1299,
     "status": "ok",
     "timestamp": 1641725057453,
     "user": {
      "displayName": "Mahesh Anand",
      "photoUrl": "https://lh3.googleusercontent.com/a-/AOh14GjrgsRhu_m9R1mX1R2osLnbO2LcUFIvlC-8Zz6HBA=s64",
      "userId": "06788086636039591358"
     },
     "user_tz": -330
    },
    "id": "aKW-SOWkCGR_",
    "outputId": "a89c7bfa-6ee6-4bc2-8062-9858b55e7e5b"
   },
   "outputs": [
    {
     "data": {
      "text/plain": [
       "array([[-0.1284321 , -0.59378583,  0.01308692, -0.08069115,  0.47560573,\n",
       "        -0.19359817],\n",
       "       [-0.39308257, -0.17402908, -0.46792282,  0.40432871, -0.46632804,\n",
       "        -0.09416176],\n",
       "       [-0.36000261, -0.18389207,  0.53549442, -0.05598649, -0.32795306,\n",
       "         0.6341159 ],\n",
       "       [-0.43982428,  0.33196534,  0.2376738 , -0.03797608,  0.48786206,\n",
       "        -0.00958944],\n",
       "       [-0.43502617,  0.25078106, -0.33670893,  0.34994376,  0.34693481,\n",
       "         0.27065061],\n",
       "       [-0.45194134,  0.1009598 ,  0.36186463, -0.05364595, -0.25320376,\n",
       "        -0.68537218],\n",
       "       [-0.27061144,  0.122069  , -0.43318905, -0.8336801 , -0.11981049,\n",
       "         0.08578409],\n",
       "       [-0.19802707, -0.62058853, -0.07524755, -0.0712006 ,  0.10928996,\n",
       "         0.03335717]])"
      ]
     },
     "execution_count": 55,
     "metadata": {},
     "output_type": "execute_result"
    }
   ],
   "source": [
    "P_reduce = np.array(eigvectors_sort[0:6]).transpose()\n",
    "P_reduce"
   ]
  },
  {
   "cell_type": "code",
   "execution_count": null,
   "metadata": {
    "colab": {
     "base_uri": "https://localhost:8080/"
    },
    "executionInfo": {
     "elapsed": 512,
     "status": "ok",
     "timestamp": 1641725062675,
     "user": {
      "displayName": "Mahesh Anand",
      "photoUrl": "https://lh3.googleusercontent.com/a-/AOh14GjrgsRhu_m9R1mX1R2osLnbO2LcUFIvlC-8Zz6HBA=s64",
      "userId": "06788086636039591358"
     },
     "user_tz": -330
    },
    "id": "F4NY9qWGCJH8",
    "outputId": "62696b01-0531-469a-e03c-7f0b3f3ba083"
   },
   "outputs": [
    {
     "data": {
      "text/plain": [
       "(768, 6)"
      ]
     },
     "execution_count": 56,
     "metadata": {},
     "output_type": "execute_result"
    }
   ],
   "source": [
    "# Let's project our feature space data into PC domain\n",
    "X_pca = np.dot(X_std,P_reduce) #768 x 8 DOT 8 x 5\n",
    "X_pca.shape"
   ]
  },
  {
   "cell_type": "code",
   "execution_count": 22,
   "metadata": {
    "executionInfo": {
     "elapsed": 647,
     "status": "ok",
     "timestamp": 1649152169621,
     "user": {
      "displayName": "Mahesh Anand",
      "userId": "06788086636039591358"
     },
     "user_tz": -330
    },
    "id": "tz6qxve8ZmGn"
   },
   "outputs": [],
   "source": [
    "from sklearn import model_selection"
   ]
  },
  {
   "cell_type": "code",
   "execution_count": 10,
   "metadata": {
    "executionInfo": {
     "elapsed": 2,
     "status": "ok",
     "timestamp": 1649150024570,
     "user": {
      "displayName": "Mahesh Anand",
      "userId": "06788086636039591358"
     },
     "user_tz": -330
    },
    "id": "kpeaU8CZams1"
   },
   "outputs": [],
   "source": [
    "model=LogisticRegression()"
   ]
  },
  {
   "cell_type": "code",
   "execution_count": 13,
   "metadata": {
    "colab": {
     "base_uri": "https://localhost:8080/"
    },
    "executionInfo": {
     "elapsed": 477,
     "status": "ok",
     "timestamp": 1649150114460,
     "user": {
      "displayName": "Mahesh Anand",
      "userId": "06788086636039591358"
     },
     "user_tz": -330
    },
    "id": "_0wIeEMAZmVC",
    "outputId": "4762e24f-f5e0-4a3c-d6bc-57c8ed2c35e6"
   },
   "outputs": [
    {
     "data": {
      "text/plain": [
       "(0.17006869143157094, 0.02980017051838834)"
      ]
     },
     "execution_count": 13,
     "metadata": {},
     "output_type": "execute_result"
    }
   ],
   "source": [
    "kf=model_selection.KFold(n_splits=5,shuffle=True,random_state=2)\n",
    "score=model_selection.cross_val_score(model,X_std,Y,cv=kf,scoring='roc_auc')\n",
    "np.mean(1-score),np.std(score,ddof=1)"
   ]
  },
  {
   "cell_type": "code",
   "execution_count": null,
   "metadata": {
    "id": "A6o_siiXAJVG"
   },
   "outputs": [],
   "source": []
  },
  {
   "cell_type": "code",
   "execution_count": 12,
   "metadata": {
    "colab": {
     "base_uri": "https://localhost:8080/",
     "height": 200
    },
    "executionInfo": {
     "elapsed": 5,
     "status": "error",
     "timestamp": 1649150029959,
     "user": {
      "displayName": "Mahesh Anand",
      "userId": "06788086636039591358"
     },
     "user_tz": -330
    },
    "id": "WEf2CRpYk9IF",
    "outputId": "28cd552a-7b6c-48f0-b63d-223a673f3934"
   },
   "outputs": [
    {
     "ename": "NameError",
     "evalue": "ignored",
     "output_type": "error",
     "traceback": [
      "\u001b[0;31m---------------------------------------------------------------------------\u001b[0m",
      "\u001b[0;31mNameError\u001b[0m                                 Traceback (most recent call last)",
      "\u001b[0;32m<ipython-input-12-3521d971dbd9>\u001b[0m in \u001b[0;36m<module>\u001b[0;34m()\u001b[0m\n\u001b[0;32m----> 1\u001b[0;31m \u001b[0mscore\u001b[0m\u001b[0;34m=\u001b[0m\u001b[0mmodel_selection\u001b[0m\u001b[0;34m.\u001b[0m\u001b[0mcross_val_score\u001b[0m\u001b[0;34m(\u001b[0m\u001b[0mmodel\u001b[0m\u001b[0;34m,\u001b[0m\u001b[0mX_pca\u001b[0m\u001b[0;34m,\u001b[0m\u001b[0mY\u001b[0m\u001b[0;34m,\u001b[0m\u001b[0mcv\u001b[0m\u001b[0;34m=\u001b[0m\u001b[0mkf\u001b[0m\u001b[0;34m,\u001b[0m\u001b[0mscoring\u001b[0m\u001b[0;34m=\u001b[0m\u001b[0;34m'roc_auc'\u001b[0m\u001b[0;34m)\u001b[0m\u001b[0;34m\u001b[0m\u001b[0;34m\u001b[0m\u001b[0m\n\u001b[0m\u001b[1;32m      2\u001b[0m \u001b[0mnp\u001b[0m\u001b[0;34m.\u001b[0m\u001b[0mmean\u001b[0m\u001b[0;34m(\u001b[0m\u001b[0;36m1\u001b[0m\u001b[0;34m-\u001b[0m\u001b[0mscore\u001b[0m\u001b[0;34m)\u001b[0m\u001b[0;34m,\u001b[0m\u001b[0mnp\u001b[0m\u001b[0;34m.\u001b[0m\u001b[0mstd\u001b[0m\u001b[0;34m(\u001b[0m\u001b[0mscore\u001b[0m\u001b[0;34m,\u001b[0m\u001b[0mddof\u001b[0m\u001b[0;34m=\u001b[0m\u001b[0;36m1\u001b[0m\u001b[0;34m)\u001b[0m\u001b[0;34m\u001b[0m\u001b[0;34m\u001b[0m\u001b[0m\n",
      "\u001b[0;31mNameError\u001b[0m: name 'X_pca' is not defined"
     ]
    }
   ],
   "source": [
    "score=model_selection.cross_val_score(model,X_pca,Y,cv=kf,scoring='roc_auc')\n",
    "np.mean(1-score),np.std(score,ddof=1)"
   ]
  },
  {
   "cell_type": "code",
   "execution_count": null,
   "metadata": {
    "colab": {
     "base_uri": "https://localhost:8080/"
    },
    "executionInfo": {
     "elapsed": 404,
     "status": "ok",
     "timestamp": 1627542092078,
     "user": {
      "displayName": "Mahesh Anand",
      "photoUrl": "https://lh3.googleusercontent.com/a-/AOh14GgKd7FxLgzXO0MxUwypCgML3QfaeTdE0nT8cpHwLQ=s64",
      "userId": "06788086636039591358"
     },
     "user_tz": -330
    },
    "id": "V0Ochd5pEO5z",
    "outputId": "60328ed1-ef32-48b4-f725-e3b0835eee1d"
   },
   "outputs": [
    {
     "data": {
      "text/plain": [
       "0.0355077718110661"
      ]
     },
     "execution_count": 44,
     "metadata": {
      "tags": []
     },
     "output_type": "execute_result"
    }
   ],
   "source": [
    "(0.02799976847776983-0.027005559087898496)/0.02799976847776983"
   ]
  },
  {
   "cell_type": "code",
   "execution_count": null,
   "metadata": {
    "colab": {
     "base_uri": "https://localhost:8080/"
    },
    "executionInfo": {
     "elapsed": 352,
     "status": "ok",
     "timestamp": 1644146665955,
     "user": {
      "displayName": "Mahesh Anand",
      "photoUrl": "https://lh3.googleusercontent.com/a-/AOh14GjrgsRhu_m9R1mX1R2osLnbO2LcUFIvlC-8Zz6HBA=s64",
      "userId": "06788086636039591358"
     },
     "user_tz": -330
    },
    "id": "jc3SHiEqEPK8",
    "outputId": "b211bef1-4766-4ab6-b26f-c2f4fa57bbb9"
   },
   "outputs": [
    {
     "data": {
      "text/plain": [
       "0.009103960740002302"
      ]
     },
     "execution_count": 55,
     "metadata": {},
     "output_type": "execute_result"
    }
   ],
   "source": [
    "(0.17006869143157094-0.16852039274167435)/0.17006869143157094"
   ]
  },
  {
   "cell_type": "code",
   "execution_count": null,
   "metadata": {
    "colab": {
     "base_uri": "https://localhost:8080/",
     "height": 103
    },
    "executionInfo": {
     "elapsed": 1213,
     "status": "ok",
     "timestamp": 1599635109807,
     "user": {
      "displayName": "Mahesh Anand",
      "photoUrl": "https://lh3.googleusercontent.com/a-/AOh14GiAxRvO4nLPhI4SJLaIoUVmhr8lm1tddyCLyKOj=s64",
      "userId": "06788086636039591358"
     },
     "user_tz": -330
    },
    "id": "ZSOccn7ZrmhY",
    "outputId": "eb72062b-0fdb-4c2c-c939-3e840a830a07"
   },
   "outputs": [
    {
     "data": {
      "text/plain": [
       "LogisticRegression(C=1.0, class_weight=None, dual=False, fit_intercept=True,\n",
       "                   intercept_scaling=1, l1_ratio=None, max_iter=100,\n",
       "                   multi_class='auto', n_jobs=None, penalty='l2',\n",
       "                   random_state=None, solver='lbfgs', tol=0.0001, verbose=0,\n",
       "                   warm_start=False)"
      ]
     },
     "execution_count": 74,
     "metadata": {
      "tags": []
     },
     "output_type": "execute_result"
    }
   ],
   "source": [
    "model.fit(X_std,Y)"
   ]
  },
  {
   "cell_type": "code",
   "execution_count": null,
   "metadata": {
    "colab": {
     "base_uri": "https://localhost:8080/",
     "height": 51
    },
    "executionInfo": {
     "elapsed": 1171,
     "status": "ok",
     "timestamp": 1599635334547,
     "user": {
      "displayName": "Mahesh Anand",
      "photoUrl": "https://lh3.googleusercontent.com/a-/AOh14GiAxRvO4nLPhI4SJLaIoUVmhr8lm1tddyCLyKOj=s64",
      "userId": "06788086636039591358"
     },
     "user_tz": -330
    },
    "id": "-3CQcwUQrr6B",
    "outputId": "b3cce3f2-a36e-4658-c8c5-22a4f7c2815a"
   },
   "outputs": [
    {
     "data": {
      "text/plain": [
       "array([[ 0.3429808 , -0.15318486,  0.22493077, -1.28821221, -0.69289057,\n",
       "        -0.81134119, -0.81807858, -0.27575966]])"
      ]
     },
     "execution_count": 79,
     "metadata": {
      "tags": []
     },
     "output_type": "execute_result"
    }
   ],
   "source": [
    "test=X_std[5,:]\n",
    "test_x=np.array([test])\n",
    "test_x"
   ]
  },
  {
   "cell_type": "code",
   "execution_count": null,
   "metadata": {
    "colab": {
     "base_uri": "https://localhost:8080/",
     "height": 34
    },
    "executionInfo": {
     "elapsed": 1066,
     "status": "ok",
     "timestamp": 1599635345872,
     "user": {
      "displayName": "Mahesh Anand",
      "photoUrl": "https://lh3.googleusercontent.com/a-/AOh14GiAxRvO4nLPhI4SJLaIoUVmhr8lm1tddyCLyKOj=s64",
      "userId": "06788086636039591358"
     },
     "user_tz": -330
    },
    "id": "-ku62Oe3si_8",
    "outputId": "a260620c-c751-42f4-c012-d22c85162459"
   },
   "outputs": [
    {
     "data": {
      "text/plain": [
       "array([0])"
      ]
     },
     "execution_count": 80,
     "metadata": {
      "tags": []
     },
     "output_type": "execute_result"
    }
   ],
   "source": [
    "model.predict(test_x)"
   ]
  },
  {
   "cell_type": "code",
   "execution_count": null,
   "metadata": {
    "colab": {
     "base_uri": "https://localhost:8080/",
     "height": 34
    },
    "executionInfo": {
     "elapsed": 1417,
     "status": "ok",
     "timestamp": 1599634736621,
     "user": {
      "displayName": "Mahesh Anand",
      "photoUrl": "https://lh3.googleusercontent.com/a-/AOh14GiAxRvO4nLPhI4SJLaIoUVmhr8lm1tddyCLyKOj=s64",
      "userId": "06788086636039591358"
     },
     "user_tz": -330
    },
    "id": "_6FwlbYrZmi2",
    "outputId": "0f19e7e8-7e0c-45a6-83a1-ffc9e370d6f4"
   },
   "outputs": [
    {
     "name": "stdout",
     "output_type": "stream",
     "text": [
      "Bias_error 0.1689601677148847\n"
     ]
    }
   ],
   "source": [
    "print('Bias_error',np.mean(1-score))"
   ]
  },
  {
   "cell_type": "code",
   "execution_count": null,
   "metadata": {
    "colab": {
     "base_uri": "https://localhost:8080/",
     "height": 34
    },
    "executionInfo": {
     "elapsed": 1472,
     "status": "ok",
     "timestamp": 1599634738147,
     "user": {
      "displayName": "Mahesh Anand",
      "photoUrl": "https://lh3.googleusercontent.com/a-/AOh14GiAxRvO4nLPhI4SJLaIoUVmhr8lm1tddyCLyKOj=s64",
      "userId": "06788086636039591358"
     },
     "user_tz": -330
    },
    "id": "D5Dd7seJbqWe",
    "outputId": "2c0a39d8-045a-4efd-9556-dfaab649cef0"
   },
   "outputs": [
    {
     "name": "stdout",
     "output_type": "stream",
     "text": [
      "Var_error 0.025112582741715354\n"
     ]
    }
   ],
   "source": [
    "print('Var_error',np.std(score,ddof=1))"
   ]
  },
  {
   "cell_type": "code",
   "execution_count": null,
   "metadata": {
    "colab": {
     "base_uri": "https://localhost:8080/",
     "height": 34
    },
    "executionInfo": {
     "elapsed": 1287,
     "status": "ok",
     "timestamp": 1599634498907,
     "user": {
      "displayName": "Mahesh Anand",
      "photoUrl": "https://lh3.googleusercontent.com/a-/AOh14GiAxRvO4nLPhI4SJLaIoUVmhr8lm1tddyCLyKOj=s64",
      "userId": "06788086636039591358"
     },
     "user_tz": -330
    },
    "id": "_huiLbDgpQFV",
    "outputId": "797e0fbe-79e1-4fab-a9b4-171eced34c44"
   },
   "outputs": [
    {
     "data": {
      "text/plain": [
       "0.05303030303030297"
      ]
     },
     "execution_count": 65,
     "metadata": {
      "tags": []
     },
     "output_type": "execute_result"
    }
   ],
   "source": [
    "(0.0264-0.025)/0.0264"
   ]
  },
  {
   "cell_type": "markdown",
   "metadata": {
    "id": "tltyEVpHnQ6V"
   },
   "source": [
    "#Model without 'Bp', BE=0.168, VE=0.025\n",
    "#Model with 'Bp' without any treatment,BE=0.167,VE=0.0264\n",
    "#Model with 'BP' after log transformed,BE=0.1689,VE=0.0251"
   ]
  },
  {
   "cell_type": "code",
   "execution_count": null,
   "metadata": {
    "colab": {
     "base_uri": "https://localhost:8080/",
     "height": 34
    },
    "executionInfo": {
     "elapsed": 1138,
     "status": "ok",
     "timestamp": 1599631343492,
     "user": {
      "displayName": "Mahesh Anand",
      "photoUrl": "https://lh3.googleusercontent.com/a-/AOh14GiAxRvO4nLPhI4SJLaIoUVmhr8lm1tddyCLyKOj=s64",
      "userId": "06788086636039591358"
     },
     "user_tz": -330
    },
    "id": "J9DFuCrdaWUh",
    "outputId": "dfd616cf-4668-4ffc-9825-17ce15cad081"
   },
   "outputs": [
    {
     "data": {
      "text/plain": [
       "0.024978506490688317"
      ]
     },
     "execution_count": 29,
     "metadata": {
      "tags": []
     },
     "output_type": "execute_result"
    }
   ],
   "source": [
    "np.std(score,ddof=1)\n"
   ]
  },
  {
   "cell_type": "code",
   "execution_count": null,
   "metadata": {
    "colab": {
     "base_uri": "https://localhost:8080/",
     "height": 34
    },
    "executionInfo": {
     "elapsed": 1154,
     "status": "ok",
     "timestamp": 1599631358758,
     "user": {
      "displayName": "Mahesh Anand",
      "photoUrl": "https://lh3.googleusercontent.com/a-/AOh14GiAxRvO4nLPhI4SJLaIoUVmhr8lm1tddyCLyKOj=s64",
      "userId": "06788086636039591358"
     },
     "user_tz": -330
    },
    "id": "D-9tdLNTdMvw",
    "outputId": "0dd745cf-aa76-41e5-9a23-221380cdffe1"
   },
   "outputs": [
    {
     "data": {
      "text/plain": [
       "0.02497850649068832"
      ]
     },
     "execution_count": 30,
     "metadata": {
      "tags": []
     },
     "output_type": "execute_result"
    }
   ],
   "source": [
    "np.std(1-score,ddof=1)"
   ]
  },
  {
   "cell_type": "code",
   "execution_count": null,
   "metadata": {
    "colab": {
     "base_uri": "https://localhost:8080/",
     "height": 34
    },
    "executionInfo": {
     "elapsed": 1154,
     "status": "ok",
     "timestamp": 1599631441182,
     "user": {
      "displayName": "Mahesh Anand",
      "photoUrl": "https://lh3.googleusercontent.com/a-/AOh14GiAxRvO4nLPhI4SJLaIoUVmhr8lm1tddyCLyKOj=s64",
      "userId": "06788086636039591358"
     },
     "user_tz": -330
    },
    "id": "z2NzA4VCdM2g",
    "outputId": "ab74eded-29a6-443d-a14e-4e80e2ade1d1"
   },
   "outputs": [
    {
     "data": {
      "text/plain": [
       "0.17016491963661776"
      ]
     },
     "execution_count": 32,
     "metadata": {
      "tags": []
     },
     "output_type": "execute_result"
    }
   ],
   "source": [
    "np.mean(1-score)"
   ]
  },
  {
   "cell_type": "code",
   "execution_count": null,
   "metadata": {
    "colab": {
     "base_uri": "https://localhost:8080/"
    },
    "executionInfo": {
     "elapsed": 7539,
     "status": "ok",
     "timestamp": 1641725189416,
     "user": {
      "displayName": "Mahesh Anand",
      "photoUrl": "https://lh3.googleusercontent.com/a-/AOh14GjrgsRhu_m9R1mX1R2osLnbO2LcUFIvlC-8Zz6HBA=s64",
      "userId": "06788086636039591358"
     },
     "user_tz": -330
    },
    "id": "FsZLALhoZMm8",
    "outputId": "a8a8a20b-a5e0-4283-c827-88b7331583e2"
   },
   "outputs": [
    {
     "data": {
      "text/plain": [
       "GridSearchCV(cv=KFold(n_splits=5, random_state=2, shuffle=True),\n",
       "             estimator=KNeighborsClassifier(),\n",
       "             param_grid={'n_neighbors': array([ 1,  2,  3,  4,  5,  6,  7,  8,  9, 10, 11, 12, 13, 14, 15, 16, 17,\n",
       "       18, 19, 20, 21, 22, 23, 24, 25, 26, 27, 28, 29, 30, 31, 32, 33, 34,\n",
       "       35, 36, 37, 38, 39, 40, 41, 42, 43, 44, 45, 46, 47, 48, 49, 50, 51,\n",
       "       52, 53, 54, 55, 56, 57, 58, 59, 60, 61, 62, 63, 64, 65, 66, 67, 68,\n",
       "       69, 70, 71, 72, 73, 74, 75, 76, 77, 78, 79, 80, 81, 82, 83, 84, 85,\n",
       "       86, 87, 88, 89, 90, 91, 92, 93, 94, 95, 96, 97, 98, 99]),\n",
       "                         'weights': ['uniform', 'distance']},\n",
       "             scoring='roc_auc')"
      ]
     },
     "execution_count": 58,
     "metadata": {},
     "output_type": "execute_result"
    }
   ],
   "source": [
    "from sklearn.model_selection import GridSearchCV,KFold\n",
    "knn=KNeighborsClassifier()\n",
    "#n_neighbors ideal search range could be 15-20% of size of data\n",
    "param={'n_neighbors':np.arange(1,100),'weights':['uniform','distance']}\n",
    "kf=KFold(n_splits=5,shuffle=True,random_state=2)\n",
    "GS=GridSearchCV(knn,param,cv=kf,scoring='roc_auc')\n",
    "GS.fit(X_std,Y)"
   ]
  },
  {
   "cell_type": "code",
   "execution_count": null,
   "metadata": {
    "colab": {
     "base_uri": "https://localhost:8080/"
    },
    "executionInfo": {
     "elapsed": 541,
     "status": "ok",
     "timestamp": 1641725194561,
     "user": {
      "displayName": "Mahesh Anand",
      "photoUrl": "https://lh3.googleusercontent.com/a-/AOh14GjrgsRhu_m9R1mX1R2osLnbO2LcUFIvlC-8Zz6HBA=s64",
      "userId": "06788086636039591358"
     },
     "user_tz": -330
    },
    "id": "Ifwdr9I0P7CV",
    "outputId": "2afa0485-c6cc-475d-dd20-231904231e08"
   },
   "outputs": [
    {
     "data": {
      "text/plain": [
       "{'n_neighbors': 50, 'weights': 'distance'}"
      ]
     },
     "execution_count": 59,
     "metadata": {},
     "output_type": "execute_result"
    }
   ],
   "source": [
    "GS.best_params_            #we got highest avg of auc"
   ]
  },
  {
   "cell_type": "code",
   "execution_count": null,
   "metadata": {
    "colab": {
     "base_uri": "https://localhost:8080/"
    },
    "executionInfo": {
     "elapsed": 120187,
     "status": "ok",
     "timestamp": 1644142575945,
     "user": {
      "displayName": "Mahesh Anand",
      "photoUrl": "https://lh3.googleusercontent.com/a-/AOh14GjrgsRhu_m9R1mX1R2osLnbO2LcUFIvlC-8Zz6HBA=s64",
      "userId": "06788086636039591358"
     },
     "user_tz": -330
    },
    "id": "vz4zSPxp8Th_",
    "outputId": "fa40f663-6964-424c-a4f0-cf38113481b2"
   },
   "outputs": [
    {
     "data": {
      "text/plain": [
       "GridSearchCV(cv=5, estimator=RandomForestClassifier(random_state=0),\n",
       "             param_grid={'criterion': ['entropy', 'gini'],\n",
       "                         'n_estimators': array([ 1,  2,  3,  4,  5,  6,  7,  8,  9, 10, 11, 12, 13, 14, 15, 16, 17,\n",
       "       18, 19, 20, 21, 22, 23, 24, 25, 26, 27, 28, 29, 30, 31, 32, 33, 34,\n",
       "       35, 36, 37, 38, 39, 40, 41, 42, 43, 44, 45, 46, 47, 48, 49, 50, 51,\n",
       "       52, 53, 54, 55, 56, 57, 58, 59, 60, 61, 62, 63, 64, 65, 66, 67, 68,\n",
       "       69, 70, 71, 72, 73, 74, 75, 76, 77, 78, 79, 80, 81, 82, 83, 84, 85,\n",
       "       86, 87, 88, 89, 90, 91, 92, 93, 94, 95, 96, 97, 98, 99])},\n",
       "             scoring='roc_auc')"
      ]
     },
     "execution_count": 18,
     "metadata": {},
     "output_type": "execute_result"
    }
   ],
   "source": [
    "from sklearn.model_selection import GridSearchCV\n",
    "RF=RandomForestClassifier(random_state=0)\n",
    "param={'n_estimators':np.arange(1,100),'criterion':['entropy','gini']}\n",
    "GS=GridSearchCV(RF,param,cv=5,scoring='roc_auc')\n",
    "GS.fit(X_std,Y)"
   ]
  },
  {
   "cell_type": "code",
   "execution_count": null,
   "metadata": {
    "colab": {
     "base_uri": "https://localhost:8080/"
    },
    "executionInfo": {
     "elapsed": 34,
     "status": "ok",
     "timestamp": 1644142575947,
     "user": {
      "displayName": "Mahesh Anand",
      "photoUrl": "https://lh3.googleusercontent.com/a-/AOh14GjrgsRhu_m9R1mX1R2osLnbO2LcUFIvlC-8Zz6HBA=s64",
      "userId": "06788086636039591358"
     },
     "user_tz": -330
    },
    "id": "X2EWWY1H77uE",
    "outputId": "04d3363a-d948-4f05-b6a6-caba0dcc7936"
   },
   "outputs": [
    {
     "data": {
      "text/plain": [
       "{'criterion': 'entropy', 'n_estimators': 98}"
      ]
     },
     "execution_count": 19,
     "metadata": {},
     "output_type": "execute_result"
    }
   ],
   "source": [
    "GS.best_params_"
   ]
  },
  {
   "cell_type": "code",
   "execution_count": null,
   "metadata": {
    "colab": {
     "base_uri": "https://localhost:8080/",
     "height": 294
    },
    "executionInfo": {
     "elapsed": 3674,
     "status": "ok",
     "timestamp": 1559125057061,
     "user": {
      "displayName": "Mahesh Anand",
      "photoUrl": "https://lh3.googleusercontent.com/-qzo_AFAl02k/AAAAAAAAAAI/AAAAAAAAABY/Ywj2vXZmRw4/s64/photo.jpg",
      "userId": "06788086636039591358"
     },
     "user_tz": -330
    },
    "id": "YUvtjCR4aRBQ",
    "outputId": "674f5232-c477-4011-dabe-451d5bcaa51d"
   },
   "outputs": [
    {
     "data": {
      "text/plain": [
       "GridSearchCV(cv=KFold(n_splits=5, random_state=0, shuffle=True),\n",
       "             error_score='raise-deprecating',\n",
       "             estimator=BaggingClassifier(base_estimator=GaussianNB(priors=None,\n",
       "                                                                   var_smoothing=1e-09),\n",
       "                                         bootstrap=True,\n",
       "                                         bootstrap_features=False,\n",
       "                                         max_features=1.0, max_samples=1.0,\n",
       "                                         n_estimators=10, n_jobs=None,\n",
       "                                         oob_score=False, random_state=0,\n",
       "                                         verbose=0, warm_start=False),\n",
       "             iid='warn', n_jobs=None,\n",
       "             param_grid={'n_estimators': array([ 1,  2,  3,  4,  5,  6,  7,  8,  9, 10, 11, 12, 13, 14, 15, 16, 17,\n",
       "       18, 19, 20, 21, 22, 23, 24])},\n",
       "             pre_dispatch='2*n_jobs', refit=True, return_train_score=False,\n",
       "             scoring='roc_auc', verbose=0)"
      ]
     },
     "execution_count": 72,
     "metadata": {
      "tags": []
     },
     "output_type": "execute_result"
    }
   ],
   "source": [
    "from sklearn.model_selection import KFold\n",
    "kf=KFold(n_splits=5,shuffle=True,random_state=0)\n",
    "param2={'n_estimators':np.arange(1,25)}\n",
    "GS2=GridSearchCV(NB_bag,param2,cv=kf,scoring='roc_auc')\n",
    "GS2.fit(X,Y)"
   ]
  },
  {
   "cell_type": "code",
   "execution_count": null,
   "metadata": {
    "colab": {
     "base_uri": "https://localhost:8080/",
     "height": 34
    },
    "executionInfo": {
     "elapsed": 823,
     "status": "ok",
     "timestamp": 1559125076159,
     "user": {
      "displayName": "Mahesh Anand",
      "photoUrl": "https://lh3.googleusercontent.com/-qzo_AFAl02k/AAAAAAAAAAI/AAAAAAAAABY/Ywj2vXZmRw4/s64/photo.jpg",
      "userId": "06788086636039591358"
     },
     "user_tz": -330
    },
    "id": "tCwEDm-OGHWD",
    "outputId": "3d2bbae9-8ae6-4e43-fb6b-1ee79cb9a835"
   },
   "outputs": [
    {
     "data": {
      "text/plain": [
       "{'n_estimators': 24}"
      ]
     },
     "execution_count": 73,
     "metadata": {
      "tags": []
     },
     "output_type": "execute_result"
    }
   ],
   "source": [
    "GS2.best_params_"
   ]
  },
  {
   "cell_type": "code",
   "execution_count": null,
   "metadata": {
    "id": "i0o-srSx0CMN"
   },
   "outputs": [],
   "source": [
    "knn_be=[]\n",
    "knn_ve=[]\n",
    "for n in np.arange(1,200):\n",
    "  knn=KNeighborsClassifier(n_neighbors=n)\n",
    "  kfold = model_selection.KFold(shuffle=True,n_splits=5,random_state=0)\n",
    "  scores=model_selection.cross_val_score(knn,X_std,Y,cv=kfold,scoring='roc_auc')\n",
    "  knn_be.append(np.mean(1-scores))\n",
    "  knn_ve.append(np.std(scores,ddof=1))"
   ]
  },
  {
   "cell_type": "code",
   "execution_count": null,
   "metadata": {
    "colab": {
     "base_uri": "https://localhost:8080/",
     "height": 283
    },
    "executionInfo": {
     "elapsed": 1463,
     "status": "ok",
     "timestamp": 1591765857883,
     "user": {
      "displayName": "Mahesh Anand",
      "photoUrl": "https://lh3.googleusercontent.com/a-/AOh14GiAxRvO4nLPhI4SJLaIoUVmhr8lm1tddyCLyKOj=s64",
      "userId": "06788086636039591358"
     },
     "user_tz": -330
    },
    "id": "MYvffsGU3LSn",
    "outputId": "33cccd79-cf07-4aae-af85-b37c6a9bb938"
   },
   "outputs": [
    {
     "data": {
      "text/plain": [
       "[<matplotlib.lines.Line2D at 0x7efc926df550>]"
      ]
     },
     "execution_count": 19,
     "metadata": {
      "tags": []
     },
     "output_type": "execute_result"
    },
    {
     "data": {
      "image/png": "[encoded data removed]",
      "text/plain": [
       "<Figure size 432x288 with 1 Axes>"
      ]
     },
     "metadata": {
      "needs_background": "light",
      "tags": []
     },
     "output_type": "display_data"
    }
   ],
   "source": [
    "x_axis=np.arange(len(knn_be))\n",
    "plt.plot(x_axis,knn_be)"
   ]
  },
  {
   "cell_type": "code",
   "execution_count": null,
   "metadata": {
    "colab": {
     "base_uri": "https://localhost:8080/",
     "height": 35
    },
    "executionInfo": {
     "elapsed": 1152,
     "status": "ok",
     "timestamp": 1591765922453,
     "user": {
      "displayName": "Mahesh Anand",
      "photoUrl": "https://lh3.googleusercontent.com/a-/AOh14GiAxRvO4nLPhI4SJLaIoUVmhr8lm1tddyCLyKOj=s64",
      "userId": "06788086636039591358"
     },
     "user_tz": -330
    },
    "id": "9Wv2wdWwoXPC",
    "outputId": "eea6d494-b2bf-448d-c425-c8eb25c856f0"
   },
   "outputs": [
    {
     "data": {
      "text/plain": [
       "(121, 0.17877376879245785, 0.03198396894769458)"
      ]
     },
     "execution_count": 21,
     "metadata": {
      "tags": []
     },
     "output_type": "execute_result"
    }
   ],
   "source": [
    "np.argmin(knn_be),np.min(knn_be),knn_ve[121]"
   ]
  },
  {
   "cell_type": "code",
   "execution_count": null,
   "metadata": {
    "colab": {
     "base_uri": "https://localhost:8080/",
     "height": 283
    },
    "executionInfo": {
     "elapsed": 1320,
     "status": "ok",
     "timestamp": 1591765950727,
     "user": {
      "displayName": "Mahesh Anand",
      "photoUrl": "https://lh3.googleusercontent.com/a-/AOh14GiAxRvO4nLPhI4SJLaIoUVmhr8lm1tddyCLyKOj=s64",
      "userId": "06788086636039591358"
     },
     "user_tz": -330
    },
    "id": "zt0q9iWT3zJ2",
    "outputId": "b6e1bbce-a31d-4361-8876-c852ec0f087b"
   },
   "outputs": [
    {
     "data": {
      "text/plain": [
       "[<matplotlib.lines.Line2D at 0x7efc92644630>]"
      ]
     },
     "execution_count": 22,
     "metadata": {
      "tags": []
     },
     "output_type": "execute_result"
    },
    {
     "data": {
      "image/png": "[encoded data removed]",
      "text/plain": [
       "<Figure size 432x288 with 1 Axes>"
      ]
     },
     "metadata": {
      "needs_background": "light",
      "tags": []
     },
     "output_type": "display_data"
    }
   ],
   "source": [
    "x_axis=np.arange(len(knn_ve))\n",
    "plt.plot(x_axis,knn_ve)"
   ]
  },
  {
   "cell_type": "code",
   "execution_count": null,
   "metadata": {
    "colab": {
     "base_uri": "https://localhost:8080/",
     "height": 35
    },
    "executionInfo": {
     "elapsed": 1277,
     "status": "ok",
     "timestamp": 1591766022060,
     "user": {
      "displayName": "Mahesh Anand",
      "photoUrl": "https://lh3.googleusercontent.com/a-/AOh14GiAxRvO4nLPhI4SJLaIoUVmhr8lm1tddyCLyKOj=s64",
      "userId": "06788086636039591358"
     },
     "user_tz": -330
    },
    "id": "pS3dITuypWCh",
    "outputId": "23a85af0-9423-409d-ec27-6102a4ca8405"
   },
   "outputs": [
    {
     "data": {
      "text/plain": [
       "(6, 0.02341654209983238, 0.22737046368099376)"
      ]
     },
     "execution_count": 24,
     "metadata": {
      "tags": []
     },
     "output_type": "execute_result"
    }
   ],
   "source": [
    "np.argmin(knn_ve),np.min(knn_ve),knn_be[6]"
   ]
  },
  {
   "cell_type": "code",
   "execution_count": null,
   "metadata": {
    "id": "8ARhI-oD39mf"
   },
   "outputs": [],
   "source": [
    "knn_be_sc=knn_be/np.max(knn_be)\n",
    "knn_ve_sc=knn_ve/np.max(knn_ve)\n"
   ]
  },
  {
   "cell_type": "code",
   "execution_count": null,
   "metadata": {
    "colab": {
     "base_uri": "https://localhost:8080/",
     "height": 194
    },
    "executionInfo": {
     "elapsed": 1205,
     "status": "ok",
     "timestamp": 1591766519809,
     "user": {
      "displayName": "Mahesh Anand",
      "photoUrl": "https://lh3.googleusercontent.com/a-/AOh14GiAxRvO4nLPhI4SJLaIoUVmhr8lm1tddyCLyKOj=s64",
      "userId": "06788086636039591358"
     },
     "user_tz": -330
    },
    "id": "TrwEkHi4rT47",
    "outputId": "a0f62fcd-28b1-4a8b-c8df-aca3c9051389"
   },
   "outputs": [
    {
     "data": {
      "text/plain": [
       "array([1.        , 0.79005482, 0.74265673, 0.72922511, 0.73044458,\n",
       "       0.71565778, 0.6860718 , 0.66149647, 0.66131087, 0.65577975,\n",
       "       0.65534881, 0.64280376, 0.63065342, 0.62193835, 0.61438664,\n",
       "       0.62186268, 0.618349  , 0.61057282, 0.59763093, 0.59619358,\n",
       "       0.59213727, 0.586922  , 0.58473625, 0.5896981 , 0.58892767,\n",
       "       0.58064233, 0.57233318, 0.56903198, 0.56463473, 0.56195887,\n",
       "       0.55548212, 0.54965585, 0.54444929, 0.54215028, 0.54734781,\n",
       "       0.55216682, 0.55303398, 0.55566582, 0.55756276, 0.55686982,\n",
       "       0.55832005, 0.55312759, 0.54948125, 0.55036908, 0.5471365 ,\n",
       "       0.54815872, 0.54855337, 0.55044087, 0.54899376, 0.55045047])"
      ]
     },
     "execution_count": 31,
     "metadata": {
      "tags": []
     },
     "output_type": "execute_result"
    }
   ],
   "source": [
    "knn_be_sc[:50]"
   ]
  },
  {
   "cell_type": "code",
   "execution_count": null,
   "metadata": {
    "colab": {
     "base_uri": "https://localhost:8080/",
     "height": 283
    },
    "executionInfo": {
     "elapsed": 1485,
     "status": "ok",
     "timestamp": 1591766673035,
     "user": {
      "displayName": "Mahesh Anand",
      "photoUrl": "https://lh3.googleusercontent.com/a-/AOh14GiAxRvO4nLPhI4SJLaIoUVmhr8lm1tddyCLyKOj=s64",
      "userId": "06788086636039591358"
     },
     "user_tz": -330
    },
    "id": "dhZegTdQ4J-9",
    "outputId": "b3dbcb1b-8a53-430c-a0a0-e50a995e20cc"
   },
   "outputs": [
    {
     "data": {
      "text/plain": [
       "[<matplotlib.lines.Line2D at 0x7efc92472668>]"
      ]
     },
     "execution_count": 33,
     "metadata": {
      "tags": []
     },
     "output_type": "execute_result"
    },
    {
     "data": {
      "image/png": "[encoded data removed]",
      "text/plain": [
       "<Figure size 432x288 with 1 Axes>"
      ]
     },
     "metadata": {
      "needs_background": "light",
      "tags": []
     },
     "output_type": "display_data"
    }
   ],
   "source": [
    "x_axis=np.arange(len(knn_ve[:30]))\n",
    "plt.plot(x_axis,knn_be_sc[:30])   #knn_be_sc[i]==knn_ve_sc[i]\n",
    "plt.plot(x_axis,knn_ve_sc[:30])"
   ]
  },
  {
   "cell_type": "code",
   "execution_count": null,
   "metadata": {
    "colab": {
     "base_uri": "https://localhost:8080/",
     "height": 34
    },
    "executionInfo": {
     "elapsed": 870,
     "status": "ok",
     "timestamp": 1591182504745,
     "user": {
      "displayName": "Mahesh Anand",
      "photoUrl": "https://lh3.googleusercontent.com/a-/AOh14GiAxRvO4nLPhI4SJLaIoUVmhr8lm1tddyCLyKOj=s64",
      "userId": "06788086636039591358"
     },
     "user_tz": -330
    },
    "id": "C2ecSP841MNM",
    "outputId": "3d787a2d-be78-45c2-f678-3ee0795cc02f"
   },
   "outputs": [
    {
     "data": {
      "text/plain": [
       "(0.17877376879245785, 121)"
      ]
     },
     "execution_count": 42,
     "metadata": {
      "tags": []
     },
     "output_type": "execute_result"
    }
   ],
   "source": [
    "np.min(auc_be),np.argmin(auc_be)"
   ]
  },
  {
   "cell_type": "code",
   "execution_count": null,
   "metadata": {
    "colab": {
     "base_uri": "https://localhost:8080/",
     "height": 34
    },
    "executionInfo": {
     "elapsed": 1015,
     "status": "ok",
     "timestamp": 1591182109073,
     "user": {
      "displayName": "Mahesh Anand",
      "photoUrl": "https://lh3.googleusercontent.com/a-/AOh14GiAxRvO4nLPhI4SJLaIoUVmhr8lm1tddyCLyKOj=s64",
      "userId": "06788086636039591358"
     },
     "user_tz": -330
    },
    "id": "sUHu8swM1_u5",
    "outputId": "f6e9c544-e3b9-4345-8bf7-131b719d7c93"
   },
   "outputs": [
    {
     "data": {
      "text/plain": [
       "(0.02341654209983238, 6)"
      ]
     },
     "execution_count": 37,
     "metadata": {
      "tags": []
     },
     "output_type": "execute_result"
    }
   ],
   "source": [
    "np.min(auc_ve),np.argmin(auc_ve)"
   ]
  },
  {
   "cell_type": "code",
   "execution_count": null,
   "metadata": {
    "colab": {
     "base_uri": "https://localhost:8080/",
     "height": 34
    },
    "executionInfo": {
     "elapsed": 960,
     "status": "ok",
     "timestamp": 1591182155835,
     "user": {
      "displayName": "Mahesh Anand",
      "photoUrl": "https://lh3.googleusercontent.com/a-/AOh14GiAxRvO4nLPhI4SJLaIoUVmhr8lm1tddyCLyKOj=s64",
      "userId": "06788086636039591358"
     },
     "user_tz": -330
    },
    "id": "CVsfGY6s1sxi",
    "outputId": "b6544281-e87b-40ef-c866-1fd2fd3cfb51"
   },
   "outputs": [
    {
     "data": {
      "text/plain": [
       "(0.04049851231082132, 0.22737046368099376)"
      ]
     },
     "execution_count": 38,
     "metadata": {
      "tags": []
     },
     "output_type": "execute_result"
    }
   ],
   "source": [
    "auc_ve[33],auc_be[6]"
   ]
  },
  {
   "cell_type": "code",
   "execution_count": null,
   "metadata": {
    "id": "8CthCcQR2XO4"
   },
   "outputs": [],
   "source": [
    "#n_neigh=7 with uniform least VE = 0.0234, BE=0.227\n",
    "#n_neigh=34, VE=0.0404, BE=0.179"
   ]
  },
  {
   "cell_type": "code",
   "execution_count": null,
   "metadata": {
    "colab": {
     "base_uri": "https://localhost:8080/",
     "height": 34
    },
    "executionInfo": {
     "elapsed": 987,
     "status": "ok",
     "timestamp": 1591183742010,
     "user": {
      "displayName": "Mahesh Anand",
      "photoUrl": "https://lh3.googleusercontent.com/a-/AOh14GiAxRvO4nLPhI4SJLaIoUVmhr8lm1tddyCLyKOj=s64",
      "userId": "06788086636039591358"
     },
     "user_tz": -330
    },
    "id": "UnOJkct88CLg",
    "outputId": "e7017e5a-fe50-4c78-9cfa-672b9574082e"
   },
   "outputs": [
    {
     "data": {
      "text/plain": [
       "0.4207920792079208"
      ]
     },
     "execution_count": 61,
     "metadata": {
      "tags": []
     },
     "output_type": "execute_result"
    }
   ],
   "source": [
    "np.abs((0.0404-0.0234))/0.0404"
   ]
  },
  {
   "cell_type": "code",
   "execution_count": null,
   "metadata": {
    "colab": {
     "base_uri": "https://localhost:8080/",
     "height": 34
    },
    "executionInfo": {
     "elapsed": 973,
     "status": "ok",
     "timestamp": 1591183778403,
     "user": {
      "displayName": "Mahesh Anand",
      "photoUrl": "https://lh3.googleusercontent.com/a-/AOh14GiAxRvO4nLPhI4SJLaIoUVmhr8lm1tddyCLyKOj=s64",
      "userId": "06788086636039591358"
     },
     "user_tz": -330
    },
    "id": "tGLLf_aJ8Uf9",
    "outputId": "85474cc4-eb68-445e-af9a-7f2db1bcc10c"
   },
   "outputs": [
    {
     "data": {
      "text/plain": [
       "0.21145374449339213"
      ]
     },
     "execution_count": 62,
     "metadata": {
      "tags": []
     },
     "output_type": "execute_result"
    }
   ],
   "source": [
    "np.abs((0.227-0.179))/0.227"
   ]
  },
  {
   "cell_type": "code",
   "execution_count": 23,
   "metadata": {
    "executionInfo": {
     "elapsed": 583,
     "status": "ok",
     "timestamp": 1649152198717,
     "user": {
      "displayName": "Mahesh Anand",
      "userId": "06788086636039591358"
     },
     "user_tz": -330
    },
    "id": "N9IZJ6T9jxvQ"
   },
   "outputs": [],
   "source": [
    "from sklearn.tree import DecisionTreeClassifier"
   ]
  },
  {
   "cell_type": "code",
   "execution_count": null,
   "metadata": {
    "id": "1ug_D36SjvAd"
   },
   "outputs": [],
   "source": [
    "DT_be=[]\n",
    "DT_ve=[]\n",
    "for n in np.arange(3,150):\n",
    "  DT=DecisionTreeClassifier(min_samples_leaf=n,criterion='entropy')\n",
    "  kfold = model_selection.KFold(shuffle=True,n_splits=5,random_state=0)\n",
    "  scores=model_selection.cross_val_score(DT,X_std,Y,cv=kfold,scoring='roc_auc')\n",
    "  DT_be.append(np.mean(1-scores))\n",
    "  DT_ve.append(np.std(scores,ddof=1))"
   ]
  },
  {
   "cell_type": "code",
   "execution_count": null,
   "metadata": {
    "colab": {
     "base_uri": "https://localhost:8080/",
     "height": 282
    },
    "executionInfo": {
     "elapsed": 524,
     "status": "ok",
     "timestamp": 1627366629701,
     "user": {
      "displayName": "Mahesh Anand",
      "photoUrl": "https://lh3.googleusercontent.com/a-/AOh14GgKd7FxLgzXO0MxUwypCgML3QfaeTdE0nT8cpHwLQ=s64",
      "userId": "06788086636039591358"
     },
     "user_tz": -330
    },
    "id": "wMRW2ZdYjvCW",
    "outputId": "79591a6a-9fa7-44f1-c656-8eafbccce29f"
   },
   "outputs": [
    {
     "data": {
      "text/plain": [
       "[<matplotlib.lines.Line2D at 0x7ff54a5dd550>]"
      ]
     },
     "execution_count": 17,
     "metadata": {
      "tags": []
     },
     "output_type": "execute_result"
    },
    {
     "data": {
      "image/png": "[encoded data removed]",
      "text/plain": [
       "<Figure size 432x288 with 1 Axes>"
      ]
     },
     "metadata": {
      "needs_background": "light",
      "tags": []
     },
     "output_type": "display_data"
    }
   ],
   "source": [
    "x_axis=np.arange(len(DT_be))\n",
    "plt.plot(x_axis,DT_be)"
   ]
  },
  {
   "cell_type": "code",
   "execution_count": null,
   "metadata": {
    "colab": {
     "base_uri": "https://localhost:8080/"
    },
    "executionInfo": {
     "elapsed": 362,
     "status": "ok",
     "timestamp": 1627366849543,
     "user": {
      "displayName": "Mahesh Anand",
      "photoUrl": "https://lh3.googleusercontent.com/a-/AOh14GgKd7FxLgzXO0MxUwypCgML3QfaeTdE0nT8cpHwLQ=s64",
      "userId": "06788086636039591358"
     },
     "user_tz": -330
    },
    "id": "b7MM5g4nHzxu",
    "outputId": "deee6beb-8b02-4c6e-a6d1-07638ea44c3f"
   },
   "outputs": [
    {
     "data": {
      "text/plain": [
       "(0.18191019639887376, 44, 0.030464579060208496)"
      ]
     },
     "execution_count": 21,
     "metadata": {
      "tags": []
     },
     "output_type": "execute_result"
    }
   ],
   "source": [
    "np.min(DT_be),np.argmin(DT_be),DT_ve[44]"
   ]
  },
  {
   "cell_type": "code",
   "execution_count": null,
   "metadata": {
    "colab": {
     "base_uri": "https://localhost:8080/"
    },
    "executionInfo": {
     "elapsed": 371,
     "status": "ok",
     "timestamp": 1627366870642,
     "user": {
      "displayName": "Mahesh Anand",
      "photoUrl": "https://lh3.googleusercontent.com/a-/AOh14GgKd7FxLgzXO0MxUwypCgML3QfaeTdE0nT8cpHwLQ=s64",
      "userId": "06788086636039591358"
     },
     "user_tz": -330
    },
    "id": "ERrRXbfGH2uH",
    "outputId": "a4edb90f-af1e-49fe-fb96-8f2b6722cd24"
   },
   "outputs": [
    {
     "data": {
      "text/plain": [
       "(0.014069625605568402, 59, 0.19617474710287125)"
      ]
     },
     "execution_count": 22,
     "metadata": {
      "tags": []
     },
     "output_type": "execute_result"
    }
   ],
   "source": [
    "np.min(DT_ve),np.argmin(DT_ve),DT_be[59]"
   ]
  },
  {
   "cell_type": "code",
   "execution_count": null,
   "metadata": {
    "colab": {
     "base_uri": "https://localhost:8080/",
     "height": 282
    },
    "executionInfo": {
     "elapsed": 504,
     "status": "ok",
     "timestamp": 1627366809480,
     "user": {
      "displayName": "Mahesh Anand",
      "photoUrl": "https://lh3.googleusercontent.com/a-/AOh14GgKd7FxLgzXO0MxUwypCgML3QfaeTdE0nT8cpHwLQ=s64",
      "userId": "06788086636039591358"
     },
     "user_tz": -330
    },
    "id": "n44sCUmmlHel",
    "outputId": "cd62fdb1-b2e8-4720-8c4a-fc7d2754331e"
   },
   "outputs": [
    {
     "data": {
      "text/plain": [
       "[<matplotlib.lines.Line2D at 0x7ff54a535a90>]"
      ]
     },
     "execution_count": 19,
     "metadata": {
      "tags": []
     },
     "output_type": "execute_result"
    },
    {
     "data": {
      "image/png": "[encoded data removed]",
      "text/plain": [
       "<Figure size 432x288 with 1 Axes>"
      ]
     },
     "metadata": {
      "needs_background": "light",
      "tags": []
     },
     "output_type": "display_data"
    }
   ],
   "source": [
    "x_axis=np.arange(len(DT_ve))\n",
    "plt.plot(x_axis,DT_ve)"
   ]
  },
  {
   "cell_type": "code",
   "execution_count": 24,
   "metadata": {
    "executionInfo": {
     "elapsed": 155314,
     "status": "ok",
     "timestamp": 1649152358457,
     "user": {
      "displayName": "Mahesh Anand",
      "userId": "06788086636039591358"
     },
     "user_tz": -330
    },
    "id": "-k1q2EyCsO4w"
   },
   "outputs": [],
   "source": [
    "LR=LogisticRegression()\n",
    "LR_be=[]\n",
    "LR_ve=[]\n",
    "for n in np.arange(1,100):\n",
    "  LR_bag=BaggingClassifier(base_estimator=LR,n_estimators=n,random_state=0)\n",
    "  kfold=model_selection.KFold(shuffle=True,n_splits=5,random_state=0)\n",
    "  scores=model_selection.cross_val_score(LR_bag,X_std,Y,cv=kfold,scoring='roc_auc')\n",
    "  LR_be.append(np.mean(1-scores))\n",
    "  LR_ve.append(np.std(scores,ddof=1))"
   ]
  },
  {
   "cell_type": "code",
   "execution_count": null,
   "metadata": {
    "colab": {
     "base_uri": "https://localhost:8080/",
     "height": 282
    },
    "executionInfo": {
     "elapsed": 58,
     "status": "ok",
     "timestamp": 1627367156035,
     "user": {
      "displayName": "Mahesh Anand",
      "photoUrl": "https://lh3.googleusercontent.com/a-/AOh14GgKd7FxLgzXO0MxUwypCgML3QfaeTdE0nT8cpHwLQ=s64",
      "userId": "06788086636039591358"
     },
     "user_tz": -330
    },
    "id": "JxEkexYItuyG",
    "outputId": "98297502-6746-4906-9a32-660c62d748d0"
   },
   "outputs": [
    {
     "data": {
      "text/plain": [
       "[<matplotlib.lines.Line2D at 0x7ff54a54a290>]"
      ]
     },
     "execution_count": 26,
     "metadata": {
      "tags": []
     },
     "output_type": "execute_result"
    },
    {
     "data": {
      "image/png": "[encoded data removed]",
      "text/plain": [
       "<Figure size 432x288 with 1 Axes>"
      ]
     },
     "metadata": {
      "needs_background": "light",
      "tags": []
     },
     "output_type": "display_data"
    }
   ],
   "source": [
    "x_axis=np.arange(len(LR_ve))\n",
    "plt.plot(x_axis,LR_ve)"
   ]
  },
  {
   "cell_type": "code",
   "execution_count": null,
   "metadata": {
    "colab": {
     "base_uri": "https://localhost:8080/"
    },
    "executionInfo": {
     "elapsed": 410,
     "status": "ok",
     "timestamp": 1627367188571,
     "user": {
      "displayName": "Mahesh Anand",
      "photoUrl": "https://lh3.googleusercontent.com/a-/AOh14GgKd7FxLgzXO0MxUwypCgML3QfaeTdE0nT8cpHwLQ=s64",
      "userId": "06788086636039591358"
     },
     "user_tz": -330
    },
    "id": "ZauPwEiiuVZW",
    "outputId": "b88ce9d9-a766-4db2-bc32-83d89245b17f"
   },
   "outputs": [
    {
     "data": {
      "text/plain": [
       "(0.015432416393430588, 6, 0.16641071690629455)"
      ]
     },
     "execution_count": 28,
     "metadata": {
      "tags": []
     },
     "output_type": "execute_result"
    }
   ],
   "source": [
    "np.min(LR_ve),np.argmin(LR_ve),LR_be[6]"
   ]
  },
  {
   "cell_type": "code",
   "execution_count": null,
   "metadata": {
    "id": "zENPijH7uqrQ"
   },
   "outputs": [],
   "source": [
    "LR=LogisticRegression()\n",
    "LR_be=[]\n",
    "LR_ve=[]\n",
    "for n in np.arange(1,100):\n",
    "  LR_boost=AdaBoostClassifier(base_estimator=LR,n_estimators=n,random_state=0)\n",
    "  kfold=model_selection.KFold(shuffle=True,n_splits=5,random_state=0)\n",
    "  scores=model_selection.cross_val_score(LR_boost,X_std,Y,cv=kfold,scoring='roc_auc')\n",
    "  LR_be.append(np.mean(1-scores))\n",
    "  LR_ve.append(np.std(scores,ddof=1))"
   ]
  },
  {
   "cell_type": "code",
   "execution_count": null,
   "metadata": {
    "colab": {
     "base_uri": "https://localhost:8080/",
     "height": 282
    },
    "executionInfo": {
     "elapsed": 89,
     "status": "ok",
     "timestamp": 1627367369786,
     "user": {
      "displayName": "Mahesh Anand",
      "photoUrl": "https://lh3.googleusercontent.com/a-/AOh14GgKd7FxLgzXO0MxUwypCgML3QfaeTdE0nT8cpHwLQ=s64",
      "userId": "06788086636039591358"
     },
     "user_tz": -330
    },
    "id": "uNtF6O7Owzf-",
    "outputId": "bda924df-d87e-4065-d490-fa5d6c708287"
   },
   "outputs": [
    {
     "data": {
      "text/plain": [
       "[<matplotlib.lines.Line2D at 0x7ff549fd6110>]"
      ]
     },
     "execution_count": 30,
     "metadata": {
      "tags": []
     },
     "output_type": "execute_result"
    },
    {
     "data": {
      "image/png": "[encoded data removed]",
      "text/plain": [
       "<Figure size 432x288 with 1 Axes>"
      ]
     },
     "metadata": {
      "needs_background": "light",
      "tags": []
     },
     "output_type": "display_data"
    }
   ],
   "source": [
    "x_axis=np.arange(len(LR_be))\n",
    "plt.plot(x_axis,LR_be)"
   ]
  },
  {
   "cell_type": "code",
   "execution_count": null,
   "metadata": {
    "colab": {
     "base_uri": "https://localhost:8080/"
    },
    "executionInfo": {
     "elapsed": 425,
     "status": "ok",
     "timestamp": 1627367490196,
     "user": {
      "displayName": "Mahesh Anand",
      "photoUrl": "https://lh3.googleusercontent.com/a-/AOh14GgKd7FxLgzXO0MxUwypCgML3QfaeTdE0nT8cpHwLQ=s64",
      "userId": "06788086636039591358"
     },
     "user_tz": -330
    },
    "id": "vq-fYS3uw0gy",
    "outputId": "e087ab8d-b7ea-4e35-ad1c-39344e9e95b9"
   },
   "outputs": [
    {
     "data": {
      "text/plain": [
       "(0.1652985325918152, 14, 0.022717492461943073)"
      ]
     },
     "execution_count": 32,
     "metadata": {
      "tags": []
     },
     "output_type": "execute_result"
    }
   ],
   "source": [
    "np.min(LR_be),np.argmin(LR_be),LR_ve[14]"
   ]
  },
  {
   "cell_type": "code",
   "execution_count": null,
   "metadata": {
    "colab": {
     "base_uri": "https://localhost:8080/"
    },
    "executionInfo": {
     "elapsed": 384,
     "status": "ok",
     "timestamp": 1627367565038,
     "user": {
      "displayName": "Mahesh Anand",
      "photoUrl": "https://lh3.googleusercontent.com/a-/AOh14GgKd7FxLgzXO0MxUwypCgML3QfaeTdE0nT8cpHwLQ=s64",
      "userId": "06788086636039591358"
     },
     "user_tz": -330
    },
    "id": "MwNq6R1OxIc8",
    "outputId": "c8a71c6a-8f4d-4058-8b43-832b883c42a2"
   },
   "outputs": [
    {
     "data": {
      "text/plain": [
       "0.32068134635530887"
      ]
     },
     "execution_count": 33,
     "metadata": {
      "tags": []
     },
     "output_type": "execute_result"
    }
   ],
   "source": [
    "(0.022717492461943073-0.015432416393430588)/0.022717492461943073"
   ]
  },
  {
   "cell_type": "code",
   "execution_count": null,
   "metadata": {
    "colab": {
     "base_uri": "https://localhost:8080/"
    },
    "executionInfo": {
     "elapsed": 417,
     "status": "ok",
     "timestamp": 1627367606216,
     "user": {
      "displayName": "Mahesh Anand",
      "photoUrl": "https://lh3.googleusercontent.com/a-/AOh14GgKd7FxLgzXO0MxUwypCgML3QfaeTdE0nT8cpHwLQ=s64",
      "userId": "06788086636039591358"
     },
     "user_tz": -330
    },
    "id": "WVvh1mBAqrNW",
    "outputId": "2ab0890c-7230-4512-f58f-3d0b68f106e1"
   },
   "outputs": [
    {
     "data": {
      "text/plain": [
       "0.006683369528103676"
      ]
     },
     "execution_count": 34,
     "metadata": {
      "tags": []
     },
     "output_type": "execute_result"
    }
   ],
   "source": [
    "(0.16641071690629455-0.1652985325918152)/0.16641071690"
   ]
  },
  {
   "cell_type": "code",
   "execution_count": 25,
   "metadata": {
    "executionInfo": {
     "elapsed": 59121,
     "status": "ok",
     "timestamp": 1649152417554,
     "user": {
      "displayName": "Mahesh Anand",
      "userId": "06788086636039591358"
     },
     "user_tz": -330
    },
    "id": "QIYwwIkOsnDd"
   },
   "outputs": [],
   "source": [
    "NB=GaussianNB()\n",
    "NB_be=[]\n",
    "NB_ve=[]\n",
    "for n in np.arange(1,100):\n",
    "  NB_boost=AdaBoostClassifier(base_estimator=NB,n_estimators=n,random_state=0)\n",
    "  kfold=model_selection.KFold(shuffle=True,n_splits=5,random_state=0)\n",
    "  scores=model_selection.cross_val_score(NB_boost,X_std,Y,cv=kfold,scoring='roc_auc')\n",
    "  NB_be.append(np.mean(1-scores))\n",
    "  NB_ve.append(np.std(scores,ddof=1))"
   ]
  },
  {
   "cell_type": "code",
   "execution_count": null,
   "metadata": {
    "colab": {
     "base_uri": "https://localhost:8080/",
     "height": 282
    },
    "executionInfo": {
     "elapsed": 1576,
     "status": "ok",
     "timestamp": 1600240230529,
     "user": {
      "displayName": "Mahesh Anand",
      "photoUrl": "https://lh3.googleusercontent.com/a-/AOh14GiAxRvO4nLPhI4SJLaIoUVmhr8lm1tddyCLyKOj=s64",
      "userId": "06788086636039591358"
     },
     "user_tz": -330
    },
    "id": "bzsEF6XHt5n2",
    "outputId": "8955d094-4b00-403e-f6ad-2a0a646b71ae"
   },
   "outputs": [
    {
     "data": {
      "text/plain": [
       "[<matplotlib.lines.Line2D at 0x7f90003b9390>]"
      ]
     },
     "execution_count": 48,
     "metadata": {
      "tags": []
     },
     "output_type": "execute_result"
    },
    {
     "data": {
      "image/png": "[encoded data removed]",
      "text/plain": [
       "<Figure size 432x288 with 1 Axes>"
      ]
     },
     "metadata": {
      "needs_background": "light",
      "tags": []
     },
     "output_type": "display_data"
    }
   ],
   "source": [
    "x_axis=np.arange(len(NB_be))\n",
    "plt.plot(x_axis,NB_be)"
   ]
  },
  {
   "cell_type": "code",
   "execution_count": null,
   "metadata": {
    "colab": {
     "base_uri": "https://localhost:8080/",
     "height": 34
    },
    "executionInfo": {
     "elapsed": 1142,
     "status": "ok",
     "timestamp": 1600240241843,
     "user": {
      "displayName": "Mahesh Anand",
      "photoUrl": "https://lh3.googleusercontent.com/a-/AOh14GiAxRvO4nLPhI4SJLaIoUVmhr8lm1tddyCLyKOj=s64",
      "userId": "06788086636039591358"
     },
     "user_tz": -330
    },
    "id": "fJaQT7isvCJ6",
    "outputId": "1fe8dcfd-db21-4710-de9a-4141503ce5e7"
   },
   "outputs": [
    {
     "data": {
      "text/plain": [
       "(0.19074559548486053, 0)"
      ]
     },
     "execution_count": 49,
     "metadata": {
      "tags": []
     },
     "output_type": "execute_result"
    }
   ],
   "source": [
    "np.min(NB_be),np.argmin(NB_be)"
   ]
  },
  {
   "cell_type": "code",
   "execution_count": null,
   "metadata": {
    "colab": {
     "base_uri": "https://localhost:8080/",
     "height": 34
    },
    "executionInfo": {
     "elapsed": 1293,
     "status": "ok",
     "timestamp": 1600240261039,
     "user": {
      "displayName": "Mahesh Anand",
      "photoUrl": "https://lh3.googleusercontent.com/a-/AOh14GiAxRvO4nLPhI4SJLaIoUVmhr8lm1tddyCLyKOj=s64",
      "userId": "06788086636039591358"
     },
     "user_tz": -330
    },
    "id": "gx-IW7mYwGLE",
    "outputId": "023a6ea9-f338-4690-9772-7141b6db8655"
   },
   "outputs": [
    {
     "data": {
      "text/plain": [
       "0.8092544045151395"
      ]
     },
     "execution_count": 50,
     "metadata": {
      "tags": []
     },
     "output_type": "execute_result"
    }
   ],
   "source": [
    "1-0.19074559548486053"
   ]
  },
  {
   "cell_type": "code",
   "execution_count": 26,
   "metadata": {
    "executionInfo": {
     "elapsed": 34,
     "status": "ok",
     "timestamp": 1649152417555,
     "user": {
      "displayName": "Mahesh Anand",
      "userId": "06788086636039591358"
     },
     "user_tz": -330
    },
    "id": "rbGNVNKqIhAE"
   },
   "outputs": [],
   "source": [
    "knn=KNeighborsClassifier(n_neighbors=50,weights='distance')"
   ]
  },
  {
   "cell_type": "code",
   "execution_count": null,
   "metadata": {
    "id": "8ZFeqBlV_Dj-"
   },
   "outputs": [],
   "source": [
    "\n",
    "BagKNN_be=[]\n",
    "BagKNN_ve=[]\n",
    "for n in np.arange(1,100):\n",
    "  knn_bag=BaggingClassifier(base_estimator=knn,n_estimators=n,random_state=0)\n",
    "  kfold=model_selection.KFold(shuffle=True,n_splits=5,random_state=0)\n",
    "  scores=model_selection.cross_val_score(knn_bag,X_std,Y,cv=kfold,scoring='roc_auc')\n",
    "  BagKNN_be.append(np.mean(1-scores))\n",
    "  BagKNN_ve.append(np.std(scores,ddof=1))"
   ]
  },
  {
   "cell_type": "code",
   "execution_count": null,
   "metadata": {
    "colab": {
     "base_uri": "https://localhost:8080/",
     "height": 282
    },
    "executionInfo": {
     "elapsed": 1251,
     "status": "ok",
     "timestamp": 1600239360532,
     "user": {
      "displayName": "Mahesh Anand",
      "photoUrl": "https://lh3.googleusercontent.com/a-/AOh14GiAxRvO4nLPhI4SJLaIoUVmhr8lm1tddyCLyKOj=s64",
      "userId": "06788086636039591358"
     },
     "user_tz": -330
    },
    "id": "dQdqHtIC_nED",
    "outputId": "b349f678-f3c3-4954-bd97-8166ce3d7574"
   },
   "outputs": [
    {
     "data": {
      "text/plain": [
       "[<matplotlib.lines.Line2D at 0x7f900058b588>]"
      ]
     },
     "execution_count": 34,
     "metadata": {
      "tags": []
     },
     "output_type": "execute_result"
    },
    {
     "data": {
      "image/png": "[encoded data removed]",
      "text/plain": [
       "<Figure size 432x288 with 1 Axes>"
      ]
     },
     "metadata": {
      "needs_background": "light",
      "tags": []
     },
     "output_type": "display_data"
    }
   ],
   "source": [
    "x_axis=np.arange(len(BagKNN_ve))\n",
    "plt.plot(x_axis,BagKNN_ve)"
   ]
  },
  {
   "cell_type": "code",
   "execution_count": null,
   "metadata": {
    "colab": {
     "base_uri": "https://localhost:8080/",
     "height": 34
    },
    "executionInfo": {
     "elapsed": 1129,
     "status": "ok",
     "timestamp": 1600239468597,
     "user": {
      "displayName": "Mahesh Anand",
      "photoUrl": "https://lh3.googleusercontent.com/a-/AOh14GiAxRvO4nLPhI4SJLaIoUVmhr8lm1tddyCLyKOj=s64",
      "userId": "06788086636039591358"
     },
     "user_tz": -330
    },
    "id": "_xoYRZ29A7pE",
    "outputId": "8347c30c-e898-48d6-e54e-a0fc60690553"
   },
   "outputs": [
    {
     "data": {
      "text/plain": [
       "(0.02977730208307332, 7, 0.17913907629036005)"
      ]
     },
     "execution_count": 36,
     "metadata": {
      "tags": []
     },
     "output_type": "execute_result"
    }
   ],
   "source": [
    "np.min(BagKNN_ve),np.argmin(BagKNN_ve),BagKNN_be[7]"
   ]
  },
  {
   "cell_type": "code",
   "execution_count": null,
   "metadata": {
    "colab": {
     "base_uri": "https://localhost:8080/",
     "height": 34
    },
    "executionInfo": {
     "elapsed": 1188,
     "status": "ok",
     "timestamp": 1600239480741,
     "user": {
      "displayName": "Mahesh Anand",
      "photoUrl": "https://lh3.googleusercontent.com/a-/AOh14GiAxRvO4nLPhI4SJLaIoUVmhr8lm1tddyCLyKOj=s64",
      "userId": "06788086636039591358"
     },
     "user_tz": -330
    },
    "id": "8WgWRZSitI5w",
    "outputId": "8e064a20-0e03-4ed2-dcde-a85952d87fa0"
   },
   "outputs": [
    {
     "data": {
      "text/plain": [
       "0.821"
      ]
     },
     "execution_count": 37,
     "metadata": {
      "tags": []
     },
     "output_type": "execute_result"
    }
   ],
   "source": [
    "1-0.179"
   ]
  },
  {
   "cell_type": "code",
   "execution_count": 27,
   "metadata": {
    "executionInfo": {
     "elapsed": 33,
     "status": "ok",
     "timestamp": 1649152417556,
     "user": {
      "displayName": "Mahesh Anand",
      "userId": "06788086636039591358"
     },
     "user_tz": -330
    },
    "id": "TQRGrk04n5Sb"
   },
   "outputs": [],
   "source": [
    "from sklearn import model_selection"
   ]
  },
  {
   "cell_type": "code",
   "execution_count": null,
   "metadata": {
    "id": "ke7w60pwIlxg"
   },
   "outputs": [],
   "source": [
    "RF_be=[]\n",
    "RF_ve=[]\n",
    "for n in np.arange(1,100):\n",
    "  RF=RandomForestClassifier(criterion='entropy',n_estimators=n,random_state=0)\n",
    "  kfold = model_selection.KFold(shuffle=True,n_splits=5,random_state=0)\n",
    "  scores=model_selection.cross_val_score(RF,X_std,Y,cv=kfold,scoring='roc_auc')\n",
    "  RF_be.append(np.mean(1-scores))\n",
    "  RF_ve.append(np.std(scores,ddof=1))"
   ]
  },
  {
   "cell_type": "code",
   "execution_count": null,
   "metadata": {
    "colab": {
     "base_uri": "https://localhost:8080/",
     "height": 282
    },
    "executionInfo": {
     "elapsed": 32,
     "status": "ok",
     "timestamp": 1644142933627,
     "user": {
      "displayName": "Mahesh Anand",
      "photoUrl": "https://lh3.googleusercontent.com/a-/AOh14GjrgsRhu_m9R1mX1R2osLnbO2LcUFIvlC-8Zz6HBA=s64",
      "userId": "06788086636039591358"
     },
     "user_tz": -330
    },
    "id": "I8MqD2AYAktn",
    "outputId": "894fd6e0-280f-4ae2-c6f5-29d6b36c64b3"
   },
   "outputs": [
    {
     "data": {
      "text/plain": [
       "[<matplotlib.lines.Line2D at 0x7fe9fe29ed50>]"
      ]
     },
     "execution_count": 25,
     "metadata": {},
     "output_type": "execute_result"
    },
    {
     "data": {
      "image/png": "[encoded data removed]",
      "text/plain": [
       "<Figure size 432x288 with 1 Axes>"
      ]
     },
     "metadata": {
      "needs_background": "light"
     },
     "output_type": "display_data"
    }
   ],
   "source": [
    "x_axis=np.arange(len(RF_ve))\n",
    "plt.plot(x_axis,RF_ve)"
   ]
  },
  {
   "cell_type": "code",
   "execution_count": null,
   "metadata": {
    "colab": {
     "base_uri": "https://localhost:8080/"
    },
    "executionInfo": {
     "elapsed": 39,
     "status": "ok",
     "timestamp": 1644142933638,
     "user": {
      "displayName": "Mahesh Anand",
      "photoUrl": "https://lh3.googleusercontent.com/a-/AOh14GjrgsRhu_m9R1mX1R2osLnbO2LcUFIvlC-8Zz6HBA=s64",
      "userId": "06788086636039591358"
     },
     "user_tz": -330
    },
    "id": "uMCDSruOCIOO",
    "outputId": "fc0b1559-4376-4b7c-821f-abd6557f2053"
   },
   "outputs": [
    {
     "data": {
      "text/plain": [
       "(0.03046757644365641, 27)"
      ]
     },
     "execution_count": 26,
     "metadata": {},
     "output_type": "execute_result"
    }
   ],
   "source": [
    "np.min(RF_ve),np.argmin(RF_ve)"
   ]
  },
  {
   "cell_type": "code",
   "execution_count": null,
   "metadata": {
    "colab": {
     "base_uri": "https://localhost:8080/"
    },
    "executionInfo": {
     "elapsed": 355,
     "status": "ok",
     "timestamp": 1625744051504,
     "user": {
      "displayName": "Mahesh Anand",
      "photoUrl": "https://lh3.googleusercontent.com/a-/AOh14GgKd7FxLgzXO0MxUwypCgML3QfaeTdE0nT8cpHwLQ=s64",
      "userId": "06788086636039591358"
     },
     "user_tz": -330
    },
    "id": "8-carrkoqeRA",
    "outputId": "e0d138fd-64a8-44e2-ec6f-7835aa442464"
   },
   "outputs": [
    {
     "data": {
      "text/plain": [
       "0.74"
      ]
     },
     "execution_count": 33,
     "metadata": {
      "tags": []
     },
     "output_type": "execute_result"
    }
   ],
   "source": [
    "1-0.26"
   ]
  },
  {
   "cell_type": "code",
   "execution_count": null,
   "metadata": {
    "colab": {
     "base_uri": "https://localhost:8080/",
     "height": 35
    },
    "executionInfo": {
     "elapsed": 1175,
     "status": "ok",
     "timestamp": 1591237541116,
     "user": {
      "displayName": "Mahesh Anand",
      "photoUrl": "https://lh3.googleusercontent.com/a-/AOh14GiAxRvO4nLPhI4SJLaIoUVmhr8lm1tddyCLyKOj=s64",
      "userId": "06788086636039591358"
     },
     "user_tz": -330
    },
    "id": "kY7Qr-EwI165",
    "outputId": "a7c31aa6-1f54-4988-c224-674ba14db33d"
   },
   "outputs": [
    {
     "data": {
      "text/plain": [
       "(0.022681342627470468, 30)"
      ]
     },
     "execution_count": 21,
     "metadata": {
      "tags": []
     },
     "output_type": "execute_result"
    }
   ],
   "source": [
    "np.min(RF_ve),np.argmin(RF_ve)"
   ]
  },
  {
   "cell_type": "code",
   "execution_count": null,
   "metadata": {
    "colab": {
     "base_uri": "https://localhost:8080/",
     "height": 35
    },
    "executionInfo": {
     "elapsed": 1095,
     "status": "ok",
     "timestamp": 1591237546491,
     "user": {
      "displayName": "Mahesh Anand",
      "photoUrl": "https://lh3.googleusercontent.com/a-/AOh14GiAxRvO4nLPhI4SJLaIoUVmhr8lm1tddyCLyKOj=s64",
      "userId": "06788086636039591358"
     },
     "user_tz": -330
    },
    "id": "VMPr06JvI82Y",
    "outputId": "ae10007f-5170-4330-fc8b-c3e5c35f1785"
   },
   "outputs": [
    {
     "data": {
      "text/plain": [
       "(0.16658408782486578, 97)"
      ]
     },
     "execution_count": 22,
     "metadata": {
      "tags": []
     },
     "output_type": "execute_result"
    }
   ],
   "source": [
    "np.min(RF_be),np.argmin(RF_be)"
   ]
  },
  {
   "cell_type": "code",
   "execution_count": 28,
   "metadata": {
    "executionInfo": {
     "elapsed": 33,
     "status": "ok",
     "timestamp": 1649152417557,
     "user": {
      "displayName": "Mahesh Anand",
      "userId": "06788086636039591358"
     },
     "user_tz": -330
    },
    "id": "GfZL3rKzDYoh"
   },
   "outputs": [],
   "source": [
    "RF=RandomForestClassifier(criterion='entropy',n_estimators=31,random_state=0)"
   ]
  },
  {
   "cell_type": "code",
   "execution_count": null,
   "metadata": {
    "id": "rB3I8WTYB2jd"
   },
   "outputs": [],
   "source": [
    "RF_be=[]\n",
    "RF_ve=[]\n",
    "for n in np.arange(1,100):\n",
    "  RF_boost=AdaBoostClassifier(base_estimator=RF,n_estimators=n,random_state=0)\n",
    "  kfold = model_selection.KFold(shuffle=True,n_splits=5,random_state=0)\n",
    "  scores=model_selection.cross_val_score(RF_boost,X_std,Y,cv=kfold,scoring='roc_auc')\n",
    "  RF_be.append(np.mean(1-scores))\n",
    "  RF_ve.append(np.std(scores,ddof=1))"
   ]
  },
  {
   "cell_type": "code",
   "execution_count": null,
   "metadata": {
    "colab": {
     "base_uri": "https://localhost:8080/",
     "height": 282
    },
    "executionInfo": {
     "elapsed": 12,
     "status": "ok",
     "timestamp": 1644143482033,
     "user": {
      "displayName": "Mahesh Anand",
      "photoUrl": "https://lh3.googleusercontent.com/a-/AOh14GjrgsRhu_m9R1mX1R2osLnbO2LcUFIvlC-8Zz6HBA=s64",
      "userId": "06788086636039591358"
     },
     "user_tz": -330
    },
    "id": "JMSljUkjETHA",
    "outputId": "4353eaa1-a0ba-4d2e-b0cf-2f30c6ddf56e"
   },
   "outputs": [
    {
     "data": {
      "text/plain": [
       "[<matplotlib.lines.Line2D at 0x7fe9fe21da50>]"
      ]
     },
     "execution_count": 29,
     "metadata": {},
     "output_type": "execute_result"
    },
    {
     "data": {
      "image/png": "[encoded data removed]",
      "text/plain": [
       "<Figure size 432x288 with 1 Axes>"
      ]
     },
     "metadata": {
      "needs_background": "light"
     },
     "output_type": "display_data"
    }
   ],
   "source": [
    "x_axis=np.arange(len(RF_be))\n",
    "plt.plot(x_axis,RF_be)"
   ]
  },
  {
   "cell_type": "code",
   "execution_count": null,
   "metadata": {
    "colab": {
     "base_uri": "https://localhost:8080/"
    },
    "executionInfo": {
     "elapsed": 327,
     "status": "ok",
     "timestamp": 1644143544907,
     "user": {
      "displayName": "Mahesh Anand",
      "photoUrl": "https://lh3.googleusercontent.com/a-/AOh14GjrgsRhu_m9R1mX1R2osLnbO2LcUFIvlC-8Zz6HBA=s64",
      "userId": "06788086636039591358"
     },
     "user_tz": -330
    },
    "id": "7fA1VUxVEbO_",
    "outputId": "cdea545e-c17a-462b-8552-3313310ccb15"
   },
   "outputs": [
    {
     "data": {
      "text/plain": [
       "(0.17560564800190478, 1)"
      ]
     },
     "execution_count": 30,
     "metadata": {},
     "output_type": "execute_result"
    }
   ],
   "source": [
    "np.min(RF_be),np.argmin(RF_be)"
   ]
  },
  {
   "cell_type": "code",
   "execution_count": 29,
   "metadata": {
    "executionInfo": {
     "elapsed": 32,
     "status": "ok",
     "timestamp": 1649152417557,
     "user": {
      "displayName": "Mahesh Anand",
      "userId": "06788086636039591358"
     },
     "user_tz": -330
    },
    "id": "aITlg70-mLxr"
   },
   "outputs": [],
   "source": [
    "LR=LogisticRegression()"
   ]
  },
  {
   "cell_type": "code",
   "execution_count": null,
   "metadata": {
    "id": "bqfuEq5bJ24O"
   },
   "outputs": [],
   "source": [
    "BagLR_be=[]\n",
    "BagLR_ve=[]\n",
    "for n in np.arange(1,100):\n",
    "  BagLR=BaggingClassifier(base_estimator=LR,n_estimators=n,random_state=0)\n",
    "  kfold=model_selection.KFold(shuffle=True,n_splits=5,random_state=0)\n",
    "  scores=model_selection.cross_val_score(BagLR,X_std,Y,cv=kfold,scoring='roc_auc')\n",
    "  BagLR_be.append(np.mean(1-scores))\n",
    "  BagLR_ve.append(np.std(scores,ddof=1))"
   ]
  },
  {
   "cell_type": "code",
   "execution_count": null,
   "metadata": {
    "colab": {
     "base_uri": "https://localhost:8080/",
     "height": 35
    },
    "executionInfo": {
     "elapsed": 1415,
     "status": "ok",
     "timestamp": 1591238119556,
     "user": {
      "displayName": "Mahesh Anand",
      "photoUrl": "https://lh3.googleusercontent.com/a-/AOh14GiAxRvO4nLPhI4SJLaIoUVmhr8lm1tddyCLyKOj=s64",
      "userId": "06788086636039591358"
     },
     "user_tz": -330
    },
    "id": "mWb22OBCLmY1",
    "outputId": "272ba518-1a2c-4336-93cd-11e02c2ce699"
   },
   "outputs": [
    {
     "data": {
      "text/plain": [
       "(0.16430385327985358, 18)"
      ]
     },
     "execution_count": 30,
     "metadata": {
      "tags": []
     },
     "output_type": "execute_result"
    }
   ],
   "source": [
    "np.min(BagLR_be),np.argmin(BagLR_be)"
   ]
  },
  {
   "cell_type": "code",
   "execution_count": null,
   "metadata": {
    "colab": {
     "base_uri": "https://localhost:8080/"
    },
    "executionInfo": {
     "elapsed": 19,
     "status": "ok",
     "timestamp": 1644143793067,
     "user": {
      "displayName": "Mahesh Anand",
      "photoUrl": "https://lh3.googleusercontent.com/a-/AOh14GjrgsRhu_m9R1mX1R2osLnbO2LcUFIvlC-8Zz6HBA=s64",
      "userId": "06788086636039591358"
     },
     "user_tz": -330
    },
    "id": "C0syYaN9LtkZ",
    "outputId": "f61428a4-4369-4fb8-a362-55c10df928c6"
   },
   "outputs": [
    {
     "data": {
      "text/plain": [
       "(0.01582846618889178, 6)"
      ]
     },
     "execution_count": 34,
     "metadata": {},
     "output_type": "execute_result"
    }
   ],
   "source": [
    "np.min(BagLR_ve),np.argmin(BagLR_ve)"
   ]
  },
  {
   "cell_type": "code",
   "execution_count": null,
   "metadata": {
    "id": "0LzxZIMVFowS"
   },
   "outputs": [],
   "source": [
    "BoostLR_be=[]\n",
    "BoostLR_ve=[]\n",
    "for n in np.arange(1,100):\n",
    "  LR_boost=AdaBoostClassifier(base_estimator=LR,n_estimators=n,random_state=0)\n",
    "  kfold=model_selection.KFold(shuffle=True,n_splits=5,random_state=0)\n",
    "  scores=model_selection.cross_val_score(LR_boost,X_std,Y,cv=kfold,scoring='roc_auc')\n",
    "  BoostLR_be.append(np.mean(1-scores))\n",
    "  BoostLR_ve.append(np.std(scores,ddof=1))"
   ]
  },
  {
   "cell_type": "code",
   "execution_count": null,
   "metadata": {
    "colab": {
     "base_uri": "https://localhost:8080/",
     "height": 282
    },
    "executionInfo": {
     "elapsed": 1661,
     "status": "ok",
     "timestamp": 1598937443378,
     "user": {
      "displayName": "Mahesh Anand",
      "photoUrl": "https://lh3.googleusercontent.com/a-/AOh14GiAxRvO4nLPhI4SJLaIoUVmhr8lm1tddyCLyKOj=s64",
      "userId": "06788086636039591358"
     },
     "user_tz": -330
    },
    "id": "Nc6nHedbF5qO",
    "outputId": "fbdd3593-cce4-4f99-f2c5-6bf01631fa19"
   },
   "outputs": [
    {
     "data": {
      "text/plain": [
       "[<matplotlib.lines.Line2D at 0x7f4632141dd8>]"
      ]
     },
     "execution_count": 23,
     "metadata": {
      "tags": []
     },
     "output_type": "execute_result"
    },
    {
     "data": {
      "image/png": "[encoded data removed]",
      "text/plain": [
       "<Figure size 432x288 with 1 Axes>"
      ]
     },
     "metadata": {
      "needs_background": "light",
      "tags": []
     },
     "output_type": "display_data"
    }
   ],
   "source": [
    "x_axis=np.arange(len(BoostLR_be))\n",
    "plt.plot(x_axis,BoostLR_be)"
   ]
  },
  {
   "cell_type": "code",
   "execution_count": null,
   "metadata": {
    "colab": {
     "base_uri": "https://localhost:8080/"
    },
    "executionInfo": {
     "elapsed": 29,
     "status": "ok",
     "timestamp": 1644143916515,
     "user": {
      "displayName": "Mahesh Anand",
      "photoUrl": "https://lh3.googleusercontent.com/a-/AOh14GjrgsRhu_m9R1mX1R2osLnbO2LcUFIvlC-8Zz6HBA=s64",
      "userId": "06788086636039591358"
     },
     "user_tz": -330
    },
    "id": "-7XSCdz-GTyt",
    "outputId": "9c3c4cb3-1fff-41e9-a6c9-07c4a8195970"
   },
   "outputs": [
    {
     "data": {
      "text/plain": [
       "(0.1652985325918152, 14)"
      ]
     },
     "execution_count": 36,
     "metadata": {},
     "output_type": "execute_result"
    }
   ],
   "source": [
    "np.min(BoostLR_be),np.argmin(BoostLR_be)"
   ]
  },
  {
   "cell_type": "code",
   "execution_count": null,
   "metadata": {
    "id": "QepuFDZ8MiMK"
   },
   "outputs": [],
   "source": [
    "BagNB_be=[]\n",
    "BagNB_ve=[]\n",
    "for n in np.arange(1,100):\n",
    "  BagNB=BaggingClassifier(base_estimator=NB,n_estimators=n,random_state=0)\n",
    "  kfold=model_selection.KFold(shuffle=True,n_splits=5,random_state=0)\n",
    "  scores=model_selection.cross_val_score(BagNB,X_std,Y,cv=kfold,scoring='roc_auc')\n",
    "  BagNB_be.append(np.mean(1-scores))\n",
    "  BagNB_ve.append(np.std(scores,ddof=1))"
   ]
  },
  {
   "cell_type": "code",
   "execution_count": null,
   "metadata": {
    "colab": {
     "base_uri": "https://localhost:8080/",
     "height": 35
    },
    "executionInfo": {
     "elapsed": 1103,
     "status": "ok",
     "timestamp": 1591238550391,
     "user": {
      "displayName": "Mahesh Anand",
      "photoUrl": "https://lh3.googleusercontent.com/a-/AOh14GiAxRvO4nLPhI4SJLaIoUVmhr8lm1tddyCLyKOj=s64",
      "userId": "06788086636039591358"
     },
     "user_tz": -330
    },
    "id": "_C7j4KyyMteO",
    "outputId": "0a3a00c6-e58f-4dce-a987-72d5c495737d"
   },
   "outputs": [
    {
     "data": {
      "text/plain": [
       "(0.1828105395165684, 93)"
      ]
     },
     "execution_count": 42,
     "metadata": {
      "tags": []
     },
     "output_type": "execute_result"
    }
   ],
   "source": [
    "np.min(BagNB_be),np.argmin(BagNB_be)"
   ]
  },
  {
   "cell_type": "code",
   "execution_count": null,
   "metadata": {
    "colab": {
     "base_uri": "https://localhost:8080/",
     "height": 35
    },
    "executionInfo": {
     "elapsed": 1033,
     "status": "ok",
     "timestamp": 1591238553080,
     "user": {
      "displayName": "Mahesh Anand",
      "photoUrl": "https://lh3.googleusercontent.com/a-/AOh14GiAxRvO4nLPhI4SJLaIoUVmhr8lm1tddyCLyKOj=s64",
      "userId": "06788086636039591358"
     },
     "user_tz": -330
    },
    "id": "LwK0KhRkMwef",
    "outputId": "30e63d3c-eef3-4c7c-8def-3af75829cf95"
   },
   "outputs": [
    {
     "data": {
      "text/plain": [
       "(0.029265621700989588, 5)"
      ]
     },
     "execution_count": 43,
     "metadata": {
      "tags": []
     },
     "output_type": "execute_result"
    }
   ],
   "source": [
    "np.min(BagNB_ve),np.argmin(BagNB_ve)"
   ]
  },
  {
   "cell_type": "code",
   "execution_count": null,
   "metadata": {
    "id": "D8VRv5QZNszd"
   },
   "outputs": [],
   "source": [
    "GB_be=[]\n",
    "GB_ve=[]\n",
    "for n in np.arange(1,150):\n",
    "  GB=GradientBoostingClassifier(n_estimators=n,random_state=0)\n",
    "  kfold=model_selection.KFold(shuffle=True,n_splits=5,random_state=0)\n",
    "  scores=model_selection.cross_val_score(GB,X_std,Y,cv=kfold,scoring='roc_auc')\n",
    "  GB_be.append(np.mean(1-scores))\n",
    "  GB_ve.append(np.std(scores,ddof=1))"
   ]
  },
  {
   "cell_type": "code",
   "execution_count": null,
   "metadata": {
    "colab": {
     "base_uri": "https://localhost:8080/"
    },
    "executionInfo": {
     "elapsed": 361,
     "status": "ok",
     "timestamp": 1625743826136,
     "user": {
      "displayName": "Mahesh Anand",
      "photoUrl": "https://lh3.googleusercontent.com/a-/AOh14GgKd7FxLgzXO0MxUwypCgML3QfaeTdE0nT8cpHwLQ=s64",
      "userId": "06788086636039591358"
     },
     "user_tz": -330
    },
    "id": "OsJ9_Av3OIzr",
    "outputId": "21f148ba-17bd-4fce-ebe3-d9fbc0924602"
   },
   "outputs": [
    {
     "data": {
      "text/plain": [
       "(0.16887442710124695, 26)"
      ]
     },
     "execution_count": 28,
     "metadata": {
      "tags": []
     },
     "output_type": "execute_result"
    }
   ],
   "source": [
    "np.min(GB_be),np.argmin(GB_be)"
   ]
  },
  {
   "cell_type": "code",
   "execution_count": null,
   "metadata": {
    "colab": {
     "base_uri": "https://localhost:8080/",
     "height": 35
    },
    "executionInfo": {
     "elapsed": 1617,
     "status": "ok",
     "timestamp": 1591238850755,
     "user": {
      "displayName": "Mahesh Anand",
      "photoUrl": "https://lh3.googleusercontent.com/a-/AOh14GiAxRvO4nLPhI4SJLaIoUVmhr8lm1tddyCLyKOj=s64",
      "userId": "06788086636039591358"
     },
     "user_tz": -330
    },
    "id": "JqGFYh4FOa9D",
    "outputId": "5d6287a8-f34b-448c-d88e-b6fb5f06c2e0"
   },
   "outputs": [
    {
     "data": {
      "text/plain": [
       "(0.02003801430663934, 46)"
      ]
     },
     "execution_count": 49,
     "metadata": {
      "tags": []
     },
     "output_type": "execute_result"
    }
   ],
   "source": [
    "np.min(GB_ve),np.argmin(GB_ve)"
   ]
  },
  {
   "cell_type": "code",
   "execution_count": 33,
   "metadata": {
    "executionInfo": {
     "elapsed": 528,
     "status": "ok",
     "timestamp": 1649152681617,
     "user": {
      "displayName": "Mahesh Anand",
      "userId": "06788086636039591358"
     },
     "user_tz": -330
    },
    "id": "4Em9uJOiixNO"
   },
   "outputs": [],
   "source": [
    "LR=LogisticRegression()\n",
    "NB=GaussianNB()\n",
    "#update and redifine your knn model\n",
    "KNN=KNeighborsClassifier(n_neighbors=50, weights='distance')\n",
    "KNN_bag=BaggingClassifier(base_estimator=KNN,n_estimators=7,random_state=0)\n",
    "RF=RandomForestClassifier(criterion='entropy',n_estimators=31,random_state=0)\n",
    "RF_boost=AdaBoostClassifier(base_estimator=RF,n_estimators=2,random_state=0)\n",
    "Bagged_LR=BaggingClassifier(base_estimator=LR,n_estimators=7,random_state=0)\n",
    "Boosted_LR=AdaBoostClassifier(base_estimator=LR,n_estimators=15,random_state=0)\n",
    "Bagged_NB=BaggingClassifier(base_estimator=NB,n_estimators=6,random_state=0)\n",
    "GBoost=GradientBoostingClassifier(n_estimators=27,random_state=0)"
   ]
  },
  {
   "cell_type": "code",
   "execution_count": 45,
   "metadata": {
    "executionInfo": {
     "elapsed": 588,
     "status": "ok",
     "timestamp": 1649153882939,
     "user": {
      "displayName": "Mahesh Anand",
      "userId": "06788086636039591358"
     },
     "user_tz": -330
    },
    "id": "EAB-NmS5Eysw"
   },
   "outputs": [],
   "source": [
    "vot_class = VotingClassifier(estimators = [('BoostedLR', Boosted_LR),('Bagged_LR',Bagged_LR)],voting='soft')"
   ]
  },
  {
   "cell_type": "code",
   "execution_count": 46,
   "metadata": {
    "executionInfo": {
     "elapsed": 4,
     "status": "ok",
     "timestamp": 1649153884553,
     "user": {
      "displayName": "Mahesh Anand",
      "userId": "06788086636039591358"
     },
     "user_tz": -330
    },
    "id": "OWRzT6slv5JD"
   },
   "outputs": [],
   "source": [
    "models = []\n",
    "models.append(('Logistic', LR))\n",
    "models.append(('NaiveBayes', NB))\n",
    "models.append(('KNN',KNN))\n",
    "models.append(('KNN_bag',KNN_bag))\n",
    "models.append(('RF',RF))\n",
    "models.append(('BoostedRF',RF_boost))\n",
    "models.append(('BaggedLR',Bagged_LR))\n",
    "models.append(('BoostedLR',Boosted_LR))\n",
    "models.append(('BaggedNB',Bagged_NB))\n",
    "models.append(('GBoost',GBoost))\n",
    "models.append(('Voting',vot_class))"
   ]
  },
  {
   "cell_type": "code",
   "execution_count": 47,
   "metadata": {
    "colab": {
     "base_uri": "https://localhost:8080/",
     "height": 486
    },
    "executionInfo": {
     "elapsed": 4125,
     "status": "ok",
     "timestamp": 1649153891164,
     "user": {
      "displayName": "Mahesh Anand",
      "userId": "06788086636039591358"
     },
     "user_tz": -330
    },
    "id": "S-sAQeQXv5MG",
    "outputId": "43a197bd-f7d1-4e0b-e348-2affc973546b"
   },
   "outputs": [
    {
     "name": "stdout",
     "output_type": "stream",
     "text": [
      "Logistic: 0.840951 (0.022228)\n",
      "NaiveBayes: 0.813258 (0.039813)\n",
      "KNN: 0.831954 (0.040137)\n",
      "KNN_bag: 0.827743 (0.044190)\n",
      "RF: 0.822748 (0.027345)\n",
      "BoostedRF: 0.835766 (0.032358)\n",
      "BaggedLR: 0.841308 (0.020523)\n",
      "BoostedLR: 0.840493 (0.025688)\n",
      "BaggedNB: 0.812659 (0.039652)\n",
      "GBoost: 0.832523 (0.031423)\n",
      "Voting: 0.841419 (0.021093)\n"
     ]
    },
    {
     "data": {
      "image/png": "[encoded data removed]",
      "text/plain": [
       "<Figure size 432x288 with 1 Axes>"
      ]
     },
     "metadata": {
      "needs_background": "light"
     },
     "output_type": "display_data"
    }
   ],
   "source": [
    "results = []\n",
    "names = []\n",
    "for name, model in models:\n",
    "\tkfold = model_selection.KFold(shuffle=True,n_splits=5,random_state=0)\n",
    "\tcv_results = model_selection.cross_val_score(model, X_std, Y,cv=kfold, scoring='roc_auc')\n",
    "\tresults.append(cv_results)\n",
    "\tnames.append(name)\n",
    "\tprint(\"%s: %f (%f)\" % (name, np.mean(cv_results),np.std(cv_results,ddof=1)))\n",
    "   # boxplot algorithm comparison\n",
    "fig = plt.figure()\n",
    "fig.suptitle('Algorithm Comparison')\n",
    "ax = fig.add_subplot(111)\n",
    "plt.boxplot(results)\n",
    "ax.set_xticklabels(names)\n",
    "plt.show()"
   ]
  },
  {
   "cell_type": "code",
   "execution_count": 48,
   "metadata": {
    "colab": {
     "base_uri": "https://localhost:8080/"
    },
    "executionInfo": {
     "elapsed": 567,
     "status": "ok",
     "timestamp": 1649154028241,
     "user": {
      "displayName": "Mahesh Anand",
      "userId": "06788086636039591358"
     },
     "user_tz": -330
    },
    "id": "jMNBmJBBN9lR",
    "outputId": "37bd0233-6bb7-43a5-b20c-4aac7de30e1e"
   },
   "outputs": [
    {
     "data": {
      "text/plain": [
       "0.013192000656044521"
      ]
     },
     "execution_count": 48,
     "metadata": {},
     "output_type": "execute_result"
    }
   ],
   "source": [
    "((0.841419-0.841308)/0.841419)*100"
   ]
  },
  {
   "cell_type": "code",
   "execution_count": 49,
   "metadata": {
    "colab": {
     "base_uri": "https://localhost:8080/"
    },
    "executionInfo": {
     "elapsed": 560,
     "status": "ok",
     "timestamp": 1649154058252,
     "user": {
      "displayName": "Mahesh Anand",
      "userId": "06788086636039591358"
     },
     "user_tz": -330
    },
    "id": "Um1pu3d8OH8p",
    "outputId": "97d74d98-9813-40be-f7b9-2cf3791a9265"
   },
   "outputs": [
    {
     "data": {
      "text/plain": [
       "2.702318304650837"
      ]
     },
     "execution_count": 49,
     "metadata": {},
     "output_type": "execute_result"
    }
   ],
   "source": [
    "((0.021093-0.020523)/0.021093)*100"
   ]
  },
  {
   "cell_type": "code",
   "execution_count": null,
   "metadata": {
    "colab": {
     "base_uri": "https://localhost:8080/"
    },
    "executionInfo": {
     "elapsed": 370,
     "status": "ok",
     "timestamp": 1648364610168,
     "user": {
      "displayName": "Mahesh Anand",
      "photoUrl": "https://lh3.googleusercontent.com/a-/AOh14GgEjHTHmcE5H01IJo7KL2-QssgVKGBUBVq_Ch1n5Q=s64",
      "userId": "06788086636039591358"
     },
     "user_tz": -330
    },
    "id": "0gjtSo-PLy2X",
    "outputId": "0ffb9245-7d48-4885-c57c-610c90257148"
   },
   "outputs": [
    {
     "data": {
      "text/plain": [
       "0.0007092360018737691"
      ]
     },
     "execution_count": 28,
     "metadata": {},
     "output_type": "execute_result"
    }
   ],
   "source": [
    "(0.834701-0.834109)/0.834701"
   ]
  },
  {
   "cell_type": "code",
   "execution_count": null,
   "metadata": {
    "colab": {
     "base_uri": "https://localhost:8080/"
    },
    "executionInfo": {
     "elapsed": 360,
     "status": "ok",
     "timestamp": 1648364653022,
     "user": {
      "displayName": "Mahesh Anand",
      "photoUrl": "https://lh3.googleusercontent.com/a-/AOh14GgEjHTHmcE5H01IJo7KL2-QssgVKGBUBVq_Ch1n5Q=s64",
      "userId": "06788086636039591358"
     },
     "user_tz": -330
    },
    "id": "PTx94p6DL-XJ",
    "outputId": "2fdfdfe8-9848-4d05-c44e-c7a4eb8bba62"
   },
   "outputs": [
    {
     "data": {
      "text/plain": [
       "0.313597746181274"
      ]
     },
     "execution_count": 29,
     "metadata": {},
     "output_type": "execute_result"
    }
   ],
   "source": [
    "(0.022717-0.015593)/0.022717"
   ]
  },
  {
   "cell_type": "code",
   "execution_count": null,
   "metadata": {
    "id": "UPhWUWlkL-Z1"
   },
   "outputs": [],
   "source": []
  },
  {
   "cell_type": "code",
   "execution_count": null,
   "metadata": {
    "colab": {
     "base_uri": "https://localhost:8080/"
    },
    "executionInfo": {
     "elapsed": 4,
     "status": "ok",
     "timestamp": 1644144400681,
     "user": {
      "displayName": "Mahesh Anand",
      "photoUrl": "https://lh3.googleusercontent.com/a-/AOh14GjrgsRhu_m9R1mX1R2osLnbO2LcUFIvlC-8Zz6HBA=s64",
      "userId": "06788086636039591358"
     },
     "user_tz": -330
    },
    "id": "QO2hgxPIpBtu",
    "outputId": "afbba78b-a706-4d42-87a3-df6a323723a0"
   },
   "outputs": [
    {
     "data": {
      "text/plain": [
       "0.0007319819819820157"
      ]
     },
     "execution_count": 46,
     "metadata": {},
     "output_type": "execute_result"
    }
   ],
   "source": [
    "(0.83472-0.834109)/0.83472"
   ]
  },
  {
   "cell_type": "code",
   "execution_count": null,
   "metadata": {
    "colab": {
     "base_uri": "https://localhost:8080/"
    },
    "executionInfo": {
     "elapsed": 332,
     "status": "ok",
     "timestamp": 1644144462709,
     "user": {
      "displayName": "Mahesh Anand",
      "photoUrl": "https://lh3.googleusercontent.com/a-/AOh14GjrgsRhu_m9R1mX1R2osLnbO2LcUFIvlC-8Zz6HBA=s64",
      "userId": "06788086636039591358"
     },
     "user_tz": -330
    },
    "id": "9zIbEZQYpUVP",
    "outputId": "cc1e516e-f234-4977-cf44-9b9b97061666"
   },
   "outputs": [
    {
     "data": {
      "text/plain": [
       "0.08276470588235306"
      ]
     },
     "execution_count": 47,
     "metadata": {},
     "output_type": "execute_result"
    }
   ],
   "source": [
    "(0.017-0.015593)/0.017"
   ]
  },
  {
   "cell_type": "code",
   "execution_count": null,
   "metadata": {
    "colab": {
     "base_uri": "https://localhost:8080/"
    },
    "executionInfo": {
     "elapsed": 508,
     "status": "ok",
     "timestamp": 1641725496245,
     "user": {
      "displayName": "Mahesh Anand",
      "photoUrl": "https://lh3.googleusercontent.com/a-/AOh14GjrgsRhu_m9R1mX1R2osLnbO2LcUFIvlC-8Zz6HBA=s64",
      "userId": "06788086636039591358"
     },
     "user_tz": -330
    },
    "id": "KpwUIshFZAc8",
    "outputId": "be460f7b-5a0b-47d3-c2de-5b1bf7f1ff2f"
   },
   "outputs": [
    {
     "data": {
      "text/plain": [
       "0.25452876672624514"
      ]
     },
     "execution_count": 64,
     "metadata": {},
     "output_type": "execute_result"
    }
   ],
   "source": [
    "(0.020701-0.015432)/0.020701"
   ]
  },
  {
   "cell_type": "code",
   "execution_count": null,
   "metadata": {
    "colab": {
     "base_uri": "https://localhost:8080/"
    },
    "executionInfo": {
     "elapsed": 543,
     "status": "ok",
     "timestamp": 1641725460275,
     "user": {
      "displayName": "Mahesh Anand",
      "photoUrl": "https://lh3.googleusercontent.com/a-/AOh14GjrgsRhu_m9R1mX1R2osLnbO2LcUFIvlC-8Zz6HBA=s64",
      "userId": "06788086636039591358"
     },
     "user_tz": -330
    },
    "id": "cjS7yjQddjcg",
    "outputId": "5a54bc54-4877-4bbe-8986-089e5a3df4e5"
   },
   "outputs": [
    {
     "data": {
      "text/plain": [
       "0.0013298175035133003"
      ]
     },
     "execution_count": 63,
     "metadata": {},
     "output_type": "execute_result"
    }
   ],
   "source": [
    "(0.834701-0.833591)/0.834701"
   ]
  },
  {
   "cell_type": "code",
   "execution_count": null,
   "metadata": {
    "id": "OmB57ztEduM9"
   },
   "outputs": [],
   "source": [
    "(0.022717-)"
   ]
  },
  {
   "cell_type": "code",
   "execution_count": null,
   "metadata": {
    "colab": {
     "base_uri": "https://localhost:8080/"
    },
    "executionInfo": {
     "elapsed": 732,
     "status": "ok",
     "timestamp": 1637228025201,
     "user": {
      "displayName": "Mahesh Anand",
      "photoUrl": "https://lh3.googleusercontent.com/a-/AOh14Ghy47CXBCGfpGm71ElmYPDEY5c3AQB5tdq4ROpemw=s64",
      "userId": "06788086636039591358"
     },
     "user_tz": -330
    },
    "id": "-lY35zTUrXyv",
    "outputId": "5a1198fd-17de-497c-e80f-ff8ef686f74b"
   },
   "outputs": [
    {
     "data": {
      "text/plain": [
       "0.039642812073721036"
      ]
     },
     "execution_count": 2,
     "metadata": {},
     "output_type": "execute_result"
    }
   ],
   "source": [
    "(0.166411-0.159814)/0.166411"
   ]
  },
  {
   "cell_type": "code",
   "execution_count": null,
   "metadata": {
    "id": "C6WsZfDrRDcw"
   },
   "outputs": [],
   "source": [
    "#FINAL INFERENCE: BaggedLR having 25.45% less VE when compared to Stacked Model by\n",
    "#trading off only 3.9% in BE"
   ]
  }
 ],
 "metadata": {
  "accelerator": "GPU",
  "colab": {
   "collapsed_sections": [],
   "name": "Case_Study_Diabetes_prediction.ipynb",
   "provenance": []
  },
  "kernelspec": {
   "display_name": "Python 3 (ipykernel)",
   "language": "python",
   "name": "python3"
  },
  "language_info": {
   "codemirror_mode": {
    "name": "ipython",
    "version": 3
   },
   "file_extension": ".py",
   "mimetype": "text/x-python",
   "name": "python",
   "nbconvert_exporter": "python",
   "pygments_lexer": "ipython3",
   "version": "3.9.12"
  }
 },
 "nbformat": 4,
 "nbformat_minor": 1
}
