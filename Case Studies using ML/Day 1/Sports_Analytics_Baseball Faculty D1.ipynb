{
 "cells": [
  {
   "cell_type": "markdown",
   "metadata": {
    "id": "TaFf_9SEO_Bz"
   },
   "source": [
    "One of the most compelling stories of sports analytics made popular by the 2011 movie Moneyball, the Oakland Athletics team of 2002 created history by winning 20 consecutive games between August 13 and September 2002.\n",
    "Much of the Oakland Athletics (popularly referred to as the A’s) success in that season is attributed to their General Manager, Billy Beane and former Assistant General Manager, Paul DePodesta."
   ]
  },
  {
   "cell_type": "markdown",
   "metadata": {
    "id": "_WV8kKKTPXBR"
   },
   "source": [
    "DePodesta, a graduate in Economics from Harvard University joined the A’s in 1999 and quickly started incorporating analysis of baseball statistics to value and purchase players."
   ]
  },
  {
   "cell_type": "code",
   "execution_count": 1,
   "metadata": {
    "executionInfo": {
     "elapsed": 4,
     "status": "ok",
     "timestamp": 1677482345902,
     "user": {
      "displayName": "Mahesh Anand",
      "userId": "06788086636039591358"
     },
     "user_tz": -330
    },
    "id": "rNIDikRVO8vW"
   },
   "outputs": [],
   "source": [
    "import numpy as np\n",
    "import pandas as pd\n",
    "import matplotlib.pyplot as plt\n",
    "%matplotlib inline"
   ]
  },
  {
   "cell_type": "code",
   "execution_count": 2,
   "metadata": {
    "executionInfo": {
     "elapsed": 3,
     "status": "ok",
     "timestamp": 1677482345902,
     "user": {
      "displayName": "Mahesh Anand",
      "userId": "06788086636039591358"
     },
     "user_tz": -330
    },
    "id": "Lx1CbNz1kw7S"
   },
   "outputs": [],
   "source": [
    "import warnings\n",
    "warnings.filterwarnings('ignore')"
   ]
  },
  {
   "cell_type": "code",
   "execution_count": 4,
   "metadata": {
    "colab": {
     "base_uri": "https://localhost:8080/"
    },
    "executionInfo": {
     "elapsed": 24345,
     "status": "ok",
     "timestamp": 1677482515176,
     "user": {
      "displayName": "Mahesh Anand",
      "userId": "06788086636039591358"
     },
     "user_tz": -330
    },
    "id": "hYZghmpTEV94",
    "outputId": "3d9c10b8-633e-44c2-ace4-3aa2c57fbcf2"
   },
   "outputs": [
    {
     "name": "stdout",
     "output_type": "stream",
     "text": [
      "Mounted at /content/drive\n"
     ]
    }
   ],
   "source": [
    "from google.colab import drive\n",
    "drive.mount('/content/drive')"
   ]
  },
  {
   "cell_type": "code",
   "execution_count": 2,
   "metadata": {},
   "outputs": [
    {
     "name": "stdout",
     "output_type": "stream",
     "text": [
      "Defaulting to user installation because normal site-packages is not writeable\n",
      "Collecting Pycaret\n",
      "  Downloading pycaret-2.3.10-py3-none-any.whl (320 kB)\n",
      "Collecting lightgbm>=2.3.1\n",
      "  Downloading lightgbm-3.3.5-py3-none-win_amd64.whl (1.0 MB)\n",
      "Collecting cufflinks>=0.17.0\n",
      "  Downloading cufflinks-0.17.3.tar.gz (81 kB)\n",
      "Collecting spacy<2.4.0\n",
      "  Downloading spacy-2.3.9-cp39-cp39-win_amd64.whl (9.1 MB)\n",
      "Requirement already satisfied: pandas-profiling>=2.8.0 in c:\\users\\admin\\appdata\\roaming\\python\\python39\\site-packages (from Pycaret) (3.6.3)\n",
      "Collecting numba<0.55\n",
      "  Downloading numba-0.54.1-cp39-cp39-win_amd64.whl (2.3 MB)\n",
      "Requirement already satisfied: IPython in c:\\programdata\\anaconda3\\lib\\site-packages (from Pycaret) (8.2.0)\n",
      "Collecting scikit-learn==0.23.2\n",
      "  Downloading scikit-learn-0.23.2.tar.gz (7.2 MB)\n",
      "  Installing build dependencies: started\n",
      "  Installing build dependencies: still running...\n",
      "  Installing build dependencies: still running...\n",
      "  Installing build dependencies: finished with status 'error'\n",
      "Collecting Pycaret\n"
     ]
    },
    {
     "name": "stderr",
     "output_type": "stream",
     "text": [
      "  ERROR: Command errored out with exit status 2:\n",
      "   command: 'C:\\ProgramData\\Anaconda3\\python.exe' 'C:\\Users\\Admin\\AppData\\Local\\Temp\\pip-standalone-pip-_frnwz_1\\__env_pip__.zip\\pip' install --ignore-installed --no-user --prefix 'C:\\Users\\Admin\\AppData\\Local\\Temp\\pip-build-env-omz0v_t3\\overlay' --no-warn-script-location --no-binary :none: --only-binary :none: -i https://pypi.org/simple -- setuptools wheel 'Cython>=0.28.5' 'numpy==1.13.3; python_version=='\"'\"'3.6'\"'\"' and platform_system!='\"'\"'AIX'\"'\"' and platform_python_implementation == '\"'\"'CPython'\"'\"'' 'numpy==1.14.0; python_version=='\"'\"'3.6'\"'\"' and platform_system!='\"'\"'AIX'\"'\"' and platform_python_implementation != '\"'\"'CPython'\"'\"'' 'numpy==1.14.5; python_version=='\"'\"'3.7'\"'\"' and platform_system!='\"'\"'AIX'\"'\"'' 'numpy==1.17.3; python_version>='\"'\"'3.8'\"'\"' and platform_system!='\"'\"'AIX'\"'\"'' 'numpy==1.16.0; python_version=='\"'\"'3.6'\"'\"' and platform_system=='\"'\"'AIX'\"'\"'' 'numpy==1.16.0; python_version=='\"'\"'3.7'\"'\"' and platform_system=='\"'\"'AIX'\"'\"'' 'numpy==1.17.3; python_version>='\"'\"'3.8'\"'\"' and platform_system=='\"'\"'AIX'\"'\"'' 'scipy>=0.19.1'\n",
      "       cwd: None\n",
      "  Complete output (95 lines):\n",
      "  Ignoring numpy: markers 'python_version == \"3.6\" and platform_system != \"AIX\" and platform_python_implementation == \"CPython\"' don't match your environment\n",
      "  Ignoring numpy: markers 'python_version == \"3.6\" and platform_system != \"AIX\" and platform_python_implementation != \"CPython\"' don't match your environment\n",
      "  Ignoring numpy: markers 'python_version == \"3.7\" and platform_system != \"AIX\"' don't match your environment\n",
      "  Ignoring numpy: markers 'python_version == \"3.6\" and platform_system == \"AIX\"' don't match your environment\n",
      "  Ignoring numpy: markers 'python_version == \"3.7\" and platform_system == \"AIX\"' don't match your environment\n",
      "  Ignoring numpy: markers 'python_version >= \"3.8\" and platform_system == \"AIX\"' don't match your environment\n",
      "  Collecting setuptools\n",
      "    Downloading setuptools-67.5.1-py3-none-any.whl (1.1 MB)\n",
      "  Collecting wheel\n",
      "    Using cached wheel-0.38.4-py3-none-any.whl (36 kB)\n",
      "  Collecting Cython>=0.28.5\n",
      "    Downloading Cython-0.29.33-py2.py3-none-any.whl (987 kB)\n",
      "  Collecting numpy==1.17.3\n",
      "    Downloading numpy-1.17.3.zip (6.4 MB)\n",
      "  Collecting scipy>=0.19.1\n",
      "    Downloading scipy-1.10.1-cp39-cp39-win_amd64.whl (42.5 MB)\n",
      "    Downloading scipy-1.10.0-cp39-cp39-win_amd64.whl (42.5 MB)\n",
      "    Downloading scipy-1.9.3-cp39-cp39-win_amd64.whl (40.2 MB)\n",
      "    Downloading scipy-1.9.2-cp39-cp39-win_amd64.whl (40.1 MB)\n",
      "    Downloading scipy-1.9.1-cp39-cp39-win_amd64.whl (38.6 MB)\n",
      "    Downloading scipy-1.9.0-cp39-cp39-win_amd64.whl (38.6 MB)\n",
      "  ERROR: Exception:\n",
      "  Traceback (most recent call last):\n",
      "    File \"C:\\Users\\Admin\\AppData\\Local\\Temp\\pip-standalone-pip-_frnwz_1\\__env_pip__.zip\\pip\\_vendor\\urllib3\\response.py\", line 438, in _error_catcher\n",
      "      yield\n",
      "    File \"C:\\Users\\Admin\\AppData\\Local\\Temp\\pip-standalone-pip-_frnwz_1\\__env_pip__.zip\\pip\\_vendor\\urllib3\\response.py\", line 519, in read\n",
      "      data = self._fp.read(amt) if not fp_closed else b\"\"\n",
      "    File \"C:\\Users\\Admin\\AppData\\Local\\Temp\\pip-standalone-pip-_frnwz_1\\__env_pip__.zip\\pip\\_vendor\\cachecontrol\\filewrapper.py\", line 62, in read\n",
      "      data = self.__fp.read(amt)\n",
      "    File \"C:\\ProgramData\\Anaconda3\\lib\\http\\client.py\", line 463, in read\n",
      "      n = self.readinto(b)\n",
      "    File \"C:\\ProgramData\\Anaconda3\\lib\\http\\client.py\", line 507, in readinto\n",
      "      n = self.fp.readinto(b)\n",
      "    File \"C:\\ProgramData\\Anaconda3\\lib\\socket.py\", line 704, in readinto\n",
      "      return self._sock.recv_into(b)\n",
      "    File \"C:\\ProgramData\\Anaconda3\\lib\\ssl.py\", line 1241, in recv_into\n",
      "      return self.read(nbytes, buffer)\n",
      "    File \"C:\\ProgramData\\Anaconda3\\lib\\ssl.py\", line 1099, in read\n",
      "      return self._sslobj.read(len, buffer)\n",
      "  socket.timeout: The read operation timed out\n",
      "  \n",
      "  During handling of the above exception, another exception occurred:\n",
      "  \n",
      "  Traceback (most recent call last):\n",
      "    File \"C:\\Users\\Admin\\AppData\\Local\\Temp\\pip-standalone-pip-_frnwz_1\\__env_pip__.zip\\pip\\_internal\\cli\\base_command.py\", line 173, in _main\n",
      "      status = self.run(options, args)\n",
      "    File \"C:\\Users\\Admin\\AppData\\Local\\Temp\\pip-standalone-pip-_frnwz_1\\__env_pip__.zip\\pip\\_internal\\cli\\req_command.py\", line 203, in wrapper\n",
      "      return func(self, options, args)\n",
      "    File \"C:\\Users\\Admin\\AppData\\Local\\Temp\\pip-standalone-pip-_frnwz_1\\__env_pip__.zip\\pip\\_internal\\commands\\install.py\", line 315, in run\n",
      "      requirement_set = resolver.resolve(\n",
      "    File \"C:\\Users\\Admin\\AppData\\Local\\Temp\\pip-standalone-pip-_frnwz_1\\__env_pip__.zip\\pip\\_internal\\resolution\\resolvelib\\resolver.py\", line 94, in resolve\n",
      "      result = self._result = resolver.resolve(\n",
      "    File \"C:\\Users\\Admin\\AppData\\Local\\Temp\\pip-standalone-pip-_frnwz_1\\__env_pip__.zip\\pip\\_vendor\\resolvelib\\resolvers.py\", line 472, in resolve\n",
      "      state = resolution.resolve(requirements, max_rounds=max_rounds)\n",
      "    File \"C:\\Users\\Admin\\AppData\\Local\\Temp\\pip-standalone-pip-_frnwz_1\\__env_pip__.zip\\pip\\_vendor\\resolvelib\\resolvers.py\", line 366, in resolve\n",
      "      failure_causes = self._attempt_to_pin_criterion(name)\n",
      "    File \"C:\\Users\\Admin\\AppData\\Local\\Temp\\pip-standalone-pip-_frnwz_1\\__env_pip__.zip\\pip\\_vendor\\resolvelib\\resolvers.py\", line 210, in _attempt_to_pin_criterion\n",
      "      for candidate in criterion.candidates:\n",
      "    File \"C:\\Users\\Admin\\AppData\\Local\\Temp\\pip-standalone-pip-_frnwz_1\\__env_pip__.zip\\pip\\_internal\\resolution\\resolvelib\\found_candidates.py\", line 128, in <genexpr>\n",
      "      return (c for c in iterator if id(c) not in self._incompatible_ids)\n",
      "    File \"C:\\Users\\Admin\\AppData\\Local\\Temp\\pip-standalone-pip-_frnwz_1\\__env_pip__.zip\\pip\\_internal\\resolution\\resolvelib\\found_candidates.py\", line 32, in _iter_built\n",
      "      candidate = func()\n",
      "    File \"C:\\Users\\Admin\\AppData\\Local\\Temp\\pip-standalone-pip-_frnwz_1\\__env_pip__.zip\\pip\\_internal\\resolution\\resolvelib\\factory.py\", line 204, in _make_candidate_from_link\n",
      "      self._link_candidate_cache[link] = LinkCandidate(\n",
      "    File \"C:\\Users\\Admin\\AppData\\Local\\Temp\\pip-standalone-pip-_frnwz_1\\__env_pip__.zip\\pip\\_internal\\resolution\\resolvelib\\candidates.py\", line 295, in __init__\n",
      "      super().__init__(\n",
      "    File \"C:\\Users\\Admin\\AppData\\Local\\Temp\\pip-standalone-pip-_frnwz_1\\__env_pip__.zip\\pip\\_internal\\resolution\\resolvelib\\candidates.py\", line 156, in __init__\n",
      "      self.dist = self._prepare()\n",
      "    File \"C:\\Users\\Admin\\AppData\\Local\\Temp\\pip-standalone-pip-_frnwz_1\\__env_pip__.zip\\pip\\_internal\\resolution\\resolvelib\\candidates.py\", line 227, in _prepare\n",
      "      dist = self._prepare_distribution()\n",
      "    File \"C:\\Users\\Admin\\AppData\\Local\\Temp\\pip-standalone-pip-_frnwz_1\\__env_pip__.zip\\pip\\_internal\\resolution\\resolvelib\\candidates.py\", line 305, in _prepare_distribution\n",
      "      return self._factory.preparer.prepare_linked_requirement(\n",
      "    File \"C:\\Users\\Admin\\AppData\\Local\\Temp\\pip-standalone-pip-_frnwz_1\\__env_pip__.zip\\pip\\_internal\\operations\\prepare.py\", line 508, in prepare_linked_requirement\n",
      "      return self._prepare_linked_requirement(req, parallel_builds)\n",
      "    File \"C:\\Users\\Admin\\AppData\\Local\\Temp\\pip-standalone-pip-_frnwz_1\\__env_pip__.zip\\pip\\_internal\\operations\\prepare.py\", line 550, in _prepare_linked_requirement\n",
      "      local_file = unpack_url(\n",
      "    File \"C:\\Users\\Admin\\AppData\\Local\\Temp\\pip-standalone-pip-_frnwz_1\\__env_pip__.zip\\pip\\_internal\\operations\\prepare.py\", line 239, in unpack_url\n",
      "      file = get_http_url(\n",
      "    File \"C:\\Users\\Admin\\AppData\\Local\\Temp\\pip-standalone-pip-_frnwz_1\\__env_pip__.zip\\pip\\_internal\\operations\\prepare.py\", line 102, in get_http_url\n",
      "      from_path, content_type = download(link, temp_dir.path)\n",
      "    File \"C:\\Users\\Admin\\AppData\\Local\\Temp\\pip-standalone-pip-_frnwz_1\\__env_pip__.zip\\pip\\_internal\\network\\download.py\", line 145, in __call__\n",
      "      for chunk in chunks:\n",
      "    File \"C:\\Users\\Admin\\AppData\\Local\\Temp\\pip-standalone-pip-_frnwz_1\\__env_pip__.zip\\pip\\_internal\\cli\\progress_bars.py\", line 144, in iter\n",
      "      for x in it:\n",
      "    File \"C:\\Users\\Admin\\AppData\\Local\\Temp\\pip-standalone-pip-_frnwz_1\\__env_pip__.zip\\pip\\_internal\\network\\utils.py\", line 63, in response_chunks\n",
      "      for chunk in response.raw.stream(\n",
      "    File \"C:\\Users\\Admin\\AppData\\Local\\Temp\\pip-standalone-pip-_frnwz_1\\__env_pip__.zip\\pip\\_vendor\\urllib3\\response.py\", line 576, in stream\n",
      "      data = self.read(amt=amt, decode_content=decode_content)\n",
      "    File \"C:\\Users\\Admin\\AppData\\Local\\Temp\\pip-standalone-pip-_frnwz_1\\__env_pip__.zip\\pip\\_vendor\\urllib3\\response.py\", line 541, in read\n",
      "      raise IncompleteRead(self._fp_bytes_read, self.length_remaining)\n",
      "    File \"C:\\ProgramData\\Anaconda3\\lib\\contextlib.py\", line 137, in __exit__\n",
      "      self.gen.throw(typ, value, traceback)\n",
      "    File \"C:\\Users\\Admin\\AppData\\Local\\Temp\\pip-standalone-pip-_frnwz_1\\__env_pip__.zip\\pip\\_vendor\\urllib3\\response.py\", line 443, in _error_catcher\n",
      "      raise ReadTimeoutError(self._pool, None, \"Read timed out.\")\n",
      "  pip._vendor.urllib3.exceptions.ReadTimeoutError: HTTPSConnectionPool(host='files.pythonhosted.org', port=443): Read timed out.\n",
      "  ----------------------------------------\n",
      "WARNING: Discarding https://files.pythonhosted.org/packages/aa/f6/75297be19f48b7a8c2577753a3a700f98fc4db49d0e5ed3820dd8dee43d4/scikit-learn-0.23.2.tar.gz#sha256=20766f515e6cd6f954554387dfae705d93c7b544ec0e6c6a5d8e006f6f7ef480 (from https://pypi.org/simple/scikit-learn/) (requires-python:>=3.6). Command errored out with exit status 2: 'C:\\ProgramData\\Anaconda3\\python.exe' 'C:\\Users\\Admin\\AppData\\Local\\Temp\\pip-standalone-pip-_frnwz_1\\__env_pip__.zip\\pip' install --ignore-installed --no-user --prefix 'C:\\Users\\Admin\\AppData\\Local\\Temp\\pip-build-env-omz0v_t3\\overlay' --no-warn-script-location --no-binary :none: --only-binary :none: -i https://pypi.org/simple -- setuptools wheel 'Cython>=0.28.5' 'numpy==1.13.3; python_version=='\"'\"'3.6'\"'\"' and platform_system!='\"'\"'AIX'\"'\"' and platform_python_implementation == '\"'\"'CPython'\"'\"'' 'numpy==1.14.0; python_version=='\"'\"'3.6'\"'\"' and platform_system!='\"'\"'AIX'\"'\"' and platform_python_implementation != '\"'\"'CPython'\"'\"'' 'numpy==1.14.5; python_version=='\"'\"'3.7'\"'\"' and platform_system!='\"'\"'AIX'\"'\"'' 'numpy==1.17.3; python_version>='\"'\"'3.8'\"'\"' and platform_system!='\"'\"'AIX'\"'\"'' 'numpy==1.16.0; python_version=='\"'\"'3.6'\"'\"' and platform_system=='\"'\"'AIX'\"'\"'' 'numpy==1.16.0; python_version=='\"'\"'3.7'\"'\"' and platform_system=='\"'\"'AIX'\"'\"'' 'numpy==1.17.3; python_version>='\"'\"'3.8'\"'\"' and platform_system=='\"'\"'AIX'\"'\"'' 'scipy>=0.19.1' Check the logs for full command output.\n",
      "  WARNING: Retrying (Retry(total=4, connect=None, read=None, redirect=None, status=None)) after connection broken by 'ReadTimeoutError(\"HTTPSConnectionPool(host='files.pythonhosted.org', port=443): Read timed out. (read timeout=15)\")': /packages/10/58/96a626fb34a3e46dfa608d22804ae91560c552ce7e3f3e1994dfdb57a16d/pycaret-2.3.9-py3-none-any.whl\n",
      "  WARNING: Retrying (Retry(total=3, connect=None, read=None, redirect=None, status=None)) after connection broken by 'ReadTimeoutError(\"HTTPSConnectionPool(host='files.pythonhosted.org', port=443): Read timed out. (read timeout=15)\")': /packages/10/58/96a626fb34a3e46dfa608d22804ae91560c552ce7e3f3e1994dfdb57a16d/pycaret-2.3.9-py3-none-any.whl\n",
      "  WARNING: Retrying (Retry(total=2, connect=None, read=None, redirect=None, status=None)) after connection broken by 'ReadTimeoutError(\"HTTPSConnectionPool(host='files.pythonhosted.org', port=443): Read timed out. (read timeout=15)\")': /packages/10/58/96a626fb34a3e46dfa608d22804ae91560c552ce7e3f3e1994dfdb57a16d/pycaret-2.3.9-py3-none-any.whl\n",
      "  WARNING: Retrying (Retry(total=1, connect=None, read=None, redirect=None, status=None)) after connection broken by 'ReadTimeoutError(\"HTTPSConnectionPool(host='files.pythonhosted.org', port=443): Read timed out. (read timeout=15)\")': /packages/10/58/96a626fb34a3e46dfa608d22804ae91560c552ce7e3f3e1994dfdb57a16d/pycaret-2.3.9-py3-none-any.whl\n",
      "  WARNING: Retrying (Retry(total=0, connect=None, read=None, redirect=None, status=None)) after connection broken by 'ReadTimeoutError(\"HTTPSConnectionPool(host='files.pythonhosted.org', port=443): Read timed out. (read timeout=15)\")': /packages/10/58/96a626fb34a3e46dfa608d22804ae91560c552ce7e3f3e1994dfdb57a16d/pycaret-2.3.9-py3-none-any.whl\n",
      "ERROR: Could not install packages due to an OSError: HTTPSConnectionPool(host='files.pythonhosted.org', port=443): Max retries exceeded with url: /packages/10/58/96a626fb34a3e46dfa608d22804ae91560c552ce7e3f3e1994dfdb57a16d/pycaret-2.3.9-py3-none-any.whl (Caused by ReadTimeoutError(\"HTTPSConnectionPool(host='files.pythonhosted.org', port=443): Read timed out. (read timeout=15)\"))\n",
      "\n"
     ]
    },
    {
     "name": "stdout",
     "output_type": "stream",
     "text": [
      "Defaulting to user installation because normal site-packages is not writeable\n",
      "Collecting pycaret\n",
      "  Using cached pycaret-2.3.10-py3-none-any.whl (320 kB)\n",
      "Collecting imbalanced-learn==0.7.0\n",
      "  Downloading imbalanced_learn-0.7.0-py3-none-any.whl (167 kB)\n",
      "Note: you may need to restart the kernel to use updated packages.\n"
     ]
    },
    {
     "name": "stderr",
     "output_type": "stream",
     "text": [
      "WARNING: Retrying (Retry(total=4, connect=None, read=None, redirect=None, status=None)) after connection broken by 'ReadTimeoutError(\"HTTPSConnectionPool(host='pypi.org', port=443): Read timed out. (read timeout=15)\")': /simple/imbalanced-learn/\n",
      "WARNING: Retrying (Retry(total=3, connect=None, read=None, redirect=None, status=None)) after connection broken by 'ReadTimeoutError(\"HTTPSConnectionPool(host='pypi.org', port=443): Read timed out. (read timeout=15)\")': /simple/imbalanced-learn/\n",
      "WARNING: Retrying (Retry(total=2, connect=None, read=None, redirect=None, status=None)) after connection broken by 'ReadTimeoutError(\"HTTPSConnectionPool(host='pypi.org', port=443): Read timed out. (read timeout=15)\")': /simple/imbalanced-learn/\n",
      "ERROR: Exception:\n",
      "Traceback (most recent call last):\n",
      "  File \"C:\\ProgramData\\Anaconda3\\lib\\site-packages\\pip\\_vendor\\urllib3\\response.py\", line 438, in _error_catcher\n",
      "    yield\n",
      "  File \"C:\\ProgramData\\Anaconda3\\lib\\site-packages\\pip\\_vendor\\urllib3\\response.py\", line 519, in read\n",
      "    data = self._fp.read(amt) if not fp_closed else b\"\"\n",
      "  File \"C:\\ProgramData\\Anaconda3\\lib\\site-packages\\pip\\_vendor\\cachecontrol\\filewrapper.py\", line 62, in read\n",
      "    data = self.__fp.read(amt)\n",
      "  File \"C:\\ProgramData\\Anaconda3\\lib\\http\\client.py\", line 463, in read\n",
      "    n = self.readinto(b)\n",
      "  File \"C:\\ProgramData\\Anaconda3\\lib\\http\\client.py\", line 507, in readinto\n",
      "    n = self.fp.readinto(b)\n",
      "  File \"C:\\ProgramData\\Anaconda3\\lib\\socket.py\", line 704, in readinto\n",
      "    return self._sock.recv_into(b)\n",
      "  File \"C:\\ProgramData\\Anaconda3\\lib\\ssl.py\", line 1241, in recv_into\n",
      "    return self.read(nbytes, buffer)\n",
      "  File \"C:\\ProgramData\\Anaconda3\\lib\\ssl.py\", line 1099, in read\n",
      "    return self._sslobj.read(len, buffer)\n",
      "ConnectionResetError: [WinError 10054] An existing connection was forcibly closed by the remote host\n",
      "\n",
      "During handling of the above exception, another exception occurred:\n",
      "\n",
      "Traceback (most recent call last):\n",
      "  File \"C:\\ProgramData\\Anaconda3\\lib\\site-packages\\pip\\_internal\\cli\\base_command.py\", line 173, in _main\n",
      "    status = self.run(options, args)\n",
      "  File \"C:\\ProgramData\\Anaconda3\\lib\\site-packages\\pip\\_internal\\cli\\req_command.py\", line 203, in wrapper\n",
      "    return func(self, options, args)\n",
      "  File \"C:\\ProgramData\\Anaconda3\\lib\\site-packages\\pip\\_internal\\commands\\install.py\", line 315, in run\n",
      "    requirement_set = resolver.resolve(\n",
      "  File \"C:\\ProgramData\\Anaconda3\\lib\\site-packages\\pip\\_internal\\resolution\\resolvelib\\resolver.py\", line 94, in resolve\n",
      "    result = self._result = resolver.resolve(\n",
      "  File \"C:\\ProgramData\\Anaconda3\\lib\\site-packages\\pip\\_vendor\\resolvelib\\resolvers.py\", line 472, in resolve\n",
      "    state = resolution.resolve(requirements, max_rounds=max_rounds)\n",
      "  File \"C:\\ProgramData\\Anaconda3\\lib\\site-packages\\pip\\_vendor\\resolvelib\\resolvers.py\", line 366, in resolve\n",
      "    failure_causes = self._attempt_to_pin_criterion(name)\n",
      "  File \"C:\\ProgramData\\Anaconda3\\lib\\site-packages\\pip\\_vendor\\resolvelib\\resolvers.py\", line 212, in _attempt_to_pin_criterion\n",
      "    criteria = self._get_updated_criteria(candidate)\n",
      "  File \"C:\\ProgramData\\Anaconda3\\lib\\site-packages\\pip\\_vendor\\resolvelib\\resolvers.py\", line 203, in _get_updated_criteria\n",
      "    self._add_to_criteria(criteria, requirement, parent=candidate)\n",
      "  File \"C:\\ProgramData\\Anaconda3\\lib\\site-packages\\pip\\_vendor\\resolvelib\\resolvers.py\", line 172, in _add_to_criteria\n",
      "    if not criterion.candidates:\n",
      "  File \"C:\\ProgramData\\Anaconda3\\lib\\site-packages\\pip\\_vendor\\resolvelib\\structs.py\", line 151, in __bool__\n",
      "    return bool(self._sequence)\n",
      "  File \"C:\\ProgramData\\Anaconda3\\lib\\site-packages\\pip\\_internal\\resolution\\resolvelib\\found_candidates.py\", line 140, in __bool__\n",
      "    return any(self)\n",
      "  File \"C:\\ProgramData\\Anaconda3\\lib\\site-packages\\pip\\_internal\\resolution\\resolvelib\\found_candidates.py\", line 128, in <genexpr>\n",
      "    return (c for c in iterator if id(c) not in self._incompatible_ids)\n",
      "  File \"C:\\ProgramData\\Anaconda3\\lib\\site-packages\\pip\\_internal\\resolution\\resolvelib\\found_candidates.py\", line 32, in _iter_built\n",
      "    candidate = func()\n",
      "  File \"C:\\ProgramData\\Anaconda3\\lib\\site-packages\\pip\\_internal\\resolution\\resolvelib\\factory.py\", line 204, in _make_candidate_from_link\n",
      "    self._link_candidate_cache[link] = LinkCandidate(\n",
      "  File \"C:\\ProgramData\\Anaconda3\\lib\\site-packages\\pip\\_internal\\resolution\\resolvelib\\candidates.py\", line 295, in __init__\n",
      "    super().__init__(\n",
      "  File \"C:\\ProgramData\\Anaconda3\\lib\\site-packages\\pip\\_internal\\resolution\\resolvelib\\candidates.py\", line 156, in __init__\n",
      "    self.dist = self._prepare()\n",
      "  File \"C:\\ProgramData\\Anaconda3\\lib\\site-packages\\pip\\_internal\\resolution\\resolvelib\\candidates.py\", line 227, in _prepare\n",
      "    dist = self._prepare_distribution()\n",
      "  File \"C:\\ProgramData\\Anaconda3\\lib\\site-packages\\pip\\_internal\\resolution\\resolvelib\\candidates.py\", line 305, in _prepare_distribution\n",
      "    return self._factory.preparer.prepare_linked_requirement(\n",
      "  File \"C:\\ProgramData\\Anaconda3\\lib\\site-packages\\pip\\_internal\\operations\\prepare.py\", line 508, in prepare_linked_requirement\n",
      "    return self._prepare_linked_requirement(req, parallel_builds)\n",
      "  File \"C:\\ProgramData\\Anaconda3\\lib\\site-packages\\pip\\_internal\\operations\\prepare.py\", line 550, in _prepare_linked_requirement\n",
      "    local_file = unpack_url(\n",
      "  File \"C:\\ProgramData\\Anaconda3\\lib\\site-packages\\pip\\_internal\\operations\\prepare.py\", line 239, in unpack_url\n",
      "    file = get_http_url(\n",
      "  File \"C:\\ProgramData\\Anaconda3\\lib\\site-packages\\pip\\_internal\\operations\\prepare.py\", line 102, in get_http_url\n",
      "    from_path, content_type = download(link, temp_dir.path)\n",
      "  File \"C:\\ProgramData\\Anaconda3\\lib\\site-packages\\pip\\_internal\\network\\download.py\", line 145, in __call__\n",
      "    for chunk in chunks:\n",
      "  File \"C:\\ProgramData\\Anaconda3\\lib\\site-packages\\pip\\_internal\\cli\\progress_bars.py\", line 144, in iter\n",
      "    for x in it:\n",
      "  File \"C:\\ProgramData\\Anaconda3\\lib\\site-packages\\pip\\_internal\\network\\utils.py\", line 63, in response_chunks\n",
      "    for chunk in response.raw.stream(\n",
      "  File \"C:\\ProgramData\\Anaconda3\\lib\\site-packages\\pip\\_vendor\\urllib3\\response.py\", line 576, in stream\n",
      "    data = self.read(amt=amt, decode_content=decode_content)\n",
      "  File \"C:\\ProgramData\\Anaconda3\\lib\\site-packages\\pip\\_vendor\\urllib3\\response.py\", line 541, in read\n",
      "    raise IncompleteRead(self._fp_bytes_read, self.length_remaining)\n",
      "  File \"C:\\ProgramData\\Anaconda3\\lib\\contextlib.py\", line 137, in __exit__\n",
      "    self.gen.throw(typ, value, traceback)\n",
      "  File \"C:\\ProgramData\\Anaconda3\\lib\\site-packages\\pip\\_vendor\\urllib3\\response.py\", line 455, in _error_catcher\n",
      "    raise ProtocolError(\"Connection broken: %r\" % e, e)\n",
      "pip._vendor.urllib3.exceptions.ProtocolError: (\"Connection broken: ConnectionResetError(10054, 'An existing connection was forcibly closed by the remote host', None, 10054, None)\", ConnectionResetError(10054, 'An existing connection was forcibly closed by the remote host', None, 10054, None))\n"
     ]
    }
   ],
   "source": [
    "pip install pycaret"
   ]
  },
  {
   "cell_type": "code",
   "execution_count": null,
   "metadata": {
    "id": "9Ps1Q287FBLO"
   },
   "outputs": [],
   "source": [
    "#RA - Runs Allowed\n",
    "#RS - Runs Scored\n",
    "#OBP - On Base Percentage\n",
    "#SLG - Slugging Percentage\n",
    "#BA - Batting Average\n",
    "#OOBP - Opponent's OBP\n",
    "#OSLG - Opponent's SLG\n",
    "#W - No of wins in that season\n",
    "#Statistical Analysis Clip from Moneyball (2011)"
   ]
  },
  {
   "cell_type": "code",
   "execution_count": 3,
   "metadata": {},
   "outputs": [
    {
     "data": {
      "text/html": [
       "<div>\n",
       "<style scoped>\n",
       "    .dataframe tbody tr th:only-of-type {\n",
       "        vertical-align: middle;\n",
       "    }\n",
       "\n",
       "    .dataframe tbody tr th {\n",
       "        vertical-align: top;\n",
       "    }\n",
       "\n",
       "    .dataframe thead th {\n",
       "        text-align: right;\n",
       "    }\n",
       "</style>\n",
       "<table border=\"1\" class=\"dataframe\">\n",
       "  <thead>\n",
       "    <tr style=\"text-align: right;\">\n",
       "      <th></th>\n",
       "      <th>Team</th>\n",
       "      <th>League</th>\n",
       "      <th>Year</th>\n",
       "      <th>RS</th>\n",
       "      <th>RA</th>\n",
       "      <th>W</th>\n",
       "      <th>OBP</th>\n",
       "      <th>SLG</th>\n",
       "      <th>BA</th>\n",
       "      <th>Playoffs</th>\n",
       "      <th>RankSeason</th>\n",
       "      <th>RankPlayoffs</th>\n",
       "      <th>G</th>\n",
       "      <th>OOBP</th>\n",
       "      <th>OSLG</th>\n",
       "    </tr>\n",
       "  </thead>\n",
       "  <tbody>\n",
       "    <tr>\n",
       "      <th>0</th>\n",
       "      <td>ARI</td>\n",
       "      <td>NL</td>\n",
       "      <td>2012</td>\n",
       "      <td>734</td>\n",
       "      <td>688</td>\n",
       "      <td>81</td>\n",
       "      <td>0.328</td>\n",
       "      <td>0.418</td>\n",
       "      <td>0.259</td>\n",
       "      <td>0</td>\n",
       "      <td>NaN</td>\n",
       "      <td>NaN</td>\n",
       "      <td>162</td>\n",
       "      <td>0.317</td>\n",
       "      <td>0.415</td>\n",
       "    </tr>\n",
       "    <tr>\n",
       "      <th>1</th>\n",
       "      <td>ATL</td>\n",
       "      <td>NL</td>\n",
       "      <td>2012</td>\n",
       "      <td>700</td>\n",
       "      <td>600</td>\n",
       "      <td>94</td>\n",
       "      <td>0.320</td>\n",
       "      <td>0.389</td>\n",
       "      <td>0.247</td>\n",
       "      <td>1</td>\n",
       "      <td>4.0</td>\n",
       "      <td>5.0</td>\n",
       "      <td>162</td>\n",
       "      <td>0.306</td>\n",
       "      <td>0.378</td>\n",
       "    </tr>\n",
       "    <tr>\n",
       "      <th>2</th>\n",
       "      <td>BAL</td>\n",
       "      <td>AL</td>\n",
       "      <td>2012</td>\n",
       "      <td>712</td>\n",
       "      <td>705</td>\n",
       "      <td>93</td>\n",
       "      <td>0.311</td>\n",
       "      <td>0.417</td>\n",
       "      <td>0.247</td>\n",
       "      <td>1</td>\n",
       "      <td>5.0</td>\n",
       "      <td>4.0</td>\n",
       "      <td>162</td>\n",
       "      <td>0.315</td>\n",
       "      <td>0.403</td>\n",
       "    </tr>\n",
       "    <tr>\n",
       "      <th>3</th>\n",
       "      <td>BOS</td>\n",
       "      <td>AL</td>\n",
       "      <td>2012</td>\n",
       "      <td>734</td>\n",
       "      <td>806</td>\n",
       "      <td>69</td>\n",
       "      <td>0.315</td>\n",
       "      <td>0.415</td>\n",
       "      <td>0.260</td>\n",
       "      <td>0</td>\n",
       "      <td>NaN</td>\n",
       "      <td>NaN</td>\n",
       "      <td>162</td>\n",
       "      <td>0.331</td>\n",
       "      <td>0.428</td>\n",
       "    </tr>\n",
       "    <tr>\n",
       "      <th>4</th>\n",
       "      <td>CHC</td>\n",
       "      <td>NL</td>\n",
       "      <td>2012</td>\n",
       "      <td>613</td>\n",
       "      <td>759</td>\n",
       "      <td>61</td>\n",
       "      <td>0.302</td>\n",
       "      <td>0.378</td>\n",
       "      <td>0.240</td>\n",
       "      <td>0</td>\n",
       "      <td>NaN</td>\n",
       "      <td>NaN</td>\n",
       "      <td>162</td>\n",
       "      <td>0.335</td>\n",
       "      <td>0.424</td>\n",
       "    </tr>\n",
       "  </tbody>\n",
       "</table>\n",
       "</div>"
      ],
      "text/plain": [
       "  Team League  Year   RS   RA   W    OBP    SLG     BA  Playoffs  RankSeason  \\\n",
       "0  ARI     NL  2012  734  688  81  0.328  0.418  0.259         0         NaN   \n",
       "1  ATL     NL  2012  700  600  94  0.320  0.389  0.247         1         4.0   \n",
       "2  BAL     AL  2012  712  705  93  0.311  0.417  0.247         1         5.0   \n",
       "3  BOS     AL  2012  734  806  69  0.315  0.415  0.260         0         NaN   \n",
       "4  CHC     NL  2012  613  759  61  0.302  0.378  0.240         0         NaN   \n",
       "\n",
       "   RankPlayoffs    G   OOBP   OSLG  \n",
       "0           NaN  162  0.317  0.415  \n",
       "1           5.0  162  0.306  0.378  \n",
       "2           4.0  162  0.315  0.403  \n",
       "3           NaN  162  0.331  0.428  \n",
       "4           NaN  162  0.335  0.424  "
      ]
     },
     "execution_count": 3,
     "metadata": {},
     "output_type": "execute_result"
    }
   ],
   "source": [
    "df=pd.read_csv('baseball.csv')\n",
    "df.head()"
   ]
  },
  {
   "cell_type": "code",
   "execution_count": 39,
   "metadata": {
    "colab": {
     "base_uri": "https://localhost:8080/",
     "height": 270
    },
    "executionInfo": {
     "elapsed": 4,
     "status": "ok",
     "timestamp": 1677485634755,
     "user": {
      "displayName": "Mahesh Anand",
      "userId": "06788086636039591358"
     },
     "user_tz": -330
    },
    "id": "uh_PdTrbD-Yx",
    "outputId": "de6c187d-192d-4e92-cc4f-7f1e663587dd"
   },
   "outputs": [
    {
     "data": {
      "text/html": [
       "\n",
       "  <div id=\"df-8cee21d1-379d-47b6-a943-5802cdcf8761\">\n",
       "    <div class=\"colab-df-container\">\n",
       "      <div>\n",
       "<style scoped>\n",
       "    .dataframe tbody tr th:only-of-type {\n",
       "        vertical-align: middle;\n",
       "    }\n",
       "\n",
       "    .dataframe tbody tr th {\n",
       "        vertical-align: top;\n",
       "    }\n",
       "\n",
       "    .dataframe thead th {\n",
       "        text-align: right;\n",
       "    }\n",
       "</style>\n",
       "<table border=\"1\" class=\"dataframe\">\n",
       "  <thead>\n",
       "    <tr style=\"text-align: right;\">\n",
       "      <th></th>\n",
       "      <th>Team</th>\n",
       "      <th>League</th>\n",
       "      <th>Year</th>\n",
       "      <th>RS</th>\n",
       "      <th>RA</th>\n",
       "      <th>W</th>\n",
       "      <th>OBP</th>\n",
       "      <th>SLG</th>\n",
       "      <th>BA</th>\n",
       "      <th>Playoffs</th>\n",
       "      <th>RankSeason</th>\n",
       "      <th>RankPlayoffs</th>\n",
       "      <th>G</th>\n",
       "      <th>OOBP</th>\n",
       "      <th>OSLG</th>\n",
       "    </tr>\n",
       "  </thead>\n",
       "  <tbody>\n",
       "    <tr>\n",
       "      <th>0</th>\n",
       "      <td>ARI</td>\n",
       "      <td>NL</td>\n",
       "      <td>2012</td>\n",
       "      <td>734</td>\n",
       "      <td>688</td>\n",
       "      <td>81</td>\n",
       "      <td>0.328</td>\n",
       "      <td>0.418</td>\n",
       "      <td>0.259</td>\n",
       "      <td>0</td>\n",
       "      <td>NaN</td>\n",
       "      <td>NaN</td>\n",
       "      <td>162</td>\n",
       "      <td>0.317</td>\n",
       "      <td>0.415</td>\n",
       "    </tr>\n",
       "    <tr>\n",
       "      <th>1</th>\n",
       "      <td>ATL</td>\n",
       "      <td>NL</td>\n",
       "      <td>2012</td>\n",
       "      <td>700</td>\n",
       "      <td>600</td>\n",
       "      <td>94</td>\n",
       "      <td>0.320</td>\n",
       "      <td>0.389</td>\n",
       "      <td>0.247</td>\n",
       "      <td>1</td>\n",
       "      <td>4.0</td>\n",
       "      <td>5.0</td>\n",
       "      <td>162</td>\n",
       "      <td>0.306</td>\n",
       "      <td>0.378</td>\n",
       "    </tr>\n",
       "    <tr>\n",
       "      <th>2</th>\n",
       "      <td>BAL</td>\n",
       "      <td>AL</td>\n",
       "      <td>2012</td>\n",
       "      <td>712</td>\n",
       "      <td>705</td>\n",
       "      <td>93</td>\n",
       "      <td>0.311</td>\n",
       "      <td>0.417</td>\n",
       "      <td>0.247</td>\n",
       "      <td>1</td>\n",
       "      <td>5.0</td>\n",
       "      <td>4.0</td>\n",
       "      <td>162</td>\n",
       "      <td>0.315</td>\n",
       "      <td>0.403</td>\n",
       "    </tr>\n",
       "    <tr>\n",
       "      <th>3</th>\n",
       "      <td>BOS</td>\n",
       "      <td>AL</td>\n",
       "      <td>2012</td>\n",
       "      <td>734</td>\n",
       "      <td>806</td>\n",
       "      <td>69</td>\n",
       "      <td>0.315</td>\n",
       "      <td>0.415</td>\n",
       "      <td>0.260</td>\n",
       "      <td>0</td>\n",
       "      <td>NaN</td>\n",
       "      <td>NaN</td>\n",
       "      <td>162</td>\n",
       "      <td>0.331</td>\n",
       "      <td>0.428</td>\n",
       "    </tr>\n",
       "    <tr>\n",
       "      <th>4</th>\n",
       "      <td>CHC</td>\n",
       "      <td>NL</td>\n",
       "      <td>2012</td>\n",
       "      <td>613</td>\n",
       "      <td>759</td>\n",
       "      <td>61</td>\n",
       "      <td>0.302</td>\n",
       "      <td>0.378</td>\n",
       "      <td>0.240</td>\n",
       "      <td>0</td>\n",
       "      <td>NaN</td>\n",
       "      <td>NaN</td>\n",
       "      <td>162</td>\n",
       "      <td>0.335</td>\n",
       "      <td>0.424</td>\n",
       "    </tr>\n",
       "  </tbody>\n",
       "</table>\n",
       "</div>\n",
       "      <button class=\"colab-df-convert\" onclick=\"convertToInteractive('df-8cee21d1-379d-47b6-a943-5802cdcf8761')\"\n",
       "              title=\"Convert this dataframe to an interactive table.\"\n",
       "              style=\"display:none;\">\n",
       "        \n",
       "  <svg xmlns=\"http://www.w3.org/2000/svg\" height=\"24px\"viewBox=\"0 0 24 24\"\n",
       "       width=\"24px\">\n",
       "    <path d=\"M0 0h24v24H0V0z\" fill=\"none\"/>\n",
       "    <path d=\"M18.56 5.44l.94 2.06.94-2.06 2.06-.94-2.06-.94-.94-2.06-.94 2.06-2.06.94zm-11 1L8.5 8.5l.94-2.06 2.06-.94-2.06-.94L8.5 2.5l-.94 2.06-2.06.94zm10 10l.94 2.06.94-2.06 2.06-.94-2.06-.94-.94-2.06-.94 2.06-2.06.94z\"/><path d=\"M17.41 7.96l-1.37-1.37c-.4-.4-.92-.59-1.43-.59-.52 0-1.04.2-1.43.59L10.3 9.45l-7.72 7.72c-.78.78-.78 2.05 0 2.83L4 21.41c.39.39.9.59 1.41.59.51 0 1.02-.2 1.41-.59l7.78-7.78 2.81-2.81c.8-.78.8-2.07 0-2.86zM5.41 20L4 18.59l7.72-7.72 1.47 1.35L5.41 20z\"/>\n",
       "  </svg>\n",
       "      </button>\n",
       "      \n",
       "  <style>\n",
       "    .colab-df-container {\n",
       "      display:flex;\n",
       "      flex-wrap:wrap;\n",
       "      gap: 12px;\n",
       "    }\n",
       "\n",
       "    .colab-df-convert {\n",
       "      background-color: #E8F0FE;\n",
       "      border: none;\n",
       "      border-radius: 50%;\n",
       "      cursor: pointer;\n",
       "      display: none;\n",
       "      fill: #1967D2;\n",
       "      height: 32px;\n",
       "      padding: 0 0 0 0;\n",
       "      width: 32px;\n",
       "    }\n",
       "\n",
       "    .colab-df-convert:hover {\n",
       "      background-color: #E2EBFA;\n",
       "      box-shadow: 0px 1px 2px rgba(60, 64, 67, 0.3), 0px 1px 3px 1px rgba(60, 64, 67, 0.15);\n",
       "      fill: #174EA6;\n",
       "    }\n",
       "\n",
       "    [theme=dark] .colab-df-convert {\n",
       "      background-color: #3B4455;\n",
       "      fill: #D2E3FC;\n",
       "    }\n",
       "\n",
       "    [theme=dark] .colab-df-convert:hover {\n",
       "      background-color: #434B5C;\n",
       "      box-shadow: 0px 1px 3px 1px rgba(0, 0, 0, 0.15);\n",
       "      filter: drop-shadow(0px 1px 2px rgba(0, 0, 0, 0.3));\n",
       "      fill: #FFFFFF;\n",
       "    }\n",
       "  </style>\n",
       "\n",
       "      <script>\n",
       "        const buttonEl =\n",
       "          document.querySelector('#df-8cee21d1-379d-47b6-a943-5802cdcf8761 button.colab-df-convert');\n",
       "        buttonEl.style.display =\n",
       "          google.colab.kernel.accessAllowed ? 'block' : 'none';\n",
       "\n",
       "        async function convertToInteractive(key) {\n",
       "          const element = document.querySelector('#df-8cee21d1-379d-47b6-a943-5802cdcf8761');\n",
       "          const dataTable =\n",
       "            await google.colab.kernel.invokeFunction('convertToInteractive',\n",
       "                                                     [key], {});\n",
       "          if (!dataTable) return;\n",
       "\n",
       "          const docLinkHtml = 'Like what you see? Visit the ' +\n",
       "            '<a target=\"_blank\" href=https://colab.research.google.com/notebooks/data_table.ipynb>data table notebook</a>'\n",
       "            + ' to learn more about interactive tables.';\n",
       "          element.innerHTML = '';\n",
       "          dataTable['output_type'] = 'display_data';\n",
       "          await google.colab.output.renderOutput(dataTable, element);\n",
       "          const docLink = document.createElement('div');\n",
       "          docLink.innerHTML = docLinkHtml;\n",
       "          element.appendChild(docLink);\n",
       "        }\n",
       "      </script>\n",
       "    </div>\n",
       "  </div>\n",
       "  "
      ],
      "text/plain": [
       "  Team League  Year   RS   RA   W    OBP    SLG     BA  Playoffs  RankSeason  \\\n",
       "0  ARI     NL  2012  734  688  81  0.328  0.418  0.259         0         NaN   \n",
       "1  ATL     NL  2012  700  600  94  0.320  0.389  0.247         1         4.0   \n",
       "2  BAL     AL  2012  712  705  93  0.311  0.417  0.247         1         5.0   \n",
       "3  BOS     AL  2012  734  806  69  0.315  0.415  0.260         0         NaN   \n",
       "4  CHC     NL  2012  613  759  61  0.302  0.378  0.240         0         NaN   \n",
       "\n",
       "   RankPlayoffs    G   OOBP   OSLG  \n",
       "0           NaN  162  0.317  0.415  \n",
       "1           5.0  162  0.306  0.378  \n",
       "2           4.0  162  0.315  0.403  \n",
       "3           NaN  162  0.331  0.428  \n",
       "4           NaN  162  0.335  0.424  "
      ]
     },
     "execution_count": 39,
     "metadata": {},
     "output_type": "execute_result"
    }
   ],
   "source": [
    "df=pd.read_csv('/content/drive/My Drive/Case Studies Mahesh Anand/baseball.csv')\n",
    "df.head()"
   ]
  },
  {
   "cell_type": "code",
   "execution_count": 40,
   "metadata": {
    "colab": {
     "base_uri": "https://localhost:8080/"
    },
    "executionInfo": {
     "elapsed": 12,
     "status": "ok",
     "timestamp": 1677485639163,
     "user": {
      "displayName": "Mahesh Anand",
      "userId": "06788086636039591358"
     },
     "user_tz": -330
    },
    "id": "9Je6Mqm8z84A",
    "outputId": "4bc3c8bb-9e73-4340-f631-b43662063197"
   },
   "outputs": [
    {
     "data": {
      "text/plain": [
       "(1232, 15)"
      ]
     },
     "execution_count": 40,
     "metadata": {},
     "output_type": "execute_result"
    }
   ],
   "source": [
    "df.shape"
   ]
  },
  {
   "cell_type": "code",
   "execution_count": null,
   "metadata": {
    "colab": {
     "base_uri": "https://localhost:8080/",
     "height": 286
    },
    "executionInfo": {
     "elapsed": 1349,
     "status": "ok",
     "timestamp": 1571199501906,
     "user": {
      "displayName": "Mahesh Anand",
      "photoUrl": "https://lh3.googleusercontent.com/a-/AAuE7mDwRqsBffQmzXsc6rHxDVmepWB7mxD_zfhcK5E1=s64",
      "userId": "06788086636039591358"
     },
     "user_tz": -330
    },
    "id": "p4Z8wFvzyUwC",
    "outputId": "58471f0a-a91e-4177-ca9d-35a5f8b90660"
   },
   "outputs": [
    {
     "data": {
      "text/plain": [
       "<matplotlib.axes._subplots.AxesSubplot at 0x7f94ad8647f0>"
      ]
     },
     "execution_count": 5,
     "metadata": {
      "tags": []
     },
     "output_type": "execute_result"
    },
    {
     "data": {
      "image/png": "[encoded data removed]",
      "text/plain": [
       "<Figure size 432x288 with 1 Axes>"
      ]
     },
     "metadata": {
      "tags": []
     },
     "output_type": "display_data"
    }
   ],
   "source": [
    "df['G'].hist()"
   ]
  },
  {
   "cell_type": "code",
   "execution_count": 6,
   "metadata": {
    "colab": {
     "base_uri": "https://localhost:8080/",
     "height": 521
    },
    "executionInfo": {
     "elapsed": 406,
     "status": "ok",
     "timestamp": 1677483402125,
     "user": {
      "displayName": "Mahesh Anand",
      "userId": "06788086636039591358"
     },
     "user_tz": -330
    },
    "id": "-MJFVqWkyrVl",
    "outputId": "cf787c55-ee60-4e87-b2a5-70f3a5066961"
   },
   "outputs": [
    {
     "data": {
      "text/html": [
       "\n",
       "  <div id=\"df-c87b2223-f443-4c23-b4ca-914014a44666\">\n",
       "    <div class=\"colab-df-container\">\n",
       "      <div>\n",
       "<style scoped>\n",
       "    .dataframe tbody tr th:only-of-type {\n",
       "        vertical-align: middle;\n",
       "    }\n",
       "\n",
       "    .dataframe tbody tr th {\n",
       "        vertical-align: top;\n",
       "    }\n",
       "\n",
       "    .dataframe thead th {\n",
       "        text-align: right;\n",
       "    }\n",
       "</style>\n",
       "<table border=\"1\" class=\"dataframe\">\n",
       "  <thead>\n",
       "    <tr style=\"text-align: right;\">\n",
       "      <th></th>\n",
       "      <th>Year</th>\n",
       "      <th>RS</th>\n",
       "      <th>RA</th>\n",
       "      <th>W</th>\n",
       "      <th>OBP</th>\n",
       "      <th>SLG</th>\n",
       "      <th>BA</th>\n",
       "      <th>Playoffs</th>\n",
       "      <th>RankSeason</th>\n",
       "      <th>RankPlayoffs</th>\n",
       "      <th>G</th>\n",
       "      <th>OOBP</th>\n",
       "      <th>OSLG</th>\n",
       "    </tr>\n",
       "  </thead>\n",
       "  <tbody>\n",
       "    <tr>\n",
       "      <th>Year</th>\n",
       "      <td>1.000000</td>\n",
       "      <td>0.418978</td>\n",
       "      <td>0.412020</td>\n",
       "      <td>0.004138</td>\n",
       "      <td>0.374354</td>\n",
       "      <td>0.536037</td>\n",
       "      <td>0.349397</td>\n",
       "      <td>0.145779</td>\n",
       "      <td>0.385219</td>\n",
       "      <td>0.443967</td>\n",
       "      <td>0.009287</td>\n",
       "      <td>-0.371869</td>\n",
       "      <td>-0.345667</td>\n",
       "    </tr>\n",
       "    <tr>\n",
       "      <th>RS</th>\n",
       "      <td>0.418978</td>\n",
       "      <td>1.000000</td>\n",
       "      <td>0.380139</td>\n",
       "      <td>0.511745</td>\n",
       "      <td>0.900492</td>\n",
       "      <td>0.918740</td>\n",
       "      <td>0.827000</td>\n",
       "      <td>0.386628</td>\n",
       "      <td>-0.027687</td>\n",
       "      <td>0.210963</td>\n",
       "      <td>0.075195</td>\n",
       "      <td>0.133981</td>\n",
       "      <td>0.193426</td>\n",
       "    </tr>\n",
       "    <tr>\n",
       "      <th>RA</th>\n",
       "      <td>0.412020</td>\n",
       "      <td>0.380139</td>\n",
       "      <td>1.000000</td>\n",
       "      <td>-0.532394</td>\n",
       "      <td>0.326360</td>\n",
       "      <td>0.436527</td>\n",
       "      <td>0.330764</td>\n",
       "      <td>-0.261477</td>\n",
       "      <td>0.399141</td>\n",
       "      <td>0.315128</td>\n",
       "      <td>-0.023369</td>\n",
       "      <td>0.910344</td>\n",
       "      <td>0.909319</td>\n",
       "    </tr>\n",
       "    <tr>\n",
       "      <th>W</th>\n",
       "      <td>0.004138</td>\n",
       "      <td>0.511745</td>\n",
       "      <td>-0.532394</td>\n",
       "      <td>1.000000</td>\n",
       "      <td>0.481836</td>\n",
       "      <td>0.401496</td>\n",
       "      <td>0.408716</td>\n",
       "      <td>0.616757</td>\n",
       "      <td>-0.755098</td>\n",
       "      <td>-0.198960</td>\n",
       "      <td>0.105309</td>\n",
       "      <td>-0.634315</td>\n",
       "      <td>-0.568490</td>\n",
       "    </tr>\n",
       "    <tr>\n",
       "      <th>OBP</th>\n",
       "      <td>0.374354</td>\n",
       "      <td>0.900492</td>\n",
       "      <td>0.326360</td>\n",
       "      <td>0.481836</td>\n",
       "      <td>1.000000</td>\n",
       "      <td>0.790910</td>\n",
       "      <td>0.851958</td>\n",
       "      <td>0.363890</td>\n",
       "      <td>0.001612</td>\n",
       "      <td>0.175349</td>\n",
       "      <td>0.016563</td>\n",
       "      <td>0.120349</td>\n",
       "      <td>0.153372</td>\n",
       "    </tr>\n",
       "    <tr>\n",
       "      <th>SLG</th>\n",
       "      <td>0.536037</td>\n",
       "      <td>0.918740</td>\n",
       "      <td>0.436527</td>\n",
       "      <td>0.401496</td>\n",
       "      <td>0.790910</td>\n",
       "      <td>1.000000</td>\n",
       "      <td>0.790481</td>\n",
       "      <td>0.324713</td>\n",
       "      <td>0.126663</td>\n",
       "      <td>0.271893</td>\n",
       "      <td>0.036770</td>\n",
       "      <td>0.143861</td>\n",
       "      <td>0.210423</td>\n",
       "    </tr>\n",
       "    <tr>\n",
       "      <th>BA</th>\n",
       "      <td>0.349397</td>\n",
       "      <td>0.827000</td>\n",
       "      <td>0.330764</td>\n",
       "      <td>0.408716</td>\n",
       "      <td>0.851958</td>\n",
       "      <td>0.790481</td>\n",
       "      <td>1.000000</td>\n",
       "      <td>0.290217</td>\n",
       "      <td>0.035452</td>\n",
       "      <td>0.092684</td>\n",
       "      <td>0.019886</td>\n",
       "      <td>0.187108</td>\n",
       "      <td>0.227808</td>\n",
       "    </tr>\n",
       "    <tr>\n",
       "      <th>Playoffs</th>\n",
       "      <td>0.145779</td>\n",
       "      <td>0.386628</td>\n",
       "      <td>-0.261477</td>\n",
       "      <td>0.616757</td>\n",
       "      <td>0.363890</td>\n",
       "      <td>0.324713</td>\n",
       "      <td>0.290217</td>\n",
       "      <td>1.000000</td>\n",
       "      <td>NaN</td>\n",
       "      <td>NaN</td>\n",
       "      <td>0.022208</td>\n",
       "      <td>-0.433572</td>\n",
       "      <td>-0.366744</td>\n",
       "    </tr>\n",
       "    <tr>\n",
       "      <th>RankSeason</th>\n",
       "      <td>0.385219</td>\n",
       "      <td>-0.027687</td>\n",
       "      <td>0.399141</td>\n",
       "      <td>-0.755098</td>\n",
       "      <td>0.001612</td>\n",
       "      <td>0.126663</td>\n",
       "      <td>0.035452</td>\n",
       "      <td>NaN</td>\n",
       "      <td>1.000000</td>\n",
       "      <td>0.266906</td>\n",
       "      <td>0.069222</td>\n",
       "      <td>0.097731</td>\n",
       "      <td>0.050111</td>\n",
       "    </tr>\n",
       "    <tr>\n",
       "      <th>RankPlayoffs</th>\n",
       "      <td>0.443967</td>\n",
       "      <td>0.210963</td>\n",
       "      <td>0.315128</td>\n",
       "      <td>-0.198960</td>\n",
       "      <td>0.175349</td>\n",
       "      <td>0.271893</td>\n",
       "      <td>0.092684</td>\n",
       "      <td>NaN</td>\n",
       "      <td>0.266906</td>\n",
       "      <td>1.000000</td>\n",
       "      <td>0.007820</td>\n",
       "      <td>0.065808</td>\n",
       "      <td>0.087089</td>\n",
       "    </tr>\n",
       "    <tr>\n",
       "      <th>G</th>\n",
       "      <td>0.009287</td>\n",
       "      <td>0.075195</td>\n",
       "      <td>-0.023369</td>\n",
       "      <td>0.105309</td>\n",
       "      <td>0.016563</td>\n",
       "      <td>0.036770</td>\n",
       "      <td>0.019886</td>\n",
       "      <td>0.022208</td>\n",
       "      <td>0.069222</td>\n",
       "      <td>0.007820</td>\n",
       "      <td>1.000000</td>\n",
       "      <td>-0.077055</td>\n",
       "      <td>-0.004188</td>\n",
       "    </tr>\n",
       "    <tr>\n",
       "      <th>OOBP</th>\n",
       "      <td>-0.371869</td>\n",
       "      <td>0.133981</td>\n",
       "      <td>0.910344</td>\n",
       "      <td>-0.634315</td>\n",
       "      <td>0.120349</td>\n",
       "      <td>0.143861</td>\n",
       "      <td>0.187108</td>\n",
       "      <td>-0.433572</td>\n",
       "      <td>0.097731</td>\n",
       "      <td>0.065808</td>\n",
       "      <td>-0.077055</td>\n",
       "      <td>1.000000</td>\n",
       "      <td>0.830902</td>\n",
       "    </tr>\n",
       "    <tr>\n",
       "      <th>OSLG</th>\n",
       "      <td>-0.345667</td>\n",
       "      <td>0.193426</td>\n",
       "      <td>0.909319</td>\n",
       "      <td>-0.568490</td>\n",
       "      <td>0.153372</td>\n",
       "      <td>0.210423</td>\n",
       "      <td>0.227808</td>\n",
       "      <td>-0.366744</td>\n",
       "      <td>0.050111</td>\n",
       "      <td>0.087089</td>\n",
       "      <td>-0.004188</td>\n",
       "      <td>0.830902</td>\n",
       "      <td>1.000000</td>\n",
       "    </tr>\n",
       "  </tbody>\n",
       "</table>\n",
       "</div>\n",
       "      <button class=\"colab-df-convert\" onclick=\"convertToInteractive('df-c87b2223-f443-4c23-b4ca-914014a44666')\"\n",
       "              title=\"Convert this dataframe to an interactive table.\"\n",
       "              style=\"display:none;\">\n",
       "        \n",
       "  <svg xmlns=\"http://www.w3.org/2000/svg\" height=\"24px\"viewBox=\"0 0 24 24\"\n",
       "       width=\"24px\">\n",
       "    <path d=\"M0 0h24v24H0V0z\" fill=\"none\"/>\n",
       "    <path d=\"M18.56 5.44l.94 2.06.94-2.06 2.06-.94-2.06-.94-.94-2.06-.94 2.06-2.06.94zm-11 1L8.5 8.5l.94-2.06 2.06-.94-2.06-.94L8.5 2.5l-.94 2.06-2.06.94zm10 10l.94 2.06.94-2.06 2.06-.94-2.06-.94-.94-2.06-.94 2.06-2.06.94z\"/><path d=\"M17.41 7.96l-1.37-1.37c-.4-.4-.92-.59-1.43-.59-.52 0-1.04.2-1.43.59L10.3 9.45l-7.72 7.72c-.78.78-.78 2.05 0 2.83L4 21.41c.39.39.9.59 1.41.59.51 0 1.02-.2 1.41-.59l7.78-7.78 2.81-2.81c.8-.78.8-2.07 0-2.86zM5.41 20L4 18.59l7.72-7.72 1.47 1.35L5.41 20z\"/>\n",
       "  </svg>\n",
       "      </button>\n",
       "      \n",
       "  <style>\n",
       "    .colab-df-container {\n",
       "      display:flex;\n",
       "      flex-wrap:wrap;\n",
       "      gap: 12px;\n",
       "    }\n",
       "\n",
       "    .colab-df-convert {\n",
       "      background-color: #E8F0FE;\n",
       "      border: none;\n",
       "      border-radius: 50%;\n",
       "      cursor: pointer;\n",
       "      display: none;\n",
       "      fill: #1967D2;\n",
       "      height: 32px;\n",
       "      padding: 0 0 0 0;\n",
       "      width: 32px;\n",
       "    }\n",
       "\n",
       "    .colab-df-convert:hover {\n",
       "      background-color: #E2EBFA;\n",
       "      box-shadow: 0px 1px 2px rgba(60, 64, 67, 0.3), 0px 1px 3px 1px rgba(60, 64, 67, 0.15);\n",
       "      fill: #174EA6;\n",
       "    }\n",
       "\n",
       "    [theme=dark] .colab-df-convert {\n",
       "      background-color: #3B4455;\n",
       "      fill: #D2E3FC;\n",
       "    }\n",
       "\n",
       "    [theme=dark] .colab-df-convert:hover {\n",
       "      background-color: #434B5C;\n",
       "      box-shadow: 0px 1px 3px 1px rgba(0, 0, 0, 0.15);\n",
       "      filter: drop-shadow(0px 1px 2px rgba(0, 0, 0, 0.3));\n",
       "      fill: #FFFFFF;\n",
       "    }\n",
       "  </style>\n",
       "\n",
       "      <script>\n",
       "        const buttonEl =\n",
       "          document.querySelector('#df-c87b2223-f443-4c23-b4ca-914014a44666 button.colab-df-convert');\n",
       "        buttonEl.style.display =\n",
       "          google.colab.kernel.accessAllowed ? 'block' : 'none';\n",
       "\n",
       "        async function convertToInteractive(key) {\n",
       "          const element = document.querySelector('#df-c87b2223-f443-4c23-b4ca-914014a44666');\n",
       "          const dataTable =\n",
       "            await google.colab.kernel.invokeFunction('convertToInteractive',\n",
       "                                                     [key], {});\n",
       "          if (!dataTable) return;\n",
       "\n",
       "          const docLinkHtml = 'Like what you see? Visit the ' +\n",
       "            '<a target=\"_blank\" href=https://colab.research.google.com/notebooks/data_table.ipynb>data table notebook</a>'\n",
       "            + ' to learn more about interactive tables.';\n",
       "          element.innerHTML = '';\n",
       "          dataTable['output_type'] = 'display_data';\n",
       "          await google.colab.output.renderOutput(dataTable, element);\n",
       "          const docLink = document.createElement('div');\n",
       "          docLink.innerHTML = docLinkHtml;\n",
       "          element.appendChild(docLink);\n",
       "        }\n",
       "      </script>\n",
       "    </div>\n",
       "  </div>\n",
       "  "
      ],
      "text/plain": [
       "                  Year        RS        RA         W       OBP       SLG  \\\n",
       "Year          1.000000  0.418978  0.412020  0.004138  0.374354  0.536037   \n",
       "RS            0.418978  1.000000  0.380139  0.511745  0.900492  0.918740   \n",
       "RA            0.412020  0.380139  1.000000 -0.532394  0.326360  0.436527   \n",
       "W             0.004138  0.511745 -0.532394  1.000000  0.481836  0.401496   \n",
       "OBP           0.374354  0.900492  0.326360  0.481836  1.000000  0.790910   \n",
       "SLG           0.536037  0.918740  0.436527  0.401496  0.790910  1.000000   \n",
       "BA            0.349397  0.827000  0.330764  0.408716  0.851958  0.790481   \n",
       "Playoffs      0.145779  0.386628 -0.261477  0.616757  0.363890  0.324713   \n",
       "RankSeason    0.385219 -0.027687  0.399141 -0.755098  0.001612  0.126663   \n",
       "RankPlayoffs  0.443967  0.210963  0.315128 -0.198960  0.175349  0.271893   \n",
       "G             0.009287  0.075195 -0.023369  0.105309  0.016563  0.036770   \n",
       "OOBP         -0.371869  0.133981  0.910344 -0.634315  0.120349  0.143861   \n",
       "OSLG         -0.345667  0.193426  0.909319 -0.568490  0.153372  0.210423   \n",
       "\n",
       "                    BA  Playoffs  RankSeason  RankPlayoffs         G  \\\n",
       "Year          0.349397  0.145779    0.385219      0.443967  0.009287   \n",
       "RS            0.827000  0.386628   -0.027687      0.210963  0.075195   \n",
       "RA            0.330764 -0.261477    0.399141      0.315128 -0.023369   \n",
       "W             0.408716  0.616757   -0.755098     -0.198960  0.105309   \n",
       "OBP           0.851958  0.363890    0.001612      0.175349  0.016563   \n",
       "SLG           0.790481  0.324713    0.126663      0.271893  0.036770   \n",
       "BA            1.000000  0.290217    0.035452      0.092684  0.019886   \n",
       "Playoffs      0.290217  1.000000         NaN           NaN  0.022208   \n",
       "RankSeason    0.035452       NaN    1.000000      0.266906  0.069222   \n",
       "RankPlayoffs  0.092684       NaN    0.266906      1.000000  0.007820   \n",
       "G             0.019886  0.022208    0.069222      0.007820  1.000000   \n",
       "OOBP          0.187108 -0.433572    0.097731      0.065808 -0.077055   \n",
       "OSLG          0.227808 -0.366744    0.050111      0.087089 -0.004188   \n",
       "\n",
       "                  OOBP      OSLG  \n",
       "Year         -0.371869 -0.345667  \n",
       "RS            0.133981  0.193426  \n",
       "RA            0.910344  0.909319  \n",
       "W            -0.634315 -0.568490  \n",
       "OBP           0.120349  0.153372  \n",
       "SLG           0.143861  0.210423  \n",
       "BA            0.187108  0.227808  \n",
       "Playoffs     -0.433572 -0.366744  \n",
       "RankSeason    0.097731  0.050111  \n",
       "RankPlayoffs  0.065808  0.087089  \n",
       "G            -0.077055 -0.004188  \n",
       "OOBP          1.000000  0.830902  \n",
       "OSLG          0.830902  1.000000  "
      ]
     },
     "execution_count": 6,
     "metadata": {},
     "output_type": "execute_result"
    }
   ],
   "source": [
    "df.corr()"
   ]
  },
  {
   "cell_type": "code",
   "execution_count": 4,
   "metadata": {
    "executionInfo": {
     "elapsed": 443,
     "status": "ok",
     "timestamp": 1677485196094,
     "user": {
      "displayName": "Mahesh Anand",
      "userId": "06788086636039591358"
     },
     "user_tz": -330
    },
    "id": "xY2245tXX1cM"
   },
   "outputs": [],
   "source": [
    "df1=df[df['Year']<2002]"
   ]
  },
  {
   "cell_type": "code",
   "execution_count": 5,
   "metadata": {
    "colab": {
     "base_uri": "https://localhost:8080/"
    },
    "executionInfo": {
     "elapsed": 397,
     "status": "ok",
     "timestamp": 1668244811801,
     "user": {
      "displayName": "Mahesh Anand",
      "userId": "06788086636039591358"
     },
     "user_tz": -330
    },
    "id": "NMwRJ4Wd9pcY",
    "outputId": "1b470baf-8885-4969-ee6d-2d12517b7391"
   },
   "outputs": [
    {
     "data": {
      "text/plain": [
       "(902, 15)"
      ]
     },
     "execution_count": 5,
     "metadata": {},
     "output_type": "execute_result"
    }
   ],
   "source": [
    "df1.shape"
   ]
  },
  {
   "cell_type": "code",
   "execution_count": null,
   "metadata": {
    "colab": {
     "base_uri": "https://localhost:8080/"
    },
    "executionInfo": {
     "elapsed": 384,
     "status": "ok",
     "timestamp": 1668244860610,
     "user": {
      "displayName": "Mahesh Anand",
      "userId": "06788086636039591358"
     },
     "user_tz": -330
    },
    "id": "TsliLzmkQ-z5",
    "outputId": "e771a5f0-afaf-4438-ff5c-b01ecdb95717"
   },
   "outputs": [
    {
     "name": "stdout",
     "output_type": "stream",
     "text": [
      "<class 'pandas.core.frame.DataFrame'>\n",
      "Int64Index: 902 entries, 330 to 1231\n",
      "Data columns (total 15 columns):\n",
      " #   Column        Non-Null Count  Dtype  \n",
      "---  ------        --------------  -----  \n",
      " 0   Team          902 non-null    object \n",
      " 1   League        902 non-null    object \n",
      " 2   Year          902 non-null    int64  \n",
      " 3   RS            902 non-null    int64  \n",
      " 4   RA            902 non-null    int64  \n",
      " 5   W             902 non-null    int64  \n",
      " 6   OBP           902 non-null    float64\n",
      " 7   SLG           902 non-null    float64\n",
      " 8   BA            902 non-null    float64\n",
      " 9   Playoffs      902 non-null    int64  \n",
      " 10  RankSeason    154 non-null    float64\n",
      " 11  RankPlayoffs  154 non-null    float64\n",
      " 12  G             902 non-null    int64  \n",
      " 13  OOBP          90 non-null     float64\n",
      " 14  OSLG          90 non-null     float64\n",
      "dtypes: float64(7), int64(6), object(2)\n",
      "memory usage: 112.8+ KB\n"
     ]
    }
   ],
   "source": [
    "df1.info()"
   ]
  },
  {
   "cell_type": "code",
   "execution_count": 6,
   "metadata": {
    "id": "dxsHdAfMWhxb"
   },
   "outputs": [],
   "source": [
    "X=df1[['OBP','SLG','OOBP','OSLG']]\n",
    "Y=df1['W']"
   ]
  },
  {
   "cell_type": "code",
   "execution_count": 7,
   "metadata": {
    "id": "JWpUeBzbXctn"
   },
   "outputs": [],
   "source": [
    "X['OOBP'].fillna(value=X['OOBP'].median(),inplace=True)\n",
    "X['OSLG'].fillna(value=X['OSLG'].median(),inplace=True)"
   ]
  },
  {
   "cell_type": "code",
   "execution_count": 8,
   "metadata": {
    "id": "9A9CeIFwXPNW"
   },
   "outputs": [],
   "source": [
    "import statsmodels.api as sm"
   ]
  },
  {
   "cell_type": "code",
   "execution_count": 9,
   "metadata": {
    "id": "jsFHpLLWW3v5"
   },
   "outputs": [],
   "source": [
    "xc=sm.add_constant(X)\n",
    "model=sm.OLS(Y,xc).fit()"
   ]
  },
  {
   "cell_type": "code",
   "execution_count": 10,
   "metadata": {
    "colab": {
     "base_uri": "https://localhost:8080/",
     "height": 515
    },
    "executionInfo": {
     "elapsed": 12,
     "status": "ok",
     "timestamp": 1648288322173,
     "user": {
      "displayName": "Mahesh Anand",
      "photoUrl": "https://lh3.googleusercontent.com/a-/AOh14GgEjHTHmcE5H01IJo7KL2-QssgVKGBUBVq_Ch1n5Q=s64",
      "userId": "06788086636039591358"
     },
     "user_tz": -330
    },
    "id": "LANdSEjRX814",
    "outputId": "1d6b7cf6-c7d1-42fa-c118-0c418725f73c"
   },
   "outputs": [
    {
     "data": {
      "text/html": [
       "<table class=\"simpletable\">\n",
       "<caption>OLS Regression Results</caption>\n",
       "<tr>\n",
       "  <th>Dep. Variable:</th>            <td>W</td>        <th>  R-squared:         </th> <td>   0.273</td>\n",
       "</tr>\n",
       "<tr>\n",
       "  <th>Model:</th>                   <td>OLS</td>       <th>  Adj. R-squared:    </th> <td>   0.270</td>\n",
       "</tr>\n",
       "<tr>\n",
       "  <th>Method:</th>             <td>Least Squares</td>  <th>  F-statistic:       </th> <td>   84.22</td>\n",
       "</tr>\n",
       "<tr>\n",
       "  <th>Date:</th>             <td>Mon, 27 Feb 2023</td> <th>  Prob (F-statistic):</th> <td>9.56e-61</td>\n",
       "</tr>\n",
       "<tr>\n",
       "  <th>Time:</th>                 <td>13:53:19</td>     <th>  Log-Likelihood:    </th> <td> -3331.0</td>\n",
       "</tr>\n",
       "<tr>\n",
       "  <th>No. Observations:</th>      <td>   902</td>      <th>  AIC:               </th> <td>   6672.</td>\n",
       "</tr>\n",
       "<tr>\n",
       "  <th>Df Residuals:</th>          <td>   897</td>      <th>  BIC:               </th> <td>   6696.</td>\n",
       "</tr>\n",
       "<tr>\n",
       "  <th>Df Model:</th>              <td>     4</td>      <th>                     </th>     <td> </td>   \n",
       "</tr>\n",
       "<tr>\n",
       "  <th>Covariance Type:</th>      <td>nonrobust</td>    <th>                     </th>     <td> </td>   \n",
       "</tr>\n",
       "</table>\n",
       "<table class=\"simpletable\">\n",
       "<tr>\n",
       "    <td></td>       <th>coef</th>     <th>std err</th>      <th>t</th>      <th>P>|t|</th>  <th>[0.025</th>    <th>0.975]</th>  \n",
       "</tr>\n",
       "<tr>\n",
       "  <th>const</th> <td>  125.8605</td> <td>   24.109</td> <td>    5.221</td> <td> 0.000</td> <td>   78.544</td> <td>  173.177</td>\n",
       "</tr>\n",
       "<tr>\n",
       "  <th>OBP</th>   <td>  304.5758</td> <td>   35.676</td> <td>    8.537</td> <td> 0.000</td> <td>  234.558</td> <td>  374.594</td>\n",
       "</tr>\n",
       "<tr>\n",
       "  <th>SLG</th>   <td>   26.1920</td> <td>   16.604</td> <td>    1.577</td> <td> 0.115</td> <td>   -6.394</td> <td>   58.778</td>\n",
       "</tr>\n",
       "<tr>\n",
       "  <th>OOBP</th>  <td> -188.9933</td> <td>  109.679</td> <td>   -1.723</td> <td> 0.085</td> <td> -404.251</td> <td>   26.264</td>\n",
       "</tr>\n",
       "<tr>\n",
       "  <th>OSLG</th>  <td> -207.1056</td> <td>   66.222</td> <td>   -3.127</td> <td> 0.002</td> <td> -337.075</td> <td>  -77.137</td>\n",
       "</tr>\n",
       "</table>\n",
       "<table class=\"simpletable\">\n",
       "<tr>\n",
       "  <th>Omnibus:</th>       <td> 2.793</td> <th>  Durbin-Watson:     </th> <td>   1.878</td>\n",
       "</tr>\n",
       "<tr>\n",
       "  <th>Prob(Omnibus):</th> <td> 0.247</td> <th>  Jarque-Bera (JB):  </th> <td>   2.471</td>\n",
       "</tr>\n",
       "<tr>\n",
       "  <th>Skew:</th>          <td> 0.041</td> <th>  Prob(JB):          </th> <td>   0.291</td>\n",
       "</tr>\n",
       "<tr>\n",
       "  <th>Kurtosis:</th>      <td> 2.757</td> <th>  Cond. No.          </th> <td>    476.</td>\n",
       "</tr>\n",
       "</table><br/><br/>Notes:<br/>[1] Standard Errors assume that the covariance matrix of the errors is correctly specified."
      ],
      "text/plain": [
       "<class 'statsmodels.iolib.summary.Summary'>\n",
       "\"\"\"\n",
       "                            OLS Regression Results                            \n",
       "==============================================================================\n",
       "Dep. Variable:                      W   R-squared:                       0.273\n",
       "Model:                            OLS   Adj. R-squared:                  0.270\n",
       "Method:                 Least Squares   F-statistic:                     84.22\n",
       "Date:                Mon, 27 Feb 2023   Prob (F-statistic):           9.56e-61\n",
       "Time:                        13:53:19   Log-Likelihood:                -3331.0\n",
       "No. Observations:                 902   AIC:                             6672.\n",
       "Df Residuals:                     897   BIC:                             6696.\n",
       "Df Model:                           4                                         \n",
       "Covariance Type:            nonrobust                                         \n",
       "==============================================================================\n",
       "                 coef    std err          t      P>|t|      [0.025      0.975]\n",
       "------------------------------------------------------------------------------\n",
       "const        125.8605     24.109      5.221      0.000      78.544     173.177\n",
       "OBP          304.5758     35.676      8.537      0.000     234.558     374.594\n",
       "SLG           26.1920     16.604      1.577      0.115      -6.394      58.778\n",
       "OOBP        -188.9933    109.679     -1.723      0.085    -404.251      26.264\n",
       "OSLG        -207.1056     66.222     -3.127      0.002    -337.075     -77.137\n",
       "==============================================================================\n",
       "Omnibus:                        2.793   Durbin-Watson:                   1.878\n",
       "Prob(Omnibus):                  0.247   Jarque-Bera (JB):                2.471\n",
       "Skew:                           0.041   Prob(JB):                        0.291\n",
       "Kurtosis:                       2.757   Cond. No.                         476.\n",
       "==============================================================================\n",
       "\n",
       "Notes:\n",
       "[1] Standard Errors assume that the covariance matrix of the errors is correctly specified.\n",
       "\"\"\""
      ]
     },
     "execution_count": 10,
     "metadata": {},
     "output_type": "execute_result"
    }
   ],
   "source": [
    "model.summary()"
   ]
  },
  {
   "cell_type": "code",
   "execution_count": 11,
   "metadata": {
    "colab": {
     "base_uri": "https://localhost:8080/",
     "height": 270
    },
    "executionInfo": {
     "elapsed": 859,
     "status": "ok",
     "timestamp": 1677485652915,
     "user": {
      "displayName": "Mahesh Anand",
      "userId": "06788086636039591358"
     },
     "user_tz": -330
    },
    "id": "K1qhV-SpG936",
    "outputId": "c2db74b7-bac9-4d88-fcb8-e5cb63832d21"
   },
   "outputs": [
    {
     "data": {
      "text/html": [
       "<div>\n",
       "<style scoped>\n",
       "    .dataframe tbody tr th:only-of-type {\n",
       "        vertical-align: middle;\n",
       "    }\n",
       "\n",
       "    .dataframe tbody tr th {\n",
       "        vertical-align: top;\n",
       "    }\n",
       "\n",
       "    .dataframe thead th {\n",
       "        text-align: right;\n",
       "    }\n",
       "</style>\n",
       "<table border=\"1\" class=\"dataframe\">\n",
       "  <thead>\n",
       "    <tr style=\"text-align: right;\">\n",
       "      <th></th>\n",
       "      <th>Team</th>\n",
       "      <th>League</th>\n",
       "      <th>Year</th>\n",
       "      <th>RS</th>\n",
       "      <th>RA</th>\n",
       "      <th>W</th>\n",
       "      <th>OBP</th>\n",
       "      <th>SLG</th>\n",
       "      <th>BA</th>\n",
       "      <th>Playoffs</th>\n",
       "      <th>RankSeason</th>\n",
       "      <th>RankPlayoffs</th>\n",
       "      <th>G</th>\n",
       "      <th>OOBP</th>\n",
       "      <th>OSLG</th>\n",
       "      <th>RD</th>\n",
       "    </tr>\n",
       "  </thead>\n",
       "  <tbody>\n",
       "    <tr>\n",
       "      <th>0</th>\n",
       "      <td>ARI</td>\n",
       "      <td>NL</td>\n",
       "      <td>2012</td>\n",
       "      <td>734</td>\n",
       "      <td>688</td>\n",
       "      <td>81</td>\n",
       "      <td>0.328</td>\n",
       "      <td>0.418</td>\n",
       "      <td>0.259</td>\n",
       "      <td>0</td>\n",
       "      <td>NaN</td>\n",
       "      <td>NaN</td>\n",
       "      <td>162</td>\n",
       "      <td>0.317</td>\n",
       "      <td>0.415</td>\n",
       "      <td>46</td>\n",
       "    </tr>\n",
       "    <tr>\n",
       "      <th>1</th>\n",
       "      <td>ATL</td>\n",
       "      <td>NL</td>\n",
       "      <td>2012</td>\n",
       "      <td>700</td>\n",
       "      <td>600</td>\n",
       "      <td>94</td>\n",
       "      <td>0.320</td>\n",
       "      <td>0.389</td>\n",
       "      <td>0.247</td>\n",
       "      <td>1</td>\n",
       "      <td>4.0</td>\n",
       "      <td>5.0</td>\n",
       "      <td>162</td>\n",
       "      <td>0.306</td>\n",
       "      <td>0.378</td>\n",
       "      <td>100</td>\n",
       "    </tr>\n",
       "    <tr>\n",
       "      <th>2</th>\n",
       "      <td>BAL</td>\n",
       "      <td>AL</td>\n",
       "      <td>2012</td>\n",
       "      <td>712</td>\n",
       "      <td>705</td>\n",
       "      <td>93</td>\n",
       "      <td>0.311</td>\n",
       "      <td>0.417</td>\n",
       "      <td>0.247</td>\n",
       "      <td>1</td>\n",
       "      <td>5.0</td>\n",
       "      <td>4.0</td>\n",
       "      <td>162</td>\n",
       "      <td>0.315</td>\n",
       "      <td>0.403</td>\n",
       "      <td>7</td>\n",
       "    </tr>\n",
       "    <tr>\n",
       "      <th>3</th>\n",
       "      <td>BOS</td>\n",
       "      <td>AL</td>\n",
       "      <td>2012</td>\n",
       "      <td>734</td>\n",
       "      <td>806</td>\n",
       "      <td>69</td>\n",
       "      <td>0.315</td>\n",
       "      <td>0.415</td>\n",
       "      <td>0.260</td>\n",
       "      <td>0</td>\n",
       "      <td>NaN</td>\n",
       "      <td>NaN</td>\n",
       "      <td>162</td>\n",
       "      <td>0.331</td>\n",
       "      <td>0.428</td>\n",
       "      <td>-72</td>\n",
       "    </tr>\n",
       "    <tr>\n",
       "      <th>4</th>\n",
       "      <td>CHC</td>\n",
       "      <td>NL</td>\n",
       "      <td>2012</td>\n",
       "      <td>613</td>\n",
       "      <td>759</td>\n",
       "      <td>61</td>\n",
       "      <td>0.302</td>\n",
       "      <td>0.378</td>\n",
       "      <td>0.240</td>\n",
       "      <td>0</td>\n",
       "      <td>NaN</td>\n",
       "      <td>NaN</td>\n",
       "      <td>162</td>\n",
       "      <td>0.335</td>\n",
       "      <td>0.424</td>\n",
       "      <td>-146</td>\n",
       "    </tr>\n",
       "  </tbody>\n",
       "</table>\n",
       "</div>"
      ],
      "text/plain": [
       "  Team League  Year   RS   RA   W    OBP    SLG     BA  Playoffs  RankSeason  \\\n",
       "0  ARI     NL  2012  734  688  81  0.328  0.418  0.259         0         NaN   \n",
       "1  ATL     NL  2012  700  600  94  0.320  0.389  0.247         1         4.0   \n",
       "2  BAL     AL  2012  712  705  93  0.311  0.417  0.247         1         5.0   \n",
       "3  BOS     AL  2012  734  806  69  0.315  0.415  0.260         0         NaN   \n",
       "4  CHC     NL  2012  613  759  61  0.302  0.378  0.240         0         NaN   \n",
       "\n",
       "   RankPlayoffs    G   OOBP   OSLG   RD  \n",
       "0           NaN  162  0.317  0.415   46  \n",
       "1           5.0  162  0.306  0.378  100  \n",
       "2           4.0  162  0.315  0.403    7  \n",
       "3           NaN  162  0.331  0.428  -72  \n",
       "4           NaN  162  0.335  0.424 -146  "
      ]
     },
     "execution_count": 11,
     "metadata": {},
     "output_type": "execute_result"
    }
   ],
   "source": [
    "df['RD']=df['RS']-df['RA']\n",
    "df.head()"
   ]
  },
  {
   "cell_type": "code",
   "execution_count": 12,
   "metadata": {
    "colab": {
     "base_uri": "https://localhost:8080/"
    },
    "executionInfo": {
     "elapsed": 4,
     "status": "ok",
     "timestamp": 1677485206738,
     "user": {
      "displayName": "Mahesh Anand",
      "userId": "06788086636039591358"
     },
     "user_tz": -330
    },
    "id": "ZcfRVYNXQ91B",
    "outputId": "f6b01203-61b2-43ae-9ad9-4b9ff6bee6e0"
   },
   "outputs": [
    {
     "data": {
      "text/plain": [
       "(1232, 16)"
      ]
     },
     "execution_count": 12,
     "metadata": {},
     "output_type": "execute_result"
    }
   ],
   "source": [
    "df.shape"
   ]
  },
  {
   "cell_type": "code",
   "execution_count": 13,
   "metadata": {
    "colab": {
     "base_uri": "https://localhost:8080/",
     "height": 673
    },
    "executionInfo": {
     "elapsed": 416,
     "status": "ok",
     "timestamp": 1677483895815,
     "user": {
      "displayName": "Mahesh Anand",
      "userId": "06788086636039591358"
     },
     "user_tz": -330
    },
    "id": "pkJU8iexJB_W",
    "outputId": "d8b91bd2-5d50-4005-f083-3bc51ddbf6f3"
   },
   "outputs": [
    {
     "data": {
      "text/html": [
       "<div>\n",
       "<style scoped>\n",
       "    .dataframe tbody tr th:only-of-type {\n",
       "        vertical-align: middle;\n",
       "    }\n",
       "\n",
       "    .dataframe tbody tr th {\n",
       "        vertical-align: top;\n",
       "    }\n",
       "\n",
       "    .dataframe thead th {\n",
       "        text-align: right;\n",
       "    }\n",
       "</style>\n",
       "<table border=\"1\" class=\"dataframe\">\n",
       "  <thead>\n",
       "    <tr style=\"text-align: right;\">\n",
       "      <th></th>\n",
       "      <th>Year</th>\n",
       "      <th>RS</th>\n",
       "      <th>RA</th>\n",
       "      <th>W</th>\n",
       "      <th>OBP</th>\n",
       "      <th>SLG</th>\n",
       "      <th>BA</th>\n",
       "      <th>Playoffs</th>\n",
       "      <th>RankSeason</th>\n",
       "      <th>RankPlayoffs</th>\n",
       "      <th>G</th>\n",
       "      <th>OOBP</th>\n",
       "      <th>OSLG</th>\n",
       "      <th>RD</th>\n",
       "    </tr>\n",
       "  </thead>\n",
       "  <tbody>\n",
       "    <tr>\n",
       "      <th>Year</th>\n",
       "      <td>1.000000e+00</td>\n",
       "      <td>0.418978</td>\n",
       "      <td>0.412020</td>\n",
       "      <td>0.004138</td>\n",
       "      <td>0.374354</td>\n",
       "      <td>0.536037</td>\n",
       "      <td>0.349397</td>\n",
       "      <td>0.145779</td>\n",
       "      <td>0.385219</td>\n",
       "      <td>0.443967</td>\n",
       "      <td>0.009287</td>\n",
       "      <td>-0.371869</td>\n",
       "      <td>-0.345667</td>\n",
       "      <td>-1.144684e-16</td>\n",
       "    </tr>\n",
       "    <tr>\n",
       "      <th>RS</th>\n",
       "      <td>4.189775e-01</td>\n",
       "      <td>1.000000</td>\n",
       "      <td>0.380139</td>\n",
       "      <td>0.511745</td>\n",
       "      <td>0.900492</td>\n",
       "      <td>0.918740</td>\n",
       "      <td>0.827000</td>\n",
       "      <td>0.386628</td>\n",
       "      <td>-0.027687</td>\n",
       "      <td>0.210963</td>\n",
       "      <td>0.075195</td>\n",
       "      <td>0.133981</td>\n",
       "      <td>0.193426</td>\n",
       "      <td>5.462938e-01</td>\n",
       "    </tr>\n",
       "    <tr>\n",
       "      <th>RA</th>\n",
       "      <td>4.120202e-01</td>\n",
       "      <td>0.380139</td>\n",
       "      <td>1.000000</td>\n",
       "      <td>-0.532394</td>\n",
       "      <td>0.326360</td>\n",
       "      <td>0.436527</td>\n",
       "      <td>0.330764</td>\n",
       "      <td>-0.261477</td>\n",
       "      <td>0.399141</td>\n",
       "      <td>0.315128</td>\n",
       "      <td>-0.023369</td>\n",
       "      <td>0.910344</td>\n",
       "      <td>0.909319</td>\n",
       "      <td>-5.670477e-01</td>\n",
       "    </tr>\n",
       "    <tr>\n",
       "      <th>W</th>\n",
       "      <td>4.138248e-03</td>\n",
       "      <td>0.511745</td>\n",
       "      <td>-0.532394</td>\n",
       "      <td>1.000000</td>\n",
       "      <td>0.481836</td>\n",
       "      <td>0.401496</td>\n",
       "      <td>0.408716</td>\n",
       "      <td>0.616757</td>\n",
       "      <td>-0.755098</td>\n",
       "      <td>-0.198960</td>\n",
       "      <td>0.105309</td>\n",
       "      <td>-0.634315</td>\n",
       "      <td>-0.568490</td>\n",
       "      <td>9.378511e-01</td>\n",
       "    </tr>\n",
       "    <tr>\n",
       "      <th>OBP</th>\n",
       "      <td>3.743545e-01</td>\n",
       "      <td>0.900492</td>\n",
       "      <td>0.326360</td>\n",
       "      <td>0.481836</td>\n",
       "      <td>1.000000</td>\n",
       "      <td>0.790910</td>\n",
       "      <td>0.851958</td>\n",
       "      <td>0.363890</td>\n",
       "      <td>0.001612</td>\n",
       "      <td>0.175349</td>\n",
       "      <td>0.016563</td>\n",
       "      <td>0.120349</td>\n",
       "      <td>0.153372</td>\n",
       "      <td>5.063794e-01</td>\n",
       "    </tr>\n",
       "    <tr>\n",
       "      <th>SLG</th>\n",
       "      <td>5.360371e-01</td>\n",
       "      <td>0.918740</td>\n",
       "      <td>0.436527</td>\n",
       "      <td>0.401496</td>\n",
       "      <td>0.790910</td>\n",
       "      <td>1.000000</td>\n",
       "      <td>0.790481</td>\n",
       "      <td>0.324713</td>\n",
       "      <td>0.126663</td>\n",
       "      <td>0.271893</td>\n",
       "      <td>0.036770</td>\n",
       "      <td>0.143861</td>\n",
       "      <td>0.210423</td>\n",
       "      <td>4.228647e-01</td>\n",
       "    </tr>\n",
       "    <tr>\n",
       "      <th>BA</th>\n",
       "      <td>3.493972e-01</td>\n",
       "      <td>0.827000</td>\n",
       "      <td>0.330764</td>\n",
       "      <td>0.408716</td>\n",
       "      <td>0.851958</td>\n",
       "      <td>0.790481</td>\n",
       "      <td>1.000000</td>\n",
       "      <td>0.290217</td>\n",
       "      <td>0.035452</td>\n",
       "      <td>0.092684</td>\n",
       "      <td>0.019886</td>\n",
       "      <td>0.187108</td>\n",
       "      <td>0.227808</td>\n",
       "      <td>4.369427e-01</td>\n",
       "    </tr>\n",
       "    <tr>\n",
       "      <th>Playoffs</th>\n",
       "      <td>1.457787e-01</td>\n",
       "      <td>0.386628</td>\n",
       "      <td>-0.261477</td>\n",
       "      <td>0.616757</td>\n",
       "      <td>0.363890</td>\n",
       "      <td>0.324713</td>\n",
       "      <td>0.290217</td>\n",
       "      <td>1.000000</td>\n",
       "      <td>NaN</td>\n",
       "      <td>NaN</td>\n",
       "      <td>0.022208</td>\n",
       "      <td>-0.433572</td>\n",
       "      <td>-0.366744</td>\n",
       "      <td>5.810944e-01</td>\n",
       "    </tr>\n",
       "    <tr>\n",
       "      <th>RankSeason</th>\n",
       "      <td>3.852191e-01</td>\n",
       "      <td>-0.027687</td>\n",
       "      <td>0.399141</td>\n",
       "      <td>-0.755098</td>\n",
       "      <td>0.001612</td>\n",
       "      <td>0.126663</td>\n",
       "      <td>0.035452</td>\n",
       "      <td>NaN</td>\n",
       "      <td>1.000000</td>\n",
       "      <td>0.266906</td>\n",
       "      <td>0.069222</td>\n",
       "      <td>0.097731</td>\n",
       "      <td>0.050111</td>\n",
       "      <td>-5.806451e-01</td>\n",
       "    </tr>\n",
       "    <tr>\n",
       "      <th>RankPlayoffs</th>\n",
       "      <td>4.439670e-01</td>\n",
       "      <td>0.210963</td>\n",
       "      <td>0.315128</td>\n",
       "      <td>-0.198960</td>\n",
       "      <td>0.175349</td>\n",
       "      <td>0.271893</td>\n",
       "      <td>0.092684</td>\n",
       "      <td>NaN</td>\n",
       "      <td>0.266906</td>\n",
       "      <td>1.000000</td>\n",
       "      <td>0.007820</td>\n",
       "      <td>0.065808</td>\n",
       "      <td>0.087089</td>\n",
       "      <td>-1.312351e-01</td>\n",
       "    </tr>\n",
       "    <tr>\n",
       "      <th>G</th>\n",
       "      <td>9.286806e-03</td>\n",
       "      <td>0.075195</td>\n",
       "      <td>-0.023369</td>\n",
       "      <td>0.105309</td>\n",
       "      <td>0.016563</td>\n",
       "      <td>0.036770</td>\n",
       "      <td>0.019886</td>\n",
       "      <td>0.022208</td>\n",
       "      <td>0.069222</td>\n",
       "      <td>0.007820</td>\n",
       "      <td>1.000000</td>\n",
       "      <td>-0.077055</td>\n",
       "      <td>-0.004188</td>\n",
       "      <td>8.812638e-02</td>\n",
       "    </tr>\n",
       "    <tr>\n",
       "      <th>OOBP</th>\n",
       "      <td>-3.718695e-01</td>\n",
       "      <td>0.133981</td>\n",
       "      <td>0.910344</td>\n",
       "      <td>-0.634315</td>\n",
       "      <td>0.120349</td>\n",
       "      <td>0.143861</td>\n",
       "      <td>0.187108</td>\n",
       "      <td>-0.433572</td>\n",
       "      <td>0.097731</td>\n",
       "      <td>0.065808</td>\n",
       "      <td>-0.077055</td>\n",
       "      <td>1.000000</td>\n",
       "      <td>0.830902</td>\n",
       "      <td>-6.328714e-01</td>\n",
       "    </tr>\n",
       "    <tr>\n",
       "      <th>OSLG</th>\n",
       "      <td>-3.456670e-01</td>\n",
       "      <td>0.193426</td>\n",
       "      <td>0.909319</td>\n",
       "      <td>-0.568490</td>\n",
       "      <td>0.153372</td>\n",
       "      <td>0.210423</td>\n",
       "      <td>0.227808</td>\n",
       "      <td>-0.366744</td>\n",
       "      <td>0.050111</td>\n",
       "      <td>0.087089</td>\n",
       "      <td>-0.004188</td>\n",
       "      <td>0.830902</td>\n",
       "      <td>1.000000</td>\n",
       "      <td>-5.862272e-01</td>\n",
       "    </tr>\n",
       "    <tr>\n",
       "      <th>RD</th>\n",
       "      <td>-1.144684e-16</td>\n",
       "      <td>0.546294</td>\n",
       "      <td>-0.567048</td>\n",
       "      <td>0.937851</td>\n",
       "      <td>0.506379</td>\n",
       "      <td>0.422865</td>\n",
       "      <td>0.436943</td>\n",
       "      <td>0.581094</td>\n",
       "      <td>-0.580645</td>\n",
       "      <td>-0.131235</td>\n",
       "      <td>0.088126</td>\n",
       "      <td>-0.632871</td>\n",
       "      <td>-0.586227</td>\n",
       "      <td>1.000000e+00</td>\n",
       "    </tr>\n",
       "  </tbody>\n",
       "</table>\n",
       "</div>"
      ],
      "text/plain": [
       "                      Year        RS        RA         W       OBP       SLG  \\\n",
       "Year          1.000000e+00  0.418978  0.412020  0.004138  0.374354  0.536037   \n",
       "RS            4.189775e-01  1.000000  0.380139  0.511745  0.900492  0.918740   \n",
       "RA            4.120202e-01  0.380139  1.000000 -0.532394  0.326360  0.436527   \n",
       "W             4.138248e-03  0.511745 -0.532394  1.000000  0.481836  0.401496   \n",
       "OBP           3.743545e-01  0.900492  0.326360  0.481836  1.000000  0.790910   \n",
       "SLG           5.360371e-01  0.918740  0.436527  0.401496  0.790910  1.000000   \n",
       "BA            3.493972e-01  0.827000  0.330764  0.408716  0.851958  0.790481   \n",
       "Playoffs      1.457787e-01  0.386628 -0.261477  0.616757  0.363890  0.324713   \n",
       "RankSeason    3.852191e-01 -0.027687  0.399141 -0.755098  0.001612  0.126663   \n",
       "RankPlayoffs  4.439670e-01  0.210963  0.315128 -0.198960  0.175349  0.271893   \n",
       "G             9.286806e-03  0.075195 -0.023369  0.105309  0.016563  0.036770   \n",
       "OOBP         -3.718695e-01  0.133981  0.910344 -0.634315  0.120349  0.143861   \n",
       "OSLG         -3.456670e-01  0.193426  0.909319 -0.568490  0.153372  0.210423   \n",
       "RD           -1.144684e-16  0.546294 -0.567048  0.937851  0.506379  0.422865   \n",
       "\n",
       "                    BA  Playoffs  RankSeason  RankPlayoffs         G  \\\n",
       "Year          0.349397  0.145779    0.385219      0.443967  0.009287   \n",
       "RS            0.827000  0.386628   -0.027687      0.210963  0.075195   \n",
       "RA            0.330764 -0.261477    0.399141      0.315128 -0.023369   \n",
       "W             0.408716  0.616757   -0.755098     -0.198960  0.105309   \n",
       "OBP           0.851958  0.363890    0.001612      0.175349  0.016563   \n",
       "SLG           0.790481  0.324713    0.126663      0.271893  0.036770   \n",
       "BA            1.000000  0.290217    0.035452      0.092684  0.019886   \n",
       "Playoffs      0.290217  1.000000         NaN           NaN  0.022208   \n",
       "RankSeason    0.035452       NaN    1.000000      0.266906  0.069222   \n",
       "RankPlayoffs  0.092684       NaN    0.266906      1.000000  0.007820   \n",
       "G             0.019886  0.022208    0.069222      0.007820  1.000000   \n",
       "OOBP          0.187108 -0.433572    0.097731      0.065808 -0.077055   \n",
       "OSLG          0.227808 -0.366744    0.050111      0.087089 -0.004188   \n",
       "RD            0.436943  0.581094   -0.580645     -0.131235  0.088126   \n",
       "\n",
       "                  OOBP      OSLG            RD  \n",
       "Year         -0.371869 -0.345667 -1.144684e-16  \n",
       "RS            0.133981  0.193426  5.462938e-01  \n",
       "RA            0.910344  0.909319 -5.670477e-01  \n",
       "W            -0.634315 -0.568490  9.378511e-01  \n",
       "OBP           0.120349  0.153372  5.063794e-01  \n",
       "SLG           0.143861  0.210423  4.228647e-01  \n",
       "BA            0.187108  0.227808  4.369427e-01  \n",
       "Playoffs     -0.433572 -0.366744  5.810944e-01  \n",
       "RankSeason    0.097731  0.050111 -5.806451e-01  \n",
       "RankPlayoffs  0.065808  0.087089 -1.312351e-01  \n",
       "G            -0.077055 -0.004188  8.812638e-02  \n",
       "OOBP          1.000000  0.830902 -6.328714e-01  \n",
       "OSLG          0.830902  1.000000 -5.862272e-01  \n",
       "RD           -0.632871 -0.586227  1.000000e+00  "
      ]
     },
     "execution_count": 13,
     "metadata": {},
     "output_type": "execute_result"
    }
   ],
   "source": [
    "df.corr()"
   ]
  },
  {
   "cell_type": "markdown",
   "metadata": {
    "id": "LaAq7TfSzqWv"
   },
   "source": []
  },
  {
   "cell_type": "code",
   "execution_count": 14,
   "metadata": {
    "colab": {
     "base_uri": "https://localhost:8080/"
    },
    "executionInfo": {
     "elapsed": 386,
     "status": "ok",
     "timestamp": 1677485662186,
     "user": {
      "displayName": "Mahesh Anand",
      "userId": "06788086636039591358"
     },
     "user_tz": -330
    },
    "id": "It8KmjkoIt4p",
    "outputId": "53bc10b1-b8f3-4265-b242-10cf47a92d60"
   },
   "outputs": [
    {
     "data": {
      "text/plain": [
       "(902, 16)"
      ]
     },
     "execution_count": 14,
     "metadata": {},
     "output_type": "execute_result"
    }
   ],
   "source": [
    "#To replicate the data prior to 2002 season\n",
    "df1=df[df['Year']<2002]\n",
    "df1.shape"
   ]
  },
  {
   "cell_type": "code",
   "execution_count": 15,
   "metadata": {
    "colab": {
     "base_uri": "https://localhost:8080/",
     "height": 224
    },
    "executionInfo": {
     "elapsed": 1072,
     "status": "ok",
     "timestamp": 1601880803364,
     "user": {
      "displayName": "Mahesh Anand",
      "photoUrl": "https://lh3.googleusercontent.com/a-/AOh14GiAxRvO4nLPhI4SJLaIoUVmhr8lm1tddyCLyKOj=s64",
      "userId": "06788086636039591358"
     },
     "user_tz": -330
    },
    "id": "URDkKbdKiSY6",
    "outputId": "14e18b8a-e75e-4291-e115-22151e0c2cda"
   },
   "outputs": [
    {
     "data": {
      "text/html": [
       "<div>\n",
       "<style scoped>\n",
       "    .dataframe tbody tr th:only-of-type {\n",
       "        vertical-align: middle;\n",
       "    }\n",
       "\n",
       "    .dataframe tbody tr th {\n",
       "        vertical-align: top;\n",
       "    }\n",
       "\n",
       "    .dataframe thead th {\n",
       "        text-align: right;\n",
       "    }\n",
       "</style>\n",
       "<table border=\"1\" class=\"dataframe\">\n",
       "  <thead>\n",
       "    <tr style=\"text-align: right;\">\n",
       "      <th></th>\n",
       "      <th>Team</th>\n",
       "      <th>League</th>\n",
       "      <th>Year</th>\n",
       "      <th>RS</th>\n",
       "      <th>RA</th>\n",
       "      <th>W</th>\n",
       "      <th>OBP</th>\n",
       "      <th>SLG</th>\n",
       "      <th>BA</th>\n",
       "      <th>Playoffs</th>\n",
       "      <th>RankSeason</th>\n",
       "      <th>RankPlayoffs</th>\n",
       "      <th>G</th>\n",
       "      <th>OOBP</th>\n",
       "      <th>OSLG</th>\n",
       "      <th>RD</th>\n",
       "    </tr>\n",
       "  </thead>\n",
       "  <tbody>\n",
       "    <tr>\n",
       "      <th>330</th>\n",
       "      <td>ANA</td>\n",
       "      <td>AL</td>\n",
       "      <td>2001</td>\n",
       "      <td>691</td>\n",
       "      <td>730</td>\n",
       "      <td>75</td>\n",
       "      <td>0.327</td>\n",
       "      <td>0.405</td>\n",
       "      <td>0.261</td>\n",
       "      <td>0</td>\n",
       "      <td>NaN</td>\n",
       "      <td>NaN</td>\n",
       "      <td>162</td>\n",
       "      <td>0.331</td>\n",
       "      <td>0.412</td>\n",
       "      <td>-39</td>\n",
       "    </tr>\n",
       "    <tr>\n",
       "      <th>331</th>\n",
       "      <td>ARI</td>\n",
       "      <td>NL</td>\n",
       "      <td>2001</td>\n",
       "      <td>818</td>\n",
       "      <td>677</td>\n",
       "      <td>92</td>\n",
       "      <td>0.341</td>\n",
       "      <td>0.442</td>\n",
       "      <td>0.267</td>\n",
       "      <td>1</td>\n",
       "      <td>5.0</td>\n",
       "      <td>1.0</td>\n",
       "      <td>162</td>\n",
       "      <td>0.311</td>\n",
       "      <td>0.404</td>\n",
       "      <td>141</td>\n",
       "    </tr>\n",
       "    <tr>\n",
       "      <th>332</th>\n",
       "      <td>ATL</td>\n",
       "      <td>NL</td>\n",
       "      <td>2001</td>\n",
       "      <td>729</td>\n",
       "      <td>643</td>\n",
       "      <td>88</td>\n",
       "      <td>0.324</td>\n",
       "      <td>0.412</td>\n",
       "      <td>0.260</td>\n",
       "      <td>1</td>\n",
       "      <td>7.0</td>\n",
       "      <td>3.0</td>\n",
       "      <td>162</td>\n",
       "      <td>0.314</td>\n",
       "      <td>0.384</td>\n",
       "      <td>86</td>\n",
       "    </tr>\n",
       "    <tr>\n",
       "      <th>333</th>\n",
       "      <td>BAL</td>\n",
       "      <td>AL</td>\n",
       "      <td>2001</td>\n",
       "      <td>687</td>\n",
       "      <td>829</td>\n",
       "      <td>63</td>\n",
       "      <td>0.319</td>\n",
       "      <td>0.380</td>\n",
       "      <td>0.248</td>\n",
       "      <td>0</td>\n",
       "      <td>NaN</td>\n",
       "      <td>NaN</td>\n",
       "      <td>162</td>\n",
       "      <td>0.337</td>\n",
       "      <td>0.439</td>\n",
       "      <td>-142</td>\n",
       "    </tr>\n",
       "    <tr>\n",
       "      <th>334</th>\n",
       "      <td>BOS</td>\n",
       "      <td>AL</td>\n",
       "      <td>2001</td>\n",
       "      <td>772</td>\n",
       "      <td>745</td>\n",
       "      <td>82</td>\n",
       "      <td>0.334</td>\n",
       "      <td>0.439</td>\n",
       "      <td>0.266</td>\n",
       "      <td>0</td>\n",
       "      <td>NaN</td>\n",
       "      <td>NaN</td>\n",
       "      <td>161</td>\n",
       "      <td>0.329</td>\n",
       "      <td>0.393</td>\n",
       "      <td>27</td>\n",
       "    </tr>\n",
       "  </tbody>\n",
       "</table>\n",
       "</div>"
      ],
      "text/plain": [
       "    Team League  Year   RS   RA   W    OBP    SLG     BA  Playoffs  \\\n",
       "330  ANA     AL  2001  691  730  75  0.327  0.405  0.261         0   \n",
       "331  ARI     NL  2001  818  677  92  0.341  0.442  0.267         1   \n",
       "332  ATL     NL  2001  729  643  88  0.324  0.412  0.260         1   \n",
       "333  BAL     AL  2001  687  829  63  0.319  0.380  0.248         0   \n",
       "334  BOS     AL  2001  772  745  82  0.334  0.439  0.266         0   \n",
       "\n",
       "     RankSeason  RankPlayoffs    G   OOBP   OSLG   RD  \n",
       "330         NaN           NaN  162  0.331  0.412  -39  \n",
       "331         5.0           1.0  162  0.311  0.404  141  \n",
       "332         7.0           3.0  162  0.314  0.384   86  \n",
       "333         NaN           NaN  162  0.337  0.439 -142  \n",
       "334         NaN           NaN  161  0.329  0.393   27  "
      ]
     },
     "execution_count": 15,
     "metadata": {},
     "output_type": "execute_result"
    }
   ],
   "source": [
    "df1.head()"
   ]
  },
  {
   "cell_type": "code",
   "execution_count": 16,
   "metadata": {
    "colab": {
     "base_uri": "https://localhost:8080/",
     "height": 206
    },
    "executionInfo": {
     "elapsed": 398,
     "status": "ok",
     "timestamp": 1677485666903,
     "user": {
      "displayName": "Mahesh Anand",
      "userId": "06788086636039591358"
     },
     "user_tz": -330
    },
    "id": "McjSDHAdiXbD",
    "outputId": "c555a78a-337a-485b-bbe4-0c0532f1d8d4"
   },
   "outputs": [
    {
     "data": {
      "text/html": [
       "<div>\n",
       "<style scoped>\n",
       "    .dataframe tbody tr th:only-of-type {\n",
       "        vertical-align: middle;\n",
       "    }\n",
       "\n",
       "    .dataframe tbody tr th {\n",
       "        vertical-align: top;\n",
       "    }\n",
       "\n",
       "    .dataframe thead th {\n",
       "        text-align: right;\n",
       "    }\n",
       "</style>\n",
       "<table border=\"1\" class=\"dataframe\">\n",
       "  <thead>\n",
       "    <tr style=\"text-align: right;\">\n",
       "      <th></th>\n",
       "      <th>RS</th>\n",
       "      <th>RA</th>\n",
       "      <th>W</th>\n",
       "      <th>OBP</th>\n",
       "      <th>SLG</th>\n",
       "      <th>BA</th>\n",
       "      <th>G</th>\n",
       "      <th>OOBP</th>\n",
       "      <th>OSLG</th>\n",
       "      <th>RD</th>\n",
       "    </tr>\n",
       "  </thead>\n",
       "  <tbody>\n",
       "    <tr>\n",
       "      <th>330</th>\n",
       "      <td>691</td>\n",
       "      <td>730</td>\n",
       "      <td>75</td>\n",
       "      <td>0.327</td>\n",
       "      <td>0.405</td>\n",
       "      <td>0.261</td>\n",
       "      <td>162</td>\n",
       "      <td>0.331</td>\n",
       "      <td>0.412</td>\n",
       "      <td>-39</td>\n",
       "    </tr>\n",
       "    <tr>\n",
       "      <th>331</th>\n",
       "      <td>818</td>\n",
       "      <td>677</td>\n",
       "      <td>92</td>\n",
       "      <td>0.341</td>\n",
       "      <td>0.442</td>\n",
       "      <td>0.267</td>\n",
       "      <td>162</td>\n",
       "      <td>0.311</td>\n",
       "      <td>0.404</td>\n",
       "      <td>141</td>\n",
       "    </tr>\n",
       "    <tr>\n",
       "      <th>332</th>\n",
       "      <td>729</td>\n",
       "      <td>643</td>\n",
       "      <td>88</td>\n",
       "      <td>0.324</td>\n",
       "      <td>0.412</td>\n",
       "      <td>0.260</td>\n",
       "      <td>162</td>\n",
       "      <td>0.314</td>\n",
       "      <td>0.384</td>\n",
       "      <td>86</td>\n",
       "    </tr>\n",
       "    <tr>\n",
       "      <th>333</th>\n",
       "      <td>687</td>\n",
       "      <td>829</td>\n",
       "      <td>63</td>\n",
       "      <td>0.319</td>\n",
       "      <td>0.380</td>\n",
       "      <td>0.248</td>\n",
       "      <td>162</td>\n",
       "      <td>0.337</td>\n",
       "      <td>0.439</td>\n",
       "      <td>-142</td>\n",
       "    </tr>\n",
       "    <tr>\n",
       "      <th>334</th>\n",
       "      <td>772</td>\n",
       "      <td>745</td>\n",
       "      <td>82</td>\n",
       "      <td>0.334</td>\n",
       "      <td>0.439</td>\n",
       "      <td>0.266</td>\n",
       "      <td>161</td>\n",
       "      <td>0.329</td>\n",
       "      <td>0.393</td>\n",
       "      <td>27</td>\n",
       "    </tr>\n",
       "  </tbody>\n",
       "</table>\n",
       "</div>"
      ],
      "text/plain": [
       "      RS   RA   W    OBP    SLG     BA    G   OOBP   OSLG   RD\n",
       "330  691  730  75  0.327  0.405  0.261  162  0.331  0.412  -39\n",
       "331  818  677  92  0.341  0.442  0.267  162  0.311  0.404  141\n",
       "332  729  643  88  0.324  0.412  0.260  162  0.314  0.384   86\n",
       "333  687  829  63  0.319  0.380  0.248  162  0.337  0.439 -142\n",
       "334  772  745  82  0.334  0.439  0.266  161  0.329  0.393   27"
      ]
     },
     "execution_count": 16,
     "metadata": {},
     "output_type": "execute_result"
    }
   ],
   "source": [
    "df_new=df1.drop(['Team','League','Year','Playoffs','RankSeason','RankPlayoffs'],axis=1)\n",
    "df_new.head()"
   ]
  },
  {
   "cell_type": "code",
   "execution_count": null,
   "metadata": {
    "colab": {
     "base_uri": "https://localhost:8080/"
    },
    "executionInfo": {
     "elapsed": 429,
     "status": "ok",
     "timestamp": 1671448390627,
     "user": {
      "displayName": "Mahesh Anand",
      "userId": "06788086636039591358"
     },
     "user_tz": -330
    },
    "id": "C2vW-wrntn_x",
    "outputId": "04517b4a-af66-49b5-c1b6-796feae8af27"
   },
   "outputs": [
    {
     "data": {
      "text/plain": [
       "(902, 10)"
      ]
     },
     "execution_count": 11,
     "metadata": {},
     "output_type": "execute_result"
    }
   ],
   "source": [
    "df_new.shape"
   ]
  },
  {
   "cell_type": "code",
   "execution_count": null,
   "metadata": {
    "colab": {
     "base_uri": "https://localhost:8080/"
    },
    "executionInfo": {
     "elapsed": 402,
     "status": "ok",
     "timestamp": 1671448403632,
     "user": {
      "displayName": "Mahesh Anand",
      "userId": "06788086636039591358"
     },
     "user_tz": -330
    },
    "id": "iT7ZcMQlbtho",
    "outputId": "2669e9d7-1679-4bd6-ecfb-7cc4fc17464e"
   },
   "outputs": [
    {
     "name": "stdout",
     "output_type": "stream",
     "text": [
      "<class 'pandas.core.frame.DataFrame'>\n",
      "Int64Index: 902 entries, 330 to 1231\n",
      "Data columns (total 10 columns):\n",
      " #   Column  Non-Null Count  Dtype  \n",
      "---  ------  --------------  -----  \n",
      " 0   RS      902 non-null    int64  \n",
      " 1   RA      902 non-null    int64  \n",
      " 2   W       902 non-null    int64  \n",
      " 3   OBP     902 non-null    float64\n",
      " 4   SLG     902 non-null    float64\n",
      " 5   BA      902 non-null    float64\n",
      " 6   G       902 non-null    int64  \n",
      " 7   OOBP    90 non-null     float64\n",
      " 8   OSLG    90 non-null     float64\n",
      " 9   RD      902 non-null    int64  \n",
      "dtypes: float64(5), int64(5)\n",
      "memory usage: 77.5 KB\n"
     ]
    }
   ],
   "source": [
    "df_new.info()"
   ]
  },
  {
   "cell_type": "code",
   "execution_count": 17,
   "metadata": {
    "colab": {
     "base_uri": "https://localhost:8080/",
     "height": 639
    },
    "executionInfo": {
     "elapsed": 1076,
     "status": "ok",
     "timestamp": 1601877015005,
     "user": {
      "displayName": "Mahesh Anand",
      "photoUrl": "https://lh3.googleusercontent.com/a-/AOh14GiAxRvO4nLPhI4SJLaIoUVmhr8lm1tddyCLyKOj=s64",
      "userId": "06788086636039591358"
     },
     "user_tz": -330
    },
    "id": "DFNKJcKzJVWh",
    "outputId": "4fba9122-e829-44c2-e120-f6b234c26a27"
   },
   "outputs": [
    {
     "data": {
      "text/html": [
       "<div>\n",
       "<style scoped>\n",
       "    .dataframe tbody tr th:only-of-type {\n",
       "        vertical-align: middle;\n",
       "    }\n",
       "\n",
       "    .dataframe tbody tr th {\n",
       "        vertical-align: top;\n",
       "    }\n",
       "\n",
       "    .dataframe thead th {\n",
       "        text-align: right;\n",
       "    }\n",
       "</style>\n",
       "<table border=\"1\" class=\"dataframe\">\n",
       "  <thead>\n",
       "    <tr style=\"text-align: right;\">\n",
       "      <th></th>\n",
       "      <th>Year</th>\n",
       "      <th>RS</th>\n",
       "      <th>RA</th>\n",
       "      <th>W</th>\n",
       "      <th>OBP</th>\n",
       "      <th>SLG</th>\n",
       "      <th>BA</th>\n",
       "      <th>Playoffs</th>\n",
       "      <th>RankSeason</th>\n",
       "      <th>RankPlayoffs</th>\n",
       "      <th>G</th>\n",
       "      <th>OOBP</th>\n",
       "      <th>OSLG</th>\n",
       "      <th>RD</th>\n",
       "    </tr>\n",
       "  </thead>\n",
       "  <tbody>\n",
       "    <tr>\n",
       "      <th>Year</th>\n",
       "      <td>1.000000e+00</td>\n",
       "      <td>0.485502</td>\n",
       "      <td>0.483072</td>\n",
       "      <td>0.002756</td>\n",
       "      <td>0.474799</td>\n",
       "      <td>0.517828</td>\n",
       "      <td>0.438729</td>\n",
       "      <td>0.113014</td>\n",
       "      <td>0.415645</td>\n",
       "      <td>0.426403</td>\n",
       "      <td>-0.027085</td>\n",
       "      <td>-0.335533</td>\n",
       "      <td>-0.122668</td>\n",
       "      <td>-7.276869e-16</td>\n",
       "    </tr>\n",
       "    <tr>\n",
       "      <th>RS</th>\n",
       "      <td>4.855023e-01</td>\n",
       "      <td>1.000000</td>\n",
       "      <td>0.415014</td>\n",
       "      <td>0.507382</td>\n",
       "      <td>0.904909</td>\n",
       "      <td>0.926384</td>\n",
       "      <td>0.831625</td>\n",
       "      <td>0.371631</td>\n",
       "      <td>0.135743</td>\n",
       "      <td>0.323624</td>\n",
       "      <td>0.056206</td>\n",
       "      <td>0.091057</td>\n",
       "      <td>0.039787</td>\n",
       "      <td>5.375395e-01</td>\n",
       "    </tr>\n",
       "    <tr>\n",
       "      <th>RA</th>\n",
       "      <td>4.830717e-01</td>\n",
       "      <td>0.415014</td>\n",
       "      <td>1.000000</td>\n",
       "      <td>-0.507772</td>\n",
       "      <td>0.367105</td>\n",
       "      <td>0.459514</td>\n",
       "      <td>0.350411</td>\n",
       "      <td>-0.241213</td>\n",
       "      <td>0.539387</td>\n",
       "      <td>0.382416</td>\n",
       "      <td>-0.037402</td>\n",
       "      <td>0.909908</td>\n",
       "      <td>0.895110</td>\n",
       "      <td>-5.441052e-01</td>\n",
       "    </tr>\n",
       "    <tr>\n",
       "      <th>W</th>\n",
       "      <td>2.755645e-03</td>\n",
       "      <td>0.507382</td>\n",
       "      <td>-0.507772</td>\n",
       "      <td>1.000000</td>\n",
       "      <td>0.474080</td>\n",
       "      <td>0.405972</td>\n",
       "      <td>0.416391</td>\n",
       "      <td>0.588978</td>\n",
       "      <td>-0.747960</td>\n",
       "      <td>-0.235038</td>\n",
       "      <td>0.108128</td>\n",
       "      <td>-0.633657</td>\n",
       "      <td>-0.646920</td>\n",
       "      <td>9.385150e-01</td>\n",
       "    </tr>\n",
       "    <tr>\n",
       "      <th>OBP</th>\n",
       "      <td>4.747989e-01</td>\n",
       "      <td>0.904909</td>\n",
       "      <td>0.367105</td>\n",
       "      <td>0.474080</td>\n",
       "      <td>1.000000</td>\n",
       "      <td>0.806154</td>\n",
       "      <td>0.854055</td>\n",
       "      <td>0.345530</td>\n",
       "      <td>0.146153</td>\n",
       "      <td>0.300446</td>\n",
       "      <td>-0.003827</td>\n",
       "      <td>0.052899</td>\n",
       "      <td>-0.008316</td>\n",
       "      <td>4.942505e-01</td>\n",
       "    </tr>\n",
       "    <tr>\n",
       "      <th>SLG</th>\n",
       "      <td>5.178276e-01</td>\n",
       "      <td>0.926384</td>\n",
       "      <td>0.459514</td>\n",
       "      <td>0.405972</td>\n",
       "      <td>0.806154</td>\n",
       "      <td>1.000000</td>\n",
       "      <td>0.814068</td>\n",
       "      <td>0.300191</td>\n",
       "      <td>0.217315</td>\n",
       "      <td>0.341013</td>\n",
       "      <td>0.012873</td>\n",
       "      <td>0.101632</td>\n",
       "      <td>0.080376</td>\n",
       "      <td>4.284077e-01</td>\n",
       "    </tr>\n",
       "    <tr>\n",
       "      <th>BA</th>\n",
       "      <td>4.387291e-01</td>\n",
       "      <td>0.831625</td>\n",
       "      <td>0.350411</td>\n",
       "      <td>0.416391</td>\n",
       "      <td>0.854055</td>\n",
       "      <td>0.814068</td>\n",
       "      <td>1.000000</td>\n",
       "      <td>0.278772</td>\n",
       "      <td>0.156881</td>\n",
       "      <td>0.229791</td>\n",
       "      <td>-0.001805</td>\n",
       "      <td>0.219021</td>\n",
       "      <td>0.231918</td>\n",
       "      <td>4.421417e-01</td>\n",
       "    </tr>\n",
       "    <tr>\n",
       "      <th>Playoffs</th>\n",
       "      <td>1.130136e-01</td>\n",
       "      <td>0.371631</td>\n",
       "      <td>-0.241213</td>\n",
       "      <td>0.588978</td>\n",
       "      <td>0.345530</td>\n",
       "      <td>0.300191</td>\n",
       "      <td>0.278772</td>\n",
       "      <td>1.000000</td>\n",
       "      <td>NaN</td>\n",
       "      <td>NaN</td>\n",
       "      <td>0.009831</td>\n",
       "      <td>-0.495725</td>\n",
       "      <td>-0.510097</td>\n",
       "      <td>5.662745e-01</td>\n",
       "    </tr>\n",
       "    <tr>\n",
       "      <th>RankSeason</th>\n",
       "      <td>4.156449e-01</td>\n",
       "      <td>0.135743</td>\n",
       "      <td>0.539387</td>\n",
       "      <td>-0.747960</td>\n",
       "      <td>0.146153</td>\n",
       "      <td>0.217315</td>\n",
       "      <td>0.156881</td>\n",
       "      <td>NaN</td>\n",
       "      <td>1.000000</td>\n",
       "      <td>0.352961</td>\n",
       "      <td>0.052870</td>\n",
       "      <td>0.141905</td>\n",
       "      <td>0.235886</td>\n",
       "      <td>-5.703690e-01</td>\n",
       "    </tr>\n",
       "    <tr>\n",
       "      <th>RankPlayoffs</th>\n",
       "      <td>4.264030e-01</td>\n",
       "      <td>0.323624</td>\n",
       "      <td>0.382416</td>\n",
       "      <td>-0.235038</td>\n",
       "      <td>0.300446</td>\n",
       "      <td>0.341013</td>\n",
       "      <td>0.229791</td>\n",
       "      <td>NaN</td>\n",
       "      <td>0.352961</td>\n",
       "      <td>1.000000</td>\n",
       "      <td>0.012394</td>\n",
       "      <td>0.299376</td>\n",
       "      <td>0.318576</td>\n",
       "      <td>-7.677988e-02</td>\n",
       "    </tr>\n",
       "    <tr>\n",
       "      <th>G</th>\n",
       "      <td>-2.708490e-02</td>\n",
       "      <td>0.056206</td>\n",
       "      <td>-0.037402</td>\n",
       "      <td>0.108128</td>\n",
       "      <td>-0.003827</td>\n",
       "      <td>0.012873</td>\n",
       "      <td>-0.001805</td>\n",
       "      <td>0.009831</td>\n",
       "      <td>0.052870</td>\n",
       "      <td>0.012394</td>\n",
       "      <td>1.000000</td>\n",
       "      <td>-0.100545</td>\n",
       "      <td>-0.045432</td>\n",
       "      <td>8.649718e-02</td>\n",
       "    </tr>\n",
       "    <tr>\n",
       "      <th>OOBP</th>\n",
       "      <td>-3.355334e-01</td>\n",
       "      <td>0.091057</td>\n",
       "      <td>0.909908</td>\n",
       "      <td>-0.633657</td>\n",
       "      <td>0.052899</td>\n",
       "      <td>0.101632</td>\n",
       "      <td>0.219021</td>\n",
       "      <td>-0.495725</td>\n",
       "      <td>0.141905</td>\n",
       "      <td>0.299376</td>\n",
       "      <td>-0.100545</td>\n",
       "      <td>1.000000</td>\n",
       "      <td>0.796526</td>\n",
       "      <td>-6.040766e-01</td>\n",
       "    </tr>\n",
       "    <tr>\n",
       "      <th>OSLG</th>\n",
       "      <td>-1.226680e-01</td>\n",
       "      <td>0.039787</td>\n",
       "      <td>0.895110</td>\n",
       "      <td>-0.646920</td>\n",
       "      <td>-0.008316</td>\n",
       "      <td>0.080376</td>\n",
       "      <td>0.231918</td>\n",
       "      <td>-0.510097</td>\n",
       "      <td>0.235886</td>\n",
       "      <td>0.318576</td>\n",
       "      <td>-0.045432</td>\n",
       "      <td>0.796526</td>\n",
       "      <td>1.000000</td>\n",
       "      <td>-6.302315e-01</td>\n",
       "    </tr>\n",
       "    <tr>\n",
       "      <th>RD</th>\n",
       "      <td>-7.276869e-16</td>\n",
       "      <td>0.537539</td>\n",
       "      <td>-0.544105</td>\n",
       "      <td>0.938515</td>\n",
       "      <td>0.494251</td>\n",
       "      <td>0.428408</td>\n",
       "      <td>0.442142</td>\n",
       "      <td>0.566274</td>\n",
       "      <td>-0.570369</td>\n",
       "      <td>-0.076780</td>\n",
       "      <td>0.086497</td>\n",
       "      <td>-0.604077</td>\n",
       "      <td>-0.630231</td>\n",
       "      <td>1.000000e+00</td>\n",
       "    </tr>\n",
       "  </tbody>\n",
       "</table>\n",
       "</div>"
      ],
      "text/plain": [
       "                      Year        RS        RA         W       OBP       SLG  \\\n",
       "Year          1.000000e+00  0.485502  0.483072  0.002756  0.474799  0.517828   \n",
       "RS            4.855023e-01  1.000000  0.415014  0.507382  0.904909  0.926384   \n",
       "RA            4.830717e-01  0.415014  1.000000 -0.507772  0.367105  0.459514   \n",
       "W             2.755645e-03  0.507382 -0.507772  1.000000  0.474080  0.405972   \n",
       "OBP           4.747989e-01  0.904909  0.367105  0.474080  1.000000  0.806154   \n",
       "SLG           5.178276e-01  0.926384  0.459514  0.405972  0.806154  1.000000   \n",
       "BA            4.387291e-01  0.831625  0.350411  0.416391  0.854055  0.814068   \n",
       "Playoffs      1.130136e-01  0.371631 -0.241213  0.588978  0.345530  0.300191   \n",
       "RankSeason    4.156449e-01  0.135743  0.539387 -0.747960  0.146153  0.217315   \n",
       "RankPlayoffs  4.264030e-01  0.323624  0.382416 -0.235038  0.300446  0.341013   \n",
       "G            -2.708490e-02  0.056206 -0.037402  0.108128 -0.003827  0.012873   \n",
       "OOBP         -3.355334e-01  0.091057  0.909908 -0.633657  0.052899  0.101632   \n",
       "OSLG         -1.226680e-01  0.039787  0.895110 -0.646920 -0.008316  0.080376   \n",
       "RD           -7.276869e-16  0.537539 -0.544105  0.938515  0.494251  0.428408   \n",
       "\n",
       "                    BA  Playoffs  RankSeason  RankPlayoffs         G  \\\n",
       "Year          0.438729  0.113014    0.415645      0.426403 -0.027085   \n",
       "RS            0.831625  0.371631    0.135743      0.323624  0.056206   \n",
       "RA            0.350411 -0.241213    0.539387      0.382416 -0.037402   \n",
       "W             0.416391  0.588978   -0.747960     -0.235038  0.108128   \n",
       "OBP           0.854055  0.345530    0.146153      0.300446 -0.003827   \n",
       "SLG           0.814068  0.300191    0.217315      0.341013  0.012873   \n",
       "BA            1.000000  0.278772    0.156881      0.229791 -0.001805   \n",
       "Playoffs      0.278772  1.000000         NaN           NaN  0.009831   \n",
       "RankSeason    0.156881       NaN    1.000000      0.352961  0.052870   \n",
       "RankPlayoffs  0.229791       NaN    0.352961      1.000000  0.012394   \n",
       "G            -0.001805  0.009831    0.052870      0.012394  1.000000   \n",
       "OOBP          0.219021 -0.495725    0.141905      0.299376 -0.100545   \n",
       "OSLG          0.231918 -0.510097    0.235886      0.318576 -0.045432   \n",
       "RD            0.442142  0.566274   -0.570369     -0.076780  0.086497   \n",
       "\n",
       "                  OOBP      OSLG            RD  \n",
       "Year         -0.335533 -0.122668 -7.276869e-16  \n",
       "RS            0.091057  0.039787  5.375395e-01  \n",
       "RA            0.909908  0.895110 -5.441052e-01  \n",
       "W            -0.633657 -0.646920  9.385150e-01  \n",
       "OBP           0.052899 -0.008316  4.942505e-01  \n",
       "SLG           0.101632  0.080376  4.284077e-01  \n",
       "BA            0.219021  0.231918  4.421417e-01  \n",
       "Playoffs     -0.495725 -0.510097  5.662745e-01  \n",
       "RankSeason    0.141905  0.235886 -5.703690e-01  \n",
       "RankPlayoffs  0.299376  0.318576 -7.677988e-02  \n",
       "G            -0.100545 -0.045432  8.649718e-02  \n",
       "OOBP          1.000000  0.796526 -6.040766e-01  \n",
       "OSLG          0.796526  1.000000 -6.302315e-01  \n",
       "RD           -0.604077 -0.630231  1.000000e+00  "
      ]
     },
     "execution_count": 17,
     "metadata": {},
     "output_type": "execute_result"
    }
   ],
   "source": [
    "df1.corr()"
   ]
  },
  {
   "cell_type": "code",
   "execution_count": null,
   "metadata": {
    "colab": {
     "base_uri": "https://localhost:8080/",
     "height": 282
    },
    "executionInfo": {
     "elapsed": 685,
     "status": "ok",
     "timestamp": 1668246614066,
     "user": {
      "displayName": "Mahesh Anand",
      "userId": "06788086636039591358"
     },
     "user_tz": -330
    },
    "id": "n3L8sGKVqGev",
    "outputId": "1051572a-03e0-4d15-b6dd-49a986e5381f"
   },
   "outputs": [
    {
     "data": {
      "text/plain": [
       "<matplotlib.collections.PathCollection at 0x7f41100165d0>"
      ]
     },
     "execution_count": 17,
     "metadata": {},
     "output_type": "execute_result"
    },
    {
     "data": {
      "image/png": "[encoded data removed]",
      "text/plain": [
       "<Figure size 432x288 with 1 Axes>"
      ]
     },
     "metadata": {
      "needs_background": "light"
     },
     "output_type": "display_data"
    }
   ],
   "source": [
    "plt.scatter(df1['OBP'],df1['RS'])"
   ]
  },
  {
   "cell_type": "code",
   "execution_count": null,
   "metadata": {
    "colab": {
     "base_uri": "https://localhost:8080/",
     "height": 282
    },
    "executionInfo": {
     "elapsed": 480,
     "status": "ok",
     "timestamp": 1644058269026,
     "user": {
      "displayName": "Mahesh Anand",
      "photoUrl": "https://lh3.googleusercontent.com/a-/AOh14GjrgsRhu_m9R1mX1R2osLnbO2LcUFIvlC-8Zz6HBA=s64",
      "userId": "06788086636039591358"
     },
     "user_tz": -330
    },
    "id": "tZQ-CejZqSSc",
    "outputId": "d5ac6c17-334c-45d6-afb5-a53aa0db5604"
   },
   "outputs": [
    {
     "data": {
      "text/plain": [
       "<matplotlib.collections.PathCollection at 0x7f5351d4f8d0>"
      ]
     },
     "execution_count": 19,
     "metadata": {},
     "output_type": "execute_result"
    },
    {
     "data": {
      "image/png": "[encoded data removed]",
      "text/plain": [
       "<Figure size 432x288 with 1 Axes>"
      ]
     },
     "metadata": {
      "needs_background": "light"
     },
     "output_type": "display_data"
    }
   ],
   "source": [
    "plt.scatter(df1['SLG'],df1['RS'])"
   ]
  },
  {
   "cell_type": "code",
   "execution_count": null,
   "metadata": {
    "colab": {
     "base_uri": "https://localhost:8080/",
     "height": 282
    },
    "executionInfo": {
     "elapsed": 404,
     "status": "ok",
     "timestamp": 1653904785201,
     "user": {
      "displayName": "Mahesh Anand",
      "userId": "06788086636039591358"
     },
     "user_tz": -330
    },
    "id": "nbAcclv7J8j7",
    "outputId": "c0d6beb6-c37e-495f-e7d0-c69f3034e91e"
   },
   "outputs": [
    {
     "data": {
      "text/plain": [
       "<matplotlib.axes._subplots.AxesSubplot at 0x7feb7a85b9d0>"
      ]
     },
     "execution_count": 16,
     "metadata": {},
     "output_type": "execute_result"
    },
    {
     "data": {
      "image/png": "[encoded data removed]",
      "text/plain": [
       "<Figure size 432x288 with 1 Axes>"
      ]
     },
     "metadata": {
      "needs_background": "light"
     },
     "output_type": "display_data"
    }
   ],
   "source": [
    "#find insights regarding the distributions of the numerical variables\n",
    "df1['RS'].hist(bins=50)"
   ]
  },
  {
   "cell_type": "code",
   "execution_count": null,
   "metadata": {
    "colab": {
     "base_uri": "https://localhost:8080/"
    },
    "executionInfo": {
     "elapsed": 539,
     "status": "ok",
     "timestamp": 1668246712879,
     "user": {
      "displayName": "Mahesh Anand",
      "userId": "06788086636039591358"
     },
     "user_tz": -330
    },
    "id": "I4jGPPrb1dnX",
    "outputId": "934f7bef-6e21-44bb-9a5b-440e2423cd74"
   },
   "outputs": [
    {
     "data": {
      "text/plain": [
       "0.29951280844941525"
      ]
     },
     "execution_count": 18,
     "metadata": {},
     "output_type": "execute_result"
    }
   ],
   "source": [
    "df1['RS'].skew()"
   ]
  },
  {
   "cell_type": "code",
   "execution_count": null,
   "metadata": {
    "colab": {
     "base_uri": "https://localhost:8080/",
     "height": 282
    },
    "executionInfo": {
     "elapsed": 372,
     "status": "ok",
     "timestamp": 1668246723421,
     "user": {
      "displayName": "Mahesh Anand",
      "userId": "06788086636039591358"
     },
     "user_tz": -330
    },
    "id": "RjxX_6f8KPfm",
    "outputId": "4945801c-0e77-45db-c632-15922fef765c"
   },
   "outputs": [
    {
     "data": {
      "text/plain": [
       "<matplotlib.axes._subplots.AxesSubplot at 0x7f410fb0f950>"
      ]
     },
     "execution_count": 19,
     "metadata": {},
     "output_type": "execute_result"
    },
    {
     "data": {
      "image/png": "[encoded data removed]",
      "text/plain": [
       "<Figure size 432x288 with 1 Axes>"
      ]
     },
     "metadata": {
      "needs_background": "light"
     },
     "output_type": "display_data"
    }
   ],
   "source": [
    "df1['RA'].hist(bins=50)"
   ]
  },
  {
   "cell_type": "code",
   "execution_count": null,
   "metadata": {
    "colab": {
     "base_uri": "https://localhost:8080/",
     "height": 282
    },
    "executionInfo": {
     "elapsed": 945,
     "status": "ok",
     "timestamp": 1598420864237,
     "user": {
      "displayName": "Mahesh Anand",
      "photoUrl": "https://lh3.googleusercontent.com/a-/AOh14GiAxRvO4nLPhI4SJLaIoUVmhr8lm1tddyCLyKOj=s64",
      "userId": "06788086636039591358"
     },
     "user_tz": -330
    },
    "id": "JwwAVxatKavF",
    "outputId": "aab8e96b-5a0a-4e62-fd9e-5d4bf82ed38f"
   },
   "outputs": [
    {
     "data": {
      "text/plain": [
       "<matplotlib.axes._subplots.AxesSubplot at 0x7f0b181e9f98>"
      ]
     },
     "execution_count": 10,
     "metadata": {
      "tags": []
     },
     "output_type": "execute_result"
    },
    {
     "data": {
      "image/png": "[encoded data removed]",
      "text/plain": [
       "<Figure size 432x288 with 1 Axes>"
      ]
     },
     "metadata": {
      "needs_background": "light",
      "tags": []
     },
     "output_type": "display_data"
    }
   ],
   "source": [
    "df1['OBP'].hist(bins=50)"
   ]
  },
  {
   "cell_type": "code",
   "execution_count": null,
   "metadata": {
    "colab": {
     "base_uri": "https://localhost:8080/",
     "height": 282
    },
    "executionInfo": {
     "elapsed": 1162,
     "status": "ok",
     "timestamp": 1601877729646,
     "user": {
      "displayName": "Mahesh Anand",
      "photoUrl": "https://lh3.googleusercontent.com/a-/AOh14GiAxRvO4nLPhI4SJLaIoUVmhr8lm1tddyCLyKOj=s64",
      "userId": "06788086636039591358"
     },
     "user_tz": -330
    },
    "id": "dKdagsE8KiJh",
    "outputId": "85d68b47-f8df-42a5-8af1-d43b9b60e41d"
   },
   "outputs": [
    {
     "data": {
      "text/plain": [
       "<matplotlib.axes._subplots.AxesSubplot at 0x7f4d37da00b8>"
      ]
     },
     "execution_count": 19,
     "metadata": {
      "tags": []
     },
     "output_type": "execute_result"
    },
    {
     "data": {
      "image/png": "[encoded data removed]",
      "text/plain": [
       "<Figure size 432x288 with 1 Axes>"
      ]
     },
     "metadata": {
      "needs_background": "light",
      "tags": []
     },
     "output_type": "display_data"
    }
   ],
   "source": [
    "df1['SLG'].hist(bins=50)"
   ]
  },
  {
   "cell_type": "code",
   "execution_count": 11,
   "metadata": {
    "executionInfo": {
     "elapsed": 390,
     "status": "ok",
     "timestamp": 1677484354947,
     "user": {
      "displayName": "Mahesh Anand",
      "userId": "06788086636039591358"
     },
     "user_tz": -330
    },
    "id": "NGkpZBbWNlYD"
   },
   "outputs": [],
   "source": [
    "df_playoff=df1.groupby('Playoffs')\n",
    "df_playoff_0=df_playoff.get_group(0)\n",
    "df_playoff_1=df_playoff.get_group(1)"
   ]
  },
  {
   "cell_type": "code",
   "execution_count": 14,
   "metadata": {
    "colab": {
     "base_uri": "https://localhost:8080/",
     "height": 296
    },
    "executionInfo": {
     "elapsed": 488,
     "status": "ok",
     "timestamp": 1677484560413,
     "user": {
      "displayName": "Mahesh Anand",
      "userId": "06788086636039591358"
     },
     "user_tz": -330
    },
    "id": "uIrC3SsJNEoh",
    "outputId": "c3a5079b-da99-440a-c00b-309dfe45fa09"
   },
   "outputs": [
    {
     "data": {
      "text/plain": [
       "<matplotlib.lines.Line2D at 0x7f757942e6a0>"
      ]
     },
     "execution_count": 14,
     "metadata": {},
     "output_type": "execute_result"
    },
    {
     "data": {
      "image/png": "[encoded data removed]",
      "text/plain": [
       "<Figure size 432x288 with 1 Axes>"
      ]
     },
     "metadata": {
      "needs_background": "light"
     },
     "output_type": "display_data"
    }
   ],
   "source": [
    "# Plotting scatterplotplt.\n",
    "#figure(figsize=(10,8))\n",
    "plt.scatter(x=df_playoff_0.W,y = df_playoff_0.RS,c=\"red\")\n",
    "plt.scatter(x=df_playoff_1.W,y = df_playoff_1.RS,c=\"blue\")\n",
    "plt.xlabel(\"Wins\")\n",
    "plt.ylabel(\"Runs Scored\")\n",
    "plt.axvline(x = 100)"
   ]
  },
  {
   "cell_type": "code",
   "execution_count": 15,
   "metadata": {
    "colab": {
     "base_uri": "https://localhost:8080/",
     "height": 296
    },
    "executionInfo": {
     "elapsed": 1027,
     "status": "ok",
     "timestamp": 1677484709653,
     "user": {
      "displayName": "Mahesh Anand",
      "userId": "06788086636039591358"
     },
     "user_tz": -330
    },
    "id": "9FRzFhy3eN3f",
    "outputId": "7965139c-481d-476b-f240-0e535a4d084e"
   },
   "outputs": [
    {
     "data": {
      "text/plain": [
       "<matplotlib.lines.Line2D at 0x7f7579425fa0>"
      ]
     },
     "execution_count": 15,
     "metadata": {},
     "output_type": "execute_result"
    },
    {
     "data": {
      "image/png": "[encoded data removed]",
      "text/plain": [
       "<Figure size 432x288 with 1 Axes>"
      ]
     },
     "metadata": {
      "needs_background": "light"
     },
     "output_type": "display_data"
    }
   ],
   "source": [
    "# Plotting scatterplotplt.\n",
    "#figure(figsize=(10,8))\n",
    "plt.scatter(x=df_playoff_0.W,y = df_playoff_0.RA,c=\"red\")\n",
    "plt.scatter(x=df_playoff_1.W,y = df_playoff_1.RA,c=\"blue\")\n",
    "plt.xlabel(\"Wins\")\n",
    "plt.ylabel(\"Runs Allowed\")\n",
    "plt.axvline(x = 100)"
   ]
  },
  {
   "cell_type": "markdown",
   "metadata": {
    "id": "P7XuTq6YP3aY"
   },
   "source": [
    "From the above plot we see that DePodesta’s estimate of 99 wins makes sense since there appears to be only 3 observations (red) who haven’t made it to the playoffs with ≥ 99 wins."
   ]
  },
  {
   "cell_type": "markdown",
   "metadata": {
    "id": "wVyaEeClP55X"
   },
   "source": [
    "DePodesta also calculated that the A’s need to score atleast 814 runs and allow only 645 runs in order to make it to the postseason. That meant that the difference between runs scored and runs allowed needed to be approximately 169(RD). Let us look at the relationship between RD and Wins."
   ]
  },
  {
   "cell_type": "code",
   "execution_count": null,
   "metadata": {
    "colab": {
     "base_uri": "https://localhost:8080/",
     "height": 295
    },
    "executionInfo": {
     "elapsed": 511,
     "status": "ok",
     "timestamp": 1626659726804,
     "user": {
      "displayName": "Mahesh Anand",
      "photoUrl": "https://lh3.googleusercontent.com/a-/AOh14GgKd7FxLgzXO0MxUwypCgML3QfaeTdE0nT8cpHwLQ=s64",
      "userId": "06788086636039591358"
     },
     "user_tz": -330
    },
    "id": "2n51K__PMgh4",
    "outputId": "1a3b20d1-c3d6-4837-bac3-44a433ff12c8"
   },
   "outputs": [
    {
     "data": {
      "image/png": "[encoded data removed]",
      "text/plain": [
       "<Figure size 432x288 with 1 Axes>"
      ]
     },
     "metadata": {
      "needs_background": "light",
      "tags": []
     },
     "output_type": "display_data"
    }
   ],
   "source": [
    "#figure(figsize=(10,8))\n",
    "x = np.array(df1.RD)\n",
    "y = np.array(df1.W)# Deriving slope,intercept values\n",
    "slope, intercept = np.polyfit(x, y, 1)\n",
    "abline_values = [slope * i + intercept for i in x]#Plotting the figureplt.figure(figsize=(10,8))\n",
    "plt.scatter(x, y)\n",
    "plt.plot(x, abline_values, 'b')\n",
    "plt.title(\"Slope = %s\" % (slope))\n",
    "plt.xlabel(\"Run Difference\")\n",
    "plt.ylabel(\"Wins\")\n",
    "plt.show()"
   ]
  },
  {
   "cell_type": "code",
   "execution_count": null,
   "metadata": {
    "colab": {
     "base_uri": "https://localhost:8080/",
     "height": 50
    },
    "executionInfo": {
     "elapsed": 1051,
     "status": "ok",
     "timestamp": 1571131873984,
     "user": {
      "displayName": "Mahesh Anand",
      "photoUrl": "https://lh3.googleusercontent.com/a-/AAuE7mDwRqsBffQmzXsc6rHxDVmepWB7mxD_zfhcK5E1=s64",
      "userId": "06788086636039591358"
     },
     "user_tz": -330
    },
    "id": "NZk5F1QOQwBF",
    "outputId": "b297b3ba-8515-4111-a159-3e075024d153"
   },
   "outputs": [
    {
     "name": "stdout",
     "output_type": "stream",
     "text": [
      "[[1.         0.93851498]\n",
      " [0.93851498 1.        ]]\n"
     ]
    }
   ],
   "source": [
    "print(np.corrcoef(x,y))"
   ]
  },
  {
   "cell_type": "code",
   "execution_count": null,
   "metadata": {
    "id": "X52crgXGQ0EL"
   },
   "outputs": [],
   "source": [
    "#https://en.wikipedia.org/wiki/On-base_percentage\n",
    "#Batting Average = Hits/At Bat"
   ]
  },
  {
   "cell_type": "markdown",
   "metadata": {
    "id": "rarihlekSAQG"
   },
   "source": [
    "OBP, SLG and AVG are strong indicators of runs scored by the particular team.\n",
    "Let us validate these assumptions by plotting the relationship between each of these variables with RS(Runs scored)"
   ]
  },
  {
   "cell_type": "code",
   "execution_count": null,
   "metadata": {
    "colab": {
     "base_uri": "https://localhost:8080/",
     "height": 513
    },
    "executionInfo": {
     "elapsed": 856,
     "status": "ok",
     "timestamp": 1626659745674,
     "user": {
      "displayName": "Mahesh Anand",
      "photoUrl": "https://lh3.googleusercontent.com/a-/AOh14GgKd7FxLgzXO0MxUwypCgML3QfaeTdE0nT8cpHwLQ=s64",
      "userId": "06788086636039591358"
     },
     "user_tz": -330
    },
    "id": "hM_euchWSE1C",
    "outputId": "9f48088b-dbd9-44fd-d595-6d13f523ff7b"
   },
   "outputs": [
    {
     "data": {
      "image/png": "[encoded data removed]",
      "text/plain": [
       "<Figure size 720x576 with 1 Axes>"
      ]
     },
     "metadata": {
      "needs_background": "light",
      "tags": []
     },
     "output_type": "display_data"
    }
   ],
   "source": [
    "plt.figure(figsize=(10,8))\n",
    "x = np.array(df1.OBP)\n",
    "y = np.array(df1.RS)# Deriving slope,intercept values\n",
    "slope, intercept = np.polyfit(x, y, 1)\n",
    "abline_values = [slope * i + intercept for i in x]#Plotting the figureplt.figure(figsize=(10,8))\n",
    "plt.scatter(x, y)\n",
    "plt.plot(x, abline_values, 'b')\n",
    "plt.title(\"Slope = %s\" % (slope))\n",
    "plt.xlabel(\"On Base Percentage\")\n",
    "plt.ylabel(\"Runs Scored\")\n",
    "plt.show()"
   ]
  },
  {
   "cell_type": "code",
   "execution_count": null,
   "metadata": {
    "colab": {
     "base_uri": "https://localhost:8080/",
     "height": 513
    },
    "executionInfo": {
     "elapsed": 669,
     "status": "ok",
     "timestamp": 1626659753053,
     "user": {
      "displayName": "Mahesh Anand",
      "photoUrl": "https://lh3.googleusercontent.com/a-/AOh14GgKd7FxLgzXO0MxUwypCgML3QfaeTdE0nT8cpHwLQ=s64",
      "userId": "06788086636039591358"
     },
     "user_tz": -330
    },
    "id": "v35umEomRppj",
    "outputId": "bc4b7e19-b8e1-488e-980e-c2e385d19a3e"
   },
   "outputs": [
    {
     "data": {
      "image/png": "[encoded data removed]",
      "text/plain": [
       "<Figure size 720x576 with 1 Axes>"
      ]
     },
     "metadata": {
      "needs_background": "light",
      "tags": []
     },
     "output_type": "display_data"
    }
   ],
   "source": [
    "plt.figure(figsize=(10,8))\n",
    "x = np.array(df1.SLG)\n",
    "y = np.array(df1.RS)# Deriving slope,intercept values\n",
    "slope, intercept = np.polyfit(x, y, 1)\n",
    "abline_values = [slope * i + intercept for i in x]#Plotting the figureplt.figure(figsize=(10,8))\n",
    "plt.scatter(x, y)\n",
    "plt.plot(x, abline_values, 'b')\n",
    "plt.title(\"Slope = %s\" % (slope))\n",
    "plt.xlabel(\"Slugging Percentage\")\n",
    "plt.ylabel(\"Runs Scored\")\n",
    "plt.show()"
   ]
  },
  {
   "cell_type": "code",
   "execution_count": null,
   "metadata": {
    "colab": {
     "base_uri": "https://localhost:8080/",
     "height": 513
    },
    "executionInfo": {
     "elapsed": 588,
     "status": "ok",
     "timestamp": 1626659759224,
     "user": {
      "displayName": "Mahesh Anand",
      "photoUrl": "https://lh3.googleusercontent.com/a-/AOh14GgKd7FxLgzXO0MxUwypCgML3QfaeTdE0nT8cpHwLQ=s64",
      "userId": "06788086636039591358"
     },
     "user_tz": -330
    },
    "id": "nomGlVioSupl",
    "outputId": "18d52e0a-c883-4312-998c-b5ec785ae749"
   },
   "outputs": [
    {
     "data": {
      "image/png": "[encoded data removed]",
      "text/plain": [
       "<Figure size 720x576 with 1 Axes>"
      ]
     },
     "metadata": {
      "needs_background": "light",
      "tags": []
     },
     "output_type": "display_data"
    }
   ],
   "source": [
    "plt.figure(figsize=(10,8))\n",
    "x = np.array(df1.BA)\n",
    "y = np.array(df1.RS)# Deriving slope,intercept values\n",
    "slope, intercept = np.polyfit(x, y, 1)\n",
    "abline_values = [slope * i + intercept for i in x]#Plotting the figureplt.figure(figsize=(10,8))\n",
    "plt.scatter(x, y)\n",
    "plt.plot(x, abline_values, 'b')\n",
    "plt.title(\"Slope = %s\" % (slope))\n",
    "plt.xlabel(\"Batting Average\")\n",
    "plt.ylabel(\"Runs Scored\")\n",
    "plt.show()"
   ]
  },
  {
   "cell_type": "code",
   "execution_count": null,
   "metadata": {
    "colab": {
     "base_uri": "https://localhost:8080/",
     "height": 53
    },
    "executionInfo": {
     "elapsed": 1135,
     "status": "ok",
     "timestamp": 1571073869986,
     "user": {
      "displayName": "Mahesh Anand",
      "photoUrl": "https://lh3.googleusercontent.com/a-/AAuE7mDwRqsBffQmzXsc6rHxDVmepWB7mxD_zfhcK5E1=s64",
      "userId": "06788086636039591358"
     },
     "user_tz": -330
    },
    "id": "JuGkDtjoTIpn",
    "outputId": "1b48b672-d8ad-422a-ad31-ffc5200e67ae"
   },
   "outputs": [
    {
     "name": "stdout",
     "output_type": "stream",
     "text": [
      "[[1.         0.90490915]\n",
      " [0.90490915 1.        ]]\n"
     ]
    }
   ],
   "source": [
    "print(np.corrcoef(df1.OBP,df1.RS))"
   ]
  },
  {
   "cell_type": "code",
   "execution_count": null,
   "metadata": {
    "colab": {
     "base_uri": "https://localhost:8080/",
     "height": 53
    },
    "executionInfo": {
     "elapsed": 1143,
     "status": "ok",
     "timestamp": 1571073893923,
     "user": {
      "displayName": "Mahesh Anand",
      "photoUrl": "https://lh3.googleusercontent.com/a-/AAuE7mDwRqsBffQmzXsc6rHxDVmepWB7mxD_zfhcK5E1=s64",
      "userId": "06788086636039591358"
     },
     "user_tz": -330
    },
    "id": "TFuj9OJQTNG8",
    "outputId": "b37b21bd-aa41-48db-a1a5-a41c29fc2c85"
   },
   "outputs": [
    {
     "name": "stdout",
     "output_type": "stream",
     "text": [
      "[[1.         0.92638433]\n",
      " [0.92638433 1.        ]]\n"
     ]
    }
   ],
   "source": [
    "print(np.corrcoef(df1.SLG,df1.RS))"
   ]
  },
  {
   "cell_type": "code",
   "execution_count": null,
   "metadata": {
    "colab": {
     "base_uri": "https://localhost:8080/",
     "height": 53
    },
    "executionInfo": {
     "elapsed": 1316,
     "status": "ok",
     "timestamp": 1571073904751,
     "user": {
      "displayName": "Mahesh Anand",
      "photoUrl": "https://lh3.googleusercontent.com/a-/AAuE7mDwRqsBffQmzXsc6rHxDVmepWB7mxD_zfhcK5E1=s64",
      "userId": "06788086636039591358"
     },
     "user_tz": -330
    },
    "id": "czB03lpSTTCd",
    "outputId": "862bbb51-f37b-4b97-ea81-65d7c6176b83"
   },
   "outputs": [
    {
     "name": "stdout",
     "output_type": "stream",
     "text": [
      "[[1.         0.83162475]\n",
      " [0.83162475 1.        ]]\n"
     ]
    }
   ],
   "source": [
    "print(np.corrcoef(df1.BA,df1.RS))"
   ]
  },
  {
   "cell_type": "markdown",
   "metadata": {
    "id": "P6pTqEg4TgEq"
   },
   "source": [
    "Similarly, we can hypothesise that OOBP(Opponent’s OBP) and OSLG(Opponent’s SLG) have a similar relationship with RA(Runs allowed)."
   ]
  },
  {
   "cell_type": "markdown",
   "metadata": {
    "id": "c5W2c047Wd7E"
   },
   "source": [
    "DATA CLEANING: There are a few missing values in the OOBP and OSLG columns. We have to remove these rows of observations in order to plot a proper relationship"
   ]
  },
  {
   "cell_type": "code",
   "execution_count": 16,
   "metadata": {
    "colab": {
     "base_uri": "https://localhost:8080/"
    },
    "executionInfo": {
     "elapsed": 476,
     "status": "ok",
     "timestamp": 1677485069676,
     "user": {
      "displayName": "Mahesh Anand",
      "userId": "06788086636039591358"
     },
     "user_tz": -330
    },
    "id": "RNsi9gsitHc-",
    "outputId": "85cbdd11-c4b4-4936-ed3b-d0048f35ab77"
   },
   "outputs": [
    {
     "data": {
      "text/plain": [
       "(902, 16)"
      ]
     },
     "execution_count": 16,
     "metadata": {},
     "output_type": "execute_result"
    }
   ],
   "source": [
    "df1.shape"
   ]
  },
  {
   "cell_type": "code",
   "execution_count": null,
   "metadata": {
    "colab": {
     "base_uri": "https://localhost:8080/",
     "height": 140
    },
    "executionInfo": {
     "elapsed": 971,
     "status": "ok",
     "timestamp": 1581332810450,
     "user": {
      "displayName": "Mahesh Anand",
      "photoUrl": "https://lh3.googleusercontent.com/a-/AAuE7mDwRqsBffQmzXsc6rHxDVmepWB7mxD_zfhcK5E1=s64",
      "userId": "06788086636039591358"
     },
     "user_tz": -330
    },
    "id": "aRI-V64b6WJw",
    "outputId": "e1a81cfa-3e17-46e3-b4cd-e56036a960fa"
   },
   "outputs": [
    {
     "name": "stderr",
     "output_type": "stream",
     "text": [
      "/usr/local/lib/python3.6/dist-packages/ipykernel_launcher.py:2: SettingWithCopyWarning: \n",
      "A value is trying to be set on a copy of a slice from a DataFrame.\n",
      "Try using .loc[row_indexer,col_indexer] = value instead\n",
      "\n",
      "See the caveats in the documentation: http://pandas.pydata.org/pandas-docs/stable/user_guide/indexing.html#returning-a-view-versus-a-copy\n",
      "  \n"
     ]
    }
   ],
   "source": [
    "#random sampling imputation\n",
    "#for col in df1.columns:\n",
    "  #df1[col]=df1[col].fillna(df1[col].dropna().sample(random_state=0).iloc[0])"
   ]
  },
  {
   "cell_type": "code",
   "execution_count": null,
   "metadata": {
    "colab": {
     "base_uri": "https://localhost:8080/",
     "height": 34
    },
    "executionInfo": {
     "elapsed": 1023,
     "status": "ok",
     "timestamp": 1601879696089,
     "user": {
      "displayName": "Mahesh Anand",
      "photoUrl": "https://lh3.googleusercontent.com/a-/AOh14GiAxRvO4nLPhI4SJLaIoUVmhr8lm1tddyCLyKOj=s64",
      "userId": "06788086636039591358"
     },
     "user_tz": -330
    },
    "id": "524nejUoBjO5",
    "outputId": "ab13e113-d734-4158-b103-698d7e05c2c0"
   },
   "outputs": [
    {
     "data": {
      "text/plain": [
       "0.4325"
      ]
     },
     "execution_count": 20,
     "metadata": {
      "tags": []
     },
     "output_type": "execute_result"
    }
   ],
   "source": [
    "df1['OOBP'].median()\n",
    "df1['OSLG'].median()"
   ]
  },
  {
   "cell_type": "code",
   "execution_count": null,
   "metadata": {
    "colab": {
     "base_uri": "https://localhost:8080/"
    },
    "executionInfo": {
     "elapsed": 472,
     "status": "ok",
     "timestamp": 1668248177343,
     "user": {
      "displayName": "Mahesh Anand",
      "userId": "06788086636039591358"
     },
     "user_tz": -330
    },
    "id": "L414mZ6VBuFW",
    "outputId": "9b1e0726-328a-4444-dd1b-a7941871aaac"
   },
   "outputs": [
    {
     "name": "stdout",
     "output_type": "stream",
     "text": [
      "<class 'pandas.core.frame.DataFrame'>\n",
      "Int64Index: 902 entries, 330 to 1231\n",
      "Data columns (total 10 columns):\n",
      " #   Column  Non-Null Count  Dtype  \n",
      "---  ------  --------------  -----  \n",
      " 0   RS      902 non-null    int64  \n",
      " 1   RA      902 non-null    int64  \n",
      " 2   W       902 non-null    int64  \n",
      " 3   OBP     902 non-null    float64\n",
      " 4   SLG     902 non-null    float64\n",
      " 5   BA      902 non-null    float64\n",
      " 6   G       902 non-null    int64  \n",
      " 7   OOBP    902 non-null    float64\n",
      " 8   OSLG    902 non-null    float64\n",
      " 9   RD      902 non-null    int64  \n",
      "dtypes: float64(5), int64(5)\n",
      "memory usage: 77.5 KB\n"
     ]
    }
   ],
   "source": [
    "df_new.info()"
   ]
  },
  {
   "cell_type": "code",
   "execution_count": null,
   "metadata": {
    "id": "VwHRxZMGAe_I"
   },
   "outputs": [],
   "source": [
    "#Median Imputation\n",
    "df_new['OOBP'].fillna(value=df_new['OOBP'].median(),inplace=True)\n",
    "df_new['OSLG'].fillna(value=df_new['OSLG'].median(),inplace=True)"
   ]
  },
  {
   "cell_type": "code",
   "execution_count": null,
   "metadata": {
    "id": "66EhcpHNeJvc"
   },
   "outputs": [],
   "source": [
    "from sklearn.impute import KNNImputer\n",
    "Imp=KNNImputer(n_neighbors=4)\n",
    "df_final=Imp.fit_transform(df_new)"
   ]
  },
  {
   "cell_type": "code",
   "execution_count": null,
   "metadata": {
    "colab": {
     "base_uri": "https://localhost:8080/"
    },
    "executionInfo": {
     "elapsed": 369,
     "status": "ok",
     "timestamp": 1668249170527,
     "user": {
      "displayName": "Mahesh Anand",
      "userId": "06788086636039591358"
     },
     "user_tz": -330
    },
    "id": "Rx0zGnAhkIYH",
    "outputId": "4e771387-8925-4c9d-9e0b-12cf6aec8808"
   },
   "outputs": [
    {
     "data": {
      "text/plain": [
       "(902, 10)"
      ]
     },
     "execution_count": 45,
     "metadata": {},
     "output_type": "execute_result"
    }
   ],
   "source": [
    "df_final.shape"
   ]
  },
  {
   "cell_type": "code",
   "execution_count": null,
   "metadata": {
    "colab": {
     "base_uri": "https://localhost:8080/",
     "height": 206
    },
    "executionInfo": {
     "elapsed": 377,
     "status": "ok",
     "timestamp": 1668249195915,
     "user": {
      "displayName": "Mahesh Anand",
      "userId": "06788086636039591358"
     },
     "user_tz": -330
    },
    "id": "kW8jylCdkaks",
    "outputId": "ca96d843-d4a6-4778-a719-a96be5033d54"
   },
   "outputs": [
    {
     "data": {
      "text/html": [
       "\n",
       "  <div id=\"df-4386f02d-d268-44af-a601-ae21522583b9\">\n",
       "    <div class=\"colab-df-container\">\n",
       "      <div>\n",
       "<style scoped>\n",
       "    .dataframe tbody tr th:only-of-type {\n",
       "        vertical-align: middle;\n",
       "    }\n",
       "\n",
       "    .dataframe tbody tr th {\n",
       "        vertical-align: top;\n",
       "    }\n",
       "\n",
       "    .dataframe thead th {\n",
       "        text-align: right;\n",
       "    }\n",
       "</style>\n",
       "<table border=\"1\" class=\"dataframe\">\n",
       "  <thead>\n",
       "    <tr style=\"text-align: right;\">\n",
       "      <th></th>\n",
       "      <th>0</th>\n",
       "      <th>1</th>\n",
       "      <th>2</th>\n",
       "      <th>3</th>\n",
       "      <th>4</th>\n",
       "      <th>5</th>\n",
       "      <th>6</th>\n",
       "      <th>7</th>\n",
       "      <th>8</th>\n",
       "      <th>9</th>\n",
       "    </tr>\n",
       "  </thead>\n",
       "  <tbody>\n",
       "    <tr>\n",
       "      <th>0</th>\n",
       "      <td>691.0</td>\n",
       "      <td>730.0</td>\n",
       "      <td>75.0</td>\n",
       "      <td>0.327</td>\n",
       "      <td>0.405</td>\n",
       "      <td>0.261</td>\n",
       "      <td>162.0</td>\n",
       "      <td>0.331</td>\n",
       "      <td>0.412</td>\n",
       "      <td>-39.0</td>\n",
       "    </tr>\n",
       "    <tr>\n",
       "      <th>1</th>\n",
       "      <td>818.0</td>\n",
       "      <td>677.0</td>\n",
       "      <td>92.0</td>\n",
       "      <td>0.341</td>\n",
       "      <td>0.442</td>\n",
       "      <td>0.267</td>\n",
       "      <td>162.0</td>\n",
       "      <td>0.311</td>\n",
       "      <td>0.404</td>\n",
       "      <td>141.0</td>\n",
       "    </tr>\n",
       "    <tr>\n",
       "      <th>2</th>\n",
       "      <td>729.0</td>\n",
       "      <td>643.0</td>\n",
       "      <td>88.0</td>\n",
       "      <td>0.324</td>\n",
       "      <td>0.412</td>\n",
       "      <td>0.260</td>\n",
       "      <td>162.0</td>\n",
       "      <td>0.314</td>\n",
       "      <td>0.384</td>\n",
       "      <td>86.0</td>\n",
       "    </tr>\n",
       "    <tr>\n",
       "      <th>3</th>\n",
       "      <td>687.0</td>\n",
       "      <td>829.0</td>\n",
       "      <td>63.0</td>\n",
       "      <td>0.319</td>\n",
       "      <td>0.380</td>\n",
       "      <td>0.248</td>\n",
       "      <td>162.0</td>\n",
       "      <td>0.337</td>\n",
       "      <td>0.439</td>\n",
       "      <td>-142.0</td>\n",
       "    </tr>\n",
       "    <tr>\n",
       "      <th>4</th>\n",
       "      <td>772.0</td>\n",
       "      <td>745.0</td>\n",
       "      <td>82.0</td>\n",
       "      <td>0.334</td>\n",
       "      <td>0.439</td>\n",
       "      <td>0.266</td>\n",
       "      <td>161.0</td>\n",
       "      <td>0.329</td>\n",
       "      <td>0.393</td>\n",
       "      <td>27.0</td>\n",
       "    </tr>\n",
       "  </tbody>\n",
       "</table>\n",
       "</div>\n",
       "      <button class=\"colab-df-convert\" onclick=\"convertToInteractive('df-4386f02d-d268-44af-a601-ae21522583b9')\"\n",
       "              title=\"Convert this dataframe to an interactive table.\"\n",
       "              style=\"display:none;\">\n",
       "        \n",
       "  <svg xmlns=\"http://www.w3.org/2000/svg\" height=\"24px\"viewBox=\"0 0 24 24\"\n",
       "       width=\"24px\">\n",
       "    <path d=\"M0 0h24v24H0V0z\" fill=\"none\"/>\n",
       "    <path d=\"M18.56 5.44l.94 2.06.94-2.06 2.06-.94-2.06-.94-.94-2.06-.94 2.06-2.06.94zm-11 1L8.5 8.5l.94-2.06 2.06-.94-2.06-.94L8.5 2.5l-.94 2.06-2.06.94zm10 10l.94 2.06.94-2.06 2.06-.94-2.06-.94-.94-2.06-.94 2.06-2.06.94z\"/><path d=\"M17.41 7.96l-1.37-1.37c-.4-.4-.92-.59-1.43-.59-.52 0-1.04.2-1.43.59L10.3 9.45l-7.72 7.72c-.78.78-.78 2.05 0 2.83L4 21.41c.39.39.9.59 1.41.59.51 0 1.02-.2 1.41-.59l7.78-7.78 2.81-2.81c.8-.78.8-2.07 0-2.86zM5.41 20L4 18.59l7.72-7.72 1.47 1.35L5.41 20z\"/>\n",
       "  </svg>\n",
       "      </button>\n",
       "      \n",
       "  <style>\n",
       "    .colab-df-container {\n",
       "      display:flex;\n",
       "      flex-wrap:wrap;\n",
       "      gap: 12px;\n",
       "    }\n",
       "\n",
       "    .colab-df-convert {\n",
       "      background-color: #E8F0FE;\n",
       "      border: none;\n",
       "      border-radius: 50%;\n",
       "      cursor: pointer;\n",
       "      display: none;\n",
       "      fill: #1967D2;\n",
       "      height: 32px;\n",
       "      padding: 0 0 0 0;\n",
       "      width: 32px;\n",
       "    }\n",
       "\n",
       "    .colab-df-convert:hover {\n",
       "      background-color: #E2EBFA;\n",
       "      box-shadow: 0px 1px 2px rgba(60, 64, 67, 0.3), 0px 1px 3px 1px rgba(60, 64, 67, 0.15);\n",
       "      fill: #174EA6;\n",
       "    }\n",
       "\n",
       "    [theme=dark] .colab-df-convert {\n",
       "      background-color: #3B4455;\n",
       "      fill: #D2E3FC;\n",
       "    }\n",
       "\n",
       "    [theme=dark] .colab-df-convert:hover {\n",
       "      background-color: #434B5C;\n",
       "      box-shadow: 0px 1px 3px 1px rgba(0, 0, 0, 0.15);\n",
       "      filter: drop-shadow(0px 1px 2px rgba(0, 0, 0, 0.3));\n",
       "      fill: #FFFFFF;\n",
       "    }\n",
       "  </style>\n",
       "\n",
       "      <script>\n",
       "        const buttonEl =\n",
       "          document.querySelector('#df-4386f02d-d268-44af-a601-ae21522583b9 button.colab-df-convert');\n",
       "        buttonEl.style.display =\n",
       "          google.colab.kernel.accessAllowed ? 'block' : 'none';\n",
       "\n",
       "        async function convertToInteractive(key) {\n",
       "          const element = document.querySelector('#df-4386f02d-d268-44af-a601-ae21522583b9');\n",
       "          const dataTable =\n",
       "            await google.colab.kernel.invokeFunction('convertToInteractive',\n",
       "                                                     [key], {});\n",
       "          if (!dataTable) return;\n",
       "\n",
       "          const docLinkHtml = 'Like what you see? Visit the ' +\n",
       "            '<a target=\"_blank\" href=https://colab.research.google.com/notebooks/data_table.ipynb>data table notebook</a>'\n",
       "            + ' to learn more about interactive tables.';\n",
       "          element.innerHTML = '';\n",
       "          dataTable['output_type'] = 'display_data';\n",
       "          await google.colab.output.renderOutput(dataTable, element);\n",
       "          const docLink = document.createElement('div');\n",
       "          docLink.innerHTML = docLinkHtml;\n",
       "          element.appendChild(docLink);\n",
       "        }\n",
       "      </script>\n",
       "    </div>\n",
       "  </div>\n",
       "  "
      ],
      "text/plain": [
       "       0      1     2      3      4      5      6      7      8      9\n",
       "0  691.0  730.0  75.0  0.327  0.405  0.261  162.0  0.331  0.412  -39.0\n",
       "1  818.0  677.0  92.0  0.341  0.442  0.267  162.0  0.311  0.404  141.0\n",
       "2  729.0  643.0  88.0  0.324  0.412  0.260  162.0  0.314  0.384   86.0\n",
       "3  687.0  829.0  63.0  0.319  0.380  0.248  162.0  0.337  0.439 -142.0\n",
       "4  772.0  745.0  82.0  0.334  0.439  0.266  161.0  0.329  0.393   27.0"
      ]
     },
     "execution_count": 47,
     "metadata": {},
     "output_type": "execute_result"
    }
   ],
   "source": [
    "df_final=pd.DataFrame(df_final)\n",
    "df_final.head()"
   ]
  },
  {
   "cell_type": "code",
   "execution_count": null,
   "metadata": {
    "colab": {
     "base_uri": "https://localhost:8080/"
    },
    "executionInfo": {
     "elapsed": 380,
     "status": "ok",
     "timestamp": 1668249200426,
     "user": {
      "displayName": "Mahesh Anand",
      "userId": "06788086636039591358"
     },
     "user_tz": -330
    },
    "id": "5fZ9uIYUujhA",
    "outputId": "b0a93d19-06d5-44b9-a071-b02d8bda12c4"
   },
   "outputs": [
    {
     "name": "stdout",
     "output_type": "stream",
     "text": [
      "<class 'pandas.core.frame.DataFrame'>\n",
      "RangeIndex: 902 entries, 0 to 901\n",
      "Data columns (total 10 columns):\n",
      " #   Column  Non-Null Count  Dtype  \n",
      "---  ------  --------------  -----  \n",
      " 0   0       902 non-null    float64\n",
      " 1   1       902 non-null    float64\n",
      " 2   2       902 non-null    float64\n",
      " 3   3       902 non-null    float64\n",
      " 4   4       902 non-null    float64\n",
      " 5   5       902 non-null    float64\n",
      " 6   6       902 non-null    float64\n",
      " 7   7       902 non-null    float64\n",
      " 8   8       902 non-null    float64\n",
      " 9   9       902 non-null    float64\n",
      "dtypes: float64(10)\n",
      "memory usage: 70.6 KB\n"
     ]
    }
   ],
   "source": [
    "df_final.info()"
   ]
  },
  {
   "cell_type": "code",
   "execution_count": null,
   "metadata": {
    "colab": {
     "base_uri": "https://localhost:8080/",
     "height": 206
    },
    "executionInfo": {
     "elapsed": 366,
     "status": "ok",
     "timestamp": 1668249545821,
     "user": {
      "displayName": "Mahesh Anand",
      "userId": "06788086636039591358"
     },
     "user_tz": -330
    },
    "id": "4z6gCPHkklwR",
    "outputId": "153ed7ae-fcf7-4e8f-bbb9-9610a9c12a80"
   },
   "outputs": [
    {
     "data": {
      "text/html": [
       "\n",
       "  <div id=\"df-6d4c9174-7752-4cc3-9df1-0fb0f9db4533\">\n",
       "    <div class=\"colab-df-container\">\n",
       "      <div>\n",
       "<style scoped>\n",
       "    .dataframe tbody tr th:only-of-type {\n",
       "        vertical-align: middle;\n",
       "    }\n",
       "\n",
       "    .dataframe tbody tr th {\n",
       "        vertical-align: top;\n",
       "    }\n",
       "\n",
       "    .dataframe thead th {\n",
       "        text-align: right;\n",
       "    }\n",
       "</style>\n",
       "<table border=\"1\" class=\"dataframe\">\n",
       "  <thead>\n",
       "    <tr style=\"text-align: right;\">\n",
       "      <th></th>\n",
       "      <th>RS</th>\n",
       "      <th>RA</th>\n",
       "      <th>W</th>\n",
       "      <th>OBP</th>\n",
       "      <th>SLG</th>\n",
       "      <th>BA</th>\n",
       "      <th>G</th>\n",
       "      <th>OOBP</th>\n",
       "      <th>OSLG</th>\n",
       "      <th>RD</th>\n",
       "    </tr>\n",
       "  </thead>\n",
       "  <tbody>\n",
       "    <tr>\n",
       "      <th>0</th>\n",
       "      <td>691.0</td>\n",
       "      <td>730.0</td>\n",
       "      <td>75.0</td>\n",
       "      <td>0.327</td>\n",
       "      <td>0.405</td>\n",
       "      <td>0.261</td>\n",
       "      <td>162.0</td>\n",
       "      <td>0.331</td>\n",
       "      <td>0.412</td>\n",
       "      <td>-39.0</td>\n",
       "    </tr>\n",
       "    <tr>\n",
       "      <th>1</th>\n",
       "      <td>818.0</td>\n",
       "      <td>677.0</td>\n",
       "      <td>92.0</td>\n",
       "      <td>0.341</td>\n",
       "      <td>0.442</td>\n",
       "      <td>0.267</td>\n",
       "      <td>162.0</td>\n",
       "      <td>0.311</td>\n",
       "      <td>0.404</td>\n",
       "      <td>141.0</td>\n",
       "    </tr>\n",
       "    <tr>\n",
       "      <th>2</th>\n",
       "      <td>729.0</td>\n",
       "      <td>643.0</td>\n",
       "      <td>88.0</td>\n",
       "      <td>0.324</td>\n",
       "      <td>0.412</td>\n",
       "      <td>0.260</td>\n",
       "      <td>162.0</td>\n",
       "      <td>0.314</td>\n",
       "      <td>0.384</td>\n",
       "      <td>86.0</td>\n",
       "    </tr>\n",
       "    <tr>\n",
       "      <th>3</th>\n",
       "      <td>687.0</td>\n",
       "      <td>829.0</td>\n",
       "      <td>63.0</td>\n",
       "      <td>0.319</td>\n",
       "      <td>0.380</td>\n",
       "      <td>0.248</td>\n",
       "      <td>162.0</td>\n",
       "      <td>0.337</td>\n",
       "      <td>0.439</td>\n",
       "      <td>-142.0</td>\n",
       "    </tr>\n",
       "    <tr>\n",
       "      <th>4</th>\n",
       "      <td>772.0</td>\n",
       "      <td>745.0</td>\n",
       "      <td>82.0</td>\n",
       "      <td>0.334</td>\n",
       "      <td>0.439</td>\n",
       "      <td>0.266</td>\n",
       "      <td>161.0</td>\n",
       "      <td>0.329</td>\n",
       "      <td>0.393</td>\n",
       "      <td>27.0</td>\n",
       "    </tr>\n",
       "  </tbody>\n",
       "</table>\n",
       "</div>\n",
       "      <button class=\"colab-df-convert\" onclick=\"convertToInteractive('df-6d4c9174-7752-4cc3-9df1-0fb0f9db4533')\"\n",
       "              title=\"Convert this dataframe to an interactive table.\"\n",
       "              style=\"display:none;\">\n",
       "        \n",
       "  <svg xmlns=\"http://www.w3.org/2000/svg\" height=\"24px\"viewBox=\"0 0 24 24\"\n",
       "       width=\"24px\">\n",
       "    <path d=\"M0 0h24v24H0V0z\" fill=\"none\"/>\n",
       "    <path d=\"M18.56 5.44l.94 2.06.94-2.06 2.06-.94-2.06-.94-.94-2.06-.94 2.06-2.06.94zm-11 1L8.5 8.5l.94-2.06 2.06-.94-2.06-.94L8.5 2.5l-.94 2.06-2.06.94zm10 10l.94 2.06.94-2.06 2.06-.94-2.06-.94-.94-2.06-.94 2.06-2.06.94z\"/><path d=\"M17.41 7.96l-1.37-1.37c-.4-.4-.92-.59-1.43-.59-.52 0-1.04.2-1.43.59L10.3 9.45l-7.72 7.72c-.78.78-.78 2.05 0 2.83L4 21.41c.39.39.9.59 1.41.59.51 0 1.02-.2 1.41-.59l7.78-7.78 2.81-2.81c.8-.78.8-2.07 0-2.86zM5.41 20L4 18.59l7.72-7.72 1.47 1.35L5.41 20z\"/>\n",
       "  </svg>\n",
       "      </button>\n",
       "      \n",
       "  <style>\n",
       "    .colab-df-container {\n",
       "      display:flex;\n",
       "      flex-wrap:wrap;\n",
       "      gap: 12px;\n",
       "    }\n",
       "\n",
       "    .colab-df-convert {\n",
       "      background-color: #E8F0FE;\n",
       "      border: none;\n",
       "      border-radius: 50%;\n",
       "      cursor: pointer;\n",
       "      display: none;\n",
       "      fill: #1967D2;\n",
       "      height: 32px;\n",
       "      padding: 0 0 0 0;\n",
       "      width: 32px;\n",
       "    }\n",
       "\n",
       "    .colab-df-convert:hover {\n",
       "      background-color: #E2EBFA;\n",
       "      box-shadow: 0px 1px 2px rgba(60, 64, 67, 0.3), 0px 1px 3px 1px rgba(60, 64, 67, 0.15);\n",
       "      fill: #174EA6;\n",
       "    }\n",
       "\n",
       "    [theme=dark] .colab-df-convert {\n",
       "      background-color: #3B4455;\n",
       "      fill: #D2E3FC;\n",
       "    }\n",
       "\n",
       "    [theme=dark] .colab-df-convert:hover {\n",
       "      background-color: #434B5C;\n",
       "      box-shadow: 0px 1px 3px 1px rgba(0, 0, 0, 0.15);\n",
       "      filter: drop-shadow(0px 1px 2px rgba(0, 0, 0, 0.3));\n",
       "      fill: #FFFFFF;\n",
       "    }\n",
       "  </style>\n",
       "\n",
       "      <script>\n",
       "        const buttonEl =\n",
       "          document.querySelector('#df-6d4c9174-7752-4cc3-9df1-0fb0f9db4533 button.colab-df-convert');\n",
       "        buttonEl.style.display =\n",
       "          google.colab.kernel.accessAllowed ? 'block' : 'none';\n",
       "\n",
       "        async function convertToInteractive(key) {\n",
       "          const element = document.querySelector('#df-6d4c9174-7752-4cc3-9df1-0fb0f9db4533');\n",
       "          const dataTable =\n",
       "            await google.colab.kernel.invokeFunction('convertToInteractive',\n",
       "                                                     [key], {});\n",
       "          if (!dataTable) return;\n",
       "\n",
       "          const docLinkHtml = 'Like what you see? Visit the ' +\n",
       "            '<a target=\"_blank\" href=https://colab.research.google.com/notebooks/data_table.ipynb>data table notebook</a>'\n",
       "            + ' to learn more about interactive tables.';\n",
       "          element.innerHTML = '';\n",
       "          dataTable['output_type'] = 'display_data';\n",
       "          await google.colab.output.renderOutput(dataTable, element);\n",
       "          const docLink = document.createElement('div');\n",
       "          docLink.innerHTML = docLinkHtml;\n",
       "          element.appendChild(docLink);\n",
       "        }\n",
       "      </script>\n",
       "    </div>\n",
       "  </div>\n",
       "  "
      ],
      "text/plain": [
       "      RS     RA     W    OBP    SLG     BA      G   OOBP   OSLG     RD\n",
       "0  691.0  730.0  75.0  0.327  0.405  0.261  162.0  0.331  0.412  -39.0\n",
       "1  818.0  677.0  92.0  0.341  0.442  0.267  162.0  0.311  0.404  141.0\n",
       "2  729.0  643.0  88.0  0.324  0.412  0.260  162.0  0.314  0.384   86.0\n",
       "3  687.0  829.0  63.0  0.319  0.380  0.248  162.0  0.337  0.439 -142.0\n",
       "4  772.0  745.0  82.0  0.334  0.439  0.266  161.0  0.329  0.393   27.0"
      ]
     },
     "execution_count": 52,
     "metadata": {},
     "output_type": "execute_result"
    }
   ],
   "source": [
    "df_final.columns=df_new.columns\n",
    "df_final.head()"
   ]
  },
  {
   "cell_type": "code",
   "execution_count": 44,
   "metadata": {
    "executionInfo": {
     "elapsed": 2,
     "status": "ok",
     "timestamp": 1677485687494,
     "user": {
      "displayName": "Mahesh Anand",
      "userId": "06788086636039591358"
     },
     "user_tz": -330
    },
    "id": "ibL3BbTVylxL"
   },
   "outputs": [],
   "source": [
    "df2=df_new.dropna()"
   ]
  },
  {
   "cell_type": "code",
   "execution_count": 45,
   "metadata": {
    "colab": {
     "base_uri": "https://localhost:8080/"
    },
    "executionInfo": {
     "elapsed": 5,
     "status": "ok",
     "timestamp": 1677485688588,
     "user": {
      "displayName": "Mahesh Anand",
      "userId": "06788086636039591358"
     },
     "user_tz": -330
    },
    "id": "gOHXXKlwhNFm",
    "outputId": "2bf03c4d-e4d9-460e-dfd9-1b3801b28722"
   },
   "outputs": [
    {
     "data": {
      "text/plain": [
       "(90, 10)"
      ]
     },
     "execution_count": 45,
     "metadata": {},
     "output_type": "execute_result"
    }
   ],
   "source": [
    "df2.shape"
   ]
  },
  {
   "cell_type": "code",
   "execution_count": 46,
   "metadata": {
    "colab": {
     "base_uri": "https://localhost:8080/"
    },
    "executionInfo": {
     "elapsed": 3,
     "status": "ok",
     "timestamp": 1677485692754,
     "user": {
      "displayName": "Mahesh Anand",
      "userId": "06788086636039591358"
     },
     "user_tz": -330
    },
    "id": "y7wl4vg-Tv9j",
    "outputId": "7025716e-fc7d-44bc-863f-3fa7eec96124"
   },
   "outputs": [
    {
     "name": "stdout",
     "output_type": "stream",
     "text": [
      "<class 'pandas.core.frame.DataFrame'>\n",
      "Int64Index: 90 entries, 330 to 419\n",
      "Data columns (total 10 columns):\n",
      " #   Column  Non-Null Count  Dtype  \n",
      "---  ------  --------------  -----  \n",
      " 0   RS      90 non-null     int64  \n",
      " 1   RA      90 non-null     int64  \n",
      " 2   W       90 non-null     int64  \n",
      " 3   OBP     90 non-null     float64\n",
      " 4   SLG     90 non-null     float64\n",
      " 5   BA      90 non-null     float64\n",
      " 6   G       90 non-null     int64  \n",
      " 7   OOBP    90 non-null     float64\n",
      " 8   OSLG    90 non-null     float64\n",
      " 9   RD      90 non-null     int64  \n",
      "dtypes: float64(5), int64(5)\n",
      "memory usage: 7.7 KB\n"
     ]
    }
   ],
   "source": [
    "df2.info()"
   ]
  },
  {
   "cell_type": "code",
   "execution_count": null,
   "metadata": {
    "colab": {
     "base_uri": "https://localhost:8080/"
    },
    "executionInfo": {
     "elapsed": 643,
     "status": "ok",
     "timestamp": 1671450022306,
     "user": {
      "displayName": "Mahesh Anand",
      "userId": "06788086636039591358"
     },
     "user_tz": -330
    },
    "id": "InbV1ejMh6r0",
    "outputId": "5ec45d88-f733-4570-8574-ce4f7a8d6744"
   },
   "outputs": [
    {
     "name": "stdout",
     "output_type": "stream",
     "text": [
      "<class 'pandas.core.frame.DataFrame'>\n",
      "Int64Index: 902 entries, 330 to 1231\n",
      "Data columns (total 10 columns):\n",
      " #   Column  Non-Null Count  Dtype  \n",
      "---  ------  --------------  -----  \n",
      " 0   RS      902 non-null    int64  \n",
      " 1   RA      902 non-null    int64  \n",
      " 2   W       902 non-null    int64  \n",
      " 3   OBP     902 non-null    float64\n",
      " 4   SLG     902 non-null    float64\n",
      " 5   BA      902 non-null    float64\n",
      " 6   G       902 non-null    int64  \n",
      " 7   OOBP    902 non-null    float64\n",
      " 8   OSLG    902 non-null    float64\n",
      " 9   RD      902 non-null    int64  \n",
      "dtypes: float64(5), int64(5)\n",
      "memory usage: 77.5 KB\n"
     ]
    }
   ],
   "source": [
    "df_new.info()"
   ]
  },
  {
   "cell_type": "markdown",
   "metadata": {
    "id": "YYjwa2y-ZLMB"
   },
   "source": [
    "Our first model is used to predict ‘runs scored’. Our independent variables as on-base percentage, slugging percentage, batting average."
   ]
  },
  {
   "cell_type": "code",
   "execution_count": 47,
   "metadata": {
    "colab": {
     "base_uri": "https://localhost:8080/"
    },
    "executionInfo": {
     "elapsed": 2,
     "status": "ok",
     "timestamp": 1677485703836,
     "user": {
      "displayName": "Mahesh Anand",
      "userId": "06788086636039591358"
     },
     "user_tz": -330
    },
    "id": "-FFYzYR0ZFnG",
    "outputId": "53057846-1c1a-4761-916b-31c9d66219d5"
   },
   "outputs": [
    {
     "name": "stdout",
     "output_type": "stream",
     "text": [
      "[-1014.01832371]\n",
      "[[3562.39402674 1412.56993192]]\n"
     ]
    }
   ],
   "source": [
    "from sklearn.linear_model import LinearRegression\n",
    "# Extracting our variables from the dataframe.\n",
    "x = df2[['OBP','SLG']].values\n",
    "y = df2[['RS']].values# Calling our model object.\n",
    "RS_model = LinearRegression()# Fitting the model.\n",
    "RS_model.fit(x,y)\n",
    "# Printing model intercept and coefficients.\n",
    "print(RS_model.intercept_)\n",
    "print(RS_model.coef_)"
   ]
  },
  {
   "cell_type": "code",
   "execution_count": null,
   "metadata": {
    "colab": {
     "base_uri": "https://localhost:8080/",
     "height": 34
    },
    "executionInfo": {
     "elapsed": 1027,
     "status": "ok",
     "timestamp": 1571138484727,
     "user": {
      "displayName": "Mahesh Anand",
      "photoUrl": "https://lh3.googleusercontent.com/a-/AAuE7mDwRqsBffQmzXsc6rHxDVmepWB7mxD_zfhcK5E1=s64",
      "userId": "06788086636039591358"
     },
     "user_tz": -330
    },
    "id": "UtSHFDJ3HgDD",
    "outputId": "a3ce0dc1-c488-4e86-837a-fbcefe662529"
   },
   "outputs": [
    {
     "data": {
      "text/plain": [
       "(902, 2)"
      ]
     },
     "execution_count": 124,
     "metadata": {
      "tags": []
     },
     "output_type": "execute_result"
    }
   ],
   "source": [
    "x.shape"
   ]
  },
  {
   "cell_type": "markdown",
   "metadata": {
    "id": "3B_QmN9SaSdP"
   },
   "source": [
    "Thus, our model is of the following form:\n",
    "\n",
    "RS = -804.63+2737.77×(OBP)+1584.91×(SLG)"
   ]
  },
  {
   "cell_type": "markdown",
   "metadata": {
    "id": "xAy7HRkWa9lq"
   },
   "source": [
    "Similarly, we build a model for ‘runs allowed’ using opponent’s on-base percentage and opponent’s slugging percentage as independent variables:"
   ]
  },
  {
   "cell_type": "code",
   "execution_count": 48,
   "metadata": {
    "colab": {
     "base_uri": "https://localhost:8080/"
    },
    "executionInfo": {
     "elapsed": 470,
     "status": "ok",
     "timestamp": 1677485708635,
     "user": {
      "displayName": "Mahesh Anand",
      "userId": "06788086636039591358"
     },
     "user_tz": -330
    },
    "id": "cYB6Pxmpa_ib",
    "outputId": "3dfb00f9-dab7-4898-dbd8-1ad6530debf4"
   },
   "outputs": [
    {
     "name": "stdout",
     "output_type": "stream",
     "text": [
      "[-837.37788861]\n",
      "[[2913.59948582 1514.28595842]]\n"
     ]
    }
   ],
   "source": [
    "# Extracting our variables from the dataframe.\n",
    "x = df2[['OOBP','OSLG']].values\n",
    "y = df2[['RA']].values# Calling our model object.\n",
    "RA_model = LinearRegression()# Fitting the model.\n",
    "RA_model.fit(x,y)# Printing model intercept and coefficients.\n",
    "print(RA_model.intercept_)\n",
    "print(RA_model.coef_)"
   ]
  },
  {
   "cell_type": "code",
   "execution_count": null,
   "metadata": {
    "colab": {
     "base_uri": "https://localhost:8080/",
     "height": 206
    },
    "executionInfo": {
     "elapsed": 381,
     "status": "ok",
     "timestamp": 1648289716919,
     "user": {
      "displayName": "Mahesh Anand",
      "photoUrl": "https://lh3.googleusercontent.com/a-/AOh14GgEjHTHmcE5H01IJo7KL2-QssgVKGBUBVq_Ch1n5Q=s64",
      "userId": "06788086636039591358"
     },
     "user_tz": -330
    },
    "id": "RqYMbRMRuQOe",
    "outputId": "92516a22-fe44-4a83-99d7-d5e27fbf50c6"
   },
   "outputs": [
    {
     "data": {
      "text/html": [
       "\n",
       "  <div id=\"df-b004cb97-687c-490c-a7f8-82672ecd55d1\">\n",
       "    <div class=\"colab-df-container\">\n",
       "      <div>\n",
       "<style scoped>\n",
       "    .dataframe tbody tr th:only-of-type {\n",
       "        vertical-align: middle;\n",
       "    }\n",
       "\n",
       "    .dataframe tbody tr th {\n",
       "        vertical-align: top;\n",
       "    }\n",
       "\n",
       "    .dataframe thead th {\n",
       "        text-align: right;\n",
       "    }\n",
       "</style>\n",
       "<table border=\"1\" class=\"dataframe\">\n",
       "  <thead>\n",
       "    <tr style=\"text-align: right;\">\n",
       "      <th></th>\n",
       "      <th>RS</th>\n",
       "      <th>RA</th>\n",
       "      <th>W</th>\n",
       "      <th>OBP</th>\n",
       "      <th>SLG</th>\n",
       "      <th>BA</th>\n",
       "      <th>G</th>\n",
       "      <th>OOBP</th>\n",
       "      <th>OSLG</th>\n",
       "    </tr>\n",
       "  </thead>\n",
       "  <tbody>\n",
       "    <tr>\n",
       "      <th>330</th>\n",
       "      <td>691</td>\n",
       "      <td>730</td>\n",
       "      <td>75</td>\n",
       "      <td>0.327</td>\n",
       "      <td>0.405</td>\n",
       "      <td>0.261</td>\n",
       "      <td>162</td>\n",
       "      <td>0.331</td>\n",
       "      <td>0.412</td>\n",
       "    </tr>\n",
       "    <tr>\n",
       "      <th>331</th>\n",
       "      <td>818</td>\n",
       "      <td>677</td>\n",
       "      <td>92</td>\n",
       "      <td>0.341</td>\n",
       "      <td>0.442</td>\n",
       "      <td>0.267</td>\n",
       "      <td>162</td>\n",
       "      <td>0.311</td>\n",
       "      <td>0.404</td>\n",
       "    </tr>\n",
       "    <tr>\n",
       "      <th>332</th>\n",
       "      <td>729</td>\n",
       "      <td>643</td>\n",
       "      <td>88</td>\n",
       "      <td>0.324</td>\n",
       "      <td>0.412</td>\n",
       "      <td>0.260</td>\n",
       "      <td>162</td>\n",
       "      <td>0.314</td>\n",
       "      <td>0.384</td>\n",
       "    </tr>\n",
       "    <tr>\n",
       "      <th>333</th>\n",
       "      <td>687</td>\n",
       "      <td>829</td>\n",
       "      <td>63</td>\n",
       "      <td>0.319</td>\n",
       "      <td>0.380</td>\n",
       "      <td>0.248</td>\n",
       "      <td>162</td>\n",
       "      <td>0.337</td>\n",
       "      <td>0.439</td>\n",
       "    </tr>\n",
       "    <tr>\n",
       "      <th>334</th>\n",
       "      <td>772</td>\n",
       "      <td>745</td>\n",
       "      <td>82</td>\n",
       "      <td>0.334</td>\n",
       "      <td>0.439</td>\n",
       "      <td>0.266</td>\n",
       "      <td>161</td>\n",
       "      <td>0.329</td>\n",
       "      <td>0.393</td>\n",
       "    </tr>\n",
       "  </tbody>\n",
       "</table>\n",
       "</div>\n",
       "      <button class=\"colab-df-convert\" onclick=\"convertToInteractive('df-b004cb97-687c-490c-a7f8-82672ecd55d1')\"\n",
       "              title=\"Convert this dataframe to an interactive table.\"\n",
       "              style=\"display:none;\">\n",
       "        \n",
       "  <svg xmlns=\"http://www.w3.org/2000/svg\" height=\"24px\"viewBox=\"0 0 24 24\"\n",
       "       width=\"24px\">\n",
       "    <path d=\"M0 0h24v24H0V0z\" fill=\"none\"/>\n",
       "    <path d=\"M18.56 5.44l.94 2.06.94-2.06 2.06-.94-2.06-.94-.94-2.06-.94 2.06-2.06.94zm-11 1L8.5 8.5l.94-2.06 2.06-.94-2.06-.94L8.5 2.5l-.94 2.06-2.06.94zm10 10l.94 2.06.94-2.06 2.06-.94-2.06-.94-.94-2.06-.94 2.06-2.06.94z\"/><path d=\"M17.41 7.96l-1.37-1.37c-.4-.4-.92-.59-1.43-.59-.52 0-1.04.2-1.43.59L10.3 9.45l-7.72 7.72c-.78.78-.78 2.05 0 2.83L4 21.41c.39.39.9.59 1.41.59.51 0 1.02-.2 1.41-.59l7.78-7.78 2.81-2.81c.8-.78.8-2.07 0-2.86zM5.41 20L4 18.59l7.72-7.72 1.47 1.35L5.41 20z\"/>\n",
       "  </svg>\n",
       "      </button>\n",
       "      \n",
       "  <style>\n",
       "    .colab-df-container {\n",
       "      display:flex;\n",
       "      flex-wrap:wrap;\n",
       "      gap: 12px;\n",
       "    }\n",
       "\n",
       "    .colab-df-convert {\n",
       "      background-color: #E8F0FE;\n",
       "      border: none;\n",
       "      border-radius: 50%;\n",
       "      cursor: pointer;\n",
       "      display: none;\n",
       "      fill: #1967D2;\n",
       "      height: 32px;\n",
       "      padding: 0 0 0 0;\n",
       "      width: 32px;\n",
       "    }\n",
       "\n",
       "    .colab-df-convert:hover {\n",
       "      background-color: #E2EBFA;\n",
       "      box-shadow: 0px 1px 2px rgba(60, 64, 67, 0.3), 0px 1px 3px 1px rgba(60, 64, 67, 0.15);\n",
       "      fill: #174EA6;\n",
       "    }\n",
       "\n",
       "    [theme=dark] .colab-df-convert {\n",
       "      background-color: #3B4455;\n",
       "      fill: #D2E3FC;\n",
       "    }\n",
       "\n",
       "    [theme=dark] .colab-df-convert:hover {\n",
       "      background-color: #434B5C;\n",
       "      box-shadow: 0px 1px 3px 1px rgba(0, 0, 0, 0.15);\n",
       "      filter: drop-shadow(0px 1px 2px rgba(0, 0, 0, 0.3));\n",
       "      fill: #FFFFFF;\n",
       "    }\n",
       "  </style>\n",
       "\n",
       "      <script>\n",
       "        const buttonEl =\n",
       "          document.querySelector('#df-b004cb97-687c-490c-a7f8-82672ecd55d1 button.colab-df-convert');\n",
       "        buttonEl.style.display =\n",
       "          google.colab.kernel.accessAllowed ? 'block' : 'none';\n",
       "\n",
       "        async function convertToInteractive(key) {\n",
       "          const element = document.querySelector('#df-b004cb97-687c-490c-a7f8-82672ecd55d1');\n",
       "          const dataTable =\n",
       "            await google.colab.kernel.invokeFunction('convertToInteractive',\n",
       "                                                     [key], {});\n",
       "          if (!dataTable) return;\n",
       "\n",
       "          const docLinkHtml = 'Like what you see? Visit the ' +\n",
       "            '<a target=\"_blank\" href=https://colab.research.google.com/notebooks/data_table.ipynb>data table notebook</a>'\n",
       "            + ' to learn more about interactive tables.';\n",
       "          element.innerHTML = '';\n",
       "          dataTable['output_type'] = 'display_data';\n",
       "          await google.colab.output.renderOutput(dataTable, element);\n",
       "          const docLink = document.createElement('div');\n",
       "          docLink.innerHTML = docLinkHtml;\n",
       "          element.appendChild(docLink);\n",
       "        }\n",
       "      </script>\n",
       "    </div>\n",
       "  </div>\n",
       "  "
      ],
      "text/plain": [
       "      RS   RA   W    OBP    SLG     BA    G   OOBP   OSLG\n",
       "330  691  730  75  0.327  0.405  0.261  162  0.331  0.412\n",
       "331  818  677  92  0.341  0.442  0.267  162  0.311  0.404\n",
       "332  729  643  88  0.324  0.412  0.260  162  0.314  0.384\n",
       "333  687  829  63  0.319  0.380  0.248  162  0.337  0.439\n",
       "334  772  745  82  0.334  0.439  0.266  161  0.329  0.393"
      ]
     },
     "execution_count": 34,
     "metadata": {},
     "output_type": "execute_result"
    }
   ],
   "source": [
    "df2.head()"
   ]
  },
  {
   "cell_type": "markdown",
   "metadata": {
    "id": "kLi3w1QIbvgF"
   },
   "source": [
    "model for predicting wins from runs difference:"
   ]
  },
  {
   "cell_type": "code",
   "execution_count": 49,
   "metadata": {
    "colab": {
     "base_uri": "https://localhost:8080/"
    },
    "executionInfo": {
     "elapsed": 2,
     "status": "ok",
     "timestamp": 1677485710893,
     "user": {
      "displayName": "Mahesh Anand",
      "userId": "06788086636039591358"
     },
     "user_tz": -330
    },
    "id": "YJkEIsmLbw5s",
    "outputId": "f619267c-725e-4c18-cd6a-50cbb05a2a1b"
   },
   "outputs": [
    {
     "name": "stdout",
     "output_type": "stream",
     "text": [
      "[80.92222222]\n",
      "[[0.09918986]]\n"
     ]
    }
   ],
   "source": [
    "# Extracting our variables from the dataframe.\n",
    "x = df2[['RD']].values\n",
    "y = df2[['W']].values# Calling our model object.\n",
    "W_model = LinearRegression()# Fitting the model.\n",
    "W_model.fit(x,y)# Printing model intercept and coefficients.\n",
    "print(W_model.intercept_)\n",
    "print(W_model.coef_)"
   ]
  },
  {
   "cell_type": "markdown",
   "metadata": {
    "id": "DZjntiq2cdDh"
   },
   "source": [
    "Model Predictions\n",
    "\n",
    "Here are the Oakland Athletics statistics in 2001 before the playoffs.\n",
    "\n",
    "OBP: 0.339\n",
    "\n",
    "SLG: 0.430\n",
    "\n",
    "OOBP: 0.307\n",
    "\n",
    "OSLG: 0.373\n",
    "Lets plug in these values into the above models to generate predictions."
   ]
  },
  {
   "cell_type": "code",
   "execution_count": 50,
   "metadata": {
    "colab": {
     "base_uri": "https://localhost:8080/"
    },
    "executionInfo": {
     "elapsed": 381,
     "status": "ok",
     "timestamp": 1677485715606,
     "user": {
      "displayName": "Mahesh Anand",
      "userId": "06788086636039591358"
     },
     "user_tz": -330
    },
    "id": "v2bR0Edccjkg",
    "outputId": "54af3b67-1d39-452a-e4f0-052d350bbc78"
   },
   "outputs": [
    {
     "data": {
      "text/plain": [
       "array([[801.03832208]])"
      ]
     },
     "execution_count": 50,
     "metadata": {},
     "output_type": "execute_result"
    }
   ],
   "source": [
    "# Prediction for runs scored.\n",
    "RS_model.predict([[0.339,0.430]])"
   ]
  },
  {
   "cell_type": "code",
   "execution_count": 51,
   "metadata": {
    "colab": {
     "base_uri": "https://localhost:8080/"
    },
    "executionInfo": {
     "elapsed": 378,
     "status": "ok",
     "timestamp": 1677485719191,
     "user": {
      "displayName": "Mahesh Anand",
      "userId": "06788086636039591358"
     },
     "user_tz": -330
    },
    "id": "lcy6sa-Mcetc",
    "outputId": "28a26f31-281e-49ce-c8dc-16f31c5593f8"
   },
   "outputs": [
    {
     "data": {
      "text/plain": [
       "array([[621.92581602]])"
      ]
     },
     "execution_count": 51,
     "metadata": {},
     "output_type": "execute_result"
    }
   ],
   "source": [
    "RA_model.predict([[0.307,0.373]])"
   ]
  },
  {
   "cell_type": "code",
   "execution_count": 52,
   "metadata": {
    "colab": {
     "base_uri": "https://localhost:8080/"
    },
    "executionInfo": {
     "elapsed": 401,
     "status": "ok",
     "timestamp": 1677485724716,
     "user": {
      "displayName": "Mahesh Anand",
      "userId": "06788086636039591358"
     },
     "user_tz": -330
    },
    "id": "TcD51hgQWI9t",
    "outputId": "60140763-5616-41bc-b186-79512d1b389f"
   },
   "outputs": [
    {
     "data": {
      "text/plain": [
       "179.11250606"
      ]
     },
     "execution_count": 52,
     "metadata": {},
     "output_type": "execute_result"
    }
   ],
   "source": [
    "801.03832208-621.92581602"
   ]
  },
  {
   "cell_type": "code",
   "execution_count": null,
   "metadata": {
    "colab": {
     "base_uri": "https://localhost:8080/"
    },
    "executionInfo": {
     "elapsed": 408,
     "status": "ok",
     "timestamp": 1671450182159,
     "user": {
      "displayName": "Mahesh Anand",
      "userId": "06788086636039591358"
     },
     "user_tz": -330
    },
    "id": "qzlg09FvU9Cf",
    "outputId": "1a690eb6-5ff1-4a82-bbb5-a388d5623708"
   },
   "outputs": [
    {
     "data": {
      "text/plain": [
       "179.11250606"
      ]
     },
     "execution_count": 35,
     "metadata": {},
     "output_type": "execute_result"
    }
   ],
   "source": [
    "801.03832208-621.92581602"
   ]
  },
  {
   "cell_type": "code",
   "execution_count": null,
   "metadata": {
    "colab": {
     "base_uri": "https://localhost:8080/"
    },
    "executionInfo": {
     "elapsed": 3,
     "status": "ok",
     "timestamp": 1657102383827,
     "user": {
      "displayName": "Mahesh Anand",
      "userId": "06788086636039591358"
     },
     "user_tz": -330
    },
    "id": "ZRWzM7aBZSE2",
    "outputId": "24e58702-8e65-45ee-d993-684ded14cf76"
   },
   "outputs": [
    {
     "data": {
      "text/plain": [
       "179.11250606"
      ]
     },
     "execution_count": 23,
     "metadata": {},
     "output_type": "execute_result"
    }
   ],
   "source": [
    "801.03832208-621.92581602"
   ]
  },
  {
   "cell_type": "code",
   "execution_count": 53,
   "metadata": {
    "colab": {
     "base_uri": "https://localhost:8080/"
    },
    "executionInfo": {
     "elapsed": 2,
     "status": "ok",
     "timestamp": 1677485728927,
     "user": {
      "displayName": "Mahesh Anand",
      "userId": "06788086636039591358"
     },
     "user_tz": -330
    },
    "id": "gH8_8jqGZSIF",
    "outputId": "e121fa2a-2c99-47ff-b4ed-e32bfd70ede1"
   },
   "outputs": [
    {
     "data": {
      "text/plain": [
       "array([[98.6883675]])"
      ]
     },
     "execution_count": 53,
     "metadata": {},
     "output_type": "execute_result"
    }
   ],
   "source": [
    "W_model.predict([[179.11250606]])"
   ]
  }
 ],
 "metadata": {
  "colab": {
   "provenance": []
  },
  "kernelspec": {
   "display_name": "Python 3 (ipykernel)",
   "language": "python",
   "name": "python3"
  },
  "language_info": {
   "codemirror_mode": {
    "name": "ipython",
    "version": 3
   },
   "file_extension": ".py",
   "mimetype": "text/x-python",
   "name": "python",
   "nbconvert_exporter": "python",
   "pygments_lexer": "ipython3",
   "version": "3.9.12"
  }
 },
 "nbformat": 4,
 "nbformat_minor": 1
}
