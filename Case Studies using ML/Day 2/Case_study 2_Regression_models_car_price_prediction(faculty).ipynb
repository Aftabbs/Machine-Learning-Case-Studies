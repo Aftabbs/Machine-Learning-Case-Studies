{
 "cells": [
  {
   "cell_type": "code",
   "execution_count": null,
   "metadata": {},
   "outputs": [],
   "source": []
  },
  {
   "cell_type": "code",
   "execution_count": 5,
   "metadata": {
    "executionInfo": {
     "elapsed": 1625,
     "status": "ok",
     "timestamp": 1671594254015,
     "user": {
      "displayName": "Mahesh Anand",
      "userId": "06788086636039591358"
     },
     "user_tz": -330
    },
    "id": "LZbqKzJACHLK"
   },
   "outputs": [],
   "source": [
    "import numpy as np\n",
    "import pandas as pd\n",
    "import matplotlib.pyplot as plt\n",
    "%matplotlib inline\n",
    "import seaborn as sns\n",
    "from sklearn.linear_model import LinearRegression\n",
    "from sklearn.preprocessing import StandardScaler\n",
    "from sklearn import model_selection\n",
    "import statsmodels.formula.api as smf"
   ]
  },
  {
   "cell_type": "code",
   "execution_count": null,
   "metadata": {},
   "outputs": [],
   "source": []
  },
  {
   "cell_type": "code",
   "execution_count": 81,
   "metadata": {
    "executionInfo": {
     "elapsed": 5,
     "status": "ok",
     "timestamp": 1671594254016,
     "user": {
      "displayName": "Mahesh Anand",
      "userId": "06788086636039591358"
     },
     "user_tz": -330
    },
    "id": "SJxeE0omLuxV"
   },
   "outputs": [],
   "source": [
    "# plt.rcParams['figure.figsize'] = [15,8]"
   ]
  },
  {
   "cell_type": "code",
   "execution_count": 82,
   "metadata": {
    "executionInfo": {
     "elapsed": 4,
     "status": "ok",
     "timestamp": 1671594254016,
     "user": {
      "displayName": "Mahesh Anand",
      "userId": "06788086636039591358"
     },
     "user_tz": -330
    },
    "id": "3591W465LzTJ"
   },
   "outputs": [],
   "source": [
    "import warnings\n",
    "warnings.filterwarnings(\"ignore\")"
   ]
  },
  {
   "cell_type": "code",
   "execution_count": 83,
   "metadata": {
    "colab": {
     "base_uri": "https://localhost:8080/"
    },
    "executionInfo": {
     "elapsed": 18595,
     "status": "ok",
     "timestamp": 1671594308098,
     "user": {
      "displayName": "Mahesh Anand",
      "userId": "06788086636039591358"
     },
     "user_tz": -330
    },
    "id": "8y8V4GbSjhEi",
    "outputId": "ffee99f4-9bd6-479d-df5c-040a8a974c7a"
   },
   "outputs": [],
   "source": [
    "# from google.colab import drive\n",
    "# drive.mount('/content/drive')"
   ]
  },
  {
   "cell_type": "code",
   "execution_count": 6,
   "metadata": {
    "colab": {
     "base_uri": "https://localhost:8080/",
     "height": 386
    },
    "executionInfo": {
     "elapsed": 1148,
     "status": "ok",
     "timestamp": 1671594309238,
     "user": {
      "displayName": "Mahesh Anand",
      "userId": "06788086636039591358"
     },
     "user_tz": -330
    },
    "id": "hoXMFxqzCHLU",
    "outputId": "5ac47a37-eba1-40a9-cf3a-6d3d545603ac"
   },
   "outputs": [
    {
     "data": {
      "text/html": [
       "<div>\n",
       "<style scoped>\n",
       "    .dataframe tbody tr th:only-of-type {\n",
       "        vertical-align: middle;\n",
       "    }\n",
       "\n",
       "    .dataframe tbody tr th {\n",
       "        vertical-align: top;\n",
       "    }\n",
       "\n",
       "    .dataframe thead th {\n",
       "        text-align: right;\n",
       "    }\n",
       "</style>\n",
       "<table border=\"1\" class=\"dataframe\">\n",
       "  <thead>\n",
       "    <tr style=\"text-align: right;\">\n",
       "      <th></th>\n",
       "      <th>Manufacturer</th>\n",
       "      <th>Model</th>\n",
       "      <th>Type</th>\n",
       "      <th>Min.Price</th>\n",
       "      <th>Price</th>\n",
       "      <th>Max.Price</th>\n",
       "      <th>MPG.city</th>\n",
       "      <th>MPG.highway</th>\n",
       "      <th>AirBags</th>\n",
       "      <th>DriveTrain</th>\n",
       "      <th>Cylinders</th>\n",
       "      <th>EngineSize</th>\n",
       "      <th>Horsepower</th>\n",
       "      <th>RPM</th>\n",
       "      <th>Rev.per.mile</th>\n",
       "      <th>Man.trans.avail</th>\n",
       "      <th>Fuel.tank.capacity</th>\n",
       "      <th>Passengers</th>\n",
       "      <th>Length</th>\n",
       "      <th>Wheelbase</th>\n",
       "      <th>Width</th>\n",
       "      <th>Turn.circle</th>\n",
       "      <th>Rear.seat.room</th>\n",
       "      <th>Luggage.room</th>\n",
       "      <th>Weight</th>\n",
       "      <th>Origin</th>\n",
       "      <th>Make</th>\n",
       "    </tr>\n",
       "  </thead>\n",
       "  <tbody>\n",
       "    <tr>\n",
       "      <th>1</th>\n",
       "      <td>Acura</td>\n",
       "      <td>Integra</td>\n",
       "      <td>Small</td>\n",
       "      <td>12.9</td>\n",
       "      <td>15.9</td>\n",
       "      <td>18.8</td>\n",
       "      <td>25</td>\n",
       "      <td>31</td>\n",
       "      <td>None</td>\n",
       "      <td>Front</td>\n",
       "      <td>4</td>\n",
       "      <td>1.8</td>\n",
       "      <td>140</td>\n",
       "      <td>6300</td>\n",
       "      <td>2890</td>\n",
       "      <td>Yes</td>\n",
       "      <td>13.2</td>\n",
       "      <td>5</td>\n",
       "      <td>177</td>\n",
       "      <td>102</td>\n",
       "      <td>68</td>\n",
       "      <td>37</td>\n",
       "      <td>26.5</td>\n",
       "      <td>11.0</td>\n",
       "      <td>2705</td>\n",
       "      <td>non-USA</td>\n",
       "      <td>Acura Integra</td>\n",
       "    </tr>\n",
       "    <tr>\n",
       "      <th>2</th>\n",
       "      <td>Acura</td>\n",
       "      <td>Legend</td>\n",
       "      <td>Midsize</td>\n",
       "      <td>29.2</td>\n",
       "      <td>33.9</td>\n",
       "      <td>38.7</td>\n",
       "      <td>18</td>\n",
       "      <td>25</td>\n",
       "      <td>Driver &amp; Passenger</td>\n",
       "      <td>Front</td>\n",
       "      <td>6</td>\n",
       "      <td>3.2</td>\n",
       "      <td>200</td>\n",
       "      <td>5500</td>\n",
       "      <td>2335</td>\n",
       "      <td>Yes</td>\n",
       "      <td>18.0</td>\n",
       "      <td>5</td>\n",
       "      <td>195</td>\n",
       "      <td>115</td>\n",
       "      <td>71</td>\n",
       "      <td>38</td>\n",
       "      <td>30.0</td>\n",
       "      <td>15.0</td>\n",
       "      <td>3560</td>\n",
       "      <td>non-USA</td>\n",
       "      <td>Acura Legend</td>\n",
       "    </tr>\n",
       "    <tr>\n",
       "      <th>3</th>\n",
       "      <td>Audi</td>\n",
       "      <td>90</td>\n",
       "      <td>Compact</td>\n",
       "      <td>25.9</td>\n",
       "      <td>29.1</td>\n",
       "      <td>32.3</td>\n",
       "      <td>20</td>\n",
       "      <td>26</td>\n",
       "      <td>Driver only</td>\n",
       "      <td>Front</td>\n",
       "      <td>6</td>\n",
       "      <td>2.8</td>\n",
       "      <td>172</td>\n",
       "      <td>5500</td>\n",
       "      <td>2280</td>\n",
       "      <td>Yes</td>\n",
       "      <td>16.9</td>\n",
       "      <td>5</td>\n",
       "      <td>180</td>\n",
       "      <td>102</td>\n",
       "      <td>67</td>\n",
       "      <td>37</td>\n",
       "      <td>28.0</td>\n",
       "      <td>14.0</td>\n",
       "      <td>3375</td>\n",
       "      <td>non-USA</td>\n",
       "      <td>Audi 90</td>\n",
       "    </tr>\n",
       "    <tr>\n",
       "      <th>4</th>\n",
       "      <td>Audi</td>\n",
       "      <td>100</td>\n",
       "      <td>Midsize</td>\n",
       "      <td>30.8</td>\n",
       "      <td>37.7</td>\n",
       "      <td>44.6</td>\n",
       "      <td>19</td>\n",
       "      <td>26</td>\n",
       "      <td>Driver &amp; Passenger</td>\n",
       "      <td>Front</td>\n",
       "      <td>6</td>\n",
       "      <td>2.8</td>\n",
       "      <td>172</td>\n",
       "      <td>5500</td>\n",
       "      <td>2535</td>\n",
       "      <td>Yes</td>\n",
       "      <td>21.1</td>\n",
       "      <td>6</td>\n",
       "      <td>193</td>\n",
       "      <td>106</td>\n",
       "      <td>70</td>\n",
       "      <td>37</td>\n",
       "      <td>31.0</td>\n",
       "      <td>17.0</td>\n",
       "      <td>3405</td>\n",
       "      <td>non-USA</td>\n",
       "      <td>Audi 100</td>\n",
       "    </tr>\n",
       "    <tr>\n",
       "      <th>5</th>\n",
       "      <td>BMW</td>\n",
       "      <td>535i</td>\n",
       "      <td>Midsize</td>\n",
       "      <td>23.7</td>\n",
       "      <td>30.0</td>\n",
       "      <td>36.2</td>\n",
       "      <td>22</td>\n",
       "      <td>30</td>\n",
       "      <td>Driver only</td>\n",
       "      <td>Rear</td>\n",
       "      <td>4</td>\n",
       "      <td>3.5</td>\n",
       "      <td>208</td>\n",
       "      <td>5700</td>\n",
       "      <td>2545</td>\n",
       "      <td>Yes</td>\n",
       "      <td>21.1</td>\n",
       "      <td>4</td>\n",
       "      <td>186</td>\n",
       "      <td>109</td>\n",
       "      <td>69</td>\n",
       "      <td>39</td>\n",
       "      <td>27.0</td>\n",
       "      <td>13.0</td>\n",
       "      <td>3640</td>\n",
       "      <td>non-USA</td>\n",
       "      <td>BMW 535i</td>\n",
       "    </tr>\n",
       "  </tbody>\n",
       "</table>\n",
       "</div>"
      ],
      "text/plain": [
       "  Manufacturer    Model     Type  Min.Price  Price  Max.Price  MPG.city  \\\n",
       "1        Acura  Integra    Small       12.9   15.9       18.8        25   \n",
       "2        Acura   Legend  Midsize       29.2   33.9       38.7        18   \n",
       "3         Audi       90  Compact       25.9   29.1       32.3        20   \n",
       "4         Audi      100  Midsize       30.8   37.7       44.6        19   \n",
       "5          BMW     535i  Midsize       23.7   30.0       36.2        22   \n",
       "\n",
       "   MPG.highway             AirBags DriveTrain Cylinders  EngineSize  \\\n",
       "1           31                None      Front         4         1.8   \n",
       "2           25  Driver & Passenger      Front         6         3.2   \n",
       "3           26         Driver only      Front         6         2.8   \n",
       "4           26  Driver & Passenger      Front         6         2.8   \n",
       "5           30         Driver only       Rear         4         3.5   \n",
       "\n",
       "   Horsepower   RPM  Rev.per.mile Man.trans.avail  Fuel.tank.capacity  \\\n",
       "1         140  6300          2890             Yes                13.2   \n",
       "2         200  5500          2335             Yes                18.0   \n",
       "3         172  5500          2280             Yes                16.9   \n",
       "4         172  5500          2535             Yes                21.1   \n",
       "5         208  5700          2545             Yes                21.1   \n",
       "\n",
       "   Passengers  Length  Wheelbase  Width  Turn.circle  Rear.seat.room  \\\n",
       "1           5     177        102     68           37            26.5   \n",
       "2           5     195        115     71           38            30.0   \n",
       "3           5     180        102     67           37            28.0   \n",
       "4           6     193        106     70           37            31.0   \n",
       "5           4     186        109     69           39            27.0   \n",
       "\n",
       "   Luggage.room  Weight   Origin           Make  \n",
       "1          11.0    2705  non-USA  Acura Integra  \n",
       "2          15.0    3560  non-USA   Acura Legend  \n",
       "3          14.0    3375  non-USA        Audi 90  \n",
       "4          17.0    3405  non-USA       Audi 100  \n",
       "5          13.0    3640  non-USA       BMW 535i  "
      ]
     },
     "execution_count": 6,
     "metadata": {},
     "output_type": "execute_result"
    }
   ],
   "source": [
    "A=pd.read_csv('car_sales.csv',index_col=0)\n",
    "A.head()"
   ]
  },
  {
   "cell_type": "code",
   "execution_count": 85,
   "metadata": {
    "colab": {
     "base_uri": "https://localhost:8080/"
    },
    "executionInfo": {
     "elapsed": 3,
     "status": "ok",
     "timestamp": 1671594311374,
     "user": {
      "displayName": "Mahesh Anand",
      "userId": "06788086636039591358"
     },
     "user_tz": -330
    },
    "id": "_sHcZL7BIbMG",
    "outputId": "679f18b9-b79d-4ffe-f7d3-480c78dcc4b7"
   },
   "outputs": [
    {
     "data": {
      "text/plain": [
       "(93, 27)"
      ]
     },
     "execution_count": 85,
     "metadata": {},
     "output_type": "execute_result"
    }
   ],
   "source": [
    "A.shape"
   ]
  },
  {
   "cell_type": "code",
   "execution_count": 86,
   "metadata": {
    "colab": {
     "base_uri": "https://localhost:8080/"
    },
    "executionInfo": {
     "elapsed": 389,
     "status": "ok",
     "timestamp": 1671517024090,
     "user": {
      "displayName": "Mahesh Anand",
      "userId": "06788086636039591358"
     },
     "user_tz": -330
    },
    "id": "1WnevQuPx6ae",
    "outputId": "88cdd06d-e8ff-49e0-92e9-47d0f61b4bdb"
   },
   "outputs": [
    {
     "name": "stdout",
     "output_type": "stream",
     "text": [
      "<class 'pandas.core.frame.DataFrame'>\n",
      "Int64Index: 93 entries, 1 to 93\n",
      "Data columns (total 27 columns):\n",
      " #   Column              Non-Null Count  Dtype  \n",
      "---  ------              --------------  -----  \n",
      " 0   Manufacturer        93 non-null     object \n",
      " 1   Model               93 non-null     object \n",
      " 2   Type                93 non-null     object \n",
      " 3   Min.Price           93 non-null     float64\n",
      " 4   Price               93 non-null     float64\n",
      " 5   Max.Price           93 non-null     float64\n",
      " 6   MPG.city            93 non-null     int64  \n",
      " 7   MPG.highway         93 non-null     int64  \n",
      " 8   AirBags             93 non-null     object \n",
      " 9   DriveTrain          93 non-null     object \n",
      " 10  Cylinders           93 non-null     object \n",
      " 11  EngineSize          93 non-null     float64\n",
      " 12  Horsepower          93 non-null     int64  \n",
      " 13  RPM                 93 non-null     int64  \n",
      " 14  Rev.per.mile        93 non-null     int64  \n",
      " 15  Man.trans.avail     93 non-null     object \n",
      " 16  Fuel.tank.capacity  93 non-null     float64\n",
      " 17  Passengers          93 non-null     int64  \n",
      " 18  Length              93 non-null     int64  \n",
      " 19  Wheelbase           93 non-null     int64  \n",
      " 20  Width               93 non-null     int64  \n",
      " 21  Turn.circle         93 non-null     int64  \n",
      " 22  Rear.seat.room      91 non-null     float64\n",
      " 23  Luggage.room        82 non-null     float64\n",
      " 24  Weight              93 non-null     int64  \n",
      " 25  Origin              93 non-null     object \n",
      " 26  Make                93 non-null     object \n",
      "dtypes: float64(7), int64(11), object(9)\n",
      "memory usage: 20.3+ KB\n"
     ]
    }
   ],
   "source": [
    "A.info()"
   ]
  },
  {
   "cell_type": "code",
   "execution_count": 87,
   "metadata": {
    "colab": {
     "base_uri": "https://localhost:8080/",
     "height": 627
    },
    "executionInfo": {
     "elapsed": 475,
     "status": "ok",
     "timestamp": 1627102813363,
     "user": {
      "displayName": "Mahesh Anand",
      "photoUrl": "https://lh3.googleusercontent.com/a-/AOh14GgKd7FxLgzXO0MxUwypCgML3QfaeTdE0nT8cpHwLQ=s64",
      "userId": "06788086636039591358"
     },
     "user_tz": -330
    },
    "id": "5DOPwzCxCHLf",
    "outputId": "bd5533e5-5c88-4958-e6a2-4190813c485f"
   },
   "outputs": [
    {
     "data": {
      "text/html": [
       "<div>\n",
       "<style scoped>\n",
       "    .dataframe tbody tr th:only-of-type {\n",
       "        vertical-align: middle;\n",
       "    }\n",
       "\n",
       "    .dataframe tbody tr th {\n",
       "        vertical-align: top;\n",
       "    }\n",
       "\n",
       "    .dataframe thead th {\n",
       "        text-align: right;\n",
       "    }\n",
       "</style>\n",
       "<table border=\"1\" class=\"dataframe\">\n",
       "  <thead>\n",
       "    <tr style=\"text-align: right;\">\n",
       "      <th></th>\n",
       "      <th>Min.Price</th>\n",
       "      <th>Price</th>\n",
       "      <th>Max.Price</th>\n",
       "      <th>MPG.city</th>\n",
       "      <th>MPG.highway</th>\n",
       "      <th>EngineSize</th>\n",
       "      <th>Horsepower</th>\n",
       "      <th>RPM</th>\n",
       "      <th>Rev.per.mile</th>\n",
       "      <th>Fuel.tank.capacity</th>\n",
       "      <th>Passengers</th>\n",
       "      <th>Length</th>\n",
       "      <th>Wheelbase</th>\n",
       "      <th>Width</th>\n",
       "      <th>Turn.circle</th>\n",
       "      <th>Rear.seat.room</th>\n",
       "      <th>Luggage.room</th>\n",
       "      <th>Weight</th>\n",
       "    </tr>\n",
       "  </thead>\n",
       "  <tbody>\n",
       "    <tr>\n",
       "      <th>Min.Price</th>\n",
       "      <td>1.000000</td>\n",
       "      <td>0.970601</td>\n",
       "      <td>0.906756</td>\n",
       "      <td>-0.622875</td>\n",
       "      <td>-0.579966</td>\n",
       "      <td>0.645488</td>\n",
       "      <td>0.802444</td>\n",
       "      <td>-0.042598</td>\n",
       "      <td>-0.470395</td>\n",
       "      <td>0.635369</td>\n",
       "      <td>0.061236</td>\n",
       "      <td>0.553859</td>\n",
       "      <td>0.516758</td>\n",
       "      <td>0.492878</td>\n",
       "      <td>0.428603</td>\n",
       "      <td>0.376642</td>\n",
       "      <td>0.413485</td>\n",
       "      <td>0.666554</td>\n",
       "    </tr>\n",
       "    <tr>\n",
       "      <th>Price</th>\n",
       "      <td>0.970601</td>\n",
       "      <td>1.000000</td>\n",
       "      <td>0.981580</td>\n",
       "      <td>-0.594562</td>\n",
       "      <td>-0.560680</td>\n",
       "      <td>0.597425</td>\n",
       "      <td>0.788218</td>\n",
       "      <td>-0.004955</td>\n",
       "      <td>-0.426395</td>\n",
       "      <td>0.619480</td>\n",
       "      <td>0.057860</td>\n",
       "      <td>0.503628</td>\n",
       "      <td>0.500864</td>\n",
       "      <td>0.456028</td>\n",
       "      <td>0.392590</td>\n",
       "      <td>0.311499</td>\n",
       "      <td>0.366569</td>\n",
       "      <td>0.647179</td>\n",
       "    </tr>\n",
       "    <tr>\n",
       "      <th>Max.Price</th>\n",
       "      <td>0.906756</td>\n",
       "      <td>0.981580</td>\n",
       "      <td>1.000000</td>\n",
       "      <td>-0.547811</td>\n",
       "      <td>-0.522561</td>\n",
       "      <td>0.535012</td>\n",
       "      <td>0.744445</td>\n",
       "      <td>0.025015</td>\n",
       "      <td>-0.374024</td>\n",
       "      <td>0.581294</td>\n",
       "      <td>0.053216</td>\n",
       "      <td>0.442933</td>\n",
       "      <td>0.467501</td>\n",
       "      <td>0.408414</td>\n",
       "      <td>0.347785</td>\n",
       "      <td>0.247260</td>\n",
       "      <td>0.315315</td>\n",
       "      <td>0.605142</td>\n",
       "    </tr>\n",
       "    <tr>\n",
       "      <th>MPG.city</th>\n",
       "      <td>-0.622875</td>\n",
       "      <td>-0.594562</td>\n",
       "      <td>-0.547811</td>\n",
       "      <td>1.000000</td>\n",
       "      <td>0.943936</td>\n",
       "      <td>-0.710003</td>\n",
       "      <td>-0.672636</td>\n",
       "      <td>0.363045</td>\n",
       "      <td>0.695857</td>\n",
       "      <td>-0.813144</td>\n",
       "      <td>-0.416856</td>\n",
       "      <td>-0.666239</td>\n",
       "      <td>-0.667108</td>\n",
       "      <td>-0.720534</td>\n",
       "      <td>-0.666389</td>\n",
       "      <td>-0.384347</td>\n",
       "      <td>-0.494894</td>\n",
       "      <td>-0.843139</td>\n",
       "    </tr>\n",
       "    <tr>\n",
       "      <th>MPG.highway</th>\n",
       "      <td>-0.579966</td>\n",
       "      <td>-0.560680</td>\n",
       "      <td>-0.522561</td>\n",
       "      <td>0.943936</td>\n",
       "      <td>1.000000</td>\n",
       "      <td>-0.626795</td>\n",
       "      <td>-0.619044</td>\n",
       "      <td>0.313469</td>\n",
       "      <td>0.587497</td>\n",
       "      <td>-0.786039</td>\n",
       "      <td>-0.466386</td>\n",
       "      <td>-0.542897</td>\n",
       "      <td>-0.615384</td>\n",
       "      <td>-0.640359</td>\n",
       "      <td>-0.593683</td>\n",
       "      <td>-0.366684</td>\n",
       "      <td>-0.371629</td>\n",
       "      <td>-0.810658</td>\n",
       "    </tr>\n",
       "    <tr>\n",
       "      <th>EngineSize</th>\n",
       "      <td>0.645488</td>\n",
       "      <td>0.597425</td>\n",
       "      <td>0.535012</td>\n",
       "      <td>-0.710003</td>\n",
       "      <td>-0.626795</td>\n",
       "      <td>1.000000</td>\n",
       "      <td>0.732120</td>\n",
       "      <td>-0.547898</td>\n",
       "      <td>-0.824009</td>\n",
       "      <td>0.759306</td>\n",
       "      <td>0.372721</td>\n",
       "      <td>0.780283</td>\n",
       "      <td>0.732484</td>\n",
       "      <td>0.867110</td>\n",
       "      <td>0.778464</td>\n",
       "      <td>0.502750</td>\n",
       "      <td>0.680827</td>\n",
       "      <td>0.845075</td>\n",
       "    </tr>\n",
       "    <tr>\n",
       "      <th>Horsepower</th>\n",
       "      <td>0.802444</td>\n",
       "      <td>0.788218</td>\n",
       "      <td>0.744445</td>\n",
       "      <td>-0.672636</td>\n",
       "      <td>-0.619044</td>\n",
       "      <td>0.732120</td>\n",
       "      <td>1.000000</td>\n",
       "      <td>0.036688</td>\n",
       "      <td>-0.600314</td>\n",
       "      <td>0.711790</td>\n",
       "      <td>0.009264</td>\n",
       "      <td>0.550865</td>\n",
       "      <td>0.486854</td>\n",
       "      <td>0.644413</td>\n",
       "      <td>0.561216</td>\n",
       "      <td>0.256732</td>\n",
       "      <td>0.359217</td>\n",
       "      <td>0.738798</td>\n",
       "    </tr>\n",
       "    <tr>\n",
       "      <th>RPM</th>\n",
       "      <td>-0.042598</td>\n",
       "      <td>-0.004955</td>\n",
       "      <td>0.025015</td>\n",
       "      <td>0.363045</td>\n",
       "      <td>0.313469</td>\n",
       "      <td>-0.547898</td>\n",
       "      <td>0.036688</td>\n",
       "      <td>1.000000</td>\n",
       "      <td>0.494764</td>\n",
       "      <td>-0.333345</td>\n",
       "      <td>-0.467138</td>\n",
       "      <td>-0.441249</td>\n",
       "      <td>-0.467812</td>\n",
       "      <td>-0.539721</td>\n",
       "      <td>-0.505651</td>\n",
       "      <td>-0.342175</td>\n",
       "      <td>-0.524845</td>\n",
       "      <td>-0.427931</td>\n",
       "    </tr>\n",
       "    <tr>\n",
       "      <th>Rev.per.mile</th>\n",
       "      <td>-0.470395</td>\n",
       "      <td>-0.426395</td>\n",
       "      <td>-0.374024</td>\n",
       "      <td>0.695857</td>\n",
       "      <td>0.587497</td>\n",
       "      <td>-0.824009</td>\n",
       "      <td>-0.600314</td>\n",
       "      <td>0.494764</td>\n",
       "      <td>1.000000</td>\n",
       "      <td>-0.609710</td>\n",
       "      <td>-0.334976</td>\n",
       "      <td>-0.690233</td>\n",
       "      <td>-0.636824</td>\n",
       "      <td>-0.780460</td>\n",
       "      <td>-0.733160</td>\n",
       "      <td>-0.377010</td>\n",
       "      <td>-0.592792</td>\n",
       "      <td>-0.735264</td>\n",
       "    </tr>\n",
       "    <tr>\n",
       "      <th>Fuel.tank.capacity</th>\n",
       "      <td>0.635369</td>\n",
       "      <td>0.619480</td>\n",
       "      <td>0.581294</td>\n",
       "      <td>-0.813144</td>\n",
       "      <td>-0.786039</td>\n",
       "      <td>0.759306</td>\n",
       "      <td>0.711790</td>\n",
       "      <td>-0.333345</td>\n",
       "      <td>-0.609710</td>\n",
       "      <td>1.000000</td>\n",
       "      <td>0.472095</td>\n",
       "      <td>0.690461</td>\n",
       "      <td>0.757674</td>\n",
       "      <td>0.798719</td>\n",
       "      <td>0.671343</td>\n",
       "      <td>0.509689</td>\n",
       "      <td>0.613437</td>\n",
       "      <td>0.894018</td>\n",
       "    </tr>\n",
       "    <tr>\n",
       "      <th>Passengers</th>\n",
       "      <td>0.061236</td>\n",
       "      <td>0.057860</td>\n",
       "      <td>0.053216</td>\n",
       "      <td>-0.416856</td>\n",
       "      <td>-0.466386</td>\n",
       "      <td>0.372721</td>\n",
       "      <td>0.009264</td>\n",
       "      <td>-0.467138</td>\n",
       "      <td>-0.334976</td>\n",
       "      <td>0.472095</td>\n",
       "      <td>1.000000</td>\n",
       "      <td>0.485294</td>\n",
       "      <td>0.694054</td>\n",
       "      <td>0.489979</td>\n",
       "      <td>0.449025</td>\n",
       "      <td>0.694134</td>\n",
       "      <td>0.653317</td>\n",
       "      <td>0.553273</td>\n",
       "    </tr>\n",
       "    <tr>\n",
       "      <th>Length</th>\n",
       "      <td>0.553859</td>\n",
       "      <td>0.503628</td>\n",
       "      <td>0.442933</td>\n",
       "      <td>-0.666239</td>\n",
       "      <td>-0.542897</td>\n",
       "      <td>0.780283</td>\n",
       "      <td>0.550865</td>\n",
       "      <td>-0.441249</td>\n",
       "      <td>-0.690233</td>\n",
       "      <td>0.690461</td>\n",
       "      <td>0.485294</td>\n",
       "      <td>1.000000</td>\n",
       "      <td>0.823650</td>\n",
       "      <td>0.822148</td>\n",
       "      <td>0.738955</td>\n",
       "      <td>0.549958</td>\n",
       "      <td>0.712962</td>\n",
       "      <td>0.806274</td>\n",
       "    </tr>\n",
       "    <tr>\n",
       "      <th>Wheelbase</th>\n",
       "      <td>0.516758</td>\n",
       "      <td>0.500864</td>\n",
       "      <td>0.467501</td>\n",
       "      <td>-0.667108</td>\n",
       "      <td>-0.615384</td>\n",
       "      <td>0.732484</td>\n",
       "      <td>0.486854</td>\n",
       "      <td>-0.467812</td>\n",
       "      <td>-0.636824</td>\n",
       "      <td>0.757674</td>\n",
       "      <td>0.694054</td>\n",
       "      <td>0.823650</td>\n",
       "      <td>1.000000</td>\n",
       "      <td>0.807213</td>\n",
       "      <td>0.723324</td>\n",
       "      <td>0.667259</td>\n",
       "      <td>0.734127</td>\n",
       "      <td>0.871895</td>\n",
       "    </tr>\n",
       "    <tr>\n",
       "      <th>Width</th>\n",
       "      <td>0.492878</td>\n",
       "      <td>0.456028</td>\n",
       "      <td>0.408414</td>\n",
       "      <td>-0.720534</td>\n",
       "      <td>-0.640359</td>\n",
       "      <td>0.867110</td>\n",
       "      <td>0.644413</td>\n",
       "      <td>-0.539721</td>\n",
       "      <td>-0.780460</td>\n",
       "      <td>0.798719</td>\n",
       "      <td>0.489979</td>\n",
       "      <td>0.822148</td>\n",
       "      <td>0.807213</td>\n",
       "      <td>1.000000</td>\n",
       "      <td>0.817854</td>\n",
       "      <td>0.465618</td>\n",
       "      <td>0.673490</td>\n",
       "      <td>0.874961</td>\n",
       "    </tr>\n",
       "    <tr>\n",
       "      <th>Turn.circle</th>\n",
       "      <td>0.428603</td>\n",
       "      <td>0.392590</td>\n",
       "      <td>0.347785</td>\n",
       "      <td>-0.666389</td>\n",
       "      <td>-0.593683</td>\n",
       "      <td>0.778464</td>\n",
       "      <td>0.561216</td>\n",
       "      <td>-0.505651</td>\n",
       "      <td>-0.733160</td>\n",
       "      <td>0.671343</td>\n",
       "      <td>0.449025</td>\n",
       "      <td>0.738955</td>\n",
       "      <td>0.723324</td>\n",
       "      <td>0.817854</td>\n",
       "      <td>1.000000</td>\n",
       "      <td>0.466328</td>\n",
       "      <td>0.585018</td>\n",
       "      <td>0.778043</td>\n",
       "    </tr>\n",
       "    <tr>\n",
       "      <th>Rear.seat.room</th>\n",
       "      <td>0.376642</td>\n",
       "      <td>0.311499</td>\n",
       "      <td>0.247260</td>\n",
       "      <td>-0.384347</td>\n",
       "      <td>-0.366684</td>\n",
       "      <td>0.502750</td>\n",
       "      <td>0.256732</td>\n",
       "      <td>-0.342175</td>\n",
       "      <td>-0.377010</td>\n",
       "      <td>0.509689</td>\n",
       "      <td>0.694134</td>\n",
       "      <td>0.549958</td>\n",
       "      <td>0.667259</td>\n",
       "      <td>0.465618</td>\n",
       "      <td>0.466328</td>\n",
       "      <td>1.000000</td>\n",
       "      <td>0.651968</td>\n",
       "      <td>0.526250</td>\n",
       "    </tr>\n",
       "    <tr>\n",
       "      <th>Luggage.room</th>\n",
       "      <td>0.413485</td>\n",
       "      <td>0.366569</td>\n",
       "      <td>0.315315</td>\n",
       "      <td>-0.494894</td>\n",
       "      <td>-0.371629</td>\n",
       "      <td>0.680827</td>\n",
       "      <td>0.359217</td>\n",
       "      <td>-0.524845</td>\n",
       "      <td>-0.592792</td>\n",
       "      <td>0.613437</td>\n",
       "      <td>0.653317</td>\n",
       "      <td>0.712962</td>\n",
       "      <td>0.734127</td>\n",
       "      <td>0.673490</td>\n",
       "      <td>0.585018</td>\n",
       "      <td>0.651968</td>\n",
       "      <td>1.000000</td>\n",
       "      <td>0.637226</td>\n",
       "    </tr>\n",
       "    <tr>\n",
       "      <th>Weight</th>\n",
       "      <td>0.666554</td>\n",
       "      <td>0.647179</td>\n",
       "      <td>0.605142</td>\n",
       "      <td>-0.843139</td>\n",
       "      <td>-0.810658</td>\n",
       "      <td>0.845075</td>\n",
       "      <td>0.738798</td>\n",
       "      <td>-0.427931</td>\n",
       "      <td>-0.735264</td>\n",
       "      <td>0.894018</td>\n",
       "      <td>0.553273</td>\n",
       "      <td>0.806274</td>\n",
       "      <td>0.871895</td>\n",
       "      <td>0.874961</td>\n",
       "      <td>0.778043</td>\n",
       "      <td>0.526250</td>\n",
       "      <td>0.637226</td>\n",
       "      <td>1.000000</td>\n",
       "    </tr>\n",
       "  </tbody>\n",
       "</table>\n",
       "</div>"
      ],
      "text/plain": [
       "                    Min.Price     Price  Max.Price  MPG.city  MPG.highway  \\\n",
       "Min.Price            1.000000  0.970601   0.906756 -0.622875    -0.579966   \n",
       "Price                0.970601  1.000000   0.981580 -0.594562    -0.560680   \n",
       "Max.Price            0.906756  0.981580   1.000000 -0.547811    -0.522561   \n",
       "MPG.city            -0.622875 -0.594562  -0.547811  1.000000     0.943936   \n",
       "MPG.highway         -0.579966 -0.560680  -0.522561  0.943936     1.000000   \n",
       "EngineSize           0.645488  0.597425   0.535012 -0.710003    -0.626795   \n",
       "Horsepower           0.802444  0.788218   0.744445 -0.672636    -0.619044   \n",
       "RPM                 -0.042598 -0.004955   0.025015  0.363045     0.313469   \n",
       "Rev.per.mile        -0.470395 -0.426395  -0.374024  0.695857     0.587497   \n",
       "Fuel.tank.capacity   0.635369  0.619480   0.581294 -0.813144    -0.786039   \n",
       "Passengers           0.061236  0.057860   0.053216 -0.416856    -0.466386   \n",
       "Length               0.553859  0.503628   0.442933 -0.666239    -0.542897   \n",
       "Wheelbase            0.516758  0.500864   0.467501 -0.667108    -0.615384   \n",
       "Width                0.492878  0.456028   0.408414 -0.720534    -0.640359   \n",
       "Turn.circle          0.428603  0.392590   0.347785 -0.666389    -0.593683   \n",
       "Rear.seat.room       0.376642  0.311499   0.247260 -0.384347    -0.366684   \n",
       "Luggage.room         0.413485  0.366569   0.315315 -0.494894    -0.371629   \n",
       "Weight               0.666554  0.647179   0.605142 -0.843139    -0.810658   \n",
       "\n",
       "                    EngineSize  Horsepower       RPM  Rev.per.mile  \\\n",
       "Min.Price             0.645488    0.802444 -0.042598     -0.470395   \n",
       "Price                 0.597425    0.788218 -0.004955     -0.426395   \n",
       "Max.Price             0.535012    0.744445  0.025015     -0.374024   \n",
       "MPG.city             -0.710003   -0.672636  0.363045      0.695857   \n",
       "MPG.highway          -0.626795   -0.619044  0.313469      0.587497   \n",
       "EngineSize            1.000000    0.732120 -0.547898     -0.824009   \n",
       "Horsepower            0.732120    1.000000  0.036688     -0.600314   \n",
       "RPM                  -0.547898    0.036688  1.000000      0.494764   \n",
       "Rev.per.mile         -0.824009   -0.600314  0.494764      1.000000   \n",
       "Fuel.tank.capacity    0.759306    0.711790 -0.333345     -0.609710   \n",
       "Passengers            0.372721    0.009264 -0.467138     -0.334976   \n",
       "Length                0.780283    0.550865 -0.441249     -0.690233   \n",
       "Wheelbase             0.732484    0.486854 -0.467812     -0.636824   \n",
       "Width                 0.867110    0.644413 -0.539721     -0.780460   \n",
       "Turn.circle           0.778464    0.561216 -0.505651     -0.733160   \n",
       "Rear.seat.room        0.502750    0.256732 -0.342175     -0.377010   \n",
       "Luggage.room          0.680827    0.359217 -0.524845     -0.592792   \n",
       "Weight                0.845075    0.738798 -0.427931     -0.735264   \n",
       "\n",
       "                    Fuel.tank.capacity  Passengers    Length  Wheelbase  \\\n",
       "Min.Price                     0.635369    0.061236  0.553859   0.516758   \n",
       "Price                         0.619480    0.057860  0.503628   0.500864   \n",
       "Max.Price                     0.581294    0.053216  0.442933   0.467501   \n",
       "MPG.city                     -0.813144   -0.416856 -0.666239  -0.667108   \n",
       "MPG.highway                  -0.786039   -0.466386 -0.542897  -0.615384   \n",
       "EngineSize                    0.759306    0.372721  0.780283   0.732484   \n",
       "Horsepower                    0.711790    0.009264  0.550865   0.486854   \n",
       "RPM                          -0.333345   -0.467138 -0.441249  -0.467812   \n",
       "Rev.per.mile                 -0.609710   -0.334976 -0.690233  -0.636824   \n",
       "Fuel.tank.capacity            1.000000    0.472095  0.690461   0.757674   \n",
       "Passengers                    0.472095    1.000000  0.485294   0.694054   \n",
       "Length                        0.690461    0.485294  1.000000   0.823650   \n",
       "Wheelbase                     0.757674    0.694054  0.823650   1.000000   \n",
       "Width                         0.798719    0.489979  0.822148   0.807213   \n",
       "Turn.circle                   0.671343    0.449025  0.738955   0.723324   \n",
       "Rear.seat.room                0.509689    0.694134  0.549958   0.667259   \n",
       "Luggage.room                  0.613437    0.653317  0.712962   0.734127   \n",
       "Weight                        0.894018    0.553273  0.806274   0.871895   \n",
       "\n",
       "                       Width  Turn.circle  Rear.seat.room  Luggage.room  \\\n",
       "Min.Price           0.492878     0.428603        0.376642      0.413485   \n",
       "Price               0.456028     0.392590        0.311499      0.366569   \n",
       "Max.Price           0.408414     0.347785        0.247260      0.315315   \n",
       "MPG.city           -0.720534    -0.666389       -0.384347     -0.494894   \n",
       "MPG.highway        -0.640359    -0.593683       -0.366684     -0.371629   \n",
       "EngineSize          0.867110     0.778464        0.502750      0.680827   \n",
       "Horsepower          0.644413     0.561216        0.256732      0.359217   \n",
       "RPM                -0.539721    -0.505651       -0.342175     -0.524845   \n",
       "Rev.per.mile       -0.780460    -0.733160       -0.377010     -0.592792   \n",
       "Fuel.tank.capacity  0.798719     0.671343        0.509689      0.613437   \n",
       "Passengers          0.489979     0.449025        0.694134      0.653317   \n",
       "Length              0.822148     0.738955        0.549958      0.712962   \n",
       "Wheelbase           0.807213     0.723324        0.667259      0.734127   \n",
       "Width               1.000000     0.817854        0.465618      0.673490   \n",
       "Turn.circle         0.817854     1.000000        0.466328      0.585018   \n",
       "Rear.seat.room      0.465618     0.466328        1.000000      0.651968   \n",
       "Luggage.room        0.673490     0.585018        0.651968      1.000000   \n",
       "Weight              0.874961     0.778043        0.526250      0.637226   \n",
       "\n",
       "                      Weight  \n",
       "Min.Price           0.666554  \n",
       "Price               0.647179  \n",
       "Max.Price           0.605142  \n",
       "MPG.city           -0.843139  \n",
       "MPG.highway        -0.810658  \n",
       "EngineSize          0.845075  \n",
       "Horsepower          0.738798  \n",
       "RPM                -0.427931  \n",
       "Rev.per.mile       -0.735264  \n",
       "Fuel.tank.capacity  0.894018  \n",
       "Passengers          0.553273  \n",
       "Length              0.806274  \n",
       "Wheelbase           0.871895  \n",
       "Width               0.874961  \n",
       "Turn.circle         0.778043  \n",
       "Rear.seat.room      0.526250  \n",
       "Luggage.room        0.637226  \n",
       "Weight              1.000000  "
      ]
     },
     "execution_count": 87,
     "metadata": {},
     "output_type": "execute_result"
    }
   ],
   "source": [
    "A.corr()"
   ]
  },
  {
   "cell_type": "code",
   "execution_count": 88,
   "metadata": {
    "colab": {
     "base_uri": "https://localhost:8080/",
     "height": 482
    },
    "executionInfo": {
     "elapsed": 705,
     "status": "ok",
     "timestamp": 1641624075853,
     "user": {
      "displayName": "Mahesh Anand",
      "photoUrl": "https://lh3.googleusercontent.com/a-/AOh14GjrgsRhu_m9R1mX1R2osLnbO2LcUFIvlC-8Zz6HBA=s64",
      "userId": "06788086636039591358"
     },
     "user_tz": -330
    },
    "id": "PfQ_VrYc65oN",
    "outputId": "b9a6979a-c8b3-44e4-a83b-ddda86b51b27"
   },
   "outputs": [
    {
     "data": {
      "text/plain": [
       "<matplotlib.collections.PathCollection at 0x1c192702250>"
      ]
     },
     "execution_count": 88,
     "metadata": {},
     "output_type": "execute_result"
    },
    {
     "data": {
      "image/png": "[encoded data removed]",
      "text/plain": [
       "<Figure size 432x288 with 1 Axes>"
      ]
     },
     "metadata": {
      "needs_background": "light"
     },
     "output_type": "display_data"
    }
   ],
   "source": [
    "plt.scatter(A['MPG.city'],A['Price'])"
   ]
  },
  {
   "cell_type": "code",
   "execution_count": 89,
   "metadata": {
    "colab": {
     "base_uri": "https://localhost:8080/",
     "height": 318
    },
    "executionInfo": {
     "elapsed": 1972,
     "status": "ok",
     "timestamp": 1599475896298,
     "user": {
      "displayName": "Mahesh Anand",
      "photoUrl": "https://lh3.googleusercontent.com/a-/AOh14GiAxRvO4nLPhI4SJLaIoUVmhr8lm1tddyCLyKOj=s64",
      "userId": "06788086636039591358"
     },
     "user_tz": -330
    },
    "id": "CEG1IVai0Etc",
    "outputId": "10420a9e-8665-4783-c642-b3fd41d990c5"
   },
   "outputs": [
    {
     "data": {
      "text/plain": [
       "<AxesSubplot:title={'center':'Price'}, xlabel='Passengers'>"
      ]
     },
     "execution_count": 89,
     "metadata": {},
     "output_type": "execute_result"
    },
    {
     "data": {
      "image/png": "[encoded data removed]",
      "text/plain": [
       "<Figure size 432x288 with 1 Axes>"
      ]
     },
     "metadata": {
      "needs_background": "light"
     },
     "output_type": "display_data"
    }
   ],
   "source": [
    "A.boxplot(column='Price',by='Passengers')\n",
    "# categorical variable(seat) has non linear relationship with y(price)\n",
    "# if it had then the linearity wouldve been observerd(more seat =more price)"
   ]
  },
  {
   "cell_type": "code",
   "execution_count": 90,
   "metadata": {
    "colab": {
     "base_uri": "https://localhost:8080/",
     "height": 318
    },
    "executionInfo": {
     "elapsed": 1088,
     "status": "ok",
     "timestamp": 1599476239316,
     "user": {
      "displayName": "Mahesh Anand",
      "photoUrl": "https://lh3.googleusercontent.com/a-/AOh14GiAxRvO4nLPhI4SJLaIoUVmhr8lm1tddyCLyKOj=s64",
      "userId": "06788086636039591358"
     },
     "user_tz": -330
    },
    "id": "RBdBc4Vt4oyB",
    "outputId": "992ceafe-4a5e-4a1f-af1f-b6948cc0a8db"
   },
   "outputs": [
    {
     "data": {
      "text/plain": [
       "<AxesSubplot:title={'center':'Price'}, xlabel='Cylinders'>"
      ]
     },
     "execution_count": 90,
     "metadata": {},
     "output_type": "execute_result"
    },
    {
     "data": {
      "image/png": "[encoded data removed]",
      "text/plain": [
       "<Figure size 432x288 with 1 Axes>"
      ]
     },
     "metadata": {
      "needs_background": "light"
     },
     "output_type": "display_data"
    }
   ],
   "source": [
    "A.boxplot(column='Price',by='Cylinders')"
   ]
  },
  {
   "cell_type": "code",
   "execution_count": 91,
   "metadata": {
    "colab": {
     "base_uri": "https://localhost:8080/",
     "height": 318
    },
    "executionInfo": {
     "elapsed": 1146,
     "status": "ok",
     "timestamp": 1581485639533,
     "user": {
      "displayName": "Mahesh Anand",
      "photoUrl": "https://lh3.googleusercontent.com/a-/AAuE7mDwRqsBffQmzXsc6rHxDVmepWB7mxD_zfhcK5E1=s64",
      "userId": "06788086636039591358"
     },
     "user_tz": -330
    },
    "id": "t8vHmV_kQgoy",
    "outputId": "a99acfd2-34c9-4f1e-e30e-16e4c5fc9d9a"
   },
   "outputs": [
    {
     "data": {
      "text/plain": [
       "<AxesSubplot:title={'center':'Price'}, xlabel='Origin'>"
      ]
     },
     "execution_count": 91,
     "metadata": {},
     "output_type": "execute_result"
    },
    {
     "data": {
      "image/png": "[encoded data removed]",
      "text/plain": [
       "<Figure size 432x288 with 1 Axes>"
      ]
     },
     "metadata": {
      "needs_background": "light"
     },
     "output_type": "display_data"
    }
   ],
   "source": [
    "A.boxplot(column='Price',by='Origin')"
   ]
  },
  {
   "cell_type": "code",
   "execution_count": 92,
   "metadata": {
    "colab": {
     "base_uri": "https://localhost:8080/",
     "height": 318
    },
    "executionInfo": {
     "elapsed": 1006,
     "status": "ok",
     "timestamp": 1594114820603,
     "user": {
      "displayName": "Mahesh Anand",
      "photoUrl": "https://lh3.googleusercontent.com/a-/AOh14GiAxRvO4nLPhI4SJLaIoUVmhr8lm1tddyCLyKOj=s64",
      "userId": "06788086636039591358"
     },
     "user_tz": -330
    },
    "id": "FN1eujBU6qFJ",
    "outputId": "a466bccb-f560-467e-9ea2-70e827170155"
   },
   "outputs": [
    {
     "data": {
      "text/plain": [
       "<AxesSubplot:title={'center':'Price'}, xlabel='AirBags'>"
      ]
     },
     "execution_count": 92,
     "metadata": {},
     "output_type": "execute_result"
    },
    {
     "data": {
      "image/png": "[encoded data removed]",
      "text/plain": [
       "<Figure size 432x288 with 1 Axes>"
      ]
     },
     "metadata": {
      "needs_background": "light"
     },
     "output_type": "display_data"
    }
   ],
   "source": [
    "A.boxplot(column='Price',by='AirBags')\n",
    "# it has Linear Relationship"
   ]
  },
  {
   "cell_type": "code",
   "execution_count": 93,
   "metadata": {
    "colab": {
     "base_uri": "https://localhost:8080/",
     "height": 72
    },
    "executionInfo": {
     "elapsed": 1174,
     "status": "ok",
     "timestamp": 1571208591797,
     "user": {
      "displayName": "Mahesh Anand",
      "photoUrl": "https://lh3.googleusercontent.com/a-/AAuE7mDwRqsBffQmzXsc6rHxDVmepWB7mxD_zfhcK5E1=s64",
      "userId": "06788086636039591358"
     },
     "user_tz": -330
    },
    "id": "Faw_1PCJUD9h",
    "outputId": "a8f42d22-da33-4c7e-955b-83b1ea36a7a5"
   },
   "outputs": [
    {
     "data": {
      "text/plain": [
       "Yes    61\n",
       "No     32\n",
       "Name: Man.trans.avail, dtype: int64"
      ]
     },
     "execution_count": 93,
     "metadata": {},
     "output_type": "execute_result"
    }
   ],
   "source": [
    "A['Man.trans.avail'].value_counts()"
   ]
  },
  {
   "cell_type": "code",
   "execution_count": 94,
   "metadata": {
    "colab": {
     "base_uri": "https://localhost:8080/",
     "height": 318
    },
    "executionInfo": {
     "elapsed": 1165,
     "status": "ok",
     "timestamp": 1591079459132,
     "user": {
      "displayName": "Mahesh Anand",
      "photoUrl": "https://lh3.googleusercontent.com/a-/AOh14GiAxRvO4nLPhI4SJLaIoUVmhr8lm1tddyCLyKOj=s64",
      "userId": "06788086636039591358"
     },
     "user_tz": -330
    },
    "id": "hlwNQ0EKuYda",
    "outputId": "a3d25ed1-cb23-4243-bbef-29b176f2c2b0"
   },
   "outputs": [
    {
     "data": {
      "text/plain": [
       "<AxesSubplot:title={'center':'Price'}, xlabel='Man.trans.avail'>"
      ]
     },
     "execution_count": 94,
     "metadata": {},
     "output_type": "execute_result"
    },
    {
     "data": {
      "image/png": "[encoded data removed]",
      "text/plain": [
       "<Figure size 432x288 with 1 Axes>"
      ]
     },
     "metadata": {
      "needs_background": "light"
     },
     "output_type": "display_data"
    }
   ],
   "source": [
    "A.boxplot(column='Price',by='Man.trans.avail')"
   ]
  },
  {
   "cell_type": "code",
   "execution_count": 95,
   "metadata": {
    "colab": {
     "base_uri": "https://localhost:8080/",
     "height": 318
    },
    "executionInfo": {
     "elapsed": 1128,
     "status": "ok",
     "timestamp": 1582009955124,
     "user": {
      "displayName": "Mahesh Anand",
      "photoUrl": "https://lh3.googleusercontent.com/a-/AAuE7mDwRqsBffQmzXsc6rHxDVmepWB7mxD_zfhcK5E1=s64",
      "userId": "06788086636039591358"
     },
     "user_tz": -330
    },
    "id": "ym3Hn2M4BVk-",
    "outputId": "94571220-f498-4f46-c06f-813790134a37"
   },
   "outputs": [
    {
     "data": {
      "text/plain": [
       "<AxesSubplot:title={'center':'Price'}, xlabel='DriveTrain'>"
      ]
     },
     "execution_count": 95,
     "metadata": {},
     "output_type": "execute_result"
    },
    {
     "data": {
      "image/png": "[encoded data removed]",
      "text/plain": [
       "<Figure size 432x288 with 1 Axes>"
      ]
     },
     "metadata": {
      "needs_background": "light"
     },
     "output_type": "display_data"
    }
   ],
   "source": [
    "A.boxplot(column='Price',by='DriveTrain')"
   ]
  },
  {
   "cell_type": "code",
   "execution_count": 96,
   "metadata": {
    "id": "zy-kgFs_bPyL"
   },
   "outputs": [],
   "source": [
    "#Bigdata (10K to 100K) = dropna\n",
    "#Dataset size (500-2000)upto 5-10% of size of n = Median Imputation or random sampling\n",
    "#Dataset around 1000, 10-20% of record is missing = KNN Imputer (preserve your distribution)"
   ]
  },
  {
   "cell_type": "code",
   "execution_count": 7,
   "metadata": {
    "id": "_ydpIPZhalLO"
   },
   "outputs": [],
   "source": [
    "A['Rear.seat.room'].fillna(A['Rear.seat.room'].median(),inplace=True)\n",
    "A['Luggage.room'].fillna(A['Luggage.room'].median(),inplace=True)"
   ]
  },
  {
   "cell_type": "code",
   "execution_count": 98,
   "metadata": {
    "colab": {
     "base_uri": "https://localhost:8080/",
     "height": 206
    },
    "executionInfo": {
     "elapsed": 563,
     "status": "ok",
     "timestamp": 1641632385339,
     "user": {
      "displayName": "Mahesh Anand",
      "photoUrl": "https://lh3.googleusercontent.com/a-/AOh14GjrgsRhu_m9R1mX1R2osLnbO2LcUFIvlC-8Zz6HBA=s64",
      "userId": "06788086636039591358"
     },
     "user_tz": -330
    },
    "id": "eJ6aZhc0dlDS",
    "outputId": "bacd7817-6c10-46ec-8be3-a871272e4908"
   },
   "outputs": [
    {
     "data": {
      "text/html": [
       "<div>\n",
       "<style scoped>\n",
       "    .dataframe tbody tr th:only-of-type {\n",
       "        vertical-align: middle;\n",
       "    }\n",
       "\n",
       "    .dataframe tbody tr th {\n",
       "        vertical-align: top;\n",
       "    }\n",
       "\n",
       "    .dataframe thead th {\n",
       "        text-align: right;\n",
       "    }\n",
       "</style>\n",
       "<table border=\"1\" class=\"dataframe\">\n",
       "  <thead>\n",
       "    <tr style=\"text-align: right;\">\n",
       "      <th></th>\n",
       "      <th>x1</th>\n",
       "      <th>x2</th>\n",
       "      <th>x3</th>\n",
       "    </tr>\n",
       "  </thead>\n",
       "  <tbody>\n",
       "    <tr>\n",
       "      <th>0</th>\n",
       "      <td>3.0</td>\n",
       "      <td>5</td>\n",
       "      <td>NaN</td>\n",
       "    </tr>\n",
       "    <tr>\n",
       "      <th>1</th>\n",
       "      <td>8.0</td>\n",
       "      <td>2</td>\n",
       "      <td>9.0</td>\n",
       "    </tr>\n",
       "    <tr>\n",
       "      <th>2</th>\n",
       "      <td>NaN</td>\n",
       "      <td>7</td>\n",
       "      <td>8.0</td>\n",
       "    </tr>\n",
       "    <tr>\n",
       "      <th>3</th>\n",
       "      <td>5.0</td>\n",
       "      <td>8</td>\n",
       "      <td>2.0</td>\n",
       "    </tr>\n",
       "    <tr>\n",
       "      <th>4</th>\n",
       "      <td>10.0</td>\n",
       "      <td>9</td>\n",
       "      <td>5.0</td>\n",
       "    </tr>\n",
       "  </tbody>\n",
       "</table>\n",
       "</div>"
      ],
      "text/plain": [
       "     x1  x2   x3\n",
       "0   3.0   5  NaN\n",
       "1   8.0   2  9.0\n",
       "2   NaN   7  8.0\n",
       "3   5.0   8  2.0\n",
       "4  10.0   9  5.0"
      ]
     },
     "execution_count": 98,
     "metadata": {},
     "output_type": "execute_result"
    }
   ],
   "source": [
    "test=pd.DataFrame({'x1':[3,8,np.nan,5,10],'x2':[5,2,7,8,9],'x3':[np.nan,9,8,2,5]})\n",
    "test"
   ]
  },
  {
   "cell_type": "code",
   "execution_count": 99,
   "metadata": {
    "id": "6WD3s_xkgWua"
   },
   "outputs": [],
   "source": [
    "from sklearn.impute import KNNImputer\n",
    "#by default it is recursive"
   ]
  },
  {
   "cell_type": "code",
   "execution_count": 100,
   "metadata": {
    "colab": {
     "base_uri": "https://localhost:8080/"
    },
    "executionInfo": {
     "elapsed": 513,
     "status": "ok",
     "timestamp": 1641632388316,
     "user": {
      "displayName": "Mahesh Anand",
      "photoUrl": "https://lh3.googleusercontent.com/a-/AOh14GjrgsRhu_m9R1mX1R2osLnbO2LcUFIvlC-8Zz6HBA=s64",
      "userId": "06788086636039591358"
     },
     "user_tz": -330
    },
    "id": "LBF1P524gdXZ",
    "outputId": "b0124719-7dd6-4ae1-8f8d-e81499800e98"
   },
   "outputs": [
    {
     "data": {
      "text/plain": [
       "array([[ 3. ,  5. ,  5. ],\n",
       "       [ 8. ,  2. ,  9. ],\n",
       "       [ 6.5,  7. ,  8. ],\n",
       "       [ 5. ,  8. ,  2. ],\n",
       "       [10. ,  9. ,  5. ]])"
      ]
     },
     "execution_count": 100,
     "metadata": {},
     "output_type": "execute_result"
    }
   ],
   "source": [
    "Imp=KNNImputer(n_neighbors=2)\n",
    "Imp.fit_transform(test)"
   ]
  },
  {
   "cell_type": "code",
   "execution_count": 101,
   "metadata": {
    "id": "rwXgwp9veHX4"
   },
   "outputs": [],
   "source": [
    "#using KNN imputer (n_neigh=2)\n",
    "#test-1=8\n",
    "#test-3=5\n",
    "#test-4=11"
   ]
  },
  {
   "cell_type": "code",
   "execution_count": 8,
   "metadata": {
    "executionInfo": {
     "elapsed": 399,
     "status": "ok",
     "timestamp": 1671594364710,
     "user": {
      "displayName": "Mahesh Anand",
      "userId": "06788086636039591358"
     },
     "user_tz": -330
    },
    "id": "C1ivX3UzUN4t"
   },
   "outputs": [],
   "source": [
    "A['Rear.seat.room'].fillna(0,inplace=True)\n",
    "A['Luggage.room'].fillna(0,inplace=True)"
   ]
  },
  {
   "cell_type": "code",
   "execution_count": 9,
   "metadata": {
    "colab": {
     "base_uri": "https://localhost:8080/"
    },
    "executionInfo": {
     "elapsed": 443,
     "status": "ok",
     "timestamp": 1671594366571,
     "user": {
      "displayName": "Mahesh Anand",
      "userId": "06788086636039591358"
     },
     "user_tz": -330
    },
    "id": "dnkcunL2USy_",
    "outputId": "43b24d0a-c317-48bb-bec6-315fe1e62099"
   },
   "outputs": [
    {
     "name": "stdout",
     "output_type": "stream",
     "text": [
      "<class 'pandas.core.frame.DataFrame'>\n",
      "Int64Index: 93 entries, 1 to 93\n",
      "Data columns (total 27 columns):\n",
      " #   Column              Non-Null Count  Dtype  \n",
      "---  ------              --------------  -----  \n",
      " 0   Manufacturer        93 non-null     object \n",
      " 1   Model               93 non-null     object \n",
      " 2   Type                93 non-null     object \n",
      " 3   Min.Price           93 non-null     float64\n",
      " 4   Price               93 non-null     float64\n",
      " 5   Max.Price           93 non-null     float64\n",
      " 6   MPG.city            93 non-null     int64  \n",
      " 7   MPG.highway         93 non-null     int64  \n",
      " 8   AirBags             93 non-null     object \n",
      " 9   DriveTrain          93 non-null     object \n",
      " 10  Cylinders           93 non-null     object \n",
      " 11  EngineSize          93 non-null     float64\n",
      " 12  Horsepower          93 non-null     int64  \n",
      " 13  RPM                 93 non-null     int64  \n",
      " 14  Rev.per.mile        93 non-null     int64  \n",
      " 15  Man.trans.avail     93 non-null     object \n",
      " 16  Fuel.tank.capacity  93 non-null     float64\n",
      " 17  Passengers          93 non-null     int64  \n",
      " 18  Length              93 non-null     int64  \n",
      " 19  Wheelbase           93 non-null     int64  \n",
      " 20  Width               93 non-null     int64  \n",
      " 21  Turn.circle         93 non-null     int64  \n",
      " 22  Rear.seat.room      93 non-null     float64\n",
      " 23  Luggage.room        93 non-null     float64\n",
      " 24  Weight              93 non-null     int64  \n",
      " 25  Origin              93 non-null     object \n",
      " 26  Make                93 non-null     object \n",
      "dtypes: float64(7), int64(11), object(9)\n",
      "memory usage: 20.3+ KB\n"
     ]
    }
   ],
   "source": [
    "A.info()"
   ]
  },
  {
   "cell_type": "code",
   "execution_count": 104,
   "metadata": {
    "executionInfo": {
     "elapsed": 3,
     "status": "ok",
     "timestamp": 1671594371134,
     "user": {
      "displayName": "Mahesh Anand",
      "userId": "06788086636039591358"
     },
     "user_tz": -330
    },
    "id": "t0UtOwV-z3sT"
   },
   "outputs": [],
   "source": [
    "A['Passengers']=A['Passengers'].astype('object')"
   ]
  },
  {
   "cell_type": "code",
   "execution_count": 105,
   "metadata": {
    "colab": {
     "base_uri": "https://localhost:8080/"
    },
    "executionInfo": {
     "elapsed": 599,
     "status": "ok",
     "timestamp": 1653978737461,
     "user": {
      "displayName": "Mahesh Anand",
      "userId": "06788086636039591358"
     },
     "user_tz": -330
    },
    "id": "M5wNLy1W0HAg",
    "outputId": "4f379b1f-01b5-4aba-d393-5d4ad9fe2daa"
   },
   "outputs": [
    {
     "name": "stdout",
     "output_type": "stream",
     "text": [
      "<class 'pandas.core.frame.DataFrame'>\n",
      "Int64Index: 93 entries, 1 to 93\n",
      "Data columns (total 27 columns):\n",
      " #   Column              Non-Null Count  Dtype  \n",
      "---  ------              --------------  -----  \n",
      " 0   Manufacturer        93 non-null     object \n",
      " 1   Model               93 non-null     object \n",
      " 2   Type                93 non-null     object \n",
      " 3   Min.Price           93 non-null     float64\n",
      " 4   Price               93 non-null     float64\n",
      " 5   Max.Price           93 non-null     float64\n",
      " 6   MPG.city            93 non-null     int64  \n",
      " 7   MPG.highway         93 non-null     int64  \n",
      " 8   AirBags             93 non-null     object \n",
      " 9   DriveTrain          93 non-null     object \n",
      " 10  Cylinders           93 non-null     object \n",
      " 11  EngineSize          93 non-null     float64\n",
      " 12  Horsepower          93 non-null     int64  \n",
      " 13  RPM                 93 non-null     int64  \n",
      " 14  Rev.per.mile        93 non-null     int64  \n",
      " 15  Man.trans.avail     93 non-null     object \n",
      " 16  Fuel.tank.capacity  93 non-null     float64\n",
      " 17  Passengers          93 non-null     object \n",
      " 18  Length              93 non-null     int64  \n",
      " 19  Wheelbase           93 non-null     int64  \n",
      " 20  Width               93 non-null     int64  \n",
      " 21  Turn.circle         93 non-null     int64  \n",
      " 22  Rear.seat.room      93 non-null     float64\n",
      " 23  Luggage.room        93 non-null     float64\n",
      " 24  Weight              93 non-null     int64  \n",
      " 25  Origin              93 non-null     object \n",
      " 26  Make                93 non-null     object \n",
      "dtypes: float64(7), int64(10), object(10)\n",
      "memory usage: 20.3+ KB\n"
     ]
    }
   ],
   "source": [
    "A.info()"
   ]
  },
  {
   "cell_type": "code",
   "execution_count": 10,
   "metadata": {
    "colab": {
     "base_uri": "https://localhost:8080/",
     "height": 386
    },
    "executionInfo": {
     "elapsed": 7,
     "status": "ok",
     "timestamp": 1671594374737,
     "user": {
      "displayName": "Mahesh Anand",
      "userId": "06788086636039591358"
     },
     "user_tz": -330
    },
    "id": "FmYz1upQX4kK",
    "outputId": "f6ab6e6c-6f8a-4731-c846-df04e8d8cd22"
   },
   "outputs": [
    {
     "data": {
      "text/html": [
       "<div>\n",
       "<style scoped>\n",
       "    .dataframe tbody tr th:only-of-type {\n",
       "        vertical-align: middle;\n",
       "    }\n",
       "\n",
       "    .dataframe tbody tr th {\n",
       "        vertical-align: top;\n",
       "    }\n",
       "\n",
       "    .dataframe thead th {\n",
       "        text-align: right;\n",
       "    }\n",
       "</style>\n",
       "<table border=\"1\" class=\"dataframe\">\n",
       "  <thead>\n",
       "    <tr style=\"text-align: right;\">\n",
       "      <th></th>\n",
       "      <th>Type</th>\n",
       "      <th>MPG.city</th>\n",
       "      <th>MPG.highway</th>\n",
       "      <th>AirBags</th>\n",
       "      <th>DriveTrain</th>\n",
       "      <th>Cylinders</th>\n",
       "      <th>EngineSize</th>\n",
       "      <th>Horsepower</th>\n",
       "      <th>RPM</th>\n",
       "      <th>Rev.per.mile</th>\n",
       "      <th>Man.trans.avail</th>\n",
       "      <th>Fuel.tank.capacity</th>\n",
       "      <th>Passengers</th>\n",
       "      <th>Length</th>\n",
       "      <th>Wheelbase</th>\n",
       "      <th>Width</th>\n",
       "      <th>Turn.circle</th>\n",
       "      <th>Rear.seat.room</th>\n",
       "      <th>Luggage.room</th>\n",
       "      <th>Weight</th>\n",
       "      <th>Origin</th>\n",
       "    </tr>\n",
       "  </thead>\n",
       "  <tbody>\n",
       "    <tr>\n",
       "      <th>1</th>\n",
       "      <td>Small</td>\n",
       "      <td>25</td>\n",
       "      <td>31</td>\n",
       "      <td>None</td>\n",
       "      <td>Front</td>\n",
       "      <td>4</td>\n",
       "      <td>1.8</td>\n",
       "      <td>140</td>\n",
       "      <td>6300</td>\n",
       "      <td>2890</td>\n",
       "      <td>Yes</td>\n",
       "      <td>13.2</td>\n",
       "      <td>5</td>\n",
       "      <td>177</td>\n",
       "      <td>102</td>\n",
       "      <td>68</td>\n",
       "      <td>37</td>\n",
       "      <td>26.5</td>\n",
       "      <td>11.0</td>\n",
       "      <td>2705</td>\n",
       "      <td>non-USA</td>\n",
       "    </tr>\n",
       "    <tr>\n",
       "      <th>2</th>\n",
       "      <td>Midsize</td>\n",
       "      <td>18</td>\n",
       "      <td>25</td>\n",
       "      <td>Driver &amp; Passenger</td>\n",
       "      <td>Front</td>\n",
       "      <td>6</td>\n",
       "      <td>3.2</td>\n",
       "      <td>200</td>\n",
       "      <td>5500</td>\n",
       "      <td>2335</td>\n",
       "      <td>Yes</td>\n",
       "      <td>18.0</td>\n",
       "      <td>5</td>\n",
       "      <td>195</td>\n",
       "      <td>115</td>\n",
       "      <td>71</td>\n",
       "      <td>38</td>\n",
       "      <td>30.0</td>\n",
       "      <td>15.0</td>\n",
       "      <td>3560</td>\n",
       "      <td>non-USA</td>\n",
       "    </tr>\n",
       "    <tr>\n",
       "      <th>3</th>\n",
       "      <td>Compact</td>\n",
       "      <td>20</td>\n",
       "      <td>26</td>\n",
       "      <td>Driver only</td>\n",
       "      <td>Front</td>\n",
       "      <td>6</td>\n",
       "      <td>2.8</td>\n",
       "      <td>172</td>\n",
       "      <td>5500</td>\n",
       "      <td>2280</td>\n",
       "      <td>Yes</td>\n",
       "      <td>16.9</td>\n",
       "      <td>5</td>\n",
       "      <td>180</td>\n",
       "      <td>102</td>\n",
       "      <td>67</td>\n",
       "      <td>37</td>\n",
       "      <td>28.0</td>\n",
       "      <td>14.0</td>\n",
       "      <td>3375</td>\n",
       "      <td>non-USA</td>\n",
       "    </tr>\n",
       "    <tr>\n",
       "      <th>4</th>\n",
       "      <td>Midsize</td>\n",
       "      <td>19</td>\n",
       "      <td>26</td>\n",
       "      <td>Driver &amp; Passenger</td>\n",
       "      <td>Front</td>\n",
       "      <td>6</td>\n",
       "      <td>2.8</td>\n",
       "      <td>172</td>\n",
       "      <td>5500</td>\n",
       "      <td>2535</td>\n",
       "      <td>Yes</td>\n",
       "      <td>21.1</td>\n",
       "      <td>6</td>\n",
       "      <td>193</td>\n",
       "      <td>106</td>\n",
       "      <td>70</td>\n",
       "      <td>37</td>\n",
       "      <td>31.0</td>\n",
       "      <td>17.0</td>\n",
       "      <td>3405</td>\n",
       "      <td>non-USA</td>\n",
       "    </tr>\n",
       "    <tr>\n",
       "      <th>5</th>\n",
       "      <td>Midsize</td>\n",
       "      <td>22</td>\n",
       "      <td>30</td>\n",
       "      <td>Driver only</td>\n",
       "      <td>Rear</td>\n",
       "      <td>4</td>\n",
       "      <td>3.5</td>\n",
       "      <td>208</td>\n",
       "      <td>5700</td>\n",
       "      <td>2545</td>\n",
       "      <td>Yes</td>\n",
       "      <td>21.1</td>\n",
       "      <td>4</td>\n",
       "      <td>186</td>\n",
       "      <td>109</td>\n",
       "      <td>69</td>\n",
       "      <td>39</td>\n",
       "      <td>27.0</td>\n",
       "      <td>13.0</td>\n",
       "      <td>3640</td>\n",
       "      <td>non-USA</td>\n",
       "    </tr>\n",
       "  </tbody>\n",
       "</table>\n",
       "</div>"
      ],
      "text/plain": [
       "      Type  MPG.city  MPG.highway             AirBags DriveTrain Cylinders  \\\n",
       "1    Small        25           31                None      Front         4   \n",
       "2  Midsize        18           25  Driver & Passenger      Front         6   \n",
       "3  Compact        20           26         Driver only      Front         6   \n",
       "4  Midsize        19           26  Driver & Passenger      Front         6   \n",
       "5  Midsize        22           30         Driver only       Rear         4   \n",
       "\n",
       "   EngineSize  Horsepower   RPM  Rev.per.mile Man.trans.avail  \\\n",
       "1         1.8         140  6300          2890             Yes   \n",
       "2         3.2         200  5500          2335             Yes   \n",
       "3         2.8         172  5500          2280             Yes   \n",
       "4         2.8         172  5500          2535             Yes   \n",
       "5         3.5         208  5700          2545             Yes   \n",
       "\n",
       "   Fuel.tank.capacity  Passengers  Length  Wheelbase  Width  Turn.circle  \\\n",
       "1                13.2           5     177        102     68           37   \n",
       "2                18.0           5     195        115     71           38   \n",
       "3                16.9           5     180        102     67           37   \n",
       "4                21.1           6     193        106     70           37   \n",
       "5                21.1           4     186        109     69           39   \n",
       "\n",
       "   Rear.seat.room  Luggage.room  Weight   Origin  \n",
       "1            26.5          11.0    2705  non-USA  \n",
       "2            30.0          15.0    3560  non-USA  \n",
       "3            28.0          14.0    3375  non-USA  \n",
       "4            31.0          17.0    3405  non-USA  \n",
       "5            27.0          13.0    3640  non-USA  "
      ]
     },
     "execution_count": 10,
     "metadata": {},
     "output_type": "execute_result"
    }
   ],
   "source": [
    "#Create a B data frame by dropping unwanted columns based on business context\n",
    "B=A.drop(['Manufacturer','Model','Min.Price','Max.Price','Price','Make'],axis=1)\n",
    "B.head()"
   ]
  },
  {
   "cell_type": "code",
   "execution_count": 107,
   "metadata": {
    "colab": {
     "base_uri": "https://localhost:8080/"
    },
    "executionInfo": {
     "elapsed": 408,
     "status": "ok",
     "timestamp": 1671530666754,
     "user": {
      "displayName": "Mahesh Anand",
      "userId": "06788086636039591358"
     },
     "user_tz": -330
    },
    "id": "Jkn9Krjn_cOH",
    "outputId": "63603ec9-1fe4-452e-bf01-a257f84f0a21"
   },
   "outputs": [
    {
     "name": "stdout",
     "output_type": "stream",
     "text": [
      "<class 'pandas.core.frame.DataFrame'>\n",
      "Int64Index: 93 entries, 1 to 93\n",
      "Data columns (total 21 columns):\n",
      " #   Column              Non-Null Count  Dtype  \n",
      "---  ------              --------------  -----  \n",
      " 0   Type                93 non-null     object \n",
      " 1   MPG.city            93 non-null     int64  \n",
      " 2   MPG.highway         93 non-null     int64  \n",
      " 3   AirBags             93 non-null     object \n",
      " 4   DriveTrain          93 non-null     object \n",
      " 5   Cylinders           93 non-null     object \n",
      " 6   EngineSize          93 non-null     float64\n",
      " 7   Horsepower          93 non-null     int64  \n",
      " 8   RPM                 93 non-null     int64  \n",
      " 9   Rev.per.mile        93 non-null     int64  \n",
      " 10  Man.trans.avail     93 non-null     object \n",
      " 11  Fuel.tank.capacity  93 non-null     float64\n",
      " 12  Passengers          93 non-null     object \n",
      " 13  Length              93 non-null     int64  \n",
      " 14  Wheelbase           93 non-null     int64  \n",
      " 15  Width               93 non-null     int64  \n",
      " 16  Turn.circle         93 non-null     int64  \n",
      " 17  Rear.seat.room      93 non-null     float64\n",
      " 18  Luggage.room        93 non-null     float64\n",
      " 19  Weight              93 non-null     int64  \n",
      " 20  Origin              93 non-null     object \n",
      "dtypes: float64(4), int64(10), object(7)\n",
      "memory usage: 16.0+ KB\n"
     ]
    }
   ],
   "source": [
    "B.info()"
   ]
  },
  {
   "cell_type": "code",
   "execution_count": 11,
   "metadata": {
    "colab": {
     "base_uri": "https://localhost:8080/",
     "height": 270
    },
    "executionInfo": {
     "elapsed": 635,
     "status": "ok",
     "timestamp": 1671594381384,
     "user": {
      "displayName": "Mahesh Anand",
      "userId": "06788086636039591358"
     },
     "user_tz": -330
    },
    "id": "LhjdijZDKHUV",
    "outputId": "bcd6d6c0-ea6c-49d4-ab59-ac8553701ea1"
   },
   "outputs": [
    {
     "data": {
      "text/html": [
       "<div>\n",
       "<style scoped>\n",
       "    .dataframe tbody tr th:only-of-type {\n",
       "        vertical-align: middle;\n",
       "    }\n",
       "\n",
       "    .dataframe tbody tr th {\n",
       "        vertical-align: top;\n",
       "    }\n",
       "\n",
       "    .dataframe thead th {\n",
       "        text-align: right;\n",
       "    }\n",
       "</style>\n",
       "<table border=\"1\" class=\"dataframe\">\n",
       "  <thead>\n",
       "    <tr style=\"text-align: right;\">\n",
       "      <th></th>\n",
       "      <th>MPG.city</th>\n",
       "      <th>MPG.highway</th>\n",
       "      <th>EngineSize</th>\n",
       "      <th>Horsepower</th>\n",
       "      <th>RPM</th>\n",
       "      <th>Rev.per.mile</th>\n",
       "      <th>Fuel.tank.capacity</th>\n",
       "      <th>Passengers</th>\n",
       "      <th>Length</th>\n",
       "      <th>Wheelbase</th>\n",
       "      <th>Width</th>\n",
       "      <th>Turn.circle</th>\n",
       "      <th>Rear.seat.room</th>\n",
       "      <th>Luggage.room</th>\n",
       "      <th>Weight</th>\n",
       "    </tr>\n",
       "  </thead>\n",
       "  <tbody>\n",
       "    <tr>\n",
       "      <th>1</th>\n",
       "      <td>25</td>\n",
       "      <td>31</td>\n",
       "      <td>1.8</td>\n",
       "      <td>140</td>\n",
       "      <td>6300</td>\n",
       "      <td>2890</td>\n",
       "      <td>13.2</td>\n",
       "      <td>5</td>\n",
       "      <td>177</td>\n",
       "      <td>102</td>\n",
       "      <td>68</td>\n",
       "      <td>37</td>\n",
       "      <td>26.5</td>\n",
       "      <td>11.0</td>\n",
       "      <td>2705</td>\n",
       "    </tr>\n",
       "    <tr>\n",
       "      <th>2</th>\n",
       "      <td>18</td>\n",
       "      <td>25</td>\n",
       "      <td>3.2</td>\n",
       "      <td>200</td>\n",
       "      <td>5500</td>\n",
       "      <td>2335</td>\n",
       "      <td>18.0</td>\n",
       "      <td>5</td>\n",
       "      <td>195</td>\n",
       "      <td>115</td>\n",
       "      <td>71</td>\n",
       "      <td>38</td>\n",
       "      <td>30.0</td>\n",
       "      <td>15.0</td>\n",
       "      <td>3560</td>\n",
       "    </tr>\n",
       "    <tr>\n",
       "      <th>3</th>\n",
       "      <td>20</td>\n",
       "      <td>26</td>\n",
       "      <td>2.8</td>\n",
       "      <td>172</td>\n",
       "      <td>5500</td>\n",
       "      <td>2280</td>\n",
       "      <td>16.9</td>\n",
       "      <td>5</td>\n",
       "      <td>180</td>\n",
       "      <td>102</td>\n",
       "      <td>67</td>\n",
       "      <td>37</td>\n",
       "      <td>28.0</td>\n",
       "      <td>14.0</td>\n",
       "      <td>3375</td>\n",
       "    </tr>\n",
       "    <tr>\n",
       "      <th>4</th>\n",
       "      <td>19</td>\n",
       "      <td>26</td>\n",
       "      <td>2.8</td>\n",
       "      <td>172</td>\n",
       "      <td>5500</td>\n",
       "      <td>2535</td>\n",
       "      <td>21.1</td>\n",
       "      <td>6</td>\n",
       "      <td>193</td>\n",
       "      <td>106</td>\n",
       "      <td>70</td>\n",
       "      <td>37</td>\n",
       "      <td>31.0</td>\n",
       "      <td>17.0</td>\n",
       "      <td>3405</td>\n",
       "    </tr>\n",
       "    <tr>\n",
       "      <th>5</th>\n",
       "      <td>22</td>\n",
       "      <td>30</td>\n",
       "      <td>3.5</td>\n",
       "      <td>208</td>\n",
       "      <td>5700</td>\n",
       "      <td>2545</td>\n",
       "      <td>21.1</td>\n",
       "      <td>4</td>\n",
       "      <td>186</td>\n",
       "      <td>109</td>\n",
       "      <td>69</td>\n",
       "      <td>39</td>\n",
       "      <td>27.0</td>\n",
       "      <td>13.0</td>\n",
       "      <td>3640</td>\n",
       "    </tr>\n",
       "  </tbody>\n",
       "</table>\n",
       "</div>"
      ],
      "text/plain": [
       "   MPG.city  MPG.highway  EngineSize  Horsepower   RPM  Rev.per.mile  \\\n",
       "1        25           31         1.8         140  6300          2890   \n",
       "2        18           25         3.2         200  5500          2335   \n",
       "3        20           26         2.8         172  5500          2280   \n",
       "4        19           26         2.8         172  5500          2535   \n",
       "5        22           30         3.5         208  5700          2545   \n",
       "\n",
       "   Fuel.tank.capacity  Passengers  Length  Wheelbase  Width  Turn.circle  \\\n",
       "1                13.2           5     177        102     68           37   \n",
       "2                18.0           5     195        115     71           38   \n",
       "3                16.9           5     180        102     67           37   \n",
       "4                21.1           6     193        106     70           37   \n",
       "5                21.1           4     186        109     69           39   \n",
       "\n",
       "   Rear.seat.room  Luggage.room  Weight  \n",
       "1            26.5          11.0    2705  \n",
       "2            30.0          15.0    3560  \n",
       "3            28.0          14.0    3375  \n",
       "4            31.0          17.0    3405  \n",
       "5            27.0          13.0    3640  "
      ]
     },
     "execution_count": 11,
     "metadata": {},
     "output_type": "execute_result"
    }
   ],
   "source": [
    "df_num = B.select_dtypes(include = [np.number])\n",
    "df_num.head()"
   ]
  },
  {
   "cell_type": "code",
   "execution_count": 12,
   "metadata": {
    "colab": {
     "base_uri": "https://localhost:8080/",
     "height": 337
    },
    "executionInfo": {
     "elapsed": 431,
     "status": "ok",
     "timestamp": 1671594387506,
     "user": {
      "displayName": "Mahesh Anand",
      "userId": "06788086636039591358"
     },
     "user_tz": -330
    },
    "id": "W0HmJ4jXJf5M",
    "outputId": "2a74bccc-d280-4cf1-bc75-3809325a93cf"
   },
   "outputs": [
    {
     "data": {
      "text/html": [
       "<div>\n",
       "<style scoped>\n",
       "    .dataframe tbody tr th:only-of-type {\n",
       "        vertical-align: middle;\n",
       "    }\n",
       "\n",
       "    .dataframe tbody tr th {\n",
       "        vertical-align: top;\n",
       "    }\n",
       "\n",
       "    .dataframe thead th {\n",
       "        text-align: right;\n",
       "    }\n",
       "</style>\n",
       "<table border=\"1\" class=\"dataframe\">\n",
       "  <thead>\n",
       "    <tr style=\"text-align: right;\">\n",
       "      <th></th>\n",
       "      <th>Type</th>\n",
       "      <th>AirBags</th>\n",
       "      <th>DriveTrain</th>\n",
       "      <th>Cylinders</th>\n",
       "      <th>Man.trans.avail</th>\n",
       "      <th>Origin</th>\n",
       "    </tr>\n",
       "  </thead>\n",
       "  <tbody>\n",
       "    <tr>\n",
       "      <th>1</th>\n",
       "      <td>Small</td>\n",
       "      <td>None</td>\n",
       "      <td>Front</td>\n",
       "      <td>4</td>\n",
       "      <td>Yes</td>\n",
       "      <td>non-USA</td>\n",
       "    </tr>\n",
       "    <tr>\n",
       "      <th>2</th>\n",
       "      <td>Midsize</td>\n",
       "      <td>Driver &amp; Passenger</td>\n",
       "      <td>Front</td>\n",
       "      <td>6</td>\n",
       "      <td>Yes</td>\n",
       "      <td>non-USA</td>\n",
       "    </tr>\n",
       "    <tr>\n",
       "      <th>3</th>\n",
       "      <td>Compact</td>\n",
       "      <td>Driver only</td>\n",
       "      <td>Front</td>\n",
       "      <td>6</td>\n",
       "      <td>Yes</td>\n",
       "      <td>non-USA</td>\n",
       "    </tr>\n",
       "    <tr>\n",
       "      <th>4</th>\n",
       "      <td>Midsize</td>\n",
       "      <td>Driver &amp; Passenger</td>\n",
       "      <td>Front</td>\n",
       "      <td>6</td>\n",
       "      <td>Yes</td>\n",
       "      <td>non-USA</td>\n",
       "    </tr>\n",
       "    <tr>\n",
       "      <th>5</th>\n",
       "      <td>Midsize</td>\n",
       "      <td>Driver only</td>\n",
       "      <td>Rear</td>\n",
       "      <td>4</td>\n",
       "      <td>Yes</td>\n",
       "      <td>non-USA</td>\n",
       "    </tr>\n",
       "  </tbody>\n",
       "</table>\n",
       "</div>"
      ],
      "text/plain": [
       "      Type             AirBags DriveTrain Cylinders Man.trans.avail   Origin\n",
       "1    Small                None      Front         4             Yes  non-USA\n",
       "2  Midsize  Driver & Passenger      Front         6             Yes  non-USA\n",
       "3  Compact         Driver only      Front         6             Yes  non-USA\n",
       "4  Midsize  Driver & Passenger      Front         6             Yes  non-USA\n",
       "5  Midsize         Driver only       Rear         4             Yes  non-USA"
      ]
     },
     "execution_count": 12,
     "metadata": {},
     "output_type": "execute_result"
    }
   ],
   "source": [
    "df_cat = B.select_dtypes(include = [np.object])\n",
    "df_cat.head()"
   ]
  },
  {
   "cell_type": "code",
   "execution_count": 110,
   "metadata": {
    "colab": {
     "base_uri": "https://localhost:8080/"
    },
    "executionInfo": {
     "elapsed": 920,
     "status": "ok",
     "timestamp": 1641635866025,
     "user": {
      "displayName": "Mahesh Anand",
      "photoUrl": "https://lh3.googleusercontent.com/a-/AOh14GjrgsRhu_m9R1mX1R2osLnbO2LcUFIvlC-8Zz6HBA=s64",
      "userId": "06788086636039591358"
     },
     "user_tz": -330
    },
    "id": "MVNprMHQHyDd",
    "outputId": "d71dd150-ffe6-430d-982a-aa945d9c103d"
   },
   "outputs": [
    {
     "data": {
      "text/plain": [
       "Midsize    22\n",
       "Small      21\n",
       "Compact    16\n",
       "Sporty     14\n",
       "Large      11\n",
       "Van         9\n",
       "Name: Type, dtype: int64"
      ]
     },
     "execution_count": 110,
     "metadata": {},
     "output_type": "execute_result"
    }
   ],
   "source": [
    "df_cat['Type'].value_counts()"
   ]
  },
  {
   "cell_type": "code",
   "execution_count": 13,
   "metadata": {
    "colab": {
     "base_uri": "https://localhost:8080/",
     "height": 317
    },
    "executionInfo": {
     "elapsed": 465,
     "status": "ok",
     "timestamp": 1671594391750,
     "user": {
      "displayName": "Mahesh Anand",
      "userId": "06788086636039591358"
     },
     "user_tz": -330
    },
    "id": "7QHrQEuhJ0ZM",
    "outputId": "463ceddd-99ee-4525-962c-0995ee8625a3"
   },
   "outputs": [
    {
     "data": {
      "text/html": [
       "<div>\n",
       "<style scoped>\n",
       "    .dataframe tbody tr th:only-of-type {\n",
       "        vertical-align: middle;\n",
       "    }\n",
       "\n",
       "    .dataframe tbody tr th {\n",
       "        vertical-align: top;\n",
       "    }\n",
       "\n",
       "    .dataframe thead th {\n",
       "        text-align: right;\n",
       "    }\n",
       "</style>\n",
       "<table border=\"1\" class=\"dataframe\">\n",
       "  <thead>\n",
       "    <tr style=\"text-align: right;\">\n",
       "      <th></th>\n",
       "      <th>Type_Large</th>\n",
       "      <th>Type_Midsize</th>\n",
       "      <th>Type_Small</th>\n",
       "      <th>Type_Sporty</th>\n",
       "      <th>Type_Van</th>\n",
       "      <th>AirBags_Driver only</th>\n",
       "      <th>AirBags_None</th>\n",
       "      <th>DriveTrain_Front</th>\n",
       "      <th>DriveTrain_Rear</th>\n",
       "      <th>Cylinders_4</th>\n",
       "      <th>Cylinders_5</th>\n",
       "      <th>Cylinders_6</th>\n",
       "      <th>Cylinders_8</th>\n",
       "      <th>Cylinders_rotary</th>\n",
       "      <th>Man.trans.avail_Yes</th>\n",
       "      <th>Origin_non-USA</th>\n",
       "    </tr>\n",
       "  </thead>\n",
       "  <tbody>\n",
       "    <tr>\n",
       "      <th>1</th>\n",
       "      <td>0</td>\n",
       "      <td>0</td>\n",
       "      <td>1</td>\n",
       "      <td>0</td>\n",
       "      <td>0</td>\n",
       "      <td>0</td>\n",
       "      <td>1</td>\n",
       "      <td>1</td>\n",
       "      <td>0</td>\n",
       "      <td>1</td>\n",
       "      <td>0</td>\n",
       "      <td>0</td>\n",
       "      <td>0</td>\n",
       "      <td>0</td>\n",
       "      <td>1</td>\n",
       "      <td>1</td>\n",
       "    </tr>\n",
       "    <tr>\n",
       "      <th>2</th>\n",
       "      <td>0</td>\n",
       "      <td>1</td>\n",
       "      <td>0</td>\n",
       "      <td>0</td>\n",
       "      <td>0</td>\n",
       "      <td>0</td>\n",
       "      <td>0</td>\n",
       "      <td>1</td>\n",
       "      <td>0</td>\n",
       "      <td>0</td>\n",
       "      <td>0</td>\n",
       "      <td>1</td>\n",
       "      <td>0</td>\n",
       "      <td>0</td>\n",
       "      <td>1</td>\n",
       "      <td>1</td>\n",
       "    </tr>\n",
       "    <tr>\n",
       "      <th>3</th>\n",
       "      <td>0</td>\n",
       "      <td>0</td>\n",
       "      <td>0</td>\n",
       "      <td>0</td>\n",
       "      <td>0</td>\n",
       "      <td>1</td>\n",
       "      <td>0</td>\n",
       "      <td>1</td>\n",
       "      <td>0</td>\n",
       "      <td>0</td>\n",
       "      <td>0</td>\n",
       "      <td>1</td>\n",
       "      <td>0</td>\n",
       "      <td>0</td>\n",
       "      <td>1</td>\n",
       "      <td>1</td>\n",
       "    </tr>\n",
       "    <tr>\n",
       "      <th>4</th>\n",
       "      <td>0</td>\n",
       "      <td>1</td>\n",
       "      <td>0</td>\n",
       "      <td>0</td>\n",
       "      <td>0</td>\n",
       "      <td>0</td>\n",
       "      <td>0</td>\n",
       "      <td>1</td>\n",
       "      <td>0</td>\n",
       "      <td>0</td>\n",
       "      <td>0</td>\n",
       "      <td>1</td>\n",
       "      <td>0</td>\n",
       "      <td>0</td>\n",
       "      <td>1</td>\n",
       "      <td>1</td>\n",
       "    </tr>\n",
       "    <tr>\n",
       "      <th>5</th>\n",
       "      <td>0</td>\n",
       "      <td>1</td>\n",
       "      <td>0</td>\n",
       "      <td>0</td>\n",
       "      <td>0</td>\n",
       "      <td>1</td>\n",
       "      <td>0</td>\n",
       "      <td>0</td>\n",
       "      <td>1</td>\n",
       "      <td>1</td>\n",
       "      <td>0</td>\n",
       "      <td>0</td>\n",
       "      <td>0</td>\n",
       "      <td>0</td>\n",
       "      <td>1</td>\n",
       "      <td>1</td>\n",
       "    </tr>\n",
       "  </tbody>\n",
       "</table>\n",
       "</div>"
      ],
      "text/plain": [
       "   Type_Large  Type_Midsize  Type_Small  Type_Sporty  Type_Van  \\\n",
       "1           0             0           1            0         0   \n",
       "2           0             1           0            0         0   \n",
       "3           0             0           0            0         0   \n",
       "4           0             1           0            0         0   \n",
       "5           0             1           0            0         0   \n",
       "\n",
       "   AirBags_Driver only  AirBags_None  DriveTrain_Front  DriveTrain_Rear  \\\n",
       "1                    0             1                 1                0   \n",
       "2                    0             0                 1                0   \n",
       "3                    1             0                 1                0   \n",
       "4                    0             0                 1                0   \n",
       "5                    1             0                 0                1   \n",
       "\n",
       "   Cylinders_4  Cylinders_5  Cylinders_6  Cylinders_8  Cylinders_rotary  \\\n",
       "1            1            0            0            0                 0   \n",
       "2            0            0            1            0                 0   \n",
       "3            0            0            1            0                 0   \n",
       "4            0            0            1            0                 0   \n",
       "5            1            0            0            0                 0   \n",
       "\n",
       "   Man.trans.avail_Yes  Origin_non-USA  \n",
       "1                    1               1  \n",
       "2                    1               1  \n",
       "3                    1               1  \n",
       "4                    1               1  \n",
       "5                    1               1  "
      ]
     },
     "execution_count": 13,
     "metadata": {},
     "output_type": "execute_result"
    }
   ],
   "source": [
    "dummy_var = pd.get_dummies(data = df_cat, drop_first = True)\n",
    "dummy_var.head()"
   ]
  },
  {
   "cell_type": "code",
   "execution_count": 17,
   "metadata": {
    "scrolled": false
   },
   "outputs": [
    {
     "ename": "TypeError",
     "evalue": "unhashable type: 'DataFrame'",
     "output_type": "error",
     "traceback": [
      "\u001b[1;31m---------------------------------------------------------------------------\u001b[0m",
      "\u001b[1;31mTypeError\u001b[0m                                 Traceback (most recent call last)",
      "Input \u001b[1;32mIn [17]\u001b[0m, in \u001b[0;36m<cell line: 1>\u001b[1;34m()\u001b[0m\n\u001b[1;32m----> 1\u001b[0m exp\u001b[38;5;241m=\u001b[39m\u001b[43msetup\u001b[49m\u001b[43m(\u001b[49m\u001b[43mdf_num\u001b[49m\u001b[43m,\u001b[49m\u001b[43mtarget\u001b[49m\u001b[38;5;241;43m=\u001b[39;49m\u001b[43mA\u001b[49m\u001b[43m[\u001b[49m\u001b[43m[\u001b[49m\u001b[38;5;124;43m'\u001b[39;49m\u001b[38;5;124;43mPrice\u001b[39;49m\u001b[38;5;124;43m'\u001b[39;49m\u001b[43m]\u001b[49m\u001b[43m]\u001b[49m\u001b[43m,\u001b[49m\u001b[43mcategorical_features\u001b[49m\u001b[38;5;241;43m=\u001b[39;49m\u001b[43mdummy_var\u001b[49m\u001b[43m)\u001b[49m\n",
      "File \u001b[1;32m~\\AppData\\Roaming\\Python\\Python39\\site-packages\\pycaret\\classification.py:580\u001b[0m, in \u001b[0;36msetup\u001b[1;34m(data, target, train_size, test_data, preprocess, imputation_type, iterative_imputation_iters, categorical_features, categorical_imputation, categorical_iterative_imputer, ordinal_features, high_cardinality_features, high_cardinality_method, numeric_features, numeric_imputation, numeric_iterative_imputer, date_features, ignore_features, normalize, normalize_method, transformation, transformation_method, handle_unknown_categorical, unknown_categorical_method, pca, pca_method, pca_components, ignore_low_variance, combine_rare_levels, rare_level_threshold, bin_numeric_features, remove_outliers, outliers_threshold, remove_multicollinearity, multicollinearity_threshold, remove_perfect_collinearity, create_clusters, cluster_iter, polynomial_features, polynomial_degree, trigonometry_features, polynomial_threshold, group_features, group_names, feature_selection, feature_selection_threshold, feature_selection_method, feature_interaction, feature_ratio, interaction_threshold, fix_imbalance, fix_imbalance_method, data_split_shuffle, data_split_stratify, fold_strategy, fold, fold_shuffle, fold_groups, n_jobs, use_gpu, custom_pipeline, html, session_id, log_experiment, experiment_name, log_plots, log_profile, log_data, silent, verbose, profile, profile_kwargs)\u001b[0m\n\u001b[0;32m    577\u001b[0m \u001b[38;5;28;01mif\u001b[39;00m log_plots \u001b[38;5;241m==\u001b[39m \u001b[38;5;28;01mTrue\u001b[39;00m:\n\u001b[0;32m    578\u001b[0m     log_plots \u001b[38;5;241m=\u001b[39m [\u001b[38;5;124m\"\u001b[39m\u001b[38;5;124mauc\u001b[39m\u001b[38;5;124m\"\u001b[39m, \u001b[38;5;124m\"\u001b[39m\u001b[38;5;124mconfusion_matrix\u001b[39m\u001b[38;5;124m\"\u001b[39m, \u001b[38;5;124m\"\u001b[39m\u001b[38;5;124mfeature\u001b[39m\u001b[38;5;124m\"\u001b[39m]\n\u001b[1;32m--> 580\u001b[0m \u001b[38;5;28;01mreturn\u001b[39;00m \u001b[43mpycaret\u001b[49m\u001b[38;5;241;43m.\u001b[39;49m\u001b[43minternal\u001b[49m\u001b[38;5;241;43m.\u001b[39;49m\u001b[43mtabular\u001b[49m\u001b[38;5;241;43m.\u001b[39;49m\u001b[43msetup\u001b[49m\u001b[43m(\u001b[49m\n\u001b[0;32m    581\u001b[0m \u001b[43m    \u001b[49m\u001b[43mml_usecase\u001b[49m\u001b[38;5;241;43m=\u001b[39;49m\u001b[38;5;124;43m\"\u001b[39;49m\u001b[38;5;124;43mclassification\u001b[39;49m\u001b[38;5;124;43m\"\u001b[39;49m\u001b[43m,\u001b[49m\n\u001b[0;32m    582\u001b[0m \u001b[43m    \u001b[49m\u001b[43mavailable_plots\u001b[49m\u001b[38;5;241;43m=\u001b[39;49m\u001b[43mavailable_plots\u001b[49m\u001b[43m,\u001b[49m\n\u001b[0;32m    583\u001b[0m \u001b[43m    \u001b[49m\u001b[43mdata\u001b[49m\u001b[38;5;241;43m=\u001b[39;49m\u001b[43mdata\u001b[49m\u001b[43m,\u001b[49m\n\u001b[0;32m    584\u001b[0m \u001b[43m    \u001b[49m\u001b[43mtarget\u001b[49m\u001b[38;5;241;43m=\u001b[39;49m\u001b[43mtarget\u001b[49m\u001b[43m,\u001b[49m\n\u001b[0;32m    585\u001b[0m \u001b[43m    \u001b[49m\u001b[43mtrain_size\u001b[49m\u001b[38;5;241;43m=\u001b[39;49m\u001b[43mtrain_size\u001b[49m\u001b[43m,\u001b[49m\n\u001b[0;32m    586\u001b[0m \u001b[43m    \u001b[49m\u001b[43mtest_data\u001b[49m\u001b[38;5;241;43m=\u001b[39;49m\u001b[43mtest_data\u001b[49m\u001b[43m,\u001b[49m\n\u001b[0;32m    587\u001b[0m \u001b[43m    \u001b[49m\u001b[43mpreprocess\u001b[49m\u001b[38;5;241;43m=\u001b[39;49m\u001b[43mpreprocess\u001b[49m\u001b[43m,\u001b[49m\n\u001b[0;32m    588\u001b[0m \u001b[43m    \u001b[49m\u001b[43mimputation_type\u001b[49m\u001b[38;5;241;43m=\u001b[39;49m\u001b[43mimputation_type\u001b[49m\u001b[43m,\u001b[49m\n\u001b[0;32m    589\u001b[0m \u001b[43m    \u001b[49m\u001b[43miterative_imputation_iters\u001b[49m\u001b[38;5;241;43m=\u001b[39;49m\u001b[43miterative_imputation_iters\u001b[49m\u001b[43m,\u001b[49m\n\u001b[0;32m    590\u001b[0m \u001b[43m    \u001b[49m\u001b[43mcategorical_features\u001b[49m\u001b[38;5;241;43m=\u001b[39;49m\u001b[43mcategorical_features\u001b[49m\u001b[43m,\u001b[49m\n\u001b[0;32m    591\u001b[0m \u001b[43m    \u001b[49m\u001b[43mcategorical_imputation\u001b[49m\u001b[38;5;241;43m=\u001b[39;49m\u001b[43mcategorical_imputation\u001b[49m\u001b[43m,\u001b[49m\n\u001b[0;32m    592\u001b[0m \u001b[43m    \u001b[49m\u001b[43mcategorical_iterative_imputer\u001b[49m\u001b[38;5;241;43m=\u001b[39;49m\u001b[43mcategorical_iterative_imputer\u001b[49m\u001b[43m,\u001b[49m\n\u001b[0;32m    593\u001b[0m \u001b[43m    \u001b[49m\u001b[43mordinal_features\u001b[49m\u001b[38;5;241;43m=\u001b[39;49m\u001b[43mordinal_features\u001b[49m\u001b[43m,\u001b[49m\n\u001b[0;32m    594\u001b[0m \u001b[43m    \u001b[49m\u001b[43mhigh_cardinality_features\u001b[49m\u001b[38;5;241;43m=\u001b[39;49m\u001b[43mhigh_cardinality_features\u001b[49m\u001b[43m,\u001b[49m\n\u001b[0;32m    595\u001b[0m \u001b[43m    \u001b[49m\u001b[43mhigh_cardinality_method\u001b[49m\u001b[38;5;241;43m=\u001b[39;49m\u001b[43mhigh_cardinality_method\u001b[49m\u001b[43m,\u001b[49m\n\u001b[0;32m    596\u001b[0m \u001b[43m    \u001b[49m\u001b[43mnumeric_features\u001b[49m\u001b[38;5;241;43m=\u001b[39;49m\u001b[43mnumeric_features\u001b[49m\u001b[43m,\u001b[49m\n\u001b[0;32m    597\u001b[0m \u001b[43m    \u001b[49m\u001b[43mnumeric_imputation\u001b[49m\u001b[38;5;241;43m=\u001b[39;49m\u001b[43mnumeric_imputation\u001b[49m\u001b[43m,\u001b[49m\n\u001b[0;32m    598\u001b[0m \u001b[43m    \u001b[49m\u001b[43mnumeric_iterative_imputer\u001b[49m\u001b[38;5;241;43m=\u001b[39;49m\u001b[43mnumeric_iterative_imputer\u001b[49m\u001b[43m,\u001b[49m\n\u001b[0;32m    599\u001b[0m \u001b[43m    \u001b[49m\u001b[43mdate_features\u001b[49m\u001b[38;5;241;43m=\u001b[39;49m\u001b[43mdate_features\u001b[49m\u001b[43m,\u001b[49m\n\u001b[0;32m    600\u001b[0m \u001b[43m    \u001b[49m\u001b[43mignore_features\u001b[49m\u001b[38;5;241;43m=\u001b[39;49m\u001b[43mignore_features\u001b[49m\u001b[43m,\u001b[49m\n\u001b[0;32m    601\u001b[0m \u001b[43m    \u001b[49m\u001b[43mnormalize\u001b[49m\u001b[38;5;241;43m=\u001b[39;49m\u001b[43mnormalize\u001b[49m\u001b[43m,\u001b[49m\n\u001b[0;32m    602\u001b[0m \u001b[43m    \u001b[49m\u001b[43mnormalize_method\u001b[49m\u001b[38;5;241;43m=\u001b[39;49m\u001b[43mnormalize_method\u001b[49m\u001b[43m,\u001b[49m\n\u001b[0;32m    603\u001b[0m \u001b[43m    \u001b[49m\u001b[43mtransformation\u001b[49m\u001b[38;5;241;43m=\u001b[39;49m\u001b[43mtransformation\u001b[49m\u001b[43m,\u001b[49m\n\u001b[0;32m    604\u001b[0m \u001b[43m    \u001b[49m\u001b[43mtransformation_method\u001b[49m\u001b[38;5;241;43m=\u001b[39;49m\u001b[43mtransformation_method\u001b[49m\u001b[43m,\u001b[49m\n\u001b[0;32m    605\u001b[0m \u001b[43m    \u001b[49m\u001b[43mhandle_unknown_categorical\u001b[49m\u001b[38;5;241;43m=\u001b[39;49m\u001b[43mhandle_unknown_categorical\u001b[49m\u001b[43m,\u001b[49m\n\u001b[0;32m    606\u001b[0m \u001b[43m    \u001b[49m\u001b[43munknown_categorical_method\u001b[49m\u001b[38;5;241;43m=\u001b[39;49m\u001b[43munknown_categorical_method\u001b[49m\u001b[43m,\u001b[49m\n\u001b[0;32m    607\u001b[0m \u001b[43m    \u001b[49m\u001b[43mpca\u001b[49m\u001b[38;5;241;43m=\u001b[39;49m\u001b[43mpca\u001b[49m\u001b[43m,\u001b[49m\n\u001b[0;32m    608\u001b[0m \u001b[43m    \u001b[49m\u001b[43mpca_method\u001b[49m\u001b[38;5;241;43m=\u001b[39;49m\u001b[43mpca_method\u001b[49m\u001b[43m,\u001b[49m\n\u001b[0;32m    609\u001b[0m \u001b[43m    \u001b[49m\u001b[43mpca_components\u001b[49m\u001b[38;5;241;43m=\u001b[39;49m\u001b[43mpca_components\u001b[49m\u001b[43m,\u001b[49m\n\u001b[0;32m    610\u001b[0m \u001b[43m    \u001b[49m\u001b[43mignore_low_variance\u001b[49m\u001b[38;5;241;43m=\u001b[39;49m\u001b[43mignore_low_variance\u001b[49m\u001b[43m,\u001b[49m\n\u001b[0;32m    611\u001b[0m \u001b[43m    \u001b[49m\u001b[43mcombine_rare_levels\u001b[49m\u001b[38;5;241;43m=\u001b[39;49m\u001b[43mcombine_rare_levels\u001b[49m\u001b[43m,\u001b[49m\n\u001b[0;32m    612\u001b[0m \u001b[43m    \u001b[49m\u001b[43mrare_level_threshold\u001b[49m\u001b[38;5;241;43m=\u001b[39;49m\u001b[43mrare_level_threshold\u001b[49m\u001b[43m,\u001b[49m\n\u001b[0;32m    613\u001b[0m \u001b[43m    \u001b[49m\u001b[43mbin_numeric_features\u001b[49m\u001b[38;5;241;43m=\u001b[39;49m\u001b[43mbin_numeric_features\u001b[49m\u001b[43m,\u001b[49m\n\u001b[0;32m    614\u001b[0m \u001b[43m    \u001b[49m\u001b[43mremove_outliers\u001b[49m\u001b[38;5;241;43m=\u001b[39;49m\u001b[43mremove_outliers\u001b[49m\u001b[43m,\u001b[49m\n\u001b[0;32m    615\u001b[0m \u001b[43m    \u001b[49m\u001b[43moutliers_threshold\u001b[49m\u001b[38;5;241;43m=\u001b[39;49m\u001b[43moutliers_threshold\u001b[49m\u001b[43m,\u001b[49m\n\u001b[0;32m    616\u001b[0m \u001b[43m    \u001b[49m\u001b[43mremove_multicollinearity\u001b[49m\u001b[38;5;241;43m=\u001b[39;49m\u001b[43mremove_multicollinearity\u001b[49m\u001b[43m,\u001b[49m\n\u001b[0;32m    617\u001b[0m \u001b[43m    \u001b[49m\u001b[43mmulticollinearity_threshold\u001b[49m\u001b[38;5;241;43m=\u001b[39;49m\u001b[43mmulticollinearity_threshold\u001b[49m\u001b[43m,\u001b[49m\n\u001b[0;32m    618\u001b[0m \u001b[43m    \u001b[49m\u001b[43mremove_perfect_collinearity\u001b[49m\u001b[38;5;241;43m=\u001b[39;49m\u001b[43mremove_perfect_collinearity\u001b[49m\u001b[43m,\u001b[49m\n\u001b[0;32m    619\u001b[0m \u001b[43m    \u001b[49m\u001b[43mcreate_clusters\u001b[49m\u001b[38;5;241;43m=\u001b[39;49m\u001b[43mcreate_clusters\u001b[49m\u001b[43m,\u001b[49m\n\u001b[0;32m    620\u001b[0m \u001b[43m    \u001b[49m\u001b[43mcluster_iter\u001b[49m\u001b[38;5;241;43m=\u001b[39;49m\u001b[43mcluster_iter\u001b[49m\u001b[43m,\u001b[49m\n\u001b[0;32m    621\u001b[0m \u001b[43m    \u001b[49m\u001b[43mpolynomial_features\u001b[49m\u001b[38;5;241;43m=\u001b[39;49m\u001b[43mpolynomial_features\u001b[49m\u001b[43m,\u001b[49m\n\u001b[0;32m    622\u001b[0m \u001b[43m    \u001b[49m\u001b[43mpolynomial_degree\u001b[49m\u001b[38;5;241;43m=\u001b[39;49m\u001b[43mpolynomial_degree\u001b[49m\u001b[43m,\u001b[49m\n\u001b[0;32m    623\u001b[0m \u001b[43m    \u001b[49m\u001b[43mtrigonometry_features\u001b[49m\u001b[38;5;241;43m=\u001b[39;49m\u001b[43mtrigonometry_features\u001b[49m\u001b[43m,\u001b[49m\n\u001b[0;32m    624\u001b[0m \u001b[43m    \u001b[49m\u001b[43mpolynomial_threshold\u001b[49m\u001b[38;5;241;43m=\u001b[39;49m\u001b[43mpolynomial_threshold\u001b[49m\u001b[43m,\u001b[49m\n\u001b[0;32m    625\u001b[0m \u001b[43m    \u001b[49m\u001b[43mgroup_features\u001b[49m\u001b[38;5;241;43m=\u001b[39;49m\u001b[43mgroup_features\u001b[49m\u001b[43m,\u001b[49m\n\u001b[0;32m    626\u001b[0m \u001b[43m    \u001b[49m\u001b[43mgroup_names\u001b[49m\u001b[38;5;241;43m=\u001b[39;49m\u001b[43mgroup_names\u001b[49m\u001b[43m,\u001b[49m\n\u001b[0;32m    627\u001b[0m \u001b[43m    \u001b[49m\u001b[43mfeature_selection\u001b[49m\u001b[38;5;241;43m=\u001b[39;49m\u001b[43mfeature_selection\u001b[49m\u001b[43m,\u001b[49m\n\u001b[0;32m    628\u001b[0m \u001b[43m    \u001b[49m\u001b[43mfeature_selection_threshold\u001b[49m\u001b[38;5;241;43m=\u001b[39;49m\u001b[43mfeature_selection_threshold\u001b[49m\u001b[43m,\u001b[49m\n\u001b[0;32m    629\u001b[0m \u001b[43m    \u001b[49m\u001b[43mfeature_selection_method\u001b[49m\u001b[38;5;241;43m=\u001b[39;49m\u001b[43mfeature_selection_method\u001b[49m\u001b[43m,\u001b[49m\n\u001b[0;32m    630\u001b[0m \u001b[43m    \u001b[49m\u001b[43mfeature_interaction\u001b[49m\u001b[38;5;241;43m=\u001b[39;49m\u001b[43mfeature_interaction\u001b[49m\u001b[43m,\u001b[49m\n\u001b[0;32m    631\u001b[0m \u001b[43m    \u001b[49m\u001b[43mfeature_ratio\u001b[49m\u001b[38;5;241;43m=\u001b[39;49m\u001b[43mfeature_ratio\u001b[49m\u001b[43m,\u001b[49m\n\u001b[0;32m    632\u001b[0m \u001b[43m    \u001b[49m\u001b[43minteraction_threshold\u001b[49m\u001b[38;5;241;43m=\u001b[39;49m\u001b[43minteraction_threshold\u001b[49m\u001b[43m,\u001b[49m\n\u001b[0;32m    633\u001b[0m \u001b[43m    \u001b[49m\u001b[43mfix_imbalance\u001b[49m\u001b[38;5;241;43m=\u001b[39;49m\u001b[43mfix_imbalance\u001b[49m\u001b[43m,\u001b[49m\n\u001b[0;32m    634\u001b[0m \u001b[43m    \u001b[49m\u001b[43mfix_imbalance_method\u001b[49m\u001b[38;5;241;43m=\u001b[39;49m\u001b[43mfix_imbalance_method\u001b[49m\u001b[43m,\u001b[49m\n\u001b[0;32m    635\u001b[0m \u001b[43m    \u001b[49m\u001b[43mdata_split_shuffle\u001b[49m\u001b[38;5;241;43m=\u001b[39;49m\u001b[43mdata_split_shuffle\u001b[49m\u001b[43m,\u001b[49m\n\u001b[0;32m    636\u001b[0m \u001b[43m    \u001b[49m\u001b[43mdata_split_stratify\u001b[49m\u001b[38;5;241;43m=\u001b[39;49m\u001b[43mdata_split_stratify\u001b[49m\u001b[43m,\u001b[49m\n\u001b[0;32m    637\u001b[0m \u001b[43m    \u001b[49m\u001b[43mfold_strategy\u001b[49m\u001b[38;5;241;43m=\u001b[39;49m\u001b[43mfold_strategy\u001b[49m\u001b[43m,\u001b[49m\n\u001b[0;32m    638\u001b[0m \u001b[43m    \u001b[49m\u001b[43mfold\u001b[49m\u001b[38;5;241;43m=\u001b[39;49m\u001b[43mfold\u001b[49m\u001b[43m,\u001b[49m\n\u001b[0;32m    639\u001b[0m \u001b[43m    \u001b[49m\u001b[43mfold_shuffle\u001b[49m\u001b[38;5;241;43m=\u001b[39;49m\u001b[43mfold_shuffle\u001b[49m\u001b[43m,\u001b[49m\n\u001b[0;32m    640\u001b[0m \u001b[43m    \u001b[49m\u001b[43mfold_groups\u001b[49m\u001b[38;5;241;43m=\u001b[39;49m\u001b[43mfold_groups\u001b[49m\u001b[43m,\u001b[49m\n\u001b[0;32m    641\u001b[0m \u001b[43m    \u001b[49m\u001b[43mn_jobs\u001b[49m\u001b[38;5;241;43m=\u001b[39;49m\u001b[43mn_jobs\u001b[49m\u001b[43m,\u001b[49m\n\u001b[0;32m    642\u001b[0m \u001b[43m    \u001b[49m\u001b[43muse_gpu\u001b[49m\u001b[38;5;241;43m=\u001b[39;49m\u001b[43muse_gpu\u001b[49m\u001b[43m,\u001b[49m\n\u001b[0;32m    643\u001b[0m \u001b[43m    \u001b[49m\u001b[43mcustom_pipeline\u001b[49m\u001b[38;5;241;43m=\u001b[39;49m\u001b[43mcustom_pipeline\u001b[49m\u001b[43m,\u001b[49m\n\u001b[0;32m    644\u001b[0m \u001b[43m    \u001b[49m\u001b[43mhtml\u001b[49m\u001b[38;5;241;43m=\u001b[39;49m\u001b[43mhtml\u001b[49m\u001b[43m,\u001b[49m\n\u001b[0;32m    645\u001b[0m \u001b[43m    \u001b[49m\u001b[43msession_id\u001b[49m\u001b[38;5;241;43m=\u001b[39;49m\u001b[43msession_id\u001b[49m\u001b[43m,\u001b[49m\n\u001b[0;32m    646\u001b[0m \u001b[43m    \u001b[49m\u001b[43mlog_experiment\u001b[49m\u001b[38;5;241;43m=\u001b[39;49m\u001b[43mlog_experiment\u001b[49m\u001b[43m,\u001b[49m\n\u001b[0;32m    647\u001b[0m \u001b[43m    \u001b[49m\u001b[43mexperiment_name\u001b[49m\u001b[38;5;241;43m=\u001b[39;49m\u001b[43mexperiment_name\u001b[49m\u001b[43m,\u001b[49m\n\u001b[0;32m    648\u001b[0m \u001b[43m    \u001b[49m\u001b[43mlog_plots\u001b[49m\u001b[38;5;241;43m=\u001b[39;49m\u001b[43mlog_plots\u001b[49m\u001b[43m,\u001b[49m\n\u001b[0;32m    649\u001b[0m \u001b[43m    \u001b[49m\u001b[43mlog_profile\u001b[49m\u001b[38;5;241;43m=\u001b[39;49m\u001b[43mlog_profile\u001b[49m\u001b[43m,\u001b[49m\n\u001b[0;32m    650\u001b[0m \u001b[43m    \u001b[49m\u001b[43mlog_data\u001b[49m\u001b[38;5;241;43m=\u001b[39;49m\u001b[43mlog_data\u001b[49m\u001b[43m,\u001b[49m\n\u001b[0;32m    651\u001b[0m \u001b[43m    \u001b[49m\u001b[43msilent\u001b[49m\u001b[38;5;241;43m=\u001b[39;49m\u001b[43msilent\u001b[49m\u001b[43m,\u001b[49m\n\u001b[0;32m    652\u001b[0m \u001b[43m    \u001b[49m\u001b[43mverbose\u001b[49m\u001b[38;5;241;43m=\u001b[39;49m\u001b[43mverbose\u001b[49m\u001b[43m,\u001b[49m\n\u001b[0;32m    653\u001b[0m \u001b[43m    \u001b[49m\u001b[43mprofile\u001b[49m\u001b[38;5;241;43m=\u001b[39;49m\u001b[43mprofile\u001b[49m\u001b[43m,\u001b[49m\n\u001b[0;32m    654\u001b[0m \u001b[43m    \u001b[49m\u001b[43mprofile_kwargs\u001b[49m\u001b[38;5;241;43m=\u001b[39;49m\u001b[43mprofile_kwargs\u001b[49m\u001b[43m,\u001b[49m\n\u001b[0;32m    655\u001b[0m \u001b[43m\u001b[49m\u001b[43m)\u001b[49m\n",
      "File \u001b[1;32m~\\AppData\\Roaming\\Python\\Python39\\site-packages\\pycaret\\internal\\tabular.py:302\u001b[0m, in \u001b[0;36msetup\u001b[1;34m(data, target, ml_usecase, available_plots, train_size, test_data, preprocess, imputation_type, iterative_imputation_iters, categorical_features, categorical_imputation, categorical_iterative_imputer, ordinal_features, high_cardinality_features, high_cardinality_method, numeric_features, numeric_imputation, numeric_iterative_imputer, date_features, ignore_features, normalize, normalize_method, transformation, transformation_method, handle_unknown_categorical, unknown_categorical_method, pca, pca_method, pca_components, ignore_low_variance, combine_rare_levels, rare_level_threshold, bin_numeric_features, remove_outliers, outliers_threshold, remove_multicollinearity, multicollinearity_threshold, remove_perfect_collinearity, create_clusters, cluster_iter, polynomial_features, polynomial_degree, trigonometry_features, polynomial_threshold, group_features, group_names, feature_selection, feature_selection_threshold, feature_selection_method, feature_interaction, feature_ratio, interaction_threshold, fix_imbalance, fix_imbalance_method, transform_target, transform_target_method, data_split_shuffle, data_split_stratify, fold_strategy, fold, fold_shuffle, fold_groups, n_jobs, use_gpu, custom_pipeline, html, session_id, log_experiment, experiment_name, log_plots, log_profile, log_data, silent, verbose, profile, profile_kwargs, display)\u001b[0m\n\u001b[0;32m    299\u001b[0m ml_usecase \u001b[38;5;241m=\u001b[39m MLUsecase[ml_usecase\u001b[38;5;241m.\u001b[39mupper()]\n\u001b[0;32m    301\u001b[0m \u001b[38;5;66;03m# checking target parameter\u001b[39;00m\n\u001b[1;32m--> 302\u001b[0m \u001b[38;5;28;01mif\u001b[39;00m \u001b[38;5;129;01mnot\u001b[39;00m _is_unsupervised(ml_usecase) \u001b[38;5;129;01mand\u001b[39;00m \u001b[43mtarget\u001b[49m\u001b[43m \u001b[49m\u001b[38;5;129;43;01mnot\u001b[39;49;00m\u001b[43m \u001b[49m\u001b[38;5;129;43;01min\u001b[39;49;00m\u001b[43m \u001b[49m\u001b[43mdata\u001b[49m\u001b[38;5;241;43m.\u001b[39;49m\u001b[43mcolumns\u001b[49m:\n\u001b[0;32m    303\u001b[0m     \u001b[38;5;28;01mraise\u001b[39;00m \u001b[38;5;167;01mValueError\u001b[39;00m(\u001b[38;5;124m\"\u001b[39m\u001b[38;5;124mTarget parameter doesnt exist in the data provided.\u001b[39m\u001b[38;5;124m\"\u001b[39m)\n\u001b[0;32m    305\u001b[0m \u001b[38;5;66;03m# checking session_id\u001b[39;00m\n",
      "File \u001b[1;32mC:\\ProgramData\\Anaconda3\\lib\\site-packages\\pandas\\core\\indexes\\base.py:5008\u001b[0m, in \u001b[0;36mIndex.__contains__\u001b[1;34m(self, key)\u001b[0m\n\u001b[0;32m   4973\u001b[0m \u001b[38;5;28;01mdef\u001b[39;00m \u001b[38;5;21m__contains__\u001b[39m(\u001b[38;5;28mself\u001b[39m, key: Any) \u001b[38;5;241m-\u001b[39m\u001b[38;5;241m>\u001b[39m \u001b[38;5;28mbool\u001b[39m:\n\u001b[0;32m   4974\u001b[0m     \u001b[38;5;124;03m\"\"\"\u001b[39;00m\n\u001b[0;32m   4975\u001b[0m \u001b[38;5;124;03m    Return a boolean indicating whether the provided key is in the index.\u001b[39;00m\n\u001b[0;32m   4976\u001b[0m \n\u001b[1;32m   (...)\u001b[0m\n\u001b[0;32m   5006\u001b[0m \u001b[38;5;124;03m    False\u001b[39;00m\n\u001b[0;32m   5007\u001b[0m \u001b[38;5;124;03m    \"\"\"\u001b[39;00m\n\u001b[1;32m-> 5008\u001b[0m     \u001b[38;5;28;43mhash\u001b[39;49m\u001b[43m(\u001b[49m\u001b[43mkey\u001b[49m\u001b[43m)\u001b[49m\n\u001b[0;32m   5009\u001b[0m     \u001b[38;5;28;01mtry\u001b[39;00m:\n\u001b[0;32m   5010\u001b[0m         \u001b[38;5;28;01mreturn\u001b[39;00m key \u001b[38;5;129;01min\u001b[39;00m \u001b[38;5;28mself\u001b[39m\u001b[38;5;241m.\u001b[39m_engine\n",
      "\u001b[1;31mTypeError\u001b[0m: unhashable type: 'DataFrame'"
     ]
    }
   ],
   "source": [
    "exp=setup(df_num,target=A[['Price']],categorical_features=dummy_var)"
   ]
  },
  {
   "cell_type": "code",
   "execution_count": null,
   "metadata": {},
   "outputs": [],
   "source": []
  },
  {
   "cell_type": "code",
   "execution_count": 112,
   "metadata": {
    "colab": {
     "base_uri": "https://localhost:8080/",
     "height": 317
    },
    "executionInfo": {
     "elapsed": 445,
     "status": "ok",
     "timestamp": 1671594398071,
     "user": {
      "displayName": "Mahesh Anand",
      "userId": "06788086636039591358"
     },
     "user_tz": -330
    },
    "id": "AWPHAzAIJtEc",
    "outputId": "575a658f-86ca-4dac-87c3-ab414d3e0d88",
    "scrolled": true
   },
   "outputs": [
    {
     "data": {
      "text/html": [
       "<div>\n",
       "<style scoped>\n",
       "    .dataframe tbody tr th:only-of-type {\n",
       "        vertical-align: middle;\n",
       "    }\n",
       "\n",
       "    .dataframe tbody tr th {\n",
       "        vertical-align: top;\n",
       "    }\n",
       "\n",
       "    .dataframe thead th {\n",
       "        text-align: right;\n",
       "    }\n",
       "</style>\n",
       "<table border=\"1\" class=\"dataframe\">\n",
       "  <thead>\n",
       "    <tr style=\"text-align: right;\">\n",
       "      <th></th>\n",
       "      <th>MPG.city</th>\n",
       "      <th>MPG.highway</th>\n",
       "      <th>EngineSize</th>\n",
       "      <th>Horsepower</th>\n",
       "      <th>RPM</th>\n",
       "      <th>Rev.per.mile</th>\n",
       "      <th>Fuel.tank.capacity</th>\n",
       "      <th>Length</th>\n",
       "      <th>Wheelbase</th>\n",
       "      <th>Width</th>\n",
       "      <th>...</th>\n",
       "      <th>Cylinders_6</th>\n",
       "      <th>Cylinders_8</th>\n",
       "      <th>Cylinders_rotary</th>\n",
       "      <th>Man.trans.avail_Yes</th>\n",
       "      <th>Passengers_4</th>\n",
       "      <th>Passengers_5</th>\n",
       "      <th>Passengers_6</th>\n",
       "      <th>Passengers_7</th>\n",
       "      <th>Passengers_8</th>\n",
       "      <th>Origin_non-USA</th>\n",
       "    </tr>\n",
       "  </thead>\n",
       "  <tbody>\n",
       "    <tr>\n",
       "      <th>1</th>\n",
       "      <td>25</td>\n",
       "      <td>31</td>\n",
       "      <td>1.8</td>\n",
       "      <td>140</td>\n",
       "      <td>6300</td>\n",
       "      <td>2890</td>\n",
       "      <td>13.2</td>\n",
       "      <td>177</td>\n",
       "      <td>102</td>\n",
       "      <td>68</td>\n",
       "      <td>...</td>\n",
       "      <td>0</td>\n",
       "      <td>0</td>\n",
       "      <td>0</td>\n",
       "      <td>1</td>\n",
       "      <td>0</td>\n",
       "      <td>1</td>\n",
       "      <td>0</td>\n",
       "      <td>0</td>\n",
       "      <td>0</td>\n",
       "      <td>1</td>\n",
       "    </tr>\n",
       "    <tr>\n",
       "      <th>2</th>\n",
       "      <td>18</td>\n",
       "      <td>25</td>\n",
       "      <td>3.2</td>\n",
       "      <td>200</td>\n",
       "      <td>5500</td>\n",
       "      <td>2335</td>\n",
       "      <td>18.0</td>\n",
       "      <td>195</td>\n",
       "      <td>115</td>\n",
       "      <td>71</td>\n",
       "      <td>...</td>\n",
       "      <td>1</td>\n",
       "      <td>0</td>\n",
       "      <td>0</td>\n",
       "      <td>1</td>\n",
       "      <td>0</td>\n",
       "      <td>1</td>\n",
       "      <td>0</td>\n",
       "      <td>0</td>\n",
       "      <td>0</td>\n",
       "      <td>1</td>\n",
       "    </tr>\n",
       "    <tr>\n",
       "      <th>3</th>\n",
       "      <td>20</td>\n",
       "      <td>26</td>\n",
       "      <td>2.8</td>\n",
       "      <td>172</td>\n",
       "      <td>5500</td>\n",
       "      <td>2280</td>\n",
       "      <td>16.9</td>\n",
       "      <td>180</td>\n",
       "      <td>102</td>\n",
       "      <td>67</td>\n",
       "      <td>...</td>\n",
       "      <td>1</td>\n",
       "      <td>0</td>\n",
       "      <td>0</td>\n",
       "      <td>1</td>\n",
       "      <td>0</td>\n",
       "      <td>1</td>\n",
       "      <td>0</td>\n",
       "      <td>0</td>\n",
       "      <td>0</td>\n",
       "      <td>1</td>\n",
       "    </tr>\n",
       "    <tr>\n",
       "      <th>4</th>\n",
       "      <td>19</td>\n",
       "      <td>26</td>\n",
       "      <td>2.8</td>\n",
       "      <td>172</td>\n",
       "      <td>5500</td>\n",
       "      <td>2535</td>\n",
       "      <td>21.1</td>\n",
       "      <td>193</td>\n",
       "      <td>106</td>\n",
       "      <td>70</td>\n",
       "      <td>...</td>\n",
       "      <td>1</td>\n",
       "      <td>0</td>\n",
       "      <td>0</td>\n",
       "      <td>1</td>\n",
       "      <td>0</td>\n",
       "      <td>0</td>\n",
       "      <td>1</td>\n",
       "      <td>0</td>\n",
       "      <td>0</td>\n",
       "      <td>1</td>\n",
       "    </tr>\n",
       "    <tr>\n",
       "      <th>5</th>\n",
       "      <td>22</td>\n",
       "      <td>30</td>\n",
       "      <td>3.5</td>\n",
       "      <td>208</td>\n",
       "      <td>5700</td>\n",
       "      <td>2545</td>\n",
       "      <td>21.1</td>\n",
       "      <td>186</td>\n",
       "      <td>109</td>\n",
       "      <td>69</td>\n",
       "      <td>...</td>\n",
       "      <td>0</td>\n",
       "      <td>0</td>\n",
       "      <td>0</td>\n",
       "      <td>1</td>\n",
       "      <td>1</td>\n",
       "      <td>0</td>\n",
       "      <td>0</td>\n",
       "      <td>0</td>\n",
       "      <td>0</td>\n",
       "      <td>1</td>\n",
       "    </tr>\n",
       "  </tbody>\n",
       "</table>\n",
       "<p>5 rows × 35 columns</p>\n",
       "</div>"
      ],
      "text/plain": [
       "   MPG.city  MPG.highway  EngineSize  Horsepower   RPM  Rev.per.mile  \\\n",
       "1        25           31         1.8         140  6300          2890   \n",
       "2        18           25         3.2         200  5500          2335   \n",
       "3        20           26         2.8         172  5500          2280   \n",
       "4        19           26         2.8         172  5500          2535   \n",
       "5        22           30         3.5         208  5700          2545   \n",
       "\n",
       "   Fuel.tank.capacity  Length  Wheelbase  Width  ...  Cylinders_6  \\\n",
       "1                13.2     177        102     68  ...            0   \n",
       "2                18.0     195        115     71  ...            1   \n",
       "3                16.9     180        102     67  ...            1   \n",
       "4                21.1     193        106     70  ...            1   \n",
       "5                21.1     186        109     69  ...            0   \n",
       "\n",
       "   Cylinders_8  Cylinders_rotary  Man.trans.avail_Yes  Passengers_4  \\\n",
       "1            0                 0                    1             0   \n",
       "2            0                 0                    1             0   \n",
       "3            0                 0                    1             0   \n",
       "4            0                 0                    1             0   \n",
       "5            0                 0                    1             1   \n",
       "\n",
       "   Passengers_5  Passengers_6  Passengers_7  Passengers_8  Origin_non-USA  \n",
       "1             1             0             0             0               1  \n",
       "2             1             0             0             0               1  \n",
       "3             1             0             0             0               1  \n",
       "4             0             1             0             0               1  \n",
       "5             0             0             0             0               1  \n",
       "\n",
       "[5 rows x 35 columns]"
      ]
     },
     "execution_count": 112,
     "metadata": {},
     "output_type": "execute_result"
    }
   ],
   "source": [
    "X = pd.concat([df_num, dummy_var], axis = 1)\n",
    "X.head()"
   ]
  },
  {
   "cell_type": "code",
   "execution_count": 113,
   "metadata": {
    "executionInfo": {
     "elapsed": 3,
     "status": "ok",
     "timestamp": 1671594400689,
     "user": {
      "displayName": "Mahesh Anand",
      "userId": "06788086636039591358"
     },
     "user_tz": -330
    },
    "id": "HBfSKCPIBn8J"
   },
   "outputs": [],
   "source": [
    "Y=A['Price']"
   ]
  },
  {
   "cell_type": "code",
   "execution_count": 114,
   "metadata": {
    "colab": {
     "base_uri": "https://localhost:8080/"
    },
    "executionInfo": {
     "elapsed": 8,
     "status": "ok",
     "timestamp": 1671525389629,
     "user": {
      "displayName": "Mahesh Anand",
      "userId": "06788086636039591358"
     },
     "user_tz": -330
    },
    "id": "nBBlwfoVQld8",
    "outputId": "71674907-939b-4f7b-feb1-448420ff791c"
   },
   "outputs": [
    {
     "data": {
      "text/plain": [
       "((93, 35), (93,))"
      ]
     },
     "execution_count": 114,
     "metadata": {},
     "output_type": "execute_result"
    }
   ],
   "source": [
    "X.shape,Y.shape"
   ]
  },
  {
   "cell_type": "code",
   "execution_count": 115,
   "metadata": {
    "executionInfo": {
     "elapsed": 880,
     "status": "ok",
     "timestamp": 1671594404607,
     "user": {
      "displayName": "Mahesh Anand",
      "userId": "06788086636039591358"
     },
     "user_tz": -330
    },
    "id": "-6hvwLIcLpwj"
   },
   "outputs": [],
   "source": [
    "import statsmodels.api as sm\n",
    "from statsmodels.api import add_constant"
   ]
  },
  {
   "cell_type": "code",
   "execution_count": 116,
   "metadata": {
    "id": "K8-ecCkwNnaF"
   },
   "outputs": [],
   "source": [
    "Xc=sm.add_constant(X)"
   ]
  },
  {
   "cell_type": "code",
   "execution_count": 117,
   "metadata": {
    "colab": {
     "base_uri": "https://localhost:8080/",
     "height": 288
    },
    "executionInfo": {
     "elapsed": 5,
     "status": "ok",
     "timestamp": 1671525428942,
     "user": {
      "displayName": "Mahesh Anand",
      "userId": "06788086636039591358"
     },
     "user_tz": -330
    },
    "id": "R4Vi9neQuLvO",
    "outputId": "48bb0cc1-ef88-43dc-b84e-0531a2d3e1cd"
   },
   "outputs": [
    {
     "data": {
      "text/html": [
       "<div>\n",
       "<style scoped>\n",
       "    .dataframe tbody tr th:only-of-type {\n",
       "        vertical-align: middle;\n",
       "    }\n",
       "\n",
       "    .dataframe tbody tr th {\n",
       "        vertical-align: top;\n",
       "    }\n",
       "\n",
       "    .dataframe thead th {\n",
       "        text-align: right;\n",
       "    }\n",
       "</style>\n",
       "<table border=\"1\" class=\"dataframe\">\n",
       "  <thead>\n",
       "    <tr style=\"text-align: right;\">\n",
       "      <th></th>\n",
       "      <th>const</th>\n",
       "      <th>MPG.city</th>\n",
       "      <th>MPG.highway</th>\n",
       "      <th>EngineSize</th>\n",
       "      <th>Horsepower</th>\n",
       "      <th>RPM</th>\n",
       "      <th>Rev.per.mile</th>\n",
       "      <th>Fuel.tank.capacity</th>\n",
       "      <th>Length</th>\n",
       "      <th>Wheelbase</th>\n",
       "      <th>...</th>\n",
       "      <th>Cylinders_6</th>\n",
       "      <th>Cylinders_8</th>\n",
       "      <th>Cylinders_rotary</th>\n",
       "      <th>Man.trans.avail_Yes</th>\n",
       "      <th>Passengers_4</th>\n",
       "      <th>Passengers_5</th>\n",
       "      <th>Passengers_6</th>\n",
       "      <th>Passengers_7</th>\n",
       "      <th>Passengers_8</th>\n",
       "      <th>Origin_non-USA</th>\n",
       "    </tr>\n",
       "  </thead>\n",
       "  <tbody>\n",
       "    <tr>\n",
       "      <th>1</th>\n",
       "      <td>1.0</td>\n",
       "      <td>25</td>\n",
       "      <td>31</td>\n",
       "      <td>1.8</td>\n",
       "      <td>140</td>\n",
       "      <td>6300</td>\n",
       "      <td>2890</td>\n",
       "      <td>13.2</td>\n",
       "      <td>177</td>\n",
       "      <td>102</td>\n",
       "      <td>...</td>\n",
       "      <td>0</td>\n",
       "      <td>0</td>\n",
       "      <td>0</td>\n",
       "      <td>1</td>\n",
       "      <td>0</td>\n",
       "      <td>1</td>\n",
       "      <td>0</td>\n",
       "      <td>0</td>\n",
       "      <td>0</td>\n",
       "      <td>1</td>\n",
       "    </tr>\n",
       "    <tr>\n",
       "      <th>2</th>\n",
       "      <td>1.0</td>\n",
       "      <td>18</td>\n",
       "      <td>25</td>\n",
       "      <td>3.2</td>\n",
       "      <td>200</td>\n",
       "      <td>5500</td>\n",
       "      <td>2335</td>\n",
       "      <td>18.0</td>\n",
       "      <td>195</td>\n",
       "      <td>115</td>\n",
       "      <td>...</td>\n",
       "      <td>1</td>\n",
       "      <td>0</td>\n",
       "      <td>0</td>\n",
       "      <td>1</td>\n",
       "      <td>0</td>\n",
       "      <td>1</td>\n",
       "      <td>0</td>\n",
       "      <td>0</td>\n",
       "      <td>0</td>\n",
       "      <td>1</td>\n",
       "    </tr>\n",
       "    <tr>\n",
       "      <th>3</th>\n",
       "      <td>1.0</td>\n",
       "      <td>20</td>\n",
       "      <td>26</td>\n",
       "      <td>2.8</td>\n",
       "      <td>172</td>\n",
       "      <td>5500</td>\n",
       "      <td>2280</td>\n",
       "      <td>16.9</td>\n",
       "      <td>180</td>\n",
       "      <td>102</td>\n",
       "      <td>...</td>\n",
       "      <td>1</td>\n",
       "      <td>0</td>\n",
       "      <td>0</td>\n",
       "      <td>1</td>\n",
       "      <td>0</td>\n",
       "      <td>1</td>\n",
       "      <td>0</td>\n",
       "      <td>0</td>\n",
       "      <td>0</td>\n",
       "      <td>1</td>\n",
       "    </tr>\n",
       "    <tr>\n",
       "      <th>4</th>\n",
       "      <td>1.0</td>\n",
       "      <td>19</td>\n",
       "      <td>26</td>\n",
       "      <td>2.8</td>\n",
       "      <td>172</td>\n",
       "      <td>5500</td>\n",
       "      <td>2535</td>\n",
       "      <td>21.1</td>\n",
       "      <td>193</td>\n",
       "      <td>106</td>\n",
       "      <td>...</td>\n",
       "      <td>1</td>\n",
       "      <td>0</td>\n",
       "      <td>0</td>\n",
       "      <td>1</td>\n",
       "      <td>0</td>\n",
       "      <td>0</td>\n",
       "      <td>1</td>\n",
       "      <td>0</td>\n",
       "      <td>0</td>\n",
       "      <td>1</td>\n",
       "    </tr>\n",
       "    <tr>\n",
       "      <th>5</th>\n",
       "      <td>1.0</td>\n",
       "      <td>22</td>\n",
       "      <td>30</td>\n",
       "      <td>3.5</td>\n",
       "      <td>208</td>\n",
       "      <td>5700</td>\n",
       "      <td>2545</td>\n",
       "      <td>21.1</td>\n",
       "      <td>186</td>\n",
       "      <td>109</td>\n",
       "      <td>...</td>\n",
       "      <td>0</td>\n",
       "      <td>0</td>\n",
       "      <td>0</td>\n",
       "      <td>1</td>\n",
       "      <td>1</td>\n",
       "      <td>0</td>\n",
       "      <td>0</td>\n",
       "      <td>0</td>\n",
       "      <td>0</td>\n",
       "      <td>1</td>\n",
       "    </tr>\n",
       "  </tbody>\n",
       "</table>\n",
       "<p>5 rows × 36 columns</p>\n",
       "</div>"
      ],
      "text/plain": [
       "   const  MPG.city  MPG.highway  EngineSize  Horsepower   RPM  Rev.per.mile  \\\n",
       "1    1.0        25           31         1.8         140  6300          2890   \n",
       "2    1.0        18           25         3.2         200  5500          2335   \n",
       "3    1.0        20           26         2.8         172  5500          2280   \n",
       "4    1.0        19           26         2.8         172  5500          2535   \n",
       "5    1.0        22           30         3.5         208  5700          2545   \n",
       "\n",
       "   Fuel.tank.capacity  Length  Wheelbase  ...  Cylinders_6  Cylinders_8  \\\n",
       "1                13.2     177        102  ...            0            0   \n",
       "2                18.0     195        115  ...            1            0   \n",
       "3                16.9     180        102  ...            1            0   \n",
       "4                21.1     193        106  ...            1            0   \n",
       "5                21.1     186        109  ...            0            0   \n",
       "\n",
       "   Cylinders_rotary  Man.trans.avail_Yes  Passengers_4  Passengers_5  \\\n",
       "1                 0                    1             0             1   \n",
       "2                 0                    1             0             1   \n",
       "3                 0                    1             0             1   \n",
       "4                 0                    1             0             0   \n",
       "5                 0                    1             1             0   \n",
       "\n",
       "   Passengers_6  Passengers_7  Passengers_8  Origin_non-USA  \n",
       "1             0             0             0               1  \n",
       "2             0             0             0               1  \n",
       "3             0             0             0               1  \n",
       "4             1             0             0               1  \n",
       "5             0             0             0               1  \n",
       "\n",
       "[5 rows x 36 columns]"
      ]
     },
     "execution_count": 117,
     "metadata": {},
     "output_type": "execute_result"
    }
   ],
   "source": [
    "Xc.head()"
   ]
  },
  {
   "cell_type": "code",
   "execution_count": 118,
   "metadata": {
    "colab": {
     "base_uri": "https://localhost:8080/",
     "height": 670
    },
    "executionInfo": {
     "elapsed": 614,
     "status": "ok",
     "timestamp": 1671525438502,
     "user": {
      "displayName": "Mahesh Anand",
      "userId": "06788086636039591358"
     },
     "user_tz": -330
    },
    "id": "obm7vyysk5re",
    "outputId": "9fb088c3-a715-40d0-c1a8-d4afba7d6256"
   },
   "outputs": [
    {
     "data": {
      "text/html": [
       "<table class=\"simpletable\">\n",
       "<caption>OLS Regression Results</caption>\n",
       "<tr>\n",
       "  <th>Dep. Variable:</th>          <td>Price</td>      <th>  R-squared:         </th> <td>   0.855</td>\n",
       "</tr>\n",
       "<tr>\n",
       "  <th>Model:</th>                   <td>OLS</td>       <th>  Adj. R-squared:    </th> <td>   0.770</td>\n",
       "</tr>\n",
       "<tr>\n",
       "  <th>Method:</th>             <td>Least Squares</td>  <th>  F-statistic:       </th> <td>   10.06</td>\n",
       "</tr>\n",
       "<tr>\n",
       "  <th>Date:</th>             <td>Tue, 28 Feb 2023</td> <th>  Prob (F-statistic):</th> <td>2.77e-14</td>\n",
       "</tr>\n",
       "<tr>\n",
       "  <th>Time:</th>                 <td>11:41:13</td>     <th>  Log-Likelihood:    </th> <td> -252.59</td>\n",
       "</tr>\n",
       "<tr>\n",
       "  <th>No. Observations:</th>      <td>    93</td>      <th>  AIC:               </th> <td>   575.2</td>\n",
       "</tr>\n",
       "<tr>\n",
       "  <th>Df Residuals:</th>          <td>    58</td>      <th>  BIC:               </th> <td>   663.8</td>\n",
       "</tr>\n",
       "<tr>\n",
       "  <th>Df Model:</th>              <td>    34</td>      <th>                     </th>     <td> </td>   \n",
       "</tr>\n",
       "<tr>\n",
       "  <th>Covariance Type:</th>      <td>nonrobust</td>    <th>                     </th>     <td> </td>   \n",
       "</tr>\n",
       "</table>\n",
       "<table class=\"simpletable\">\n",
       "<tr>\n",
       "           <td></td>              <th>coef</th>     <th>std err</th>      <th>t</th>      <th>P>|t|</th>  <th>[0.025</th>    <th>0.975]</th>  \n",
       "</tr>\n",
       "<tr>\n",
       "  <th>const</th>               <td>  110.8270</td> <td>   35.770</td> <td>    3.098</td> <td> 0.003</td> <td>   39.226</td> <td>  182.428</td>\n",
       "</tr>\n",
       "<tr>\n",
       "  <th>MPG.city</th>            <td>   -0.3244</td> <td>    0.432</td> <td>   -0.750</td> <td> 0.456</td> <td>   -1.190</td> <td>    0.541</td>\n",
       "</tr>\n",
       "<tr>\n",
       "  <th>MPG.highway</th>         <td>    0.1691</td> <td>    0.398</td> <td>    0.425</td> <td> 0.672</td> <td>   -0.627</td> <td>    0.965</td>\n",
       "</tr>\n",
       "<tr>\n",
       "  <th>EngineSize</th>          <td>   -1.6774</td> <td>    2.828</td> <td>   -0.593</td> <td> 0.555</td> <td>   -7.337</td> <td>    3.983</td>\n",
       "</tr>\n",
       "<tr>\n",
       "  <th>Horsepower</th>          <td>    0.1388</td> <td>    0.045</td> <td>    3.088</td> <td> 0.003</td> <td>    0.049</td> <td>    0.229</td>\n",
       "</tr>\n",
       "<tr>\n",
       "  <th>RPM</th>                 <td>   -0.0026</td> <td>    0.002</td> <td>   -1.169</td> <td> 0.247</td> <td>   -0.007</td> <td>    0.002</td>\n",
       "</tr>\n",
       "<tr>\n",
       "  <th>Rev.per.mile</th>        <td>    0.0017</td> <td>    0.002</td> <td>    0.771</td> <td> 0.444</td> <td>   -0.003</td> <td>    0.006</td>\n",
       "</tr>\n",
       "<tr>\n",
       "  <th>Fuel.tank.capacity</th>  <td>    0.4672</td> <td>    0.540</td> <td>    0.865</td> <td> 0.391</td> <td>   -0.614</td> <td>    1.549</td>\n",
       "</tr>\n",
       "<tr>\n",
       "  <th>Length</th>              <td>    0.0485</td> <td>    0.110</td> <td>    0.443</td> <td> 0.660</td> <td>   -0.171</td> <td>    0.268</td>\n",
       "</tr>\n",
       "<tr>\n",
       "  <th>Wheelbase</th>           <td>    0.3850</td> <td>    0.274</td> <td>    1.407</td> <td> 0.165</td> <td>   -0.163</td> <td>    0.933</td>\n",
       "</tr>\n",
       "<tr>\n",
       "  <th>Width</th>               <td>   -1.9087</td> <td>    0.544</td> <td>   -3.511</td> <td> 0.001</td> <td>   -2.997</td> <td>   -0.820</td>\n",
       "</tr>\n",
       "<tr>\n",
       "  <th>Turn.circle</th>         <td>   -0.6224</td> <td>    0.365</td> <td>   -1.703</td> <td> 0.094</td> <td>   -1.354</td> <td>    0.109</td>\n",
       "</tr>\n",
       "<tr>\n",
       "  <th>Rear.seat.room</th>      <td>    0.3343</td> <td>    0.359</td> <td>    0.932</td> <td> 0.355</td> <td>   -0.384</td> <td>    1.053</td>\n",
       "</tr>\n",
       "<tr>\n",
       "  <th>Luggage.room</th>        <td>    0.2737</td> <td>    0.339</td> <td>    0.808</td> <td> 0.423</td> <td>   -0.405</td> <td>    0.952</td>\n",
       "</tr>\n",
       "<tr>\n",
       "  <th>Weight</th>              <td>   -0.0013</td> <td>    0.006</td> <td>   -0.237</td> <td> 0.813</td> <td>   -0.013</td> <td>    0.010</td>\n",
       "</tr>\n",
       "<tr>\n",
       "  <th>Type_Large</th>          <td>    1.5368</td> <td>    4.227</td> <td>    0.364</td> <td> 0.718</td> <td>   -6.925</td> <td>    9.999</td>\n",
       "</tr>\n",
       "<tr>\n",
       "  <th>Type_Midsize</th>        <td>    3.9322</td> <td>    2.457</td> <td>    1.601</td> <td> 0.115</td> <td>   -0.986</td> <td>    8.850</td>\n",
       "</tr>\n",
       "<tr>\n",
       "  <th>Type_Small</th>          <td>    1.1903</td> <td>    2.657</td> <td>    0.448</td> <td> 0.656</td> <td>   -4.129</td> <td>    6.509</td>\n",
       "</tr>\n",
       "<tr>\n",
       "  <th>Type_Sporty</th>         <td>    6.5059</td> <td>    3.371</td> <td>    1.930</td> <td> 0.059</td> <td>   -0.242</td> <td>   13.254</td>\n",
       "</tr>\n",
       "<tr>\n",
       "  <th>Type_Van</th>            <td>    3.6835</td> <td>    7.196</td> <td>    0.512</td> <td> 0.611</td> <td>  -10.722</td> <td>   18.089</td>\n",
       "</tr>\n",
       "<tr>\n",
       "  <th>AirBags_Driver only</th> <td>   -3.7364</td> <td>    1.897</td> <td>   -1.970</td> <td> 0.054</td> <td>   -7.533</td> <td>    0.060</td>\n",
       "</tr>\n",
       "<tr>\n",
       "  <th>AirBags_None</th>        <td>   -8.3008</td> <td>    2.181</td> <td>   -3.806</td> <td> 0.000</td> <td>  -12.666</td> <td>   -3.936</td>\n",
       "</tr>\n",
       "<tr>\n",
       "  <th>DriveTrain_Front</th>    <td>    2.2805</td> <td>    2.297</td> <td>    0.993</td> <td> 0.325</td> <td>   -2.318</td> <td>    6.879</td>\n",
       "</tr>\n",
       "<tr>\n",
       "  <th>DriveTrain_Rear</th>     <td>    7.2573</td> <td>    2.915</td> <td>    2.490</td> <td> 0.016</td> <td>    1.423</td> <td>   13.092</td>\n",
       "</tr>\n",
       "<tr>\n",
       "  <th>Cylinders_4</th>         <td>   -2.1621</td> <td>    4.446</td> <td>   -0.486</td> <td> 0.629</td> <td>  -11.061</td> <td>    6.737</td>\n",
       "</tr>\n",
       "<tr>\n",
       "  <th>Cylinders_5</th>         <td>   -3.5966</td> <td>    6.722</td> <td>   -0.535</td> <td> 0.595</td> <td>  -17.052</td> <td>    9.859</td>\n",
       "</tr>\n",
       "<tr>\n",
       "  <th>Cylinders_6</th>         <td>    0.8184</td> <td>    5.614</td> <td>    0.146</td> <td> 0.885</td> <td>  -10.419</td> <td>   12.056</td>\n",
       "</tr>\n",
       "<tr>\n",
       "  <th>Cylinders_8</th>         <td>    3.4500</td> <td>    6.832</td> <td>    0.505</td> <td> 0.616</td> <td>  -10.226</td> <td>   17.126</td>\n",
       "</tr>\n",
       "<tr>\n",
       "  <th>Cylinders_rotary</th>    <td>  -15.0831</td> <td>   12.735</td> <td>   -1.184</td> <td> 0.241</td> <td>  -40.576</td> <td>   10.410</td>\n",
       "</tr>\n",
       "<tr>\n",
       "  <th>Man.trans.avail_Yes</th> <td>   -1.9656</td> <td>    2.167</td> <td>   -0.907</td> <td> 0.368</td> <td>   -6.303</td> <td>    2.372</td>\n",
       "</tr>\n",
       "<tr>\n",
       "  <th>Passengers_4</th>        <td>   -5.4956</td> <td>    7.065</td> <td>   -0.778</td> <td> 0.440</td> <td>  -19.638</td> <td>    8.646</td>\n",
       "</tr>\n",
       "<tr>\n",
       "  <th>Passengers_5</th>        <td>   -2.3710</td> <td>    7.490</td> <td>   -0.317</td> <td> 0.753</td> <td>  -17.363</td> <td>   12.621</td>\n",
       "</tr>\n",
       "<tr>\n",
       "  <th>Passengers_6</th>        <td>   -2.3840</td> <td>    8.221</td> <td>   -0.290</td> <td> 0.773</td> <td>  -18.840</td> <td>   14.072</td>\n",
       "</tr>\n",
       "<tr>\n",
       "  <th>Passengers_7</th>        <td>    0.3024</td> <td>    4.116</td> <td>    0.073</td> <td> 0.942</td> <td>   -7.936</td> <td>    8.541</td>\n",
       "</tr>\n",
       "<tr>\n",
       "  <th>Passengers_8</th>        <td>    3.3811</td> <td>    5.639</td> <td>    0.600</td> <td> 0.551</td> <td>   -7.907</td> <td>   14.670</td>\n",
       "</tr>\n",
       "<tr>\n",
       "  <th>Origin_non-USA</th>      <td>    0.8789</td> <td>    1.641</td> <td>    0.536</td> <td> 0.594</td> <td>   -2.406</td> <td>    4.164</td>\n",
       "</tr>\n",
       "</table>\n",
       "<table class=\"simpletable\">\n",
       "<tr>\n",
       "  <th>Omnibus:</th>       <td>13.833</td> <th>  Durbin-Watson:     </th> <td>   1.771</td>\n",
       "</tr>\n",
       "<tr>\n",
       "  <th>Prob(Omnibus):</th> <td> 0.001</td> <th>  Jarque-Bera (JB):  </th> <td>  21.576</td>\n",
       "</tr>\n",
       "<tr>\n",
       "  <th>Skew:</th>          <td> 0.628</td> <th>  Prob(JB):          </th> <td>2.06e-05</td>\n",
       "</tr>\n",
       "<tr>\n",
       "  <th>Kurtosis:</th>      <td> 4.997</td> <th>  Cond. No.          </th> <td>1.00e+16</td>\n",
       "</tr>\n",
       "</table><br/><br/>Notes:<br/>[1] Standard Errors assume that the covariance matrix of the errors is correctly specified.<br/>[2] The smallest eigenvalue is 3.98e-23. This might indicate that there are<br/>strong multicollinearity problems or that the design matrix is singular."
      ],
      "text/plain": [
       "<class 'statsmodels.iolib.summary.Summary'>\n",
       "\"\"\"\n",
       "                            OLS Regression Results                            \n",
       "==============================================================================\n",
       "Dep. Variable:                  Price   R-squared:                       0.855\n",
       "Model:                            OLS   Adj. R-squared:                  0.770\n",
       "Method:                 Least Squares   F-statistic:                     10.06\n",
       "Date:                Tue, 28 Feb 2023   Prob (F-statistic):           2.77e-14\n",
       "Time:                        11:41:13   Log-Likelihood:                -252.59\n",
       "No. Observations:                  93   AIC:                             575.2\n",
       "Df Residuals:                      58   BIC:                             663.8\n",
       "Df Model:                          34                                         \n",
       "Covariance Type:            nonrobust                                         \n",
       "=======================================================================================\n",
       "                          coef    std err          t      P>|t|      [0.025      0.975]\n",
       "---------------------------------------------------------------------------------------\n",
       "const                 110.8270     35.770      3.098      0.003      39.226     182.428\n",
       "MPG.city               -0.3244      0.432     -0.750      0.456      -1.190       0.541\n",
       "MPG.highway             0.1691      0.398      0.425      0.672      -0.627       0.965\n",
       "EngineSize             -1.6774      2.828     -0.593      0.555      -7.337       3.983\n",
       "Horsepower              0.1388      0.045      3.088      0.003       0.049       0.229\n",
       "RPM                    -0.0026      0.002     -1.169      0.247      -0.007       0.002\n",
       "Rev.per.mile            0.0017      0.002      0.771      0.444      -0.003       0.006\n",
       "Fuel.tank.capacity      0.4672      0.540      0.865      0.391      -0.614       1.549\n",
       "Length                  0.0485      0.110      0.443      0.660      -0.171       0.268\n",
       "Wheelbase               0.3850      0.274      1.407      0.165      -0.163       0.933\n",
       "Width                  -1.9087      0.544     -3.511      0.001      -2.997      -0.820\n",
       "Turn.circle            -0.6224      0.365     -1.703      0.094      -1.354       0.109\n",
       "Rear.seat.room          0.3343      0.359      0.932      0.355      -0.384       1.053\n",
       "Luggage.room            0.2737      0.339      0.808      0.423      -0.405       0.952\n",
       "Weight                 -0.0013      0.006     -0.237      0.813      -0.013       0.010\n",
       "Type_Large              1.5368      4.227      0.364      0.718      -6.925       9.999\n",
       "Type_Midsize            3.9322      2.457      1.601      0.115      -0.986       8.850\n",
       "Type_Small              1.1903      2.657      0.448      0.656      -4.129       6.509\n",
       "Type_Sporty             6.5059      3.371      1.930      0.059      -0.242      13.254\n",
       "Type_Van                3.6835      7.196      0.512      0.611     -10.722      18.089\n",
       "AirBags_Driver only    -3.7364      1.897     -1.970      0.054      -7.533       0.060\n",
       "AirBags_None           -8.3008      2.181     -3.806      0.000     -12.666      -3.936\n",
       "DriveTrain_Front        2.2805      2.297      0.993      0.325      -2.318       6.879\n",
       "DriveTrain_Rear         7.2573      2.915      2.490      0.016       1.423      13.092\n",
       "Cylinders_4            -2.1621      4.446     -0.486      0.629     -11.061       6.737\n",
       "Cylinders_5            -3.5966      6.722     -0.535      0.595     -17.052       9.859\n",
       "Cylinders_6             0.8184      5.614      0.146      0.885     -10.419      12.056\n",
       "Cylinders_8             3.4500      6.832      0.505      0.616     -10.226      17.126\n",
       "Cylinders_rotary      -15.0831     12.735     -1.184      0.241     -40.576      10.410\n",
       "Man.trans.avail_Yes    -1.9656      2.167     -0.907      0.368      -6.303       2.372\n",
       "Passengers_4           -5.4956      7.065     -0.778      0.440     -19.638       8.646\n",
       "Passengers_5           -2.3710      7.490     -0.317      0.753     -17.363      12.621\n",
       "Passengers_6           -2.3840      8.221     -0.290      0.773     -18.840      14.072\n",
       "Passengers_7            0.3024      4.116      0.073      0.942      -7.936       8.541\n",
       "Passengers_8            3.3811      5.639      0.600      0.551      -7.907      14.670\n",
       "Origin_non-USA          0.8789      1.641      0.536      0.594      -2.406       4.164\n",
       "==============================================================================\n",
       "Omnibus:                       13.833   Durbin-Watson:                   1.771\n",
       "Prob(Omnibus):                  0.001   Jarque-Bera (JB):               21.576\n",
       "Skew:                           0.628   Prob(JB):                     2.06e-05\n",
       "Kurtosis:                       4.997   Cond. No.                     1.00e+16\n",
       "==============================================================================\n",
       "\n",
       "Notes:\n",
       "[1] Standard Errors assume that the covariance matrix of the errors is correctly specified.\n",
       "[2] The smallest eigenvalue is 3.98e-23. This might indicate that there are\n",
       "strong multicollinearity problems or that the design matrix is singular.\n",
       "\"\"\""
      ]
     },
     "execution_count": 118,
     "metadata": {},
     "output_type": "execute_result"
    }
   ],
   "source": [
    "model = sm.OLS(Y,Xc).fit()\n",
    "model.summary()"
   ]
  },
  {
   "cell_type": "code",
   "execution_count": 119,
   "metadata": {
    "executionInfo": {
     "elapsed": 439,
     "status": "ok",
     "timestamp": 1671594408772,
     "user": {
      "displayName": "Mahesh Anand",
      "userId": "06788086636039591358"
     },
     "user_tz": -330
    },
    "id": "_tRyYx3w9wfl"
   },
   "outputs": [],
   "source": [
    "from sklearn.model_selection import cross_val_score,KFold"
   ]
  },
  {
   "cell_type": "code",
   "execution_count": 120,
   "metadata": {
    "colab": {
     "base_uri": "https://localhost:8080/"
    },
    "executionInfo": {
     "elapsed": 660,
     "status": "ok",
     "timestamp": 1671522082136,
     "user": {
      "displayName": "Mahesh Anand",
      "userId": "06788086636039591358"
     },
     "user_tz": -330
    },
    "id": "zXl4lZrDK5-o",
    "outputId": "e9d00004-9489-4929-aacf-f4162cbe5a17"
   },
   "outputs": [
    {
     "data": {
      "text/plain": [
       "['MPG.city',\n",
       " 'MPG.highway',\n",
       " 'EngineSize',\n",
       " 'Horsepower',\n",
       " 'RPM',\n",
       " 'Rev.per.mile',\n",
       " 'Fuel.tank.capacity',\n",
       " 'Length',\n",
       " 'Wheelbase',\n",
       " 'Width',\n",
       " 'Turn.circle',\n",
       " 'Rear.seat.room',\n",
       " 'Luggage.room',\n",
       " 'Weight',\n",
       " 'Type_Large',\n",
       " 'Type_Midsize',\n",
       " 'Type_Small',\n",
       " 'Type_Sporty',\n",
       " 'Type_Van',\n",
       " 'AirBags_Driver only',\n",
       " 'AirBags_None',\n",
       " 'DriveTrain_Front',\n",
       " 'DriveTrain_Rear',\n",
       " 'Cylinders_4',\n",
       " 'Cylinders_5',\n",
       " 'Cylinders_6',\n",
       " 'Cylinders_8',\n",
       " 'Cylinders_rotary',\n",
       " 'Man.trans.avail_Yes',\n",
       " 'Passengers_4',\n",
       " 'Passengers_5',\n",
       " 'Passengers_6',\n",
       " 'Passengers_7',\n",
       " 'Passengers_8',\n",
       " 'Origin_non-USA']"
      ]
     },
     "execution_count": 120,
     "metadata": {},
     "output_type": "execute_result"
    }
   ],
   "source": [
    "cols = list(X.columns)\n",
    "cols"
   ]
  },
  {
   "cell_type": "code",
   "execution_count": 121,
   "metadata": {
    "colab": {
     "base_uri": "https://localhost:8080/"
    },
    "executionInfo": {
     "elapsed": 415,
     "status": "ok",
     "timestamp": 1671522085998,
     "user": {
      "displayName": "Mahesh Anand",
      "userId": "06788086636039591358"
     },
     "user_tz": -330
    },
    "id": "o3h2y6xYOimm",
    "outputId": "557ac464-9456-4294-a5fd-1c2db9e72b6b"
   },
   "outputs": [
    {
     "data": {
      "text/plain": [
       "MPG.city               0.456208\n",
       "MPG.highway            0.672406\n",
       "EngineSize             0.555333\n",
       "Horsepower             0.003090\n",
       "RPM                    0.247042\n",
       "Rev.per.mile           0.443602\n",
       "Fuel.tank.capacity     0.390792\n",
       "Length                 0.659612\n",
       "Wheelbase              0.164665\n",
       "Width                  0.000872\n",
       "Turn.circle            0.093906\n",
       "Rear.seat.room         0.355425\n",
       "Luggage.room           0.422625\n",
       "Weight                 0.813446\n",
       "Type_Large             0.717532\n",
       "Type_Midsize           0.114914\n",
       "Type_Small             0.655873\n",
       "Type_Sporty            0.058502\n",
       "Type_Van               0.610702\n",
       "AirBags_Driver only    0.053615\n",
       "AirBags_None           0.000342\n",
       "DriveTrain_Front       0.324955\n",
       "DriveTrain_Rear        0.015668\n",
       "Cylinders_4            0.628581\n",
       "Cylinders_5            0.594660\n",
       "Cylinders_6            0.884602\n",
       "Cylinders_8            0.615501\n",
       "Cylinders_rotary       0.241107\n",
       "Man.trans.avail_Yes    0.368069\n",
       "Passengers_4           0.439801\n",
       "Passengers_5           0.752702\n",
       "Passengers_6           0.772849\n",
       "Passengers_7           0.941685\n",
       "Passengers_8           0.551140\n",
       "Origin_non-USA         0.594265\n",
       "dtype: float64"
      ]
     },
     "execution_count": 121,
     "metadata": {},
     "output_type": "execute_result"
    }
   ],
   "source": [
    "p = pd.Series(model.pvalues.values[1:],index = cols) \n",
    "p   "
   ]
  },
  {
   "cell_type": "code",
   "execution_count": 122,
   "metadata": {
    "colab": {
     "base_uri": "https://localhost:8080/"
    },
    "executionInfo": {
     "elapsed": 457,
     "status": "ok",
     "timestamp": 1671522096070,
     "user": {
      "displayName": "Mahesh Anand",
      "userId": "06788086636039591358"
     },
     "user_tz": -330
    },
    "id": "4uhdjTfdPCsj",
    "outputId": "1f0e20e0-ae6c-4093-f846-207e7cb3a4c9"
   },
   "outputs": [
    {
     "data": {
      "text/plain": [
       "0.9416850917337998"
      ]
     },
     "execution_count": 122,
     "metadata": {},
     "output_type": "execute_result"
    }
   ],
   "source": [
    "pmax = max(p)\n",
    "pmax"
   ]
  },
  {
   "cell_type": "code",
   "execution_count": 123,
   "metadata": {
    "colab": {
     "base_uri": "https://localhost:8080/",
     "height": 35
    },
    "executionInfo": {
     "elapsed": 553,
     "status": "ok",
     "timestamp": 1671522100887,
     "user": {
      "displayName": "Mahesh Anand",
      "userId": "06788086636039591358"
     },
     "user_tz": -330
    },
    "id": "zevpHBDUPLfn",
    "outputId": "e7d5e5ae-fe36-4bfd-bfb6-31f1cc8dc581"
   },
   "outputs": [
    {
     "data": {
      "text/plain": [
       "'Passengers_7'"
      ]
     },
     "execution_count": 123,
     "metadata": {},
     "output_type": "execute_result"
    }
   ],
   "source": [
    "p.idxmax()"
   ]
  },
  {
   "cell_type": "code",
   "execution_count": 124,
   "metadata": {
    "id": "cBn80oGxPUy8"
   },
   "outputs": [],
   "source": [
    "cols.remove(p.idxmax())"
   ]
  },
  {
   "cell_type": "code",
   "execution_count": 125,
   "metadata": {
    "colab": {
     "base_uri": "https://localhost:8080/"
    },
    "executionInfo": {
     "elapsed": 412,
     "status": "ok",
     "timestamp": 1671594414499,
     "user": {
      "displayName": "Mahesh Anand",
      "userId": "06788086636039591358"
     },
     "user_tz": -330
    },
    "id": "_zJ0kPdfm8Rl",
    "outputId": "c894f18c-0398-4c4b-8a34-b646279ea372"
   },
   "outputs": [
    {
     "name": "stdout",
     "output_type": "stream",
     "text": [
      "['Horsepower', 'Fuel.tank.capacity', 'Wheelbase', 'Width', 'Type_Midsize', 'AirBags_Driver only', 'AirBags_None', 'DriveTrain_Rear']\n"
     ]
    }
   ],
   "source": [
    "#Feature Selection by Recursive Backward Elimination\n",
    "cols = list(X.columns)\n",
    "pmax = 1\n",
    "while (len(cols)>0):\n",
    "    p= []\n",
    "    X = X[cols]\n",
    "    Xc = sm.add_constant(X)\n",
    "    model = sm.OLS(Y,Xc).fit()\n",
    "    p = pd.Series(model.pvalues.values[1:],index = cols)      \n",
    "    pmax = max(p)\n",
    "    feature_with_p_max = p.idxmax()\n",
    "    if(pmax>0.05):\n",
    "        cols.remove(feature_with_p_max)\n",
    "    else:\n",
    "        break\n",
    "selected_features = cols\n",
    "print(selected_features)"
   ]
  },
  {
   "cell_type": "code",
   "execution_count": 126,
   "metadata": {
    "colab": {
     "base_uri": "https://localhost:8080/",
     "height": 288
    },
    "executionInfo": {
     "elapsed": 421,
     "status": "ok",
     "timestamp": 1671594418772,
     "user": {
      "displayName": "Mahesh Anand",
      "userId": "06788086636039591358"
     },
     "user_tz": -330
    },
    "id": "bx94NkvZcuPN",
    "outputId": "e2113cc7-3056-4517-b037-aa668d763ced"
   },
   "outputs": [
    {
     "data": {
      "text/html": [
       "<div>\n",
       "<style scoped>\n",
       "    .dataframe tbody tr th:only-of-type {\n",
       "        vertical-align: middle;\n",
       "    }\n",
       "\n",
       "    .dataframe tbody tr th {\n",
       "        vertical-align: top;\n",
       "    }\n",
       "\n",
       "    .dataframe thead th {\n",
       "        text-align: right;\n",
       "    }\n",
       "</style>\n",
       "<table border=\"1\" class=\"dataframe\">\n",
       "  <thead>\n",
       "    <tr style=\"text-align: right;\">\n",
       "      <th></th>\n",
       "      <th>Horsepower</th>\n",
       "      <th>Fuel.tank.capacity</th>\n",
       "      <th>Wheelbase</th>\n",
       "      <th>Width</th>\n",
       "      <th>Type_Midsize</th>\n",
       "      <th>AirBags_Driver only</th>\n",
       "      <th>AirBags_None</th>\n",
       "      <th>DriveTrain_Rear</th>\n",
       "    </tr>\n",
       "  </thead>\n",
       "  <tbody>\n",
       "    <tr>\n",
       "      <th>1</th>\n",
       "      <td>140</td>\n",
       "      <td>13.2</td>\n",
       "      <td>102</td>\n",
       "      <td>68</td>\n",
       "      <td>0</td>\n",
       "      <td>0</td>\n",
       "      <td>1</td>\n",
       "      <td>0</td>\n",
       "    </tr>\n",
       "    <tr>\n",
       "      <th>2</th>\n",
       "      <td>200</td>\n",
       "      <td>18.0</td>\n",
       "      <td>115</td>\n",
       "      <td>71</td>\n",
       "      <td>1</td>\n",
       "      <td>0</td>\n",
       "      <td>0</td>\n",
       "      <td>0</td>\n",
       "    </tr>\n",
       "    <tr>\n",
       "      <th>3</th>\n",
       "      <td>172</td>\n",
       "      <td>16.9</td>\n",
       "      <td>102</td>\n",
       "      <td>67</td>\n",
       "      <td>0</td>\n",
       "      <td>1</td>\n",
       "      <td>0</td>\n",
       "      <td>0</td>\n",
       "    </tr>\n",
       "    <tr>\n",
       "      <th>4</th>\n",
       "      <td>172</td>\n",
       "      <td>21.1</td>\n",
       "      <td>106</td>\n",
       "      <td>70</td>\n",
       "      <td>1</td>\n",
       "      <td>0</td>\n",
       "      <td>0</td>\n",
       "      <td>0</td>\n",
       "    </tr>\n",
       "    <tr>\n",
       "      <th>5</th>\n",
       "      <td>208</td>\n",
       "      <td>21.1</td>\n",
       "      <td>109</td>\n",
       "      <td>69</td>\n",
       "      <td>1</td>\n",
       "      <td>1</td>\n",
       "      <td>0</td>\n",
       "      <td>1</td>\n",
       "    </tr>\n",
       "  </tbody>\n",
       "</table>\n",
       "</div>"
      ],
      "text/plain": [
       "   Horsepower  Fuel.tank.capacity  Wheelbase  Width  Type_Midsize  \\\n",
       "1         140                13.2        102     68             0   \n",
       "2         200                18.0        115     71             1   \n",
       "3         172                16.9        102     67             0   \n",
       "4         172                21.1        106     70             1   \n",
       "5         208                21.1        109     69             1   \n",
       "\n",
       "   AirBags_Driver only  AirBags_None  DriveTrain_Rear  \n",
       "1                    0             1                0  \n",
       "2                    0             0                0  \n",
       "3                    1             0                0  \n",
       "4                    0             0                0  \n",
       "5                    1             0                1  "
      ]
     },
     "execution_count": 126,
     "metadata": {},
     "output_type": "execute_result"
    }
   ],
   "source": [
    "X_new=X[selected_features]\n",
    "X_new.head()"
   ]
  },
  {
   "cell_type": "code",
   "execution_count": 127,
   "metadata": {
    "colab": {
     "base_uri": "https://localhost:8080/"
    },
    "executionInfo": {
     "elapsed": 673,
     "status": "ok",
     "timestamp": 1671594424963,
     "user": {
      "displayName": "Mahesh Anand",
      "userId": "06788086636039591358"
     },
     "user_tz": -330
    },
    "id": "DcR7S6ISR2se",
    "outputId": "bcef397f-fba0-4e42-e007-cc1a5a9e6b22"
   },
   "outputs": [
    {
     "name": "stdout",
     "output_type": "stream",
     "text": [
      "Bias_Error 5.065193476244539\n",
      "Var_Error 0.994297948644457\n"
     ]
    }
   ],
   "source": [
    "LR=LinearRegression()\n",
    "from sklearn.model_selection import cross_val_score,KFold\n",
    "kf=KFold(n_splits=3,shuffle=True,random_state=0) #explicit definition\n",
    "rmse=cross_val_score(LR,X_new,Y,cv=kf,scoring='neg_root_mean_squared_error')\n",
    "rmse_avg=np.mean(np.abs(rmse))\n",
    "rmse_sd=np.std(np.abs(rmse),ddof=1)\n",
    "print('Bias_Error',rmse_avg)\n",
    "print('Var_Error',rmse_sd)"
   ]
  },
  {
   "cell_type": "code",
   "execution_count": 128,
   "metadata": {
    "executionInfo": {
     "elapsed": 687,
     "status": "ok",
     "timestamp": 1671594427831,
     "user": {
      "displayName": "Mahesh Anand",
      "userId": "06788086636039591358"
     },
     "user_tz": -330
    },
    "id": "YIeQuy8OQtSd"
   },
   "outputs": [],
   "source": [
    "from sklearn.linear_model import LinearRegression\n",
    "from sklearn.neighbors import KNeighborsRegressor\n",
    "from sklearn.ensemble import BaggingRegressor,AdaBoostRegressor,GradientBoostingRegressor,RandomForestRegressor,VotingRegressor\n",
    "from sklearn.model_selection import cross_val_score,GridSearchCV\n"
   ]
  },
  {
   "cell_type": "code",
   "execution_count": 129,
   "metadata": {
    "executionInfo": {
     "elapsed": 2,
     "status": "ok",
     "timestamp": 1671594429418,
     "user": {
      "displayName": "Mahesh Anand",
      "userId": "06788086636039591358"
     },
     "user_tz": -330
    },
    "id": "kGPARARWAimo"
   },
   "outputs": [],
   "source": [
    "from sklearn.preprocessing import StandardScaler"
   ]
  },
  {
   "cell_type": "code",
   "execution_count": 130,
   "metadata": {
    "executionInfo": {
     "elapsed": 3,
     "status": "ok",
     "timestamp": 1671594430422,
     "user": {
      "displayName": "Mahesh Anand",
      "userId": "06788086636039591358"
     },
     "user_tz": -330
    },
    "id": "j2UxTpEPAwpK"
   },
   "outputs": [],
   "source": [
    "sc=StandardScaler()"
   ]
  },
  {
   "cell_type": "code",
   "execution_count": 131,
   "metadata": {
    "executionInfo": {
     "elapsed": 2,
     "status": "ok",
     "timestamp": 1671594431964,
     "user": {
      "displayName": "Mahesh Anand",
      "userId": "06788086636039591358"
     },
     "user_tz": -330
    },
    "id": "reqCQZSIAqRg"
   },
   "outputs": [],
   "source": [
    "X_std=sc.fit_transform(X_new)"
   ]
  },
  {
   "cell_type": "code",
   "execution_count": 132,
   "metadata": {
    "colab": {
     "base_uri": "https://localhost:8080/"
    },
    "executionInfo": {
     "elapsed": 4,
     "status": "ok",
     "timestamp": 1671594434158,
     "user": {
      "displayName": "Mahesh Anand",
      "userId": "06788086636039591358"
     },
     "user_tz": -330
    },
    "id": "zS80Ybv2Xec_",
    "outputId": "6d1a3856-b0a4-4008-9081-b0cdfe689013"
   },
   "outputs": [
    {
     "data": {
      "text/plain": [
       "GridSearchCV(cv=KFold(n_splits=3, random_state=0, shuffle=True),\n",
       "             estimator=KNeighborsRegressor(),\n",
       "             param_grid={'n_neighbors': array([ 2,  3,  4,  5,  6,  7,  8,  9, 10, 11, 12, 13, 14, 15, 16, 17, 18,\n",
       "       19]),\n",
       "                         'weights': ['uniform', 'distance']},\n",
       "             scoring='neg_root_mean_squared_error')"
      ]
     },
     "execution_count": 132,
     "metadata": {},
     "output_type": "execute_result"
    }
   ],
   "source": [
    "knn=KNeighborsRegressor()\n",
    "hyp_par={'n_neighbors':np.arange(2,20),'weights':['uniform','distance']}\n",
    "kf=KFold(n_splits=3,shuffle=True,random_state=0)\n",
    "GS=GridSearchCV(knn,hyp_par,cv=kf,scoring='neg_root_mean_squared_error')\n",
    "GS.fit(X_std,Y)"
   ]
  },
  {
   "cell_type": "code",
   "execution_count": 133,
   "metadata": {
    "colab": {
     "base_uri": "https://localhost:8080/"
    },
    "executionInfo": {
     "elapsed": 405,
     "status": "ok",
     "timestamp": 1671594437098,
     "user": {
      "displayName": "Mahesh Anand",
      "userId": "06788086636039591358"
     },
     "user_tz": -330
    },
    "id": "ykvJUBDVYJOf",
    "outputId": "85257c92-65a4-471b-f002-9fe0667f017c"
   },
   "outputs": [
    {
     "data": {
      "text/plain": [
       "{'n_neighbors': 9, 'weights': 'distance'}"
      ]
     },
     "execution_count": 133,
     "metadata": {},
     "output_type": "execute_result"
    }
   ],
   "source": [
    "GS.best_params_"
   ]
  },
  {
   "cell_type": "code",
   "execution_count": 135,
   "metadata": {
    "executionInfo": {
     "elapsed": 407,
     "status": "ok",
     "timestamp": 1671594439470,
     "user": {
      "displayName": "Mahesh Anand",
      "userId": "06788086636039591358"
     },
     "user_tz": -330
    },
    "id": "zxqwkEpBZsoo"
   },
   "outputs": [],
   "source": [
    "knn_tuned=KNeighborsRegressor(n_neighbors=14,weights='distance')"
   ]
  },
  {
   "cell_type": "code",
   "execution_count": 136,
   "metadata": {
    "colab": {
     "base_uri": "https://localhost:8080/"
    },
    "executionInfo": {
     "elapsed": 2,
     "status": "ok",
     "timestamp": 1671594441484,
     "user": {
      "displayName": "Mahesh Anand",
      "userId": "06788086636039591358"
     },
     "user_tz": -330
    },
    "id": "Iw0vaztxZoDU",
    "outputId": "3c72a72b-4acf-40a6-ee4d-a69b65c4d4a3"
   },
   "outputs": [
    {
     "name": "stdout",
     "output_type": "stream",
     "text": [
      "Bias_Error 6.350640162684187\n",
      "Var_Error 2.0427639589566953\n"
     ]
    }
   ],
   "source": [
    "rmse=cross_val_score(knn_tuned,X_std,Y,cv=kf,scoring='neg_root_mean_squared_error')\n",
    "rmse_avg=np.mean(np.abs(rmse))\n",
    "rmse_sd=np.std(np.abs(rmse),ddof=1)\n",
    "print('Bias_Error',rmse_avg)\n",
    "print('Var_Error',rmse_sd)\n"
   ]
  },
  {
   "cell_type": "code",
   "execution_count": 138,
   "metadata": {},
   "outputs": [
    {
     "data": {
      "text/plain": [
       "4.31"
      ]
     },
     "execution_count": 138,
     "metadata": {},
     "output_type": "execute_result"
    }
   ],
   "source": [
    "6.35-2.04"
   ]
  },
  {
   "cell_type": "raw",
   "metadata": {},
   "source": [
    "# InterPretation\n",
    "our model indicates least difference of 4310$ to max diff of 6000$  with avg price of 6,300$"
   ]
  },
  {
   "cell_type": "code",
   "execution_count": 57,
   "metadata": {
    "executionInfo": {
     "elapsed": 4956,
     "status": "ok",
     "timestamp": 1671598674478,
     "user": {
      "displayName": "Mahesh Anand",
      "userId": "06788086636039591358"
     },
     "user_tz": -330
    },
    "id": "mmtlK0yDftJt"
   },
   "outputs": [],
   "source": [
    "GB_bias=[]\n",
    "GB_ve=[]\n",
    "for n in np.arange(1,100):\n",
    "  GB=GradientBoostingRegressor(n_estimators=n,random_state=0)\n",
    "  scores=cross_val_score(GB,X_std,Y,cv=3,scoring='neg_mean_squared_error')\n",
    "  rmse=np.sqrt(np.abs(scores))\n",
    "  GB_bias.append(np.mean(rmse))\n",
    "  GB_ve.append((np.std(rmse,ddof=1)))\n"
   ]
  },
  {
   "cell_type": "code",
   "execution_count": 58,
   "metadata": {
    "colab": {
     "base_uri": "https://localhost:8080/",
     "height": 385
    },
    "executionInfo": {
     "elapsed": 8,
     "status": "ok",
     "timestamp": 1671598674478,
     "user": {
      "displayName": "Mahesh Anand",
      "userId": "06788086636039591358"
     },
     "user_tz": -330
    },
    "id": "uEoTnGNVsqOx",
    "outputId": "90f9127d-907b-4eff-b9bb-b0fb8a9aa9dc"
   },
   "outputs": [
    {
     "data": {
      "text/plain": [
       "[<matplotlib.lines.Line2D at 0x1c191c06850>]"
      ]
     },
     "execution_count": 58,
     "metadata": {},
     "output_type": "execute_result"
    },
    {
     "data": {
      "image/png": "[encoded data removed]",
      "text/plain": [
       "<Figure size 432x288 with 1 Axes>"
      ]
     },
     "metadata": {
      "needs_background": "light"
     },
     "output_type": "display_data"
    }
   ],
   "source": [
    "x_axis=np.arange(len(GB_bias))\n",
    "plt.plot(x_axis,GB_bias)"
   ]
  },
  {
   "cell_type": "code",
   "execution_count": 59,
   "metadata": {
    "colab": {
     "base_uri": "https://localhost:8080/"
    },
    "executionInfo": {
     "elapsed": 386,
     "status": "ok",
     "timestamp": 1671598678093,
     "user": {
      "displayName": "Mahesh Anand",
      "userId": "06788086636039591358"
     },
     "user_tz": -330
    },
    "id": "zuAXDszas_WG",
    "outputId": "243ca9b2-5b68-4c76-f4a4-605f0f5cfc53"
   },
   "outputs": [
    {
     "data": {
      "text/plain": [
       "14"
      ]
     },
     "execution_count": 59,
     "metadata": {},
     "output_type": "execute_result"
    }
   ],
   "source": [
    "np.argmin(GB_bias)"
   ]
  },
  {
   "cell_type": "code",
   "execution_count": 60,
   "metadata": {
    "executionInfo": {
     "elapsed": 4719,
     "status": "ok",
     "timestamp": 1671598507031,
     "user": {
      "displayName": "Mahesh Anand",
      "userId": "06788086636039591358"
     },
     "user_tz": -330
    },
    "id": "9KvnpYbzBu6B"
   },
   "outputs": [],
   "source": [
    "ABLR_BE=[]\n",
    "for n in np.arange(1,100):\n",
    "  ABLR=AdaBoostRegressor(base_estimator=LR,n_estimators=n,random_state=0)\n",
    "  scores=cross_val_score(ABLR,X_std,Y,cv=3,scoring='neg_mean_squared_error')\n",
    "  rmse=np.sqrt(np.abs(scores))\n",
    "  ABLR_BE.append(np.mean(rmse))"
   ]
  },
  {
   "cell_type": "code",
   "execution_count": 53,
   "metadata": {
    "colab": {
     "base_uri": "https://localhost:8080/",
     "height": 385
    },
    "executionInfo": {
     "elapsed": 711,
     "status": "ok",
     "timestamp": 1671598530632,
     "user": {
      "displayName": "Mahesh Anand",
      "userId": "06788086636039591358"
     },
     "user_tz": -330
    },
    "id": "8eZHnEywCQ9e",
    "outputId": "0b545419-16bd-4056-9ad4-4d52bebdfe9a"
   },
   "outputs": [
    {
     "data": {
      "text/plain": [
       "[<matplotlib.lines.Line2D at 0x7fce18fea700>]"
      ]
     },
     "execution_count": 53,
     "metadata": {},
     "output_type": "execute_result"
    },
    {
     "data": {
      "image/png": "[encoded data removed]",
      "text/plain": [
       "<Figure size 1080x576 with 1 Axes>"
      ]
     },
     "metadata": {
      "needs_background": "light"
     },
     "output_type": "display_data"
    }
   ],
   "source": [
    "x_axis=np.arange(len(ABLR_BE))\n",
    "plt.plot(x_axis,ABLR_BE)"
   ]
  },
  {
   "cell_type": "code",
   "execution_count": 61,
   "metadata": {
    "colab": {
     "base_uri": "https://localhost:8080/"
    },
    "executionInfo": {
     "elapsed": 3,
     "status": "ok",
     "timestamp": 1671598563271,
     "user": {
      "displayName": "Mahesh Anand",
      "userId": "06788086636039591358"
     },
     "user_tz": -330
    },
    "id": "_NQOGxZfCbuX",
    "outputId": "34b1e95e-a1ba-44ee-9f70-e617a1c6635e"
   },
   "outputs": [
    {
     "data": {
      "text/plain": [
       "4"
      ]
     },
     "execution_count": 61,
     "metadata": {},
     "output_type": "execute_result"
    }
   ],
   "source": [
    "np.argmin(ABLR_BE)"
   ]
  },
  {
   "cell_type": "code",
   "execution_count": 62,
   "metadata": {
    "executionInfo": {
     "elapsed": 50064,
     "status": "ok",
     "timestamp": 1671597176937,
     "user": {
      "displayName": "Mahesh Anand",
      "userId": "06788086636039591358"
     },
     "user_tz": -330
    },
    "id": "h46pqOd3uA8L"
   },
   "outputs": [],
   "source": [
    "AB_bias=[]\n",
    "for n in np.arange(1,150):\n",
    "  AB=AdaBoostRegressor(n_estimators=n,random_state=0)\n",
    "  scores=cross_val_score(AB,X_std,Y,cv=3,scoring='neg_mean_squared_error')\n",
    "  rmse=np.sqrt(np.abs(scores))\n",
    "  AB_bias.append(np.mean(rmse))"
   ]
  },
  {
   "cell_type": "code",
   "execution_count": null,
   "metadata": {
    "id": "eyFt2tcYBt-B"
   },
   "outputs": [],
   "source": []
  },
  {
   "cell_type": "code",
   "execution_count": 40,
   "metadata": {
    "colab": {
     "base_uri": "https://localhost:8080/",
     "height": 385
    },
    "executionInfo": {
     "elapsed": 26,
     "status": "ok",
     "timestamp": 1671597176939,
     "user": {
      "displayName": "Mahesh Anand",
      "userId": "06788086636039591358"
     },
     "user_tz": -330
    },
    "id": "ESLSQhTu8_wM",
    "outputId": "df6f0dcf-148b-4088-b825-fa6f7288913f"
   },
   "outputs": [
    {
     "data": {
      "text/plain": [
       "[<matplotlib.lines.Line2D at 0x7fce19bdb310>]"
      ]
     },
     "execution_count": 40,
     "metadata": {},
     "output_type": "execute_result"
    },
    {
     "data": {
      "image/png": "[encoded data removed]",
      "text/plain": [
       "<Figure size 1080x576 with 1 Axes>"
      ]
     },
     "metadata": {
      "needs_background": "light"
     },
     "output_type": "display_data"
    }
   ],
   "source": [
    "x_axis=np.arange(len(AB_bias))\n",
    "plt.plot(x_axis,AB_bias)"
   ]
  },
  {
   "cell_type": "code",
   "execution_count": 41,
   "metadata": {
    "colab": {
     "base_uri": "https://localhost:8080/"
    },
    "executionInfo": {
     "elapsed": 5,
     "status": "ok",
     "timestamp": 1671597208535,
     "user": {
      "displayName": "Mahesh Anand",
      "userId": "06788086636039591358"
     },
     "user_tz": -330
    },
    "id": "QT7PlmDF9Owh",
    "outputId": "6c121e33-7b41-4e9d-b990-7e1ba9af4022"
   },
   "outputs": [
    {
     "data": {
      "text/plain": [
       "130"
      ]
     },
     "execution_count": 41,
     "metadata": {},
     "output_type": "execute_result"
    }
   ],
   "source": [
    "np.argmin(AB_bias)"
   ]
  },
  {
   "cell_type": "code",
   "execution_count": 42,
   "metadata": {
    "executionInfo": {
     "elapsed": 2,
     "status": "ok",
     "timestamp": 1671597640801,
     "user": {
      "displayName": "Mahesh Anand",
      "userId": "06788086636039591358"
     },
     "user_tz": -330
    },
    "id": "N0UagpI8AAH6"
   },
   "outputs": [],
   "source": [
    "RF_tuned=RandomForestRegressor(criterion='mse',n_estimators=3,random_state=0)"
   ]
  },
  {
   "cell_type": "code",
   "execution_count": 43,
   "metadata": {
    "executionInfo": {
     "elapsed": 93208,
     "status": "ok",
     "timestamp": 1671597893042,
     "user": {
      "displayName": "Mahesh Anand",
      "userId": "06788086636039591358"
     },
     "user_tz": -330
    },
    "id": "qbltQPgKrnXs"
   },
   "outputs": [],
   "source": [
    "ABRF_bias=[]\n",
    "ABRF_var=[]\n",
    "for n in np.arange(1,100):\n",
    "  ABRF=AdaBoostRegressor(base_estimator=RF_tuned,n_estimators=n,random_state=0)\n",
    "  kf=KFold(n_splits=3,shuffle=True,random_state=2)\n",
    "  scores=cross_val_score(ABRF,X_std,Y,cv=kf,scoring='neg_mean_squared_error')\n",
    "  rmse=np.sqrt(np.abs(scores))\n",
    "  ABRF_bias.append(np.mean(rmse))\n",
    "  ABRF_var.append(np.std(rmse,ddof=1))"
   ]
  },
  {
   "cell_type": "code",
   "execution_count": 45,
   "metadata": {
    "colab": {
     "base_uri": "https://localhost:8080/",
     "height": 385
    },
    "executionInfo": {
     "elapsed": 849,
     "status": "ok",
     "timestamp": 1671597920135,
     "user": {
      "displayName": "Mahesh Anand",
      "userId": "06788086636039591358"
     },
     "user_tz": -330
    },
    "id": "q9bKllXkuK6M",
    "outputId": "f1d4e0a2-fb61-4135-b68e-ecdb21db7c9c"
   },
   "outputs": [
    {
     "data": {
      "text/plain": [
       "[<matplotlib.lines.Line2D at 0x7fce19ad19d0>]"
      ]
     },
     "execution_count": 45,
     "metadata": {},
     "output_type": "execute_result"
    },
    {
     "data": {
      "image/png": "[encoded data removed]",
      "text/plain": [
       "<Figure size 1080x576 with 1 Axes>"
      ]
     },
     "metadata": {
      "needs_background": "light"
     },
     "output_type": "display_data"
    }
   ],
   "source": [
    "x_axis=np.arange(len(ABRF_bias))\n",
    "plt.plot(x_axis,ABRF_bias)"
   ]
  },
  {
   "cell_type": "code",
   "execution_count": 47,
   "metadata": {
    "colab": {
     "base_uri": "https://localhost:8080/"
    },
    "executionInfo": {
     "elapsed": 3,
     "status": "ok",
     "timestamp": 1671597934202,
     "user": {
      "displayName": "Mahesh Anand",
      "userId": "06788086636039591358"
     },
     "user_tz": -330
    },
    "id": "REqGElX6uVHG",
    "outputId": "58721661-dae9-437d-daee-8cd625706f2a"
   },
   "outputs": [
    {
     "data": {
      "text/plain": [
       "(38, 5.980191507891412, 2.343440313150832)"
      ]
     },
     "execution_count": 47,
     "metadata": {},
     "output_type": "execute_result"
    }
   ],
   "source": [
    "np.argmin(ABRF_bias),np.min(ABRF_bias),ABRF_var[38]"
   ]
  },
  {
   "cell_type": "code",
   "execution_count": null,
   "metadata": {
    "id": "WtAsCvI8BlH1"
   },
   "outputs": [],
   "source": [
    "kf=KFold(n_splits=3,shuffle=True,random_state=0)"
   ]
  },
  {
   "cell_type": "code",
   "execution_count": 48,
   "metadata": {
    "executionInfo": {
     "elapsed": 25624,
     "status": "ok",
     "timestamp": 1671598185869,
     "user": {
      "displayName": "Mahesh Anand",
      "userId": "06788086636039591358"
     },
     "user_tz": -330
    },
    "id": "NbCz8055urL0"
   },
   "outputs": [],
   "source": [
    "Bag_bias=[]\n",
    "Bag_var=[]\n",
    "for n in np.arange(1,100):\n",
    "  Bag=BaggingRegressor(base_estimator=LR,n_estimators=n,random_state=0)\n",
    "  scores=cross_val_score(Bag,X_std,Y,cv=kf,scoring='neg_mean_squared_error')\n",
    "  rmse=np.sqrt(np.abs(scores))\n",
    "  Bag_bias.append(np.mean(rmse))\n",
    "  Bag_var.append(np.std(rmse,ddof=1))"
   ]
  },
  {
   "cell_type": "code",
   "execution_count": 50,
   "metadata": {
    "colab": {
     "base_uri": "https://localhost:8080/",
     "height": 385
    },
    "executionInfo": {
     "elapsed": 700,
     "status": "ok",
     "timestamp": 1671598209281,
     "user": {
      "displayName": "Mahesh Anand",
      "userId": "06788086636039591358"
     },
     "user_tz": -330
    },
    "id": "rM1a3AqBRRFT",
    "outputId": "6825d205-5b57-4327-d00c-5043d4300716"
   },
   "outputs": [
    {
     "data": {
      "text/plain": [
       "[<matplotlib.lines.Line2D at 0x7fce19b63250>]"
      ]
     },
     "execution_count": 50,
     "metadata": {},
     "output_type": "execute_result"
    },
    {
     "data": {
      "image/png": "[encoded data removed]",
      "text/plain": [
       "<Figure size 1080x576 with 1 Axes>"
      ]
     },
     "metadata": {
      "needs_background": "light"
     },
     "output_type": "display_data"
    }
   ],
   "source": [
    "x_axis=np.arange(len(Bag_var))\n",
    "plt.plot(x_axis,Bag_var)"
   ]
  },
  {
   "cell_type": "code",
   "execution_count": 139,
   "metadata": {
    "scrolled": true
   },
   "outputs": [
    {
     "data": {
      "text/html": [
       "<div>\n",
       "<style scoped>\n",
       "    .dataframe tbody tr th:only-of-type {\n",
       "        vertical-align: middle;\n",
       "    }\n",
       "\n",
       "    .dataframe tbody tr th {\n",
       "        vertical-align: top;\n",
       "    }\n",
       "\n",
       "    .dataframe thead th {\n",
       "        text-align: right;\n",
       "    }\n",
       "</style>\n",
       "<table border=\"1\" class=\"dataframe\">\n",
       "  <thead>\n",
       "    <tr style=\"text-align: right;\">\n",
       "      <th></th>\n",
       "      <th>Manufacturer</th>\n",
       "      <th>Model</th>\n",
       "      <th>Type</th>\n",
       "      <th>Min.Price</th>\n",
       "      <th>Price</th>\n",
       "      <th>Max.Price</th>\n",
       "      <th>MPG.city</th>\n",
       "      <th>MPG.highway</th>\n",
       "      <th>AirBags</th>\n",
       "      <th>DriveTrain</th>\n",
       "      <th>...</th>\n",
       "      <th>Passengers</th>\n",
       "      <th>Length</th>\n",
       "      <th>Wheelbase</th>\n",
       "      <th>Width</th>\n",
       "      <th>Turn.circle</th>\n",
       "      <th>Rear.seat.room</th>\n",
       "      <th>Luggage.room</th>\n",
       "      <th>Weight</th>\n",
       "      <th>Origin</th>\n",
       "      <th>Make</th>\n",
       "    </tr>\n",
       "  </thead>\n",
       "  <tbody>\n",
       "    <tr>\n",
       "      <th>1</th>\n",
       "      <td>Acura</td>\n",
       "      <td>Integra</td>\n",
       "      <td>Small</td>\n",
       "      <td>12.9</td>\n",
       "      <td>15.9</td>\n",
       "      <td>18.8</td>\n",
       "      <td>25</td>\n",
       "      <td>31</td>\n",
       "      <td>None</td>\n",
       "      <td>Front</td>\n",
       "      <td>...</td>\n",
       "      <td>5</td>\n",
       "      <td>177</td>\n",
       "      <td>102</td>\n",
       "      <td>68</td>\n",
       "      <td>37</td>\n",
       "      <td>26.5</td>\n",
       "      <td>11.0</td>\n",
       "      <td>2705</td>\n",
       "      <td>non-USA</td>\n",
       "      <td>Acura Integra</td>\n",
       "    </tr>\n",
       "    <tr>\n",
       "      <th>2</th>\n",
       "      <td>Acura</td>\n",
       "      <td>Legend</td>\n",
       "      <td>Midsize</td>\n",
       "      <td>29.2</td>\n",
       "      <td>33.9</td>\n",
       "      <td>38.7</td>\n",
       "      <td>18</td>\n",
       "      <td>25</td>\n",
       "      <td>Driver &amp; Passenger</td>\n",
       "      <td>Front</td>\n",
       "      <td>...</td>\n",
       "      <td>5</td>\n",
       "      <td>195</td>\n",
       "      <td>115</td>\n",
       "      <td>71</td>\n",
       "      <td>38</td>\n",
       "      <td>30.0</td>\n",
       "      <td>15.0</td>\n",
       "      <td>3560</td>\n",
       "      <td>non-USA</td>\n",
       "      <td>Acura Legend</td>\n",
       "    </tr>\n",
       "    <tr>\n",
       "      <th>3</th>\n",
       "      <td>Audi</td>\n",
       "      <td>90</td>\n",
       "      <td>Compact</td>\n",
       "      <td>25.9</td>\n",
       "      <td>29.1</td>\n",
       "      <td>32.3</td>\n",
       "      <td>20</td>\n",
       "      <td>26</td>\n",
       "      <td>Driver only</td>\n",
       "      <td>Front</td>\n",
       "      <td>...</td>\n",
       "      <td>5</td>\n",
       "      <td>180</td>\n",
       "      <td>102</td>\n",
       "      <td>67</td>\n",
       "      <td>37</td>\n",
       "      <td>28.0</td>\n",
       "      <td>14.0</td>\n",
       "      <td>3375</td>\n",
       "      <td>non-USA</td>\n",
       "      <td>Audi 90</td>\n",
       "    </tr>\n",
       "    <tr>\n",
       "      <th>4</th>\n",
       "      <td>Audi</td>\n",
       "      <td>100</td>\n",
       "      <td>Midsize</td>\n",
       "      <td>30.8</td>\n",
       "      <td>37.7</td>\n",
       "      <td>44.6</td>\n",
       "      <td>19</td>\n",
       "      <td>26</td>\n",
       "      <td>Driver &amp; Passenger</td>\n",
       "      <td>Front</td>\n",
       "      <td>...</td>\n",
       "      <td>6</td>\n",
       "      <td>193</td>\n",
       "      <td>106</td>\n",
       "      <td>70</td>\n",
       "      <td>37</td>\n",
       "      <td>31.0</td>\n",
       "      <td>17.0</td>\n",
       "      <td>3405</td>\n",
       "      <td>non-USA</td>\n",
       "      <td>Audi 100</td>\n",
       "    </tr>\n",
       "    <tr>\n",
       "      <th>5</th>\n",
       "      <td>BMW</td>\n",
       "      <td>535i</td>\n",
       "      <td>Midsize</td>\n",
       "      <td>23.7</td>\n",
       "      <td>30.0</td>\n",
       "      <td>36.2</td>\n",
       "      <td>22</td>\n",
       "      <td>30</td>\n",
       "      <td>Driver only</td>\n",
       "      <td>Rear</td>\n",
       "      <td>...</td>\n",
       "      <td>4</td>\n",
       "      <td>186</td>\n",
       "      <td>109</td>\n",
       "      <td>69</td>\n",
       "      <td>39</td>\n",
       "      <td>27.0</td>\n",
       "      <td>13.0</td>\n",
       "      <td>3640</td>\n",
       "      <td>non-USA</td>\n",
       "      <td>BMW 535i</td>\n",
       "    </tr>\n",
       "  </tbody>\n",
       "</table>\n",
       "<p>5 rows × 27 columns</p>\n",
       "</div>"
      ],
      "text/plain": [
       "  Manufacturer    Model     Type  Min.Price  Price  Max.Price  MPG.city  \\\n",
       "1        Acura  Integra    Small       12.9   15.9       18.8        25   \n",
       "2        Acura   Legend  Midsize       29.2   33.9       38.7        18   \n",
       "3         Audi       90  Compact       25.9   29.1       32.3        20   \n",
       "4         Audi      100  Midsize       30.8   37.7       44.6        19   \n",
       "5          BMW     535i  Midsize       23.7   30.0       36.2        22   \n",
       "\n",
       "   MPG.highway             AirBags DriveTrain  ... Passengers  Length  \\\n",
       "1           31                None      Front  ...          5     177   \n",
       "2           25  Driver & Passenger      Front  ...          5     195   \n",
       "3           26         Driver only      Front  ...          5     180   \n",
       "4           26  Driver & Passenger      Front  ...          6     193   \n",
       "5           30         Driver only       Rear  ...          4     186   \n",
       "\n",
       "   Wheelbase  Width  Turn.circle Rear.seat.room  Luggage.room Weight   Origin  \\\n",
       "1        102     68           37           26.5          11.0   2705  non-USA   \n",
       "2        115     71           38           30.0          15.0   3560  non-USA   \n",
       "3        102     67           37           28.0          14.0   3375  non-USA   \n",
       "4        106     70           37           31.0          17.0   3405  non-USA   \n",
       "5        109     69           39           27.0          13.0   3640  non-USA   \n",
       "\n",
       "            Make  \n",
       "1  Acura Integra  \n",
       "2   Acura Legend  \n",
       "3        Audi 90  \n",
       "4       Audi 100  \n",
       "5       BMW 535i  \n",
       "\n",
       "[5 rows x 27 columns]"
      ]
     },
     "execution_count": 139,
     "metadata": {},
     "output_type": "execute_result"
    }
   ],
   "source": [
    "A.head()"
   ]
  },
  {
   "cell_type": "code",
   "execution_count": 152,
   "metadata": {},
   "outputs": [],
   "source": [
    "# Remove the premium Segments and build a model\n",
    "df1_premium=A[A['Price']>40]"
   ]
  },
  {
   "cell_type": "code",
   "execution_count": 153,
   "metadata": {
    "scrolled": false
   },
   "outputs": [
    {
     "data": {
      "text/html": [
       "<div>\n",
       "<style scoped>\n",
       "    .dataframe tbody tr th:only-of-type {\n",
       "        vertical-align: middle;\n",
       "    }\n",
       "\n",
       "    .dataframe tbody tr th {\n",
       "        vertical-align: top;\n",
       "    }\n",
       "\n",
       "    .dataframe thead th {\n",
       "        text-align: right;\n",
       "    }\n",
       "</style>\n",
       "<table border=\"1\" class=\"dataframe\">\n",
       "  <thead>\n",
       "    <tr style=\"text-align: right;\">\n",
       "      <th></th>\n",
       "      <th>Manufacturer</th>\n",
       "      <th>Model</th>\n",
       "      <th>Type</th>\n",
       "      <th>Min.Price</th>\n",
       "      <th>Price</th>\n",
       "      <th>Max.Price</th>\n",
       "      <th>MPG.city</th>\n",
       "      <th>MPG.highway</th>\n",
       "      <th>AirBags</th>\n",
       "      <th>DriveTrain</th>\n",
       "      <th>...</th>\n",
       "      <th>Passengers</th>\n",
       "      <th>Length</th>\n",
       "      <th>Wheelbase</th>\n",
       "      <th>Width</th>\n",
       "      <th>Turn.circle</th>\n",
       "      <th>Rear.seat.room</th>\n",
       "      <th>Luggage.room</th>\n",
       "      <th>Weight</th>\n",
       "      <th>Origin</th>\n",
       "      <th>Make</th>\n",
       "    </tr>\n",
       "  </thead>\n",
       "  <tbody>\n",
       "    <tr>\n",
       "      <th>11</th>\n",
       "      <td>Cadillac</td>\n",
       "      <td>Seville</td>\n",
       "      <td>Midsize</td>\n",
       "      <td>37.5</td>\n",
       "      <td>40.1</td>\n",
       "      <td>42.7</td>\n",
       "      <td>16</td>\n",
       "      <td>25</td>\n",
       "      <td>Driver &amp; Passenger</td>\n",
       "      <td>Front</td>\n",
       "      <td>...</td>\n",
       "      <td>5</td>\n",
       "      <td>204</td>\n",
       "      <td>111</td>\n",
       "      <td>74</td>\n",
       "      <td>44</td>\n",
       "      <td>31.0</td>\n",
       "      <td>14.0</td>\n",
       "      <td>3935</td>\n",
       "      <td>USA</td>\n",
       "      <td>Cadillac Seville</td>\n",
       "    </tr>\n",
       "    <tr>\n",
       "      <th>48</th>\n",
       "      <td>Infiniti</td>\n",
       "      <td>Q45</td>\n",
       "      <td>Midsize</td>\n",
       "      <td>45.4</td>\n",
       "      <td>47.9</td>\n",
       "      <td>50.4</td>\n",
       "      <td>17</td>\n",
       "      <td>22</td>\n",
       "      <td>Driver only</td>\n",
       "      <td>Rear</td>\n",
       "      <td>...</td>\n",
       "      <td>5</td>\n",
       "      <td>200</td>\n",
       "      <td>113</td>\n",
       "      <td>72</td>\n",
       "      <td>42</td>\n",
       "      <td>29.0</td>\n",
       "      <td>15.0</td>\n",
       "      <td>4000</td>\n",
       "      <td>non-USA</td>\n",
       "      <td>Infiniti Q45</td>\n",
       "    </tr>\n",
       "    <tr>\n",
       "      <th>59</th>\n",
       "      <td>Mercedes-Benz</td>\n",
       "      <td>300E</td>\n",
       "      <td>Midsize</td>\n",
       "      <td>43.8</td>\n",
       "      <td>61.9</td>\n",
       "      <td>80.0</td>\n",
       "      <td>19</td>\n",
       "      <td>25</td>\n",
       "      <td>Driver &amp; Passenger</td>\n",
       "      <td>Rear</td>\n",
       "      <td>...</td>\n",
       "      <td>5</td>\n",
       "      <td>187</td>\n",
       "      <td>110</td>\n",
       "      <td>69</td>\n",
       "      <td>37</td>\n",
       "      <td>27.0</td>\n",
       "      <td>15.0</td>\n",
       "      <td>3525</td>\n",
       "      <td>non-USA</td>\n",
       "      <td>Mercedes-Benz 300E</td>\n",
       "    </tr>\n",
       "  </tbody>\n",
       "</table>\n",
       "<p>3 rows × 27 columns</p>\n",
       "</div>"
      ],
      "text/plain": [
       "     Manufacturer    Model     Type  Min.Price  Price  Max.Price  MPG.city  \\\n",
       "11       Cadillac  Seville  Midsize       37.5   40.1       42.7        16   \n",
       "48       Infiniti      Q45  Midsize       45.4   47.9       50.4        17   \n",
       "59  Mercedes-Benz     300E  Midsize       43.8   61.9       80.0        19   \n",
       "\n",
       "    MPG.highway             AirBags DriveTrain  ... Passengers  Length  \\\n",
       "11           25  Driver & Passenger      Front  ...          5     204   \n",
       "48           22         Driver only       Rear  ...          5     200   \n",
       "59           25  Driver & Passenger       Rear  ...          5     187   \n",
       "\n",
       "    Wheelbase  Width  Turn.circle Rear.seat.room  Luggage.room Weight  \\\n",
       "11        111     74           44           31.0          14.0   3935   \n",
       "48        113     72           42           29.0          15.0   4000   \n",
       "59        110     69           37           27.0          15.0   3525   \n",
       "\n",
       "     Origin                Make  \n",
       "11      USA    Cadillac Seville  \n",
       "48  non-USA        Infiniti Q45  \n",
       "59  non-USA  Mercedes-Benz 300E  \n",
       "\n",
       "[3 rows x 27 columns]"
      ]
     },
     "execution_count": 153,
     "metadata": {},
     "output_type": "execute_result"
    }
   ],
   "source": [
    "df1_premium.head()"
   ]
  },
  {
   "cell_type": "code",
   "execution_count": 155,
   "metadata": {},
   "outputs": [],
   "source": [
    "C=A.drop([11,48,59],axis=0)"
   ]
  },
  {
   "cell_type": "code",
   "execution_count": 157,
   "metadata": {},
   "outputs": [
    {
     "data": {
      "text/plain": [
       "(90, 27)"
      ]
     },
     "execution_count": 157,
     "metadata": {},
     "output_type": "execute_result"
    }
   ],
   "source": [
    "C.shape"
   ]
  },
  {
   "cell_type": "code",
   "execution_count": 158,
   "metadata": {},
   "outputs": [],
   "source": [
    "d=C.select_dtypes(include=[np.number])"
   ]
  },
  {
   "cell_type": "code",
   "execution_count": 159,
   "metadata": {},
   "outputs": [],
   "source": [
    "X=d.drop('Price',axis=1)\n",
    "y=d['Price']\n",
    "# Some preprocessing Required(Encoding,Including Significant Cols)"
   ]
  },
  {
   "cell_type": "code",
   "execution_count": 160,
   "metadata": {},
   "outputs": [
    {
     "name": "stdout",
     "output_type": "stream",
     "text": [
      "Bias_Error 0.03245300677398308\n",
      "Var_Error 0.004851152445732921\n"
     ]
    }
   ],
   "source": [
    "LR=LinearRegression()\n",
    "from sklearn.model_selection import cross_val_score,KFold\n",
    "kf=KFold(n_splits=3,shuffle=True,random_state=0) #explicit definition\n",
    "rmse=cross_val_score(LR,X,y,cv=kf,scoring='neg_root_mean_squared_error')\n",
    "rmse_avg=np.mean(np.abs(rmse))\n",
    "rmse_sd=np.std(np.abs(rmse),ddof=1)\n",
    "print('Bias_Error',rmse_avg)\n",
    "print('Var_Error',rmse_sd)"
   ]
  },
  {
   "cell_type": "code",
   "execution_count": null,
   "metadata": {},
   "outputs": [],
   "source": []
  },
  {
   "cell_type": "code",
   "execution_count": null,
   "metadata": {},
   "outputs": [],
   "source": []
  },
  {
   "cell_type": "code",
   "execution_count": 51,
   "metadata": {
    "colab": {
     "base_uri": "https://localhost:8080/"
    },
    "executionInfo": {
     "elapsed": 360,
     "status": "ok",
     "timestamp": 1671598228869,
     "user": {
      "displayName": "Mahesh Anand",
      "userId": "06788086636039591358"
     },
     "user_tz": -330
    },
    "id": "GCuY3MWsu-mi",
    "outputId": "a66ce1d4-1afc-4ddd-97d0-26e2f1864827"
   },
   "outputs": [
    {
     "data": {
      "text/plain": [
       "(0.8663426982372638, 3)"
      ]
     },
     "execution_count": 51,
     "metadata": {},
     "output_type": "execute_result"
    }
   ],
   "source": [
    "np.min(Bag_var),np.argmin(Bag_var)"
   ]
  },
  {
   "cell_type": "code",
   "execution_count": null,
   "metadata": {
    "colab": {
     "base_uri": "https://localhost:8080/",
     "height": 34
    },
    "executionInfo": {
     "elapsed": 885,
     "status": "ok",
     "timestamp": 1591699955774,
     "user": {
      "displayName": "Mahesh Anand",
      "photoUrl": "https://lh3.googleusercontent.com/a-/AOh14GiAxRvO4nLPhI4SJLaIoUVmhr8lm1tddyCLyKOj=s64",
      "userId": "06788086636039591358"
     },
     "user_tz": -330
    },
    "id": "kLDtZBt4wCsw",
    "outputId": "b2a6c990-7d61-41c5-cbc5-4c5895f7e5e2"
   },
   "outputs": [
    {
     "data": {
      "text/plain": [
       "(5.074089662178369, 58, 1.140983721505519)"
      ]
     },
     "execution_count": 52,
     "metadata": {
      "tags": []
     },
     "output_type": "execute_result"
    }
   ],
   "source": [
    "np.min(Bag_bias),np.argmin(Bag_bias),Bag_var[58]"
   ]
  },
  {
   "cell_type": "code",
   "execution_count": null,
   "metadata": {
    "colab": {
     "base_uri": "https://localhost:8080/",
     "height": 34
    },
    "executionInfo": {
     "elapsed": 915,
     "status": "ok",
     "timestamp": 1591700031121,
     "user": {
      "displayName": "Mahesh Anand",
      "photoUrl": "https://lh3.googleusercontent.com/a-/AOh14GiAxRvO4nLPhI4SJLaIoUVmhr8lm1tddyCLyKOj=s64",
      "userId": "06788086636039591358"
     },
     "user_tz": -330
    },
    "id": "X9kPIZxptrc9",
    "outputId": "01d58bbf-5e5e-4fcc-c62a-c1aa15551de8"
   },
   "outputs": [
    {
     "data": {
      "text/plain": [
       "0.001968503937007832"
      ]
     },
     "execution_count": 53,
     "metadata": {
      "tags": []
     },
     "output_type": "execute_result"
    }
   ],
   "source": [
    "(5.08-5.07)/5.08"
   ]
  },
  {
   "cell_type": "code",
   "execution_count": null,
   "metadata": {
    "colab": {
     "base_uri": "https://localhost:8080/",
     "height": 34
    },
    "executionInfo": {
     "elapsed": 1182,
     "status": "ok",
     "timestamp": 1591700066958,
     "user": {
      "displayName": "Mahesh Anand",
      "photoUrl": "https://lh3.googleusercontent.com/a-/AOh14GiAxRvO4nLPhI4SJLaIoUVmhr8lm1tddyCLyKOj=s64",
      "userId": "06788086636039591358"
     },
     "user_tz": -330
    },
    "id": "a6JA7RHPt1WE",
    "outputId": "6fdb7190-3eb8-43d7-96a1-0213d7b6caa5"
   },
   "outputs": [
    {
     "data": {
      "text/plain": [
       "0.026315789473684043"
      ]
     },
     "execution_count": 54,
     "metadata": {
      "tags": []
     },
     "output_type": "execute_result"
    }
   ],
   "source": [
    "(1.14-1.11)/1.14"
   ]
  },
  {
   "cell_type": "code",
   "execution_count": 33,
   "metadata": {
    "executionInfo": {
     "elapsed": 411,
     "status": "ok",
     "timestamp": 1671596223127,
     "user": {
      "displayName": "Mahesh Anand",
      "userId": "06788086636039591358"
     },
     "user_tz": -330
    },
    "id": "CJW06mP067kk"
   },
   "outputs": [],
   "source": [
    "from sklearn.model_selection import cross_val_score,KFold"
   ]
  },
  {
   "cell_type": "code",
   "execution_count": 34,
   "metadata": {
    "executionInfo": {
     "elapsed": 23064,
     "status": "ok",
     "timestamp": 1671596250825,
     "user": {
      "displayName": "Mahesh Anand",
      "userId": "06788086636039591358"
     },
     "user_tz": -330
    },
    "id": "6O1kEhOkvEKT"
   },
   "outputs": [],
   "source": [
    "RF_bias=[]\n",
    "RF_var=[]\n",
    "for n in np.arange(1,100):\n",
    "  RF=RandomForestRegressor(criterion='mse',n_estimators=n,random_state=0)\n",
    "  kf=KFold(n_splits=3,shuffle=True,random_state=2)\n",
    "  scores=cross_val_score(RF,X_std,Y,cv=kf,scoring='neg_mean_squared_error')\n",
    "  rmse=np.sqrt(np.abs(scores))\n",
    "  RF_bias.append(np.mean(rmse))\n",
    "  RF_var.append(np.std(rmse,ddof=1))"
   ]
  },
  {
   "cell_type": "code",
   "execution_count": 35,
   "metadata": {
    "colab": {
     "base_uri": "https://localhost:8080/",
     "height": 385
    },
    "executionInfo": {
     "elapsed": 889,
     "status": "ok",
     "timestamp": 1671596251706,
     "user": {
      "displayName": "Mahesh Anand",
      "userId": "06788086636039591358"
     },
     "user_tz": -330
    },
    "id": "ycvYWNFp7II5",
    "outputId": "97aba452-9862-457a-88be-08b64969a895"
   },
   "outputs": [
    {
     "data": {
      "text/plain": [
       "[<matplotlib.lines.Line2D at 0x7fce19c01730>]"
      ]
     },
     "execution_count": 35,
     "metadata": {},
     "output_type": "execute_result"
    },
    {
     "data": {
      "image/png": "[encoded data removed]",
      "text/plain": [
       "<Figure size 1080x576 with 1 Axes>"
      ]
     },
     "metadata": {
      "needs_background": "light"
     },
     "output_type": "display_data"
    }
   ],
   "source": [
    "x_axis=np.arange(len(RF_var))\n",
    "plt.plot(x_axis,RF_var)"
   ]
  },
  {
   "cell_type": "code",
   "execution_count": 38,
   "metadata": {
    "colab": {
     "base_uri": "https://localhost:8080/"
    },
    "executionInfo": {
     "elapsed": 512,
     "status": "ok",
     "timestamp": 1671596671116,
     "user": {
      "displayName": "Mahesh Anand",
      "userId": "06788086636039591358"
     },
     "user_tz": -330
    },
    "id": "y4r6dIeSE1Mj",
    "outputId": "b2c87ec1-0413-4278-d725-e210687b7926"
   },
   "outputs": [
    {
     "data": {
      "text/plain": [
       "(2, 1.249247329646863, 6.455822473658756)"
      ]
     },
     "execution_count": 38,
     "metadata": {},
     "output_type": "execute_result"
    }
   ],
   "source": [
    "np.argmin(RF_var),np.min(RF_var),RF_bias[2]"
   ]
  },
  {
   "cell_type": "code",
   "execution_count": 80,
   "metadata": {
    "executionInfo": {
     "elapsed": 424,
     "status": "ok",
     "timestamp": 1671600165406,
     "user": {
      "displayName": "Mahesh Anand",
      "userId": "06788086636039591358"
     },
     "user_tz": -330
    },
    "id": "vUWwlMjleBpq"
   },
   "outputs": [],
   "source": [
    "LR=LinearRegression()\n",
    "knn_tuned=KNeighborsRegressor(n_neighbors=14,weights='distance')\n",
    "LR_bag=BaggingRegressor(base_estimator=LR,n_estimators=4,random_state=0)\n",
    "LR_AB=AdaBoostRegressor(base_estimator=LR,n_estimators=8,random_state=0)\n",
    "RF_AB=AdaBoostRegressor(base_estimator=RF_tuned,n_estimators=139,random_state=0)\n",
    "DT_AB=AdaBoostRegressor(n_estimators=131,random_state=0)\n",
    "LR_GB=GradientBoostingRegressor(n_estimators=13,random_state=0)\n",
    "RF_tuned=RandomForestRegressor(criterion='mse',n_estimators=3,random_state=0)\n",
    "stacked = VotingRegressor(estimators = [('LR', LR),('Boosted_LR', LR_AB)])"
   ]
  },
  {
   "cell_type": "code",
   "execution_count": 81,
   "metadata": {
    "executionInfo": {
     "elapsed": 348,
     "status": "ok",
     "timestamp": 1671600168967,
     "user": {
      "displayName": "Mahesh Anand",
      "userId": "06788086636039591358"
     },
     "user_tz": -330
    },
    "id": "MsOXxC8rQr1w"
   },
   "outputs": [],
   "source": [
    "models = []\n",
    "models.append(('LinearRegression', LR))\n",
    "models.append(('KNN',knn_tuned))\n",
    "models.append(('BaggedLR',LR_bag))\n",
    "models.append(('BoostedLR',LR_AB))\n",
    "models.append(('BoostedRF',RF_AB))\n",
    "models.append(('BoostedDT',DT_AB))\n",
    "models.append(('GBoost',LR_GB))\n",
    "models.append(('RF',RF_tuned))\n",
    "models.append(('Stacked',stacked))"
   ]
  },
  {
   "cell_type": "code",
   "execution_count": 82,
   "metadata": {
    "colab": {
     "base_uri": "https://localhost:8080/",
     "height": 569
    },
    "executionInfo": {
     "elapsed": 4126,
     "status": "ok",
     "timestamp": 1671600175350,
     "user": {
      "displayName": "Mahesh Anand",
      "userId": "06788086636039591358"
     },
     "user_tz": -330
    },
    "id": "AIjRN_8gQkEF",
    "outputId": "9d3a7632-5851-46b6-f165-6eed25c6269e"
   },
   "outputs": [
    {
     "name": "stdout",
     "output_type": "stream",
     "text": [
      "LinearRegression: 5.249720 (1.072713)\n",
      "KNN: 6.764872 (2.402207)\n",
      "BaggedLR: 5.504179 (0.994648)\n",
      "BoostedLR: 5.701468 (0.718078)\n",
      "BoostedRF: 6.031649 (2.014441)\n",
      "BoostedDT: 6.318296 (2.088840)\n",
      "GBoost: 6.364465 (2.100128)\n",
      "RF: 6.888327 (2.750117)\n",
      "Stacked: 5.408697 (0.882436)\n"
     ]
    },
    {
     "data": {
      "image/png": "[encoded data removed]",
      "text/plain": [
       "<Figure size 1080x576 with 1 Axes>"
      ]
     },
     "metadata": {
      "needs_background": "light"
     },
     "output_type": "display_data"
    }
   ],
   "source": [
    "# evaluate each model in turn\n",
    "results = []\n",
    "names = []\n",
    "for name, model in models:\n",
    "\tkfold = model_selection.KFold(shuffle=True,n_splits=3,random_state=0)\n",
    "\tcv_results = model_selection.cross_val_score(model, X_std, Y,cv=kfold, scoring='neg_mean_squared_error')\n",
    "\tresults.append(np.sqrt(np.abs(cv_results)))\n",
    "\tnames.append(name)\n",
    "\tprint(\"%s: %f (%f)\" % (name, np.mean(np.sqrt(np.abs(cv_results))),np.std(np.sqrt(np.abs(cv_results)),ddof=1)))\n",
    "   # boxplot algorithm comparison\n",
    "fig = plt.figure()\n",
    "fig.suptitle('Algorithm Comparison')\n",
    "ax = fig.add_subplot(111)\n",
    "plt.boxplot(results)\n",
    "ax.set_xticklabels(names)\n",
    "plt.show()"
   ]
  },
  {
   "cell_type": "raw",
   "metadata": {},
   "source": [
    "Above we infer if the Boxplots are squeezed it indicates Bias Error ,and if the boxplots are Tall then Variance Error"
   ]
  },
  {
   "cell_type": "code",
   "execution_count": 75,
   "metadata": {
    "colab": {
     "base_uri": "https://localhost:8080/"
    },
    "executionInfo": {
     "elapsed": 363,
     "status": "ok",
     "timestamp": 1671599827937,
     "user": {
      "displayName": "Mahesh Anand",
      "userId": "06788086636039591358"
     },
     "user_tz": -330
    },
    "id": "AO6vzd66HKQC",
    "outputId": "e59d0a68-e40d-4910-bd8f-42696bfad048",
    "scrolled": true
   },
   "outputs": [
    {
     "data": {
      "text/plain": [
       "0.011094674556213109"
      ]
     },
     "execution_count": 75,
     "metadata": {},
     "output_type": "execute_result"
    }
   ],
   "source": [
    "(5.408-5.348)/5.408"
   ]
  },
  {
   "cell_type": "code",
   "execution_count": 76,
   "metadata": {
    "colab": {
     "base_uri": "https://localhost:8080/"
    },
    "executionInfo": {
     "elapsed": 357,
     "status": "ok",
     "timestamp": 1671599876319,
     "user": {
      "displayName": "Mahesh Anand",
      "userId": "06788086636039591358"
     },
     "user_tz": -330
    },
    "id": "mpRqiEahHaEA",
    "outputId": "959127c4-4fb2-4dc2-b68e-31b53a46cb50"
   },
   "outputs": [
    {
     "data": {
      "text/plain": [
       "0.10909090909090907"
      ]
     },
     "execution_count": 76,
     "metadata": {},
     "output_type": "execute_result"
    }
   ],
   "source": [
    "(.990-.882)/.990"
   ]
  },
  {
   "cell_type": "code",
   "execution_count": null,
   "metadata": {
    "colab": {
     "base_uri": "https://localhost:8080/"
    },
    "executionInfo": {
     "elapsed": 528,
     "status": "ok",
     "timestamp": 1641641548568,
     "user": {
      "displayName": "Mahesh Anand",
      "photoUrl": "https://lh3.googleusercontent.com/a-/AOh14GjrgsRhu_m9R1mX1R2osLnbO2LcUFIvlC-8Zz6HBA=s64",
      "userId": "06788086636039591358"
     },
     "user_tz": -330
    },
    "id": "FDiUiBzodXzL",
    "outputId": "ab06c357-1ff8-42d0-bc69-0a28637db490"
   },
   "outputs": [
    {
     "data": {
      "text/plain": [
       "0.011092754307292826"
      ]
     },
     "execution_count": 120,
     "metadata": {},
     "output_type": "execute_result"
    }
   ],
   "source": [
    "(4.237-4.190)/4.237"
   ]
  },
  {
   "cell_type": "code",
   "execution_count": null,
   "metadata": {
    "colab": {
     "base_uri": "https://localhost:8080/"
    },
    "executionInfo": {
     "elapsed": 563,
     "status": "ok",
     "timestamp": 1641641585967,
     "user": {
      "displayName": "Mahesh Anand",
      "photoUrl": "https://lh3.googleusercontent.com/a-/AOh14GjrgsRhu_m9R1mX1R2osLnbO2LcUFIvlC-8Zz6HBA=s64",
      "userId": "06788086636039591358"
     },
     "user_tz": -330
    },
    "id": "qWzFuDtxdjtP",
    "outputId": "5ea17a57-dbf9-43c9-fed5-4af1a281abb2"
   },
   "outputs": [
    {
     "data": {
      "text/plain": [
       "0.03950103950103942"
      ]
     },
     "execution_count": 121,
     "metadata": {},
     "output_type": "execute_result"
    }
   ],
   "source": [
    "(0.481-.462)/.481"
   ]
  },
  {
   "cell_type": "code",
   "execution_count": null,
   "metadata": {
    "colab": {
     "base_uri": "https://localhost:8080/"
    },
    "executionInfo": {
     "elapsed": 606,
     "status": "ok",
     "timestamp": 1628667326630,
     "user": {
      "displayName": "Mahesh Anand",
      "photoUrl": "https://lh3.googleusercontent.com/a-/AOh14Ghy47CXBCGfpGm71ElmYPDEY5c3AQB5tdq4ROpemw=s64",
      "userId": "06788086636039591358"
     },
     "user_tz": -330
    },
    "id": "oSL0GDHwTEvt",
    "outputId": "502850d5-21a1-40af-add2-248640ef72ce"
   },
   "outputs": [
    {
     "data": {
      "text/plain": [
       "0.11332258758774805"
      ]
     },
     "execution_count": 41,
     "metadata": {
      "tags": []
     },
     "output_type": "execute_result"
    }
   ],
   "source": [
    "(0.873524-0.774534)/0.873524"
   ]
  },
  {
   "cell_type": "code",
   "execution_count": null,
   "metadata": {
    "colab": {
     "base_uri": "https://localhost:8080/"
    },
    "executionInfo": {
     "elapsed": 10,
     "status": "ok",
     "timestamp": 1628667300256,
     "user": {
      "displayName": "Mahesh Anand",
      "photoUrl": "https://lh3.googleusercontent.com/a-/AOh14Ghy47CXBCGfpGm71ElmYPDEY5c3AQB5tdq4ROpemw=s64",
      "userId": "06788086636039591358"
     },
     "user_tz": -330
    },
    "id": "3cvuRa8MGaVg",
    "outputId": "34c1622e-ab78-4360-9695-6b7c3f32fdd6"
   },
   "outputs": [
    {
     "data": {
      "text/plain": [
       "0.015221360436803446"
      ]
     },
     "execution_count": 40,
     "metadata": {
      "tags": []
     },
     "output_type": "execute_result"
    }
   ],
   "source": [
    "(5.299592-5.218925)/5.299592"
   ]
  },
  {
   "cell_type": "code",
   "execution_count": null,
   "metadata": {
    "colab": {
     "base_uri": "https://localhost:8080/",
     "height": 34
    },
    "executionInfo": {
     "elapsed": 1234,
     "status": "ok",
     "timestamp": 1598336987741,
     "user": {
      "displayName": "Mahesh Anand",
      "photoUrl": "https://lh3.googleusercontent.com/a-/AOh14GiAxRvO4nLPhI4SJLaIoUVmhr8lm1tddyCLyKOj=s64",
      "userId": "06788086636039591358"
     },
     "user_tz": -330
    },
    "id": "JxVUEGabGVk_",
    "outputId": "d0d83c80-999c-45e1-d1aa-fc8e2a2f5da3"
   },
   "outputs": [
    {
     "data": {
      "text/plain": [
       "0.07778491244372761"
      ]
     },
     "execution_count": 32,
     "metadata": {
      "tags": []
     },
     "output_type": "execute_result"
    }
   ],
   "source": [
    "(5.746590-5.299592)/5.746590"
   ]
  },
  {
   "cell_type": "code",
   "execution_count": null,
   "metadata": {
    "id": "JY73ZLQ62gQk"
   },
   "outputs": [],
   "source": [
    "#Final Inference\n",
    "#5.746590 (0.559691)\n",
    "#[$5187-$6305]\n",
    "\n",
    "#3 datasets \n",
    "#glu  => 8.56, 2.45\n",
    "#explore more models, =>4.23,.96\n"
   ]
  },
  {
   "cell_type": "code",
   "execution_count": null,
   "metadata": {
    "colab": {
     "base_uri": "https://localhost:8080/",
     "height": 34
    },
    "executionInfo": {
     "elapsed": 962,
     "status": "ok",
     "timestamp": 1591702250794,
     "user": {
      "displayName": "Mahesh Anand",
      "photoUrl": "https://lh3.googleusercontent.com/a-/AOh14GiAxRvO4nLPhI4SJLaIoUVmhr8lm1tddyCLyKOj=s64",
      "userId": "06788086636039591358"
     },
     "user_tz": -330
    },
    "id": "Hj0GJspi1rrx",
    "outputId": "f6a07067-fd54-4e1a-9e48-e4c4fcddd89e"
   },
   "outputs": [
    {
     "data": {
      "text/plain": [
       "0.07823596254474402"
      ]
     },
     "execution_count": 81,
     "metadata": {
      "tags": []
     },
     "output_type": "execute_result"
    }
   ],
   "source": [
    "(5.746590-5.297)/5.746590"
   ]
  },
  {
   "cell_type": "code",
   "execution_count": null,
   "metadata": {
    "colab": {
     "base_uri": "https://localhost:8080/",
     "height": 34
    },
    "executionInfo": {
     "elapsed": 939,
     "status": "ok",
     "timestamp": 1591702297282,
     "user": {
      "displayName": "Mahesh Anand",
      "photoUrl": "https://lh3.googleusercontent.com/a-/AOh14GiAxRvO4nLPhI4SJLaIoUVmhr8lm1tddyCLyKOj=s64",
      "userId": "06788086636039591358"
     },
     "user_tz": -330
    },
    "id": "NdPuLDFz14gF",
    "outputId": "3d3ed878-4d58-48ee-be69-20fbd782a356"
   },
   "outputs": [
    {
     "data": {
      "text/plain": [
       "0.2731163938685373"
      ]
     },
     "execution_count": 82,
     "metadata": {
      "tags": []
     },
     "output_type": "execute_result"
    }
   ],
   "source": [
    "(0.769845-0.5596)/0.7698"
   ]
  },
  {
   "cell_type": "code",
   "execution_count": null,
   "metadata": {
    "id": "SlOEjn_-yptT"
   },
   "outputs": [],
   "source": [
    "from sklearn.neighbors import KNeighborsRegressor\n",
    "from sklearn.preprocessing import StandardScaler"
   ]
  },
  {
   "cell_type": "code",
   "execution_count": null,
   "metadata": {
    "id": "khC75Aeszy5c"
   },
   "outputs": [],
   "source": [
    "knn=KNeighborsRegressor()\n",
    "knn_params={'n_neighbors':np.arange(1,20),'weights':['uniform','distance']}"
   ]
  },
  {
   "cell_type": "code",
   "execution_count": null,
   "metadata": {
    "id": "x-n7A1rFzy2y"
   },
   "outputs": [],
   "source": [
    "GS=GridSearchCV(knn,knn_params,cv=3,scoring='neg_mean_squared_error')"
   ]
  },
  {
   "cell_type": "code",
   "execution_count": null,
   "metadata": {
    "id": "0aynDBte0Cph"
   },
   "outputs": [],
   "source": [
    "X_scaled=StandardScaler().fit_transform(X_new)"
   ]
  },
  {
   "cell_type": "code",
   "execution_count": null,
   "metadata": {
    "colab": {
     "base_uri": "https://localhost:8080/",
     "height": 243
    },
    "executionInfo": {
     "elapsed": 3068,
     "status": "ok",
     "timestamp": 1591164429640,
     "user": {
      "displayName": "Mahesh Anand",
      "photoUrl": "https://lh3.googleusercontent.com/a-/AOh14GiAxRvO4nLPhI4SJLaIoUVmhr8lm1tddyCLyKOj=s64",
      "userId": "06788086636039591358"
     },
     "user_tz": -330
    },
    "id": "lb4e2S9t0Cvh",
    "outputId": "e5adc03a-d509-4757-f143-951b6f0ebb93"
   },
   "outputs": [
    {
     "data": {
      "text/plain": [
       "GridSearchCV(cv=3, error_score=nan,\n",
       "             estimator=KNeighborsRegressor(algorithm='auto', leaf_size=30,\n",
       "                                           metric='minkowski',\n",
       "                                           metric_params=None, n_jobs=None,\n",
       "                                           n_neighbors=5, p=2,\n",
       "                                           weights='uniform'),\n",
       "             iid='deprecated', n_jobs=None,\n",
       "             param_grid={'n_neighbors': array([ 1,  2,  3,  4,  5,  6,  7,  8,  9, 10, 11, 12, 13, 14, 15, 16, 17,\n",
       "       18, 19]),\n",
       "                         'weights': ['uniform', 'distance']},\n",
       "             pre_dispatch='2*n_jobs', refit=True, return_train_score=False,\n",
       "             scoring='neg_mean_squared_error', verbose=0)"
      ]
     },
     "execution_count": 27,
     "metadata": {
      "tags": []
     },
     "output_type": "execute_result"
    }
   ],
   "source": [
    "GS.fit(X_scaled,Y)"
   ]
  },
  {
   "cell_type": "code",
   "execution_count": null,
   "metadata": {
    "colab": {
     "base_uri": "https://localhost:8080/",
     "height": 34
    },
    "executionInfo": {
     "elapsed": 2040,
     "status": "ok",
     "timestamp": 1591164433816,
     "user": {
      "displayName": "Mahesh Anand",
      "photoUrl": "https://lh3.googleusercontent.com/a-/AOh14GiAxRvO4nLPhI4SJLaIoUVmhr8lm1tddyCLyKOj=s64",
      "userId": "06788086636039591358"
     },
     "user_tz": -330
    },
    "id": "gUeJCBV40PnN",
    "outputId": "fa1918d8-5a5c-42da-8cee-7323a10df05a"
   },
   "outputs": [
    {
     "data": {
      "text/plain": [
       "{'n_neighbors': 3, 'weights': 'distance'}"
      ]
     },
     "execution_count": 28,
     "metadata": {
      "tags": []
     },
     "output_type": "execute_result"
    }
   ],
   "source": [
    "GS.best_params_"
   ]
  },
  {
   "cell_type": "code",
   "execution_count": null,
   "metadata": {
    "id": "4-7exq0gz_eU"
   },
   "outputs": [],
   "source": [
    "rmse_ve=[]\n",
    "rmse_be=[]\n",
    "for n in np.arange(1,50):\n",
    "  KNN=KNeighborsRegressor(weights='distance',n_neighbors=n)\n",
    "  kfold = model_selection.KFold(shuffle=True,n_splits=3,random_state=0)\n",
    "  mse=model_selection.cross_val_score(KNN,X_scaled,Y,cv=kfold,scoring='neg_mean_squared_error')\n",
    "  rmse=np.sqrt(np.abs(mse))\n",
    "  rmse_ve.append(np.std(rmse,ddof=1))\n",
    "  rmse_be.append(np.mean(rmse))"
   ]
  },
  {
   "cell_type": "code",
   "execution_count": null,
   "metadata": {
    "colab": {
     "base_uri": "https://localhost:8080/",
     "height": 34
    },
    "executionInfo": {
     "elapsed": 940,
     "status": "ok",
     "timestamp": 1591701183891,
     "user": {
      "displayName": "Mahesh Anand",
      "photoUrl": "https://lh3.googleusercontent.com/a-/AOh14GiAxRvO4nLPhI4SJLaIoUVmhr8lm1tddyCLyKOj=s64",
      "userId": "06788086636039591358"
     },
     "user_tz": -330
    },
    "id": "JQR8FAnJxPfu",
    "outputId": "3978bea6-f003-4bc9-ac8d-c6909cf50910"
   },
   "outputs": [
    {
     "data": {
      "text/plain": [
       "(0.5950664644901348, 0, 6.532454581545693)"
      ]
     },
     "execution_count": 69,
     "metadata": {
      "tags": []
     },
     "output_type": "execute_result"
    }
   ],
   "source": [
    "np.min(rmse_ve),np.argmin(rmse_ve),rmse_be[0]"
   ]
  },
  {
   "cell_type": "code",
   "execution_count": null,
   "metadata": {
    "colab": {
     "base_uri": "https://localhost:8080/",
     "height": 34
    },
    "executionInfo": {
     "elapsed": 955,
     "status": "ok",
     "timestamp": 1591701193462,
     "user": {
      "displayName": "Mahesh Anand",
      "photoUrl": "https://lh3.googleusercontent.com/a-/AOh14GiAxRvO4nLPhI4SJLaIoUVmhr8lm1tddyCLyKOj=s64",
      "userId": "06788086636039591358"
     },
     "user_tz": -330
    },
    "id": "k53zgWnKxy4y",
    "outputId": "2599e249-2fb0-4389-b3c5-418bb5ebd61f"
   },
   "outputs": [
    {
     "data": {
      "text/plain": [
       "(6.0815675666956315, 1, 1.6391681005372636)"
      ]
     },
     "execution_count": 70,
     "metadata": {
      "tags": []
     },
     "output_type": "execute_result"
    }
   ],
   "source": [
    "np.min(rmse_be),np.argmin(rmse_be),rmse_ve[1]"
   ]
  },
  {
   "cell_type": "code",
   "execution_count": null,
   "metadata": {
    "colab": {
     "base_uri": "https://localhost:8080/",
     "height": 282
    },
    "executionInfo": {
     "elapsed": 3088,
     "status": "ok",
     "timestamp": 1591700934145,
     "user": {
      "displayName": "Mahesh Anand",
      "photoUrl": "https://lh3.googleusercontent.com/a-/AOh14GiAxRvO4nLPhI4SJLaIoUVmhr8lm1tddyCLyKOj=s64",
      "userId": "06788086636039591358"
     },
     "user_tz": -330
    },
    "id": "wnC-ucl81QpM",
    "outputId": "9d9b8087-5ac2-4622-c75c-eaa10fad3455"
   },
   "outputs": [
    {
     "data": {
      "text/plain": [
       "[<matplotlib.lines.Line2D at 0x7f68697b7898>]"
      ]
     },
     "execution_count": 63,
     "metadata": {
      "tags": []
     },
     "output_type": "execute_result"
    },
    {
     "data": {
      "image/png": "[encoded data removed]",
      "text/plain": [
       "<Figure size 432x288 with 1 Axes>"
      ]
     },
     "metadata": {
      "needs_background": "light",
      "tags": []
     },
     "output_type": "display_data"
    }
   ],
   "source": [
    "x_axis=np.arange(len(rmse_ve))\n",
    "plt.plot(x_axis,rmse_ve)"
   ]
  },
  {
   "cell_type": "code",
   "execution_count": null,
   "metadata": {
    "colab": {
     "base_uri": "https://localhost:8080/",
     "height": 282
    },
    "executionInfo": {
     "elapsed": 1325,
     "status": "ok",
     "timestamp": 1591165428239,
     "user": {
      "displayName": "Mahesh Anand",
      "photoUrl": "https://lh3.googleusercontent.com/a-/AOh14GiAxRvO4nLPhI4SJLaIoUVmhr8lm1tddyCLyKOj=s64",
      "userId": "06788086636039591358"
     },
     "user_tz": -330
    },
    "id": "EwZ5uCP_2Tbi",
    "outputId": "81a7bcc0-f457-4679-dd9e-1be6e453092c"
   },
   "outputs": [
    {
     "data": {
      "text/plain": [
       "[<matplotlib.lines.Line2D at 0x7fb5cc78d5f8>]"
      ]
     },
     "execution_count": 46,
     "metadata": {
      "tags": []
     },
     "output_type": "execute_result"
    },
    {
     "data": {
      "image/png": "[encoded data removed]",
      "text/plain": [
       "<Figure size 432x288 with 1 Axes>"
      ]
     },
     "metadata": {
      "needs_background": "light",
      "tags": []
     },
     "output_type": "display_data"
    }
   ],
   "source": [
    "x_axis=np.arange(len(rmse_be))\n",
    "plt.plot(x_axis,rmse_be)"
   ]
  },
  {
   "cell_type": "code",
   "execution_count": null,
   "metadata": {
    "colab": {
     "base_uri": "https://localhost:8080/",
     "height": 34
    },
    "executionInfo": {
     "elapsed": 1085,
     "status": "ok",
     "timestamp": 1591165481685,
     "user": {
      "displayName": "Mahesh Anand",
      "photoUrl": "https://lh3.googleusercontent.com/a-/AOh14GiAxRvO4nLPhI4SJLaIoUVmhr8lm1tddyCLyKOj=s64",
      "userId": "06788086636039591358"
     },
     "user_tz": -330
    },
    "id": "v2LVZLld2gxY",
    "outputId": "a5c6fd67-4f89-40d1-f7c6-a9ffa5c720b4"
   },
   "outputs": [
    {
     "data": {
      "text/plain": [
       "1"
      ]
     },
     "execution_count": 48,
     "metadata": {
      "tags": []
     },
     "output_type": "execute_result"
    }
   ],
   "source": [
    "np.argmin(rmse_be) #corresponding n_neigh=2, with be=6.15,ve=1.53\n",
    "#choice-1: [$4620 to $7680]\n",
    "#choice-2: [5940 to $7120]\n",
    "#We go with choice-2,'coz we get 64.5% reduction in VE compared to m1 by\n",
    "#trading off just 6% in the BE"
   ]
  },
  {
   "cell_type": "code",
   "execution_count": null,
   "metadata": {
    "id": "DjVoKVFB5gYF"
   },
   "outputs": [],
   "source": [
    "#RF Vs #KNN\n"
   ]
  },
  {
   "cell_type": "code",
   "execution_count": null,
   "metadata": {
    "colab": {
     "base_uri": "https://localhost:8080/",
     "height": 34
    },
    "executionInfo": {
     "elapsed": 1083,
     "status": "ok",
     "timestamp": 1591166098127,
     "user": {
      "displayName": "Mahesh Anand",
      "photoUrl": "https://lh3.googleusercontent.com/a-/AOh14GiAxRvO4nLPhI4SJLaIoUVmhr8lm1tddyCLyKOj=s64",
      "userId": "06788086636039591358"
     },
     "user_tz": -330
    },
    "id": "uEQsG8yG41ZS",
    "outputId": "c52c5e8d-74c3-4284-a65d-2e3a9017269e"
   },
   "outputs": [
    {
     "data": {
      "text/plain": [
       "0.6143790849673203"
      ]
     },
     "execution_count": 52,
     "metadata": {
      "tags": []
     },
     "output_type": "execute_result"
    }
   ],
   "source": [
    "(1.53-0.59)/1.53"
   ]
  },
  {
   "cell_type": "code",
   "execution_count": null,
   "metadata": {
    "colab": {
     "base_uri": "https://localhost:8080/",
     "height": 34
    },
    "executionInfo": {
     "elapsed": 1146,
     "status": "ok",
     "timestamp": 1591166141173,
     "user": {
      "displayName": "Mahesh Anand",
      "photoUrl": "https://lh3.googleusercontent.com/a-/AOh14GiAxRvO4nLPhI4SJLaIoUVmhr8lm1tddyCLyKOj=s64",
      "userId": "06788086636039591358"
     },
     "user_tz": -330
    },
    "id": "E_9RYq1N5BEd",
    "outputId": "9b39fd79-1a05-40e8-ee23-162d74a3dffc"
   },
   "outputs": [
    {
     "data": {
      "text/plain": [
       "0.0581929555895865"
      ]
     },
     "execution_count": 53,
     "metadata": {
      "tags": []
     },
     "output_type": "execute_result"
    }
   ],
   "source": [
    "(6.53-6.15)/6.53"
   ]
  },
  {
   "cell_type": "markdown",
   "metadata": {
    "id": "DvenQMvzu1i3"
   },
   "source": []
  },
  {
   "cell_type": "code",
   "execution_count": null,
   "metadata": {
    "colab": {
     "base_uri": "https://localhost:8080/",
     "height": 34
    },
    "executionInfo": {
     "elapsed": 1059,
     "status": "ok",
     "timestamp": 1591165636567,
     "user": {
      "displayName": "Mahesh Anand",
      "photoUrl": "https://lh3.googleusercontent.com/a-/AOh14GiAxRvO4nLPhI4SJLaIoUVmhr8lm1tddyCLyKOj=s64",
      "userId": "06788086636039591358"
     },
     "user_tz": -330
    },
    "id": "o224zM9t3A0-",
    "outputId": "cae46413-d7e3-4848-9cfd-1f940648cd0c"
   },
   "outputs": [
    {
     "data": {
      "text/plain": [
       "0.5950664644901348"
      ]
     },
     "execution_count": 50,
     "metadata": {
      "tags": []
     },
     "output_type": "execute_result"
    }
   ],
   "source": [
    "rmse_ve[0]   #with n_neigh=1, ve=0.59 wi=6.53th be"
   ]
  },
  {
   "cell_type": "code",
   "execution_count": null,
   "metadata": {
    "colab": {
     "base_uri": "https://localhost:8080/",
     "height": 34
    },
    "executionInfo": {
     "elapsed": 1108,
     "status": "ok",
     "timestamp": 1591165684667,
     "user": {
      "displayName": "Mahesh Anand",
      "photoUrl": "https://lh3.googleusercontent.com/a-/AOh14GiAxRvO4nLPhI4SJLaIoUVmhr8lm1tddyCLyKOj=s64",
      "userId": "06788086636039591358"
     },
     "user_tz": -330
    },
    "id": "OHYnivPr3Uwo",
    "outputId": "e0934af6-756f-4828-b7ee-91c62124ce0a"
   },
   "outputs": [
    {
     "data": {
      "text/plain": [
       "6.532454581545693"
      ]
     },
     "execution_count": 51,
     "metadata": {
      "tags": []
     },
     "output_type": "execute_result"
    }
   ],
   "source": [
    "rmse_be[0]"
   ]
  },
  {
   "cell_type": "code",
   "execution_count": null,
   "metadata": {
    "id": "-2BQ4oUW4ssq"
   },
   "outputs": [],
   "source": [
    "KNN=KNeighborsRegressor(n_neighbors=1)\n",
    "RF=RandomForestRegressor(criterion='mse',n_estimators=10)"
   ]
  },
  {
   "cell_type": "code",
   "execution_count": null,
   "metadata": {
    "id": "fRTsRLjxKkew"
   },
   "outputs": [],
   "source": [
    "models = []\n",
    "models.append(('RandomForest', RF))\n",
    "models.append(('KNN',KNN))"
   ]
  },
  {
   "cell_type": "code",
   "execution_count": null,
   "metadata": {
    "colab": {
     "base_uri": "https://localhost:8080/",
     "height": 328
    },
    "executionInfo": {
     "elapsed": 1141,
     "status": "ok",
     "timestamp": 1591164717359,
     "user": {
      "displayName": "Mahesh Anand",
      "photoUrl": "https://lh3.googleusercontent.com/a-/AOh14GiAxRvO4nLPhI4SJLaIoUVmhr8lm1tddyCLyKOj=s64",
      "userId": "06788086636039591358"
     },
     "user_tz": -330
    },
    "id": "qsyMiBb8Kkbt",
    "outputId": "6a751d4b-8a88-4a2c-e9a1-5a4e3af57502"
   },
   "outputs": [
    {
     "name": "stdout",
     "output_type": "stream",
     "text": [
      "RandomForest: 6.459632 (1.325236)\n",
      "KNN: 6.125137 (1.728460)\n"
     ]
    },
    {
     "data": {
      "image/png": "[encoded data removed]",
      "text/plain": [
       "<Figure size 432x288 with 1 Axes>"
      ]
     },
     "metadata": {
      "needs_background": "light",
      "tags": []
     },
     "output_type": "display_data"
    }
   ],
   "source": [
    "# evaluate each model in turn\n",
    "results = []\n",
    "names = []\n",
    "for name, model in models:\n",
    "\tkfold = model_selection.KFold(shuffle=True,n_splits=3,random_state=0)\n",
    "\tcv_results = model_selection.cross_val_score(model, X_scaled, Y,cv=kfold, scoring='neg_mean_squared_error')\n",
    "\tresults.append(np.sqrt(np.abs(cv_results)))\n",
    "\tnames.append(name)\n",
    "\tprint(\"%s: %f (%f)\" % (name, np.mean(np.sqrt(np.abs(cv_results))),np.std(np.sqrt(np.abs(cv_results)),ddof=1)))\n",
    "   # boxplot algorithm comparison\n",
    "fig = plt.figure()\n",
    "fig.suptitle('Algorithm Comparison')\n",
    "ax = fig.add_subplot(111)\n",
    "plt.boxplot(results)\n",
    "ax.set_xticklabels(names)\n",
    "plt.show()"
   ]
  },
  {
   "cell_type": "code",
   "execution_count": null,
   "metadata": {
    "id": "ipNmFlWd01AI"
   },
   "outputs": [],
   "source": [
    "import warnings\n",
    "from sklearn.exceptions import DataConversionWarning\n",
    "warnings.filterwarnings(action='ignore', category=DataConversionWarning)"
   ]
  }
 ],
 "metadata": {
  "colab": {
   "provenance": []
  },
  "kernelspec": {
   "display_name": "Python 3 (ipykernel)",
   "language": "python",
   "name": "python3"
  },
  "language_info": {
   "codemirror_mode": {
    "name": "ipython",
    "version": 3
   },
   "file_extension": ".py",
   "mimetype": "text/x-python",
   "name": "python",
   "nbconvert_exporter": "python",
   "pygments_lexer": "ipython3",
   "version": "3.9.12"
  }
 },
 "nbformat": 4,
 "nbformat_minor": 1
}
