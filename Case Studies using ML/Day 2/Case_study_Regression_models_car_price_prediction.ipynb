{
 "cells": [
  {
   "cell_type": "code",
   "execution_count": 1,
   "metadata": {
    "executionInfo": {
     "elapsed": 2342,
     "status": "ok",
     "timestamp": 1677562543213,
     "user": {
      "displayName": "Mahesh Anand",
      "userId": "06788086636039591358"
     },
     "user_tz": -330
    },
    "id": "LZbqKzJACHLK"
   },
   "outputs": [],
   "source": [
    "import numpy as np\n",
    "import pandas as pd\n",
    "import matplotlib.pyplot as plt\n",
    "%matplotlib inline\n",
    "import seaborn as sns\n",
    "from sklearn.linear_model import LinearRegression\n",
    "from sklearn.preprocessing import StandardScaler\n",
    "from sklearn import model_selection\n",
    "import statsmodels.formula.api as smf"
   ]
  },
  {
   "cell_type": "code",
   "execution_count": 2,
   "metadata": {
    "executionInfo": {
     "elapsed": 13,
     "status": "ok",
     "timestamp": 1677562544581,
     "user": {
      "displayName": "Mahesh Anand",
      "userId": "06788086636039591358"
     },
     "user_tz": -330
    },
    "id": "SJxeE0omLuxV"
   },
   "outputs": [],
   "source": [
    "plt.rcParams['figure.figsize'] = [15,8]"
   ]
  },
  {
   "cell_type": "code",
   "execution_count": 3,
   "metadata": {
    "executionInfo": {
     "elapsed": 3,
     "status": "ok",
     "timestamp": 1677562546598,
     "user": {
      "displayName": "Mahesh Anand",
      "userId": "06788086636039591358"
     },
     "user_tz": -330
    },
    "id": "3591W465LzTJ"
   },
   "outputs": [],
   "source": [
    "import warnings\n",
    "warnings.filterwarnings(\"ignore\")"
   ]
  },
  {
   "cell_type": "code",
   "execution_count": 4,
   "metadata": {
    "colab": {
     "base_uri": "https://localhost:8080/"
    },
    "executionInfo": {
     "elapsed": 24586,
     "status": "ok",
     "timestamp": 1677562573676,
     "user": {
      "displayName": "Mahesh Anand",
      "userId": "06788086636039591358"
     },
     "user_tz": -330
    },
    "id": "8y8V4GbSjhEi",
    "outputId": "ce37219c-15b9-49a7-e417-79e16e009c2e"
   },
   "outputs": [
    {
     "name": "stdout",
     "output_type": "stream",
     "text": [
      "Mounted at /content/drive\n"
     ]
    }
   ],
   "source": [
    "from google.colab import drive\n",
    "drive.mount('/content/drive')"
   ]
  },
  {
   "cell_type": "code",
   "execution_count": 5,
   "metadata": {
    "colab": {
     "base_uri": "https://localhost:8080/",
     "height": 386
    },
    "executionInfo": {
     "elapsed": 1380,
     "status": "ok",
     "timestamp": 1677562575052,
     "user": {
      "displayName": "Mahesh Anand",
      "userId": "06788086636039591358"
     },
     "user_tz": -330
    },
    "id": "hoXMFxqzCHLU",
    "outputId": "be21bb6c-2fed-4764-bca9-9c5679164056"
   },
   "outputs": [
    {
     "data": {
      "text/html": [
       "\n",
       "  <div id=\"df-f2345cba-a223-4523-80cf-c2332d05ccb3\">\n",
       "    <div class=\"colab-df-container\">\n",
       "      <div>\n",
       "<style scoped>\n",
       "    .dataframe tbody tr th:only-of-type {\n",
       "        vertical-align: middle;\n",
       "    }\n",
       "\n",
       "    .dataframe tbody tr th {\n",
       "        vertical-align: top;\n",
       "    }\n",
       "\n",
       "    .dataframe thead th {\n",
       "        text-align: right;\n",
       "    }\n",
       "</style>\n",
       "<table border=\"1\" class=\"dataframe\">\n",
       "  <thead>\n",
       "    <tr style=\"text-align: right;\">\n",
       "      <th></th>\n",
       "      <th>Manufacturer</th>\n",
       "      <th>Model</th>\n",
       "      <th>Type</th>\n",
       "      <th>Min.Price</th>\n",
       "      <th>Price</th>\n",
       "      <th>Max.Price</th>\n",
       "      <th>MPG.city</th>\n",
       "      <th>MPG.highway</th>\n",
       "      <th>AirBags</th>\n",
       "      <th>DriveTrain</th>\n",
       "      <th>...</th>\n",
       "      <th>Passengers</th>\n",
       "      <th>Length</th>\n",
       "      <th>Wheelbase</th>\n",
       "      <th>Width</th>\n",
       "      <th>Turn.circle</th>\n",
       "      <th>Rear.seat.room</th>\n",
       "      <th>Luggage.room</th>\n",
       "      <th>Weight</th>\n",
       "      <th>Origin</th>\n",
       "      <th>Make</th>\n",
       "    </tr>\n",
       "  </thead>\n",
       "  <tbody>\n",
       "    <tr>\n",
       "      <th>1</th>\n",
       "      <td>Acura</td>\n",
       "      <td>Integra</td>\n",
       "      <td>Small</td>\n",
       "      <td>12.9</td>\n",
       "      <td>15.9</td>\n",
       "      <td>18.8</td>\n",
       "      <td>25</td>\n",
       "      <td>31</td>\n",
       "      <td>None</td>\n",
       "      <td>Front</td>\n",
       "      <td>...</td>\n",
       "      <td>5</td>\n",
       "      <td>177</td>\n",
       "      <td>102</td>\n",
       "      <td>68</td>\n",
       "      <td>37</td>\n",
       "      <td>26.5</td>\n",
       "      <td>11.0</td>\n",
       "      <td>2705</td>\n",
       "      <td>non-USA</td>\n",
       "      <td>Acura Integra</td>\n",
       "    </tr>\n",
       "    <tr>\n",
       "      <th>2</th>\n",
       "      <td>Acura</td>\n",
       "      <td>Legend</td>\n",
       "      <td>Midsize</td>\n",
       "      <td>29.2</td>\n",
       "      <td>33.9</td>\n",
       "      <td>38.7</td>\n",
       "      <td>18</td>\n",
       "      <td>25</td>\n",
       "      <td>Driver &amp; Passenger</td>\n",
       "      <td>Front</td>\n",
       "      <td>...</td>\n",
       "      <td>5</td>\n",
       "      <td>195</td>\n",
       "      <td>115</td>\n",
       "      <td>71</td>\n",
       "      <td>38</td>\n",
       "      <td>30.0</td>\n",
       "      <td>15.0</td>\n",
       "      <td>3560</td>\n",
       "      <td>non-USA</td>\n",
       "      <td>Acura Legend</td>\n",
       "    </tr>\n",
       "    <tr>\n",
       "      <th>3</th>\n",
       "      <td>Audi</td>\n",
       "      <td>90</td>\n",
       "      <td>Compact</td>\n",
       "      <td>25.9</td>\n",
       "      <td>29.1</td>\n",
       "      <td>32.3</td>\n",
       "      <td>20</td>\n",
       "      <td>26</td>\n",
       "      <td>Driver only</td>\n",
       "      <td>Front</td>\n",
       "      <td>...</td>\n",
       "      <td>5</td>\n",
       "      <td>180</td>\n",
       "      <td>102</td>\n",
       "      <td>67</td>\n",
       "      <td>37</td>\n",
       "      <td>28.0</td>\n",
       "      <td>14.0</td>\n",
       "      <td>3375</td>\n",
       "      <td>non-USA</td>\n",
       "      <td>Audi 90</td>\n",
       "    </tr>\n",
       "    <tr>\n",
       "      <th>4</th>\n",
       "      <td>Audi</td>\n",
       "      <td>100</td>\n",
       "      <td>Midsize</td>\n",
       "      <td>30.8</td>\n",
       "      <td>37.7</td>\n",
       "      <td>44.6</td>\n",
       "      <td>19</td>\n",
       "      <td>26</td>\n",
       "      <td>Driver &amp; Passenger</td>\n",
       "      <td>Front</td>\n",
       "      <td>...</td>\n",
       "      <td>6</td>\n",
       "      <td>193</td>\n",
       "      <td>106</td>\n",
       "      <td>70</td>\n",
       "      <td>37</td>\n",
       "      <td>31.0</td>\n",
       "      <td>17.0</td>\n",
       "      <td>3405</td>\n",
       "      <td>non-USA</td>\n",
       "      <td>Audi 100</td>\n",
       "    </tr>\n",
       "    <tr>\n",
       "      <th>5</th>\n",
       "      <td>BMW</td>\n",
       "      <td>535i</td>\n",
       "      <td>Midsize</td>\n",
       "      <td>23.7</td>\n",
       "      <td>30.0</td>\n",
       "      <td>36.2</td>\n",
       "      <td>22</td>\n",
       "      <td>30</td>\n",
       "      <td>Driver only</td>\n",
       "      <td>Rear</td>\n",
       "      <td>...</td>\n",
       "      <td>4</td>\n",
       "      <td>186</td>\n",
       "      <td>109</td>\n",
       "      <td>69</td>\n",
       "      <td>39</td>\n",
       "      <td>27.0</td>\n",
       "      <td>13.0</td>\n",
       "      <td>3640</td>\n",
       "      <td>non-USA</td>\n",
       "      <td>BMW 535i</td>\n",
       "    </tr>\n",
       "  </tbody>\n",
       "</table>\n",
       "<p>5 rows × 27 columns</p>\n",
       "</div>\n",
       "      <button class=\"colab-df-convert\" onclick=\"convertToInteractive('df-f2345cba-a223-4523-80cf-c2332d05ccb3')\"\n",
       "              title=\"Convert this dataframe to an interactive table.\"\n",
       "              style=\"display:none;\">\n",
       "        \n",
       "  <svg xmlns=\"http://www.w3.org/2000/svg\" height=\"24px\"viewBox=\"0 0 24 24\"\n",
       "       width=\"24px\">\n",
       "    <path d=\"M0 0h24v24H0V0z\" fill=\"none\"/>\n",
       "    <path d=\"M18.56 5.44l.94 2.06.94-2.06 2.06-.94-2.06-.94-.94-2.06-.94 2.06-2.06.94zm-11 1L8.5 8.5l.94-2.06 2.06-.94-2.06-.94L8.5 2.5l-.94 2.06-2.06.94zm10 10l.94 2.06.94-2.06 2.06-.94-2.06-.94-.94-2.06-.94 2.06-2.06.94z\"/><path d=\"M17.41 7.96l-1.37-1.37c-.4-.4-.92-.59-1.43-.59-.52 0-1.04.2-1.43.59L10.3 9.45l-7.72 7.72c-.78.78-.78 2.05 0 2.83L4 21.41c.39.39.9.59 1.41.59.51 0 1.02-.2 1.41-.59l7.78-7.78 2.81-2.81c.8-.78.8-2.07 0-2.86zM5.41 20L4 18.59l7.72-7.72 1.47 1.35L5.41 20z\"/>\n",
       "  </svg>\n",
       "      </button>\n",
       "      \n",
       "  <style>\n",
       "    .colab-df-container {\n",
       "      display:flex;\n",
       "      flex-wrap:wrap;\n",
       "      gap: 12px;\n",
       "    }\n",
       "\n",
       "    .colab-df-convert {\n",
       "      background-color: #E8F0FE;\n",
       "      border: none;\n",
       "      border-radius: 50%;\n",
       "      cursor: pointer;\n",
       "      display: none;\n",
       "      fill: #1967D2;\n",
       "      height: 32px;\n",
       "      padding: 0 0 0 0;\n",
       "      width: 32px;\n",
       "    }\n",
       "\n",
       "    .colab-df-convert:hover {\n",
       "      background-color: #E2EBFA;\n",
       "      box-shadow: 0px 1px 2px rgba(60, 64, 67, 0.3), 0px 1px 3px 1px rgba(60, 64, 67, 0.15);\n",
       "      fill: #174EA6;\n",
       "    }\n",
       "\n",
       "    [theme=dark] .colab-df-convert {\n",
       "      background-color: #3B4455;\n",
       "      fill: #D2E3FC;\n",
       "    }\n",
       "\n",
       "    [theme=dark] .colab-df-convert:hover {\n",
       "      background-color: #434B5C;\n",
       "      box-shadow: 0px 1px 3px 1px rgba(0, 0, 0, 0.15);\n",
       "      filter: drop-shadow(0px 1px 2px rgba(0, 0, 0, 0.3));\n",
       "      fill: #FFFFFF;\n",
       "    }\n",
       "  </style>\n",
       "\n",
       "      <script>\n",
       "        const buttonEl =\n",
       "          document.querySelector('#df-f2345cba-a223-4523-80cf-c2332d05ccb3 button.colab-df-convert');\n",
       "        buttonEl.style.display =\n",
       "          google.colab.kernel.accessAllowed ? 'block' : 'none';\n",
       "\n",
       "        async function convertToInteractive(key) {\n",
       "          const element = document.querySelector('#df-f2345cba-a223-4523-80cf-c2332d05ccb3');\n",
       "          const dataTable =\n",
       "            await google.colab.kernel.invokeFunction('convertToInteractive',\n",
       "                                                     [key], {});\n",
       "          if (!dataTable) return;\n",
       "\n",
       "          const docLinkHtml = 'Like what you see? Visit the ' +\n",
       "            '<a target=\"_blank\" href=https://colab.research.google.com/notebooks/data_table.ipynb>data table notebook</a>'\n",
       "            + ' to learn more about interactive tables.';\n",
       "          element.innerHTML = '';\n",
       "          dataTable['output_type'] = 'display_data';\n",
       "          await google.colab.output.renderOutput(dataTable, element);\n",
       "          const docLink = document.createElement('div');\n",
       "          docLink.innerHTML = docLinkHtml;\n",
       "          element.appendChild(docLink);\n",
       "        }\n",
       "      </script>\n",
       "    </div>\n",
       "  </div>\n",
       "  "
      ],
      "text/plain": [
       "  Manufacturer    Model     Type  Min.Price  Price  Max.Price  MPG.city  \\\n",
       "1        Acura  Integra    Small       12.9   15.9       18.8        25   \n",
       "2        Acura   Legend  Midsize       29.2   33.9       38.7        18   \n",
       "3         Audi       90  Compact       25.9   29.1       32.3        20   \n",
       "4         Audi      100  Midsize       30.8   37.7       44.6        19   \n",
       "5          BMW     535i  Midsize       23.7   30.0       36.2        22   \n",
       "\n",
       "   MPG.highway             AirBags DriveTrain  ... Passengers  Length  \\\n",
       "1           31                None      Front  ...          5     177   \n",
       "2           25  Driver & Passenger      Front  ...          5     195   \n",
       "3           26         Driver only      Front  ...          5     180   \n",
       "4           26  Driver & Passenger      Front  ...          6     193   \n",
       "5           30         Driver only       Rear  ...          4     186   \n",
       "\n",
       "   Wheelbase  Width  Turn.circle Rear.seat.room  Luggage.room  Weight  \\\n",
       "1        102     68           37           26.5          11.0    2705   \n",
       "2        115     71           38           30.0          15.0    3560   \n",
       "3        102     67           37           28.0          14.0    3375   \n",
       "4        106     70           37           31.0          17.0    3405   \n",
       "5        109     69           39           27.0          13.0    3640   \n",
       "\n",
       "    Origin           Make  \n",
       "1  non-USA  Acura Integra  \n",
       "2  non-USA   Acura Legend  \n",
       "3  non-USA        Audi 90  \n",
       "4  non-USA       Audi 100  \n",
       "5  non-USA       BMW 535i  \n",
       "\n",
       "[5 rows x 27 columns]"
      ]
     },
     "execution_count": 5,
     "metadata": {},
     "output_type": "execute_result"
    }
   ],
   "source": [
    "A=pd.read_csv('/content/drive/My Drive/Python for ML-Mahesh Anand/car_sales.csv',index_col=0)\n",
    "A.head()"
   ]
  },
  {
   "cell_type": "code",
   "execution_count": 35,
   "metadata": {
    "executionInfo": {
     "elapsed": 412,
     "status": "ok",
     "timestamp": 1677565166187,
     "user": {
      "displayName": "Mahesh Anand",
      "userId": "06788086636039591358"
     },
     "user_tz": -330
    },
    "id": "XVpWyy0Up93v"
   },
   "outputs": [],
   "source": [
    "A_update=A[A['Price']<40]"
   ]
  },
  {
   "cell_type": "code",
   "execution_count": 36,
   "metadata": {
    "colab": {
     "base_uri": "https://localhost:8080/"
    },
    "executionInfo": {
     "elapsed": 3,
     "status": "ok",
     "timestamp": 1677565174771,
     "user": {
      "displayName": "Mahesh Anand",
      "userId": "06788086636039591358"
     },
     "user_tz": -330
    },
    "id": "_sHcZL7BIbMG",
    "outputId": "db613241-e319-49fa-e848-eede238a010b"
   },
   "outputs": [
    {
     "data": {
      "text/plain": [
       "(90, 27)"
      ]
     },
     "execution_count": 36,
     "metadata": {},
     "output_type": "execute_result"
    }
   ],
   "source": [
    "A_update.shape"
   ]
  },
  {
   "cell_type": "code",
   "execution_count": 37,
   "metadata": {
    "colab": {
     "base_uri": "https://localhost:8080/"
    },
    "executionInfo": {
     "elapsed": 5,
     "status": "ok",
     "timestamp": 1677565206805,
     "user": {
      "displayName": "Mahesh Anand",
      "userId": "06788086636039591358"
     },
     "user_tz": -330
    },
    "id": "1WnevQuPx6ae",
    "outputId": "2fdac9be-1908-4e8c-8154-2d1fecd94f3e"
   },
   "outputs": [
    {
     "name": "stdout",
     "output_type": "stream",
     "text": [
      "<class 'pandas.core.frame.DataFrame'>\n",
      "Int64Index: 90 entries, 1 to 93\n",
      "Data columns (total 27 columns):\n",
      " #   Column              Non-Null Count  Dtype  \n",
      "---  ------              --------------  -----  \n",
      " 0   Manufacturer        90 non-null     object \n",
      " 1   Model               90 non-null     object \n",
      " 2   Type                90 non-null     object \n",
      " 3   Min.Price           90 non-null     float64\n",
      " 4   Price               90 non-null     float64\n",
      " 5   Max.Price           90 non-null     float64\n",
      " 6   MPG.city            90 non-null     int64  \n",
      " 7   MPG.highway         90 non-null     int64  \n",
      " 8   AirBags             90 non-null     object \n",
      " 9   DriveTrain          90 non-null     object \n",
      " 10  Cylinders           90 non-null     object \n",
      " 11  EngineSize          90 non-null     float64\n",
      " 12  Horsepower          90 non-null     int64  \n",
      " 13  RPM                 90 non-null     int64  \n",
      " 14  Rev.per.mile        90 non-null     int64  \n",
      " 15  Man.trans.avail     90 non-null     object \n",
      " 16  Fuel.tank.capacity  90 non-null     float64\n",
      " 17  Passengers          90 non-null     object \n",
      " 18  Length              90 non-null     int64  \n",
      " 19  Wheelbase           90 non-null     int64  \n",
      " 20  Width               90 non-null     int64  \n",
      " 21  Turn.circle         90 non-null     int64  \n",
      " 22  Rear.seat.room      90 non-null     float64\n",
      " 23  Luggage.room        90 non-null     float64\n",
      " 24  Weight              90 non-null     int64  \n",
      " 25  Origin              90 non-null     object \n",
      " 26  Make                90 non-null     object \n",
      "dtypes: float64(7), int64(10), object(10)\n",
      "memory usage: 19.7+ KB\n"
     ]
    }
   ],
   "source": [
    "A_update.info()"
   ]
  },
  {
   "cell_type": "code",
   "execution_count": 8,
   "metadata": {
    "colab": {
     "base_uri": "https://localhost:8080/",
     "height": 677
    },
    "executionInfo": {
     "elapsed": 550,
     "status": "ok",
     "timestamp": 1677562622221,
     "user": {
      "displayName": "Mahesh Anand",
      "userId": "06788086636039591358"
     },
     "user_tz": -330
    },
    "id": "5DOPwzCxCHLf",
    "outputId": "e4acbea4-7b1f-41d9-bdc3-0a229397a387"
   },
   "outputs": [
    {
     "data": {
      "text/html": [
       "\n",
       "  <div id=\"df-f9a0a761-e965-4bc7-9081-82fa31efb04a\">\n",
       "    <div class=\"colab-df-container\">\n",
       "      <div>\n",
       "<style scoped>\n",
       "    .dataframe tbody tr th:only-of-type {\n",
       "        vertical-align: middle;\n",
       "    }\n",
       "\n",
       "    .dataframe tbody tr th {\n",
       "        vertical-align: top;\n",
       "    }\n",
       "\n",
       "    .dataframe thead th {\n",
       "        text-align: right;\n",
       "    }\n",
       "</style>\n",
       "<table border=\"1\" class=\"dataframe\">\n",
       "  <thead>\n",
       "    <tr style=\"text-align: right;\">\n",
       "      <th></th>\n",
       "      <th>Min.Price</th>\n",
       "      <th>Price</th>\n",
       "      <th>Max.Price</th>\n",
       "      <th>MPG.city</th>\n",
       "      <th>MPG.highway</th>\n",
       "      <th>EngineSize</th>\n",
       "      <th>Horsepower</th>\n",
       "      <th>RPM</th>\n",
       "      <th>Rev.per.mile</th>\n",
       "      <th>Fuel.tank.capacity</th>\n",
       "      <th>Passengers</th>\n",
       "      <th>Length</th>\n",
       "      <th>Wheelbase</th>\n",
       "      <th>Width</th>\n",
       "      <th>Turn.circle</th>\n",
       "      <th>Rear.seat.room</th>\n",
       "      <th>Luggage.room</th>\n",
       "      <th>Weight</th>\n",
       "    </tr>\n",
       "  </thead>\n",
       "  <tbody>\n",
       "    <tr>\n",
       "      <th>Min.Price</th>\n",
       "      <td>1.000000</td>\n",
       "      <td>0.970601</td>\n",
       "      <td>0.906756</td>\n",
       "      <td>-0.622875</td>\n",
       "      <td>-0.579966</td>\n",
       "      <td>0.645488</td>\n",
       "      <td>0.802444</td>\n",
       "      <td>-0.042598</td>\n",
       "      <td>-0.470395</td>\n",
       "      <td>0.635369</td>\n",
       "      <td>0.061236</td>\n",
       "      <td>0.553859</td>\n",
       "      <td>0.516758</td>\n",
       "      <td>0.492878</td>\n",
       "      <td>0.428603</td>\n",
       "      <td>0.376642</td>\n",
       "      <td>0.413485</td>\n",
       "      <td>0.666554</td>\n",
       "    </tr>\n",
       "    <tr>\n",
       "      <th>Price</th>\n",
       "      <td>0.970601</td>\n",
       "      <td>1.000000</td>\n",
       "      <td>0.981580</td>\n",
       "      <td>-0.594562</td>\n",
       "      <td>-0.560680</td>\n",
       "      <td>0.597425</td>\n",
       "      <td>0.788218</td>\n",
       "      <td>-0.004955</td>\n",
       "      <td>-0.426395</td>\n",
       "      <td>0.619480</td>\n",
       "      <td>0.057860</td>\n",
       "      <td>0.503628</td>\n",
       "      <td>0.500864</td>\n",
       "      <td>0.456028</td>\n",
       "      <td>0.392590</td>\n",
       "      <td>0.311499</td>\n",
       "      <td>0.366569</td>\n",
       "      <td>0.647179</td>\n",
       "    </tr>\n",
       "    <tr>\n",
       "      <th>Max.Price</th>\n",
       "      <td>0.906756</td>\n",
       "      <td>0.981580</td>\n",
       "      <td>1.000000</td>\n",
       "      <td>-0.547811</td>\n",
       "      <td>-0.522561</td>\n",
       "      <td>0.535012</td>\n",
       "      <td>0.744445</td>\n",
       "      <td>0.025015</td>\n",
       "      <td>-0.374024</td>\n",
       "      <td>0.581294</td>\n",
       "      <td>0.053216</td>\n",
       "      <td>0.442933</td>\n",
       "      <td>0.467501</td>\n",
       "      <td>0.408414</td>\n",
       "      <td>0.347785</td>\n",
       "      <td>0.247260</td>\n",
       "      <td>0.315315</td>\n",
       "      <td>0.605142</td>\n",
       "    </tr>\n",
       "    <tr>\n",
       "      <th>MPG.city</th>\n",
       "      <td>-0.622875</td>\n",
       "      <td>-0.594562</td>\n",
       "      <td>-0.547811</td>\n",
       "      <td>1.000000</td>\n",
       "      <td>0.943936</td>\n",
       "      <td>-0.710003</td>\n",
       "      <td>-0.672636</td>\n",
       "      <td>0.363045</td>\n",
       "      <td>0.695857</td>\n",
       "      <td>-0.813144</td>\n",
       "      <td>-0.416856</td>\n",
       "      <td>-0.666239</td>\n",
       "      <td>-0.667108</td>\n",
       "      <td>-0.720534</td>\n",
       "      <td>-0.666389</td>\n",
       "      <td>-0.384347</td>\n",
       "      <td>-0.494894</td>\n",
       "      <td>-0.843139</td>\n",
       "    </tr>\n",
       "    <tr>\n",
       "      <th>MPG.highway</th>\n",
       "      <td>-0.579966</td>\n",
       "      <td>-0.560680</td>\n",
       "      <td>-0.522561</td>\n",
       "      <td>0.943936</td>\n",
       "      <td>1.000000</td>\n",
       "      <td>-0.626795</td>\n",
       "      <td>-0.619044</td>\n",
       "      <td>0.313469</td>\n",
       "      <td>0.587497</td>\n",
       "      <td>-0.786039</td>\n",
       "      <td>-0.466386</td>\n",
       "      <td>-0.542897</td>\n",
       "      <td>-0.615384</td>\n",
       "      <td>-0.640359</td>\n",
       "      <td>-0.593683</td>\n",
       "      <td>-0.366684</td>\n",
       "      <td>-0.371629</td>\n",
       "      <td>-0.810658</td>\n",
       "    </tr>\n",
       "    <tr>\n",
       "      <th>EngineSize</th>\n",
       "      <td>0.645488</td>\n",
       "      <td>0.597425</td>\n",
       "      <td>0.535012</td>\n",
       "      <td>-0.710003</td>\n",
       "      <td>-0.626795</td>\n",
       "      <td>1.000000</td>\n",
       "      <td>0.732120</td>\n",
       "      <td>-0.547898</td>\n",
       "      <td>-0.824009</td>\n",
       "      <td>0.759306</td>\n",
       "      <td>0.372721</td>\n",
       "      <td>0.780283</td>\n",
       "      <td>0.732484</td>\n",
       "      <td>0.867110</td>\n",
       "      <td>0.778464</td>\n",
       "      <td>0.502750</td>\n",
       "      <td>0.680827</td>\n",
       "      <td>0.845075</td>\n",
       "    </tr>\n",
       "    <tr>\n",
       "      <th>Horsepower</th>\n",
       "      <td>0.802444</td>\n",
       "      <td>0.788218</td>\n",
       "      <td>0.744445</td>\n",
       "      <td>-0.672636</td>\n",
       "      <td>-0.619044</td>\n",
       "      <td>0.732120</td>\n",
       "      <td>1.000000</td>\n",
       "      <td>0.036688</td>\n",
       "      <td>-0.600314</td>\n",
       "      <td>0.711790</td>\n",
       "      <td>0.009264</td>\n",
       "      <td>0.550865</td>\n",
       "      <td>0.486854</td>\n",
       "      <td>0.644413</td>\n",
       "      <td>0.561216</td>\n",
       "      <td>0.256732</td>\n",
       "      <td>0.359217</td>\n",
       "      <td>0.738798</td>\n",
       "    </tr>\n",
       "    <tr>\n",
       "      <th>RPM</th>\n",
       "      <td>-0.042598</td>\n",
       "      <td>-0.004955</td>\n",
       "      <td>0.025015</td>\n",
       "      <td>0.363045</td>\n",
       "      <td>0.313469</td>\n",
       "      <td>-0.547898</td>\n",
       "      <td>0.036688</td>\n",
       "      <td>1.000000</td>\n",
       "      <td>0.494764</td>\n",
       "      <td>-0.333345</td>\n",
       "      <td>-0.467138</td>\n",
       "      <td>-0.441249</td>\n",
       "      <td>-0.467812</td>\n",
       "      <td>-0.539721</td>\n",
       "      <td>-0.505651</td>\n",
       "      <td>-0.342175</td>\n",
       "      <td>-0.524845</td>\n",
       "      <td>-0.427931</td>\n",
       "    </tr>\n",
       "    <tr>\n",
       "      <th>Rev.per.mile</th>\n",
       "      <td>-0.470395</td>\n",
       "      <td>-0.426395</td>\n",
       "      <td>-0.374024</td>\n",
       "      <td>0.695857</td>\n",
       "      <td>0.587497</td>\n",
       "      <td>-0.824009</td>\n",
       "      <td>-0.600314</td>\n",
       "      <td>0.494764</td>\n",
       "      <td>1.000000</td>\n",
       "      <td>-0.609710</td>\n",
       "      <td>-0.334976</td>\n",
       "      <td>-0.690233</td>\n",
       "      <td>-0.636824</td>\n",
       "      <td>-0.780460</td>\n",
       "      <td>-0.733160</td>\n",
       "      <td>-0.377010</td>\n",
       "      <td>-0.592792</td>\n",
       "      <td>-0.735264</td>\n",
       "    </tr>\n",
       "    <tr>\n",
       "      <th>Fuel.tank.capacity</th>\n",
       "      <td>0.635369</td>\n",
       "      <td>0.619480</td>\n",
       "      <td>0.581294</td>\n",
       "      <td>-0.813144</td>\n",
       "      <td>-0.786039</td>\n",
       "      <td>0.759306</td>\n",
       "      <td>0.711790</td>\n",
       "      <td>-0.333345</td>\n",
       "      <td>-0.609710</td>\n",
       "      <td>1.000000</td>\n",
       "      <td>0.472095</td>\n",
       "      <td>0.690461</td>\n",
       "      <td>0.757674</td>\n",
       "      <td>0.798719</td>\n",
       "      <td>0.671343</td>\n",
       "      <td>0.509689</td>\n",
       "      <td>0.613437</td>\n",
       "      <td>0.894018</td>\n",
       "    </tr>\n",
       "    <tr>\n",
       "      <th>Passengers</th>\n",
       "      <td>0.061236</td>\n",
       "      <td>0.057860</td>\n",
       "      <td>0.053216</td>\n",
       "      <td>-0.416856</td>\n",
       "      <td>-0.466386</td>\n",
       "      <td>0.372721</td>\n",
       "      <td>0.009264</td>\n",
       "      <td>-0.467138</td>\n",
       "      <td>-0.334976</td>\n",
       "      <td>0.472095</td>\n",
       "      <td>1.000000</td>\n",
       "      <td>0.485294</td>\n",
       "      <td>0.694054</td>\n",
       "      <td>0.489979</td>\n",
       "      <td>0.449025</td>\n",
       "      <td>0.694134</td>\n",
       "      <td>0.653317</td>\n",
       "      <td>0.553273</td>\n",
       "    </tr>\n",
       "    <tr>\n",
       "      <th>Length</th>\n",
       "      <td>0.553859</td>\n",
       "      <td>0.503628</td>\n",
       "      <td>0.442933</td>\n",
       "      <td>-0.666239</td>\n",
       "      <td>-0.542897</td>\n",
       "      <td>0.780283</td>\n",
       "      <td>0.550865</td>\n",
       "      <td>-0.441249</td>\n",
       "      <td>-0.690233</td>\n",
       "      <td>0.690461</td>\n",
       "      <td>0.485294</td>\n",
       "      <td>1.000000</td>\n",
       "      <td>0.823650</td>\n",
       "      <td>0.822148</td>\n",
       "      <td>0.738955</td>\n",
       "      <td>0.549958</td>\n",
       "      <td>0.712962</td>\n",
       "      <td>0.806274</td>\n",
       "    </tr>\n",
       "    <tr>\n",
       "      <th>Wheelbase</th>\n",
       "      <td>0.516758</td>\n",
       "      <td>0.500864</td>\n",
       "      <td>0.467501</td>\n",
       "      <td>-0.667108</td>\n",
       "      <td>-0.615384</td>\n",
       "      <td>0.732484</td>\n",
       "      <td>0.486854</td>\n",
       "      <td>-0.467812</td>\n",
       "      <td>-0.636824</td>\n",
       "      <td>0.757674</td>\n",
       "      <td>0.694054</td>\n",
       "      <td>0.823650</td>\n",
       "      <td>1.000000</td>\n",
       "      <td>0.807213</td>\n",
       "      <td>0.723324</td>\n",
       "      <td>0.667259</td>\n",
       "      <td>0.734127</td>\n",
       "      <td>0.871895</td>\n",
       "    </tr>\n",
       "    <tr>\n",
       "      <th>Width</th>\n",
       "      <td>0.492878</td>\n",
       "      <td>0.456028</td>\n",
       "      <td>0.408414</td>\n",
       "      <td>-0.720534</td>\n",
       "      <td>-0.640359</td>\n",
       "      <td>0.867110</td>\n",
       "      <td>0.644413</td>\n",
       "      <td>-0.539721</td>\n",
       "      <td>-0.780460</td>\n",
       "      <td>0.798719</td>\n",
       "      <td>0.489979</td>\n",
       "      <td>0.822148</td>\n",
       "      <td>0.807213</td>\n",
       "      <td>1.000000</td>\n",
       "      <td>0.817854</td>\n",
       "      <td>0.465618</td>\n",
       "      <td>0.673490</td>\n",
       "      <td>0.874961</td>\n",
       "    </tr>\n",
       "    <tr>\n",
       "      <th>Turn.circle</th>\n",
       "      <td>0.428603</td>\n",
       "      <td>0.392590</td>\n",
       "      <td>0.347785</td>\n",
       "      <td>-0.666389</td>\n",
       "      <td>-0.593683</td>\n",
       "      <td>0.778464</td>\n",
       "      <td>0.561216</td>\n",
       "      <td>-0.505651</td>\n",
       "      <td>-0.733160</td>\n",
       "      <td>0.671343</td>\n",
       "      <td>0.449025</td>\n",
       "      <td>0.738955</td>\n",
       "      <td>0.723324</td>\n",
       "      <td>0.817854</td>\n",
       "      <td>1.000000</td>\n",
       "      <td>0.466328</td>\n",
       "      <td>0.585018</td>\n",
       "      <td>0.778043</td>\n",
       "    </tr>\n",
       "    <tr>\n",
       "      <th>Rear.seat.room</th>\n",
       "      <td>0.376642</td>\n",
       "      <td>0.311499</td>\n",
       "      <td>0.247260</td>\n",
       "      <td>-0.384347</td>\n",
       "      <td>-0.366684</td>\n",
       "      <td>0.502750</td>\n",
       "      <td>0.256732</td>\n",
       "      <td>-0.342175</td>\n",
       "      <td>-0.377010</td>\n",
       "      <td>0.509689</td>\n",
       "      <td>0.694134</td>\n",
       "      <td>0.549958</td>\n",
       "      <td>0.667259</td>\n",
       "      <td>0.465618</td>\n",
       "      <td>0.466328</td>\n",
       "      <td>1.000000</td>\n",
       "      <td>0.651968</td>\n",
       "      <td>0.526250</td>\n",
       "    </tr>\n",
       "    <tr>\n",
       "      <th>Luggage.room</th>\n",
       "      <td>0.413485</td>\n",
       "      <td>0.366569</td>\n",
       "      <td>0.315315</td>\n",
       "      <td>-0.494894</td>\n",
       "      <td>-0.371629</td>\n",
       "      <td>0.680827</td>\n",
       "      <td>0.359217</td>\n",
       "      <td>-0.524845</td>\n",
       "      <td>-0.592792</td>\n",
       "      <td>0.613437</td>\n",
       "      <td>0.653317</td>\n",
       "      <td>0.712962</td>\n",
       "      <td>0.734127</td>\n",
       "      <td>0.673490</td>\n",
       "      <td>0.585018</td>\n",
       "      <td>0.651968</td>\n",
       "      <td>1.000000</td>\n",
       "      <td>0.637226</td>\n",
       "    </tr>\n",
       "    <tr>\n",
       "      <th>Weight</th>\n",
       "      <td>0.666554</td>\n",
       "      <td>0.647179</td>\n",
       "      <td>0.605142</td>\n",
       "      <td>-0.843139</td>\n",
       "      <td>-0.810658</td>\n",
       "      <td>0.845075</td>\n",
       "      <td>0.738798</td>\n",
       "      <td>-0.427931</td>\n",
       "      <td>-0.735264</td>\n",
       "      <td>0.894018</td>\n",
       "      <td>0.553273</td>\n",
       "      <td>0.806274</td>\n",
       "      <td>0.871895</td>\n",
       "      <td>0.874961</td>\n",
       "      <td>0.778043</td>\n",
       "      <td>0.526250</td>\n",
       "      <td>0.637226</td>\n",
       "      <td>1.000000</td>\n",
       "    </tr>\n",
       "  </tbody>\n",
       "</table>\n",
       "</div>\n",
       "      <button class=\"colab-df-convert\" onclick=\"convertToInteractive('df-f9a0a761-e965-4bc7-9081-82fa31efb04a')\"\n",
       "              title=\"Convert this dataframe to an interactive table.\"\n",
       "              style=\"display:none;\">\n",
       "        \n",
       "  <svg xmlns=\"http://www.w3.org/2000/svg\" height=\"24px\"viewBox=\"0 0 24 24\"\n",
       "       width=\"24px\">\n",
       "    <path d=\"M0 0h24v24H0V0z\" fill=\"none\"/>\n",
       "    <path d=\"M18.56 5.44l.94 2.06.94-2.06 2.06-.94-2.06-.94-.94-2.06-.94 2.06-2.06.94zm-11 1L8.5 8.5l.94-2.06 2.06-.94-2.06-.94L8.5 2.5l-.94 2.06-2.06.94zm10 10l.94 2.06.94-2.06 2.06-.94-2.06-.94-.94-2.06-.94 2.06-2.06.94z\"/><path d=\"M17.41 7.96l-1.37-1.37c-.4-.4-.92-.59-1.43-.59-.52 0-1.04.2-1.43.59L10.3 9.45l-7.72 7.72c-.78.78-.78 2.05 0 2.83L4 21.41c.39.39.9.59 1.41.59.51 0 1.02-.2 1.41-.59l7.78-7.78 2.81-2.81c.8-.78.8-2.07 0-2.86zM5.41 20L4 18.59l7.72-7.72 1.47 1.35L5.41 20z\"/>\n",
       "  </svg>\n",
       "      </button>\n",
       "      \n",
       "  <style>\n",
       "    .colab-df-container {\n",
       "      display:flex;\n",
       "      flex-wrap:wrap;\n",
       "      gap: 12px;\n",
       "    }\n",
       "\n",
       "    .colab-df-convert {\n",
       "      background-color: #E8F0FE;\n",
       "      border: none;\n",
       "      border-radius: 50%;\n",
       "      cursor: pointer;\n",
       "      display: none;\n",
       "      fill: #1967D2;\n",
       "      height: 32px;\n",
       "      padding: 0 0 0 0;\n",
       "      width: 32px;\n",
       "    }\n",
       "\n",
       "    .colab-df-convert:hover {\n",
       "      background-color: #E2EBFA;\n",
       "      box-shadow: 0px 1px 2px rgba(60, 64, 67, 0.3), 0px 1px 3px 1px rgba(60, 64, 67, 0.15);\n",
       "      fill: #174EA6;\n",
       "    }\n",
       "\n",
       "    [theme=dark] .colab-df-convert {\n",
       "      background-color: #3B4455;\n",
       "      fill: #D2E3FC;\n",
       "    }\n",
       "\n",
       "    [theme=dark] .colab-df-convert:hover {\n",
       "      background-color: #434B5C;\n",
       "      box-shadow: 0px 1px 3px 1px rgba(0, 0, 0, 0.15);\n",
       "      filter: drop-shadow(0px 1px 2px rgba(0, 0, 0, 0.3));\n",
       "      fill: #FFFFFF;\n",
       "    }\n",
       "  </style>\n",
       "\n",
       "      <script>\n",
       "        const buttonEl =\n",
       "          document.querySelector('#df-f9a0a761-e965-4bc7-9081-82fa31efb04a button.colab-df-convert');\n",
       "        buttonEl.style.display =\n",
       "          google.colab.kernel.accessAllowed ? 'block' : 'none';\n",
       "\n",
       "        async function convertToInteractive(key) {\n",
       "          const element = document.querySelector('#df-f9a0a761-e965-4bc7-9081-82fa31efb04a');\n",
       "          const dataTable =\n",
       "            await google.colab.kernel.invokeFunction('convertToInteractive',\n",
       "                                                     [key], {});\n",
       "          if (!dataTable) return;\n",
       "\n",
       "          const docLinkHtml = 'Like what you see? Visit the ' +\n",
       "            '<a target=\"_blank\" href=https://colab.research.google.com/notebooks/data_table.ipynb>data table notebook</a>'\n",
       "            + ' to learn more about interactive tables.';\n",
       "          element.innerHTML = '';\n",
       "          dataTable['output_type'] = 'display_data';\n",
       "          await google.colab.output.renderOutput(dataTable, element);\n",
       "          const docLink = document.createElement('div');\n",
       "          docLink.innerHTML = docLinkHtml;\n",
       "          element.appendChild(docLink);\n",
       "        }\n",
       "      </script>\n",
       "    </div>\n",
       "  </div>\n",
       "  "
      ],
      "text/plain": [
       "                    Min.Price     Price  Max.Price  MPG.city  MPG.highway  \\\n",
       "Min.Price            1.000000  0.970601   0.906756 -0.622875    -0.579966   \n",
       "Price                0.970601  1.000000   0.981580 -0.594562    -0.560680   \n",
       "Max.Price            0.906756  0.981580   1.000000 -0.547811    -0.522561   \n",
       "MPG.city            -0.622875 -0.594562  -0.547811  1.000000     0.943936   \n",
       "MPG.highway         -0.579966 -0.560680  -0.522561  0.943936     1.000000   \n",
       "EngineSize           0.645488  0.597425   0.535012 -0.710003    -0.626795   \n",
       "Horsepower           0.802444  0.788218   0.744445 -0.672636    -0.619044   \n",
       "RPM                 -0.042598 -0.004955   0.025015  0.363045     0.313469   \n",
       "Rev.per.mile        -0.470395 -0.426395  -0.374024  0.695857     0.587497   \n",
       "Fuel.tank.capacity   0.635369  0.619480   0.581294 -0.813144    -0.786039   \n",
       "Passengers           0.061236  0.057860   0.053216 -0.416856    -0.466386   \n",
       "Length               0.553859  0.503628   0.442933 -0.666239    -0.542897   \n",
       "Wheelbase            0.516758  0.500864   0.467501 -0.667108    -0.615384   \n",
       "Width                0.492878  0.456028   0.408414 -0.720534    -0.640359   \n",
       "Turn.circle          0.428603  0.392590   0.347785 -0.666389    -0.593683   \n",
       "Rear.seat.room       0.376642  0.311499   0.247260 -0.384347    -0.366684   \n",
       "Luggage.room         0.413485  0.366569   0.315315 -0.494894    -0.371629   \n",
       "Weight               0.666554  0.647179   0.605142 -0.843139    -0.810658   \n",
       "\n",
       "                    EngineSize  Horsepower       RPM  Rev.per.mile  \\\n",
       "Min.Price             0.645488    0.802444 -0.042598     -0.470395   \n",
       "Price                 0.597425    0.788218 -0.004955     -0.426395   \n",
       "Max.Price             0.535012    0.744445  0.025015     -0.374024   \n",
       "MPG.city             -0.710003   -0.672636  0.363045      0.695857   \n",
       "MPG.highway          -0.626795   -0.619044  0.313469      0.587497   \n",
       "EngineSize            1.000000    0.732120 -0.547898     -0.824009   \n",
       "Horsepower            0.732120    1.000000  0.036688     -0.600314   \n",
       "RPM                  -0.547898    0.036688  1.000000      0.494764   \n",
       "Rev.per.mile         -0.824009   -0.600314  0.494764      1.000000   \n",
       "Fuel.tank.capacity    0.759306    0.711790 -0.333345     -0.609710   \n",
       "Passengers            0.372721    0.009264 -0.467138     -0.334976   \n",
       "Length                0.780283    0.550865 -0.441249     -0.690233   \n",
       "Wheelbase             0.732484    0.486854 -0.467812     -0.636824   \n",
       "Width                 0.867110    0.644413 -0.539721     -0.780460   \n",
       "Turn.circle           0.778464    0.561216 -0.505651     -0.733160   \n",
       "Rear.seat.room        0.502750    0.256732 -0.342175     -0.377010   \n",
       "Luggage.room          0.680827    0.359217 -0.524845     -0.592792   \n",
       "Weight                0.845075    0.738798 -0.427931     -0.735264   \n",
       "\n",
       "                    Fuel.tank.capacity  Passengers    Length  Wheelbase  \\\n",
       "Min.Price                     0.635369    0.061236  0.553859   0.516758   \n",
       "Price                         0.619480    0.057860  0.503628   0.500864   \n",
       "Max.Price                     0.581294    0.053216  0.442933   0.467501   \n",
       "MPG.city                     -0.813144   -0.416856 -0.666239  -0.667108   \n",
       "MPG.highway                  -0.786039   -0.466386 -0.542897  -0.615384   \n",
       "EngineSize                    0.759306    0.372721  0.780283   0.732484   \n",
       "Horsepower                    0.711790    0.009264  0.550865   0.486854   \n",
       "RPM                          -0.333345   -0.467138 -0.441249  -0.467812   \n",
       "Rev.per.mile                 -0.609710   -0.334976 -0.690233  -0.636824   \n",
       "Fuel.tank.capacity            1.000000    0.472095  0.690461   0.757674   \n",
       "Passengers                    0.472095    1.000000  0.485294   0.694054   \n",
       "Length                        0.690461    0.485294  1.000000   0.823650   \n",
       "Wheelbase                     0.757674    0.694054  0.823650   1.000000   \n",
       "Width                         0.798719    0.489979  0.822148   0.807213   \n",
       "Turn.circle                   0.671343    0.449025  0.738955   0.723324   \n",
       "Rear.seat.room                0.509689    0.694134  0.549958   0.667259   \n",
       "Luggage.room                  0.613437    0.653317  0.712962   0.734127   \n",
       "Weight                        0.894018    0.553273  0.806274   0.871895   \n",
       "\n",
       "                       Width  Turn.circle  Rear.seat.room  Luggage.room  \\\n",
       "Min.Price           0.492878     0.428603        0.376642      0.413485   \n",
       "Price               0.456028     0.392590        0.311499      0.366569   \n",
       "Max.Price           0.408414     0.347785        0.247260      0.315315   \n",
       "MPG.city           -0.720534    -0.666389       -0.384347     -0.494894   \n",
       "MPG.highway        -0.640359    -0.593683       -0.366684     -0.371629   \n",
       "EngineSize          0.867110     0.778464        0.502750      0.680827   \n",
       "Horsepower          0.644413     0.561216        0.256732      0.359217   \n",
       "RPM                -0.539721    -0.505651       -0.342175     -0.524845   \n",
       "Rev.per.mile       -0.780460    -0.733160       -0.377010     -0.592792   \n",
       "Fuel.tank.capacity  0.798719     0.671343        0.509689      0.613437   \n",
       "Passengers          0.489979     0.449025        0.694134      0.653317   \n",
       "Length              0.822148     0.738955        0.549958      0.712962   \n",
       "Wheelbase           0.807213     0.723324        0.667259      0.734127   \n",
       "Width               1.000000     0.817854        0.465618      0.673490   \n",
       "Turn.circle         0.817854     1.000000        0.466328      0.585018   \n",
       "Rear.seat.room      0.465618     0.466328        1.000000      0.651968   \n",
       "Luggage.room        0.673490     0.585018        0.651968      1.000000   \n",
       "Weight              0.874961     0.778043        0.526250      0.637226   \n",
       "\n",
       "                      Weight  \n",
       "Min.Price           0.666554  \n",
       "Price               0.647179  \n",
       "Max.Price           0.605142  \n",
       "MPG.city           -0.843139  \n",
       "MPG.highway        -0.810658  \n",
       "EngineSize          0.845075  \n",
       "Horsepower          0.738798  \n",
       "RPM                -0.427931  \n",
       "Rev.per.mile       -0.735264  \n",
       "Fuel.tank.capacity  0.894018  \n",
       "Passengers          0.553273  \n",
       "Length              0.806274  \n",
       "Wheelbase           0.871895  \n",
       "Width               0.874961  \n",
       "Turn.circle         0.778043  \n",
       "Rear.seat.room      0.526250  \n",
       "Luggage.room        0.637226  \n",
       "Weight              1.000000  "
      ]
     },
     "execution_count": 8,
     "metadata": {},
     "output_type": "execute_result"
    }
   ],
   "source": [
    "A.corr()"
   ]
  },
  {
   "cell_type": "code",
   "execution_count": null,
   "metadata": {
    "colab": {
     "base_uri": "https://localhost:8080/",
     "height": 482
    },
    "executionInfo": {
     "elapsed": 705,
     "status": "ok",
     "timestamp": 1641624075853,
     "user": {
      "displayName": "Mahesh Anand",
      "photoUrl": "https://lh3.googleusercontent.com/a-/AOh14GjrgsRhu_m9R1mX1R2osLnbO2LcUFIvlC-8Zz6HBA=s64",
      "userId": "06788086636039591358"
     },
     "user_tz": -330
    },
    "id": "PfQ_VrYc65oN",
    "outputId": "b9a6979a-c8b3-44e4-a83b-ddda86b51b27"
   },
   "outputs": [
    {
     "data": {
      "text/plain": [
       "<matplotlib.collections.PathCollection at 0x7f9c730d9d90>"
      ]
     },
     "execution_count": 19,
     "metadata": {},
     "output_type": "execute_result"
    },
    {
     "data": {
      "image/png": "[encoded data removed]",
      "text/plain": [
       "<Figure size 1080x576 with 1 Axes>"
      ]
     },
     "metadata": {
      "needs_background": "light"
     },
     "output_type": "display_data"
    }
   ],
   "source": [
    "plt.scatter(A['MPG.city'],A['Price'])"
   ]
  },
  {
   "cell_type": "code",
   "execution_count": 9,
   "metadata": {
    "colab": {
     "base_uri": "https://localhost:8080/",
     "height": 401
    },
    "executionInfo": {
     "elapsed": 933,
     "status": "ok",
     "timestamp": 1677562894420,
     "user": {
      "displayName": "Mahesh Anand",
      "userId": "06788086636039591358"
     },
     "user_tz": -330
    },
    "id": "CEG1IVai0Etc",
    "outputId": "1f832a13-9240-4c66-f871-b13d6501041a"
   },
   "outputs": [
    {
     "data": {
      "text/plain": [
       "<AxesSubplot:title={'center':'Price'}, xlabel='Passengers'>"
      ]
     },
     "execution_count": 9,
     "metadata": {},
     "output_type": "execute_result"
    },
    {
     "data": {
      "image/png": "[encoded data removed]",
      "text/plain": [
       "<Figure size 1080x576 with 1 Axes>"
      ]
     },
     "metadata": {
      "needs_background": "light"
     },
     "output_type": "display_data"
    }
   ],
   "source": [
    "A.boxplot(column='Price',by='Passengers')"
   ]
  },
  {
   "cell_type": "code",
   "execution_count": null,
   "metadata": {
    "colab": {
     "base_uri": "https://localhost:8080/",
     "height": 318
    },
    "executionInfo": {
     "elapsed": 1088,
     "status": "ok",
     "timestamp": 1599476239316,
     "user": {
      "displayName": "Mahesh Anand",
      "photoUrl": "https://lh3.googleusercontent.com/a-/AOh14GiAxRvO4nLPhI4SJLaIoUVmhr8lm1tddyCLyKOj=s64",
      "userId": "06788086636039591358"
     },
     "user_tz": -330
    },
    "id": "RBdBc4Vt4oyB",
    "outputId": "992ceafe-4a5e-4a1f-af1f-b6948cc0a8db"
   },
   "outputs": [
    {
     "data": {
      "text/plain": [
       "<matplotlib.axes._subplots.AxesSubplot at 0x7fde601da978>"
      ]
     },
     "execution_count": 8,
     "metadata": {
      "tags": []
     },
     "output_type": "execute_result"
    },
    {
     "data": {
      "image/png": "[encoded data removed]",
      "text/plain": [
       "<Figure size 432x288 with 1 Axes>"
      ]
     },
     "metadata": {
      "needs_background": "light",
      "tags": []
     },
     "output_type": "display_data"
    }
   ],
   "source": [
    "A.boxplot(column='Price',by='Cylinders')"
   ]
  },
  {
   "cell_type": "code",
   "execution_count": null,
   "metadata": {
    "colab": {
     "base_uri": "https://localhost:8080/",
     "height": 318
    },
    "executionInfo": {
     "elapsed": 1146,
     "status": "ok",
     "timestamp": 1581485639533,
     "user": {
      "displayName": "Mahesh Anand",
      "photoUrl": "https://lh3.googleusercontent.com/a-/AAuE7mDwRqsBffQmzXsc6rHxDVmepWB7mxD_zfhcK5E1=s64",
      "userId": "06788086636039591358"
     },
     "user_tz": -330
    },
    "id": "t8vHmV_kQgoy",
    "outputId": "a99acfd2-34c9-4f1e-e30e-16e4c5fc9d9a"
   },
   "outputs": [
    {
     "data": {
      "text/plain": [
       "<matplotlib.axes._subplots.AxesSubplot at 0x7f1b2318fbe0>"
      ]
     },
     "execution_count": 23,
     "metadata": {
      "tags": []
     },
     "output_type": "execute_result"
    },
    {
     "data": {
      "image/png": "[encoded data removed]",
      "text/plain": [
       "<Figure size 432x288 with 1 Axes>"
      ]
     },
     "metadata": {
      "tags": []
     },
     "output_type": "display_data"
    }
   ],
   "source": [
    "A.boxplot(column='Price',by='Origin')"
   ]
  },
  {
   "cell_type": "code",
   "execution_count": null,
   "metadata": {
    "colab": {
     "base_uri": "https://localhost:8080/",
     "height": 318
    },
    "executionInfo": {
     "elapsed": 1006,
     "status": "ok",
     "timestamp": 1594114820603,
     "user": {
      "displayName": "Mahesh Anand",
      "photoUrl": "https://lh3.googleusercontent.com/a-/AOh14GiAxRvO4nLPhI4SJLaIoUVmhr8lm1tddyCLyKOj=s64",
      "userId": "06788086636039591358"
     },
     "user_tz": -330
    },
    "id": "FN1eujBU6qFJ",
    "outputId": "a466bccb-f560-467e-9ea2-70e827170155"
   },
   "outputs": [
    {
     "data": {
      "text/plain": [
       "<matplotlib.axes._subplots.AxesSubplot at 0x7fc88b0f46a0>"
      ]
     },
     "execution_count": 6,
     "metadata": {
      "tags": []
     },
     "output_type": "execute_result"
    },
    {
     "data": {
      "image/png": "[encoded data removed]",
      "text/plain": [
       "<Figure size 432x288 with 1 Axes>"
      ]
     },
     "metadata": {
      "needs_background": "light",
      "tags": []
     },
     "output_type": "display_data"
    }
   ],
   "source": [
    "A.boxplot(column='Price',by='AirBags')"
   ]
  },
  {
   "cell_type": "code",
   "execution_count": null,
   "metadata": {
    "colab": {
     "base_uri": "https://localhost:8080/",
     "height": 72
    },
    "executionInfo": {
     "elapsed": 1174,
     "status": "ok",
     "timestamp": 1571208591797,
     "user": {
      "displayName": "Mahesh Anand",
      "photoUrl": "https://lh3.googleusercontent.com/a-/AAuE7mDwRqsBffQmzXsc6rHxDVmepWB7mxD_zfhcK5E1=s64",
      "userId": "06788086636039591358"
     },
     "user_tz": -330
    },
    "id": "Faw_1PCJUD9h",
    "outputId": "a8f42d22-da33-4c7e-955b-83b1ea36a7a5"
   },
   "outputs": [
    {
     "data": {
      "text/plain": [
       "Yes    61\n",
       "No     32\n",
       "Name: Man.trans.avail, dtype: int64"
      ]
     },
     "execution_count": 18,
     "metadata": {
      "tags": []
     },
     "output_type": "execute_result"
    }
   ],
   "source": [
    "A['Man.trans.avail'].value_counts()"
   ]
  },
  {
   "cell_type": "code",
   "execution_count": null,
   "metadata": {
    "colab": {
     "base_uri": "https://localhost:8080/",
     "height": 318
    },
    "executionInfo": {
     "elapsed": 1165,
     "status": "ok",
     "timestamp": 1591079459132,
     "user": {
      "displayName": "Mahesh Anand",
      "photoUrl": "https://lh3.googleusercontent.com/a-/AOh14GiAxRvO4nLPhI4SJLaIoUVmhr8lm1tddyCLyKOj=s64",
      "userId": "06788086636039591358"
     },
     "user_tz": -330
    },
    "id": "hlwNQ0EKuYda",
    "outputId": "a3d25ed1-cb23-4243-bbef-29b176f2c2b0"
   },
   "outputs": [
    {
     "data": {
      "text/plain": [
       "<matplotlib.axes._subplots.AxesSubplot at 0x7f8f18288080>"
      ]
     },
     "execution_count": 160,
     "metadata": {
      "tags": []
     },
     "output_type": "execute_result"
    },
    {
     "data": {
      "image/png": "[encoded data removed]",
      "text/plain": [
       "<Figure size 432x288 with 1 Axes>"
      ]
     },
     "metadata": {
      "needs_background": "light",
      "tags": []
     },
     "output_type": "display_data"
    }
   ],
   "source": [
    "A.boxplot(column='Price',by='Man.trans.avail')"
   ]
  },
  {
   "cell_type": "code",
   "execution_count": null,
   "metadata": {
    "colab": {
     "base_uri": "https://localhost:8080/",
     "height": 318
    },
    "executionInfo": {
     "elapsed": 1128,
     "status": "ok",
     "timestamp": 1582009955124,
     "user": {
      "displayName": "Mahesh Anand",
      "photoUrl": "https://lh3.googleusercontent.com/a-/AAuE7mDwRqsBffQmzXsc6rHxDVmepWB7mxD_zfhcK5E1=s64",
      "userId": "06788086636039591358"
     },
     "user_tz": -330
    },
    "id": "ym3Hn2M4BVk-",
    "outputId": "94571220-f498-4f46-c06f-813790134a37"
   },
   "outputs": [
    {
     "data": {
      "text/plain": [
       "<matplotlib.axes._subplots.AxesSubplot at 0x7f915ecda400>"
      ]
     },
     "execution_count": 32,
     "metadata": {
      "tags": []
     },
     "output_type": "execute_result"
    },
    {
     "data": {
      "image/png": "[encoded data removed]",
      "text/plain": [
       "<Figure size 432x288 with 1 Axes>"
      ]
     },
     "metadata": {
      "tags": []
     },
     "output_type": "display_data"
    }
   ],
   "source": [
    "A.boxplot(column='Price',by='DriveTrain')"
   ]
  },
  {
   "cell_type": "code",
   "execution_count": null,
   "metadata": {
    "id": "zy-kgFs_bPyL"
   },
   "outputs": [],
   "source": [
    "#Bigdata (10K to 100K) = dropna\n",
    "#Dataset size (500-2000)upto 5-10% of size of n = Median Imputation or random sampling\n",
    "#Dataset around 1000, 10-20% of record is missing = KNN Imputer (preserve your distribution)"
   ]
  },
  {
   "cell_type": "code",
   "execution_count": 10,
   "metadata": {
    "executionInfo": {
     "elapsed": 4,
     "status": "ok",
     "timestamp": 1677563204480,
     "user": {
      "displayName": "Mahesh Anand",
      "userId": "06788086636039591358"
     },
     "user_tz": -330
    },
    "id": "_ydpIPZhalLO"
   },
   "outputs": [],
   "source": [
    "A['Rear.seat.room'].fillna(A['Rear.seat.room'].median(),inplace=True)\n",
    "A['Luggage.room'].fillna(A['Luggage.room'].median(),inplace=True)"
   ]
  },
  {
   "cell_type": "code",
   "execution_count": null,
   "metadata": {
    "colab": {
     "base_uri": "https://localhost:8080/",
     "height": 206
    },
    "executionInfo": {
     "elapsed": 563,
     "status": "ok",
     "timestamp": 1641632385339,
     "user": {
      "displayName": "Mahesh Anand",
      "photoUrl": "https://lh3.googleusercontent.com/a-/AOh14GjrgsRhu_m9R1mX1R2osLnbO2LcUFIvlC-8Zz6HBA=s64",
      "userId": "06788086636039591358"
     },
     "user_tz": -330
    },
    "id": "eJ6aZhc0dlDS",
    "outputId": "bacd7817-6c10-46ec-8be3-a871272e4908"
   },
   "outputs": [
    {
     "data": {
      "text/html": [
       "\n",
       "  <div id=\"df-7b203437-e00e-407b-adb8-13d115484e6a\">\n",
       "    <div class=\"colab-df-container\">\n",
       "      <div>\n",
       "<style scoped>\n",
       "    .dataframe tbody tr th:only-of-type {\n",
       "        vertical-align: middle;\n",
       "    }\n",
       "\n",
       "    .dataframe tbody tr th {\n",
       "        vertical-align: top;\n",
       "    }\n",
       "\n",
       "    .dataframe thead th {\n",
       "        text-align: right;\n",
       "    }\n",
       "</style>\n",
       "<table border=\"1\" class=\"dataframe\">\n",
       "  <thead>\n",
       "    <tr style=\"text-align: right;\">\n",
       "      <th></th>\n",
       "      <th>x1</th>\n",
       "      <th>x2</th>\n",
       "      <th>x3</th>\n",
       "    </tr>\n",
       "  </thead>\n",
       "  <tbody>\n",
       "    <tr>\n",
       "      <th>0</th>\n",
       "      <td>3.0</td>\n",
       "      <td>5</td>\n",
       "      <td>NaN</td>\n",
       "    </tr>\n",
       "    <tr>\n",
       "      <th>1</th>\n",
       "      <td>8.0</td>\n",
       "      <td>2</td>\n",
       "      <td>9.0</td>\n",
       "    </tr>\n",
       "    <tr>\n",
       "      <th>2</th>\n",
       "      <td>NaN</td>\n",
       "      <td>7</td>\n",
       "      <td>8.0</td>\n",
       "    </tr>\n",
       "    <tr>\n",
       "      <th>3</th>\n",
       "      <td>5.0</td>\n",
       "      <td>8</td>\n",
       "      <td>2.0</td>\n",
       "    </tr>\n",
       "    <tr>\n",
       "      <th>4</th>\n",
       "      <td>10.0</td>\n",
       "      <td>9</td>\n",
       "      <td>5.0</td>\n",
       "    </tr>\n",
       "  </tbody>\n",
       "</table>\n",
       "</div>\n",
       "      <button class=\"colab-df-convert\" onclick=\"convertToInteractive('df-7b203437-e00e-407b-adb8-13d115484e6a')\"\n",
       "              title=\"Convert this dataframe to an interactive table.\"\n",
       "              style=\"display:none;\">\n",
       "        \n",
       "  <svg xmlns=\"http://www.w3.org/2000/svg\" height=\"24px\"viewBox=\"0 0 24 24\"\n",
       "       width=\"24px\">\n",
       "    <path d=\"M0 0h24v24H0V0z\" fill=\"none\"/>\n",
       "    <path d=\"M18.56 5.44l.94 2.06.94-2.06 2.06-.94-2.06-.94-.94-2.06-.94 2.06-2.06.94zm-11 1L8.5 8.5l.94-2.06 2.06-.94-2.06-.94L8.5 2.5l-.94 2.06-2.06.94zm10 10l.94 2.06.94-2.06 2.06-.94-2.06-.94-.94-2.06-.94 2.06-2.06.94z\"/><path d=\"M17.41 7.96l-1.37-1.37c-.4-.4-.92-.59-1.43-.59-.52 0-1.04.2-1.43.59L10.3 9.45l-7.72 7.72c-.78.78-.78 2.05 0 2.83L4 21.41c.39.39.9.59 1.41.59.51 0 1.02-.2 1.41-.59l7.78-7.78 2.81-2.81c.8-.78.8-2.07 0-2.86zM5.41 20L4 18.59l7.72-7.72 1.47 1.35L5.41 20z\"/>\n",
       "  </svg>\n",
       "      </button>\n",
       "      \n",
       "  <style>\n",
       "    .colab-df-container {\n",
       "      display:flex;\n",
       "      flex-wrap:wrap;\n",
       "      gap: 12px;\n",
       "    }\n",
       "\n",
       "    .colab-df-convert {\n",
       "      background-color: #E8F0FE;\n",
       "      border: none;\n",
       "      border-radius: 50%;\n",
       "      cursor: pointer;\n",
       "      display: none;\n",
       "      fill: #1967D2;\n",
       "      height: 32px;\n",
       "      padding: 0 0 0 0;\n",
       "      width: 32px;\n",
       "    }\n",
       "\n",
       "    .colab-df-convert:hover {\n",
       "      background-color: #E2EBFA;\n",
       "      box-shadow: 0px 1px 2px rgba(60, 64, 67, 0.3), 0px 1px 3px 1px rgba(60, 64, 67, 0.15);\n",
       "      fill: #174EA6;\n",
       "    }\n",
       "\n",
       "    [theme=dark] .colab-df-convert {\n",
       "      background-color: #3B4455;\n",
       "      fill: #D2E3FC;\n",
       "    }\n",
       "\n",
       "    [theme=dark] .colab-df-convert:hover {\n",
       "      background-color: #434B5C;\n",
       "      box-shadow: 0px 1px 3px 1px rgba(0, 0, 0, 0.15);\n",
       "      filter: drop-shadow(0px 1px 2px rgba(0, 0, 0, 0.3));\n",
       "      fill: #FFFFFF;\n",
       "    }\n",
       "  </style>\n",
       "\n",
       "      <script>\n",
       "        const buttonEl =\n",
       "          document.querySelector('#df-7b203437-e00e-407b-adb8-13d115484e6a button.colab-df-convert');\n",
       "        buttonEl.style.display =\n",
       "          google.colab.kernel.accessAllowed ? 'block' : 'none';\n",
       "\n",
       "        async function convertToInteractive(key) {\n",
       "          const element = document.querySelector('#df-7b203437-e00e-407b-adb8-13d115484e6a');\n",
       "          const dataTable =\n",
       "            await google.colab.kernel.invokeFunction('convertToInteractive',\n",
       "                                                     [key], {});\n",
       "          if (!dataTable) return;\n",
       "\n",
       "          const docLinkHtml = 'Like what you see? Visit the ' +\n",
       "            '<a target=\"_blank\" href=https://colab.research.google.com/notebooks/data_table.ipynb>data table notebook</a>'\n",
       "            + ' to learn more about interactive tables.';\n",
       "          element.innerHTML = '';\n",
       "          dataTable['output_type'] = 'display_data';\n",
       "          await google.colab.output.renderOutput(dataTable, element);\n",
       "          const docLink = document.createElement('div');\n",
       "          docLink.innerHTML = docLinkHtml;\n",
       "          element.appendChild(docLink);\n",
       "        }\n",
       "      </script>\n",
       "    </div>\n",
       "  </div>\n",
       "  "
      ],
      "text/plain": [
       "     x1  x2   x3\n",
       "0   3.0   5  NaN\n",
       "1   8.0   2  9.0\n",
       "2   NaN   7  8.0\n",
       "3   5.0   8  2.0\n",
       "4  10.0   9  5.0"
      ]
     },
     "execution_count": 33,
     "metadata": {},
     "output_type": "execute_result"
    }
   ],
   "source": [
    "test=pd.DataFrame({'x1':[3,8,np.nan,5,10],'x2':[5,2,7,8,9],'x3':[np.nan,9,8,2,5]})\n",
    "test"
   ]
  },
  {
   "cell_type": "code",
   "execution_count": null,
   "metadata": {
    "id": "6WD3s_xkgWua"
   },
   "outputs": [],
   "source": [
    "from sklearn.impute import KNNImputer\n",
    "#by default it is recursive"
   ]
  },
  {
   "cell_type": "code",
   "execution_count": null,
   "metadata": {
    "colab": {
     "base_uri": "https://localhost:8080/"
    },
    "executionInfo": {
     "elapsed": 513,
     "status": "ok",
     "timestamp": 1641632388316,
     "user": {
      "displayName": "Mahesh Anand",
      "photoUrl": "https://lh3.googleusercontent.com/a-/AOh14GjrgsRhu_m9R1mX1R2osLnbO2LcUFIvlC-8Zz6HBA=s64",
      "userId": "06788086636039591358"
     },
     "user_tz": -330
    },
    "id": "LBF1P524gdXZ",
    "outputId": "b0124719-7dd6-4ae1-8f8d-e81499800e98"
   },
   "outputs": [
    {
     "data": {
      "text/plain": [
       "array([[ 3. ,  5. ,  5. ],\n",
       "       [ 8. ,  2. ,  9. ],\n",
       "       [ 6.5,  7. ,  8. ],\n",
       "       [ 5. ,  8. ,  2. ],\n",
       "       [10. ,  9. ,  5. ]])"
      ]
     },
     "execution_count": 34,
     "metadata": {},
     "output_type": "execute_result"
    }
   ],
   "source": [
    "Imp=KNNImputer(n_neighbors=2)\n",
    "Imp.fit_transform(test)"
   ]
  },
  {
   "cell_type": "code",
   "execution_count": null,
   "metadata": {
    "id": "rwXgwp9veHX4"
   },
   "outputs": [],
   "source": [
    "#using KNN imputer (n_neigh=2)\n",
    "#test-1=8\n",
    "#test-3=5\n",
    "#test-4=11"
   ]
  },
  {
   "cell_type": "code",
   "execution_count": null,
   "metadata": {
    "id": "C1ivX3UzUN4t"
   },
   "outputs": [],
   "source": [
    "A['Rear.seat.room'].fillna(0,inplace=True)\n",
    "A['Luggage.room'].fillna(0,inplace=True)"
   ]
  },
  {
   "cell_type": "code",
   "execution_count": 38,
   "metadata": {
    "colab": {
     "base_uri": "https://localhost:8080/"
    },
    "executionInfo": {
     "elapsed": 475,
     "status": "ok",
     "timestamp": 1677565264865,
     "user": {
      "displayName": "Mahesh Anand",
      "userId": "06788086636039591358"
     },
     "user_tz": -330
    },
    "id": "dnkcunL2USy_",
    "outputId": "f478eaa1-1854-4286-ab1e-37c3e9d28b4f"
   },
   "outputs": [
    {
     "name": "stdout",
     "output_type": "stream",
     "text": [
      "<class 'pandas.core.frame.DataFrame'>\n",
      "Int64Index: 90 entries, 1 to 93\n",
      "Data columns (total 27 columns):\n",
      " #   Column              Non-Null Count  Dtype  \n",
      "---  ------              --------------  -----  \n",
      " 0   Manufacturer        90 non-null     object \n",
      " 1   Model               90 non-null     object \n",
      " 2   Type                90 non-null     object \n",
      " 3   Min.Price           90 non-null     float64\n",
      " 4   Price               90 non-null     float64\n",
      " 5   Max.Price           90 non-null     float64\n",
      " 6   MPG.city            90 non-null     int64  \n",
      " 7   MPG.highway         90 non-null     int64  \n",
      " 8   AirBags             90 non-null     object \n",
      " 9   DriveTrain          90 non-null     object \n",
      " 10  Cylinders           90 non-null     object \n",
      " 11  EngineSize          90 non-null     float64\n",
      " 12  Horsepower          90 non-null     int64  \n",
      " 13  RPM                 90 non-null     int64  \n",
      " 14  Rev.per.mile        90 non-null     int64  \n",
      " 15  Man.trans.avail     90 non-null     object \n",
      " 16  Fuel.tank.capacity  90 non-null     float64\n",
      " 17  Passengers          90 non-null     object \n",
      " 18  Length              90 non-null     int64  \n",
      " 19  Wheelbase           90 non-null     int64  \n",
      " 20  Width               90 non-null     int64  \n",
      " 21  Turn.circle         90 non-null     int64  \n",
      " 22  Rear.seat.room      90 non-null     float64\n",
      " 23  Luggage.room        90 non-null     float64\n",
      " 24  Weight              90 non-null     int64  \n",
      " 25  Origin              90 non-null     object \n",
      " 26  Make                90 non-null     object \n",
      "dtypes: float64(7), int64(10), object(10)\n",
      "memory usage: 19.7+ KB\n"
     ]
    }
   ],
   "source": [
    "A_update.info()"
   ]
  },
  {
   "cell_type": "code",
   "execution_count": 12,
   "metadata": {
    "executionInfo": {
     "elapsed": 526,
     "status": "ok",
     "timestamp": 1677563306562,
     "user": {
      "displayName": "Mahesh Anand",
      "userId": "06788086636039591358"
     },
     "user_tz": -330
    },
    "id": "t0UtOwV-z3sT"
   },
   "outputs": [],
   "source": [
    "A['Passengers']=A['Passengers'].astype('object')"
   ]
  },
  {
   "cell_type": "code",
   "execution_count": 13,
   "metadata": {
    "colab": {
     "base_uri": "https://localhost:8080/"
    },
    "executionInfo": {
     "elapsed": 471,
     "status": "ok",
     "timestamp": 1677563337796,
     "user": {
      "displayName": "Mahesh Anand",
      "userId": "06788086636039591358"
     },
     "user_tz": -330
    },
    "id": "M5wNLy1W0HAg",
    "outputId": "277c79b6-2a97-43f7-8a13-1fd149316583"
   },
   "outputs": [
    {
     "name": "stdout",
     "output_type": "stream",
     "text": [
      "<class 'pandas.core.frame.DataFrame'>\n",
      "Int64Index: 93 entries, 1 to 93\n",
      "Data columns (total 27 columns):\n",
      " #   Column              Non-Null Count  Dtype  \n",
      "---  ------              --------------  -----  \n",
      " 0   Manufacturer        93 non-null     object \n",
      " 1   Model               93 non-null     object \n",
      " 2   Type                93 non-null     object \n",
      " 3   Min.Price           93 non-null     float64\n",
      " 4   Price               93 non-null     float64\n",
      " 5   Max.Price           93 non-null     float64\n",
      " 6   MPG.city            93 non-null     int64  \n",
      " 7   MPG.highway         93 non-null     int64  \n",
      " 8   AirBags             93 non-null     object \n",
      " 9   DriveTrain          93 non-null     object \n",
      " 10  Cylinders           93 non-null     object \n",
      " 11  EngineSize          93 non-null     float64\n",
      " 12  Horsepower          93 non-null     int64  \n",
      " 13  RPM                 93 non-null     int64  \n",
      " 14  Rev.per.mile        93 non-null     int64  \n",
      " 15  Man.trans.avail     93 non-null     object \n",
      " 16  Fuel.tank.capacity  93 non-null     float64\n",
      " 17  Passengers          93 non-null     object \n",
      " 18  Length              93 non-null     int64  \n",
      " 19  Wheelbase           93 non-null     int64  \n",
      " 20  Width               93 non-null     int64  \n",
      " 21  Turn.circle         93 non-null     int64  \n",
      " 22  Rear.seat.room      93 non-null     float64\n",
      " 23  Luggage.room        93 non-null     float64\n",
      " 24  Weight              93 non-null     int64  \n",
      " 25  Origin              93 non-null     object \n",
      " 26  Make                93 non-null     object \n",
      "dtypes: float64(7), int64(10), object(10)\n",
      "memory usage: 20.3+ KB\n"
     ]
    }
   ],
   "source": [
    "A.info()"
   ]
  },
  {
   "cell_type": "code",
   "execution_count": 39,
   "metadata": {
    "colab": {
     "base_uri": "https://localhost:8080/",
     "height": 386
    },
    "executionInfo": {
     "elapsed": 7,
     "status": "ok",
     "timestamp": 1677565289137,
     "user": {
      "displayName": "Mahesh Anand",
      "userId": "06788086636039591358"
     },
     "user_tz": -330
    },
    "id": "FmYz1upQX4kK",
    "outputId": "710f8f81-68e5-4b1d-a5ae-bdd8e23562ed"
   },
   "outputs": [
    {
     "data": {
      "text/html": [
       "\n",
       "  <div id=\"df-d9499b63-7687-4e18-b1c6-2afa6460e247\">\n",
       "    <div class=\"colab-df-container\">\n",
       "      <div>\n",
       "<style scoped>\n",
       "    .dataframe tbody tr th:only-of-type {\n",
       "        vertical-align: middle;\n",
       "    }\n",
       "\n",
       "    .dataframe tbody tr th {\n",
       "        vertical-align: top;\n",
       "    }\n",
       "\n",
       "    .dataframe thead th {\n",
       "        text-align: right;\n",
       "    }\n",
       "</style>\n",
       "<table border=\"1\" class=\"dataframe\">\n",
       "  <thead>\n",
       "    <tr style=\"text-align: right;\">\n",
       "      <th></th>\n",
       "      <th>Type</th>\n",
       "      <th>MPG.city</th>\n",
       "      <th>MPG.highway</th>\n",
       "      <th>AirBags</th>\n",
       "      <th>DriveTrain</th>\n",
       "      <th>Cylinders</th>\n",
       "      <th>EngineSize</th>\n",
       "      <th>Horsepower</th>\n",
       "      <th>RPM</th>\n",
       "      <th>Rev.per.mile</th>\n",
       "      <th>...</th>\n",
       "      <th>Fuel.tank.capacity</th>\n",
       "      <th>Passengers</th>\n",
       "      <th>Length</th>\n",
       "      <th>Wheelbase</th>\n",
       "      <th>Width</th>\n",
       "      <th>Turn.circle</th>\n",
       "      <th>Rear.seat.room</th>\n",
       "      <th>Luggage.room</th>\n",
       "      <th>Weight</th>\n",
       "      <th>Origin</th>\n",
       "    </tr>\n",
       "  </thead>\n",
       "  <tbody>\n",
       "    <tr>\n",
       "      <th>1</th>\n",
       "      <td>Small</td>\n",
       "      <td>25</td>\n",
       "      <td>31</td>\n",
       "      <td>None</td>\n",
       "      <td>Front</td>\n",
       "      <td>4</td>\n",
       "      <td>1.8</td>\n",
       "      <td>140</td>\n",
       "      <td>6300</td>\n",
       "      <td>2890</td>\n",
       "      <td>...</td>\n",
       "      <td>13.2</td>\n",
       "      <td>5</td>\n",
       "      <td>177</td>\n",
       "      <td>102</td>\n",
       "      <td>68</td>\n",
       "      <td>37</td>\n",
       "      <td>26.5</td>\n",
       "      <td>11.0</td>\n",
       "      <td>2705</td>\n",
       "      <td>non-USA</td>\n",
       "    </tr>\n",
       "    <tr>\n",
       "      <th>2</th>\n",
       "      <td>Midsize</td>\n",
       "      <td>18</td>\n",
       "      <td>25</td>\n",
       "      <td>Driver &amp; Passenger</td>\n",
       "      <td>Front</td>\n",
       "      <td>6</td>\n",
       "      <td>3.2</td>\n",
       "      <td>200</td>\n",
       "      <td>5500</td>\n",
       "      <td>2335</td>\n",
       "      <td>...</td>\n",
       "      <td>18.0</td>\n",
       "      <td>5</td>\n",
       "      <td>195</td>\n",
       "      <td>115</td>\n",
       "      <td>71</td>\n",
       "      <td>38</td>\n",
       "      <td>30.0</td>\n",
       "      <td>15.0</td>\n",
       "      <td>3560</td>\n",
       "      <td>non-USA</td>\n",
       "    </tr>\n",
       "    <tr>\n",
       "      <th>3</th>\n",
       "      <td>Compact</td>\n",
       "      <td>20</td>\n",
       "      <td>26</td>\n",
       "      <td>Driver only</td>\n",
       "      <td>Front</td>\n",
       "      <td>6</td>\n",
       "      <td>2.8</td>\n",
       "      <td>172</td>\n",
       "      <td>5500</td>\n",
       "      <td>2280</td>\n",
       "      <td>...</td>\n",
       "      <td>16.9</td>\n",
       "      <td>5</td>\n",
       "      <td>180</td>\n",
       "      <td>102</td>\n",
       "      <td>67</td>\n",
       "      <td>37</td>\n",
       "      <td>28.0</td>\n",
       "      <td>14.0</td>\n",
       "      <td>3375</td>\n",
       "      <td>non-USA</td>\n",
       "    </tr>\n",
       "    <tr>\n",
       "      <th>4</th>\n",
       "      <td>Midsize</td>\n",
       "      <td>19</td>\n",
       "      <td>26</td>\n",
       "      <td>Driver &amp; Passenger</td>\n",
       "      <td>Front</td>\n",
       "      <td>6</td>\n",
       "      <td>2.8</td>\n",
       "      <td>172</td>\n",
       "      <td>5500</td>\n",
       "      <td>2535</td>\n",
       "      <td>...</td>\n",
       "      <td>21.1</td>\n",
       "      <td>6</td>\n",
       "      <td>193</td>\n",
       "      <td>106</td>\n",
       "      <td>70</td>\n",
       "      <td>37</td>\n",
       "      <td>31.0</td>\n",
       "      <td>17.0</td>\n",
       "      <td>3405</td>\n",
       "      <td>non-USA</td>\n",
       "    </tr>\n",
       "    <tr>\n",
       "      <th>5</th>\n",
       "      <td>Midsize</td>\n",
       "      <td>22</td>\n",
       "      <td>30</td>\n",
       "      <td>Driver only</td>\n",
       "      <td>Rear</td>\n",
       "      <td>4</td>\n",
       "      <td>3.5</td>\n",
       "      <td>208</td>\n",
       "      <td>5700</td>\n",
       "      <td>2545</td>\n",
       "      <td>...</td>\n",
       "      <td>21.1</td>\n",
       "      <td>4</td>\n",
       "      <td>186</td>\n",
       "      <td>109</td>\n",
       "      <td>69</td>\n",
       "      <td>39</td>\n",
       "      <td>27.0</td>\n",
       "      <td>13.0</td>\n",
       "      <td>3640</td>\n",
       "      <td>non-USA</td>\n",
       "    </tr>\n",
       "  </tbody>\n",
       "</table>\n",
       "<p>5 rows × 21 columns</p>\n",
       "</div>\n",
       "      <button class=\"colab-df-convert\" onclick=\"convertToInteractive('df-d9499b63-7687-4e18-b1c6-2afa6460e247')\"\n",
       "              title=\"Convert this dataframe to an interactive table.\"\n",
       "              style=\"display:none;\">\n",
       "        \n",
       "  <svg xmlns=\"http://www.w3.org/2000/svg\" height=\"24px\"viewBox=\"0 0 24 24\"\n",
       "       width=\"24px\">\n",
       "    <path d=\"M0 0h24v24H0V0z\" fill=\"none\"/>\n",
       "    <path d=\"M18.56 5.44l.94 2.06.94-2.06 2.06-.94-2.06-.94-.94-2.06-.94 2.06-2.06.94zm-11 1L8.5 8.5l.94-2.06 2.06-.94-2.06-.94L8.5 2.5l-.94 2.06-2.06.94zm10 10l.94 2.06.94-2.06 2.06-.94-2.06-.94-.94-2.06-.94 2.06-2.06.94z\"/><path d=\"M17.41 7.96l-1.37-1.37c-.4-.4-.92-.59-1.43-.59-.52 0-1.04.2-1.43.59L10.3 9.45l-7.72 7.72c-.78.78-.78 2.05 0 2.83L4 21.41c.39.39.9.59 1.41.59.51 0 1.02-.2 1.41-.59l7.78-7.78 2.81-2.81c.8-.78.8-2.07 0-2.86zM5.41 20L4 18.59l7.72-7.72 1.47 1.35L5.41 20z\"/>\n",
       "  </svg>\n",
       "      </button>\n",
       "      \n",
       "  <style>\n",
       "    .colab-df-container {\n",
       "      display:flex;\n",
       "      flex-wrap:wrap;\n",
       "      gap: 12px;\n",
       "    }\n",
       "\n",
       "    .colab-df-convert {\n",
       "      background-color: #E8F0FE;\n",
       "      border: none;\n",
       "      border-radius: 50%;\n",
       "      cursor: pointer;\n",
       "      display: none;\n",
       "      fill: #1967D2;\n",
       "      height: 32px;\n",
       "      padding: 0 0 0 0;\n",
       "      width: 32px;\n",
       "    }\n",
       "\n",
       "    .colab-df-convert:hover {\n",
       "      background-color: #E2EBFA;\n",
       "      box-shadow: 0px 1px 2px rgba(60, 64, 67, 0.3), 0px 1px 3px 1px rgba(60, 64, 67, 0.15);\n",
       "      fill: #174EA6;\n",
       "    }\n",
       "\n",
       "    [theme=dark] .colab-df-convert {\n",
       "      background-color: #3B4455;\n",
       "      fill: #D2E3FC;\n",
       "    }\n",
       "\n",
       "    [theme=dark] .colab-df-convert:hover {\n",
       "      background-color: #434B5C;\n",
       "      box-shadow: 0px 1px 3px 1px rgba(0, 0, 0, 0.15);\n",
       "      filter: drop-shadow(0px 1px 2px rgba(0, 0, 0, 0.3));\n",
       "      fill: #FFFFFF;\n",
       "    }\n",
       "  </style>\n",
       "\n",
       "      <script>\n",
       "        const buttonEl =\n",
       "          document.querySelector('#df-d9499b63-7687-4e18-b1c6-2afa6460e247 button.colab-df-convert');\n",
       "        buttonEl.style.display =\n",
       "          google.colab.kernel.accessAllowed ? 'block' : 'none';\n",
       "\n",
       "        async function convertToInteractive(key) {\n",
       "          const element = document.querySelector('#df-d9499b63-7687-4e18-b1c6-2afa6460e247');\n",
       "          const dataTable =\n",
       "            await google.colab.kernel.invokeFunction('convertToInteractive',\n",
       "                                                     [key], {});\n",
       "          if (!dataTable) return;\n",
       "\n",
       "          const docLinkHtml = 'Like what you see? Visit the ' +\n",
       "            '<a target=\"_blank\" href=https://colab.research.google.com/notebooks/data_table.ipynb>data table notebook</a>'\n",
       "            + ' to learn more about interactive tables.';\n",
       "          element.innerHTML = '';\n",
       "          dataTable['output_type'] = 'display_data';\n",
       "          await google.colab.output.renderOutput(dataTable, element);\n",
       "          const docLink = document.createElement('div');\n",
       "          docLink.innerHTML = docLinkHtml;\n",
       "          element.appendChild(docLink);\n",
       "        }\n",
       "      </script>\n",
       "    </div>\n",
       "  </div>\n",
       "  "
      ],
      "text/plain": [
       "      Type  MPG.city  MPG.highway             AirBags DriveTrain Cylinders  \\\n",
       "1    Small        25           31                None      Front         4   \n",
       "2  Midsize        18           25  Driver & Passenger      Front         6   \n",
       "3  Compact        20           26         Driver only      Front         6   \n",
       "4  Midsize        19           26  Driver & Passenger      Front         6   \n",
       "5  Midsize        22           30         Driver only       Rear         4   \n",
       "\n",
       "   EngineSize  Horsepower   RPM  Rev.per.mile  ... Fuel.tank.capacity  \\\n",
       "1         1.8         140  6300          2890  ...               13.2   \n",
       "2         3.2         200  5500          2335  ...               18.0   \n",
       "3         2.8         172  5500          2280  ...               16.9   \n",
       "4         2.8         172  5500          2535  ...               21.1   \n",
       "5         3.5         208  5700          2545  ...               21.1   \n",
       "\n",
       "   Passengers Length  Wheelbase  Width  Turn.circle  Rear.seat.room  \\\n",
       "1           5    177        102     68           37            26.5   \n",
       "2           5    195        115     71           38            30.0   \n",
       "3           5    180        102     67           37            28.0   \n",
       "4           6    193        106     70           37            31.0   \n",
       "5           4    186        109     69           39            27.0   \n",
       "\n",
       "   Luggage.room  Weight   Origin  \n",
       "1          11.0    2705  non-USA  \n",
       "2          15.0    3560  non-USA  \n",
       "3          14.0    3375  non-USA  \n",
       "4          17.0    3405  non-USA  \n",
       "5          13.0    3640  non-USA  \n",
       "\n",
       "[5 rows x 21 columns]"
      ]
     },
     "execution_count": 39,
     "metadata": {},
     "output_type": "execute_result"
    }
   ],
   "source": [
    "#Create a B data frame by dropping unwanted columns based on business context\n",
    "B=A_update.drop(['Manufacturer','Model','Min.Price','Max.Price','Price','Make'],axis=1)\n",
    "B.head()"
   ]
  },
  {
   "cell_type": "code",
   "execution_count": 40,
   "metadata": {
    "colab": {
     "base_uri": "https://localhost:8080/"
    },
    "executionInfo": {
     "elapsed": 455,
     "status": "ok",
     "timestamp": 1677565295063,
     "user": {
      "displayName": "Mahesh Anand",
      "userId": "06788086636039591358"
     },
     "user_tz": -330
    },
    "id": "Jkn9Krjn_cOH",
    "outputId": "40de7e34-fe1a-4433-efbf-86e2c6315d90"
   },
   "outputs": [
    {
     "name": "stdout",
     "output_type": "stream",
     "text": [
      "<class 'pandas.core.frame.DataFrame'>\n",
      "Int64Index: 90 entries, 1 to 93\n",
      "Data columns (total 21 columns):\n",
      " #   Column              Non-Null Count  Dtype  \n",
      "---  ------              --------------  -----  \n",
      " 0   Type                90 non-null     object \n",
      " 1   MPG.city            90 non-null     int64  \n",
      " 2   MPG.highway         90 non-null     int64  \n",
      " 3   AirBags             90 non-null     object \n",
      " 4   DriveTrain          90 non-null     object \n",
      " 5   Cylinders           90 non-null     object \n",
      " 6   EngineSize          90 non-null     float64\n",
      " 7   Horsepower          90 non-null     int64  \n",
      " 8   RPM                 90 non-null     int64  \n",
      " 9   Rev.per.mile        90 non-null     int64  \n",
      " 10  Man.trans.avail     90 non-null     object \n",
      " 11  Fuel.tank.capacity  90 non-null     float64\n",
      " 12  Passengers          90 non-null     object \n",
      " 13  Length              90 non-null     int64  \n",
      " 14  Wheelbase           90 non-null     int64  \n",
      " 15  Width               90 non-null     int64  \n",
      " 16  Turn.circle         90 non-null     int64  \n",
      " 17  Rear.seat.room      90 non-null     float64\n",
      " 18  Luggage.room        90 non-null     float64\n",
      " 19  Weight              90 non-null     int64  \n",
      " 20  Origin              90 non-null     object \n",
      "dtypes: float64(4), int64(10), object(7)\n",
      "memory usage: 15.5+ KB\n"
     ]
    }
   ],
   "source": [
    "B.info()"
   ]
  },
  {
   "cell_type": "code",
   "execution_count": 41,
   "metadata": {
    "colab": {
     "base_uri": "https://localhost:8080/",
     "height": 270
    },
    "executionInfo": {
     "elapsed": 1069,
     "status": "ok",
     "timestamp": 1677565302624,
     "user": {
      "displayName": "Mahesh Anand",
      "userId": "06788086636039591358"
     },
     "user_tz": -330
    },
    "id": "LhjdijZDKHUV",
    "outputId": "b4a72b38-efad-4321-f74f-4a0a64763db8"
   },
   "outputs": [
    {
     "data": {
      "text/html": [
       "\n",
       "  <div id=\"df-9dbbe454-10ff-4fa4-9166-110585a0b54c\">\n",
       "    <div class=\"colab-df-container\">\n",
       "      <div>\n",
       "<style scoped>\n",
       "    .dataframe tbody tr th:only-of-type {\n",
       "        vertical-align: middle;\n",
       "    }\n",
       "\n",
       "    .dataframe tbody tr th {\n",
       "        vertical-align: top;\n",
       "    }\n",
       "\n",
       "    .dataframe thead th {\n",
       "        text-align: right;\n",
       "    }\n",
       "</style>\n",
       "<table border=\"1\" class=\"dataframe\">\n",
       "  <thead>\n",
       "    <tr style=\"text-align: right;\">\n",
       "      <th></th>\n",
       "      <th>MPG.city</th>\n",
       "      <th>MPG.highway</th>\n",
       "      <th>EngineSize</th>\n",
       "      <th>Horsepower</th>\n",
       "      <th>RPM</th>\n",
       "      <th>Rev.per.mile</th>\n",
       "      <th>Fuel.tank.capacity</th>\n",
       "      <th>Length</th>\n",
       "      <th>Wheelbase</th>\n",
       "      <th>Width</th>\n",
       "      <th>Turn.circle</th>\n",
       "      <th>Rear.seat.room</th>\n",
       "      <th>Luggage.room</th>\n",
       "      <th>Weight</th>\n",
       "    </tr>\n",
       "  </thead>\n",
       "  <tbody>\n",
       "    <tr>\n",
       "      <th>1</th>\n",
       "      <td>25</td>\n",
       "      <td>31</td>\n",
       "      <td>1.8</td>\n",
       "      <td>140</td>\n",
       "      <td>6300</td>\n",
       "      <td>2890</td>\n",
       "      <td>13.2</td>\n",
       "      <td>177</td>\n",
       "      <td>102</td>\n",
       "      <td>68</td>\n",
       "      <td>37</td>\n",
       "      <td>26.5</td>\n",
       "      <td>11.0</td>\n",
       "      <td>2705</td>\n",
       "    </tr>\n",
       "    <tr>\n",
       "      <th>2</th>\n",
       "      <td>18</td>\n",
       "      <td>25</td>\n",
       "      <td>3.2</td>\n",
       "      <td>200</td>\n",
       "      <td>5500</td>\n",
       "      <td>2335</td>\n",
       "      <td>18.0</td>\n",
       "      <td>195</td>\n",
       "      <td>115</td>\n",
       "      <td>71</td>\n",
       "      <td>38</td>\n",
       "      <td>30.0</td>\n",
       "      <td>15.0</td>\n",
       "      <td>3560</td>\n",
       "    </tr>\n",
       "    <tr>\n",
       "      <th>3</th>\n",
       "      <td>20</td>\n",
       "      <td>26</td>\n",
       "      <td>2.8</td>\n",
       "      <td>172</td>\n",
       "      <td>5500</td>\n",
       "      <td>2280</td>\n",
       "      <td>16.9</td>\n",
       "      <td>180</td>\n",
       "      <td>102</td>\n",
       "      <td>67</td>\n",
       "      <td>37</td>\n",
       "      <td>28.0</td>\n",
       "      <td>14.0</td>\n",
       "      <td>3375</td>\n",
       "    </tr>\n",
       "    <tr>\n",
       "      <th>4</th>\n",
       "      <td>19</td>\n",
       "      <td>26</td>\n",
       "      <td>2.8</td>\n",
       "      <td>172</td>\n",
       "      <td>5500</td>\n",
       "      <td>2535</td>\n",
       "      <td>21.1</td>\n",
       "      <td>193</td>\n",
       "      <td>106</td>\n",
       "      <td>70</td>\n",
       "      <td>37</td>\n",
       "      <td>31.0</td>\n",
       "      <td>17.0</td>\n",
       "      <td>3405</td>\n",
       "    </tr>\n",
       "    <tr>\n",
       "      <th>5</th>\n",
       "      <td>22</td>\n",
       "      <td>30</td>\n",
       "      <td>3.5</td>\n",
       "      <td>208</td>\n",
       "      <td>5700</td>\n",
       "      <td>2545</td>\n",
       "      <td>21.1</td>\n",
       "      <td>186</td>\n",
       "      <td>109</td>\n",
       "      <td>69</td>\n",
       "      <td>39</td>\n",
       "      <td>27.0</td>\n",
       "      <td>13.0</td>\n",
       "      <td>3640</td>\n",
       "    </tr>\n",
       "  </tbody>\n",
       "</table>\n",
       "</div>\n",
       "      <button class=\"colab-df-convert\" onclick=\"convertToInteractive('df-9dbbe454-10ff-4fa4-9166-110585a0b54c')\"\n",
       "              title=\"Convert this dataframe to an interactive table.\"\n",
       "              style=\"display:none;\">\n",
       "        \n",
       "  <svg xmlns=\"http://www.w3.org/2000/svg\" height=\"24px\"viewBox=\"0 0 24 24\"\n",
       "       width=\"24px\">\n",
       "    <path d=\"M0 0h24v24H0V0z\" fill=\"none\"/>\n",
       "    <path d=\"M18.56 5.44l.94 2.06.94-2.06 2.06-.94-2.06-.94-.94-2.06-.94 2.06-2.06.94zm-11 1L8.5 8.5l.94-2.06 2.06-.94-2.06-.94L8.5 2.5l-.94 2.06-2.06.94zm10 10l.94 2.06.94-2.06 2.06-.94-2.06-.94-.94-2.06-.94 2.06-2.06.94z\"/><path d=\"M17.41 7.96l-1.37-1.37c-.4-.4-.92-.59-1.43-.59-.52 0-1.04.2-1.43.59L10.3 9.45l-7.72 7.72c-.78.78-.78 2.05 0 2.83L4 21.41c.39.39.9.59 1.41.59.51 0 1.02-.2 1.41-.59l7.78-7.78 2.81-2.81c.8-.78.8-2.07 0-2.86zM5.41 20L4 18.59l7.72-7.72 1.47 1.35L5.41 20z\"/>\n",
       "  </svg>\n",
       "      </button>\n",
       "      \n",
       "  <style>\n",
       "    .colab-df-container {\n",
       "      display:flex;\n",
       "      flex-wrap:wrap;\n",
       "      gap: 12px;\n",
       "    }\n",
       "\n",
       "    .colab-df-convert {\n",
       "      background-color: #E8F0FE;\n",
       "      border: none;\n",
       "      border-radius: 50%;\n",
       "      cursor: pointer;\n",
       "      display: none;\n",
       "      fill: #1967D2;\n",
       "      height: 32px;\n",
       "      padding: 0 0 0 0;\n",
       "      width: 32px;\n",
       "    }\n",
       "\n",
       "    .colab-df-convert:hover {\n",
       "      background-color: #E2EBFA;\n",
       "      box-shadow: 0px 1px 2px rgba(60, 64, 67, 0.3), 0px 1px 3px 1px rgba(60, 64, 67, 0.15);\n",
       "      fill: #174EA6;\n",
       "    }\n",
       "\n",
       "    [theme=dark] .colab-df-convert {\n",
       "      background-color: #3B4455;\n",
       "      fill: #D2E3FC;\n",
       "    }\n",
       "\n",
       "    [theme=dark] .colab-df-convert:hover {\n",
       "      background-color: #434B5C;\n",
       "      box-shadow: 0px 1px 3px 1px rgba(0, 0, 0, 0.15);\n",
       "      filter: drop-shadow(0px 1px 2px rgba(0, 0, 0, 0.3));\n",
       "      fill: #FFFFFF;\n",
       "    }\n",
       "  </style>\n",
       "\n",
       "      <script>\n",
       "        const buttonEl =\n",
       "          document.querySelector('#df-9dbbe454-10ff-4fa4-9166-110585a0b54c button.colab-df-convert');\n",
       "        buttonEl.style.display =\n",
       "          google.colab.kernel.accessAllowed ? 'block' : 'none';\n",
       "\n",
       "        async function convertToInteractive(key) {\n",
       "          const element = document.querySelector('#df-9dbbe454-10ff-4fa4-9166-110585a0b54c');\n",
       "          const dataTable =\n",
       "            await google.colab.kernel.invokeFunction('convertToInteractive',\n",
       "                                                     [key], {});\n",
       "          if (!dataTable) return;\n",
       "\n",
       "          const docLinkHtml = 'Like what you see? Visit the ' +\n",
       "            '<a target=\"_blank\" href=https://colab.research.google.com/notebooks/data_table.ipynb>data table notebook</a>'\n",
       "            + ' to learn more about interactive tables.';\n",
       "          element.innerHTML = '';\n",
       "          dataTable['output_type'] = 'display_data';\n",
       "          await google.colab.output.renderOutput(dataTable, element);\n",
       "          const docLink = document.createElement('div');\n",
       "          docLink.innerHTML = docLinkHtml;\n",
       "          element.appendChild(docLink);\n",
       "        }\n",
       "      </script>\n",
       "    </div>\n",
       "  </div>\n",
       "  "
      ],
      "text/plain": [
       "   MPG.city  MPG.highway  EngineSize  Horsepower   RPM  Rev.per.mile  \\\n",
       "1        25           31         1.8         140  6300          2890   \n",
       "2        18           25         3.2         200  5500          2335   \n",
       "3        20           26         2.8         172  5500          2280   \n",
       "4        19           26         2.8         172  5500          2535   \n",
       "5        22           30         3.5         208  5700          2545   \n",
       "\n",
       "   Fuel.tank.capacity  Length  Wheelbase  Width  Turn.circle  Rear.seat.room  \\\n",
       "1                13.2     177        102     68           37            26.5   \n",
       "2                18.0     195        115     71           38            30.0   \n",
       "3                16.9     180        102     67           37            28.0   \n",
       "4                21.1     193        106     70           37            31.0   \n",
       "5                21.1     186        109     69           39            27.0   \n",
       "\n",
       "   Luggage.room  Weight  \n",
       "1          11.0    2705  \n",
       "2          15.0    3560  \n",
       "3          14.0    3375  \n",
       "4          17.0    3405  \n",
       "5          13.0    3640  "
      ]
     },
     "execution_count": 41,
     "metadata": {},
     "output_type": "execute_result"
    }
   ],
   "source": [
    "df_num = B.select_dtypes(include = [np.number])\n",
    "df_num.head()"
   ]
  },
  {
   "cell_type": "code",
   "execution_count": 42,
   "metadata": {
    "colab": {
     "base_uri": "https://localhost:8080/",
     "height": 337
    },
    "executionInfo": {
     "elapsed": 746,
     "status": "ok",
     "timestamp": 1677565305456,
     "user": {
      "displayName": "Mahesh Anand",
      "userId": "06788086636039591358"
     },
     "user_tz": -330
    },
    "id": "W0HmJ4jXJf5M",
    "outputId": "a1fd1989-4c84-4651-b6b2-ffce6665c686"
   },
   "outputs": [
    {
     "data": {
      "text/html": [
       "\n",
       "  <div id=\"df-cab1b041-358a-45a1-a3ea-10da49b80273\">\n",
       "    <div class=\"colab-df-container\">\n",
       "      <div>\n",
       "<style scoped>\n",
       "    .dataframe tbody tr th:only-of-type {\n",
       "        vertical-align: middle;\n",
       "    }\n",
       "\n",
       "    .dataframe tbody tr th {\n",
       "        vertical-align: top;\n",
       "    }\n",
       "\n",
       "    .dataframe thead th {\n",
       "        text-align: right;\n",
       "    }\n",
       "</style>\n",
       "<table border=\"1\" class=\"dataframe\">\n",
       "  <thead>\n",
       "    <tr style=\"text-align: right;\">\n",
       "      <th></th>\n",
       "      <th>Type</th>\n",
       "      <th>AirBags</th>\n",
       "      <th>DriveTrain</th>\n",
       "      <th>Cylinders</th>\n",
       "      <th>Man.trans.avail</th>\n",
       "      <th>Passengers</th>\n",
       "      <th>Origin</th>\n",
       "    </tr>\n",
       "  </thead>\n",
       "  <tbody>\n",
       "    <tr>\n",
       "      <th>1</th>\n",
       "      <td>Small</td>\n",
       "      <td>None</td>\n",
       "      <td>Front</td>\n",
       "      <td>4</td>\n",
       "      <td>Yes</td>\n",
       "      <td>5</td>\n",
       "      <td>non-USA</td>\n",
       "    </tr>\n",
       "    <tr>\n",
       "      <th>2</th>\n",
       "      <td>Midsize</td>\n",
       "      <td>Driver &amp; Passenger</td>\n",
       "      <td>Front</td>\n",
       "      <td>6</td>\n",
       "      <td>Yes</td>\n",
       "      <td>5</td>\n",
       "      <td>non-USA</td>\n",
       "    </tr>\n",
       "    <tr>\n",
       "      <th>3</th>\n",
       "      <td>Compact</td>\n",
       "      <td>Driver only</td>\n",
       "      <td>Front</td>\n",
       "      <td>6</td>\n",
       "      <td>Yes</td>\n",
       "      <td>5</td>\n",
       "      <td>non-USA</td>\n",
       "    </tr>\n",
       "    <tr>\n",
       "      <th>4</th>\n",
       "      <td>Midsize</td>\n",
       "      <td>Driver &amp; Passenger</td>\n",
       "      <td>Front</td>\n",
       "      <td>6</td>\n",
       "      <td>Yes</td>\n",
       "      <td>6</td>\n",
       "      <td>non-USA</td>\n",
       "    </tr>\n",
       "    <tr>\n",
       "      <th>5</th>\n",
       "      <td>Midsize</td>\n",
       "      <td>Driver only</td>\n",
       "      <td>Rear</td>\n",
       "      <td>4</td>\n",
       "      <td>Yes</td>\n",
       "      <td>4</td>\n",
       "      <td>non-USA</td>\n",
       "    </tr>\n",
       "  </tbody>\n",
       "</table>\n",
       "</div>\n",
       "      <button class=\"colab-df-convert\" onclick=\"convertToInteractive('df-cab1b041-358a-45a1-a3ea-10da49b80273')\"\n",
       "              title=\"Convert this dataframe to an interactive table.\"\n",
       "              style=\"display:none;\">\n",
       "        \n",
       "  <svg xmlns=\"http://www.w3.org/2000/svg\" height=\"24px\"viewBox=\"0 0 24 24\"\n",
       "       width=\"24px\">\n",
       "    <path d=\"M0 0h24v24H0V0z\" fill=\"none\"/>\n",
       "    <path d=\"M18.56 5.44l.94 2.06.94-2.06 2.06-.94-2.06-.94-.94-2.06-.94 2.06-2.06.94zm-11 1L8.5 8.5l.94-2.06 2.06-.94-2.06-.94L8.5 2.5l-.94 2.06-2.06.94zm10 10l.94 2.06.94-2.06 2.06-.94-2.06-.94-.94-2.06-.94 2.06-2.06.94z\"/><path d=\"M17.41 7.96l-1.37-1.37c-.4-.4-.92-.59-1.43-.59-.52 0-1.04.2-1.43.59L10.3 9.45l-7.72 7.72c-.78.78-.78 2.05 0 2.83L4 21.41c.39.39.9.59 1.41.59.51 0 1.02-.2 1.41-.59l7.78-7.78 2.81-2.81c.8-.78.8-2.07 0-2.86zM5.41 20L4 18.59l7.72-7.72 1.47 1.35L5.41 20z\"/>\n",
       "  </svg>\n",
       "      </button>\n",
       "      \n",
       "  <style>\n",
       "    .colab-df-container {\n",
       "      display:flex;\n",
       "      flex-wrap:wrap;\n",
       "      gap: 12px;\n",
       "    }\n",
       "\n",
       "    .colab-df-convert {\n",
       "      background-color: #E8F0FE;\n",
       "      border: none;\n",
       "      border-radius: 50%;\n",
       "      cursor: pointer;\n",
       "      display: none;\n",
       "      fill: #1967D2;\n",
       "      height: 32px;\n",
       "      padding: 0 0 0 0;\n",
       "      width: 32px;\n",
       "    }\n",
       "\n",
       "    .colab-df-convert:hover {\n",
       "      background-color: #E2EBFA;\n",
       "      box-shadow: 0px 1px 2px rgba(60, 64, 67, 0.3), 0px 1px 3px 1px rgba(60, 64, 67, 0.15);\n",
       "      fill: #174EA6;\n",
       "    }\n",
       "\n",
       "    [theme=dark] .colab-df-convert {\n",
       "      background-color: #3B4455;\n",
       "      fill: #D2E3FC;\n",
       "    }\n",
       "\n",
       "    [theme=dark] .colab-df-convert:hover {\n",
       "      background-color: #434B5C;\n",
       "      box-shadow: 0px 1px 3px 1px rgba(0, 0, 0, 0.15);\n",
       "      filter: drop-shadow(0px 1px 2px rgba(0, 0, 0, 0.3));\n",
       "      fill: #FFFFFF;\n",
       "    }\n",
       "  </style>\n",
       "\n",
       "      <script>\n",
       "        const buttonEl =\n",
       "          document.querySelector('#df-cab1b041-358a-45a1-a3ea-10da49b80273 button.colab-df-convert');\n",
       "        buttonEl.style.display =\n",
       "          google.colab.kernel.accessAllowed ? 'block' : 'none';\n",
       "\n",
       "        async function convertToInteractive(key) {\n",
       "          const element = document.querySelector('#df-cab1b041-358a-45a1-a3ea-10da49b80273');\n",
       "          const dataTable =\n",
       "            await google.colab.kernel.invokeFunction('convertToInteractive',\n",
       "                                                     [key], {});\n",
       "          if (!dataTable) return;\n",
       "\n",
       "          const docLinkHtml = 'Like what you see? Visit the ' +\n",
       "            '<a target=\"_blank\" href=https://colab.research.google.com/notebooks/data_table.ipynb>data table notebook</a>'\n",
       "            + ' to learn more about interactive tables.';\n",
       "          element.innerHTML = '';\n",
       "          dataTable['output_type'] = 'display_data';\n",
       "          await google.colab.output.renderOutput(dataTable, element);\n",
       "          const docLink = document.createElement('div');\n",
       "          docLink.innerHTML = docLinkHtml;\n",
       "          element.appendChild(docLink);\n",
       "        }\n",
       "      </script>\n",
       "    </div>\n",
       "  </div>\n",
       "  "
      ],
      "text/plain": [
       "      Type             AirBags DriveTrain Cylinders Man.trans.avail  \\\n",
       "1    Small                None      Front         4             Yes   \n",
       "2  Midsize  Driver & Passenger      Front         6             Yes   \n",
       "3  Compact         Driver only      Front         6             Yes   \n",
       "4  Midsize  Driver & Passenger      Front         6             Yes   \n",
       "5  Midsize         Driver only       Rear         4             Yes   \n",
       "\n",
       "  Passengers   Origin  \n",
       "1          5  non-USA  \n",
       "2          5  non-USA  \n",
       "3          5  non-USA  \n",
       "4          6  non-USA  \n",
       "5          4  non-USA  "
      ]
     },
     "execution_count": 42,
     "metadata": {},
     "output_type": "execute_result"
    }
   ],
   "source": [
    "df_cat = B.select_dtypes(include = [np.object])\n",
    "df_cat.head()"
   ]
  },
  {
   "cell_type": "code",
   "execution_count": null,
   "metadata": {
    "colab": {
     "base_uri": "https://localhost:8080/"
    },
    "executionInfo": {
     "elapsed": 920,
     "status": "ok",
     "timestamp": 1641635866025,
     "user": {
      "displayName": "Mahesh Anand",
      "photoUrl": "https://lh3.googleusercontent.com/a-/AOh14GjrgsRhu_m9R1mX1R2osLnbO2LcUFIvlC-8Zz6HBA=s64",
      "userId": "06788086636039591358"
     },
     "user_tz": -330
    },
    "id": "MVNprMHQHyDd",
    "outputId": "d71dd150-ffe6-430d-982a-aa945d9c103d"
   },
   "outputs": [
    {
     "data": {
      "text/plain": [
       "Midsize    22\n",
       "Small      21\n",
       "Compact    16\n",
       "Sporty     14\n",
       "Large      11\n",
       "Van         9\n",
       "Name: Type, dtype: int64"
      ]
     },
     "execution_count": 43,
     "metadata": {},
     "output_type": "execute_result"
    }
   ],
   "source": [
    "df_cat['Type'].value_counts()"
   ]
  },
  {
   "cell_type": "code",
   "execution_count": 43,
   "metadata": {
    "colab": {
     "base_uri": "https://localhost:8080/",
     "height": 316
    },
    "executionInfo": {
     "elapsed": 951,
     "status": "ok",
     "timestamp": 1677565312884,
     "user": {
      "displayName": "Mahesh Anand",
      "userId": "06788086636039591358"
     },
     "user_tz": -330
    },
    "id": "7QHrQEuhJ0ZM",
    "outputId": "95c383fb-27a1-428a-b560-59c72b94663d"
   },
   "outputs": [
    {
     "data": {
      "text/html": [
       "\n",
       "  <div id=\"df-536afe08-551c-4318-b3ff-d39c56617189\">\n",
       "    <div class=\"colab-df-container\">\n",
       "      <div>\n",
       "<style scoped>\n",
       "    .dataframe tbody tr th:only-of-type {\n",
       "        vertical-align: middle;\n",
       "    }\n",
       "\n",
       "    .dataframe tbody tr th {\n",
       "        vertical-align: top;\n",
       "    }\n",
       "\n",
       "    .dataframe thead th {\n",
       "        text-align: right;\n",
       "    }\n",
       "</style>\n",
       "<table border=\"1\" class=\"dataframe\">\n",
       "  <thead>\n",
       "    <tr style=\"text-align: right;\">\n",
       "      <th></th>\n",
       "      <th>Type_Large</th>\n",
       "      <th>Type_Midsize</th>\n",
       "      <th>Type_Small</th>\n",
       "      <th>Type_Sporty</th>\n",
       "      <th>Type_Van</th>\n",
       "      <th>AirBags_Driver only</th>\n",
       "      <th>AirBags_None</th>\n",
       "      <th>DriveTrain_Front</th>\n",
       "      <th>DriveTrain_Rear</th>\n",
       "      <th>Cylinders_4</th>\n",
       "      <th>...</th>\n",
       "      <th>Cylinders_6</th>\n",
       "      <th>Cylinders_8</th>\n",
       "      <th>Cylinders_rotary</th>\n",
       "      <th>Man.trans.avail_Yes</th>\n",
       "      <th>Passengers_4</th>\n",
       "      <th>Passengers_5</th>\n",
       "      <th>Passengers_6</th>\n",
       "      <th>Passengers_7</th>\n",
       "      <th>Passengers_8</th>\n",
       "      <th>Origin_non-USA</th>\n",
       "    </tr>\n",
       "  </thead>\n",
       "  <tbody>\n",
       "    <tr>\n",
       "      <th>1</th>\n",
       "      <td>0</td>\n",
       "      <td>0</td>\n",
       "      <td>1</td>\n",
       "      <td>0</td>\n",
       "      <td>0</td>\n",
       "      <td>0</td>\n",
       "      <td>1</td>\n",
       "      <td>1</td>\n",
       "      <td>0</td>\n",
       "      <td>1</td>\n",
       "      <td>...</td>\n",
       "      <td>0</td>\n",
       "      <td>0</td>\n",
       "      <td>0</td>\n",
       "      <td>1</td>\n",
       "      <td>0</td>\n",
       "      <td>1</td>\n",
       "      <td>0</td>\n",
       "      <td>0</td>\n",
       "      <td>0</td>\n",
       "      <td>1</td>\n",
       "    </tr>\n",
       "    <tr>\n",
       "      <th>2</th>\n",
       "      <td>0</td>\n",
       "      <td>1</td>\n",
       "      <td>0</td>\n",
       "      <td>0</td>\n",
       "      <td>0</td>\n",
       "      <td>0</td>\n",
       "      <td>0</td>\n",
       "      <td>1</td>\n",
       "      <td>0</td>\n",
       "      <td>0</td>\n",
       "      <td>...</td>\n",
       "      <td>1</td>\n",
       "      <td>0</td>\n",
       "      <td>0</td>\n",
       "      <td>1</td>\n",
       "      <td>0</td>\n",
       "      <td>1</td>\n",
       "      <td>0</td>\n",
       "      <td>0</td>\n",
       "      <td>0</td>\n",
       "      <td>1</td>\n",
       "    </tr>\n",
       "    <tr>\n",
       "      <th>3</th>\n",
       "      <td>0</td>\n",
       "      <td>0</td>\n",
       "      <td>0</td>\n",
       "      <td>0</td>\n",
       "      <td>0</td>\n",
       "      <td>1</td>\n",
       "      <td>0</td>\n",
       "      <td>1</td>\n",
       "      <td>0</td>\n",
       "      <td>0</td>\n",
       "      <td>...</td>\n",
       "      <td>1</td>\n",
       "      <td>0</td>\n",
       "      <td>0</td>\n",
       "      <td>1</td>\n",
       "      <td>0</td>\n",
       "      <td>1</td>\n",
       "      <td>0</td>\n",
       "      <td>0</td>\n",
       "      <td>0</td>\n",
       "      <td>1</td>\n",
       "    </tr>\n",
       "    <tr>\n",
       "      <th>4</th>\n",
       "      <td>0</td>\n",
       "      <td>1</td>\n",
       "      <td>0</td>\n",
       "      <td>0</td>\n",
       "      <td>0</td>\n",
       "      <td>0</td>\n",
       "      <td>0</td>\n",
       "      <td>1</td>\n",
       "      <td>0</td>\n",
       "      <td>0</td>\n",
       "      <td>...</td>\n",
       "      <td>1</td>\n",
       "      <td>0</td>\n",
       "      <td>0</td>\n",
       "      <td>1</td>\n",
       "      <td>0</td>\n",
       "      <td>0</td>\n",
       "      <td>1</td>\n",
       "      <td>0</td>\n",
       "      <td>0</td>\n",
       "      <td>1</td>\n",
       "    </tr>\n",
       "    <tr>\n",
       "      <th>5</th>\n",
       "      <td>0</td>\n",
       "      <td>1</td>\n",
       "      <td>0</td>\n",
       "      <td>0</td>\n",
       "      <td>0</td>\n",
       "      <td>1</td>\n",
       "      <td>0</td>\n",
       "      <td>0</td>\n",
       "      <td>1</td>\n",
       "      <td>1</td>\n",
       "      <td>...</td>\n",
       "      <td>0</td>\n",
       "      <td>0</td>\n",
       "      <td>0</td>\n",
       "      <td>1</td>\n",
       "      <td>1</td>\n",
       "      <td>0</td>\n",
       "      <td>0</td>\n",
       "      <td>0</td>\n",
       "      <td>0</td>\n",
       "      <td>1</td>\n",
       "    </tr>\n",
       "  </tbody>\n",
       "</table>\n",
       "<p>5 rows × 21 columns</p>\n",
       "</div>\n",
       "      <button class=\"colab-df-convert\" onclick=\"convertToInteractive('df-536afe08-551c-4318-b3ff-d39c56617189')\"\n",
       "              title=\"Convert this dataframe to an interactive table.\"\n",
       "              style=\"display:none;\">\n",
       "        \n",
       "  <svg xmlns=\"http://www.w3.org/2000/svg\" height=\"24px\"viewBox=\"0 0 24 24\"\n",
       "       width=\"24px\">\n",
       "    <path d=\"M0 0h24v24H0V0z\" fill=\"none\"/>\n",
       "    <path d=\"M18.56 5.44l.94 2.06.94-2.06 2.06-.94-2.06-.94-.94-2.06-.94 2.06-2.06.94zm-11 1L8.5 8.5l.94-2.06 2.06-.94-2.06-.94L8.5 2.5l-.94 2.06-2.06.94zm10 10l.94 2.06.94-2.06 2.06-.94-2.06-.94-.94-2.06-.94 2.06-2.06.94z\"/><path d=\"M17.41 7.96l-1.37-1.37c-.4-.4-.92-.59-1.43-.59-.52 0-1.04.2-1.43.59L10.3 9.45l-7.72 7.72c-.78.78-.78 2.05 0 2.83L4 21.41c.39.39.9.59 1.41.59.51 0 1.02-.2 1.41-.59l7.78-7.78 2.81-2.81c.8-.78.8-2.07 0-2.86zM5.41 20L4 18.59l7.72-7.72 1.47 1.35L5.41 20z\"/>\n",
       "  </svg>\n",
       "      </button>\n",
       "      \n",
       "  <style>\n",
       "    .colab-df-container {\n",
       "      display:flex;\n",
       "      flex-wrap:wrap;\n",
       "      gap: 12px;\n",
       "    }\n",
       "\n",
       "    .colab-df-convert {\n",
       "      background-color: #E8F0FE;\n",
       "      border: none;\n",
       "      border-radius: 50%;\n",
       "      cursor: pointer;\n",
       "      display: none;\n",
       "      fill: #1967D2;\n",
       "      height: 32px;\n",
       "      padding: 0 0 0 0;\n",
       "      width: 32px;\n",
       "    }\n",
       "\n",
       "    .colab-df-convert:hover {\n",
       "      background-color: #E2EBFA;\n",
       "      box-shadow: 0px 1px 2px rgba(60, 64, 67, 0.3), 0px 1px 3px 1px rgba(60, 64, 67, 0.15);\n",
       "      fill: #174EA6;\n",
       "    }\n",
       "\n",
       "    [theme=dark] .colab-df-convert {\n",
       "      background-color: #3B4455;\n",
       "      fill: #D2E3FC;\n",
       "    }\n",
       "\n",
       "    [theme=dark] .colab-df-convert:hover {\n",
       "      background-color: #434B5C;\n",
       "      box-shadow: 0px 1px 3px 1px rgba(0, 0, 0, 0.15);\n",
       "      filter: drop-shadow(0px 1px 2px rgba(0, 0, 0, 0.3));\n",
       "      fill: #FFFFFF;\n",
       "    }\n",
       "  </style>\n",
       "\n",
       "      <script>\n",
       "        const buttonEl =\n",
       "          document.querySelector('#df-536afe08-551c-4318-b3ff-d39c56617189 button.colab-df-convert');\n",
       "        buttonEl.style.display =\n",
       "          google.colab.kernel.accessAllowed ? 'block' : 'none';\n",
       "\n",
       "        async function convertToInteractive(key) {\n",
       "          const element = document.querySelector('#df-536afe08-551c-4318-b3ff-d39c56617189');\n",
       "          const dataTable =\n",
       "            await google.colab.kernel.invokeFunction('convertToInteractive',\n",
       "                                                     [key], {});\n",
       "          if (!dataTable) return;\n",
       "\n",
       "          const docLinkHtml = 'Like what you see? Visit the ' +\n",
       "            '<a target=\"_blank\" href=https://colab.research.google.com/notebooks/data_table.ipynb>data table notebook</a>'\n",
       "            + ' to learn more about interactive tables.';\n",
       "          element.innerHTML = '';\n",
       "          dataTable['output_type'] = 'display_data';\n",
       "          await google.colab.output.renderOutput(dataTable, element);\n",
       "          const docLink = document.createElement('div');\n",
       "          docLink.innerHTML = docLinkHtml;\n",
       "          element.appendChild(docLink);\n",
       "        }\n",
       "      </script>\n",
       "    </div>\n",
       "  </div>\n",
       "  "
      ],
      "text/plain": [
       "   Type_Large  Type_Midsize  Type_Small  Type_Sporty  Type_Van  \\\n",
       "1           0             0           1            0         0   \n",
       "2           0             1           0            0         0   \n",
       "3           0             0           0            0         0   \n",
       "4           0             1           0            0         0   \n",
       "5           0             1           0            0         0   \n",
       "\n",
       "   AirBags_Driver only  AirBags_None  DriveTrain_Front  DriveTrain_Rear  \\\n",
       "1                    0             1                 1                0   \n",
       "2                    0             0                 1                0   \n",
       "3                    1             0                 1                0   \n",
       "4                    0             0                 1                0   \n",
       "5                    1             0                 0                1   \n",
       "\n",
       "   Cylinders_4  ...  Cylinders_6  Cylinders_8  Cylinders_rotary  \\\n",
       "1            1  ...            0            0                 0   \n",
       "2            0  ...            1            0                 0   \n",
       "3            0  ...            1            0                 0   \n",
       "4            0  ...            1            0                 0   \n",
       "5            1  ...            0            0                 0   \n",
       "\n",
       "   Man.trans.avail_Yes  Passengers_4  Passengers_5  Passengers_6  \\\n",
       "1                    1             0             1             0   \n",
       "2                    1             0             1             0   \n",
       "3                    1             0             1             0   \n",
       "4                    1             0             0             1   \n",
       "5                    1             1             0             0   \n",
       "\n",
       "   Passengers_7  Passengers_8  Origin_non-USA  \n",
       "1             0             0               1  \n",
       "2             0             0               1  \n",
       "3             0             0               1  \n",
       "4             0             0               1  \n",
       "5             0             0               1  \n",
       "\n",
       "[5 rows x 21 columns]"
      ]
     },
     "execution_count": 43,
     "metadata": {},
     "output_type": "execute_result"
    }
   ],
   "source": [
    "dummy_var = pd.get_dummies(data = df_cat, drop_first = True)\n",
    "dummy_var.head()"
   ]
  },
  {
   "cell_type": "code",
   "execution_count": 44,
   "metadata": {
    "colab": {
     "base_uri": "https://localhost:8080/",
     "height": 316
    },
    "executionInfo": {
     "elapsed": 484,
     "status": "ok",
     "timestamp": 1677565317716,
     "user": {
      "displayName": "Mahesh Anand",
      "userId": "06788086636039591358"
     },
     "user_tz": -330
    },
    "id": "AWPHAzAIJtEc",
    "outputId": "ea84d4c9-4d90-4558-eab3-5c0a862f6bd4"
   },
   "outputs": [
    {
     "data": {
      "text/html": [
       "\n",
       "  <div id=\"df-d0cc62b6-3459-404c-bf87-f4501cd47e7f\">\n",
       "    <div class=\"colab-df-container\">\n",
       "      <div>\n",
       "<style scoped>\n",
       "    .dataframe tbody tr th:only-of-type {\n",
       "        vertical-align: middle;\n",
       "    }\n",
       "\n",
       "    .dataframe tbody tr th {\n",
       "        vertical-align: top;\n",
       "    }\n",
       "\n",
       "    .dataframe thead th {\n",
       "        text-align: right;\n",
       "    }\n",
       "</style>\n",
       "<table border=\"1\" class=\"dataframe\">\n",
       "  <thead>\n",
       "    <tr style=\"text-align: right;\">\n",
       "      <th></th>\n",
       "      <th>MPG.city</th>\n",
       "      <th>MPG.highway</th>\n",
       "      <th>EngineSize</th>\n",
       "      <th>Horsepower</th>\n",
       "      <th>RPM</th>\n",
       "      <th>Rev.per.mile</th>\n",
       "      <th>Fuel.tank.capacity</th>\n",
       "      <th>Length</th>\n",
       "      <th>Wheelbase</th>\n",
       "      <th>Width</th>\n",
       "      <th>...</th>\n",
       "      <th>Cylinders_6</th>\n",
       "      <th>Cylinders_8</th>\n",
       "      <th>Cylinders_rotary</th>\n",
       "      <th>Man.trans.avail_Yes</th>\n",
       "      <th>Passengers_4</th>\n",
       "      <th>Passengers_5</th>\n",
       "      <th>Passengers_6</th>\n",
       "      <th>Passengers_7</th>\n",
       "      <th>Passengers_8</th>\n",
       "      <th>Origin_non-USA</th>\n",
       "    </tr>\n",
       "  </thead>\n",
       "  <tbody>\n",
       "    <tr>\n",
       "      <th>1</th>\n",
       "      <td>25</td>\n",
       "      <td>31</td>\n",
       "      <td>1.8</td>\n",
       "      <td>140</td>\n",
       "      <td>6300</td>\n",
       "      <td>2890</td>\n",
       "      <td>13.2</td>\n",
       "      <td>177</td>\n",
       "      <td>102</td>\n",
       "      <td>68</td>\n",
       "      <td>...</td>\n",
       "      <td>0</td>\n",
       "      <td>0</td>\n",
       "      <td>0</td>\n",
       "      <td>1</td>\n",
       "      <td>0</td>\n",
       "      <td>1</td>\n",
       "      <td>0</td>\n",
       "      <td>0</td>\n",
       "      <td>0</td>\n",
       "      <td>1</td>\n",
       "    </tr>\n",
       "    <tr>\n",
       "      <th>2</th>\n",
       "      <td>18</td>\n",
       "      <td>25</td>\n",
       "      <td>3.2</td>\n",
       "      <td>200</td>\n",
       "      <td>5500</td>\n",
       "      <td>2335</td>\n",
       "      <td>18.0</td>\n",
       "      <td>195</td>\n",
       "      <td>115</td>\n",
       "      <td>71</td>\n",
       "      <td>...</td>\n",
       "      <td>1</td>\n",
       "      <td>0</td>\n",
       "      <td>0</td>\n",
       "      <td>1</td>\n",
       "      <td>0</td>\n",
       "      <td>1</td>\n",
       "      <td>0</td>\n",
       "      <td>0</td>\n",
       "      <td>0</td>\n",
       "      <td>1</td>\n",
       "    </tr>\n",
       "    <tr>\n",
       "      <th>3</th>\n",
       "      <td>20</td>\n",
       "      <td>26</td>\n",
       "      <td>2.8</td>\n",
       "      <td>172</td>\n",
       "      <td>5500</td>\n",
       "      <td>2280</td>\n",
       "      <td>16.9</td>\n",
       "      <td>180</td>\n",
       "      <td>102</td>\n",
       "      <td>67</td>\n",
       "      <td>...</td>\n",
       "      <td>1</td>\n",
       "      <td>0</td>\n",
       "      <td>0</td>\n",
       "      <td>1</td>\n",
       "      <td>0</td>\n",
       "      <td>1</td>\n",
       "      <td>0</td>\n",
       "      <td>0</td>\n",
       "      <td>0</td>\n",
       "      <td>1</td>\n",
       "    </tr>\n",
       "    <tr>\n",
       "      <th>4</th>\n",
       "      <td>19</td>\n",
       "      <td>26</td>\n",
       "      <td>2.8</td>\n",
       "      <td>172</td>\n",
       "      <td>5500</td>\n",
       "      <td>2535</td>\n",
       "      <td>21.1</td>\n",
       "      <td>193</td>\n",
       "      <td>106</td>\n",
       "      <td>70</td>\n",
       "      <td>...</td>\n",
       "      <td>1</td>\n",
       "      <td>0</td>\n",
       "      <td>0</td>\n",
       "      <td>1</td>\n",
       "      <td>0</td>\n",
       "      <td>0</td>\n",
       "      <td>1</td>\n",
       "      <td>0</td>\n",
       "      <td>0</td>\n",
       "      <td>1</td>\n",
       "    </tr>\n",
       "    <tr>\n",
       "      <th>5</th>\n",
       "      <td>22</td>\n",
       "      <td>30</td>\n",
       "      <td>3.5</td>\n",
       "      <td>208</td>\n",
       "      <td>5700</td>\n",
       "      <td>2545</td>\n",
       "      <td>21.1</td>\n",
       "      <td>186</td>\n",
       "      <td>109</td>\n",
       "      <td>69</td>\n",
       "      <td>...</td>\n",
       "      <td>0</td>\n",
       "      <td>0</td>\n",
       "      <td>0</td>\n",
       "      <td>1</td>\n",
       "      <td>1</td>\n",
       "      <td>0</td>\n",
       "      <td>0</td>\n",
       "      <td>0</td>\n",
       "      <td>0</td>\n",
       "      <td>1</td>\n",
       "    </tr>\n",
       "  </tbody>\n",
       "</table>\n",
       "<p>5 rows × 35 columns</p>\n",
       "</div>\n",
       "      <button class=\"colab-df-convert\" onclick=\"convertToInteractive('df-d0cc62b6-3459-404c-bf87-f4501cd47e7f')\"\n",
       "              title=\"Convert this dataframe to an interactive table.\"\n",
       "              style=\"display:none;\">\n",
       "        \n",
       "  <svg xmlns=\"http://www.w3.org/2000/svg\" height=\"24px\"viewBox=\"0 0 24 24\"\n",
       "       width=\"24px\">\n",
       "    <path d=\"M0 0h24v24H0V0z\" fill=\"none\"/>\n",
       "    <path d=\"M18.56 5.44l.94 2.06.94-2.06 2.06-.94-2.06-.94-.94-2.06-.94 2.06-2.06.94zm-11 1L8.5 8.5l.94-2.06 2.06-.94-2.06-.94L8.5 2.5l-.94 2.06-2.06.94zm10 10l.94 2.06.94-2.06 2.06-.94-2.06-.94-.94-2.06-.94 2.06-2.06.94z\"/><path d=\"M17.41 7.96l-1.37-1.37c-.4-.4-.92-.59-1.43-.59-.52 0-1.04.2-1.43.59L10.3 9.45l-7.72 7.72c-.78.78-.78 2.05 0 2.83L4 21.41c.39.39.9.59 1.41.59.51 0 1.02-.2 1.41-.59l7.78-7.78 2.81-2.81c.8-.78.8-2.07 0-2.86zM5.41 20L4 18.59l7.72-7.72 1.47 1.35L5.41 20z\"/>\n",
       "  </svg>\n",
       "      </button>\n",
       "      \n",
       "  <style>\n",
       "    .colab-df-container {\n",
       "      display:flex;\n",
       "      flex-wrap:wrap;\n",
       "      gap: 12px;\n",
       "    }\n",
       "\n",
       "    .colab-df-convert {\n",
       "      background-color: #E8F0FE;\n",
       "      border: none;\n",
       "      border-radius: 50%;\n",
       "      cursor: pointer;\n",
       "      display: none;\n",
       "      fill: #1967D2;\n",
       "      height: 32px;\n",
       "      padding: 0 0 0 0;\n",
       "      width: 32px;\n",
       "    }\n",
       "\n",
       "    .colab-df-convert:hover {\n",
       "      background-color: #E2EBFA;\n",
       "      box-shadow: 0px 1px 2px rgba(60, 64, 67, 0.3), 0px 1px 3px 1px rgba(60, 64, 67, 0.15);\n",
       "      fill: #174EA6;\n",
       "    }\n",
       "\n",
       "    [theme=dark] .colab-df-convert {\n",
       "      background-color: #3B4455;\n",
       "      fill: #D2E3FC;\n",
       "    }\n",
       "\n",
       "    [theme=dark] .colab-df-convert:hover {\n",
       "      background-color: #434B5C;\n",
       "      box-shadow: 0px 1px 3px 1px rgba(0, 0, 0, 0.15);\n",
       "      filter: drop-shadow(0px 1px 2px rgba(0, 0, 0, 0.3));\n",
       "      fill: #FFFFFF;\n",
       "    }\n",
       "  </style>\n",
       "\n",
       "      <script>\n",
       "        const buttonEl =\n",
       "          document.querySelector('#df-d0cc62b6-3459-404c-bf87-f4501cd47e7f button.colab-df-convert');\n",
       "        buttonEl.style.display =\n",
       "          google.colab.kernel.accessAllowed ? 'block' : 'none';\n",
       "\n",
       "        async function convertToInteractive(key) {\n",
       "          const element = document.querySelector('#df-d0cc62b6-3459-404c-bf87-f4501cd47e7f');\n",
       "          const dataTable =\n",
       "            await google.colab.kernel.invokeFunction('convertToInteractive',\n",
       "                                                     [key], {});\n",
       "          if (!dataTable) return;\n",
       "\n",
       "          const docLinkHtml = 'Like what you see? Visit the ' +\n",
       "            '<a target=\"_blank\" href=https://colab.research.google.com/notebooks/data_table.ipynb>data table notebook</a>'\n",
       "            + ' to learn more about interactive tables.';\n",
       "          element.innerHTML = '';\n",
       "          dataTable['output_type'] = 'display_data';\n",
       "          await google.colab.output.renderOutput(dataTable, element);\n",
       "          const docLink = document.createElement('div');\n",
       "          docLink.innerHTML = docLinkHtml;\n",
       "          element.appendChild(docLink);\n",
       "        }\n",
       "      </script>\n",
       "    </div>\n",
       "  </div>\n",
       "  "
      ],
      "text/plain": [
       "   MPG.city  MPG.highway  EngineSize  Horsepower   RPM  Rev.per.mile  \\\n",
       "1        25           31         1.8         140  6300          2890   \n",
       "2        18           25         3.2         200  5500          2335   \n",
       "3        20           26         2.8         172  5500          2280   \n",
       "4        19           26         2.8         172  5500          2535   \n",
       "5        22           30         3.5         208  5700          2545   \n",
       "\n",
       "   Fuel.tank.capacity  Length  Wheelbase  Width  ...  Cylinders_6  \\\n",
       "1                13.2     177        102     68  ...            0   \n",
       "2                18.0     195        115     71  ...            1   \n",
       "3                16.9     180        102     67  ...            1   \n",
       "4                21.1     193        106     70  ...            1   \n",
       "5                21.1     186        109     69  ...            0   \n",
       "\n",
       "   Cylinders_8  Cylinders_rotary  Man.trans.avail_Yes  Passengers_4  \\\n",
       "1            0                 0                    1             0   \n",
       "2            0                 0                    1             0   \n",
       "3            0                 0                    1             0   \n",
       "4            0                 0                    1             0   \n",
       "5            0                 0                    1             1   \n",
       "\n",
       "   Passengers_5  Passengers_6  Passengers_7  Passengers_8  Origin_non-USA  \n",
       "1             1             0             0             0               1  \n",
       "2             1             0             0             0               1  \n",
       "3             1             0             0             0               1  \n",
       "4             0             1             0             0               1  \n",
       "5             0             0             0             0               1  \n",
       "\n",
       "[5 rows x 35 columns]"
      ]
     },
     "execution_count": 44,
     "metadata": {},
     "output_type": "execute_result"
    }
   ],
   "source": [
    "X = pd.concat([df_num, dummy_var], axis = 1)\n",
    "X.head()"
   ]
  },
  {
   "cell_type": "code",
   "execution_count": 45,
   "metadata": {
    "executionInfo": {
     "elapsed": 3,
     "status": "ok",
     "timestamp": 1677565331485,
     "user": {
      "displayName": "Mahesh Anand",
      "userId": "06788086636039591358"
     },
     "user_tz": -330
    },
    "id": "HBfSKCPIBn8J"
   },
   "outputs": [],
   "source": [
    "Y=A_update['Price']"
   ]
  },
  {
   "cell_type": "code",
   "execution_count": 46,
   "metadata": {
    "colab": {
     "base_uri": "https://localhost:8080/"
    },
    "executionInfo": {
     "elapsed": 2,
     "status": "ok",
     "timestamp": 1677565333920,
     "user": {
      "displayName": "Mahesh Anand",
      "userId": "06788086636039591358"
     },
     "user_tz": -330
    },
    "id": "nBBlwfoVQld8",
    "outputId": "719eee99-37b8-4f9f-ef80-cccd0387ea3a"
   },
   "outputs": [
    {
     "data": {
      "text/plain": [
       "((90, 35), (90,))"
      ]
     },
     "execution_count": 46,
     "metadata": {},
     "output_type": "execute_result"
    }
   ],
   "source": [
    "X.shape,Y.shape"
   ]
  },
  {
   "cell_type": "code",
   "execution_count": 22,
   "metadata": {
    "executionInfo": {
     "elapsed": 777,
     "status": "ok",
     "timestamp": 1677563500099,
     "user": {
      "displayName": "Mahesh Anand",
      "userId": "06788086636039591358"
     },
     "user_tz": -330
    },
    "id": "-6hvwLIcLpwj"
   },
   "outputs": [],
   "source": [
    "import statsmodels.api as sm\n",
    "from statsmodels.api import add_constant"
   ]
  },
  {
   "cell_type": "code",
   "execution_count": null,
   "metadata": {
    "id": "K8-ecCkwNnaF"
   },
   "outputs": [],
   "source": [
    "Xc=sm.add_constant(X)"
   ]
  },
  {
   "cell_type": "code",
   "execution_count": null,
   "metadata": {
    "colab": {
     "base_uri": "https://localhost:8080/",
     "height": 288
    },
    "executionInfo": {
     "elapsed": 5,
     "status": "ok",
     "timestamp": 1671525428942,
     "user": {
      "displayName": "Mahesh Anand",
      "userId": "06788086636039591358"
     },
     "user_tz": -330
    },
    "id": "R4Vi9neQuLvO",
    "outputId": "48bb0cc1-ef88-43dc-b84e-0531a2d3e1cd"
   },
   "outputs": [
    {
     "data": {
      "text/html": [
       "\n",
       "  <div id=\"df-fa2929a1-6429-4a00-a3cd-547bd94f4c08\">\n",
       "    <div class=\"colab-df-container\">\n",
       "      <div>\n",
       "<style scoped>\n",
       "    .dataframe tbody tr th:only-of-type {\n",
       "        vertical-align: middle;\n",
       "    }\n",
       "\n",
       "    .dataframe tbody tr th {\n",
       "        vertical-align: top;\n",
       "    }\n",
       "\n",
       "    .dataframe thead th {\n",
       "        text-align: right;\n",
       "    }\n",
       "</style>\n",
       "<table border=\"1\" class=\"dataframe\">\n",
       "  <thead>\n",
       "    <tr style=\"text-align: right;\">\n",
       "      <th></th>\n",
       "      <th>const</th>\n",
       "      <th>Horsepower</th>\n",
       "      <th>Width</th>\n",
       "      <th>Rear.seat.room</th>\n",
       "      <th>Type_Midsize</th>\n",
       "      <th>AirBags_Driver only</th>\n",
       "      <th>AirBags_None</th>\n",
       "      <th>DriveTrain_Rear</th>\n",
       "      <th>Passengers_4</th>\n",
       "      <th>Passengers_5</th>\n",
       "      <th>Passengers_6</th>\n",
       "    </tr>\n",
       "  </thead>\n",
       "  <tbody>\n",
       "    <tr>\n",
       "      <th>1</th>\n",
       "      <td>1.0</td>\n",
       "      <td>140</td>\n",
       "      <td>68</td>\n",
       "      <td>26.5</td>\n",
       "      <td>0</td>\n",
       "      <td>0</td>\n",
       "      <td>1</td>\n",
       "      <td>0</td>\n",
       "      <td>0</td>\n",
       "      <td>1</td>\n",
       "      <td>0</td>\n",
       "    </tr>\n",
       "    <tr>\n",
       "      <th>2</th>\n",
       "      <td>1.0</td>\n",
       "      <td>200</td>\n",
       "      <td>71</td>\n",
       "      <td>30.0</td>\n",
       "      <td>1</td>\n",
       "      <td>0</td>\n",
       "      <td>0</td>\n",
       "      <td>0</td>\n",
       "      <td>0</td>\n",
       "      <td>1</td>\n",
       "      <td>0</td>\n",
       "    </tr>\n",
       "    <tr>\n",
       "      <th>3</th>\n",
       "      <td>1.0</td>\n",
       "      <td>172</td>\n",
       "      <td>67</td>\n",
       "      <td>28.0</td>\n",
       "      <td>0</td>\n",
       "      <td>1</td>\n",
       "      <td>0</td>\n",
       "      <td>0</td>\n",
       "      <td>0</td>\n",
       "      <td>1</td>\n",
       "      <td>0</td>\n",
       "    </tr>\n",
       "    <tr>\n",
       "      <th>4</th>\n",
       "      <td>1.0</td>\n",
       "      <td>172</td>\n",
       "      <td>70</td>\n",
       "      <td>31.0</td>\n",
       "      <td>1</td>\n",
       "      <td>0</td>\n",
       "      <td>0</td>\n",
       "      <td>0</td>\n",
       "      <td>0</td>\n",
       "      <td>0</td>\n",
       "      <td>1</td>\n",
       "    </tr>\n",
       "    <tr>\n",
       "      <th>5</th>\n",
       "      <td>1.0</td>\n",
       "      <td>208</td>\n",
       "      <td>69</td>\n",
       "      <td>27.0</td>\n",
       "      <td>1</td>\n",
       "      <td>1</td>\n",
       "      <td>0</td>\n",
       "      <td>1</td>\n",
       "      <td>1</td>\n",
       "      <td>0</td>\n",
       "      <td>0</td>\n",
       "    </tr>\n",
       "  </tbody>\n",
       "</table>\n",
       "</div>\n",
       "      <button class=\"colab-df-convert\" onclick=\"convertToInteractive('df-fa2929a1-6429-4a00-a3cd-547bd94f4c08')\"\n",
       "              title=\"Convert this dataframe to an interactive table.\"\n",
       "              style=\"display:none;\">\n",
       "        \n",
       "  <svg xmlns=\"http://www.w3.org/2000/svg\" height=\"24px\"viewBox=\"0 0 24 24\"\n",
       "       width=\"24px\">\n",
       "    <path d=\"M0 0h24v24H0V0z\" fill=\"none\"/>\n",
       "    <path d=\"M18.56 5.44l.94 2.06.94-2.06 2.06-.94-2.06-.94-.94-2.06-.94 2.06-2.06.94zm-11 1L8.5 8.5l.94-2.06 2.06-.94-2.06-.94L8.5 2.5l-.94 2.06-2.06.94zm10 10l.94 2.06.94-2.06 2.06-.94-2.06-.94-.94-2.06-.94 2.06-2.06.94z\"/><path d=\"M17.41 7.96l-1.37-1.37c-.4-.4-.92-.59-1.43-.59-.52 0-1.04.2-1.43.59L10.3 9.45l-7.72 7.72c-.78.78-.78 2.05 0 2.83L4 21.41c.39.39.9.59 1.41.59.51 0 1.02-.2 1.41-.59l7.78-7.78 2.81-2.81c.8-.78.8-2.07 0-2.86zM5.41 20L4 18.59l7.72-7.72 1.47 1.35L5.41 20z\"/>\n",
       "  </svg>\n",
       "      </button>\n",
       "      \n",
       "  <style>\n",
       "    .colab-df-container {\n",
       "      display:flex;\n",
       "      flex-wrap:wrap;\n",
       "      gap: 12px;\n",
       "    }\n",
       "\n",
       "    .colab-df-convert {\n",
       "      background-color: #E8F0FE;\n",
       "      border: none;\n",
       "      border-radius: 50%;\n",
       "      cursor: pointer;\n",
       "      display: none;\n",
       "      fill: #1967D2;\n",
       "      height: 32px;\n",
       "      padding: 0 0 0 0;\n",
       "      width: 32px;\n",
       "    }\n",
       "\n",
       "    .colab-df-convert:hover {\n",
       "      background-color: #E2EBFA;\n",
       "      box-shadow: 0px 1px 2px rgba(60, 64, 67, 0.3), 0px 1px 3px 1px rgba(60, 64, 67, 0.15);\n",
       "      fill: #174EA6;\n",
       "    }\n",
       "\n",
       "    [theme=dark] .colab-df-convert {\n",
       "      background-color: #3B4455;\n",
       "      fill: #D2E3FC;\n",
       "    }\n",
       "\n",
       "    [theme=dark] .colab-df-convert:hover {\n",
       "      background-color: #434B5C;\n",
       "      box-shadow: 0px 1px 3px 1px rgba(0, 0, 0, 0.15);\n",
       "      filter: drop-shadow(0px 1px 2px rgba(0, 0, 0, 0.3));\n",
       "      fill: #FFFFFF;\n",
       "    }\n",
       "  </style>\n",
       "\n",
       "      <script>\n",
       "        const buttonEl =\n",
       "          document.querySelector('#df-fa2929a1-6429-4a00-a3cd-547bd94f4c08 button.colab-df-convert');\n",
       "        buttonEl.style.display =\n",
       "          google.colab.kernel.accessAllowed ? 'block' : 'none';\n",
       "\n",
       "        async function convertToInteractive(key) {\n",
       "          const element = document.querySelector('#df-fa2929a1-6429-4a00-a3cd-547bd94f4c08');\n",
       "          const dataTable =\n",
       "            await google.colab.kernel.invokeFunction('convertToInteractive',\n",
       "                                                     [key], {});\n",
       "          if (!dataTable) return;\n",
       "\n",
       "          const docLinkHtml = 'Like what you see? Visit the ' +\n",
       "            '<a target=\"_blank\" href=https://colab.research.google.com/notebooks/data_table.ipynb>data table notebook</a>'\n",
       "            + ' to learn more about interactive tables.';\n",
       "          element.innerHTML = '';\n",
       "          dataTable['output_type'] = 'display_data';\n",
       "          await google.colab.output.renderOutput(dataTable, element);\n",
       "          const docLink = document.createElement('div');\n",
       "          docLink.innerHTML = docLinkHtml;\n",
       "          element.appendChild(docLink);\n",
       "        }\n",
       "      </script>\n",
       "    </div>\n",
       "  </div>\n",
       "  "
      ],
      "text/plain": [
       "   const  Horsepower  Width  Rear.seat.room  Type_Midsize  \\\n",
       "1    1.0         140     68            26.5             0   \n",
       "2    1.0         200     71            30.0             1   \n",
       "3    1.0         172     67            28.0             0   \n",
       "4    1.0         172     70            31.0             1   \n",
       "5    1.0         208     69            27.0             1   \n",
       "\n",
       "   AirBags_Driver only  AirBags_None  DriveTrain_Rear  Passengers_4  \\\n",
       "1                    0             1                0             0   \n",
       "2                    0             0                0             0   \n",
       "3                    1             0                0             0   \n",
       "4                    0             0                0             0   \n",
       "5                    1             0                1             1   \n",
       "\n",
       "   Passengers_5  Passengers_6  \n",
       "1             1             0  \n",
       "2             1             0  \n",
       "3             1             0  \n",
       "4             0             1  \n",
       "5             0             0  "
      ]
     },
     "execution_count": 60,
     "metadata": {},
     "output_type": "execute_result"
    }
   ],
   "source": [
    "Xc.head()"
   ]
  },
  {
   "cell_type": "code",
   "execution_count": null,
   "metadata": {
    "colab": {
     "base_uri": "https://localhost:8080/",
     "height": 670
    },
    "executionInfo": {
     "elapsed": 614,
     "status": "ok",
     "timestamp": 1671525438502,
     "user": {
      "displayName": "Mahesh Anand",
      "userId": "06788086636039591358"
     },
     "user_tz": -330
    },
    "id": "obm7vyysk5re",
    "outputId": "9fb088c3-a715-40d0-c1a8-d4afba7d6256"
   },
   "outputs": [
    {
     "data": {
      "text/html": [
       "<table class=\"simpletable\">\n",
       "<caption>OLS Regression Results</caption>\n",
       "<tr>\n",
       "  <th>Dep. Variable:</th>          <td>Price</td>      <th>  R-squared:         </th> <td>   0.795</td>\n",
       "</tr>\n",
       "<tr>\n",
       "  <th>Model:</th>                   <td>OLS</td>       <th>  Adj. R-squared:    </th> <td>   0.770</td>\n",
       "</tr>\n",
       "<tr>\n",
       "  <th>Method:</th>             <td>Least Squares</td>  <th>  F-statistic:       </th> <td>   31.81</td>\n",
       "</tr>\n",
       "<tr>\n",
       "  <th>Date:</th>             <td>Tue, 20 Dec 2022</td> <th>  Prob (F-statistic):</th> <td>3.65e-24</td>\n",
       "</tr>\n",
       "<tr>\n",
       "  <th>Time:</th>                 <td>08:37:18</td>     <th>  Log-Likelihood:    </th> <td> -268.67</td>\n",
       "</tr>\n",
       "<tr>\n",
       "  <th>No. Observations:</th>      <td>    93</td>      <th>  AIC:               </th> <td>   559.3</td>\n",
       "</tr>\n",
       "<tr>\n",
       "  <th>Df Residuals:</th>          <td>    82</td>      <th>  BIC:               </th> <td>   587.2</td>\n",
       "</tr>\n",
       "<tr>\n",
       "  <th>Df Model:</th>              <td>    10</td>      <th>                     </th>     <td> </td>   \n",
       "</tr>\n",
       "<tr>\n",
       "  <th>Covariance Type:</th>      <td>nonrobust</td>    <th>                     </th>     <td> </td>   \n",
       "</tr>\n",
       "</table>\n",
       "<table class=\"simpletable\">\n",
       "<tr>\n",
       "           <td></td>              <th>coef</th>     <th>std err</th>      <th>t</th>      <th>P>|t|</th>  <th>[0.025</th>    <th>0.975]</th>  \n",
       "</tr>\n",
       "<tr>\n",
       "  <th>const</th>               <td>   78.2950</td> <td>   15.805</td> <td>    4.954</td> <td> 0.000</td> <td>   46.853</td> <td>  109.737</td>\n",
       "</tr>\n",
       "<tr>\n",
       "  <th>Horsepower</th>          <td>    0.1377</td> <td>    0.015</td> <td>    9.265</td> <td> 0.000</td> <td>    0.108</td> <td>    0.167</td>\n",
       "</tr>\n",
       "<tr>\n",
       "  <th>Width</th>               <td>   -1.1899</td> <td>    0.242</td> <td>   -4.923</td> <td> 0.000</td> <td>   -1.671</td> <td>   -0.709</td>\n",
       "</tr>\n",
       "<tr>\n",
       "  <th>Rear.seat.room</th>      <td>    0.4295</td> <td>    0.128</td> <td>    3.357</td> <td> 0.001</td> <td>    0.175</td> <td>    0.684</td>\n",
       "</tr>\n",
       "<tr>\n",
       "  <th>Type_Midsize</th>        <td>    4.6011</td> <td>    1.310</td> <td>    3.512</td> <td> 0.001</td> <td>    1.995</td> <td>    7.207</td>\n",
       "</tr>\n",
       "<tr>\n",
       "  <th>AirBags_Driver only</th> <td>   -3.2609</td> <td>    1.513</td> <td>   -2.156</td> <td> 0.034</td> <td>   -6.270</td> <td>   -0.252</td>\n",
       "</tr>\n",
       "<tr>\n",
       "  <th>AirBags_None</th>        <td>   -7.0083</td> <td>    1.799</td> <td>   -3.896</td> <td> 0.000</td> <td>  -10.587</td> <td>   -3.430</td>\n",
       "</tr>\n",
       "<tr>\n",
       "  <th>DriveTrain_Rear</th>     <td>    7.1551</td> <td>    1.555</td> <td>    4.601</td> <td> 0.000</td> <td>    4.062</td> <td>   10.249</td>\n",
       "</tr>\n",
       "<tr>\n",
       "  <th>Passengers_4</th>        <td>   -8.5058</td> <td>    2.175</td> <td>   -3.910</td> <td> 0.000</td> <td>  -12.833</td> <td>   -4.179</td>\n",
       "</tr>\n",
       "<tr>\n",
       "  <th>Passengers_5</th>        <td>   -6.8452</td> <td>    2.036</td> <td>   -3.363</td> <td> 0.001</td> <td>  -10.895</td> <td>   -2.796</td>\n",
       "</tr>\n",
       "<tr>\n",
       "  <th>Passengers_6</th>        <td>   -4.4477</td> <td>    2.101</td> <td>   -2.117</td> <td> 0.037</td> <td>   -8.628</td> <td>   -0.268</td>\n",
       "</tr>\n",
       "</table>\n",
       "<table class=\"simpletable\">\n",
       "<tr>\n",
       "  <th>Omnibus:</th>       <td>24.122</td> <th>  Durbin-Watson:     </th> <td>   1.727</td>\n",
       "</tr>\n",
       "<tr>\n",
       "  <th>Prob(Omnibus):</th> <td> 0.000</td> <th>  Jarque-Bera (JB):  </th> <td>  47.755</td>\n",
       "</tr>\n",
       "<tr>\n",
       "  <th>Skew:</th>          <td> 0.980</td> <th>  Prob(JB):          </th> <td>4.27e-11</td>\n",
       "</tr>\n",
       "<tr>\n",
       "  <th>Kurtosis:</th>      <td> 5.912</td> <th>  Cond. No.          </th> <td>5.60e+03</td>\n",
       "</tr>\n",
       "</table><br/><br/>Notes:<br/>[1] Standard Errors assume that the covariance matrix of the errors is correctly specified.<br/>[2] The condition number is large, 5.6e+03. This might indicate that there are<br/>strong multicollinearity or other numerical problems."
      ],
      "text/plain": [
       "<class 'statsmodels.iolib.summary.Summary'>\n",
       "\"\"\"\n",
       "                            OLS Regression Results                            \n",
       "==============================================================================\n",
       "Dep. Variable:                  Price   R-squared:                       0.795\n",
       "Model:                            OLS   Adj. R-squared:                  0.770\n",
       "Method:                 Least Squares   F-statistic:                     31.81\n",
       "Date:                Tue, 20 Dec 2022   Prob (F-statistic):           3.65e-24\n",
       "Time:                        08:37:18   Log-Likelihood:                -268.67\n",
       "No. Observations:                  93   AIC:                             559.3\n",
       "Df Residuals:                      82   BIC:                             587.2\n",
       "Df Model:                          10                                         \n",
       "Covariance Type:            nonrobust                                         \n",
       "=======================================================================================\n",
       "                          coef    std err          t      P>|t|      [0.025      0.975]\n",
       "---------------------------------------------------------------------------------------\n",
       "const                  78.2950     15.805      4.954      0.000      46.853     109.737\n",
       "Horsepower              0.1377      0.015      9.265      0.000       0.108       0.167\n",
       "Width                  -1.1899      0.242     -4.923      0.000      -1.671      -0.709\n",
       "Rear.seat.room          0.4295      0.128      3.357      0.001       0.175       0.684\n",
       "Type_Midsize            4.6011      1.310      3.512      0.001       1.995       7.207\n",
       "AirBags_Driver only    -3.2609      1.513     -2.156      0.034      -6.270      -0.252\n",
       "AirBags_None           -7.0083      1.799     -3.896      0.000     -10.587      -3.430\n",
       "DriveTrain_Rear         7.1551      1.555      4.601      0.000       4.062      10.249\n",
       "Passengers_4           -8.5058      2.175     -3.910      0.000     -12.833      -4.179\n",
       "Passengers_5           -6.8452      2.036     -3.363      0.001     -10.895      -2.796\n",
       "Passengers_6           -4.4477      2.101     -2.117      0.037      -8.628      -0.268\n",
       "==============================================================================\n",
       "Omnibus:                       24.122   Durbin-Watson:                   1.727\n",
       "Prob(Omnibus):                  0.000   Jarque-Bera (JB):               47.755\n",
       "Skew:                           0.980   Prob(JB):                     4.27e-11\n",
       "Kurtosis:                       5.912   Cond. No.                     5.60e+03\n",
       "==============================================================================\n",
       "\n",
       "Notes:\n",
       "[1] Standard Errors assume that the covariance matrix of the errors is correctly specified.\n",
       "[2] The condition number is large, 5.6e+03. This might indicate that there are\n",
       "strong multicollinearity or other numerical problems.\n",
       "\"\"\""
      ]
     },
     "execution_count": 61,
     "metadata": {},
     "output_type": "execute_result"
    }
   ],
   "source": [
    "model = sm.OLS(Y,Xc).fit()\n",
    "model.summary()"
   ]
  },
  {
   "cell_type": "code",
   "execution_count": 23,
   "metadata": {
    "executionInfo": {
     "elapsed": 442,
     "status": "ok",
     "timestamp": 1677563507182,
     "user": {
      "displayName": "Mahesh Anand",
      "userId": "06788086636039591358"
     },
     "user_tz": -330
    },
    "id": "_tRyYx3w9wfl"
   },
   "outputs": [],
   "source": [
    "from sklearn.model_selection import cross_val_score,KFold"
   ]
  },
  {
   "cell_type": "code",
   "execution_count": 24,
   "metadata": {
    "colab": {
     "base_uri": "https://localhost:8080/"
    },
    "executionInfo": {
     "elapsed": 414,
     "status": "ok",
     "timestamp": 1677563509821,
     "user": {
      "displayName": "Mahesh Anand",
      "userId": "06788086636039591358"
     },
     "user_tz": -330
    },
    "id": "zXl4lZrDK5-o",
    "outputId": "bedbfff4-bb5e-4b15-da77-dd46835ca7eb"
   },
   "outputs": [
    {
     "data": {
      "text/plain": [
       "['MPG.city',\n",
       " 'MPG.highway',\n",
       " 'EngineSize',\n",
       " 'Horsepower',\n",
       " 'RPM',\n",
       " 'Rev.per.mile',\n",
       " 'Fuel.tank.capacity',\n",
       " 'Length',\n",
       " 'Wheelbase',\n",
       " 'Width',\n",
       " 'Turn.circle',\n",
       " 'Rear.seat.room',\n",
       " 'Luggage.room',\n",
       " 'Weight',\n",
       " 'Type_Large',\n",
       " 'Type_Midsize',\n",
       " 'Type_Small',\n",
       " 'Type_Sporty',\n",
       " 'Type_Van',\n",
       " 'AirBags_Driver only',\n",
       " 'AirBags_None',\n",
       " 'DriveTrain_Front',\n",
       " 'DriveTrain_Rear',\n",
       " 'Cylinders_4',\n",
       " 'Cylinders_5',\n",
       " 'Cylinders_6',\n",
       " 'Cylinders_8',\n",
       " 'Cylinders_rotary',\n",
       " 'Man.trans.avail_Yes',\n",
       " 'Passengers_4',\n",
       " 'Passengers_5',\n",
       " 'Passengers_6',\n",
       " 'Passengers_7',\n",
       " 'Passengers_8',\n",
       " 'Origin_non-USA']"
      ]
     },
     "execution_count": 24,
     "metadata": {},
     "output_type": "execute_result"
    }
   ],
   "source": [
    "cols = list(X.columns)\n",
    "cols"
   ]
  },
  {
   "cell_type": "code",
   "execution_count": null,
   "metadata": {
    "colab": {
     "base_uri": "https://localhost:8080/"
    },
    "executionInfo": {
     "elapsed": 415,
     "status": "ok",
     "timestamp": 1671522085998,
     "user": {
      "displayName": "Mahesh Anand",
      "userId": "06788086636039591358"
     },
     "user_tz": -330
    },
    "id": "o3h2y6xYOimm",
    "outputId": "557ac464-9456-4294-a5fd-1c2db9e72b6b"
   },
   "outputs": [
    {
     "data": {
      "text/plain": [
       "MPG.city               0.456208\n",
       "MPG.highway            0.672406\n",
       "EngineSize             0.555333\n",
       "Horsepower             0.003090\n",
       "RPM                    0.247042\n",
       "Rev.per.mile           0.443602\n",
       "Fuel.tank.capacity     0.390792\n",
       "Length                 0.659612\n",
       "Wheelbase              0.164665\n",
       "Width                  0.000872\n",
       "Turn.circle            0.093906\n",
       "Rear.seat.room         0.355425\n",
       "Luggage.room           0.422625\n",
       "Weight                 0.813446\n",
       "Type_Large             0.717532\n",
       "Type_Midsize           0.114914\n",
       "Type_Small             0.655873\n",
       "Type_Sporty            0.058502\n",
       "Type_Van               0.810684\n",
       "AirBags_Driver only    0.053615\n",
       "AirBags_None           0.000342\n",
       "DriveTrain_Front       0.324955\n",
       "DriveTrain_Rear        0.015668\n",
       "Cylinders_4            0.628581\n",
       "Cylinders_5            0.594660\n",
       "Cylinders_6            0.884602\n",
       "Cylinders_8            0.615501\n",
       "Cylinders_rotary       0.241107\n",
       "Man.trans.avail_Yes    0.368069\n",
       "Passengers_4           0.093243\n",
       "Passengers_5           0.179295\n",
       "Passengers_6           0.219592\n",
       "Passengers_7           0.560033\n",
       "Passengers_8           0.965243\n",
       "Origin_non-USA         0.594265\n",
       "dtype: float64"
      ]
     },
     "execution_count": 37,
     "metadata": {},
     "output_type": "execute_result"
    }
   ],
   "source": [
    "p = pd.Series(model.pvalues.values[1:],index = cols) \n",
    "p   "
   ]
  },
  {
   "cell_type": "code",
   "execution_count": null,
   "metadata": {
    "colab": {
     "base_uri": "https://localhost:8080/"
    },
    "executionInfo": {
     "elapsed": 457,
     "status": "ok",
     "timestamp": 1671522096070,
     "user": {
      "displayName": "Mahesh Anand",
      "userId": "06788086636039591358"
     },
     "user_tz": -330
    },
    "id": "4uhdjTfdPCsj",
    "outputId": "1f0e20e0-ae6c-4093-f846-207e7cb3a4c9"
   },
   "outputs": [
    {
     "data": {
      "text/plain": [
       "0.9652430209432822"
      ]
     },
     "execution_count": 38,
     "metadata": {},
     "output_type": "execute_result"
    }
   ],
   "source": [
    "pmax = max(p)\n",
    "pmax"
   ]
  },
  {
   "cell_type": "code",
   "execution_count": null,
   "metadata": {
    "colab": {
     "base_uri": "https://localhost:8080/",
     "height": 35
    },
    "executionInfo": {
     "elapsed": 553,
     "status": "ok",
     "timestamp": 1671522100887,
     "user": {
      "displayName": "Mahesh Anand",
      "userId": "06788086636039591358"
     },
     "user_tz": -330
    },
    "id": "zevpHBDUPLfn",
    "outputId": "e7d5e5ae-fe36-4bfd-bfb6-31f1cc8dc581"
   },
   "outputs": [
    {
     "data": {
      "application/vnd.google.colaboratory.intrinsic+json": {
       "type": "string"
      },
      "text/plain": [
       "'Passengers_8'"
      ]
     },
     "execution_count": 39,
     "metadata": {},
     "output_type": "execute_result"
    }
   ],
   "source": [
    "p.idxmax()"
   ]
  },
  {
   "cell_type": "code",
   "execution_count": null,
   "metadata": {
    "id": "cBn80oGxPUy8"
   },
   "outputs": [],
   "source": [
    "cols.remove(p.idxmax())"
   ]
  },
  {
   "cell_type": "code",
   "execution_count": 47,
   "metadata": {
    "colab": {
     "base_uri": "https://localhost:8080/"
    },
    "executionInfo": {
     "elapsed": 468,
     "status": "ok",
     "timestamp": 1677565373312,
     "user": {
      "displayName": "Mahesh Anand",
      "userId": "06788086636039591358"
     },
     "user_tz": -330
    },
    "id": "_zJ0kPdfm8Rl",
    "outputId": "e350d474-0f9c-48c5-8ab0-98df6d4466b9"
   },
   "outputs": [
    {
     "name": "stdout",
     "output_type": "stream",
     "text": [
      "['MPG.city', 'Horsepower', 'Width', 'Turn.circle', 'Rear.seat.room', 'Type_Midsize', 'AirBags_None', 'Cylinders_4', 'Cylinders_8']\n"
     ]
    }
   ],
   "source": [
    "#Feature Selection by Recursive Backward Elimination\n",
    "cols = list(X.columns)\n",
    "pmax = 1\n",
    "while (len(cols)>0):\n",
    "    p= []\n",
    "    X = X[cols]\n",
    "    Xc = sm.add_constant(X)\n",
    "    model = sm.OLS(Y,Xc).fit()\n",
    "    p = pd.Series(model.pvalues.values[1:],index = cols)      \n",
    "    pmax = max(p)\n",
    "    feature_with_p_max = p.idxmax()\n",
    "    if(pmax>0.05):\n",
    "        cols.remove(feature_with_p_max)\n",
    "    else:\n",
    "        break\n",
    "selected_features = cols\n",
    "print(selected_features)"
   ]
  },
  {
   "cell_type": "code",
   "execution_count": 48,
   "metadata": {
    "colab": {
     "base_uri": "https://localhost:8080/",
     "height": 270
    },
    "executionInfo": {
     "elapsed": 11,
     "status": "ok",
     "timestamp": 1677565376864,
     "user": {
      "displayName": "Mahesh Anand",
      "userId": "06788086636039591358"
     },
     "user_tz": -330
    },
    "id": "bx94NkvZcuPN",
    "outputId": "354ef9c1-4445-4246-dbe4-a186ac29cc45"
   },
   "outputs": [
    {
     "data": {
      "text/html": [
       "\n",
       "  <div id=\"df-763faf16-3659-4ddb-b387-48dd6e3e5d14\">\n",
       "    <div class=\"colab-df-container\">\n",
       "      <div>\n",
       "<style scoped>\n",
       "    .dataframe tbody tr th:only-of-type {\n",
       "        vertical-align: middle;\n",
       "    }\n",
       "\n",
       "    .dataframe tbody tr th {\n",
       "        vertical-align: top;\n",
       "    }\n",
       "\n",
       "    .dataframe thead th {\n",
       "        text-align: right;\n",
       "    }\n",
       "</style>\n",
       "<table border=\"1\" class=\"dataframe\">\n",
       "  <thead>\n",
       "    <tr style=\"text-align: right;\">\n",
       "      <th></th>\n",
       "      <th>MPG.city</th>\n",
       "      <th>Horsepower</th>\n",
       "      <th>Width</th>\n",
       "      <th>Turn.circle</th>\n",
       "      <th>Rear.seat.room</th>\n",
       "      <th>Type_Midsize</th>\n",
       "      <th>AirBags_None</th>\n",
       "      <th>Cylinders_4</th>\n",
       "      <th>Cylinders_8</th>\n",
       "    </tr>\n",
       "  </thead>\n",
       "  <tbody>\n",
       "    <tr>\n",
       "      <th>1</th>\n",
       "      <td>25</td>\n",
       "      <td>140</td>\n",
       "      <td>68</td>\n",
       "      <td>37</td>\n",
       "      <td>26.5</td>\n",
       "      <td>0</td>\n",
       "      <td>1</td>\n",
       "      <td>1</td>\n",
       "      <td>0</td>\n",
       "    </tr>\n",
       "    <tr>\n",
       "      <th>2</th>\n",
       "      <td>18</td>\n",
       "      <td>200</td>\n",
       "      <td>71</td>\n",
       "      <td>38</td>\n",
       "      <td>30.0</td>\n",
       "      <td>1</td>\n",
       "      <td>0</td>\n",
       "      <td>0</td>\n",
       "      <td>0</td>\n",
       "    </tr>\n",
       "    <tr>\n",
       "      <th>3</th>\n",
       "      <td>20</td>\n",
       "      <td>172</td>\n",
       "      <td>67</td>\n",
       "      <td>37</td>\n",
       "      <td>28.0</td>\n",
       "      <td>0</td>\n",
       "      <td>0</td>\n",
       "      <td>0</td>\n",
       "      <td>0</td>\n",
       "    </tr>\n",
       "    <tr>\n",
       "      <th>4</th>\n",
       "      <td>19</td>\n",
       "      <td>172</td>\n",
       "      <td>70</td>\n",
       "      <td>37</td>\n",
       "      <td>31.0</td>\n",
       "      <td>1</td>\n",
       "      <td>0</td>\n",
       "      <td>0</td>\n",
       "      <td>0</td>\n",
       "    </tr>\n",
       "    <tr>\n",
       "      <th>5</th>\n",
       "      <td>22</td>\n",
       "      <td>208</td>\n",
       "      <td>69</td>\n",
       "      <td>39</td>\n",
       "      <td>27.0</td>\n",
       "      <td>1</td>\n",
       "      <td>0</td>\n",
       "      <td>1</td>\n",
       "      <td>0</td>\n",
       "    </tr>\n",
       "  </tbody>\n",
       "</table>\n",
       "</div>\n",
       "      <button class=\"colab-df-convert\" onclick=\"convertToInteractive('df-763faf16-3659-4ddb-b387-48dd6e3e5d14')\"\n",
       "              title=\"Convert this dataframe to an interactive table.\"\n",
       "              style=\"display:none;\">\n",
       "        \n",
       "  <svg xmlns=\"http://www.w3.org/2000/svg\" height=\"24px\"viewBox=\"0 0 24 24\"\n",
       "       width=\"24px\">\n",
       "    <path d=\"M0 0h24v24H0V0z\" fill=\"none\"/>\n",
       "    <path d=\"M18.56 5.44l.94 2.06.94-2.06 2.06-.94-2.06-.94-.94-2.06-.94 2.06-2.06.94zm-11 1L8.5 8.5l.94-2.06 2.06-.94-2.06-.94L8.5 2.5l-.94 2.06-2.06.94zm10 10l.94 2.06.94-2.06 2.06-.94-2.06-.94-.94-2.06-.94 2.06-2.06.94z\"/><path d=\"M17.41 7.96l-1.37-1.37c-.4-.4-.92-.59-1.43-.59-.52 0-1.04.2-1.43.59L10.3 9.45l-7.72 7.72c-.78.78-.78 2.05 0 2.83L4 21.41c.39.39.9.59 1.41.59.51 0 1.02-.2 1.41-.59l7.78-7.78 2.81-2.81c.8-.78.8-2.07 0-2.86zM5.41 20L4 18.59l7.72-7.72 1.47 1.35L5.41 20z\"/>\n",
       "  </svg>\n",
       "      </button>\n",
       "      \n",
       "  <style>\n",
       "    .colab-df-container {\n",
       "      display:flex;\n",
       "      flex-wrap:wrap;\n",
       "      gap: 12px;\n",
       "    }\n",
       "\n",
       "    .colab-df-convert {\n",
       "      background-color: #E8F0FE;\n",
       "      border: none;\n",
       "      border-radius: 50%;\n",
       "      cursor: pointer;\n",
       "      display: none;\n",
       "      fill: #1967D2;\n",
       "      height: 32px;\n",
       "      padding: 0 0 0 0;\n",
       "      width: 32px;\n",
       "    }\n",
       "\n",
       "    .colab-df-convert:hover {\n",
       "      background-color: #E2EBFA;\n",
       "      box-shadow: 0px 1px 2px rgba(60, 64, 67, 0.3), 0px 1px 3px 1px rgba(60, 64, 67, 0.15);\n",
       "      fill: #174EA6;\n",
       "    }\n",
       "\n",
       "    [theme=dark] .colab-df-convert {\n",
       "      background-color: #3B4455;\n",
       "      fill: #D2E3FC;\n",
       "    }\n",
       "\n",
       "    [theme=dark] .colab-df-convert:hover {\n",
       "      background-color: #434B5C;\n",
       "      box-shadow: 0px 1px 3px 1px rgba(0, 0, 0, 0.15);\n",
       "      filter: drop-shadow(0px 1px 2px rgba(0, 0, 0, 0.3));\n",
       "      fill: #FFFFFF;\n",
       "    }\n",
       "  </style>\n",
       "\n",
       "      <script>\n",
       "        const buttonEl =\n",
       "          document.querySelector('#df-763faf16-3659-4ddb-b387-48dd6e3e5d14 button.colab-df-convert');\n",
       "        buttonEl.style.display =\n",
       "          google.colab.kernel.accessAllowed ? 'block' : 'none';\n",
       "\n",
       "        async function convertToInteractive(key) {\n",
       "          const element = document.querySelector('#df-763faf16-3659-4ddb-b387-48dd6e3e5d14');\n",
       "          const dataTable =\n",
       "            await google.colab.kernel.invokeFunction('convertToInteractive',\n",
       "                                                     [key], {});\n",
       "          if (!dataTable) return;\n",
       "\n",
       "          const docLinkHtml = 'Like what you see? Visit the ' +\n",
       "            '<a target=\"_blank\" href=https://colab.research.google.com/notebooks/data_table.ipynb>data table notebook</a>'\n",
       "            + ' to learn more about interactive tables.';\n",
       "          element.innerHTML = '';\n",
       "          dataTable['output_type'] = 'display_data';\n",
       "          await google.colab.output.renderOutput(dataTable, element);\n",
       "          const docLink = document.createElement('div');\n",
       "          docLink.innerHTML = docLinkHtml;\n",
       "          element.appendChild(docLink);\n",
       "        }\n",
       "      </script>\n",
       "    </div>\n",
       "  </div>\n",
       "  "
      ],
      "text/plain": [
       "   MPG.city  Horsepower  Width  Turn.circle  Rear.seat.room  Type_Midsize  \\\n",
       "1        25         140     68           37            26.5             0   \n",
       "2        18         200     71           38            30.0             1   \n",
       "3        20         172     67           37            28.0             0   \n",
       "4        19         172     70           37            31.0             1   \n",
       "5        22         208     69           39            27.0             1   \n",
       "\n",
       "   AirBags_None  Cylinders_4  Cylinders_8  \n",
       "1             1            1            0  \n",
       "2             0            0            0  \n",
       "3             0            0            0  \n",
       "4             0            0            0  \n",
       "5             0            1            0  "
      ]
     },
     "execution_count": 48,
     "metadata": {},
     "output_type": "execute_result"
    }
   ],
   "source": [
    "X_new=X[selected_features]\n",
    "X_new.head()"
   ]
  },
  {
   "cell_type": "code",
   "execution_count": 49,
   "metadata": {
    "colab": {
     "base_uri": "https://localhost:8080/"
    },
    "executionInfo": {
     "elapsed": 468,
     "status": "ok",
     "timestamp": 1677565389479,
     "user": {
      "displayName": "Mahesh Anand",
      "userId": "06788086636039591358"
     },
     "user_tz": -330
    },
    "id": "DcR7S6ISR2se",
    "outputId": "c3dfee9f-26a4-49bb-c5c0-2a68ea75a889"
   },
   "outputs": [
    {
     "name": "stdout",
     "output_type": "stream",
     "text": [
      "Bias_Error 4.190497212126392\n",
      "Var_Error 0.4817780815321962\n"
     ]
    }
   ],
   "source": [
    "LR=LinearRegression()\n",
    "from sklearn.model_selection import cross_val_score,KFold\n",
    "kf=KFold(n_splits=3,shuffle=True,random_state=0) #explicit definition\n",
    "rmse=cross_val_score(LR,X_new,Y,cv=kf,scoring='neg_root_mean_squared_error')\n",
    "rmse_avg=np.mean(np.abs(rmse))\n",
    "rmse_sd=np.std(np.abs(rmse),ddof=1)\n",
    "print('Bias_Error',rmse_avg)\n",
    "print('Var_Error',rmse_sd)"
   ]
  },
  {
   "cell_type": "code",
   "execution_count": 28,
   "metadata": {
    "executionInfo": {
     "elapsed": 3,
     "status": "ok",
     "timestamp": 1677564479878,
     "user": {
      "displayName": "Mahesh Anand",
      "userId": "06788086636039591358"
     },
     "user_tz": -330
    },
    "id": "YIeQuy8OQtSd"
   },
   "outputs": [],
   "source": [
    "from sklearn.linear_model import LinearRegression\n",
    "from sklearn.neighbors import KNeighborsRegressor\n",
    "from sklearn.ensemble import BaggingRegressor,AdaBoostRegressor,GradientBoostingRegressor,RandomForestRegressor,VotingRegressor\n",
    "from sklearn.model_selection import cross_val_score,GridSearchCV\n"
   ]
  },
  {
   "cell_type": "code",
   "execution_count": 29,
   "metadata": {
    "executionInfo": {
     "elapsed": 2,
     "status": "ok",
     "timestamp": 1677564481373,
     "user": {
      "displayName": "Mahesh Anand",
      "userId": "06788086636039591358"
     },
     "user_tz": -330
    },
    "id": "kGPARARWAimo"
   },
   "outputs": [],
   "source": [
    "from sklearn.preprocessing import StandardScaler"
   ]
  },
  {
   "cell_type": "code",
   "execution_count": 30,
   "metadata": {
    "executionInfo": {
     "elapsed": 2,
     "status": "ok",
     "timestamp": 1677564483534,
     "user": {
      "displayName": "Mahesh Anand",
      "userId": "06788086636039591358"
     },
     "user_tz": -330
    },
    "id": "j2UxTpEPAwpK"
   },
   "outputs": [],
   "source": [
    "sc=StandardScaler()"
   ]
  },
  {
   "cell_type": "code",
   "execution_count": 31,
   "metadata": {
    "executionInfo": {
     "elapsed": 5,
     "status": "ok",
     "timestamp": 1677564484928,
     "user": {
      "displayName": "Mahesh Anand",
      "userId": "06788086636039591358"
     },
     "user_tz": -330
    },
    "id": "reqCQZSIAqRg"
   },
   "outputs": [],
   "source": [
    "X_std=sc.fit_transform(X_new)"
   ]
  },
  {
   "cell_type": "code",
   "execution_count": null,
   "metadata": {
    "colab": {
     "base_uri": "https://localhost:8080/"
    },
    "executionInfo": {
     "elapsed": 4,
     "status": "ok",
     "timestamp": 1671594434158,
     "user": {
      "displayName": "Mahesh Anand",
      "userId": "06788086636039591358"
     },
     "user_tz": -330
    },
    "id": "zS80Ybv2Xec_",
    "outputId": "6d1a3856-b0a4-4008-9081-b0cdfe689013"
   },
   "outputs": [
    {
     "data": {
      "text/plain": [
       "GridSearchCV(cv=KFold(n_splits=3, random_state=0, shuffle=True),\n",
       "             estimator=KNeighborsRegressor(),\n",
       "             param_grid={'n_neighbors': array([ 2,  3,  4,  5,  6,  7,  8,  9, 10, 11, 12, 13, 14, 15, 16, 17, 18,\n",
       "       19]),\n",
       "                         'weights': ['uniform', 'distance']},\n",
       "             scoring='neg_root_mean_squared_error')"
      ]
     },
     "execution_count": 25,
     "metadata": {},
     "output_type": "execute_result"
    }
   ],
   "source": [
    "knn=KNeighborsRegressor()\n",
    "hyp_par={'n_neighbors':np.arange(2,20),'weights':['uniform','distance']}\n",
    "kf=KFold(n_splits=3,shuffle=True,random_state=0)\n",
    "GS=GridSearchCV(knn,hyp_par,cv=kf,scoring='neg_root_mean_squared_error')\n",
    "GS.fit(X_std,Y)"
   ]
  },
  {
   "cell_type": "code",
   "execution_count": null,
   "metadata": {
    "colab": {
     "base_uri": "https://localhost:8080/"
    },
    "executionInfo": {
     "elapsed": 405,
     "status": "ok",
     "timestamp": 1671594437098,
     "user": {
      "displayName": "Mahesh Anand",
      "userId": "06788086636039591358"
     },
     "user_tz": -330
    },
    "id": "ykvJUBDVYJOf",
    "outputId": "85257c92-65a4-471b-f002-9fe0667f017c"
   },
   "outputs": [
    {
     "data": {
      "text/plain": [
       "{'n_neighbors': 14, 'weights': 'distance'}"
      ]
     },
     "execution_count": 26,
     "metadata": {},
     "output_type": "execute_result"
    }
   ],
   "source": [
    "GS.best_params_"
   ]
  },
  {
   "cell_type": "code",
   "execution_count": null,
   "metadata": {
    "id": "zxqwkEpBZsoo"
   },
   "outputs": [],
   "source": [
    "knn_tuned=KNeighborsRegressor(n_neighbors=14,weights='distance')"
   ]
  },
  {
   "cell_type": "code",
   "execution_count": null,
   "metadata": {
    "colab": {
     "base_uri": "https://localhost:8080/"
    },
    "executionInfo": {
     "elapsed": 2,
     "status": "ok",
     "timestamp": 1671594441484,
     "user": {
      "displayName": "Mahesh Anand",
      "userId": "06788086636039591358"
     },
     "user_tz": -330
    },
    "id": "Iw0vaztxZoDU",
    "outputId": "3c72a72b-4acf-40a6-ee4d-a69b65c4d4a3"
   },
   "outputs": [
    {
     "name": "stdout",
     "output_type": "stream",
     "text": [
      "Bias_Error 6.764871702129425\n",
      "Var_Error 2.4022071405396974\n"
     ]
    }
   ],
   "source": [
    "rmse=cross_val_score(knn_tuned,X_std,Y,cv=kf,scoring='neg_root_mean_squared_error')\n",
    "rmse_avg=np.mean(np.abs(rmse))\n",
    "rmse_sd=np.std(np.abs(rmse),ddof=1)\n",
    "print('Bias_Error',rmse_avg)\n",
    "print('Var_Error',rmse_sd)"
   ]
  },
  {
   "cell_type": "code",
   "execution_count": null,
   "metadata": {
    "id": "mmtlK0yDftJt"
   },
   "outputs": [],
   "source": [
    "GB_bias=[]\n",
    "GB_ve=[]\n",
    "for n in np.arange(1,100):\n",
    "  GB=GradientBoostingRegressor(n_estimators=n,random_state=0)\n",
    "  scores=cross_val_score(GB,X_std,Y,cv=3,scoring='neg_mean_squared_error')\n",
    "  rmse=np.sqrt(np.abs(scores))\n",
    "  GB_bias.append(np.mean(rmse))\n",
    "  GB_ve.append((np.std(rmse,ddof=1)))\n"
   ]
  },
  {
   "cell_type": "code",
   "execution_count": null,
   "metadata": {
    "colab": {
     "base_uri": "https://localhost:8080/",
     "height": 385
    },
    "executionInfo": {
     "elapsed": 8,
     "status": "ok",
     "timestamp": 1671598674478,
     "user": {
      "displayName": "Mahesh Anand",
      "userId": "06788086636039591358"
     },
     "user_tz": -330
    },
    "id": "uEoTnGNVsqOx",
    "outputId": "90f9127d-907b-4eff-b9bb-b0fb8a9aa9dc"
   },
   "outputs": [
    {
     "data": {
      "text/plain": [
       "[<matplotlib.lines.Line2D at 0x7fce18f45910>]"
      ]
     },
     "execution_count": 56,
     "metadata": {},
     "output_type": "execute_result"
    },
    {
     "data": {
      "image/png": "[encoded data removed]",
      "text/plain": [
       "<Figure size 1080x576 with 1 Axes>"
      ]
     },
     "metadata": {
      "needs_background": "light"
     },
     "output_type": "display_data"
    }
   ],
   "source": [
    "x_axis=np.arange(len(GB_bias))\n",
    "plt.plot(x_axis,GB_bias)"
   ]
  },
  {
   "cell_type": "code",
   "execution_count": null,
   "metadata": {
    "colab": {
     "base_uri": "https://localhost:8080/"
    },
    "executionInfo": {
     "elapsed": 386,
     "status": "ok",
     "timestamp": 1671598678093,
     "user": {
      "displayName": "Mahesh Anand",
      "userId": "06788086636039591358"
     },
     "user_tz": -330
    },
    "id": "zuAXDszas_WG",
    "outputId": "243ca9b2-5b68-4c76-f4a4-605f0f5cfc53"
   },
   "outputs": [
    {
     "data": {
      "text/plain": [
       "12"
      ]
     },
     "execution_count": 57,
     "metadata": {},
     "output_type": "execute_result"
    }
   ],
   "source": [
    "np.argmin(GB_bias)"
   ]
  },
  {
   "cell_type": "code",
   "execution_count": null,
   "metadata": {
    "id": "9KvnpYbzBu6B"
   },
   "outputs": [],
   "source": [
    "ABLR_BE=[]\n",
    "for n in np.arange(1,100):\n",
    "  ABLR=AdaBoostRegressor(base_estimator=LR,n_estimators=n,random_state=0)\n",
    "  scores=cross_val_score(ABLR,X_std,Y,cv=3,scoring='neg_mean_squared_error')\n",
    "  rmse=np.sqrt(np.abs(scores))\n",
    "  ABLR_BE.append(np.mean(rmse))"
   ]
  },
  {
   "cell_type": "code",
   "execution_count": null,
   "metadata": {
    "colab": {
     "base_uri": "https://localhost:8080/",
     "height": 385
    },
    "executionInfo": {
     "elapsed": 711,
     "status": "ok",
     "timestamp": 1671598530632,
     "user": {
      "displayName": "Mahesh Anand",
      "userId": "06788086636039591358"
     },
     "user_tz": -330
    },
    "id": "8eZHnEywCQ9e",
    "outputId": "0b545419-16bd-4056-9ad4-4d52bebdfe9a"
   },
   "outputs": [
    {
     "data": {
      "text/plain": [
       "[<matplotlib.lines.Line2D at 0x7fce18fea700>]"
      ]
     },
     "execution_count": 53,
     "metadata": {},
     "output_type": "execute_result"
    },
    {
     "data": {
      "image/png": "[encoded data removed]",
      "text/plain": [
       "<Figure size 1080x576 with 1 Axes>"
      ]
     },
     "metadata": {
      "needs_background": "light"
     },
     "output_type": "display_data"
    }
   ],
   "source": [
    "x_axis=np.arange(len(ABLR_BE))\n",
    "plt.plot(x_axis,ABLR_BE)"
   ]
  },
  {
   "cell_type": "code",
   "execution_count": null,
   "metadata": {
    "colab": {
     "base_uri": "https://localhost:8080/"
    },
    "executionInfo": {
     "elapsed": 3,
     "status": "ok",
     "timestamp": 1671598563271,
     "user": {
      "displayName": "Mahesh Anand",
      "userId": "06788086636039591358"
     },
     "user_tz": -330
    },
    "id": "_NQOGxZfCbuX",
    "outputId": "34b1e95e-a1ba-44ee-9f70-e617a1c6635e"
   },
   "outputs": [
    {
     "data": {
      "text/plain": [
       "7"
      ]
     },
     "execution_count": 54,
     "metadata": {},
     "output_type": "execute_result"
    }
   ],
   "source": [
    "np.argmin(ABLR_BE)"
   ]
  },
  {
   "cell_type": "code",
   "execution_count": null,
   "metadata": {
    "id": "h46pqOd3uA8L"
   },
   "outputs": [],
   "source": [
    "AB_bias=[]\n",
    "for n in np.arange(1,150):\n",
    "  AB=AdaBoostRegressor(n_estimators=n,random_state=0)\n",
    "  scores=cross_val_score(AB,X_std,Y,cv=3,scoring='neg_mean_squared_error')\n",
    "  rmse=np.sqrt(np.abs(scores))\n",
    "  AB_bias.append(np.mean(rmse))"
   ]
  },
  {
   "cell_type": "code",
   "execution_count": null,
   "metadata": {
    "id": "eyFt2tcYBt-B"
   },
   "outputs": [],
   "source": []
  },
  {
   "cell_type": "code",
   "execution_count": null,
   "metadata": {
    "colab": {
     "base_uri": "https://localhost:8080/",
     "height": 385
    },
    "executionInfo": {
     "elapsed": 26,
     "status": "ok",
     "timestamp": 1671597176939,
     "user": {
      "displayName": "Mahesh Anand",
      "userId": "06788086636039591358"
     },
     "user_tz": -330
    },
    "id": "ESLSQhTu8_wM",
    "outputId": "df6f0dcf-148b-4088-b825-fa6f7288913f"
   },
   "outputs": [
    {
     "data": {
      "text/plain": [
       "[<matplotlib.lines.Line2D at 0x7fce19bdb310>]"
      ]
     },
     "execution_count": 40,
     "metadata": {},
     "output_type": "execute_result"
    },
    {
     "data": {
      "image/png": "[encoded data removed]",
      "text/plain": [
       "<Figure size 1080x576 with 1 Axes>"
      ]
     },
     "metadata": {
      "needs_background": "light"
     },
     "output_type": "display_data"
    }
   ],
   "source": [
    "x_axis=np.arange(len(AB_bias))\n",
    "plt.plot(x_axis,AB_bias)"
   ]
  },
  {
   "cell_type": "code",
   "execution_count": null,
   "metadata": {
    "colab": {
     "base_uri": "https://localhost:8080/"
    },
    "executionInfo": {
     "elapsed": 5,
     "status": "ok",
     "timestamp": 1671597208535,
     "user": {
      "displayName": "Mahesh Anand",
      "userId": "06788086636039591358"
     },
     "user_tz": -330
    },
    "id": "QT7PlmDF9Owh",
    "outputId": "6c121e33-7b41-4e9d-b990-7e1ba9af4022"
   },
   "outputs": [
    {
     "data": {
      "text/plain": [
       "130"
      ]
     },
     "execution_count": 41,
     "metadata": {},
     "output_type": "execute_result"
    }
   ],
   "source": [
    "np.argmin(AB_bias)"
   ]
  },
  {
   "cell_type": "code",
   "execution_count": null,
   "metadata": {
    "id": "N0UagpI8AAH6"
   },
   "outputs": [],
   "source": [
    "RF_tuned=RandomForestRegressor(criterion='mse',n_estimators=3,random_state=0)"
   ]
  },
  {
   "cell_type": "code",
   "execution_count": null,
   "metadata": {
    "id": "qbltQPgKrnXs"
   },
   "outputs": [],
   "source": [
    "ABRF_bias=[]\n",
    "ABRF_var=[]\n",
    "for n in np.arange(1,100):\n",
    "  ABRF=AdaBoostRegressor(base_estimator=RF_tuned,n_estimators=n,random_state=0)\n",
    "  kf=KFold(n_splits=3,shuffle=True,random_state=2)\n",
    "  scores=cross_val_score(ABRF,X_std,Y,cv=kf,scoring='neg_mean_squared_error')\n",
    "  rmse=np.sqrt(np.abs(scores))\n",
    "  ABRF_bias.append(np.mean(rmse))\n",
    "  ABRF_var.append(np.std(rmse,ddof=1))"
   ]
  },
  {
   "cell_type": "code",
   "execution_count": null,
   "metadata": {
    "colab": {
     "base_uri": "https://localhost:8080/",
     "height": 385
    },
    "executionInfo": {
     "elapsed": 849,
     "status": "ok",
     "timestamp": 1671597920135,
     "user": {
      "displayName": "Mahesh Anand",
      "userId": "06788086636039591358"
     },
     "user_tz": -330
    },
    "id": "q9bKllXkuK6M",
    "outputId": "f1d4e0a2-fb61-4135-b68e-ecdb21db7c9c"
   },
   "outputs": [
    {
     "data": {
      "text/plain": [
       "[<matplotlib.lines.Line2D at 0x7fce19ad19d0>]"
      ]
     },
     "execution_count": 45,
     "metadata": {},
     "output_type": "execute_result"
    },
    {
     "data": {
      "image/png": "[encoded data removed]",
      "text/plain": [
       "<Figure size 1080x576 with 1 Axes>"
      ]
     },
     "metadata": {
      "needs_background": "light"
     },
     "output_type": "display_data"
    }
   ],
   "source": [
    "x_axis=np.arange(len(ABRF_bias))\n",
    "plt.plot(x_axis,ABRF_bias)"
   ]
  },
  {
   "cell_type": "code",
   "execution_count": null,
   "metadata": {
    "colab": {
     "base_uri": "https://localhost:8080/"
    },
    "executionInfo": {
     "elapsed": 3,
     "status": "ok",
     "timestamp": 1671597934202,
     "user": {
      "displayName": "Mahesh Anand",
      "userId": "06788086636039591358"
     },
     "user_tz": -330
    },
    "id": "REqGElX6uVHG",
    "outputId": "58721661-dae9-437d-daee-8cd625706f2a"
   },
   "outputs": [
    {
     "data": {
      "text/plain": [
       "(38, 5.980191507891412, 2.343440313150832)"
      ]
     },
     "execution_count": 47,
     "metadata": {},
     "output_type": "execute_result"
    }
   ],
   "source": [
    "np.argmin(ABRF_bias),np.min(ABRF_bias),ABRF_var[38]"
   ]
  },
  {
   "cell_type": "code",
   "execution_count": null,
   "metadata": {
    "id": "WtAsCvI8BlH1"
   },
   "outputs": [],
   "source": [
    "kf=KFold(n_splits=3,shuffle=True,random_state=0)"
   ]
  },
  {
   "cell_type": "code",
   "execution_count": null,
   "metadata": {
    "id": "NbCz8055urL0"
   },
   "outputs": [],
   "source": [
    "Bag_bias=[]\n",
    "Bag_var=[]\n",
    "for n in np.arange(1,100):\n",
    "  Bag=BaggingRegressor(base_estimator=LR,n_estimators=n,random_state=0)\n",
    "  scores=cross_val_score(Bag,X_std,Y,cv=kf,scoring='neg_mean_squared_error')\n",
    "  rmse=np.sqrt(np.abs(scores))\n",
    "  Bag_bias.append(np.mean(rmse))\n",
    "  Bag_var.append(np.std(rmse,ddof=1))"
   ]
  },
  {
   "cell_type": "code",
   "execution_count": null,
   "metadata": {
    "colab": {
     "base_uri": "https://localhost:8080/",
     "height": 385
    },
    "executionInfo": {
     "elapsed": 700,
     "status": "ok",
     "timestamp": 1671598209281,
     "user": {
      "displayName": "Mahesh Anand",
      "userId": "06788086636039591358"
     },
     "user_tz": -330
    },
    "id": "rM1a3AqBRRFT",
    "outputId": "6825d205-5b57-4327-d00c-5043d4300716"
   },
   "outputs": [
    {
     "data": {
      "text/plain": [
       "[<matplotlib.lines.Line2D at 0x7fce19b63250>]"
      ]
     },
     "execution_count": 50,
     "metadata": {},
     "output_type": "execute_result"
    },
    {
     "data": {
      "image/png": "[encoded data removed]",
      "text/plain": [
       "<Figure size 1080x576 with 1 Axes>"
      ]
     },
     "metadata": {
      "needs_background": "light"
     },
     "output_type": "display_data"
    }
   ],
   "source": [
    "x_axis=np.arange(len(Bag_var))\n",
    "plt.plot(x_axis,Bag_var)"
   ]
  },
  {
   "cell_type": "code",
   "execution_count": null,
   "metadata": {
    "colab": {
     "base_uri": "https://localhost:8080/"
    },
    "executionInfo": {
     "elapsed": 360,
     "status": "ok",
     "timestamp": 1671598228869,
     "user": {
      "displayName": "Mahesh Anand",
      "userId": "06788086636039591358"
     },
     "user_tz": -330
    },
    "id": "GCuY3MWsu-mi",
    "outputId": "a66ce1d4-1afc-4ddd-97d0-26e2f1864827"
   },
   "outputs": [
    {
     "data": {
      "text/plain": [
       "(0.8663426982372638, 3)"
      ]
     },
     "execution_count": 51,
     "metadata": {},
     "output_type": "execute_result"
    }
   ],
   "source": [
    "np.min(Bag_var),np.argmin(Bag_var)"
   ]
  },
  {
   "cell_type": "code",
   "execution_count": null,
   "metadata": {
    "colab": {
     "base_uri": "https://localhost:8080/",
     "height": 34
    },
    "executionInfo": {
     "elapsed": 885,
     "status": "ok",
     "timestamp": 1591699955774,
     "user": {
      "displayName": "Mahesh Anand",
      "photoUrl": "https://lh3.googleusercontent.com/a-/AOh14GiAxRvO4nLPhI4SJLaIoUVmhr8lm1tddyCLyKOj=s64",
      "userId": "06788086636039591358"
     },
     "user_tz": -330
    },
    "id": "kLDtZBt4wCsw",
    "outputId": "b2a6c990-7d61-41c5-cbc5-4c5895f7e5e2"
   },
   "outputs": [
    {
     "data": {
      "text/plain": [
       "(5.074089662178369, 58, 1.140983721505519)"
      ]
     },
     "execution_count": 52,
     "metadata": {
      "tags": []
     },
     "output_type": "execute_result"
    }
   ],
   "source": [
    "np.min(Bag_bias),np.argmin(Bag_bias),Bag_var[58]"
   ]
  },
  {
   "cell_type": "code",
   "execution_count": null,
   "metadata": {
    "colab": {
     "base_uri": "https://localhost:8080/",
     "height": 34
    },
    "executionInfo": {
     "elapsed": 915,
     "status": "ok",
     "timestamp": 1591700031121,
     "user": {
      "displayName": "Mahesh Anand",
      "photoUrl": "https://lh3.googleusercontent.com/a-/AOh14GiAxRvO4nLPhI4SJLaIoUVmhr8lm1tddyCLyKOj=s64",
      "userId": "06788086636039591358"
     },
     "user_tz": -330
    },
    "id": "X9kPIZxptrc9",
    "outputId": "01d58bbf-5e5e-4fcc-c62a-c1aa15551de8"
   },
   "outputs": [
    {
     "data": {
      "text/plain": [
       "0.001968503937007832"
      ]
     },
     "execution_count": 53,
     "metadata": {
      "tags": []
     },
     "output_type": "execute_result"
    }
   ],
   "source": [
    "(5.08-5.07)/5.08"
   ]
  },
  {
   "cell_type": "code",
   "execution_count": null,
   "metadata": {
    "colab": {
     "base_uri": "https://localhost:8080/",
     "height": 34
    },
    "executionInfo": {
     "elapsed": 1182,
     "status": "ok",
     "timestamp": 1591700066958,
     "user": {
      "displayName": "Mahesh Anand",
      "photoUrl": "https://lh3.googleusercontent.com/a-/AOh14GiAxRvO4nLPhI4SJLaIoUVmhr8lm1tddyCLyKOj=s64",
      "userId": "06788086636039591358"
     },
     "user_tz": -330
    },
    "id": "a6JA7RHPt1WE",
    "outputId": "6fdb7190-3eb8-43d7-96a1-0213d7b6caa5"
   },
   "outputs": [
    {
     "data": {
      "text/plain": [
       "0.026315789473684043"
      ]
     },
     "execution_count": 54,
     "metadata": {
      "tags": []
     },
     "output_type": "execute_result"
    }
   ],
   "source": [
    "(1.14-1.11)/1.14"
   ]
  },
  {
   "cell_type": "code",
   "execution_count": null,
   "metadata": {
    "id": "CJW06mP067kk"
   },
   "outputs": [],
   "source": [
    "from sklearn.model_selection import cross_val_score,KFold"
   ]
  },
  {
   "cell_type": "code",
   "execution_count": null,
   "metadata": {
    "id": "6O1kEhOkvEKT"
   },
   "outputs": [],
   "source": [
    "RF_bias=[]\n",
    "RF_var=[]\n",
    "for n in np.arange(1,100):\n",
    "  RF=RandomForestRegressor(criterion='mse',n_estimators=n,random_state=0)\n",
    "  kf=KFold(n_splits=3,shuffle=True,random_state=2)\n",
    "  scores=cross_val_score(RF,X_std,Y,cv=kf,scoring='neg_mean_squared_error')\n",
    "  rmse=np.sqrt(np.abs(scores))\n",
    "  RF_bias.append(np.mean(rmse))\n",
    "  RF_var.append(np.std(rmse,ddof=1))"
   ]
  },
  {
   "cell_type": "code",
   "execution_count": null,
   "metadata": {
    "colab": {
     "base_uri": "https://localhost:8080/",
     "height": 385
    },
    "executionInfo": {
     "elapsed": 889,
     "status": "ok",
     "timestamp": 1671596251706,
     "user": {
      "displayName": "Mahesh Anand",
      "userId": "06788086636039591358"
     },
     "user_tz": -330
    },
    "id": "ycvYWNFp7II5",
    "outputId": "97aba452-9862-457a-88be-08b64969a895"
   },
   "outputs": [
    {
     "data": {
      "text/plain": [
       "[<matplotlib.lines.Line2D at 0x7fce19c01730>]"
      ]
     },
     "execution_count": 35,
     "metadata": {},
     "output_type": "execute_result"
    },
    {
     "data": {
      "image/png": "[encoded data removed]",
      "text/plain": [
       "<Figure size 1080x576 with 1 Axes>"
      ]
     },
     "metadata": {
      "needs_background": "light"
     },
     "output_type": "display_data"
    }
   ],
   "source": [
    "x_axis=np.arange(len(RF_var))\n",
    "plt.plot(x_axis,RF_var)"
   ]
  },
  {
   "cell_type": "code",
   "execution_count": null,
   "metadata": {
    "colab": {
     "base_uri": "https://localhost:8080/"
    },
    "executionInfo": {
     "elapsed": 512,
     "status": "ok",
     "timestamp": 1671596671116,
     "user": {
      "displayName": "Mahesh Anand",
      "userId": "06788086636039591358"
     },
     "user_tz": -330
    },
    "id": "y4r6dIeSE1Mj",
    "outputId": "b2c87ec1-0413-4278-d725-e210687b7926"
   },
   "outputs": [
    {
     "data": {
      "text/plain": [
       "(2, 1.249247329646863, 6.455822473658756)"
      ]
     },
     "execution_count": 38,
     "metadata": {},
     "output_type": "execute_result"
    }
   ],
   "source": [
    "np.argmin(RF_var),np.min(RF_var),RF_bias[2]"
   ]
  },
  {
   "cell_type": "code",
   "execution_count": null,
   "metadata": {
    "id": "vUWwlMjleBpq"
   },
   "outputs": [],
   "source": [
    "LR=LinearRegression()\n",
    "knn_tuned=KNeighborsRegressor(n_neighbors=14,weights='distance')\n",
    "LR_bag=BaggingRegressor(base_estimator=LR,n_estimators=4,random_state=0)\n",
    "LR_AB=AdaBoostRegressor(base_estimator=LR,n_estimators=8,random_state=0)\n",
    "RF_AB=AdaBoostRegressor(base_estimator=RF_tuned,n_estimators=139,random_state=0)\n",
    "DT_AB=AdaBoostRegressor(n_estimators=131,random_state=0)\n",
    "LR_GB=GradientBoostingRegressor(n_estimators=13,random_state=0)\n",
    "RF_tuned=RandomForestRegressor(criterion='mse',n_estimators=3,random_state=0)\n",
    "stacked = VotingRegressor(estimators = [('LR', LR),('Boosted_LR', LR_AB)])"
   ]
  },
  {
   "cell_type": "code",
   "execution_count": null,
   "metadata": {
    "id": "MsOXxC8rQr1w"
   },
   "outputs": [],
   "source": [
    "models = []\n",
    "models.append(('LinearRegression', LR))\n",
    "models.append(('KNN',knn_tuned))\n",
    "models.append(('BaggedLR',LR_bag))\n",
    "models.append(('BoostedLR',LR_AB))\n",
    "models.append(('BoostedRF',RF_AB))\n",
    "models.append(('BoostedDT',DT_AB))\n",
    "models.append(('GBoost',LR_GB))\n",
    "models.append(('RF',RF_tuned))\n",
    "models.append(('Stacked',stacked))"
   ]
  },
  {
   "cell_type": "code",
   "execution_count": null,
   "metadata": {
    "colab": {
     "base_uri": "https://localhost:8080/",
     "height": 569
    },
    "executionInfo": {
     "elapsed": 4126,
     "status": "ok",
     "timestamp": 1671600175350,
     "user": {
      "displayName": "Mahesh Anand",
      "userId": "06788086636039591358"
     },
     "user_tz": -330
    },
    "id": "AIjRN_8gQkEF",
    "outputId": "9d3a7632-5851-46b6-f165-6eed25c6269e"
   },
   "outputs": [
    {
     "name": "stdout",
     "output_type": "stream",
     "text": [
      "LinearRegression: 5.249720 (1.072713)\n",
      "KNN: 6.764872 (2.402207)\n",
      "BaggedLR: 5.504179 (0.994648)\n",
      "BoostedLR: 5.701468 (0.718078)\n",
      "BoostedRF: 6.031649 (2.014441)\n",
      "BoostedDT: 6.318296 (2.088840)\n",
      "GBoost: 6.364465 (2.100128)\n",
      "RF: 6.888327 (2.750117)\n",
      "Stacked: 5.408697 (0.882436)\n"
     ]
    },
    {
     "data": {
      "image/png": "[encoded data removed]",
      "text/plain": [
       "<Figure size 1080x576 with 1 Axes>"
      ]
     },
     "metadata": {
      "needs_background": "light"
     },
     "output_type": "display_data"
    }
   ],
   "source": [
    "# evaluate each model in turn\n",
    "results = []\n",
    "names = []\n",
    "for name, model in models:\n",
    "\tkfold = model_selection.KFold(shuffle=True,n_splits=3,random_state=0)\n",
    "\tcv_results = model_selection.cross_val_score(model, X_std, Y,cv=kfold, scoring='neg_mean_squared_error')\n",
    "\tresults.append(np.sqrt(np.abs(cv_results)))\n",
    "\tnames.append(name)\n",
    "\tprint(\"%s: %f (%f)\" % (name, np.mean(np.sqrt(np.abs(cv_results))),np.std(np.sqrt(np.abs(cv_results)),ddof=1)))\n",
    "   # boxplot algorithm comparison\n",
    "fig = plt.figure()\n",
    "fig.suptitle('Algorithm Comparison')\n",
    "ax = fig.add_subplot(111)\n",
    "plt.boxplot(results)\n",
    "ax.set_xticklabels(names)\n",
    "plt.show()"
   ]
  },
  {
   "cell_type": "code",
   "execution_count": null,
   "metadata": {
    "colab": {
     "base_uri": "https://localhost:8080/"
    },
    "executionInfo": {
     "elapsed": 363,
     "status": "ok",
     "timestamp": 1671599827937,
     "user": {
      "displayName": "Mahesh Anand",
      "userId": "06788086636039591358"
     },
     "user_tz": -330
    },
    "id": "AO6vzd66HKQC",
    "outputId": "e59d0a68-e40d-4910-bd8f-42696bfad048"
   },
   "outputs": [
    {
     "data": {
      "text/plain": [
       "0.011094674556213109"
      ]
     },
     "execution_count": 75,
     "metadata": {},
     "output_type": "execute_result"
    }
   ],
   "source": [
    "(5.408-5.348)/5.408"
   ]
  },
  {
   "cell_type": "code",
   "execution_count": null,
   "metadata": {
    "colab": {
     "base_uri": "https://localhost:8080/"
    },
    "executionInfo": {
     "elapsed": 357,
     "status": "ok",
     "timestamp": 1671599876319,
     "user": {
      "displayName": "Mahesh Anand",
      "userId": "06788086636039591358"
     },
     "user_tz": -330
    },
    "id": "mpRqiEahHaEA",
    "outputId": "959127c4-4fb2-4dc2-b68e-31b53a46cb50"
   },
   "outputs": [
    {
     "data": {
      "text/plain": [
       "0.10909090909090907"
      ]
     },
     "execution_count": 76,
     "metadata": {},
     "output_type": "execute_result"
    }
   ],
   "source": [
    "(.990-.882)/.990"
   ]
  },
  {
   "cell_type": "code",
   "execution_count": null,
   "metadata": {
    "colab": {
     "base_uri": "https://localhost:8080/"
    },
    "executionInfo": {
     "elapsed": 528,
     "status": "ok",
     "timestamp": 1641641548568,
     "user": {
      "displayName": "Mahesh Anand",
      "photoUrl": "https://lh3.googleusercontent.com/a-/AOh14GjrgsRhu_m9R1mX1R2osLnbO2LcUFIvlC-8Zz6HBA=s64",
      "userId": "06788086636039591358"
     },
     "user_tz": -330
    },
    "id": "FDiUiBzodXzL",
    "outputId": "ab06c357-1ff8-42d0-bc69-0a28637db490"
   },
   "outputs": [
    {
     "data": {
      "text/plain": [
       "0.011092754307292826"
      ]
     },
     "execution_count": 120,
     "metadata": {},
     "output_type": "execute_result"
    }
   ],
   "source": [
    "(4.237-4.190)/4.237"
   ]
  },
  {
   "cell_type": "code",
   "execution_count": null,
   "metadata": {
    "colab": {
     "base_uri": "https://localhost:8080/"
    },
    "executionInfo": {
     "elapsed": 563,
     "status": "ok",
     "timestamp": 1641641585967,
     "user": {
      "displayName": "Mahesh Anand",
      "photoUrl": "https://lh3.googleusercontent.com/a-/AOh14GjrgsRhu_m9R1mX1R2osLnbO2LcUFIvlC-8Zz6HBA=s64",
      "userId": "06788086636039591358"
     },
     "user_tz": -330
    },
    "id": "qWzFuDtxdjtP",
    "outputId": "5ea17a57-dbf9-43c9-fed5-4af1a281abb2"
   },
   "outputs": [
    {
     "data": {
      "text/plain": [
       "0.03950103950103942"
      ]
     },
     "execution_count": 121,
     "metadata": {},
     "output_type": "execute_result"
    }
   ],
   "source": [
    "(0.481-.462)/.481"
   ]
  },
  {
   "cell_type": "code",
   "execution_count": null,
   "metadata": {
    "colab": {
     "base_uri": "https://localhost:8080/"
    },
    "executionInfo": {
     "elapsed": 606,
     "status": "ok",
     "timestamp": 1628667326630,
     "user": {
      "displayName": "Mahesh Anand",
      "photoUrl": "https://lh3.googleusercontent.com/a-/AOh14Ghy47CXBCGfpGm71ElmYPDEY5c3AQB5tdq4ROpemw=s64",
      "userId": "06788086636039591358"
     },
     "user_tz": -330
    },
    "id": "oSL0GDHwTEvt",
    "outputId": "502850d5-21a1-40af-add2-248640ef72ce"
   },
   "outputs": [
    {
     "data": {
      "text/plain": [
       "0.11332258758774805"
      ]
     },
     "execution_count": 41,
     "metadata": {
      "tags": []
     },
     "output_type": "execute_result"
    }
   ],
   "source": [
    "(0.873524-0.774534)/0.873524"
   ]
  },
  {
   "cell_type": "code",
   "execution_count": null,
   "metadata": {
    "colab": {
     "base_uri": "https://localhost:8080/"
    },
    "executionInfo": {
     "elapsed": 10,
     "status": "ok",
     "timestamp": 1628667300256,
     "user": {
      "displayName": "Mahesh Anand",
      "photoUrl": "https://lh3.googleusercontent.com/a-/AOh14Ghy47CXBCGfpGm71ElmYPDEY5c3AQB5tdq4ROpemw=s64",
      "userId": "06788086636039591358"
     },
     "user_tz": -330
    },
    "id": "3cvuRa8MGaVg",
    "outputId": "34c1622e-ab78-4360-9695-6b7c3f32fdd6"
   },
   "outputs": [
    {
     "data": {
      "text/plain": [
       "0.015221360436803446"
      ]
     },
     "execution_count": 40,
     "metadata": {
      "tags": []
     },
     "output_type": "execute_result"
    }
   ],
   "source": [
    "(5.299592-5.218925)/5.299592"
   ]
  },
  {
   "cell_type": "code",
   "execution_count": null,
   "metadata": {
    "colab": {
     "base_uri": "https://localhost:8080/",
     "height": 34
    },
    "executionInfo": {
     "elapsed": 1234,
     "status": "ok",
     "timestamp": 1598336987741,
     "user": {
      "displayName": "Mahesh Anand",
      "photoUrl": "https://lh3.googleusercontent.com/a-/AOh14GiAxRvO4nLPhI4SJLaIoUVmhr8lm1tddyCLyKOj=s64",
      "userId": "06788086636039591358"
     },
     "user_tz": -330
    },
    "id": "JxVUEGabGVk_",
    "outputId": "d0d83c80-999c-45e1-d1aa-fc8e2a2f5da3"
   },
   "outputs": [
    {
     "data": {
      "text/plain": [
       "0.07778491244372761"
      ]
     },
     "execution_count": 32,
     "metadata": {
      "tags": []
     },
     "output_type": "execute_result"
    }
   ],
   "source": [
    "(5.746590-5.299592)/5.746590"
   ]
  },
  {
   "cell_type": "code",
   "execution_count": null,
   "metadata": {
    "id": "JY73ZLQ62gQk"
   },
   "outputs": [],
   "source": [
    "#Final Inference\n",
    "#5.746590 (0.559691)\n",
    "#[$5187-$6305]\n",
    "\n",
    "#3 datasets \n",
    "#glu  => 8.56, 2.45\n",
    "#explore more models, =>4.23,.96\n"
   ]
  },
  {
   "cell_type": "code",
   "execution_count": null,
   "metadata": {
    "colab": {
     "base_uri": "https://localhost:8080/",
     "height": 34
    },
    "executionInfo": {
     "elapsed": 962,
     "status": "ok",
     "timestamp": 1591702250794,
     "user": {
      "displayName": "Mahesh Anand",
      "photoUrl": "https://lh3.googleusercontent.com/a-/AOh14GiAxRvO4nLPhI4SJLaIoUVmhr8lm1tddyCLyKOj=s64",
      "userId": "06788086636039591358"
     },
     "user_tz": -330
    },
    "id": "Hj0GJspi1rrx",
    "outputId": "f6a07067-fd54-4e1a-9e48-e4c4fcddd89e"
   },
   "outputs": [
    {
     "data": {
      "text/plain": [
       "0.07823596254474402"
      ]
     },
     "execution_count": 81,
     "metadata": {
      "tags": []
     },
     "output_type": "execute_result"
    }
   ],
   "source": [
    "(5.746590-5.297)/5.746590"
   ]
  },
  {
   "cell_type": "code",
   "execution_count": null,
   "metadata": {
    "colab": {
     "base_uri": "https://localhost:8080/",
     "height": 34
    },
    "executionInfo": {
     "elapsed": 939,
     "status": "ok",
     "timestamp": 1591702297282,
     "user": {
      "displayName": "Mahesh Anand",
      "photoUrl": "https://lh3.googleusercontent.com/a-/AOh14GiAxRvO4nLPhI4SJLaIoUVmhr8lm1tddyCLyKOj=s64",
      "userId": "06788086636039591358"
     },
     "user_tz": -330
    },
    "id": "NdPuLDFz14gF",
    "outputId": "3d3ed878-4d58-48ee-be69-20fbd782a356"
   },
   "outputs": [
    {
     "data": {
      "text/plain": [
       "0.2731163938685373"
      ]
     },
     "execution_count": 82,
     "metadata": {
      "tags": []
     },
     "output_type": "execute_result"
    }
   ],
   "source": [
    "(0.769845-0.5596)/0.7698"
   ]
  },
  {
   "cell_type": "code",
   "execution_count": null,
   "metadata": {
    "id": "SlOEjn_-yptT"
   },
   "outputs": [],
   "source": [
    "from sklearn.neighbors import KNeighborsRegressor\n",
    "from sklearn.preprocessing import StandardScaler"
   ]
  },
  {
   "cell_type": "code",
   "execution_count": null,
   "metadata": {
    "id": "khC75Aeszy5c"
   },
   "outputs": [],
   "source": [
    "knn=KNeighborsRegressor()\n",
    "knn_params={'n_neighbors':np.arange(1,20),'weights':['uniform','distance']}"
   ]
  },
  {
   "cell_type": "code",
   "execution_count": null,
   "metadata": {
    "id": "x-n7A1rFzy2y"
   },
   "outputs": [],
   "source": [
    "GS=GridSearchCV(knn,knn_params,cv=3,scoring='neg_mean_squared_error')"
   ]
  },
  {
   "cell_type": "code",
   "execution_count": null,
   "metadata": {
    "id": "0aynDBte0Cph"
   },
   "outputs": [],
   "source": [
    "X_scaled=StandardScaler().fit_transform(X_new)"
   ]
  },
  {
   "cell_type": "code",
   "execution_count": null,
   "metadata": {
    "colab": {
     "base_uri": "https://localhost:8080/",
     "height": 243
    },
    "executionInfo": {
     "elapsed": 3068,
     "status": "ok",
     "timestamp": 1591164429640,
     "user": {
      "displayName": "Mahesh Anand",
      "photoUrl": "https://lh3.googleusercontent.com/a-/AOh14GiAxRvO4nLPhI4SJLaIoUVmhr8lm1tddyCLyKOj=s64",
      "userId": "06788086636039591358"
     },
     "user_tz": -330
    },
    "id": "lb4e2S9t0Cvh",
    "outputId": "e5adc03a-d509-4757-f143-951b6f0ebb93"
   },
   "outputs": [
    {
     "data": {
      "text/plain": [
       "GridSearchCV(cv=3, error_score=nan,\n",
       "             estimator=KNeighborsRegressor(algorithm='auto', leaf_size=30,\n",
       "                                           metric='minkowski',\n",
       "                                           metric_params=None, n_jobs=None,\n",
       "                                           n_neighbors=5, p=2,\n",
       "                                           weights='uniform'),\n",
       "             iid='deprecated', n_jobs=None,\n",
       "             param_grid={'n_neighbors': array([ 1,  2,  3,  4,  5,  6,  7,  8,  9, 10, 11, 12, 13, 14, 15, 16, 17,\n",
       "       18, 19]),\n",
       "                         'weights': ['uniform', 'distance']},\n",
       "             pre_dispatch='2*n_jobs', refit=True, return_train_score=False,\n",
       "             scoring='neg_mean_squared_error', verbose=0)"
      ]
     },
     "execution_count": 27,
     "metadata": {
      "tags": []
     },
     "output_type": "execute_result"
    }
   ],
   "source": [
    "GS.fit(X_scaled,Y)"
   ]
  },
  {
   "cell_type": "code",
   "execution_count": null,
   "metadata": {
    "colab": {
     "base_uri": "https://localhost:8080/",
     "height": 34
    },
    "executionInfo": {
     "elapsed": 2040,
     "status": "ok",
     "timestamp": 1591164433816,
     "user": {
      "displayName": "Mahesh Anand",
      "photoUrl": "https://lh3.googleusercontent.com/a-/AOh14GiAxRvO4nLPhI4SJLaIoUVmhr8lm1tddyCLyKOj=s64",
      "userId": "06788086636039591358"
     },
     "user_tz": -330
    },
    "id": "gUeJCBV40PnN",
    "outputId": "fa1918d8-5a5c-42da-8cee-7323a10df05a"
   },
   "outputs": [
    {
     "data": {
      "text/plain": [
       "{'n_neighbors': 3, 'weights': 'distance'}"
      ]
     },
     "execution_count": 28,
     "metadata": {
      "tags": []
     },
     "output_type": "execute_result"
    }
   ],
   "source": [
    "GS.best_params_"
   ]
  },
  {
   "cell_type": "code",
   "execution_count": null,
   "metadata": {
    "id": "4-7exq0gz_eU"
   },
   "outputs": [],
   "source": [
    "rmse_ve=[]\n",
    "rmse_be=[]\n",
    "for n in np.arange(1,50):\n",
    "  KNN=KNeighborsRegressor(weights='distance',n_neighbors=n)\n",
    "  kfold = model_selection.KFold(shuffle=True,n_splits=3,random_state=0)\n",
    "  mse=model_selection.cross_val_score(KNN,X_scaled,Y,cv=kfold,scoring='neg_mean_squared_error')\n",
    "  rmse=np.sqrt(np.abs(mse))\n",
    "  rmse_ve.append(np.std(rmse,ddof=1))\n",
    "  rmse_be.append(np.mean(rmse))"
   ]
  },
  {
   "cell_type": "code",
   "execution_count": null,
   "metadata": {
    "colab": {
     "base_uri": "https://localhost:8080/",
     "height": 34
    },
    "executionInfo": {
     "elapsed": 940,
     "status": "ok",
     "timestamp": 1591701183891,
     "user": {
      "displayName": "Mahesh Anand",
      "photoUrl": "https://lh3.googleusercontent.com/a-/AOh14GiAxRvO4nLPhI4SJLaIoUVmhr8lm1tddyCLyKOj=s64",
      "userId": "06788086636039591358"
     },
     "user_tz": -330
    },
    "id": "JQR8FAnJxPfu",
    "outputId": "3978bea6-f003-4bc9-ac8d-c6909cf50910"
   },
   "outputs": [
    {
     "data": {
      "text/plain": [
       "(0.5950664644901348, 0, 6.532454581545693)"
      ]
     },
     "execution_count": 69,
     "metadata": {
      "tags": []
     },
     "output_type": "execute_result"
    }
   ],
   "source": [
    "np.min(rmse_ve),np.argmin(rmse_ve),rmse_be[0]"
   ]
  },
  {
   "cell_type": "code",
   "execution_count": null,
   "metadata": {
    "colab": {
     "base_uri": "https://localhost:8080/",
     "height": 34
    },
    "executionInfo": {
     "elapsed": 955,
     "status": "ok",
     "timestamp": 1591701193462,
     "user": {
      "displayName": "Mahesh Anand",
      "photoUrl": "https://lh3.googleusercontent.com/a-/AOh14GiAxRvO4nLPhI4SJLaIoUVmhr8lm1tddyCLyKOj=s64",
      "userId": "06788086636039591358"
     },
     "user_tz": -330
    },
    "id": "k53zgWnKxy4y",
    "outputId": "2599e249-2fb0-4389-b3c5-418bb5ebd61f"
   },
   "outputs": [
    {
     "data": {
      "text/plain": [
       "(6.0815675666956315, 1, 1.6391681005372636)"
      ]
     },
     "execution_count": 70,
     "metadata": {
      "tags": []
     },
     "output_type": "execute_result"
    }
   ],
   "source": [
    "np.min(rmse_be),np.argmin(rmse_be),rmse_ve[1]"
   ]
  },
  {
   "cell_type": "code",
   "execution_count": null,
   "metadata": {
    "colab": {
     "base_uri": "https://localhost:8080/",
     "height": 282
    },
    "executionInfo": {
     "elapsed": 3088,
     "status": "ok",
     "timestamp": 1591700934145,
     "user": {
      "displayName": "Mahesh Anand",
      "photoUrl": "https://lh3.googleusercontent.com/a-/AOh14GiAxRvO4nLPhI4SJLaIoUVmhr8lm1tddyCLyKOj=s64",
      "userId": "06788086636039591358"
     },
     "user_tz": -330
    },
    "id": "wnC-ucl81QpM",
    "outputId": "9d9b8087-5ac2-4622-c75c-eaa10fad3455"
   },
   "outputs": [
    {
     "data": {
      "text/plain": [
       "[<matplotlib.lines.Line2D at 0x7f68697b7898>]"
      ]
     },
     "execution_count": 63,
     "metadata": {
      "tags": []
     },
     "output_type": "execute_result"
    },
    {
     "data": {
      "image/png": "[encoded data removed]",
      "text/plain": [
       "<Figure size 432x288 with 1 Axes>"
      ]
     },
     "metadata": {
      "needs_background": "light",
      "tags": []
     },
     "output_type": "display_data"
    }
   ],
   "source": [
    "x_axis=np.arange(len(rmse_ve))\n",
    "plt.plot(x_axis,rmse_ve)"
   ]
  },
  {
   "cell_type": "code",
   "execution_count": null,
   "metadata": {
    "colab": {
     "base_uri": "https://localhost:8080/",
     "height": 282
    },
    "executionInfo": {
     "elapsed": 1325,
     "status": "ok",
     "timestamp": 1591165428239,
     "user": {
      "displayName": "Mahesh Anand",
      "photoUrl": "https://lh3.googleusercontent.com/a-/AOh14GiAxRvO4nLPhI4SJLaIoUVmhr8lm1tddyCLyKOj=s64",
      "userId": "06788086636039591358"
     },
     "user_tz": -330
    },
    "id": "EwZ5uCP_2Tbi",
    "outputId": "81a7bcc0-f457-4679-dd9e-1be6e453092c"
   },
   "outputs": [
    {
     "data": {
      "text/plain": [
       "[<matplotlib.lines.Line2D at 0x7fb5cc78d5f8>]"
      ]
     },
     "execution_count": 46,
     "metadata": {
      "tags": []
     },
     "output_type": "execute_result"
    },
    {
     "data": {
      "image/png": "[encoded data removed]",
      "text/plain": [
       "<Figure size 432x288 with 1 Axes>"
      ]
     },
     "metadata": {
      "needs_background": "light",
      "tags": []
     },
     "output_type": "display_data"
    }
   ],
   "source": [
    "x_axis=np.arange(len(rmse_be))\n",
    "plt.plot(x_axis,rmse_be)"
   ]
  },
  {
   "cell_type": "code",
   "execution_count": null,
   "metadata": {
    "colab": {
     "base_uri": "https://localhost:8080/",
     "height": 34
    },
    "executionInfo": {
     "elapsed": 1085,
     "status": "ok",
     "timestamp": 1591165481685,
     "user": {
      "displayName": "Mahesh Anand",
      "photoUrl": "https://lh3.googleusercontent.com/a-/AOh14GiAxRvO4nLPhI4SJLaIoUVmhr8lm1tddyCLyKOj=s64",
      "userId": "06788086636039591358"
     },
     "user_tz": -330
    },
    "id": "v2LVZLld2gxY",
    "outputId": "a5c6fd67-4f89-40d1-f7c6-a9ffa5c720b4"
   },
   "outputs": [
    {
     "data": {
      "text/plain": [
       "1"
      ]
     },
     "execution_count": 48,
     "metadata": {
      "tags": []
     },
     "output_type": "execute_result"
    }
   ],
   "source": [
    "np.argmin(rmse_be) #corresponding n_neigh=2, with be=6.15,ve=1.53\n",
    "#choice-1: [$4620 to $7680]\n",
    "#choice-2: [5940 to $7120]\n",
    "#We go with choice-2,'coz we get 64.5% reduction in VE compared to m1 by\n",
    "#trading off just 6% in the BE"
   ]
  },
  {
   "cell_type": "code",
   "execution_count": null,
   "metadata": {
    "id": "DjVoKVFB5gYF"
   },
   "outputs": [],
   "source": [
    "#RF Vs #KNN\n"
   ]
  },
  {
   "cell_type": "code",
   "execution_count": null,
   "metadata": {
    "colab": {
     "base_uri": "https://localhost:8080/",
     "height": 34
    },
    "executionInfo": {
     "elapsed": 1083,
     "status": "ok",
     "timestamp": 1591166098127,
     "user": {
      "displayName": "Mahesh Anand",
      "photoUrl": "https://lh3.googleusercontent.com/a-/AOh14GiAxRvO4nLPhI4SJLaIoUVmhr8lm1tddyCLyKOj=s64",
      "userId": "06788086636039591358"
     },
     "user_tz": -330
    },
    "id": "uEQsG8yG41ZS",
    "outputId": "c52c5e8d-74c3-4284-a65d-2e3a9017269e"
   },
   "outputs": [
    {
     "data": {
      "text/plain": [
       "0.6143790849673203"
      ]
     },
     "execution_count": 52,
     "metadata": {
      "tags": []
     },
     "output_type": "execute_result"
    }
   ],
   "source": [
    "(1.53-0.59)/1.53"
   ]
  },
  {
   "cell_type": "code",
   "execution_count": null,
   "metadata": {
    "colab": {
     "base_uri": "https://localhost:8080/",
     "height": 34
    },
    "executionInfo": {
     "elapsed": 1146,
     "status": "ok",
     "timestamp": 1591166141173,
     "user": {
      "displayName": "Mahesh Anand",
      "photoUrl": "https://lh3.googleusercontent.com/a-/AOh14GiAxRvO4nLPhI4SJLaIoUVmhr8lm1tddyCLyKOj=s64",
      "userId": "06788086636039591358"
     },
     "user_tz": -330
    },
    "id": "E_9RYq1N5BEd",
    "outputId": "9b39fd79-1a05-40e8-ee23-162d74a3dffc"
   },
   "outputs": [
    {
     "data": {
      "text/plain": [
       "0.0581929555895865"
      ]
     },
     "execution_count": 53,
     "metadata": {
      "tags": []
     },
     "output_type": "execute_result"
    }
   ],
   "source": [
    "(6.53-6.15)/6.53"
   ]
  },
  {
   "cell_type": "markdown",
   "metadata": {
    "id": "DvenQMvzu1i3"
   },
   "source": []
  },
  {
   "cell_type": "code",
   "execution_count": null,
   "metadata": {
    "colab": {
     "base_uri": "https://localhost:8080/",
     "height": 34
    },
    "executionInfo": {
     "elapsed": 1059,
     "status": "ok",
     "timestamp": 1591165636567,
     "user": {
      "displayName": "Mahesh Anand",
      "photoUrl": "https://lh3.googleusercontent.com/a-/AOh14GiAxRvO4nLPhI4SJLaIoUVmhr8lm1tddyCLyKOj=s64",
      "userId": "06788086636039591358"
     },
     "user_tz": -330
    },
    "id": "o224zM9t3A0-",
    "outputId": "cae46413-d7e3-4848-9cfd-1f940648cd0c"
   },
   "outputs": [
    {
     "data": {
      "text/plain": [
       "0.5950664644901348"
      ]
     },
     "execution_count": 50,
     "metadata": {
      "tags": []
     },
     "output_type": "execute_result"
    }
   ],
   "source": [
    "rmse_ve[0]   #with n_neigh=1, ve=0.59 wi=6.53th be"
   ]
  },
  {
   "cell_type": "code",
   "execution_count": null,
   "metadata": {
    "colab": {
     "base_uri": "https://localhost:8080/",
     "height": 34
    },
    "executionInfo": {
     "elapsed": 1108,
     "status": "ok",
     "timestamp": 1591165684667,
     "user": {
      "displayName": "Mahesh Anand",
      "photoUrl": "https://lh3.googleusercontent.com/a-/AOh14GiAxRvO4nLPhI4SJLaIoUVmhr8lm1tddyCLyKOj=s64",
      "userId": "06788086636039591358"
     },
     "user_tz": -330
    },
    "id": "OHYnivPr3Uwo",
    "outputId": "e0934af6-756f-4828-b7ee-91c62124ce0a"
   },
   "outputs": [
    {
     "data": {
      "text/plain": [
       "6.532454581545693"
      ]
     },
     "execution_count": 51,
     "metadata": {
      "tags": []
     },
     "output_type": "execute_result"
    }
   ],
   "source": [
    "rmse_be[0]"
   ]
  },
  {
   "cell_type": "code",
   "execution_count": null,
   "metadata": {
    "id": "-2BQ4oUW4ssq"
   },
   "outputs": [],
   "source": [
    "KNN=KNeighborsRegressor(n_neighbors=1)\n",
    "RF=RandomForestRegressor(criterion='mse',n_estimators=10)"
   ]
  },
  {
   "cell_type": "code",
   "execution_count": null,
   "metadata": {
    "id": "fRTsRLjxKkew"
   },
   "outputs": [],
   "source": [
    "models = []\n",
    "models.append(('RandomForest', RF))\n",
    "models.append(('KNN',KNN))"
   ]
  },
  {
   "cell_type": "code",
   "execution_count": null,
   "metadata": {
    "colab": {
     "base_uri": "https://localhost:8080/",
     "height": 328
    },
    "executionInfo": {
     "elapsed": 1141,
     "status": "ok",
     "timestamp": 1591164717359,
     "user": {
      "displayName": "Mahesh Anand",
      "photoUrl": "https://lh3.googleusercontent.com/a-/AOh14GiAxRvO4nLPhI4SJLaIoUVmhr8lm1tddyCLyKOj=s64",
      "userId": "06788086636039591358"
     },
     "user_tz": -330
    },
    "id": "qsyMiBb8Kkbt",
    "outputId": "6a751d4b-8a88-4a2c-e9a1-5a4e3af57502"
   },
   "outputs": [
    {
     "name": "stdout",
     "output_type": "stream",
     "text": [
      "RandomForest: 6.459632 (1.325236)\n",
      "KNN: 6.125137 (1.728460)\n"
     ]
    },
    {
     "data": {
      "image/png": "[encoded data removed]",
      "text/plain": [
       "<Figure size 432x288 with 1 Axes>"
      ]
     },
     "metadata": {
      "needs_background": "light",
      "tags": []
     },
     "output_type": "display_data"
    }
   ],
   "source": [
    "# evaluate each model in turn\n",
    "results = []\n",
    "names = []\n",
    "for name, model in models:\n",
    "\tkfold = model_selection.KFold(shuffle=True,n_splits=3,random_state=0)\n",
    "\tcv_results = model_selection.cross_val_score(model, X_scaled, Y,cv=kfold, scoring='neg_mean_squared_error')\n",
    "\tresults.append(np.sqrt(np.abs(cv_results)))\n",
    "\tnames.append(name)\n",
    "\tprint(\"%s: %f (%f)\" % (name, np.mean(np.sqrt(np.abs(cv_results))),np.std(np.sqrt(np.abs(cv_results)),ddof=1)))\n",
    "   # boxplot algorithm comparison\n",
    "fig = plt.figure()\n",
    "fig.suptitle('Algorithm Comparison')\n",
    "ax = fig.add_subplot(111)\n",
    "plt.boxplot(results)\n",
    "ax.set_xticklabels(names)\n",
    "plt.show()"
   ]
  },
  {
   "cell_type": "code",
   "execution_count": null,
   "metadata": {
    "id": "ipNmFlWd01AI"
   },
   "outputs": [],
   "source": [
    "import warnings\n",
    "from sklearn.exceptions import DataConversionWarning\n",
    "warnings.filterwarnings(action='ignore', category=DataConversionWarning)"
   ]
  }
 ],
 "metadata": {
  "colab": {
   "provenance": []
  },
  "kernelspec": {
   "display_name": "Python 3 (ipykernel)",
   "language": "python",
   "name": "python3"
  },
  "language_info": {
   "codemirror_mode": {
    "name": "ipython",
    "version": 3
   },
   "file_extension": ".py",
   "mimetype": "text/x-python",
   "name": "python",
   "nbconvert_exporter": "python",
   "pygments_lexer": "ipython3",
   "version": "3.9.12"
  }
 },
 "nbformat": 4,
 "nbformat_minor": 1
}
